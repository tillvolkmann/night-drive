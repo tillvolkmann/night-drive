{
 "cells": [
  {
   "cell_type": "code",
   "execution_count": 1,
   "metadata": {},
   "outputs": [],
   "source": [
    "import glob\n",
    "import numpy as np\n",
    "import pandas as pd\n",
    "import plotly as py\n",
    "import cufflinks as cf\n",
    "%matplotlib inline"
   ]
  },
  {
   "cell_type": "code",
   "execution_count": 2,
   "metadata": {},
   "outputs": [],
   "source": [
    "train_A_over_logs = \"../eval/20190317_RetinaNet_train_A_over_eval/test_night\"\n",
    "train_B_over_logs = \"../eval/20190317_RetinaNet_train_B_over_eval/test_night\"\n",
    "train_C_over_logs = \"../eval/20190317_RetinaNet_train_C_over_eval/test_night\"\n",
    "train_A_over_ganaug_025_logs = \"../eval/20190324_RetinaNet_train_A_over_ganaug_025_eval/test_night\"\n",
    "train_A_over_ganaug_050_logs = \"../eval/20190324_RetinaNet_train_A_over_ganaug_050_eval/test_night\"\n",
    "train_A_over_ganaug_050_augonlyasbase_logs = \"../eval/20190327_RetinaNet_train_A_over_ganaug_050_augonlyasbase_eval/test_night\"\n",
    "pattern = \"/**/*.txt\"\n",
    "\n",
    "#train_A_over_logs = \"../eval/20190329_RetinaNet_train_A_over_class_eval/1\"\n",
    "#train_B_over_logs = \"../eval/20190329_RetinaNet_train_B_over_class_eval/1\"\n",
    "#train_C_over_logs = \"../eval/20190329_RetinaNet_train_C_over_class_eval/1\"\n",
    "#train_A_over_ganaug_025_logs = \"../eval/20190329_RetinaNet_train_A_over_ganaug_025_class_eval/1\"\n",
    "#train_A_over_ganaug_050_logs = \"../eval/20190329_RetinaNet_train_A_over_ganaug_050_class_eval/1\"\n",
    "#train_A_over_ganaug_050_augonlyasbase_logs = \"../eval/20190327_RetinaNet_train_A_over_ganaug_050_augonlyasbase_class_eval/1\"\n",
    "#pattern = \"/**/*test_model*.txt\"\n",
    "\n",
    "plot_title = \"Impact of GAN-based augmentation: person (test set, night fraction)\"\n",
    "\n",
    "train_A_over_iteration = 105000 # None = best\n",
    "train_B_over_iteration = 97500 # None = best\n",
    "train_C_over_iteration = 65000 # None = best\n",
    "train_A_over_ganaug_025_iteration = 42500 # None = best\n",
    "train_A_over_ganaug_050_iteration = 102500 # None = best\n",
    "train_A_over_ganaug_050_augonlyasbase_iteration = 47500 # None = best"
   ]
  },
  {
   "cell_type": "code",
   "execution_count": 3,
   "metadata": {},
   "outputs": [],
   "source": [
    "train_A_over_logs = glob.glob(train_A_over_logs + pattern, recursive = True)\n",
    "train_B_over_logs = glob.glob(train_B_over_logs + pattern, recursive = True)\n",
    "train_C_over_logs = glob.glob(train_C_over_logs + pattern, recursive = True)\n",
    "\n",
    "train_A_over_ganaug_025_logs = glob.glob(train_A_over_ganaug_025_logs + pattern, recursive = True)\n",
    "train_A_over_ganaug_050_logs = glob.glob(train_A_over_ganaug_050_logs + pattern, recursive = True)\n",
    "train_A_over_ganaug_050_augonlyasbase_logs = glob.glob(train_A_over_ganaug_050_augonlyasbase_logs + pattern, recursive = True)"
   ]
  },
  {
   "cell_type": "code",
   "execution_count": 4,
   "metadata": {},
   "outputs": [],
   "source": [
    "def logs2df(logs, iteration = None):\n",
    "    df_iterations = pd.DataFrame()\n",
    "    last_iteration = -1\n",
    "    for log in logs:\n",
    "        df = pd.read_csv(log)\n",
    "        df = df.drop(columns = [\"Unnamed: 12\"])\n",
    "        df[\"Iteration\"] = last_iteration if log.split(\"_model_\")[-1].split(\"_\")[0] == \"final\" else int(log.split(\"_model_\")[-1].split(\"_\")[0])\n",
    "        df_iterations = pd.concat([df_iterations, df], axis = 0)\n",
    "        df_iterations = df_iterations.reset_index(drop = True)\n",
    "        last_iteration = df[\"Iteration\"]\n",
    "    df_iterations = df_iterations.sort_values(by = ['Iteration']).reset_index(drop = True)\n",
    "    if iteration is not None:\n",
    "        df_iterations = df_iterations.loc[df_iterations.Iteration == iteration].drop_duplicates([\"Iteration\"], keep = \"last\").reset_index(drop = True)\n",
    "    df_iterations = df_iterations.set_index(\"Iteration\")\n",
    "    return df_iterations"
   ]
  },
  {
   "cell_type": "markdown",
   "metadata": {},
   "source": [
    "## Last (or other specified) iterations ##"
   ]
  },
  {
   "cell_type": "markdown",
   "metadata": {},
   "source": [
    "### --> All metrics are evaluated on the selected iteration <-- ###"
   ]
  },
  {
   "cell_type": "markdown",
   "metadata": {},
   "source": [
    "### train_A_over ###"
   ]
  },
  {
   "cell_type": "code",
   "execution_count": 5,
   "metadata": {},
   "outputs": [
    {
     "data": {
      "text/html": [
       "<div>\n",
       "<style scoped>\n",
       "    .dataframe tbody tr th:only-of-type {\n",
       "        vertical-align: middle;\n",
       "    }\n",
       "\n",
       "    .dataframe tbody tr th {\n",
       "        vertical-align: top;\n",
       "    }\n",
       "\n",
       "    .dataframe thead th {\n",
       "        text-align: right;\n",
       "    }\n",
       "</style>\n",
       "<table border=\"1\" class=\"dataframe\">\n",
       "  <thead>\n",
       "    <tr style=\"text-align: right;\">\n",
       "      <th></th>\n",
       "      <th>AP</th>\n",
       "      <th>AP50</th>\n",
       "      <th>AP75</th>\n",
       "      <th>APs</th>\n",
       "      <th>APm</th>\n",
       "      <th>APl</th>\n",
       "      <th>AR@1</th>\n",
       "      <th>AR@10</th>\n",
       "      <th>AR</th>\n",
       "      <th>ARs</th>\n",
       "      <th>ARm</th>\n",
       "      <th>ARl</th>\n",
       "    </tr>\n",
       "    <tr>\n",
       "      <th>Iteration</th>\n",
       "      <th></th>\n",
       "      <th></th>\n",
       "      <th></th>\n",
       "      <th></th>\n",
       "      <th></th>\n",
       "      <th></th>\n",
       "      <th></th>\n",
       "      <th></th>\n",
       "      <th></th>\n",
       "      <th></th>\n",
       "      <th></th>\n",
       "      <th></th>\n",
       "    </tr>\n",
       "  </thead>\n",
       "  <tbody>\n",
       "    <tr>\n",
       "      <th>105000</th>\n",
       "      <td>0.229694</td>\n",
       "      <td>0.529048</td>\n",
       "      <td>0.169722</td>\n",
       "      <td>0.129553</td>\n",
       "      <td>0.322344</td>\n",
       "      <td>0.39392</td>\n",
       "      <td>0.089034</td>\n",
       "      <td>0.304542</td>\n",
       "      <td>0.341172</td>\n",
       "      <td>0.250206</td>\n",
       "      <td>0.438456</td>\n",
       "      <td>0.460781</td>\n",
       "    </tr>\n",
       "  </tbody>\n",
       "</table>\n",
       "</div>"
      ],
      "text/plain": [
       "                 AP      AP50      AP75       APs       APm      APl  \\\n",
       "Iteration                                                              \n",
       "105000     0.229694  0.529048  0.169722  0.129553  0.322344  0.39392   \n",
       "\n",
       "               AR@1     AR@10        AR       ARs       ARm       ARl  \n",
       "Iteration                                                              \n",
       "105000     0.089034  0.304542  0.341172  0.250206  0.438456  0.460781  "
      ]
     },
     "execution_count": 5,
     "metadata": {},
     "output_type": "execute_result"
    }
   ],
   "source": [
    "df_train_A_over = logs2df(train_A_over_logs, train_A_over_iteration)\n",
    "df_train_A_over.head(1)"
   ]
  },
  {
   "cell_type": "code",
   "execution_count": 6,
   "metadata": {},
   "outputs": [
    {
     "data": {
      "text/html": [
       "<div>\n",
       "<style scoped>\n",
       "    .dataframe tbody tr th:only-of-type {\n",
       "        vertical-align: middle;\n",
       "    }\n",
       "\n",
       "    .dataframe tbody tr th {\n",
       "        vertical-align: top;\n",
       "    }\n",
       "\n",
       "    .dataframe thead th {\n",
       "        text-align: right;\n",
       "    }\n",
       "</style>\n",
       "<table border=\"1\" class=\"dataframe\">\n",
       "  <thead>\n",
       "    <tr style=\"text-align: right;\">\n",
       "      <th></th>\n",
       "      <th>AP</th>\n",
       "      <th>AP50</th>\n",
       "      <th>AP75</th>\n",
       "      <th>APs</th>\n",
       "      <th>APm</th>\n",
       "      <th>APl</th>\n",
       "      <th>AR@1</th>\n",
       "      <th>AR@10</th>\n",
       "      <th>AR</th>\n",
       "      <th>ARs</th>\n",
       "      <th>ARm</th>\n",
       "      <th>ARl</th>\n",
       "    </tr>\n",
       "  </thead>\n",
       "  <tbody>\n",
       "    <tr>\n",
       "      <th>0</th>\n",
       "      <td>105000</td>\n",
       "      <td>105000</td>\n",
       "      <td>105000</td>\n",
       "      <td>105000</td>\n",
       "      <td>105000</td>\n",
       "      <td>105000</td>\n",
       "      <td>105000</td>\n",
       "      <td>105000</td>\n",
       "      <td>105000</td>\n",
       "      <td>105000</td>\n",
       "      <td>105000</td>\n",
       "      <td>105000</td>\n",
       "    </tr>\n",
       "  </tbody>\n",
       "</table>\n",
       "</div>"
      ],
      "text/plain": [
       "       AP    AP50    AP75     APs     APm     APl    AR@1   AR@10      AR  \\\n",
       "0  105000  105000  105000  105000  105000  105000  105000  105000  105000   \n",
       "\n",
       "      ARs     ARm     ARl  \n",
       "0  105000  105000  105000  "
      ]
     },
     "execution_count": 6,
     "metadata": {},
     "output_type": "execute_result"
    }
   ],
   "source": [
    "df_train_A_over_best_iter_per_metric = df_train_A_over.idxmax().to_frame().T\n",
    "df_train_A_over_best_iter_per_metric.head(1)"
   ]
  },
  {
   "cell_type": "code",
   "execution_count": 7,
   "metadata": {},
   "outputs": [
    {
     "data": {
      "text/html": [
       "<div>\n",
       "<style scoped>\n",
       "    .dataframe tbody tr th:only-of-type {\n",
       "        vertical-align: middle;\n",
       "    }\n",
       "\n",
       "    .dataframe tbody tr th {\n",
       "        vertical-align: top;\n",
       "    }\n",
       "\n",
       "    .dataframe thead th {\n",
       "        text-align: right;\n",
       "    }\n",
       "</style>\n",
       "<table border=\"1\" class=\"dataframe\">\n",
       "  <thead>\n",
       "    <tr style=\"text-align: right;\">\n",
       "      <th></th>\n",
       "      <th>AP</th>\n",
       "      <th>AP50</th>\n",
       "      <th>AP75</th>\n",
       "      <th>APs</th>\n",
       "      <th>APm</th>\n",
       "      <th>APl</th>\n",
       "      <th>AR@1</th>\n",
       "      <th>AR@10</th>\n",
       "      <th>AR</th>\n",
       "      <th>ARs</th>\n",
       "      <th>ARm</th>\n",
       "      <th>ARl</th>\n",
       "    </tr>\n",
       "  </thead>\n",
       "  <tbody>\n",
       "    <tr>\n",
       "      <th>0</th>\n",
       "      <td>0.229694</td>\n",
       "      <td>0.529048</td>\n",
       "      <td>0.169722</td>\n",
       "      <td>0.129553</td>\n",
       "      <td>0.322344</td>\n",
       "      <td>0.39392</td>\n",
       "      <td>0.089034</td>\n",
       "      <td>0.304542</td>\n",
       "      <td>0.341172</td>\n",
       "      <td>0.250206</td>\n",
       "      <td>0.438456</td>\n",
       "      <td>0.460781</td>\n",
       "    </tr>\n",
       "  </tbody>\n",
       "</table>\n",
       "</div>"
      ],
      "text/plain": [
       "         AP      AP50      AP75       APs       APm      APl      AR@1  \\\n",
       "0  0.229694  0.529048  0.169722  0.129553  0.322344  0.39392  0.089034   \n",
       "\n",
       "      AR@10        AR       ARs       ARm       ARl  \n",
       "0  0.304542  0.341172  0.250206  0.438456  0.460781  "
      ]
     },
     "execution_count": 7,
     "metadata": {},
     "output_type": "execute_result"
    }
   ],
   "source": [
    "df_train_A_over_best_val_per_metric = df_train_A_over.max().to_frame().T\n",
    "df_train_A_over_best_val_per_metric.head(1)"
   ]
  },
  {
   "cell_type": "markdown",
   "metadata": {},
   "source": [
    "### train_B_over ###"
   ]
  },
  {
   "cell_type": "code",
   "execution_count": 8,
   "metadata": {},
   "outputs": [
    {
     "data": {
      "text/html": [
       "<div>\n",
       "<style scoped>\n",
       "    .dataframe tbody tr th:only-of-type {\n",
       "        vertical-align: middle;\n",
       "    }\n",
       "\n",
       "    .dataframe tbody tr th {\n",
       "        vertical-align: top;\n",
       "    }\n",
       "\n",
       "    .dataframe thead th {\n",
       "        text-align: right;\n",
       "    }\n",
       "</style>\n",
       "<table border=\"1\" class=\"dataframe\">\n",
       "  <thead>\n",
       "    <tr style=\"text-align: right;\">\n",
       "      <th></th>\n",
       "      <th>AP</th>\n",
       "      <th>AP50</th>\n",
       "      <th>AP75</th>\n",
       "      <th>APs</th>\n",
       "      <th>APm</th>\n",
       "      <th>APl</th>\n",
       "      <th>AR@1</th>\n",
       "      <th>AR@10</th>\n",
       "      <th>AR</th>\n",
       "      <th>ARs</th>\n",
       "      <th>ARm</th>\n",
       "      <th>ARl</th>\n",
       "    </tr>\n",
       "    <tr>\n",
       "      <th>Iteration</th>\n",
       "      <th></th>\n",
       "      <th></th>\n",
       "      <th></th>\n",
       "      <th></th>\n",
       "      <th></th>\n",
       "      <th></th>\n",
       "      <th></th>\n",
       "      <th></th>\n",
       "      <th></th>\n",
       "      <th></th>\n",
       "      <th></th>\n",
       "      <th></th>\n",
       "    </tr>\n",
       "  </thead>\n",
       "  <tbody>\n",
       "    <tr>\n",
       "      <th>97500</th>\n",
       "      <td>0.249378</td>\n",
       "      <td>0.569171</td>\n",
       "      <td>0.186611</td>\n",
       "      <td>0.139854</td>\n",
       "      <td>0.351464</td>\n",
       "      <td>0.440922</td>\n",
       "      <td>0.093469</td>\n",
       "      <td>0.321735</td>\n",
       "      <td>0.359491</td>\n",
       "      <td>0.263614</td>\n",
       "      <td>0.462605</td>\n",
       "      <td>0.478073</td>\n",
       "    </tr>\n",
       "  </tbody>\n",
       "</table>\n",
       "</div>"
      ],
      "text/plain": [
       "                 AP      AP50      AP75       APs       APm       APl  \\\n",
       "Iteration                                                               \n",
       "97500      0.249378  0.569171  0.186611  0.139854  0.351464  0.440922   \n",
       "\n",
       "               AR@1     AR@10        AR       ARs       ARm       ARl  \n",
       "Iteration                                                              \n",
       "97500      0.093469  0.321735  0.359491  0.263614  0.462605  0.478073  "
      ]
     },
     "execution_count": 8,
     "metadata": {},
     "output_type": "execute_result"
    }
   ],
   "source": [
    "df_train_B_over = logs2df(train_B_over_logs, train_B_over_iteration)\n",
    "df_train_B_over.head(1)"
   ]
  },
  {
   "cell_type": "code",
   "execution_count": 9,
   "metadata": {},
   "outputs": [
    {
     "data": {
      "text/html": [
       "<div>\n",
       "<style scoped>\n",
       "    .dataframe tbody tr th:only-of-type {\n",
       "        vertical-align: middle;\n",
       "    }\n",
       "\n",
       "    .dataframe tbody tr th {\n",
       "        vertical-align: top;\n",
       "    }\n",
       "\n",
       "    .dataframe thead th {\n",
       "        text-align: right;\n",
       "    }\n",
       "</style>\n",
       "<table border=\"1\" class=\"dataframe\">\n",
       "  <thead>\n",
       "    <tr style=\"text-align: right;\">\n",
       "      <th></th>\n",
       "      <th>AP</th>\n",
       "      <th>AP50</th>\n",
       "      <th>AP75</th>\n",
       "      <th>APs</th>\n",
       "      <th>APm</th>\n",
       "      <th>APl</th>\n",
       "      <th>AR@1</th>\n",
       "      <th>AR@10</th>\n",
       "      <th>AR</th>\n",
       "      <th>ARs</th>\n",
       "      <th>ARm</th>\n",
       "      <th>ARl</th>\n",
       "    </tr>\n",
       "  </thead>\n",
       "  <tbody>\n",
       "    <tr>\n",
       "      <th>0</th>\n",
       "      <td>97500</td>\n",
       "      <td>97500</td>\n",
       "      <td>97500</td>\n",
       "      <td>97500</td>\n",
       "      <td>97500</td>\n",
       "      <td>97500</td>\n",
       "      <td>97500</td>\n",
       "      <td>97500</td>\n",
       "      <td>97500</td>\n",
       "      <td>97500</td>\n",
       "      <td>97500</td>\n",
       "      <td>97500</td>\n",
       "    </tr>\n",
       "  </tbody>\n",
       "</table>\n",
       "</div>"
      ],
      "text/plain": [
       "      AP   AP50   AP75    APs    APm    APl   AR@1  AR@10     AR    ARs  \\\n",
       "0  97500  97500  97500  97500  97500  97500  97500  97500  97500  97500   \n",
       "\n",
       "     ARm    ARl  \n",
       "0  97500  97500  "
      ]
     },
     "execution_count": 9,
     "metadata": {},
     "output_type": "execute_result"
    }
   ],
   "source": [
    "df_train_B_over_best_iter_per_metric = df_train_B_over.idxmax().to_frame().T\n",
    "df_train_B_over_best_iter_per_metric.head(1)"
   ]
  },
  {
   "cell_type": "code",
   "execution_count": 10,
   "metadata": {},
   "outputs": [
    {
     "data": {
      "text/html": [
       "<div>\n",
       "<style scoped>\n",
       "    .dataframe tbody tr th:only-of-type {\n",
       "        vertical-align: middle;\n",
       "    }\n",
       "\n",
       "    .dataframe tbody tr th {\n",
       "        vertical-align: top;\n",
       "    }\n",
       "\n",
       "    .dataframe thead th {\n",
       "        text-align: right;\n",
       "    }\n",
       "</style>\n",
       "<table border=\"1\" class=\"dataframe\">\n",
       "  <thead>\n",
       "    <tr style=\"text-align: right;\">\n",
       "      <th></th>\n",
       "      <th>AP</th>\n",
       "      <th>AP50</th>\n",
       "      <th>AP75</th>\n",
       "      <th>APs</th>\n",
       "      <th>APm</th>\n",
       "      <th>APl</th>\n",
       "      <th>AR@1</th>\n",
       "      <th>AR@10</th>\n",
       "      <th>AR</th>\n",
       "      <th>ARs</th>\n",
       "      <th>ARm</th>\n",
       "      <th>ARl</th>\n",
       "    </tr>\n",
       "  </thead>\n",
       "  <tbody>\n",
       "    <tr>\n",
       "      <th>0</th>\n",
       "      <td>0.249378</td>\n",
       "      <td>0.569171</td>\n",
       "      <td>0.186611</td>\n",
       "      <td>0.139854</td>\n",
       "      <td>0.351464</td>\n",
       "      <td>0.440922</td>\n",
       "      <td>0.093469</td>\n",
       "      <td>0.321735</td>\n",
       "      <td>0.359491</td>\n",
       "      <td>0.263614</td>\n",
       "      <td>0.462605</td>\n",
       "      <td>0.478073</td>\n",
       "    </tr>\n",
       "  </tbody>\n",
       "</table>\n",
       "</div>"
      ],
      "text/plain": [
       "         AP      AP50      AP75       APs       APm       APl      AR@1  \\\n",
       "0  0.249378  0.569171  0.186611  0.139854  0.351464  0.440922  0.093469   \n",
       "\n",
       "      AR@10        AR       ARs       ARm       ARl  \n",
       "0  0.321735  0.359491  0.263614  0.462605  0.478073  "
      ]
     },
     "execution_count": 10,
     "metadata": {},
     "output_type": "execute_result"
    }
   ],
   "source": [
    "df_train_B_over_best_val_per_metric = df_train_B_over.max().to_frame().T\n",
    "df_train_B_over_best_val_per_metric.head(1)"
   ]
  },
  {
   "cell_type": "markdown",
   "metadata": {},
   "source": [
    "### train_C_over ###"
   ]
  },
  {
   "cell_type": "code",
   "execution_count": 11,
   "metadata": {},
   "outputs": [
    {
     "data": {
      "text/html": [
       "<div>\n",
       "<style scoped>\n",
       "    .dataframe tbody tr th:only-of-type {\n",
       "        vertical-align: middle;\n",
       "    }\n",
       "\n",
       "    .dataframe tbody tr th {\n",
       "        vertical-align: top;\n",
       "    }\n",
       "\n",
       "    .dataframe thead th {\n",
       "        text-align: right;\n",
       "    }\n",
       "</style>\n",
       "<table border=\"1\" class=\"dataframe\">\n",
       "  <thead>\n",
       "    <tr style=\"text-align: right;\">\n",
       "      <th></th>\n",
       "      <th>AP</th>\n",
       "      <th>AP50</th>\n",
       "      <th>AP75</th>\n",
       "      <th>APs</th>\n",
       "      <th>APm</th>\n",
       "      <th>APl</th>\n",
       "      <th>AR@1</th>\n",
       "      <th>AR@10</th>\n",
       "      <th>AR</th>\n",
       "      <th>ARs</th>\n",
       "      <th>ARm</th>\n",
       "      <th>ARl</th>\n",
       "    </tr>\n",
       "    <tr>\n",
       "      <th>Iteration</th>\n",
       "      <th></th>\n",
       "      <th></th>\n",
       "      <th></th>\n",
       "      <th></th>\n",
       "      <th></th>\n",
       "      <th></th>\n",
       "      <th></th>\n",
       "      <th></th>\n",
       "      <th></th>\n",
       "      <th></th>\n",
       "      <th></th>\n",
       "      <th></th>\n",
       "    </tr>\n",
       "  </thead>\n",
       "  <tbody>\n",
       "    <tr>\n",
       "      <th>65000</th>\n",
       "      <td>0.253451</td>\n",
       "      <td>0.581621</td>\n",
       "      <td>0.192043</td>\n",
       "      <td>0.140207</td>\n",
       "      <td>0.363751</td>\n",
       "      <td>0.42637</td>\n",
       "      <td>0.09565</td>\n",
       "      <td>0.327692</td>\n",
       "      <td>0.365151</td>\n",
       "      <td>0.269937</td>\n",
       "      <td>0.47242</td>\n",
       "      <td>0.479317</td>\n",
       "    </tr>\n",
       "  </tbody>\n",
       "</table>\n",
       "</div>"
      ],
      "text/plain": [
       "                 AP      AP50      AP75       APs       APm      APl     AR@1  \\\n",
       "Iteration                                                                       \n",
       "65000      0.253451  0.581621  0.192043  0.140207  0.363751  0.42637  0.09565   \n",
       "\n",
       "              AR@10        AR       ARs      ARm       ARl  \n",
       "Iteration                                                   \n",
       "65000      0.327692  0.365151  0.269937  0.47242  0.479317  "
      ]
     },
     "execution_count": 11,
     "metadata": {},
     "output_type": "execute_result"
    }
   ],
   "source": [
    "df_train_C_over = logs2df(train_C_over_logs, train_C_over_iteration)\n",
    "df_train_C_over.head(1)"
   ]
  },
  {
   "cell_type": "code",
   "execution_count": 12,
   "metadata": {},
   "outputs": [
    {
     "data": {
      "text/html": [
       "<div>\n",
       "<style scoped>\n",
       "    .dataframe tbody tr th:only-of-type {\n",
       "        vertical-align: middle;\n",
       "    }\n",
       "\n",
       "    .dataframe tbody tr th {\n",
       "        vertical-align: top;\n",
       "    }\n",
       "\n",
       "    .dataframe thead th {\n",
       "        text-align: right;\n",
       "    }\n",
       "</style>\n",
       "<table border=\"1\" class=\"dataframe\">\n",
       "  <thead>\n",
       "    <tr style=\"text-align: right;\">\n",
       "      <th></th>\n",
       "      <th>AP</th>\n",
       "      <th>AP50</th>\n",
       "      <th>AP75</th>\n",
       "      <th>APs</th>\n",
       "      <th>APm</th>\n",
       "      <th>APl</th>\n",
       "      <th>AR@1</th>\n",
       "      <th>AR@10</th>\n",
       "      <th>AR</th>\n",
       "      <th>ARs</th>\n",
       "      <th>ARm</th>\n",
       "      <th>ARl</th>\n",
       "    </tr>\n",
       "  </thead>\n",
       "  <tbody>\n",
       "    <tr>\n",
       "      <th>0</th>\n",
       "      <td>65000</td>\n",
       "      <td>65000</td>\n",
       "      <td>65000</td>\n",
       "      <td>65000</td>\n",
       "      <td>65000</td>\n",
       "      <td>65000</td>\n",
       "      <td>65000</td>\n",
       "      <td>65000</td>\n",
       "      <td>65000</td>\n",
       "      <td>65000</td>\n",
       "      <td>65000</td>\n",
       "      <td>65000</td>\n",
       "    </tr>\n",
       "  </tbody>\n",
       "</table>\n",
       "</div>"
      ],
      "text/plain": [
       "      AP   AP50   AP75    APs    APm    APl   AR@1  AR@10     AR    ARs  \\\n",
       "0  65000  65000  65000  65000  65000  65000  65000  65000  65000  65000   \n",
       "\n",
       "     ARm    ARl  \n",
       "0  65000  65000  "
      ]
     },
     "execution_count": 12,
     "metadata": {},
     "output_type": "execute_result"
    }
   ],
   "source": [
    "df_train_C_over_best_iter_per_metric = df_train_C_over.idxmax().to_frame().T\n",
    "df_train_C_over_best_iter_per_metric.head(1)"
   ]
  },
  {
   "cell_type": "code",
   "execution_count": 13,
   "metadata": {},
   "outputs": [
    {
     "data": {
      "text/html": [
       "<div>\n",
       "<style scoped>\n",
       "    .dataframe tbody tr th:only-of-type {\n",
       "        vertical-align: middle;\n",
       "    }\n",
       "\n",
       "    .dataframe tbody tr th {\n",
       "        vertical-align: top;\n",
       "    }\n",
       "\n",
       "    .dataframe thead th {\n",
       "        text-align: right;\n",
       "    }\n",
       "</style>\n",
       "<table border=\"1\" class=\"dataframe\">\n",
       "  <thead>\n",
       "    <tr style=\"text-align: right;\">\n",
       "      <th></th>\n",
       "      <th>AP</th>\n",
       "      <th>AP50</th>\n",
       "      <th>AP75</th>\n",
       "      <th>APs</th>\n",
       "      <th>APm</th>\n",
       "      <th>APl</th>\n",
       "      <th>AR@1</th>\n",
       "      <th>AR@10</th>\n",
       "      <th>AR</th>\n",
       "      <th>ARs</th>\n",
       "      <th>ARm</th>\n",
       "      <th>ARl</th>\n",
       "    </tr>\n",
       "  </thead>\n",
       "  <tbody>\n",
       "    <tr>\n",
       "      <th>0</th>\n",
       "      <td>0.253451</td>\n",
       "      <td>0.581621</td>\n",
       "      <td>0.192043</td>\n",
       "      <td>0.140207</td>\n",
       "      <td>0.363751</td>\n",
       "      <td>0.42637</td>\n",
       "      <td>0.09565</td>\n",
       "      <td>0.327692</td>\n",
       "      <td>0.365151</td>\n",
       "      <td>0.269937</td>\n",
       "      <td>0.47242</td>\n",
       "      <td>0.479317</td>\n",
       "    </tr>\n",
       "  </tbody>\n",
       "</table>\n",
       "</div>"
      ],
      "text/plain": [
       "         AP      AP50      AP75       APs       APm      APl     AR@1  \\\n",
       "0  0.253451  0.581621  0.192043  0.140207  0.363751  0.42637  0.09565   \n",
       "\n",
       "      AR@10        AR       ARs      ARm       ARl  \n",
       "0  0.327692  0.365151  0.269937  0.47242  0.479317  "
      ]
     },
     "execution_count": 13,
     "metadata": {},
     "output_type": "execute_result"
    }
   ],
   "source": [
    "df_train_C_over_best_val_per_metric = df_train_C_over.max().to_frame().T\n",
    "df_train_C_over_best_val_per_metric.head(1)"
   ]
  },
  {
   "cell_type": "markdown",
   "metadata": {},
   "source": [
    "### train_A_over_ganaug_025 ###"
   ]
  },
  {
   "cell_type": "code",
   "execution_count": 14,
   "metadata": {},
   "outputs": [
    {
     "data": {
      "text/html": [
       "<div>\n",
       "<style scoped>\n",
       "    .dataframe tbody tr th:only-of-type {\n",
       "        vertical-align: middle;\n",
       "    }\n",
       "\n",
       "    .dataframe tbody tr th {\n",
       "        vertical-align: top;\n",
       "    }\n",
       "\n",
       "    .dataframe thead th {\n",
       "        text-align: right;\n",
       "    }\n",
       "</style>\n",
       "<table border=\"1\" class=\"dataframe\">\n",
       "  <thead>\n",
       "    <tr style=\"text-align: right;\">\n",
       "      <th></th>\n",
       "      <th>AP</th>\n",
       "      <th>AP50</th>\n",
       "      <th>AP75</th>\n",
       "      <th>APs</th>\n",
       "      <th>APm</th>\n",
       "      <th>APl</th>\n",
       "      <th>AR@1</th>\n",
       "      <th>AR@10</th>\n",
       "      <th>AR</th>\n",
       "      <th>ARs</th>\n",
       "      <th>ARm</th>\n",
       "      <th>ARl</th>\n",
       "    </tr>\n",
       "    <tr>\n",
       "      <th>Iteration</th>\n",
       "      <th></th>\n",
       "      <th></th>\n",
       "      <th></th>\n",
       "      <th></th>\n",
       "      <th></th>\n",
       "      <th></th>\n",
       "      <th></th>\n",
       "      <th></th>\n",
       "      <th></th>\n",
       "      <th></th>\n",
       "      <th></th>\n",
       "      <th></th>\n",
       "    </tr>\n",
       "  </thead>\n",
       "  <tbody>\n",
       "    <tr>\n",
       "      <th>42500</th>\n",
       "      <td>0.215831</td>\n",
       "      <td>0.484303</td>\n",
       "      <td>0.164046</td>\n",
       "      <td>0.10912</td>\n",
       "      <td>0.326285</td>\n",
       "      <td>0.417646</td>\n",
       "      <td>0.083167</td>\n",
       "      <td>0.290929</td>\n",
       "      <td>0.333617</td>\n",
       "      <td>0.22948</td>\n",
       "      <td>0.457375</td>\n",
       "      <td>0.487845</td>\n",
       "    </tr>\n",
       "  </tbody>\n",
       "</table>\n",
       "</div>"
      ],
      "text/plain": [
       "                 AP      AP50      AP75      APs       APm       APl  \\\n",
       "Iteration                                                              \n",
       "42500      0.215831  0.484303  0.164046  0.10912  0.326285  0.417646   \n",
       "\n",
       "               AR@1     AR@10        AR      ARs       ARm       ARl  \n",
       "Iteration                                                             \n",
       "42500      0.083167  0.290929  0.333617  0.22948  0.457375  0.487845  "
      ]
     },
     "execution_count": 14,
     "metadata": {},
     "output_type": "execute_result"
    }
   ],
   "source": [
    "df_train_A_over_ganaug_025 = logs2df(train_A_over_ganaug_025_logs, train_A_over_ganaug_025_iteration)\n",
    "df_train_A_over_ganaug_025.head(1)"
   ]
  },
  {
   "cell_type": "code",
   "execution_count": 15,
   "metadata": {},
   "outputs": [
    {
     "data": {
      "text/html": [
       "<div>\n",
       "<style scoped>\n",
       "    .dataframe tbody tr th:only-of-type {\n",
       "        vertical-align: middle;\n",
       "    }\n",
       "\n",
       "    .dataframe tbody tr th {\n",
       "        vertical-align: top;\n",
       "    }\n",
       "\n",
       "    .dataframe thead th {\n",
       "        text-align: right;\n",
       "    }\n",
       "</style>\n",
       "<table border=\"1\" class=\"dataframe\">\n",
       "  <thead>\n",
       "    <tr style=\"text-align: right;\">\n",
       "      <th></th>\n",
       "      <th>AP</th>\n",
       "      <th>AP50</th>\n",
       "      <th>AP75</th>\n",
       "      <th>APs</th>\n",
       "      <th>APm</th>\n",
       "      <th>APl</th>\n",
       "      <th>AR@1</th>\n",
       "      <th>AR@10</th>\n",
       "      <th>AR</th>\n",
       "      <th>ARs</th>\n",
       "      <th>ARm</th>\n",
       "      <th>ARl</th>\n",
       "    </tr>\n",
       "  </thead>\n",
       "  <tbody>\n",
       "    <tr>\n",
       "      <th>0</th>\n",
       "      <td>42500</td>\n",
       "      <td>42500</td>\n",
       "      <td>42500</td>\n",
       "      <td>42500</td>\n",
       "      <td>42500</td>\n",
       "      <td>42500</td>\n",
       "      <td>42500</td>\n",
       "      <td>42500</td>\n",
       "      <td>42500</td>\n",
       "      <td>42500</td>\n",
       "      <td>42500</td>\n",
       "      <td>42500</td>\n",
       "    </tr>\n",
       "  </tbody>\n",
       "</table>\n",
       "</div>"
      ],
      "text/plain": [
       "      AP   AP50   AP75    APs    APm    APl   AR@1  AR@10     AR    ARs  \\\n",
       "0  42500  42500  42500  42500  42500  42500  42500  42500  42500  42500   \n",
       "\n",
       "     ARm    ARl  \n",
       "0  42500  42500  "
      ]
     },
     "execution_count": 15,
     "metadata": {},
     "output_type": "execute_result"
    }
   ],
   "source": [
    "df_train_A_over_ganaug_025_best_iter_per_metric = df_train_A_over_ganaug_025.idxmax().to_frame().T\n",
    "df_train_A_over_ganaug_025_best_iter_per_metric.head(1)"
   ]
  },
  {
   "cell_type": "code",
   "execution_count": 16,
   "metadata": {},
   "outputs": [
    {
     "data": {
      "text/html": [
       "<div>\n",
       "<style scoped>\n",
       "    .dataframe tbody tr th:only-of-type {\n",
       "        vertical-align: middle;\n",
       "    }\n",
       "\n",
       "    .dataframe tbody tr th {\n",
       "        vertical-align: top;\n",
       "    }\n",
       "\n",
       "    .dataframe thead th {\n",
       "        text-align: right;\n",
       "    }\n",
       "</style>\n",
       "<table border=\"1\" class=\"dataframe\">\n",
       "  <thead>\n",
       "    <tr style=\"text-align: right;\">\n",
       "      <th></th>\n",
       "      <th>AP</th>\n",
       "      <th>AP50</th>\n",
       "      <th>AP75</th>\n",
       "      <th>APs</th>\n",
       "      <th>APm</th>\n",
       "      <th>APl</th>\n",
       "      <th>AR@1</th>\n",
       "      <th>AR@10</th>\n",
       "      <th>AR</th>\n",
       "      <th>ARs</th>\n",
       "      <th>ARm</th>\n",
       "      <th>ARl</th>\n",
       "    </tr>\n",
       "  </thead>\n",
       "  <tbody>\n",
       "    <tr>\n",
       "      <th>0</th>\n",
       "      <td>0.215831</td>\n",
       "      <td>0.484303</td>\n",
       "      <td>0.164046</td>\n",
       "      <td>0.10912</td>\n",
       "      <td>0.326285</td>\n",
       "      <td>0.417646</td>\n",
       "      <td>0.083167</td>\n",
       "      <td>0.290929</td>\n",
       "      <td>0.333617</td>\n",
       "      <td>0.22948</td>\n",
       "      <td>0.457375</td>\n",
       "      <td>0.487845</td>\n",
       "    </tr>\n",
       "  </tbody>\n",
       "</table>\n",
       "</div>"
      ],
      "text/plain": [
       "         AP      AP50      AP75      APs       APm       APl      AR@1  \\\n",
       "0  0.215831  0.484303  0.164046  0.10912  0.326285  0.417646  0.083167   \n",
       "\n",
       "      AR@10        AR      ARs       ARm       ARl  \n",
       "0  0.290929  0.333617  0.22948  0.457375  0.487845  "
      ]
     },
     "execution_count": 16,
     "metadata": {},
     "output_type": "execute_result"
    }
   ],
   "source": [
    "df_train_A_over_ganaug_025_best_val_per_metric = df_train_A_over_ganaug_025.max().to_frame().T\n",
    "df_train_A_over_ganaug_025_best_val_per_metric.head(1)"
   ]
  },
  {
   "cell_type": "markdown",
   "metadata": {},
   "source": [
    "### train_A_over_ganaug_050 ###"
   ]
  },
  {
   "cell_type": "code",
   "execution_count": 17,
   "metadata": {},
   "outputs": [
    {
     "data": {
      "text/html": [
       "<div>\n",
       "<style scoped>\n",
       "    .dataframe tbody tr th:only-of-type {\n",
       "        vertical-align: middle;\n",
       "    }\n",
       "\n",
       "    .dataframe tbody tr th {\n",
       "        vertical-align: top;\n",
       "    }\n",
       "\n",
       "    .dataframe thead th {\n",
       "        text-align: right;\n",
       "    }\n",
       "</style>\n",
       "<table border=\"1\" class=\"dataframe\">\n",
       "  <thead>\n",
       "    <tr style=\"text-align: right;\">\n",
       "      <th></th>\n",
       "      <th>AP</th>\n",
       "      <th>AP50</th>\n",
       "      <th>AP75</th>\n",
       "      <th>APs</th>\n",
       "      <th>APm</th>\n",
       "      <th>APl</th>\n",
       "      <th>AR@1</th>\n",
       "      <th>AR@10</th>\n",
       "      <th>AR</th>\n",
       "      <th>ARs</th>\n",
       "      <th>ARm</th>\n",
       "      <th>ARl</th>\n",
       "    </tr>\n",
       "    <tr>\n",
       "      <th>Iteration</th>\n",
       "      <th></th>\n",
       "      <th></th>\n",
       "      <th></th>\n",
       "      <th></th>\n",
       "      <th></th>\n",
       "      <th></th>\n",
       "      <th></th>\n",
       "      <th></th>\n",
       "      <th></th>\n",
       "      <th></th>\n",
       "      <th></th>\n",
       "      <th></th>\n",
       "    </tr>\n",
       "  </thead>\n",
       "  <tbody>\n",
       "    <tr>\n",
       "      <th>102500</th>\n",
       "      <td>0.211829</td>\n",
       "      <td>0.471275</td>\n",
       "      <td>0.163752</td>\n",
       "      <td>0.107435</td>\n",
       "      <td>0.311114</td>\n",
       "      <td>0.426584</td>\n",
       "      <td>0.084431</td>\n",
       "      <td>0.285918</td>\n",
       "      <td>0.32506</td>\n",
       "      <td>0.231547</td>\n",
       "      <td>0.42336</td>\n",
       "      <td>0.473069</td>\n",
       "    </tr>\n",
       "  </tbody>\n",
       "</table>\n",
       "</div>"
      ],
      "text/plain": [
       "                 AP      AP50      AP75       APs       APm       APl  \\\n",
       "Iteration                                                               \n",
       "102500     0.211829  0.471275  0.163752  0.107435  0.311114  0.426584   \n",
       "\n",
       "               AR@1     AR@10       AR       ARs      ARm       ARl  \n",
       "Iteration                                                            \n",
       "102500     0.084431  0.285918  0.32506  0.231547  0.42336  0.473069  "
      ]
     },
     "execution_count": 17,
     "metadata": {},
     "output_type": "execute_result"
    }
   ],
   "source": [
    "df_train_A_over_ganaug_050 = logs2df(train_A_over_ganaug_050_logs, train_A_over_ganaug_050_iteration)\n",
    "df_train_A_over_ganaug_050.head(1)"
   ]
  },
  {
   "cell_type": "code",
   "execution_count": 18,
   "metadata": {},
   "outputs": [
    {
     "data": {
      "text/html": [
       "<div>\n",
       "<style scoped>\n",
       "    .dataframe tbody tr th:only-of-type {\n",
       "        vertical-align: middle;\n",
       "    }\n",
       "\n",
       "    .dataframe tbody tr th {\n",
       "        vertical-align: top;\n",
       "    }\n",
       "\n",
       "    .dataframe thead th {\n",
       "        text-align: right;\n",
       "    }\n",
       "</style>\n",
       "<table border=\"1\" class=\"dataframe\">\n",
       "  <thead>\n",
       "    <tr style=\"text-align: right;\">\n",
       "      <th></th>\n",
       "      <th>AP</th>\n",
       "      <th>AP50</th>\n",
       "      <th>AP75</th>\n",
       "      <th>APs</th>\n",
       "      <th>APm</th>\n",
       "      <th>APl</th>\n",
       "      <th>AR@1</th>\n",
       "      <th>AR@10</th>\n",
       "      <th>AR</th>\n",
       "      <th>ARs</th>\n",
       "      <th>ARm</th>\n",
       "      <th>ARl</th>\n",
       "    </tr>\n",
       "  </thead>\n",
       "  <tbody>\n",
       "    <tr>\n",
       "      <th>0</th>\n",
       "      <td>102500</td>\n",
       "      <td>102500</td>\n",
       "      <td>102500</td>\n",
       "      <td>102500</td>\n",
       "      <td>102500</td>\n",
       "      <td>102500</td>\n",
       "      <td>102500</td>\n",
       "      <td>102500</td>\n",
       "      <td>102500</td>\n",
       "      <td>102500</td>\n",
       "      <td>102500</td>\n",
       "      <td>102500</td>\n",
       "    </tr>\n",
       "  </tbody>\n",
       "</table>\n",
       "</div>"
      ],
      "text/plain": [
       "       AP    AP50    AP75     APs     APm     APl    AR@1   AR@10      AR  \\\n",
       "0  102500  102500  102500  102500  102500  102500  102500  102500  102500   \n",
       "\n",
       "      ARs     ARm     ARl  \n",
       "0  102500  102500  102500  "
      ]
     },
     "execution_count": 18,
     "metadata": {},
     "output_type": "execute_result"
    }
   ],
   "source": [
    "df_train_A_over_ganaug_050_best_iter_per_metric = df_train_A_over_ganaug_050.idxmax().to_frame().T\n",
    "df_train_A_over_ganaug_050_best_iter_per_metric.head(1)"
   ]
  },
  {
   "cell_type": "code",
   "execution_count": 19,
   "metadata": {},
   "outputs": [
    {
     "data": {
      "text/html": [
       "<div>\n",
       "<style scoped>\n",
       "    .dataframe tbody tr th:only-of-type {\n",
       "        vertical-align: middle;\n",
       "    }\n",
       "\n",
       "    .dataframe tbody tr th {\n",
       "        vertical-align: top;\n",
       "    }\n",
       "\n",
       "    .dataframe thead th {\n",
       "        text-align: right;\n",
       "    }\n",
       "</style>\n",
       "<table border=\"1\" class=\"dataframe\">\n",
       "  <thead>\n",
       "    <tr style=\"text-align: right;\">\n",
       "      <th></th>\n",
       "      <th>AP</th>\n",
       "      <th>AP50</th>\n",
       "      <th>AP75</th>\n",
       "      <th>APs</th>\n",
       "      <th>APm</th>\n",
       "      <th>APl</th>\n",
       "      <th>AR@1</th>\n",
       "      <th>AR@10</th>\n",
       "      <th>AR</th>\n",
       "      <th>ARs</th>\n",
       "      <th>ARm</th>\n",
       "      <th>ARl</th>\n",
       "    </tr>\n",
       "  </thead>\n",
       "  <tbody>\n",
       "    <tr>\n",
       "      <th>0</th>\n",
       "      <td>0.211829</td>\n",
       "      <td>0.471275</td>\n",
       "      <td>0.163752</td>\n",
       "      <td>0.107435</td>\n",
       "      <td>0.311114</td>\n",
       "      <td>0.426584</td>\n",
       "      <td>0.084431</td>\n",
       "      <td>0.285918</td>\n",
       "      <td>0.32506</td>\n",
       "      <td>0.231547</td>\n",
       "      <td>0.42336</td>\n",
       "      <td>0.473069</td>\n",
       "    </tr>\n",
       "  </tbody>\n",
       "</table>\n",
       "</div>"
      ],
      "text/plain": [
       "         AP      AP50      AP75       APs       APm       APl      AR@1  \\\n",
       "0  0.211829  0.471275  0.163752  0.107435  0.311114  0.426584  0.084431   \n",
       "\n",
       "      AR@10       AR       ARs      ARm       ARl  \n",
       "0  0.285918  0.32506  0.231547  0.42336  0.473069  "
      ]
     },
     "execution_count": 19,
     "metadata": {},
     "output_type": "execute_result"
    }
   ],
   "source": [
    "df_train_A_over_ganaug_050_best_val_per_metric = df_train_A_over_ganaug_050.max().to_frame().T\n",
    "df_train_A_over_ganaug_050_best_val_per_metric.head(1)"
   ]
  },
  {
   "cell_type": "markdown",
   "metadata": {},
   "source": [
    "### train_A_over_ganaug_050_augonlyasbase ###"
   ]
  },
  {
   "cell_type": "code",
   "execution_count": 20,
   "metadata": {},
   "outputs": [
    {
     "data": {
      "text/html": [
       "<div>\n",
       "<style scoped>\n",
       "    .dataframe tbody tr th:only-of-type {\n",
       "        vertical-align: middle;\n",
       "    }\n",
       "\n",
       "    .dataframe tbody tr th {\n",
       "        vertical-align: top;\n",
       "    }\n",
       "\n",
       "    .dataframe thead th {\n",
       "        text-align: right;\n",
       "    }\n",
       "</style>\n",
       "<table border=\"1\" class=\"dataframe\">\n",
       "  <thead>\n",
       "    <tr style=\"text-align: right;\">\n",
       "      <th></th>\n",
       "      <th>AP</th>\n",
       "      <th>AP50</th>\n",
       "      <th>AP75</th>\n",
       "      <th>APs</th>\n",
       "      <th>APm</th>\n",
       "      <th>APl</th>\n",
       "      <th>AR@1</th>\n",
       "      <th>AR@10</th>\n",
       "      <th>AR</th>\n",
       "      <th>ARs</th>\n",
       "      <th>ARm</th>\n",
       "      <th>ARl</th>\n",
       "    </tr>\n",
       "    <tr>\n",
       "      <th>Iteration</th>\n",
       "      <th></th>\n",
       "      <th></th>\n",
       "      <th></th>\n",
       "      <th></th>\n",
       "      <th></th>\n",
       "      <th></th>\n",
       "      <th></th>\n",
       "      <th></th>\n",
       "      <th></th>\n",
       "      <th></th>\n",
       "      <th></th>\n",
       "      <th></th>\n",
       "    </tr>\n",
       "  </thead>\n",
       "  <tbody>\n",
       "    <tr>\n",
       "      <th>47500</th>\n",
       "      <td>0.200919</td>\n",
       "      <td>0.46808</td>\n",
       "      <td>0.145021</td>\n",
       "      <td>0.102548</td>\n",
       "      <td>0.29592</td>\n",
       "      <td>0.354509</td>\n",
       "      <td>0.083801</td>\n",
       "      <td>0.274479</td>\n",
       "      <td>0.310958</td>\n",
       "      <td>0.219624</td>\n",
       "      <td>0.408924</td>\n",
       "      <td>0.405876</td>\n",
       "    </tr>\n",
       "  </tbody>\n",
       "</table>\n",
       "</div>"
      ],
      "text/plain": [
       "                 AP     AP50      AP75       APs      APm       APl      AR@1  \\\n",
       "Iteration                                                                       \n",
       "47500      0.200919  0.46808  0.145021  0.102548  0.29592  0.354509  0.083801   \n",
       "\n",
       "              AR@10        AR       ARs       ARm       ARl  \n",
       "Iteration                                                    \n",
       "47500      0.274479  0.310958  0.219624  0.408924  0.405876  "
      ]
     },
     "execution_count": 20,
     "metadata": {},
     "output_type": "execute_result"
    }
   ],
   "source": [
    "df_train_A_over_ganaug_050_augonlyasbase = logs2df(train_A_over_ganaug_050_augonlyasbase_logs, train_A_over_ganaug_050_augonlyasbase_iteration)\n",
    "df_train_A_over_ganaug_050_augonlyasbase.head(1)"
   ]
  },
  {
   "cell_type": "code",
   "execution_count": 21,
   "metadata": {},
   "outputs": [
    {
     "data": {
      "text/html": [
       "<div>\n",
       "<style scoped>\n",
       "    .dataframe tbody tr th:only-of-type {\n",
       "        vertical-align: middle;\n",
       "    }\n",
       "\n",
       "    .dataframe tbody tr th {\n",
       "        vertical-align: top;\n",
       "    }\n",
       "\n",
       "    .dataframe thead th {\n",
       "        text-align: right;\n",
       "    }\n",
       "</style>\n",
       "<table border=\"1\" class=\"dataframe\">\n",
       "  <thead>\n",
       "    <tr style=\"text-align: right;\">\n",
       "      <th></th>\n",
       "      <th>AP</th>\n",
       "      <th>AP50</th>\n",
       "      <th>AP75</th>\n",
       "      <th>APs</th>\n",
       "      <th>APm</th>\n",
       "      <th>APl</th>\n",
       "      <th>AR@1</th>\n",
       "      <th>AR@10</th>\n",
       "      <th>AR</th>\n",
       "      <th>ARs</th>\n",
       "      <th>ARm</th>\n",
       "      <th>ARl</th>\n",
       "    </tr>\n",
       "  </thead>\n",
       "  <tbody>\n",
       "    <tr>\n",
       "      <th>0</th>\n",
       "      <td>47500</td>\n",
       "      <td>47500</td>\n",
       "      <td>47500</td>\n",
       "      <td>47500</td>\n",
       "      <td>47500</td>\n",
       "      <td>47500</td>\n",
       "      <td>47500</td>\n",
       "      <td>47500</td>\n",
       "      <td>47500</td>\n",
       "      <td>47500</td>\n",
       "      <td>47500</td>\n",
       "      <td>47500</td>\n",
       "    </tr>\n",
       "  </tbody>\n",
       "</table>\n",
       "</div>"
      ],
      "text/plain": [
       "      AP   AP50   AP75    APs    APm    APl   AR@1  AR@10     AR    ARs  \\\n",
       "0  47500  47500  47500  47500  47500  47500  47500  47500  47500  47500   \n",
       "\n",
       "     ARm    ARl  \n",
       "0  47500  47500  "
      ]
     },
     "execution_count": 21,
     "metadata": {},
     "output_type": "execute_result"
    }
   ],
   "source": [
    "df_train_A_over_ganaug_050_augonlyasbase_best_iter_per_metric = df_train_A_over_ganaug_050_augonlyasbase.idxmax().to_frame().T\n",
    "df_train_A_over_ganaug_050_augonlyasbase_best_iter_per_metric.head(1)"
   ]
  },
  {
   "cell_type": "code",
   "execution_count": 22,
   "metadata": {},
   "outputs": [
    {
     "data": {
      "text/html": [
       "<div>\n",
       "<style scoped>\n",
       "    .dataframe tbody tr th:only-of-type {\n",
       "        vertical-align: middle;\n",
       "    }\n",
       "\n",
       "    .dataframe tbody tr th {\n",
       "        vertical-align: top;\n",
       "    }\n",
       "\n",
       "    .dataframe thead th {\n",
       "        text-align: right;\n",
       "    }\n",
       "</style>\n",
       "<table border=\"1\" class=\"dataframe\">\n",
       "  <thead>\n",
       "    <tr style=\"text-align: right;\">\n",
       "      <th></th>\n",
       "      <th>AP</th>\n",
       "      <th>AP50</th>\n",
       "      <th>AP75</th>\n",
       "      <th>APs</th>\n",
       "      <th>APm</th>\n",
       "      <th>APl</th>\n",
       "      <th>AR@1</th>\n",
       "      <th>AR@10</th>\n",
       "      <th>AR</th>\n",
       "      <th>ARs</th>\n",
       "      <th>ARm</th>\n",
       "      <th>ARl</th>\n",
       "    </tr>\n",
       "  </thead>\n",
       "  <tbody>\n",
       "    <tr>\n",
       "      <th>0</th>\n",
       "      <td>0.200919</td>\n",
       "      <td>0.46808</td>\n",
       "      <td>0.145021</td>\n",
       "      <td>0.102548</td>\n",
       "      <td>0.29592</td>\n",
       "      <td>0.354509</td>\n",
       "      <td>0.083801</td>\n",
       "      <td>0.274479</td>\n",
       "      <td>0.310958</td>\n",
       "      <td>0.219624</td>\n",
       "      <td>0.408924</td>\n",
       "      <td>0.405876</td>\n",
       "    </tr>\n",
       "  </tbody>\n",
       "</table>\n",
       "</div>"
      ],
      "text/plain": [
       "         AP     AP50      AP75       APs      APm       APl      AR@1  \\\n",
       "0  0.200919  0.46808  0.145021  0.102548  0.29592  0.354509  0.083801   \n",
       "\n",
       "      AR@10        AR       ARs       ARm       ARl  \n",
       "0  0.274479  0.310958  0.219624  0.408924  0.405876  "
      ]
     },
     "execution_count": 22,
     "metadata": {},
     "output_type": "execute_result"
    }
   ],
   "source": [
    "df_train_A_over_ganaug_050_augonlyasbase_best_val_per_metric = df_train_A_over_ganaug_050_augonlyasbase.max().to_frame().T\n",
    "df_train_A_over_ganaug_050_augonlyasbase_best_val_per_metric.head(1)"
   ]
  },
  {
   "cell_type": "markdown",
   "metadata": {},
   "source": [
    "## Improvements ##"
   ]
  },
  {
   "cell_type": "markdown",
   "metadata": {},
   "source": [
    "### train_A_over --> train_B_over ###"
   ]
  },
  {
   "cell_type": "code",
   "execution_count": 23,
   "metadata": {},
   "outputs": [
    {
     "data": {
      "text/html": [
       "<div>\n",
       "<style scoped>\n",
       "    .dataframe tbody tr th:only-of-type {\n",
       "        vertical-align: middle;\n",
       "    }\n",
       "\n",
       "    .dataframe tbody tr th {\n",
       "        vertical-align: top;\n",
       "    }\n",
       "\n",
       "    .dataframe thead th {\n",
       "        text-align: right;\n",
       "    }\n",
       "</style>\n",
       "<table border=\"1\" class=\"dataframe\">\n",
       "  <thead>\n",
       "    <tr style=\"text-align: right;\">\n",
       "      <th></th>\n",
       "      <th>AP</th>\n",
       "      <th>AP50</th>\n",
       "      <th>AP75</th>\n",
       "      <th>APs</th>\n",
       "      <th>APm</th>\n",
       "      <th>APl</th>\n",
       "      <th>AR@1</th>\n",
       "      <th>AR@10</th>\n",
       "      <th>AR</th>\n",
       "      <th>ARs</th>\n",
       "      <th>ARm</th>\n",
       "      <th>ARl</th>\n",
       "      <th>Comparison</th>\n",
       "    </tr>\n",
       "  </thead>\n",
       "  <tbody>\n",
       "    <tr>\n",
       "      <th>0</th>\n",
       "      <td>0.019684</td>\n",
       "      <td>0.040122</td>\n",
       "      <td>0.01689</td>\n",
       "      <td>0.010301</td>\n",
       "      <td>0.02912</td>\n",
       "      <td>0.047002</td>\n",
       "      <td>0.004434</td>\n",
       "      <td>0.017192</td>\n",
       "      <td>0.018318</td>\n",
       "      <td>0.013408</td>\n",
       "      <td>0.02415</td>\n",
       "      <td>0.017292</td>\n",
       "      <td>A to B</td>\n",
       "    </tr>\n",
       "  </tbody>\n",
       "</table>\n",
       "</div>"
      ],
      "text/plain": [
       "         AP      AP50     AP75       APs      APm       APl      AR@1  \\\n",
       "0  0.019684  0.040122  0.01689  0.010301  0.02912  0.047002  0.004434   \n",
       "\n",
       "      AR@10        AR       ARs      ARm       ARl Comparison  \n",
       "0  0.017192  0.018318  0.013408  0.02415  0.017292     A to B  "
      ]
     },
     "execution_count": 23,
     "metadata": {},
     "output_type": "execute_result"
    }
   ],
   "source": [
    "df_train_A_over_TO_train_B_over = df_train_B_over_best_val_per_metric - df_train_A_over_best_val_per_metric\n",
    "df_train_A_over_TO_train_B_over[\"Comparison\"] = \"A to B\"\n",
    "df_train_A_over_TO_train_B_over.head(1)"
   ]
  },
  {
   "cell_type": "code",
   "execution_count": 24,
   "metadata": {},
   "outputs": [
    {
     "data": {
      "text/html": [
       "<div>\n",
       "<style scoped>\n",
       "    .dataframe tbody tr th:only-of-type {\n",
       "        vertical-align: middle;\n",
       "    }\n",
       "\n",
       "    .dataframe tbody tr th {\n",
       "        vertical-align: top;\n",
       "    }\n",
       "\n",
       "    .dataframe thead th {\n",
       "        text-align: right;\n",
       "    }\n",
       "</style>\n",
       "<table border=\"1\" class=\"dataframe\">\n",
       "  <thead>\n",
       "    <tr style=\"text-align: right;\">\n",
       "      <th></th>\n",
       "      <th>AP</th>\n",
       "      <th>AP50</th>\n",
       "      <th>AP75</th>\n",
       "      <th>APs</th>\n",
       "      <th>APm</th>\n",
       "      <th>APl</th>\n",
       "      <th>AR@1</th>\n",
       "      <th>AR@10</th>\n",
       "      <th>AR</th>\n",
       "      <th>ARs</th>\n",
       "      <th>ARm</th>\n",
       "      <th>ARl</th>\n",
       "      <th>Comparison</th>\n",
       "    </tr>\n",
       "  </thead>\n",
       "  <tbody>\n",
       "    <tr>\n",
       "      <th>0</th>\n",
       "      <td>0.085697</td>\n",
       "      <td>0.075839</td>\n",
       "      <td>0.099513</td>\n",
       "      <td>0.079511</td>\n",
       "      <td>0.090338</td>\n",
       "      <td>0.119317</td>\n",
       "      <td>0.049804</td>\n",
       "      <td>0.056452</td>\n",
       "      <td>0.053692</td>\n",
       "      <td>0.053587</td>\n",
       "      <td>0.055079</td>\n",
       "      <td>0.037527</td>\n",
       "      <td>A to B</td>\n",
       "    </tr>\n",
       "  </tbody>\n",
       "</table>\n",
       "</div>"
      ],
      "text/plain": [
       "         AP      AP50      AP75       APs       APm       APl      AR@1  \\\n",
       "0  0.085697  0.075839  0.099513  0.079511  0.090338  0.119317  0.049804   \n",
       "\n",
       "      AR@10        AR       ARs       ARm       ARl Comparison  \n",
       "0  0.056452  0.053692  0.053587  0.055079  0.037527     A to B  "
      ]
     },
     "execution_count": 24,
     "metadata": {},
     "output_type": "execute_result"
    }
   ],
   "source": [
    "df_train_A_over_TO_train_B_over_rel = (df_train_B_over_best_val_per_metric - df_train_A_over_best_val_per_metric) / df_train_A_over_best_val_per_metric\n",
    "df_train_A_over_TO_train_B_over_rel[\"Comparison\"] = \"A to B\"\n",
    "df_train_A_over_TO_train_B_over_rel.head(1)"
   ]
  },
  {
   "cell_type": "markdown",
   "metadata": {},
   "source": [
    "### train_A_over --> train_C_over ###"
   ]
  },
  {
   "cell_type": "code",
   "execution_count": 25,
   "metadata": {},
   "outputs": [
    {
     "data": {
      "text/html": [
       "<div>\n",
       "<style scoped>\n",
       "    .dataframe tbody tr th:only-of-type {\n",
       "        vertical-align: middle;\n",
       "    }\n",
       "\n",
       "    .dataframe tbody tr th {\n",
       "        vertical-align: top;\n",
       "    }\n",
       "\n",
       "    .dataframe thead th {\n",
       "        text-align: right;\n",
       "    }\n",
       "</style>\n",
       "<table border=\"1\" class=\"dataframe\">\n",
       "  <thead>\n",
       "    <tr style=\"text-align: right;\">\n",
       "      <th></th>\n",
       "      <th>AP</th>\n",
       "      <th>AP50</th>\n",
       "      <th>AP75</th>\n",
       "      <th>APs</th>\n",
       "      <th>APm</th>\n",
       "      <th>APl</th>\n",
       "      <th>AR@1</th>\n",
       "      <th>AR@10</th>\n",
       "      <th>AR</th>\n",
       "      <th>ARs</th>\n",
       "      <th>ARm</th>\n",
       "      <th>ARl</th>\n",
       "      <th>Comparison</th>\n",
       "    </tr>\n",
       "  </thead>\n",
       "  <tbody>\n",
       "    <tr>\n",
       "      <th>0</th>\n",
       "      <td>0.023756</td>\n",
       "      <td>0.052573</td>\n",
       "      <td>0.022321</td>\n",
       "      <td>0.010653</td>\n",
       "      <td>0.041406</td>\n",
       "      <td>0.032449</td>\n",
       "      <td>0.006616</td>\n",
       "      <td>0.023149</td>\n",
       "      <td>0.023978</td>\n",
       "      <td>0.019731</td>\n",
       "      <td>0.033965</td>\n",
       "      <td>0.018536</td>\n",
       "      <td>Day to Day-R50-Real</td>\n",
       "    </tr>\n",
       "  </tbody>\n",
       "</table>\n",
       "</div>"
      ],
      "text/plain": [
       "         AP      AP50      AP75       APs       APm       APl      AR@1  \\\n",
       "0  0.023756  0.052573  0.022321  0.010653  0.041406  0.032449  0.006616   \n",
       "\n",
       "      AR@10        AR       ARs       ARm       ARl           Comparison  \n",
       "0  0.023149  0.023978  0.019731  0.033965  0.018536  Day to Day-R50-Real  "
      ]
     },
     "execution_count": 25,
     "metadata": {},
     "output_type": "execute_result"
    }
   ],
   "source": [
    "df_train_A_over_TO_train_C_over = df_train_C_over_best_val_per_metric - df_train_A_over_best_val_per_metric\n",
    "#df_train_A_over_TO_train_C_over[\"Comparison\"] = \"A to C\"\n",
    "df_train_A_over_TO_train_C_over[\"Comparison\"] = \"Day to Day-R50-Real\"\n",
    "df_train_A_over_TO_train_C_over.head(1)"
   ]
  },
  {
   "cell_type": "code",
   "execution_count": 26,
   "metadata": {},
   "outputs": [
    {
     "data": {
      "text/html": [
       "<div>\n",
       "<style scoped>\n",
       "    .dataframe tbody tr th:only-of-type {\n",
       "        vertical-align: middle;\n",
       "    }\n",
       "\n",
       "    .dataframe tbody tr th {\n",
       "        vertical-align: top;\n",
       "    }\n",
       "\n",
       "    .dataframe thead th {\n",
       "        text-align: right;\n",
       "    }\n",
       "</style>\n",
       "<table border=\"1\" class=\"dataframe\">\n",
       "  <thead>\n",
       "    <tr style=\"text-align: right;\">\n",
       "      <th></th>\n",
       "      <th>AP</th>\n",
       "      <th>AP50</th>\n",
       "      <th>AP75</th>\n",
       "      <th>APs</th>\n",
       "      <th>APm</th>\n",
       "      <th>APl</th>\n",
       "      <th>AR@1</th>\n",
       "      <th>AR@10</th>\n",
       "      <th>AR</th>\n",
       "      <th>ARs</th>\n",
       "      <th>ARm</th>\n",
       "      <th>ARl</th>\n",
       "      <th>Comparison</th>\n",
       "    </tr>\n",
       "  </thead>\n",
       "  <tbody>\n",
       "    <tr>\n",
       "      <th>0</th>\n",
       "      <td>0.103426</td>\n",
       "      <td>0.099372</td>\n",
       "      <td>0.131516</td>\n",
       "      <td>0.082232</td>\n",
       "      <td>0.128454</td>\n",
       "      <td>0.082376</td>\n",
       "      <td>0.074306</td>\n",
       "      <td>0.076013</td>\n",
       "      <td>0.070282</td>\n",
       "      <td>0.078859</td>\n",
       "      <td>0.077464</td>\n",
       "      <td>0.040227</td>\n",
       "      <td>Day to Day-R50-Real</td>\n",
       "    </tr>\n",
       "  </tbody>\n",
       "</table>\n",
       "</div>"
      ],
      "text/plain": [
       "         AP      AP50      AP75       APs       APm       APl      AR@1  \\\n",
       "0  0.103426  0.099372  0.131516  0.082232  0.128454  0.082376  0.074306   \n",
       "\n",
       "      AR@10        AR       ARs       ARm       ARl           Comparison  \n",
       "0  0.076013  0.070282  0.078859  0.077464  0.040227  Day to Day-R50-Real  "
      ]
     },
     "execution_count": 26,
     "metadata": {},
     "output_type": "execute_result"
    }
   ],
   "source": [
    "df_train_A_over_TO_train_C_over_rel = (df_train_C_over_best_val_per_metric - df_train_A_over_best_val_per_metric) / df_train_A_over_best_val_per_metric\n",
    "#df_train_A_over_TO_train_C_over_rel[\"Comparison\"] = \"day to day_r50real\"\n",
    "df_train_A_over_TO_train_C_over_rel[\"Comparison\"] = \"Day to Day-R50-Real\"\n",
    "df_train_A_over_TO_train_C_over_rel.head(1)"
   ]
  },
  {
   "cell_type": "markdown",
   "metadata": {},
   "source": [
    "### train_A_over --> train_A_over_ganaug_025 ###"
   ]
  },
  {
   "cell_type": "code",
   "execution_count": 27,
   "metadata": {},
   "outputs": [
    {
     "data": {
      "text/html": [
       "<div>\n",
       "<style scoped>\n",
       "    .dataframe tbody tr th:only-of-type {\n",
       "        vertical-align: middle;\n",
       "    }\n",
       "\n",
       "    .dataframe tbody tr th {\n",
       "        vertical-align: top;\n",
       "    }\n",
       "\n",
       "    .dataframe thead th {\n",
       "        text-align: right;\n",
       "    }\n",
       "</style>\n",
       "<table border=\"1\" class=\"dataframe\">\n",
       "  <thead>\n",
       "    <tr style=\"text-align: right;\">\n",
       "      <th></th>\n",
       "      <th>AP</th>\n",
       "      <th>AP50</th>\n",
       "      <th>AP75</th>\n",
       "      <th>APs</th>\n",
       "      <th>APm</th>\n",
       "      <th>APl</th>\n",
       "      <th>AR@1</th>\n",
       "      <th>AR@10</th>\n",
       "      <th>AR</th>\n",
       "      <th>ARs</th>\n",
       "      <th>ARm</th>\n",
       "      <th>ARl</th>\n",
       "      <th>Comparison</th>\n",
       "    </tr>\n",
       "  </thead>\n",
       "  <tbody>\n",
       "    <tr>\n",
       "      <th>0</th>\n",
       "      <td>-0.013864</td>\n",
       "      <td>-0.044746</td>\n",
       "      <td>-0.005676</td>\n",
       "      <td>-0.020433</td>\n",
       "      <td>0.003941</td>\n",
       "      <td>0.023725</td>\n",
       "      <td>-0.005868</td>\n",
       "      <td>-0.013613</td>\n",
       "      <td>-0.007555</td>\n",
       "      <td>-0.020726</td>\n",
       "      <td>0.01892</td>\n",
       "      <td>0.027063</td>\n",
       "      <td>A to A25</td>\n",
       "    </tr>\n",
       "  </tbody>\n",
       "</table>\n",
       "</div>"
      ],
      "text/plain": [
       "         AP      AP50      AP75       APs       APm       APl      AR@1  \\\n",
       "0 -0.013864 -0.044746 -0.005676 -0.020433  0.003941  0.023725 -0.005868   \n",
       "\n",
       "      AR@10        AR       ARs      ARm       ARl Comparison  \n",
       "0 -0.013613 -0.007555 -0.020726  0.01892  0.027063   A to A25  "
      ]
     },
     "execution_count": 27,
     "metadata": {},
     "output_type": "execute_result"
    }
   ],
   "source": [
    "df_train_A_over_TO_train_A_over_ganaug_025 = df_train_A_over_ganaug_025_best_val_per_metric - df_train_A_over_best_val_per_metric\n",
    "df_train_A_over_TO_train_A_over_ganaug_025[\"Comparison\"] = \"A to A25\"\n",
    "df_train_A_over_TO_train_A_over_ganaug_025.head(1)"
   ]
  },
  {
   "cell_type": "code",
   "execution_count": 28,
   "metadata": {},
   "outputs": [
    {
     "data": {
      "text/html": [
       "<div>\n",
       "<style scoped>\n",
       "    .dataframe tbody tr th:only-of-type {\n",
       "        vertical-align: middle;\n",
       "    }\n",
       "\n",
       "    .dataframe tbody tr th {\n",
       "        vertical-align: top;\n",
       "    }\n",
       "\n",
       "    .dataframe thead th {\n",
       "        text-align: right;\n",
       "    }\n",
       "</style>\n",
       "<table border=\"1\" class=\"dataframe\">\n",
       "  <thead>\n",
       "    <tr style=\"text-align: right;\">\n",
       "      <th></th>\n",
       "      <th>AP</th>\n",
       "      <th>AP50</th>\n",
       "      <th>AP75</th>\n",
       "      <th>APs</th>\n",
       "      <th>APm</th>\n",
       "      <th>APl</th>\n",
       "      <th>AR@1</th>\n",
       "      <th>AR@10</th>\n",
       "      <th>AR</th>\n",
       "      <th>ARs</th>\n",
       "      <th>ARm</th>\n",
       "      <th>ARl</th>\n",
       "      <th>Comparison</th>\n",
       "    </tr>\n",
       "  </thead>\n",
       "  <tbody>\n",
       "    <tr>\n",
       "      <th>0</th>\n",
       "      <td>-0.060358</td>\n",
       "      <td>-0.084578</td>\n",
       "      <td>-0.033443</td>\n",
       "      <td>-0.157718</td>\n",
       "      <td>0.012226</td>\n",
       "      <td>0.060229</td>\n",
       "      <td>-0.065904</td>\n",
       "      <td>-0.0447</td>\n",
       "      <td>-0.022145</td>\n",
       "      <td>-0.082836</td>\n",
       "      <td>0.043151</td>\n",
       "      <td>0.058734</td>\n",
       "      <td>A to A25</td>\n",
       "    </tr>\n",
       "  </tbody>\n",
       "</table>\n",
       "</div>"
      ],
      "text/plain": [
       "         AP      AP50      AP75       APs       APm       APl      AR@1  \\\n",
       "0 -0.060358 -0.084578 -0.033443 -0.157718  0.012226  0.060229 -0.065904   \n",
       "\n",
       "    AR@10        AR       ARs       ARm       ARl Comparison  \n",
       "0 -0.0447 -0.022145 -0.082836  0.043151  0.058734   A to A25  "
      ]
     },
     "execution_count": 28,
     "metadata": {},
     "output_type": "execute_result"
    }
   ],
   "source": [
    "df_train_A_over_TO_train_A_over_ganaug_025_rel = (df_train_A_over_ganaug_025_best_val_per_metric - df_train_A_over_best_val_per_metric) / df_train_A_over_best_val_per_metric\n",
    "df_train_A_over_TO_train_A_over_ganaug_025_rel[\"Comparison\"] = \"A to A25\"\n",
    "df_train_A_over_TO_train_A_over_ganaug_025_rel.head(1)"
   ]
  },
  {
   "cell_type": "markdown",
   "metadata": {},
   "source": [
    "### train_A_over --> train_A_over_ganaug_050 ###"
   ]
  },
  {
   "cell_type": "code",
   "execution_count": 29,
   "metadata": {},
   "outputs": [
    {
     "data": {
      "text/html": [
       "<div>\n",
       "<style scoped>\n",
       "    .dataframe tbody tr th:only-of-type {\n",
       "        vertical-align: middle;\n",
       "    }\n",
       "\n",
       "    .dataframe tbody tr th {\n",
       "        vertical-align: top;\n",
       "    }\n",
       "\n",
       "    .dataframe thead th {\n",
       "        text-align: right;\n",
       "    }\n",
       "</style>\n",
       "<table border=\"1\" class=\"dataframe\">\n",
       "  <thead>\n",
       "    <tr style=\"text-align: right;\">\n",
       "      <th></th>\n",
       "      <th>AP</th>\n",
       "      <th>AP50</th>\n",
       "      <th>AP75</th>\n",
       "      <th>APs</th>\n",
       "      <th>APm</th>\n",
       "      <th>APl</th>\n",
       "      <th>AR@1</th>\n",
       "      <th>AR@10</th>\n",
       "      <th>AR</th>\n",
       "      <th>ARs</th>\n",
       "      <th>ARm</th>\n",
       "      <th>ARl</th>\n",
       "      <th>Comparison</th>\n",
       "    </tr>\n",
       "  </thead>\n",
       "  <tbody>\n",
       "    <tr>\n",
       "      <th>0</th>\n",
       "      <td>-0.017866</td>\n",
       "      <td>-0.057774</td>\n",
       "      <td>-0.005969</td>\n",
       "      <td>-0.022119</td>\n",
       "      <td>-0.01123</td>\n",
       "      <td>0.032664</td>\n",
       "      <td>-0.004604</td>\n",
       "      <td>-0.018625</td>\n",
       "      <td>-0.016113</td>\n",
       "      <td>-0.01866</td>\n",
       "      <td>-0.015095</td>\n",
       "      <td>0.012288</td>\n",
       "      <td>Day to Day-R50-Fake</td>\n",
       "    </tr>\n",
       "  </tbody>\n",
       "</table>\n",
       "</div>"
      ],
      "text/plain": [
       "         AP      AP50      AP75       APs      APm       APl      AR@1  \\\n",
       "0 -0.017866 -0.057774 -0.005969 -0.022119 -0.01123  0.032664 -0.004604   \n",
       "\n",
       "      AR@10        AR      ARs       ARm       ARl           Comparison  \n",
       "0 -0.018625 -0.016113 -0.01866 -0.015095  0.012288  Day to Day-R50-Fake  "
      ]
     },
     "execution_count": 29,
     "metadata": {},
     "output_type": "execute_result"
    }
   ],
   "source": [
    "df_train_A_over_TO_train_A_over_ganaug_050 = df_train_A_over_ganaug_050_best_val_per_metric - df_train_A_over_best_val_per_metric\n",
    "#df_train_A_over_TO_train_A_over_ganaug_050[\"Comparison\"] = \"A to A50\"\n",
    "df_train_A_over_TO_train_A_over_ganaug_050[\"Comparison\"] = \"Day to Day-R50-Fake\"\n",
    "df_train_A_over_TO_train_A_over_ganaug_050.head(1)"
   ]
  },
  {
   "cell_type": "code",
   "execution_count": 30,
   "metadata": {},
   "outputs": [
    {
     "data": {
      "text/html": [
       "<div>\n",
       "<style scoped>\n",
       "    .dataframe tbody tr th:only-of-type {\n",
       "        vertical-align: middle;\n",
       "    }\n",
       "\n",
       "    .dataframe tbody tr th {\n",
       "        vertical-align: top;\n",
       "    }\n",
       "\n",
       "    .dataframe thead th {\n",
       "        text-align: right;\n",
       "    }\n",
       "</style>\n",
       "<table border=\"1\" class=\"dataframe\">\n",
       "  <thead>\n",
       "    <tr style=\"text-align: right;\">\n",
       "      <th></th>\n",
       "      <th>AP</th>\n",
       "      <th>AP50</th>\n",
       "      <th>AP75</th>\n",
       "      <th>APs</th>\n",
       "      <th>APm</th>\n",
       "      <th>APl</th>\n",
       "      <th>AR@1</th>\n",
       "      <th>AR@10</th>\n",
       "      <th>AR</th>\n",
       "      <th>ARs</th>\n",
       "      <th>ARm</th>\n",
       "      <th>ARl</th>\n",
       "      <th>Comparison</th>\n",
       "    </tr>\n",
       "  </thead>\n",
       "  <tbody>\n",
       "    <tr>\n",
       "      <th>0</th>\n",
       "      <td>-0.07778</td>\n",
       "      <td>-0.109203</td>\n",
       "      <td>-0.03517</td>\n",
       "      <td>-0.170729</td>\n",
       "      <td>-0.034839</td>\n",
       "      <td>0.08292</td>\n",
       "      <td>-0.051706</td>\n",
       "      <td>-0.061156</td>\n",
       "      <td>-0.047227</td>\n",
       "      <td>-0.074577</td>\n",
       "      <td>-0.034428</td>\n",
       "      <td>0.026668</td>\n",
       "      <td>Day to Day-R50-Fake</td>\n",
       "    </tr>\n",
       "  </tbody>\n",
       "</table>\n",
       "</div>"
      ],
      "text/plain": [
       "        AP      AP50     AP75       APs       APm      APl      AR@1  \\\n",
       "0 -0.07778 -0.109203 -0.03517 -0.170729 -0.034839  0.08292 -0.051706   \n",
       "\n",
       "      AR@10        AR       ARs       ARm       ARl           Comparison  \n",
       "0 -0.061156 -0.047227 -0.074577 -0.034428  0.026668  Day to Day-R50-Fake  "
      ]
     },
     "execution_count": 30,
     "metadata": {},
     "output_type": "execute_result"
    }
   ],
   "source": [
    "df_train_A_over_TO_train_A_over_ganaug_050_rel = (df_train_A_over_ganaug_050_best_val_per_metric - df_train_A_over_best_val_per_metric) / df_train_A_over_best_val_per_metric\n",
    "#df_train_A_over_TO_train_A_over_ganaug_050_rel[\"Comparison\"] = \"A to A50\"\n",
    "df_train_A_over_TO_train_A_over_ganaug_050_rel[\"Comparison\"] = \"Day to Day-R50-Fake\"\n",
    "df_train_A_over_TO_train_A_over_ganaug_050_rel.head(1)"
   ]
  },
  {
   "cell_type": "markdown",
   "metadata": {},
   "source": [
    "### train_A_over_ganaug_050_augonlyasbase --> train_A_over_ganaug_025 ###"
   ]
  },
  {
   "cell_type": "code",
   "execution_count": 31,
   "metadata": {},
   "outputs": [
    {
     "data": {
      "text/html": [
       "<div>\n",
       "<style scoped>\n",
       "    .dataframe tbody tr th:only-of-type {\n",
       "        vertical-align: middle;\n",
       "    }\n",
       "\n",
       "    .dataframe tbody tr th {\n",
       "        vertical-align: top;\n",
       "    }\n",
       "\n",
       "    .dataframe thead th {\n",
       "        text-align: right;\n",
       "    }\n",
       "</style>\n",
       "<table border=\"1\" class=\"dataframe\">\n",
       "  <thead>\n",
       "    <tr style=\"text-align: right;\">\n",
       "      <th></th>\n",
       "      <th>AP</th>\n",
       "      <th>AP50</th>\n",
       "      <th>AP75</th>\n",
       "      <th>APs</th>\n",
       "      <th>APm</th>\n",
       "      <th>APl</th>\n",
       "      <th>AR@1</th>\n",
       "      <th>AR@10</th>\n",
       "      <th>AR</th>\n",
       "      <th>ARs</th>\n",
       "      <th>ARm</th>\n",
       "      <th>ARl</th>\n",
       "      <th>Comparison</th>\n",
       "    </tr>\n",
       "  </thead>\n",
       "  <tbody>\n",
       "    <tr>\n",
       "      <th>0</th>\n",
       "      <td>0.014912</td>\n",
       "      <td>0.016223</td>\n",
       "      <td>0.019025</td>\n",
       "      <td>0.006572</td>\n",
       "      <td>0.030365</td>\n",
       "      <td>0.063136</td>\n",
       "      <td>-0.000634</td>\n",
       "      <td>0.016451</td>\n",
       "      <td>0.022659</td>\n",
       "      <td>0.009856</td>\n",
       "      <td>0.048452</td>\n",
       "      <td>0.081969</td>\n",
       "      <td>A50aoab to A25</td>\n",
       "    </tr>\n",
       "  </tbody>\n",
       "</table>\n",
       "</div>"
      ],
      "text/plain": [
       "         AP      AP50      AP75       APs       APm       APl      AR@1  \\\n",
       "0  0.014912  0.016223  0.019025  0.006572  0.030365  0.063136 -0.000634   \n",
       "\n",
       "      AR@10        AR       ARs       ARm       ARl      Comparison  \n",
       "0  0.016451  0.022659  0.009856  0.048452  0.081969  A50aoab to A25  "
      ]
     },
     "execution_count": 31,
     "metadata": {},
     "output_type": "execute_result"
    }
   ],
   "source": [
    "df_train_A_over_ganaug_050_augonlyasbase_TO_train_A_over_ganaug_025 = df_train_A_over_ganaug_025_best_val_per_metric - df_train_A_over_ganaug_050_augonlyasbase_best_val_per_metric\n",
    "df_train_A_over_ganaug_050_augonlyasbase_TO_train_A_over_ganaug_025[\"Comparison\"] = \"A50aoab to A25\"\n",
    "df_train_A_over_ganaug_050_augonlyasbase_TO_train_A_over_ganaug_025.head(1)"
   ]
  },
  {
   "cell_type": "code",
   "execution_count": 32,
   "metadata": {},
   "outputs": [
    {
     "data": {
      "text/html": [
       "<div>\n",
       "<style scoped>\n",
       "    .dataframe tbody tr th:only-of-type {\n",
       "        vertical-align: middle;\n",
       "    }\n",
       "\n",
       "    .dataframe tbody tr th {\n",
       "        vertical-align: top;\n",
       "    }\n",
       "\n",
       "    .dataframe thead th {\n",
       "        text-align: right;\n",
       "    }\n",
       "</style>\n",
       "<table border=\"1\" class=\"dataframe\">\n",
       "  <thead>\n",
       "    <tr style=\"text-align: right;\">\n",
       "      <th></th>\n",
       "      <th>AP</th>\n",
       "      <th>AP50</th>\n",
       "      <th>AP75</th>\n",
       "      <th>APs</th>\n",
       "      <th>APm</th>\n",
       "      <th>APl</th>\n",
       "      <th>AR@1</th>\n",
       "      <th>AR@10</th>\n",
       "      <th>AR</th>\n",
       "      <th>ARs</th>\n",
       "      <th>ARm</th>\n",
       "      <th>ARl</th>\n",
       "      <th>Comparison</th>\n",
       "    </tr>\n",
       "  </thead>\n",
       "  <tbody>\n",
       "    <tr>\n",
       "      <th>0</th>\n",
       "      <td>0.074217</td>\n",
       "      <td>0.034658</td>\n",
       "      <td>0.131184</td>\n",
       "      <td>0.064088</td>\n",
       "      <td>0.102612</td>\n",
       "      <td>0.178094</td>\n",
       "      <td>-0.007564</td>\n",
       "      <td>0.059934</td>\n",
       "      <td>0.072869</td>\n",
       "      <td>0.044876</td>\n",
       "      <td>0.118486</td>\n",
       "      <td>0.201955</td>\n",
       "      <td>A50aoab to A25</td>\n",
       "    </tr>\n",
       "  </tbody>\n",
       "</table>\n",
       "</div>"
      ],
      "text/plain": [
       "         AP      AP50      AP75       APs       APm       APl      AR@1  \\\n",
       "0  0.074217  0.034658  0.131184  0.064088  0.102612  0.178094 -0.007564   \n",
       "\n",
       "      AR@10        AR       ARs       ARm       ARl      Comparison  \n",
       "0  0.059934  0.072869  0.044876  0.118486  0.201955  A50aoab to A25  "
      ]
     },
     "execution_count": 32,
     "metadata": {},
     "output_type": "execute_result"
    }
   ],
   "source": [
    "df_train_A_over_ganaug_050_augonlyasbase_TO_train_A_over_ganaug_025_rel = (df_train_A_over_ganaug_025_best_val_per_metric - df_train_A_over_ganaug_050_augonlyasbase_best_val_per_metric) / df_train_A_over_ganaug_050_augonlyasbase_best_val_per_metric\n",
    "df_train_A_over_ganaug_050_augonlyasbase_TO_train_A_over_ganaug_025_rel[\"Comparison\"] = \"A50aoab to A25\"\n",
    "df_train_A_over_ganaug_050_augonlyasbase_TO_train_A_over_ganaug_025_rel.head(1)"
   ]
  },
  {
   "cell_type": "markdown",
   "metadata": {},
   "source": [
    "### train_A_over_ganaug_050_augonlyasbase --> train_A_over_ganaug_050 ###"
   ]
  },
  {
   "cell_type": "code",
   "execution_count": 33,
   "metadata": {},
   "outputs": [
    {
     "data": {
      "text/html": [
       "<div>\n",
       "<style scoped>\n",
       "    .dataframe tbody tr th:only-of-type {\n",
       "        vertical-align: middle;\n",
       "    }\n",
       "\n",
       "    .dataframe tbody tr th {\n",
       "        vertical-align: top;\n",
       "    }\n",
       "\n",
       "    .dataframe thead th {\n",
       "        text-align: right;\n",
       "    }\n",
       "</style>\n",
       "<table border=\"1\" class=\"dataframe\">\n",
       "  <thead>\n",
       "    <tr style=\"text-align: right;\">\n",
       "      <th></th>\n",
       "      <th>AP</th>\n",
       "      <th>AP50</th>\n",
       "      <th>AP75</th>\n",
       "      <th>APs</th>\n",
       "      <th>APm</th>\n",
       "      <th>APl</th>\n",
       "      <th>AR@1</th>\n",
       "      <th>AR@10</th>\n",
       "      <th>AR</th>\n",
       "      <th>ARs</th>\n",
       "      <th>ARm</th>\n",
       "      <th>ARl</th>\n",
       "      <th>Comparison</th>\n",
       "    </tr>\n",
       "  </thead>\n",
       "  <tbody>\n",
       "    <tr>\n",
       "      <th>0</th>\n",
       "      <td>0.01091</td>\n",
       "      <td>0.003195</td>\n",
       "      <td>0.018731</td>\n",
       "      <td>0.004887</td>\n",
       "      <td>0.015194</td>\n",
       "      <td>0.072075</td>\n",
       "      <td>0.00063</td>\n",
       "      <td>0.011439</td>\n",
       "      <td>0.014102</td>\n",
       "      <td>0.011922</td>\n",
       "      <td>0.014437</td>\n",
       "      <td>0.067193</td>\n",
       "      <td>Day/2 to Day-A50-Fake</td>\n",
       "    </tr>\n",
       "  </tbody>\n",
       "</table>\n",
       "</div>"
      ],
      "text/plain": [
       "        AP      AP50      AP75       APs       APm       APl     AR@1  \\\n",
       "0  0.01091  0.003195  0.018731  0.004887  0.015194  0.072075  0.00063   \n",
       "\n",
       "      AR@10        AR       ARs       ARm       ARl             Comparison  \n",
       "0  0.011439  0.014102  0.011922  0.014437  0.067193  Day/2 to Day-A50-Fake  "
      ]
     },
     "execution_count": 33,
     "metadata": {},
     "output_type": "execute_result"
    }
   ],
   "source": [
    "df_train_A_over_ganaug_050_augonlyasbase_TO_train_A_over_ganaug_050 = df_train_A_over_ganaug_050_best_val_per_metric - df_train_A_over_ganaug_050_augonlyasbase_best_val_per_metric\n",
    "#df_train_A_over_ganaug_050_augonlyasbase_TO_train_A_over_ganaug_050[\"Comparison\"] = \"A50aoab to A50\"\n",
    "df_train_A_over_ganaug_050_augonlyasbase_TO_train_A_over_ganaug_050[\"Comparison\"] = \"Day/2 to Day-A50-Fake\"\n",
    "df_train_A_over_ganaug_050_augonlyasbase_TO_train_A_over_ganaug_050.head(1)"
   ]
  },
  {
   "cell_type": "code",
   "execution_count": 34,
   "metadata": {},
   "outputs": [
    {
     "data": {
      "text/html": [
       "<div>\n",
       "<style scoped>\n",
       "    .dataframe tbody tr th:only-of-type {\n",
       "        vertical-align: middle;\n",
       "    }\n",
       "\n",
       "    .dataframe tbody tr th {\n",
       "        vertical-align: top;\n",
       "    }\n",
       "\n",
       "    .dataframe thead th {\n",
       "        text-align: right;\n",
       "    }\n",
       "</style>\n",
       "<table border=\"1\" class=\"dataframe\">\n",
       "  <thead>\n",
       "    <tr style=\"text-align: right;\">\n",
       "      <th></th>\n",
       "      <th>AP</th>\n",
       "      <th>AP50</th>\n",
       "      <th>AP75</th>\n",
       "      <th>APs</th>\n",
       "      <th>APm</th>\n",
       "      <th>APl</th>\n",
       "      <th>AR@1</th>\n",
       "      <th>AR@10</th>\n",
       "      <th>AR</th>\n",
       "      <th>ARs</th>\n",
       "      <th>ARm</th>\n",
       "      <th>ARl</th>\n",
       "      <th>Comparison</th>\n",
       "    </tr>\n",
       "  </thead>\n",
       "  <tbody>\n",
       "    <tr>\n",
       "      <th>0</th>\n",
       "      <td>0.0543</td>\n",
       "      <td>0.006826</td>\n",
       "      <td>0.129163</td>\n",
       "      <td>0.047651</td>\n",
       "      <td>0.051345</td>\n",
       "      <td>0.203309</td>\n",
       "      <td>0.00752</td>\n",
       "      <td>0.041675</td>\n",
       "      <td>0.045349</td>\n",
       "      <td>0.054285</td>\n",
       "      <td>0.035304</td>\n",
       "      <td>0.165551</td>\n",
       "      <td>Day/2 to Day-A50-Fake</td>\n",
       "    </tr>\n",
       "  </tbody>\n",
       "</table>\n",
       "</div>"
      ],
      "text/plain": [
       "       AP      AP50      AP75       APs       APm       APl     AR@1  \\\n",
       "0  0.0543  0.006826  0.129163  0.047651  0.051345  0.203309  0.00752   \n",
       "\n",
       "      AR@10        AR       ARs       ARm       ARl             Comparison  \n",
       "0  0.041675  0.045349  0.054285  0.035304  0.165551  Day/2 to Day-A50-Fake  "
      ]
     },
     "execution_count": 34,
     "metadata": {},
     "output_type": "execute_result"
    }
   ],
   "source": [
    "df_train_A_over_ganaug_050_augonlyasbase_TO_train_A_over_ganaug_050_rel = (df_train_A_over_ganaug_050_best_val_per_metric - df_train_A_over_ganaug_050_augonlyasbase_best_val_per_metric) / df_train_A_over_ganaug_050_augonlyasbase_best_val_per_metric\n",
    "#df_train_A_over_ganaug_050_augonlyasbase_TO_train_A_over_ganaug_050_rel[\"Comparison\"] = \"A50aoab to A50\"\n",
    "df_train_A_over_ganaug_050_augonlyasbase_TO_train_A_over_ganaug_050_rel[\"Comparison\"] = \"Day/2 to Day-A50-Fake\"\n",
    "df_train_A_over_ganaug_050_augonlyasbase_TO_train_A_over_ganaug_050_rel.head(1)"
   ]
  },
  {
   "cell_type": "markdown",
   "metadata": {},
   "source": [
    "### train_A_over_ganaug_050_augonlyasbase --> train_C ###"
   ]
  },
  {
   "cell_type": "code",
   "execution_count": 35,
   "metadata": {},
   "outputs": [
    {
     "data": {
      "text/html": [
       "<div>\n",
       "<style scoped>\n",
       "    .dataframe tbody tr th:only-of-type {\n",
       "        vertical-align: middle;\n",
       "    }\n",
       "\n",
       "    .dataframe tbody tr th {\n",
       "        vertical-align: top;\n",
       "    }\n",
       "\n",
       "    .dataframe thead th {\n",
       "        text-align: right;\n",
       "    }\n",
       "</style>\n",
       "<table border=\"1\" class=\"dataframe\">\n",
       "  <thead>\n",
       "    <tr style=\"text-align: right;\">\n",
       "      <th></th>\n",
       "      <th>AP</th>\n",
       "      <th>AP50</th>\n",
       "      <th>AP75</th>\n",
       "      <th>APs</th>\n",
       "      <th>APm</th>\n",
       "      <th>APl</th>\n",
       "      <th>AR@1</th>\n",
       "      <th>AR@10</th>\n",
       "      <th>AR</th>\n",
       "      <th>ARs</th>\n",
       "      <th>ARm</th>\n",
       "      <th>ARl</th>\n",
       "      <th>Comparison</th>\n",
       "    </tr>\n",
       "  </thead>\n",
       "  <tbody>\n",
       "    <tr>\n",
       "      <th>0</th>\n",
       "      <td>0.052532</td>\n",
       "      <td>0.113541</td>\n",
       "      <td>0.047022</td>\n",
       "      <td>0.037659</td>\n",
       "      <td>0.06783</td>\n",
       "      <td>0.07186</td>\n",
       "      <td>0.01185</td>\n",
       "      <td>0.053213</td>\n",
       "      <td>0.054193</td>\n",
       "      <td>0.050313</td>\n",
       "      <td>0.063496</td>\n",
       "      <td>0.073441</td>\n",
       "      <td>Day/2 to Day-A50-Real</td>\n",
       "    </tr>\n",
       "  </tbody>\n",
       "</table>\n",
       "</div>"
      ],
      "text/plain": [
       "         AP      AP50      AP75       APs      APm      APl     AR@1  \\\n",
       "0  0.052532  0.113541  0.047022  0.037659  0.06783  0.07186  0.01185   \n",
       "\n",
       "      AR@10        AR       ARs       ARm       ARl             Comparison  \n",
       "0  0.053213  0.054193  0.050313  0.063496  0.073441  Day/2 to Day-A50-Real  "
      ]
     },
     "execution_count": 35,
     "metadata": {},
     "output_type": "execute_result"
    }
   ],
   "source": [
    "df_train_A_over_ganaug_050_augonlyasbase_TO_train_C_over = df_train_C_over_best_val_per_metric - df_train_A_over_ganaug_050_augonlyasbase_best_val_per_metric\n",
    "#df_train_A_over_ganaug_050_augonlyasbase_TO_train_C_over[\"Comparison\"] = \"A50aoab to C\"\n",
    "df_train_A_over_ganaug_050_augonlyasbase_TO_train_C_over[\"Comparison\"] = \"Day/2 to Day-A50-Real\"\n",
    "df_train_A_over_ganaug_050_augonlyasbase_TO_train_C_over.head(1)"
   ]
  },
  {
   "cell_type": "code",
   "execution_count": 36,
   "metadata": {},
   "outputs": [
    {
     "data": {
      "text/html": [
       "<div>\n",
       "<style scoped>\n",
       "    .dataframe tbody tr th:only-of-type {\n",
       "        vertical-align: middle;\n",
       "    }\n",
       "\n",
       "    .dataframe tbody tr th {\n",
       "        vertical-align: top;\n",
       "    }\n",
       "\n",
       "    .dataframe thead th {\n",
       "        text-align: right;\n",
       "    }\n",
       "</style>\n",
       "<table border=\"1\" class=\"dataframe\">\n",
       "  <thead>\n",
       "    <tr style=\"text-align: right;\">\n",
       "      <th></th>\n",
       "      <th>AP</th>\n",
       "      <th>AP50</th>\n",
       "      <th>AP75</th>\n",
       "      <th>APs</th>\n",
       "      <th>APm</th>\n",
       "      <th>APl</th>\n",
       "      <th>AR@1</th>\n",
       "      <th>AR@10</th>\n",
       "      <th>AR</th>\n",
       "      <th>ARs</th>\n",
       "      <th>ARm</th>\n",
       "      <th>ARl</th>\n",
       "      <th>Comparison</th>\n",
       "    </tr>\n",
       "  </thead>\n",
       "  <tbody>\n",
       "    <tr>\n",
       "      <th>0</th>\n",
       "      <td>0.261458</td>\n",
       "      <td>0.242568</td>\n",
       "      <td>0.324239</td>\n",
       "      <td>0.367227</td>\n",
       "      <td>0.229219</td>\n",
       "      <td>0.202704</td>\n",
       "      <td>0.141402</td>\n",
       "      <td>0.193869</td>\n",
       "      <td>0.174276</td>\n",
       "      <td>0.229086</td>\n",
       "      <td>0.155277</td>\n",
       "      <td>0.180944</td>\n",
       "      <td>Day/2 to Day-A50-Real</td>\n",
       "    </tr>\n",
       "  </tbody>\n",
       "</table>\n",
       "</div>"
      ],
      "text/plain": [
       "         AP      AP50      AP75       APs       APm       APl      AR@1  \\\n",
       "0  0.261458  0.242568  0.324239  0.367227  0.229219  0.202704  0.141402   \n",
       "\n",
       "      AR@10        AR       ARs       ARm       ARl             Comparison  \n",
       "0  0.193869  0.174276  0.229086  0.155277  0.180944  Day/2 to Day-A50-Real  "
      ]
     },
     "execution_count": 36,
     "metadata": {},
     "output_type": "execute_result"
    }
   ],
   "source": [
    "df_train_A_over_ganaug_050_augonlyasbase_TO_train_C_over_rel = (df_train_C_over_best_val_per_metric - df_train_A_over_ganaug_050_augonlyasbase_best_val_per_metric) / df_train_A_over_ganaug_050_augonlyasbase_best_val_per_metric\n",
    "#df_train_A_over_ganaug_050_augonlyasbase_TO_train_C_over_rel[\"Comparison\"] = \"A50aoab to C\"\n",
    "df_train_A_over_ganaug_050_augonlyasbase_TO_train_C_over_rel[\"Comparison\"] = \"Day/2 to Day-A50-Real\"\n",
    "df_train_A_over_ganaug_050_augonlyasbase_TO_train_C_over_rel.head(1)"
   ]
  },
  {
   "cell_type": "markdown",
   "metadata": {},
   "source": [
    "## Combine ##"
   ]
  },
  {
   "cell_type": "code",
   "execution_count": 37,
   "metadata": {},
   "outputs": [],
   "source": [
    "#df_combined = pd.concat([df_train_A_over_TO_train_B_over, df_train_A_over_TO_train_C_over, df_train_A_over_TO_train_A_over_ganaug_025, df_train_A_over_TO_train_A_over_ganaug_050, df_train_A_over_ganaug_050_augonlyasbase_TO_train_A_over_ganaug_025, df_train_A_over_ganaug_050_augonlyasbase_TO_train_A_over_ganaug_050], axis = 0)\n",
    "df_combined = pd.concat([df_train_A_over_TO_train_C_over, df_train_A_over_TO_train_A_over_ganaug_050, df_train_A_over_ganaug_050_augonlyasbase_TO_train_C_over, df_train_A_over_ganaug_050_augonlyasbase_TO_train_A_over_ganaug_050], axis = 0)\n",
    "df_combined_rel = pd.concat([df_train_A_over_TO_train_C_over_rel, df_train_A_over_TO_train_A_over_ganaug_050_rel, df_train_A_over_ganaug_050_augonlyasbase_TO_train_C_over_rel, df_train_A_over_ganaug_050_augonlyasbase_TO_train_A_over_ganaug_050_rel], axis = 0)"
   ]
  },
  {
   "cell_type": "code",
   "execution_count": 38,
   "metadata": {},
   "outputs": [
    {
     "data": {
      "text/html": [
       "<div>\n",
       "<style scoped>\n",
       "    .dataframe tbody tr th:only-of-type {\n",
       "        vertical-align: middle;\n",
       "    }\n",
       "\n",
       "    .dataframe tbody tr th {\n",
       "        vertical-align: top;\n",
       "    }\n",
       "\n",
       "    .dataframe thead th {\n",
       "        text-align: right;\n",
       "    }\n",
       "</style>\n",
       "<table border=\"1\" class=\"dataframe\">\n",
       "  <thead>\n",
       "    <tr style=\"text-align: right;\">\n",
       "      <th></th>\n",
       "      <th>AP</th>\n",
       "      <th>AP50</th>\n",
       "      <th>AP75</th>\n",
       "      <th>APs</th>\n",
       "      <th>APm</th>\n",
       "      <th>APl</th>\n",
       "      <th>AR@1</th>\n",
       "      <th>AR@10</th>\n",
       "      <th>AR</th>\n",
       "      <th>ARs</th>\n",
       "      <th>ARm</th>\n",
       "      <th>ARl</th>\n",
       "    </tr>\n",
       "    <tr>\n",
       "      <th>Comparison</th>\n",
       "      <th></th>\n",
       "      <th></th>\n",
       "      <th></th>\n",
       "      <th></th>\n",
       "      <th></th>\n",
       "      <th></th>\n",
       "      <th></th>\n",
       "      <th></th>\n",
       "      <th></th>\n",
       "      <th></th>\n",
       "      <th></th>\n",
       "      <th></th>\n",
       "    </tr>\n",
       "  </thead>\n",
       "  <tbody>\n",
       "    <tr>\n",
       "      <th>Day to Day-R50-Real</th>\n",
       "      <td>0.023756</td>\n",
       "      <td>0.052573</td>\n",
       "      <td>0.022321</td>\n",
       "      <td>0.010653</td>\n",
       "      <td>0.041406</td>\n",
       "      <td>0.032449</td>\n",
       "      <td>0.006616</td>\n",
       "      <td>0.023149</td>\n",
       "      <td>0.023978</td>\n",
       "      <td>0.019731</td>\n",
       "      <td>0.033965</td>\n",
       "      <td>0.018536</td>\n",
       "    </tr>\n",
       "    <tr>\n",
       "      <th>Day to Day-R50-Fake</th>\n",
       "      <td>-0.017866</td>\n",
       "      <td>-0.057774</td>\n",
       "      <td>-0.005969</td>\n",
       "      <td>-0.022119</td>\n",
       "      <td>-0.011230</td>\n",
       "      <td>0.032664</td>\n",
       "      <td>-0.004604</td>\n",
       "      <td>-0.018625</td>\n",
       "      <td>-0.016113</td>\n",
       "      <td>-0.018660</td>\n",
       "      <td>-0.015095</td>\n",
       "      <td>0.012288</td>\n",
       "    </tr>\n",
       "    <tr>\n",
       "      <th>Day/2 to Day-A50-Real</th>\n",
       "      <td>0.052532</td>\n",
       "      <td>0.113541</td>\n",
       "      <td>0.047022</td>\n",
       "      <td>0.037659</td>\n",
       "      <td>0.067830</td>\n",
       "      <td>0.071860</td>\n",
       "      <td>0.011850</td>\n",
       "      <td>0.053213</td>\n",
       "      <td>0.054193</td>\n",
       "      <td>0.050313</td>\n",
       "      <td>0.063496</td>\n",
       "      <td>0.073441</td>\n",
       "    </tr>\n",
       "    <tr>\n",
       "      <th>Day/2 to Day-A50-Fake</th>\n",
       "      <td>0.010910</td>\n",
       "      <td>0.003195</td>\n",
       "      <td>0.018731</td>\n",
       "      <td>0.004887</td>\n",
       "      <td>0.015194</td>\n",
       "      <td>0.072075</td>\n",
       "      <td>0.000630</td>\n",
       "      <td>0.011439</td>\n",
       "      <td>0.014102</td>\n",
       "      <td>0.011922</td>\n",
       "      <td>0.014437</td>\n",
       "      <td>0.067193</td>\n",
       "    </tr>\n",
       "  </tbody>\n",
       "</table>\n",
       "</div>"
      ],
      "text/plain": [
       "                             AP      AP50      AP75       APs       APm  \\\n",
       "Comparison                                                                \n",
       "Day to Day-R50-Real    0.023756  0.052573  0.022321  0.010653  0.041406   \n",
       "Day to Day-R50-Fake   -0.017866 -0.057774 -0.005969 -0.022119 -0.011230   \n",
       "Day/2 to Day-A50-Real  0.052532  0.113541  0.047022  0.037659  0.067830   \n",
       "Day/2 to Day-A50-Fake  0.010910  0.003195  0.018731  0.004887  0.015194   \n",
       "\n",
       "                            APl      AR@1     AR@10        AR       ARs  \\\n",
       "Comparison                                                                \n",
       "Day to Day-R50-Real    0.032449  0.006616  0.023149  0.023978  0.019731   \n",
       "Day to Day-R50-Fake    0.032664 -0.004604 -0.018625 -0.016113 -0.018660   \n",
       "Day/2 to Day-A50-Real  0.071860  0.011850  0.053213  0.054193  0.050313   \n",
       "Day/2 to Day-A50-Fake  0.072075  0.000630  0.011439  0.014102  0.011922   \n",
       "\n",
       "                            ARm       ARl  \n",
       "Comparison                                 \n",
       "Day to Day-R50-Real    0.033965  0.018536  \n",
       "Day to Day-R50-Fake   -0.015095  0.012288  \n",
       "Day/2 to Day-A50-Real  0.063496  0.073441  \n",
       "Day/2 to Day-A50-Fake  0.014437  0.067193  "
      ]
     },
     "execution_count": 38,
     "metadata": {},
     "output_type": "execute_result"
    }
   ],
   "source": [
    "df_combined = df_combined.set_index(\"Comparison\")\n",
    "df_combined.head()"
   ]
  },
  {
   "cell_type": "code",
   "execution_count": 39,
   "metadata": {},
   "outputs": [
    {
     "data": {
      "text/html": [
       "<div>\n",
       "<style scoped>\n",
       "    .dataframe tbody tr th:only-of-type {\n",
       "        vertical-align: middle;\n",
       "    }\n",
       "\n",
       "    .dataframe tbody tr th {\n",
       "        vertical-align: top;\n",
       "    }\n",
       "\n",
       "    .dataframe thead th {\n",
       "        text-align: right;\n",
       "    }\n",
       "</style>\n",
       "<table border=\"1\" class=\"dataframe\">\n",
       "  <thead>\n",
       "    <tr style=\"text-align: right;\">\n",
       "      <th></th>\n",
       "      <th>AP</th>\n",
       "      <th>AP50</th>\n",
       "      <th>AP75</th>\n",
       "      <th>APs</th>\n",
       "      <th>APm</th>\n",
       "      <th>APl</th>\n",
       "      <th>AR@1</th>\n",
       "      <th>AR@10</th>\n",
       "      <th>AR</th>\n",
       "      <th>ARs</th>\n",
       "      <th>ARm</th>\n",
       "      <th>ARl</th>\n",
       "    </tr>\n",
       "    <tr>\n",
       "      <th>Comparison</th>\n",
       "      <th></th>\n",
       "      <th></th>\n",
       "      <th></th>\n",
       "      <th></th>\n",
       "      <th></th>\n",
       "      <th></th>\n",
       "      <th></th>\n",
       "      <th></th>\n",
       "      <th></th>\n",
       "      <th></th>\n",
       "      <th></th>\n",
       "      <th></th>\n",
       "    </tr>\n",
       "  </thead>\n",
       "  <tbody>\n",
       "    <tr>\n",
       "      <th>Day to Day-R50-Real</th>\n",
       "      <td>0.103426</td>\n",
       "      <td>0.099372</td>\n",
       "      <td>0.131516</td>\n",
       "      <td>0.082232</td>\n",
       "      <td>0.128454</td>\n",
       "      <td>0.082376</td>\n",
       "      <td>0.074306</td>\n",
       "      <td>0.076013</td>\n",
       "      <td>0.070282</td>\n",
       "      <td>0.078859</td>\n",
       "      <td>0.077464</td>\n",
       "      <td>0.040227</td>\n",
       "    </tr>\n",
       "    <tr>\n",
       "      <th>Day to Day-R50-Fake</th>\n",
       "      <td>-0.077780</td>\n",
       "      <td>-0.109203</td>\n",
       "      <td>-0.035170</td>\n",
       "      <td>-0.170729</td>\n",
       "      <td>-0.034839</td>\n",
       "      <td>0.082920</td>\n",
       "      <td>-0.051706</td>\n",
       "      <td>-0.061156</td>\n",
       "      <td>-0.047227</td>\n",
       "      <td>-0.074577</td>\n",
       "      <td>-0.034428</td>\n",
       "      <td>0.026668</td>\n",
       "    </tr>\n",
       "    <tr>\n",
       "      <th>Day/2 to Day-A50-Real</th>\n",
       "      <td>0.261458</td>\n",
       "      <td>0.242568</td>\n",
       "      <td>0.324239</td>\n",
       "      <td>0.367227</td>\n",
       "      <td>0.229219</td>\n",
       "      <td>0.202704</td>\n",
       "      <td>0.141402</td>\n",
       "      <td>0.193869</td>\n",
       "      <td>0.174276</td>\n",
       "      <td>0.229086</td>\n",
       "      <td>0.155277</td>\n",
       "      <td>0.180944</td>\n",
       "    </tr>\n",
       "    <tr>\n",
       "      <th>Day/2 to Day-A50-Fake</th>\n",
       "      <td>0.054300</td>\n",
       "      <td>0.006826</td>\n",
       "      <td>0.129163</td>\n",
       "      <td>0.047651</td>\n",
       "      <td>0.051345</td>\n",
       "      <td>0.203309</td>\n",
       "      <td>0.007520</td>\n",
       "      <td>0.041675</td>\n",
       "      <td>0.045349</td>\n",
       "      <td>0.054285</td>\n",
       "      <td>0.035304</td>\n",
       "      <td>0.165551</td>\n",
       "    </tr>\n",
       "  </tbody>\n",
       "</table>\n",
       "</div>"
      ],
      "text/plain": [
       "                             AP      AP50      AP75       APs       APm  \\\n",
       "Comparison                                                                \n",
       "Day to Day-R50-Real    0.103426  0.099372  0.131516  0.082232  0.128454   \n",
       "Day to Day-R50-Fake   -0.077780 -0.109203 -0.035170 -0.170729 -0.034839   \n",
       "Day/2 to Day-A50-Real  0.261458  0.242568  0.324239  0.367227  0.229219   \n",
       "Day/2 to Day-A50-Fake  0.054300  0.006826  0.129163  0.047651  0.051345   \n",
       "\n",
       "                            APl      AR@1     AR@10        AR       ARs  \\\n",
       "Comparison                                                                \n",
       "Day to Day-R50-Real    0.082376  0.074306  0.076013  0.070282  0.078859   \n",
       "Day to Day-R50-Fake    0.082920 -0.051706 -0.061156 -0.047227 -0.074577   \n",
       "Day/2 to Day-A50-Real  0.202704  0.141402  0.193869  0.174276  0.229086   \n",
       "Day/2 to Day-A50-Fake  0.203309  0.007520  0.041675  0.045349  0.054285   \n",
       "\n",
       "                            ARm       ARl  \n",
       "Comparison                                 \n",
       "Day to Day-R50-Real    0.077464  0.040227  \n",
       "Day to Day-R50-Fake   -0.034428  0.026668  \n",
       "Day/2 to Day-A50-Real  0.155277  0.180944  \n",
       "Day/2 to Day-A50-Fake  0.035304  0.165551  "
      ]
     },
     "execution_count": 39,
     "metadata": {},
     "output_type": "execute_result"
    }
   ],
   "source": [
    "df_combined_rel = df_combined_rel.set_index(\"Comparison\")\n",
    "df_combined_rel.head()"
   ]
  },
  {
   "cell_type": "code",
   "execution_count": 40,
   "metadata": {},
   "outputs": [
    {
     "data": {
      "text/plain": [
       "Text(0, 0.5, 'Absolute change in score')"
      ]
     },
     "execution_count": 40,
     "metadata": {},
     "output_type": "execute_result"
    },
    {
     "data": {
      "image/png": "[encoded data removed]",
      "text/plain": [
       "<Figure size 1152x648 with 1 Axes>"
      ]
     },
     "metadata": {
      "needs_background": "light"
     },
     "output_type": "display_data"
    }
   ],
   "source": [
    "ax = df_combined.plot(kind = \"bar\", figsize = (16, 9))\n",
    "ax.set_xlabel(\"\")\n",
    "ax.set_ylabel(\"Absolute change in score\")"
   ]
  },
  {
   "cell_type": "code",
   "execution_count": 41,
   "metadata": {},
   "outputs": [
    {
     "data": {
      "text/html": [
       "<script type=\"text/javascript\">window.PlotlyConfig = {MathJaxConfig: 'local'};</script><script type=\"text/javascript\">if (window.MathJax) {MathJax.Hub.Config({SVG: {font: \"STIX-Web\"}});}</script><script>requirejs.config({paths: { 'plotly': ['https://cdn.plot.ly/plotly-latest.min']},});if(!window._Plotly) {require(['plotly'],function(plotly) {window._Plotly=plotly;});}</script>"
      ],
      "text/vnd.plotly.v1+html": [
       "<script type=\"text/javascript\">window.PlotlyConfig = {MathJaxConfig: 'local'};</script><script type=\"text/javascript\">if (window.MathJax) {MathJax.Hub.Config({SVG: {font: \"STIX-Web\"}});}</script><script>requirejs.config({paths: { 'plotly': ['https://cdn.plot.ly/plotly-latest.min']},});if(!window._Plotly) {require(['plotly'],function(plotly) {window._Plotly=plotly;});}</script>"
      ]
     },
     "metadata": {},
     "output_type": "display_data"
    },
    {
     "data": {
      "application/vnd.plotly.v1+json": {
       "config": {
        "displaylogo": false,
        "linkText": "Export to plot.ly",
        "modeBarButtonsToRemove": [
         "sendDataToCloud"
        ],
        "plotlyServerURL": "https://plot.ly",
        "showLink": false
       },
       "data": [
        {
         "marker": {
          "color": "rgba(255, 153, 51, 0.6)",
          "line": {
           "color": "rgba(255, 153, 51, 1.0)",
           "width": 1
          }
         },
         "name": "AP",
         "orientation": "v",
         "text": "",
         "type": "bar",
         "uid": "af9ca4a7-3f72-4dac-957d-9fc96d1223c9",
         "x": [
          "Day to Day-R50-Real",
          "Day to Day-R50-Fake",
          "Day/2 to Day-A50-Real",
          "Day/2 to Day-A50-Fake"
         ],
         "y": [
          0.023756377055759864,
          -0.017865524654154863,
          0.05253188600155553,
          0.010909984291640806
         ]
        },
        {
         "marker": {
          "color": "rgba(55, 128, 191, 0.6)",
          "line": {
           "color": "rgba(55, 128, 191, 1.0)",
           "width": 1
          }
         },
         "name": "AP50",
         "orientation": "v",
         "text": "",
         "type": "bar",
         "uid": "f8eadc4e-ea51-4c1f-a35c-6c135cd2cb86",
         "x": [
          "Day to Day-R50-Real",
          "Day to Day-R50-Fake",
          "Day/2 to Day-A50-Real",
          "Day/2 to Day-A50-Fake"
         ],
         "y": [
          0.05257255051705678,
          -0.05777374438056598,
          0.11354122557848234,
          0.0031949306808595757
         ]
        },
        {
         "marker": {
          "color": "rgba(50, 171, 96, 0.6)",
          "line": {
           "color": "rgba(50, 171, 96, 1.0)",
           "width": 1
          }
         },
         "name": "AP75",
         "orientation": "v",
         "text": "",
         "type": "bar",
         "uid": "3c8dbec1-10a5-49db-83a9-9e377fcdcada",
         "x": [
          "Day to Day-R50-Real",
          "Day to Day-R50-Fake",
          "Day/2 to Day-A50-Real",
          "Day/2 to Day-A50-Fake"
         ],
         "y": [
          0.022321072704755723,
          -0.005969179096788402,
          0.04702153839493972,
          0.018731286593395596
         ]
        },
        {
         "marker": {
          "color": "rgba(128, 0, 128, 0.6)",
          "line": {
           "color": "rgba(128, 0, 128, 1.0)",
           "width": 1
          }
         },
         "name": "APs",
         "orientation": "v",
         "text": "",
         "type": "bar",
         "uid": "272c9ad4-906a-426b-9feb-f70916e800d7",
         "x": [
          "Day to Day-R50-Real",
          "Day to Day-R50-Fake",
          "Day/2 to Day-A50-Real",
          "Day/2 to Day-A50-Fake"
         ],
         "y": [
          0.010653467945845124,
          -0.0221185233070621,
          0.03765850434028391,
          0.004886513087376684
         ]
        },
        {
         "marker": {
          "color": "rgba(219, 64, 82, 0.6)",
          "line": {
           "color": "rgba(219, 64, 82, 1.0)",
           "width": 1
          }
         },
         "name": "APm",
         "orientation": "v",
         "text": "",
         "type": "bar",
         "uid": "d992f575-2f85-46aa-ad61-b115edaa814e",
         "x": [
          "Day to Day-R50-Real",
          "Day to Day-R50-Fake",
          "Day/2 to Day-A50-Real",
          "Day/2 to Day-A50-Fake"
         ],
         "y": [
          0.041406448322992506,
          -0.011230091238593198,
          0.0678304661665699,
          0.015193926604984198
         ]
        },
        {
         "marker": {
          "color": "rgba(0, 128, 128, 0.6)",
          "line": {
           "color": "rgba(0, 128, 128, 1.0)",
           "width": 1
          }
         },
         "name": "APl",
         "orientation": "v",
         "text": "",
         "type": "bar",
         "uid": "9298dbaf-03a2-44ba-9e33-4dfb1b81a812",
         "x": [
          "Day to Day-R50-Real",
          "Day to Day-R50-Fake",
          "Day/2 to Day-A50-Real",
          "Day/2 to Day-A50-Fake"
         ],
         "y": [
          0.03244945699979801,
          0.032663923678519335,
          0.07186035473548164,
          0.07207482141420296
         ]
        },
        {
         "marker": {
          "color": "rgba(255, 255, 51, 0.6)",
          "line": {
           "color": "rgba(255, 255, 51, 1.0)",
           "width": 1
          }
         },
         "name": "AR@1",
         "orientation": "v",
         "text": "",
         "type": "bar",
         "uid": "3c4699ea-df57-418e-a15c-0f374ae6c7e9",
         "x": [
          "Day to Day-R50-Real",
          "Day to Day-R50-Fake",
          "Day/2 to Day-A50-Real",
          "Day/2 to Day-A50-Fake"
         ],
         "y": [
          0.006615793222306474,
          -0.004603634415469418,
          0.011849566421851435,
          0.0006301387840755429
         ]
        },
        {
         "marker": {
          "color": "rgba(128, 128, 0, 0.6)",
          "line": {
           "color": "rgba(128, 128, 0, 1.0)",
           "width": 1
          }
         },
         "name": "AR@10",
         "orientation": "v",
         "text": "",
         "type": "bar",
         "uid": "bced391d-40d5-4506-b243-d089f04c2f23",
         "x": [
          "Day to Day-R50-Real",
          "Day to Day-R50-Fake",
          "Day/2 to Day-A50-Real",
          "Day/2 to Day-A50-Fake"
         ],
         "y": [
          0.023149192668601992,
          -0.018624708420556912,
          0.053212866768620914,
          0.01143896567946201
         ]
        },
        {
         "marker": {
          "color": "rgba(251, 128, 114, 0.6)",
          "line": {
           "color": "rgba(251, 128, 114, 1.0)",
           "width": 1
          }
         },
         "name": "AR",
         "orientation": "v",
         "text": "",
         "type": "bar",
         "uid": "16430d94-ee03-4d00-ac7b-d0739abc7884",
         "x": [
          "Day to Day-R50-Real",
          "Day to Day-R50-Fake",
          "Day/2 to Day-A50-Real",
          "Day/2 to Day-A50-Fake"
         ],
         "y": [
          0.023978291322600598,
          -0.01611265853555005,
          0.054192611759012244,
          0.014101661900861595
         ]
        },
        {
         "marker": {
          "color": "rgba(128, 177, 211, 0.6)",
          "line": {
           "color": "rgba(128, 177, 211, 1.0)",
           "width": 1
          }
         },
         "name": "ARs",
         "orientation": "v",
         "text": "",
         "type": "bar",
         "uid": "9d785399-f0b8-459e-b5d3-c400a2a2810c",
         "x": [
          "Day to Day-R50-Real",
          "Day to Day-R50-Fake",
          "Day/2 to Day-A50-Real",
          "Day/2 to Day-A50-Fake"
         ],
         "y": [
          0.019731088139482766,
          -0.018659613898627664,
          0.05031297013849423,
          0.011922268100383798
         ]
        },
        {
         "marker": {
          "color": "rgba(128, 177, 211, 0.6)",
          "line": {
           "color": "rgba(128, 177, 211, 0.8999999999999999)",
           "width": 1
          }
         },
         "name": "ARm",
         "orientation": "v",
         "text": "",
         "type": "bar",
         "uid": "91ee1a4c-7b8b-4739-b34e-4ce9a887bce0",
         "x": [
          "Day to Day-R50-Real",
          "Day to Day-R50-Fake",
          "Day/2 to Day-A50-Real",
          "Day/2 to Day-A50-Fake"
         ],
         "y": [
          0.03396455716358088,
          -0.015095216849705384,
          0.06349630074436208,
          0.014436526731075816
         ]
        },
        {
         "marker": {
          "color": "rgba(255, 153, 51, 0.6)",
          "line": {
           "color": "rgba(255, 153, 51, 0.8999999999999999)",
           "width": 1
          }
         },
         "name": "ARl",
         "orientation": "v",
         "text": "",
         "type": "bar",
         "uid": "2d8e79b4-3be3-4ef8-b8b5-2d41074c6511",
         "x": [
          "Day to Day-R50-Real",
          "Day to Day-R50-Fake",
          "Day/2 to Day-A50-Real",
          "Day/2 to Day-A50-Fake"
         ],
         "y": [
          0.01853571569673268,
          0.012287888665007296,
          0.07344084587728661,
          0.06719301884556123
         ]
        }
       ],
       "layout": {
        "height": 540,
        "title": {
         "text": "Impact of GAN-based augmentation: person (test set, night fraction)"
        },
        "width": 960,
        "yaxis": {
         "title": {
          "text": "Absolute change in score"
         }
        }
       }
      },
      "text/html": [
       "<div id=\"a3aad488-6097-48ef-bb2f-eed6434b5c02\" style=\"height: 540px; width: 960px;\" class=\"plotly-graph-div\"></div><script type=\"text/javascript\">require([\"plotly\"], function(Plotly) { window.PLOTLYENV=window.PLOTLYENV || {};window.PLOTLYENV.BASE_URL=\"https://plot.ly\";\n",
       "if (document.getElementById(\"a3aad488-6097-48ef-bb2f-eed6434b5c02\")) {\n",
       "    Plotly.newPlot(\"a3aad488-6097-48ef-bb2f-eed6434b5c02\", [{\"marker\": {\"color\": \"rgba(255, 153, 51, 0.6)\", \"line\": {\"color\": \"rgba(255, 153, 51, 1.0)\", \"width\": 1}}, \"name\": \"AP\", \"orientation\": \"v\", \"text\": \"\", \"x\": [\"Day to Day-R50-Real\", \"Day to Day-R50-Fake\", \"Day/2 to Day-A50-Real\", \"Day/2 to Day-A50-Fake\"], \"y\": [0.023756377055759864, -0.017865524654154863, 0.05253188600155553, 0.010909984291640806], \"type\": \"bar\", \"uid\": \"af9ca4a7-3f72-4dac-957d-9fc96d1223c9\"}, {\"marker\": {\"color\": \"rgba(55, 128, 191, 0.6)\", \"line\": {\"color\": \"rgba(55, 128, 191, 1.0)\", \"width\": 1}}, \"name\": \"AP50\", \"orientation\": \"v\", \"text\": \"\", \"x\": [\"Day to Day-R50-Real\", \"Day to Day-R50-Fake\", \"Day/2 to Day-A50-Real\", \"Day/2 to Day-A50-Fake\"], \"y\": [0.05257255051705678, -0.05777374438056598, 0.11354122557848234, 0.0031949306808595757], \"type\": \"bar\", \"uid\": \"f8eadc4e-ea51-4c1f-a35c-6c135cd2cb86\"}, {\"marker\": {\"color\": \"rgba(50, 171, 96, 0.6)\", \"line\": {\"color\": \"rgba(50, 171, 96, 1.0)\", \"width\": 1}}, \"name\": \"AP75\", \"orientation\": \"v\", \"text\": \"\", \"x\": [\"Day to Day-R50-Real\", \"Day to Day-R50-Fake\", \"Day/2 to Day-A50-Real\", \"Day/2 to Day-A50-Fake\"], \"y\": [0.022321072704755723, -0.005969179096788402, 0.04702153839493972, 0.018731286593395596], \"type\": \"bar\", \"uid\": \"3c8dbec1-10a5-49db-83a9-9e377fcdcada\"}, {\"marker\": {\"color\": \"rgba(128, 0, 128, 0.6)\", \"line\": {\"color\": \"rgba(128, 0, 128, 1.0)\", \"width\": 1}}, \"name\": \"APs\", \"orientation\": \"v\", \"text\": \"\", \"x\": [\"Day to Day-R50-Real\", \"Day to Day-R50-Fake\", \"Day/2 to Day-A50-Real\", \"Day/2 to Day-A50-Fake\"], \"y\": [0.010653467945845124, -0.0221185233070621, 0.03765850434028391, 0.004886513087376684], \"type\": \"bar\", \"uid\": \"272c9ad4-906a-426b-9feb-f70916e800d7\"}, {\"marker\": {\"color\": \"rgba(219, 64, 82, 0.6)\", \"line\": {\"color\": \"rgba(219, 64, 82, 1.0)\", \"width\": 1}}, \"name\": \"APm\", \"orientation\": \"v\", \"text\": \"\", \"x\": [\"Day to Day-R50-Real\", \"Day to Day-R50-Fake\", \"Day/2 to Day-A50-Real\", \"Day/2 to Day-A50-Fake\"], \"y\": [0.041406448322992506, -0.011230091238593198, 0.0678304661665699, 0.015193926604984198], \"type\": \"bar\", \"uid\": \"d992f575-2f85-46aa-ad61-b115edaa814e\"}, {\"marker\": {\"color\": \"rgba(0, 128, 128, 0.6)\", \"line\": {\"color\": \"rgba(0, 128, 128, 1.0)\", \"width\": 1}}, \"name\": \"APl\", \"orientation\": \"v\", \"text\": \"\", \"x\": [\"Day to Day-R50-Real\", \"Day to Day-R50-Fake\", \"Day/2 to Day-A50-Real\", \"Day/2 to Day-A50-Fake\"], \"y\": [0.03244945699979801, 0.032663923678519335, 0.07186035473548164, 0.07207482141420296], \"type\": \"bar\", \"uid\": \"9298dbaf-03a2-44ba-9e33-4dfb1b81a812\"}, {\"marker\": {\"color\": \"rgba(255, 255, 51, 0.6)\", \"line\": {\"color\": \"rgba(255, 255, 51, 1.0)\", \"width\": 1}}, \"name\": \"AR@1\", \"orientation\": \"v\", \"text\": \"\", \"x\": [\"Day to Day-R50-Real\", \"Day to Day-R50-Fake\", \"Day/2 to Day-A50-Real\", \"Day/2 to Day-A50-Fake\"], \"y\": [0.006615793222306474, -0.004603634415469418, 0.011849566421851435, 0.0006301387840755429], \"type\": \"bar\", \"uid\": \"3c4699ea-df57-418e-a15c-0f374ae6c7e9\"}, {\"marker\": {\"color\": \"rgba(128, 128, 0, 0.6)\", \"line\": {\"color\": \"rgba(128, 128, 0, 1.0)\", \"width\": 1}}, \"name\": \"AR@10\", \"orientation\": \"v\", \"text\": \"\", \"x\": [\"Day to Day-R50-Real\", \"Day to Day-R50-Fake\", \"Day/2 to Day-A50-Real\", \"Day/2 to Day-A50-Fake\"], \"y\": [0.023149192668601992, -0.018624708420556912, 0.053212866768620914, 0.01143896567946201], \"type\": \"bar\", \"uid\": \"bced391d-40d5-4506-b243-d089f04c2f23\"}, {\"marker\": {\"color\": \"rgba(251, 128, 114, 0.6)\", \"line\": {\"color\": \"rgba(251, 128, 114, 1.0)\", \"width\": 1}}, \"name\": \"AR\", \"orientation\": \"v\", \"text\": \"\", \"x\": [\"Day to Day-R50-Real\", \"Day to Day-R50-Fake\", \"Day/2 to Day-A50-Real\", \"Day/2 to Day-A50-Fake\"], \"y\": [0.023978291322600598, -0.01611265853555005, 0.054192611759012244, 0.014101661900861595], \"type\": \"bar\", \"uid\": \"16430d94-ee03-4d00-ac7b-d0739abc7884\"}, {\"marker\": {\"color\": \"rgba(128, 177, 211, 0.6)\", \"line\": {\"color\": \"rgba(128, 177, 211, 1.0)\", \"width\": 1}}, \"name\": \"ARs\", \"orientation\": \"v\", \"text\": \"\", \"x\": [\"Day to Day-R50-Real\", \"Day to Day-R50-Fake\", \"Day/2 to Day-A50-Real\", \"Day/2 to Day-A50-Fake\"], \"y\": [0.019731088139482766, -0.018659613898627664, 0.05031297013849423, 0.011922268100383798], \"type\": \"bar\", \"uid\": \"9d785399-f0b8-459e-b5d3-c400a2a2810c\"}, {\"marker\": {\"color\": \"rgba(128, 177, 211, 0.6)\", \"line\": {\"color\": \"rgba(128, 177, 211, 0.8999999999999999)\", \"width\": 1}}, \"name\": \"ARm\", \"orientation\": \"v\", \"text\": \"\", \"x\": [\"Day to Day-R50-Real\", \"Day to Day-R50-Fake\", \"Day/2 to Day-A50-Real\", \"Day/2 to Day-A50-Fake\"], \"y\": [0.03396455716358088, -0.015095216849705384, 0.06349630074436208, 0.014436526731075816], \"type\": \"bar\", \"uid\": \"91ee1a4c-7b8b-4739-b34e-4ce9a887bce0\"}, {\"marker\": {\"color\": \"rgba(255, 153, 51, 0.6)\", \"line\": {\"color\": \"rgba(255, 153, 51, 0.8999999999999999)\", \"width\": 1}}, \"name\": \"ARl\", \"orientation\": \"v\", \"text\": \"\", \"x\": [\"Day to Day-R50-Real\", \"Day to Day-R50-Fake\", \"Day/2 to Day-A50-Real\", \"Day/2 to Day-A50-Fake\"], \"y\": [0.01853571569673268, 0.012287888665007296, 0.07344084587728661, 0.06719301884556123], \"type\": \"bar\", \"uid\": \"2d8e79b4-3be3-4ef8-b8b5-2d41074c6511\"}], {\"height\": 540, \"title\": {\"text\": \"Impact of GAN-based augmentation: person (test set, night fraction)\"}, \"width\": 960, \"yaxis\": {\"title\": {\"text\": \"Absolute change in score\"}}}, {\"modeBarButtonsToRemove\": [\"sendDataToCloud\"], \"displaylogo\": false, \"showLink\": false, \"linkText\": \"Export to plot.ly\", \"plotlyServerURL\": \"https://plot.ly\"}); \n",
       "}\n",
       "});</script>"
      ],
      "text/vnd.plotly.v1+html": [
       "<div id=\"a3aad488-6097-48ef-bb2f-eed6434b5c02\" style=\"height: 540px; width: 960px;\" class=\"plotly-graph-div\"></div><script type=\"text/javascript\">require([\"plotly\"], function(Plotly) { window.PLOTLYENV=window.PLOTLYENV || {};window.PLOTLYENV.BASE_URL=\"https://plot.ly\";\n",
       "if (document.getElementById(\"a3aad488-6097-48ef-bb2f-eed6434b5c02\")) {\n",
       "    Plotly.newPlot(\"a3aad488-6097-48ef-bb2f-eed6434b5c02\", [{\"marker\": {\"color\": \"rgba(255, 153, 51, 0.6)\", \"line\": {\"color\": \"rgba(255, 153, 51, 1.0)\", \"width\": 1}}, \"name\": \"AP\", \"orientation\": \"v\", \"text\": \"\", \"x\": [\"Day to Day-R50-Real\", \"Day to Day-R50-Fake\", \"Day/2 to Day-A50-Real\", \"Day/2 to Day-A50-Fake\"], \"y\": [0.023756377055759864, -0.017865524654154863, 0.05253188600155553, 0.010909984291640806], \"type\": \"bar\", \"uid\": \"af9ca4a7-3f72-4dac-957d-9fc96d1223c9\"}, {\"marker\": {\"color\": \"rgba(55, 128, 191, 0.6)\", \"line\": {\"color\": \"rgba(55, 128, 191, 1.0)\", \"width\": 1}}, \"name\": \"AP50\", \"orientation\": \"v\", \"text\": \"\", \"x\": [\"Day to Day-R50-Real\", \"Day to Day-R50-Fake\", \"Day/2 to Day-A50-Real\", \"Day/2 to Day-A50-Fake\"], \"y\": [0.05257255051705678, -0.05777374438056598, 0.11354122557848234, 0.0031949306808595757], \"type\": \"bar\", \"uid\": \"f8eadc4e-ea51-4c1f-a35c-6c135cd2cb86\"}, {\"marker\": {\"color\": \"rgba(50, 171, 96, 0.6)\", \"line\": {\"color\": \"rgba(50, 171, 96, 1.0)\", \"width\": 1}}, \"name\": \"AP75\", \"orientation\": \"v\", \"text\": \"\", \"x\": [\"Day to Day-R50-Real\", \"Day to Day-R50-Fake\", \"Day/2 to Day-A50-Real\", \"Day/2 to Day-A50-Fake\"], \"y\": [0.022321072704755723, -0.005969179096788402, 0.04702153839493972, 0.018731286593395596], \"type\": \"bar\", \"uid\": \"3c8dbec1-10a5-49db-83a9-9e377fcdcada\"}, {\"marker\": {\"color\": \"rgba(128, 0, 128, 0.6)\", \"line\": {\"color\": \"rgba(128, 0, 128, 1.0)\", \"width\": 1}}, \"name\": \"APs\", \"orientation\": \"v\", \"text\": \"\", \"x\": [\"Day to Day-R50-Real\", \"Day to Day-R50-Fake\", \"Day/2 to Day-A50-Real\", \"Day/2 to Day-A50-Fake\"], \"y\": [0.010653467945845124, -0.0221185233070621, 0.03765850434028391, 0.004886513087376684], \"type\": \"bar\", \"uid\": \"272c9ad4-906a-426b-9feb-f70916e800d7\"}, {\"marker\": {\"color\": \"rgba(219, 64, 82, 0.6)\", \"line\": {\"color\": \"rgba(219, 64, 82, 1.0)\", \"width\": 1}}, \"name\": \"APm\", \"orientation\": \"v\", \"text\": \"\", \"x\": [\"Day to Day-R50-Real\", \"Day to Day-R50-Fake\", \"Day/2 to Day-A50-Real\", \"Day/2 to Day-A50-Fake\"], \"y\": [0.041406448322992506, -0.011230091238593198, 0.0678304661665699, 0.015193926604984198], \"type\": \"bar\", \"uid\": \"d992f575-2f85-46aa-ad61-b115edaa814e\"}, {\"marker\": {\"color\": \"rgba(0, 128, 128, 0.6)\", \"line\": {\"color\": \"rgba(0, 128, 128, 1.0)\", \"width\": 1}}, \"name\": \"APl\", \"orientation\": \"v\", \"text\": \"\", \"x\": [\"Day to Day-R50-Real\", \"Day to Day-R50-Fake\", \"Day/2 to Day-A50-Real\", \"Day/2 to Day-A50-Fake\"], \"y\": [0.03244945699979801, 0.032663923678519335, 0.07186035473548164, 0.07207482141420296], \"type\": \"bar\", \"uid\": \"9298dbaf-03a2-44ba-9e33-4dfb1b81a812\"}, {\"marker\": {\"color\": \"rgba(255, 255, 51, 0.6)\", \"line\": {\"color\": \"rgba(255, 255, 51, 1.0)\", \"width\": 1}}, \"name\": \"AR@1\", \"orientation\": \"v\", \"text\": \"\", \"x\": [\"Day to Day-R50-Real\", \"Day to Day-R50-Fake\", \"Day/2 to Day-A50-Real\", \"Day/2 to Day-A50-Fake\"], \"y\": [0.006615793222306474, -0.004603634415469418, 0.011849566421851435, 0.0006301387840755429], \"type\": \"bar\", \"uid\": \"3c4699ea-df57-418e-a15c-0f374ae6c7e9\"}, {\"marker\": {\"color\": \"rgba(128, 128, 0, 0.6)\", \"line\": {\"color\": \"rgba(128, 128, 0, 1.0)\", \"width\": 1}}, \"name\": \"AR@10\", \"orientation\": \"v\", \"text\": \"\", \"x\": [\"Day to Day-R50-Real\", \"Day to Day-R50-Fake\", \"Day/2 to Day-A50-Real\", \"Day/2 to Day-A50-Fake\"], \"y\": [0.023149192668601992, -0.018624708420556912, 0.053212866768620914, 0.01143896567946201], \"type\": \"bar\", \"uid\": \"bced391d-40d5-4506-b243-d089f04c2f23\"}, {\"marker\": {\"color\": \"rgba(251, 128, 114, 0.6)\", \"line\": {\"color\": \"rgba(251, 128, 114, 1.0)\", \"width\": 1}}, \"name\": \"AR\", \"orientation\": \"v\", \"text\": \"\", \"x\": [\"Day to Day-R50-Real\", \"Day to Day-R50-Fake\", \"Day/2 to Day-A50-Real\", \"Day/2 to Day-A50-Fake\"], \"y\": [0.023978291322600598, -0.01611265853555005, 0.054192611759012244, 0.014101661900861595], \"type\": \"bar\", \"uid\": \"16430d94-ee03-4d00-ac7b-d0739abc7884\"}, {\"marker\": {\"color\": \"rgba(128, 177, 211, 0.6)\", \"line\": {\"color\": \"rgba(128, 177, 211, 1.0)\", \"width\": 1}}, \"name\": \"ARs\", \"orientation\": \"v\", \"text\": \"\", \"x\": [\"Day to Day-R50-Real\", \"Day to Day-R50-Fake\", \"Day/2 to Day-A50-Real\", \"Day/2 to Day-A50-Fake\"], \"y\": [0.019731088139482766, -0.018659613898627664, 0.05031297013849423, 0.011922268100383798], \"type\": \"bar\", \"uid\": \"9d785399-f0b8-459e-b5d3-c400a2a2810c\"}, {\"marker\": {\"color\": \"rgba(128, 177, 211, 0.6)\", \"line\": {\"color\": \"rgba(128, 177, 211, 0.8999999999999999)\", \"width\": 1}}, \"name\": \"ARm\", \"orientation\": \"v\", \"text\": \"\", \"x\": [\"Day to Day-R50-Real\", \"Day to Day-R50-Fake\", \"Day/2 to Day-A50-Real\", \"Day/2 to Day-A50-Fake\"], \"y\": [0.03396455716358088, -0.015095216849705384, 0.06349630074436208, 0.014436526731075816], \"type\": \"bar\", \"uid\": \"91ee1a4c-7b8b-4739-b34e-4ce9a887bce0\"}, {\"marker\": {\"color\": \"rgba(255, 153, 51, 0.6)\", \"line\": {\"color\": \"rgba(255, 153, 51, 0.8999999999999999)\", \"width\": 1}}, \"name\": \"ARl\", \"orientation\": \"v\", \"text\": \"\", \"x\": [\"Day to Day-R50-Real\", \"Day to Day-R50-Fake\", \"Day/2 to Day-A50-Real\", \"Day/2 to Day-A50-Fake\"], \"y\": [0.01853571569673268, 0.012287888665007296, 0.07344084587728661, 0.06719301884556123], \"type\": \"bar\", \"uid\": \"2d8e79b4-3be3-4ef8-b8b5-2d41074c6511\"}], {\"height\": 540, \"title\": {\"text\": \"Impact of GAN-based augmentation: person (test set, night fraction)\"}, \"width\": 960, \"yaxis\": {\"title\": {\"text\": \"Absolute change in score\"}}}, {\"modeBarButtonsToRemove\": [\"sendDataToCloud\"], \"displaylogo\": false, \"showLink\": false, \"linkText\": \"Export to plot.ly\", \"plotlyServerURL\": \"https://plot.ly\"}); \n",
       "}\n",
       "});</script>"
      ]
     },
     "metadata": {},
     "output_type": "display_data"
    }
   ],
   "source": [
    "cf.go_offline(connected = True)\n",
    "config = {\n",
    "    \"modeBarButtonsToRemove\": [\"sendDataToCloud\"],\n",
    "    \"displaylogo\": False\n",
    "}\n",
    "layout = {\n",
    "    \"title\": plot_title,\n",
    "    \"yaxis\": {\n",
    "        \"title\": \"Absolute change in score\"\n",
    "    },\n",
    "    \"width\": 960,\n",
    "    \"height\": 540\n",
    "}\n",
    "fig = df_combined.iplot(kind = \"bar\", y = [\"AP\", \"AP50\", \"AP75\", \"APs\", \"APm\", \"APl\", \"AR@1\", \"AR@10\", \"AR\", \"ARs\", \"ARm\", \"ARl\"], layout = layout, asFigure = True)\n",
    "py.offline.iplot(fig, show_link = False, config = config)"
   ]
  },
  {
   "cell_type": "code",
   "execution_count": 42,
   "metadata": {},
   "outputs": [],
   "source": [
    "df_combined_rel = df_combined_rel * 100"
   ]
  },
  {
   "cell_type": "code",
   "execution_count": 43,
   "metadata": {},
   "outputs": [
    {
     "data": {
      "text/plain": [
       "Text(0, 0.5, 'Relative change in score (%)')"
      ]
     },
     "execution_count": 43,
     "metadata": {},
     "output_type": "execute_result"
    },
    {
     "data": {
      "image/png": "[encoded data removed]",
      "text/plain": [
       "<Figure size 1152x648 with 1 Axes>"
      ]
     },
     "metadata": {
      "needs_background": "light"
     },
     "output_type": "display_data"
    }
   ],
   "source": [
    "ax = df_combined_rel.plot(kind = \"bar\", figsize = (16, 9))\n",
    "ax.set_xlabel(\"\")\n",
    "ax.set_ylabel(\"Relative change in score (%)\")"
   ]
  },
  {
   "cell_type": "code",
   "execution_count": 49,
   "metadata": {},
   "outputs": [
    {
     "data": {
      "application/vnd.plotly.v1+json": {
       "config": {
        "displaylogo": false,
        "linkText": "Export to plot.ly",
        "modeBarButtonsToRemove": [
         "sendDataToCloud"
        ],
        "plotlyServerURL": "https://plot.ly",
        "showLink": false
       },
       "data": [
        {
         "marker": {
          "color": "rgba(255, 153, 51, 0.6)",
          "line": {
           "color": "rgba(255, 153, 51, 1.0)",
           "width": 1
          }
         },
         "name": "AP",
         "orientation": "v",
         "text": "",
         "type": "bar",
         "uid": "c926c2ca-146b-4fee-9f36-3b3cce954d2f",
         "x": [
          "Day to Day-R50-Real",
          "Day to Day-R50-Fake",
          "Day/2 to Day-A50-Real",
          "Day/2 to Day-A50-Fake"
         ],
         "y": [
          10.342602992542064,
          -7.777954875766552,
          26.14582077673649,
          5.430044791420668
         ]
        },
        {
         "marker": {
          "color": "rgba(55, 128, 191, 0.6)",
          "line": {
           "color": "rgba(55, 128, 191, 1.0)",
           "width": 1
          }
         },
         "name": "APs",
         "orientation": "v",
         "text": "",
         "type": "bar",
         "uid": "3475b75b-2117-48cc-8ca4-3921ecf46e58",
         "x": [
          "Day to Day-R50-Real",
          "Day to Day-R50-Fake",
          "Day/2 to Day-A50-Real",
          "Day/2 to Day-A50-Fake"
         ],
         "y": [
          8.223224261113748,
          -17.072898553149418,
          36.72267123034148,
          4.765080735788512
         ]
        },
        {
         "marker": {
          "color": "rgba(50, 171, 96, 0.6)",
          "line": {
           "color": "rgba(50, 171, 96, 1.0)",
           "width": 1
          }
         },
         "name": "APm",
         "orientation": "v",
         "text": "",
         "type": "bar",
         "uid": "f741ee96-d38b-43f9-9ac3-d666be8e4ed7",
         "x": [
          "Day to Day-R50-Real",
          "Day to Day-R50-Fake",
          "Day/2 to Day-A50-Real",
          "Day/2 to Day-A50-Fake"
         ],
         "y": [
          12.845418692270252,
          -3.4838830606010287,
          22.921887345656035,
          5.134469710444947
         ]
        },
        {
         "marker": {
          "color": "rgba(128, 0, 128, 0.6)",
          "line": {
           "color": "rgba(128, 0, 128, 1.0)",
           "width": 1
          }
         },
         "name": "APl",
         "orientation": "v",
         "text": "",
         "type": "bar",
         "uid": "9e8ac659-11df-44d3-b398-592e84b82d48",
         "x": [
          "Day to Day-R50-Real",
          "Day to Day-R50-Fake",
          "Day/2 to Day-A50-Real",
          "Day/2 to Day-A50-Fake"
         ],
         "y": [
          8.237567965525333,
          8.292012138268143,
          20.270363229369096,
          20.330859973286938
         ]
        },
        {
         "marker": {
          "color": "rgba(219, 64, 82, 0.6)",
          "line": {
           "color": "rgba(219, 64, 82, 1.0)",
           "width": 1
          }
         },
         "name": "AR",
         "orientation": "v",
         "text": "",
         "type": "bar",
         "uid": "0d42cd86-61b2-4514-b556-89ef6ad7eb61",
         "x": [
          "Day to Day-R50-Real",
          "Day to Day-R50-Fake",
          "Day/2 to Day-A50-Real",
          "Day/2 to Day-A50-Fake"
         ],
         "y": [
          7.02820310988021,
          -4.722731711965407,
          17.427624533283012,
          4.534907267366537
         ]
        },
        {
         "marker": {
          "color": "rgba(0, 128, 128, 0.6)",
          "line": {
           "color": "rgba(0, 128, 128, 1.0)",
           "width": 1
          }
         },
         "name": "ARs",
         "orientation": "v",
         "text": "",
         "type": "bar",
         "uid": "c54e88a6-5a62-42d4-b546-6d125dd9f449",
         "x": [
          "Day to Day-R50-Real",
          "Day to Day-R50-Fake",
          "Day/2 to Day-A50-Real",
          "Day/2 to Day-A50-Fake"
         ],
         "y": [
          7.885929824156523,
          -7.457693397860968,
          22.908648043291045,
          5.428481821638339
         ]
        },
        {
         "marker": {
          "color": "rgba(255, 255, 51, 0.6)",
          "line": {
           "color": "rgba(255, 255, 51, 1.0)",
           "width": 1
          }
         },
         "name": "ARm",
         "orientation": "v",
         "text": "",
         "type": "bar",
         "uid": "efb53686-880f-4902-bf39-78c71377739f",
         "x": [
          "Day to Day-R50-Real",
          "Day to Day-R50-Fake",
          "Day/2 to Day-A50-Real",
          "Day/2 to Day-A50-Fake"
         ],
         "y": [
          7.746408820511379,
          -3.44281600342707,
          15.527661688790237,
          3.5303710675023234
         ]
        },
        {
         "marker": {
          "color": "rgba(128, 128, 0, 0.6)",
          "line": {
           "color": "rgba(128, 128, 0, 1.0)",
           "width": 1
          }
         },
         "name": "ARl",
         "orientation": "v",
         "text": "",
         "type": "bar",
         "uid": "2df2685a-cb84-47ec-9219-0a5349186522",
         "x": [
          "Day to Day-R50-Real",
          "Day to Day-R50-Fake",
          "Day/2 to Day-A50-Real",
          "Day/2 to Day-A50-Fake"
         ],
         "y": [
          4.022672453569118,
          2.6667516946196033,
          18.094404552070454,
          16.555060764114923
         ]
        }
       ],
       "layout": {
        "height": 720,
        "legend": {
         "font": {
          "size": 28
         },
         "orientation": "v",
         "x": 1,
         "y": 0.95
        },
        "title": {
         "font": {
          "size": 28
         },
         "text": "Impact of GAN-based augmentation: person (test set, night fraction)"
        },
        "width": 1280,
        "xaxis": {
         "tickfont": {
          "size": 18
         }
        },
        "yaxis": {
         "dtick": 5,
         "range": [
          -20,
          40
         ],
         "tickfont": {
          "size": 24
         },
         "title": {
          "font": {
           "size": 28
          },
          "text": "Relative score change (%)"
         }
        }
       }
      },
      "text/html": [
       "<div id=\"592d340a-de22-4160-9b10-565c09f56993\" style=\"height: 720px; width: 1280px;\" class=\"plotly-graph-div\"></div><script type=\"text/javascript\">require([\"plotly\"], function(Plotly) { window.PLOTLYENV=window.PLOTLYENV || {};window.PLOTLYENV.BASE_URL=\"https://plot.ly\";\n",
       "if (document.getElementById(\"592d340a-de22-4160-9b10-565c09f56993\")) {\n",
       "    Plotly.newPlot(\"592d340a-de22-4160-9b10-565c09f56993\", [{\"marker\": {\"color\": \"rgba(255, 153, 51, 0.6)\", \"line\": {\"color\": \"rgba(255, 153, 51, 1.0)\", \"width\": 1}}, \"name\": \"AP\", \"orientation\": \"v\", \"text\": \"\", \"x\": [\"Day to Day-R50-Real\", \"Day to Day-R50-Fake\", \"Day/2 to Day-A50-Real\", \"Day/2 to Day-A50-Fake\"], \"y\": [10.342602992542064, -7.777954875766552, 26.14582077673649, 5.430044791420668], \"type\": \"bar\", \"uid\": \"c926c2ca-146b-4fee-9f36-3b3cce954d2f\"}, {\"marker\": {\"color\": \"rgba(55, 128, 191, 0.6)\", \"line\": {\"color\": \"rgba(55, 128, 191, 1.0)\", \"width\": 1}}, \"name\": \"APs\", \"orientation\": \"v\", \"text\": \"\", \"x\": [\"Day to Day-R50-Real\", \"Day to Day-R50-Fake\", \"Day/2 to Day-A50-Real\", \"Day/2 to Day-A50-Fake\"], \"y\": [8.223224261113748, -17.072898553149418, 36.72267123034148, 4.765080735788512], \"type\": \"bar\", \"uid\": \"3475b75b-2117-48cc-8ca4-3921ecf46e58\"}, {\"marker\": {\"color\": \"rgba(50, 171, 96, 0.6)\", \"line\": {\"color\": \"rgba(50, 171, 96, 1.0)\", \"width\": 1}}, \"name\": \"APm\", \"orientation\": \"v\", \"text\": \"\", \"x\": [\"Day to Day-R50-Real\", \"Day to Day-R50-Fake\", \"Day/2 to Day-A50-Real\", \"Day/2 to Day-A50-Fake\"], \"y\": [12.845418692270252, -3.4838830606010287, 22.921887345656035, 5.134469710444947], \"type\": \"bar\", \"uid\": \"f741ee96-d38b-43f9-9ac3-d666be8e4ed7\"}, {\"marker\": {\"color\": \"rgba(128, 0, 128, 0.6)\", \"line\": {\"color\": \"rgba(128, 0, 128, 1.0)\", \"width\": 1}}, \"name\": \"APl\", \"orientation\": \"v\", \"text\": \"\", \"x\": [\"Day to Day-R50-Real\", \"Day to Day-R50-Fake\", \"Day/2 to Day-A50-Real\", \"Day/2 to Day-A50-Fake\"], \"y\": [8.237567965525333, 8.292012138268143, 20.270363229369096, 20.330859973286938], \"type\": \"bar\", \"uid\": \"9e8ac659-11df-44d3-b398-592e84b82d48\"}, {\"marker\": {\"color\": \"rgba(219, 64, 82, 0.6)\", \"line\": {\"color\": \"rgba(219, 64, 82, 1.0)\", \"width\": 1}}, \"name\": \"AR\", \"orientation\": \"v\", \"text\": \"\", \"x\": [\"Day to Day-R50-Real\", \"Day to Day-R50-Fake\", \"Day/2 to Day-A50-Real\", \"Day/2 to Day-A50-Fake\"], \"y\": [7.02820310988021, -4.722731711965407, 17.427624533283012, 4.534907267366537], \"type\": \"bar\", \"uid\": \"0d42cd86-61b2-4514-b556-89ef6ad7eb61\"}, {\"marker\": {\"color\": \"rgba(0, 128, 128, 0.6)\", \"line\": {\"color\": \"rgba(0, 128, 128, 1.0)\", \"width\": 1}}, \"name\": \"ARs\", \"orientation\": \"v\", \"text\": \"\", \"x\": [\"Day to Day-R50-Real\", \"Day to Day-R50-Fake\", \"Day/2 to Day-A50-Real\", \"Day/2 to Day-A50-Fake\"], \"y\": [7.885929824156523, -7.457693397860968, 22.908648043291045, 5.428481821638339], \"type\": \"bar\", \"uid\": \"c54e88a6-5a62-42d4-b546-6d125dd9f449\"}, {\"marker\": {\"color\": \"rgba(255, 255, 51, 0.6)\", \"line\": {\"color\": \"rgba(255, 255, 51, 1.0)\", \"width\": 1}}, \"name\": \"ARm\", \"orientation\": \"v\", \"text\": \"\", \"x\": [\"Day to Day-R50-Real\", \"Day to Day-R50-Fake\", \"Day/2 to Day-A50-Real\", \"Day/2 to Day-A50-Fake\"], \"y\": [7.746408820511379, -3.44281600342707, 15.527661688790237, 3.5303710675023234], \"type\": \"bar\", \"uid\": \"efb53686-880f-4902-bf39-78c71377739f\"}, {\"marker\": {\"color\": \"rgba(128, 128, 0, 0.6)\", \"line\": {\"color\": \"rgba(128, 128, 0, 1.0)\", \"width\": 1}}, \"name\": \"ARl\", \"orientation\": \"v\", \"text\": \"\", \"x\": [\"Day to Day-R50-Real\", \"Day to Day-R50-Fake\", \"Day/2 to Day-A50-Real\", \"Day/2 to Day-A50-Fake\"], \"y\": [4.022672453569118, 2.6667516946196033, 18.094404552070454, 16.555060764114923], \"type\": \"bar\", \"uid\": \"2df2685a-cb84-47ec-9219-0a5349186522\"}], {\"height\": 720, \"legend\": {\"font\": {\"size\": 28}, \"orientation\": \"v\", \"x\": 1.0, \"y\": 0.95}, \"title\": {\"text\": \"Impact of GAN-based augmentation: person (test set, night fraction)\", \"font\": {\"size\": 28}}, \"width\": 1280, \"xaxis\": {\"tickfont\": {\"size\": 18}}, \"yaxis\": {\"dtick\": 5, \"range\": [-20, 40], \"tickfont\": {\"size\": 24}, \"title\": {\"text\": \"Relative score change (%)\", \"font\": {\"size\": 28}}}}, {\"modeBarButtonsToRemove\": [\"sendDataToCloud\"], \"displaylogo\": false, \"showLink\": false, \"linkText\": \"Export to plot.ly\", \"plotlyServerURL\": \"https://plot.ly\"}); \n",
       "}\n",
       "});</script>"
      ],
      "text/vnd.plotly.v1+html": [
       "<div id=\"592d340a-de22-4160-9b10-565c09f56993\" style=\"height: 720px; width: 1280px;\" class=\"plotly-graph-div\"></div><script type=\"text/javascript\">require([\"plotly\"], function(Plotly) { window.PLOTLYENV=window.PLOTLYENV || {};window.PLOTLYENV.BASE_URL=\"https://plot.ly\";\n",
       "if (document.getElementById(\"592d340a-de22-4160-9b10-565c09f56993\")) {\n",
       "    Plotly.newPlot(\"592d340a-de22-4160-9b10-565c09f56993\", [{\"marker\": {\"color\": \"rgba(255, 153, 51, 0.6)\", \"line\": {\"color\": \"rgba(255, 153, 51, 1.0)\", \"width\": 1}}, \"name\": \"AP\", \"orientation\": \"v\", \"text\": \"\", \"x\": [\"Day to Day-R50-Real\", \"Day to Day-R50-Fake\", \"Day/2 to Day-A50-Real\", \"Day/2 to Day-A50-Fake\"], \"y\": [10.342602992542064, -7.777954875766552, 26.14582077673649, 5.430044791420668], \"type\": \"bar\", \"uid\": \"c926c2ca-146b-4fee-9f36-3b3cce954d2f\"}, {\"marker\": {\"color\": \"rgba(55, 128, 191, 0.6)\", \"line\": {\"color\": \"rgba(55, 128, 191, 1.0)\", \"width\": 1}}, \"name\": \"APs\", \"orientation\": \"v\", \"text\": \"\", \"x\": [\"Day to Day-R50-Real\", \"Day to Day-R50-Fake\", \"Day/2 to Day-A50-Real\", \"Day/2 to Day-A50-Fake\"], \"y\": [8.223224261113748, -17.072898553149418, 36.72267123034148, 4.765080735788512], \"type\": \"bar\", \"uid\": \"3475b75b-2117-48cc-8ca4-3921ecf46e58\"}, {\"marker\": {\"color\": \"rgba(50, 171, 96, 0.6)\", \"line\": {\"color\": \"rgba(50, 171, 96, 1.0)\", \"width\": 1}}, \"name\": \"APm\", \"orientation\": \"v\", \"text\": \"\", \"x\": [\"Day to Day-R50-Real\", \"Day to Day-R50-Fake\", \"Day/2 to Day-A50-Real\", \"Day/2 to Day-A50-Fake\"], \"y\": [12.845418692270252, -3.4838830606010287, 22.921887345656035, 5.134469710444947], \"type\": \"bar\", \"uid\": \"f741ee96-d38b-43f9-9ac3-d666be8e4ed7\"}, {\"marker\": {\"color\": \"rgba(128, 0, 128, 0.6)\", \"line\": {\"color\": \"rgba(128, 0, 128, 1.0)\", \"width\": 1}}, \"name\": \"APl\", \"orientation\": \"v\", \"text\": \"\", \"x\": [\"Day to Day-R50-Real\", \"Day to Day-R50-Fake\", \"Day/2 to Day-A50-Real\", \"Day/2 to Day-A50-Fake\"], \"y\": [8.237567965525333, 8.292012138268143, 20.270363229369096, 20.330859973286938], \"type\": \"bar\", \"uid\": \"9e8ac659-11df-44d3-b398-592e84b82d48\"}, {\"marker\": {\"color\": \"rgba(219, 64, 82, 0.6)\", \"line\": {\"color\": \"rgba(219, 64, 82, 1.0)\", \"width\": 1}}, \"name\": \"AR\", \"orientation\": \"v\", \"text\": \"\", \"x\": [\"Day to Day-R50-Real\", \"Day to Day-R50-Fake\", \"Day/2 to Day-A50-Real\", \"Day/2 to Day-A50-Fake\"], \"y\": [7.02820310988021, -4.722731711965407, 17.427624533283012, 4.534907267366537], \"type\": \"bar\", \"uid\": \"0d42cd86-61b2-4514-b556-89ef6ad7eb61\"}, {\"marker\": {\"color\": \"rgba(0, 128, 128, 0.6)\", \"line\": {\"color\": \"rgba(0, 128, 128, 1.0)\", \"width\": 1}}, \"name\": \"ARs\", \"orientation\": \"v\", \"text\": \"\", \"x\": [\"Day to Day-R50-Real\", \"Day to Day-R50-Fake\", \"Day/2 to Day-A50-Real\", \"Day/2 to Day-A50-Fake\"], \"y\": [7.885929824156523, -7.457693397860968, 22.908648043291045, 5.428481821638339], \"type\": \"bar\", \"uid\": \"c54e88a6-5a62-42d4-b546-6d125dd9f449\"}, {\"marker\": {\"color\": \"rgba(255, 255, 51, 0.6)\", \"line\": {\"color\": \"rgba(255, 255, 51, 1.0)\", \"width\": 1}}, \"name\": \"ARm\", \"orientation\": \"v\", \"text\": \"\", \"x\": [\"Day to Day-R50-Real\", \"Day to Day-R50-Fake\", \"Day/2 to Day-A50-Real\", \"Day/2 to Day-A50-Fake\"], \"y\": [7.746408820511379, -3.44281600342707, 15.527661688790237, 3.5303710675023234], \"type\": \"bar\", \"uid\": \"efb53686-880f-4902-bf39-78c71377739f\"}, {\"marker\": {\"color\": \"rgba(128, 128, 0, 0.6)\", \"line\": {\"color\": \"rgba(128, 128, 0, 1.0)\", \"width\": 1}}, \"name\": \"ARl\", \"orientation\": \"v\", \"text\": \"\", \"x\": [\"Day to Day-R50-Real\", \"Day to Day-R50-Fake\", \"Day/2 to Day-A50-Real\", \"Day/2 to Day-A50-Fake\"], \"y\": [4.022672453569118, 2.6667516946196033, 18.094404552070454, 16.555060764114923], \"type\": \"bar\", \"uid\": \"2df2685a-cb84-47ec-9219-0a5349186522\"}], {\"height\": 720, \"legend\": {\"font\": {\"size\": 28}, \"orientation\": \"v\", \"x\": 1.0, \"y\": 0.95}, \"title\": {\"text\": \"Impact of GAN-based augmentation: person (test set, night fraction)\", \"font\": {\"size\": 28}}, \"width\": 1280, \"xaxis\": {\"tickfont\": {\"size\": 18}}, \"yaxis\": {\"dtick\": 5, \"range\": [-20, 40], \"tickfont\": {\"size\": 24}, \"title\": {\"text\": \"Relative score change (%)\", \"font\": {\"size\": 28}}}}, {\"modeBarButtonsToRemove\": [\"sendDataToCloud\"], \"displaylogo\": false, \"showLink\": false, \"linkText\": \"Export to plot.ly\", \"plotlyServerURL\": \"https://plot.ly\"}); \n",
       "}\n",
       "});</script>"
      ]
     },
     "metadata": {},
     "output_type": "display_data"
    }
   ],
   "source": [
    "layout = {\n",
    "    \"title\": plot_title,\n",
    "    \"titlefont\": {\n",
    "        \"size\": 28\n",
    "    },    \n",
    "    \"xaxis\": {\n",
    "        \"tickfont\": {\n",
    "            \"size\": 18\n",
    "        }\n",
    "    },    \n",
    "    \"yaxis\": {\n",
    "        \"title\": \"Relative score change (%)\",\n",
    "        \"range\": [-20, 40],\n",
    "        \"dtick\": 5,\n",
    "        \"titlefont\": {\n",
    "            \"size\": 28\n",
    "        },\n",
    "        \"tickfont\": {\n",
    "            \"size\": 24\n",
    "        }\n",
    "    },\n",
    "    \"width\": 1280,\n",
    "    \"height\": 720,\n",
    "    \"legend\": {\n",
    "        \"x\": 1.00,\n",
    "        \"y\": 0.95,\n",
    "        \"orientation\": \"v\",\n",
    "        \"font\": {\n",
    "            \"size\": 28,\n",
    "        },        \n",
    "    }\n",
    "}\n",
    "\n",
    "fig = df_combined_rel.iplot(kind = \"bar\", y = [\"AP\", \"APs\", \"APm\", \"APl\", \"AR\", \"ARs\", \"ARm\", \"ARl\"], layout = layout, asFigure = True)\n",
    "py.offline.iplot(fig, show_link = False, config = config)"
   ]
  },
  {
   "cell_type": "code",
   "execution_count": null,
   "metadata": {},
   "outputs": [],
   "source": []
  }
 ],
 "metadata": {
  "kernelspec": {
   "display_name": "Python 3",
   "language": "python",
   "name": "python3"
  },
  "language_info": {
   "codemirror_mode": {
    "name": "ipython",
    "version": 3
   },
   "file_extension": ".py",
   "mimetype": "text/x-python",
   "name": "python",
   "nbconvert_exporter": "python",
   "pygments_lexer": "ipython3",
   "version": "3.6.7"
  }
 },
 "nbformat": 4,
 "nbformat_minor": 2
}

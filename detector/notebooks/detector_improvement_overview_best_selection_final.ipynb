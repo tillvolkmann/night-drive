{
 "cells": [
  {
   "cell_type": "code",
   "execution_count": 1,
   "metadata": {},
   "outputs": [],
   "source": [
    "import glob\n",
    "import numpy as np\n",
    "import pandas as pd\n",
    "import plotly as py\n",
    "import cufflinks as cf\n",
    "%matplotlib inline"
   ]
  },
  {
   "cell_type": "code",
   "execution_count": 2,
   "metadata": {},
   "outputs": [],
   "source": [
    "#train_A_over_logs = \"../eval/20190317_RetinaNet_train_A_over_eval/test\"\n",
    "#train_B_over_logs = \"../eval/20190317_RetinaNet_train_B_over_eval/test\"\n",
    "#train_C_over_logs = \"../eval/20190317_RetinaNet_train_C_over_eval/test\"\n",
    "#train_A_over_ganaug_025_logs = \"../eval/20190324_RetinaNet_train_A_over_ganaug_025_eval/test\"\n",
    "#train_A_over_ganaug_050_logs = \"../eval/20190324_RetinaNet_train_A_over_ganaug_050_eval/test\"\n",
    "#train_A_over_ganaug_050_augonlyasbase_logs = \"../eval/20190327_RetinaNet_train_A_over_ganaug_050_augonlyasbase_eval/test\"\n",
    "#pattern = \"/**/*.txt\"\n",
    "\n",
    "train_A_over_logs = \"../eval/20190329_RetinaNet_train_A_over_class_eval/1\"\n",
    "train_B_over_logs = \"../eval/20190329_RetinaNet_train_B_over_class_eval/1\"\n",
    "train_C_over_logs = \"../eval/20190329_RetinaNet_train_C_over_class_eval/1\"\n",
    "train_A_over_ganaug_025_logs = \"../eval/20190329_RetinaNet_train_A_over_ganaug_025_class_eval/1\"\n",
    "train_A_over_ganaug_050_logs = \"../eval/20190329_RetinaNet_train_A_over_ganaug_050_class_eval/1\"\n",
    "train_A_over_ganaug_050_augonlyasbase_logs = \"../eval/20190327_RetinaNet_train_A_over_ganaug_050_augonlyasbase_class_eval/1\"\n",
    "pattern = \"/**/*test_model*.txt\"\n",
    "\n",
    "plot_title = \"Impact of GAN-based augmentation: person (test set)\"\n",
    "\n",
    "train_A_over_iteration = 105000 # None = best\n",
    "train_B_over_iteration = 97500 # None = best\n",
    "train_C_over_iteration = 65000 # None = best\n",
    "train_A_over_ganaug_025_iteration = 42500 # None = best\n",
    "train_A_over_ganaug_050_iteration = 102500 # None = best\n",
    "train_A_over_ganaug_050_augonlyasbase_iteration = 47500 # None = best"
   ]
  },
  {
   "cell_type": "code",
   "execution_count": 3,
   "metadata": {},
   "outputs": [],
   "source": [
    "train_A_over_logs = glob.glob(train_A_over_logs + pattern, recursive = True)\n",
    "train_B_over_logs = glob.glob(train_B_over_logs + pattern, recursive = True)\n",
    "train_C_over_logs = glob.glob(train_C_over_logs + pattern, recursive = True)\n",
    "\n",
    "train_A_over_ganaug_025_logs = glob.glob(train_A_over_ganaug_025_logs + pattern, recursive = True)\n",
    "train_A_over_ganaug_050_logs = glob.glob(train_A_over_ganaug_050_logs + pattern, recursive = True)\n",
    "train_A_over_ganaug_050_augonlyasbase_logs = glob.glob(train_A_over_ganaug_050_augonlyasbase_logs + pattern, recursive = True)"
   ]
  },
  {
   "cell_type": "code",
   "execution_count": 4,
   "metadata": {},
   "outputs": [],
   "source": [
    "def logs2df(logs, iteration = None):\n",
    "    df_iterations = pd.DataFrame()\n",
    "    last_iteration = -1\n",
    "    for log in logs:\n",
    "        df = pd.read_csv(log)\n",
    "        df = df.drop(columns = [\"Unnamed: 12\"])\n",
    "        df[\"Iteration\"] = last_iteration if log.split(\"_model_\")[-1].split(\"_\")[0] == \"final\" else int(log.split(\"_model_\")[-1].split(\"_\")[0])\n",
    "        df_iterations = pd.concat([df_iterations, df], axis = 0)\n",
    "        df_iterations = df_iterations.reset_index(drop = True)\n",
    "        last_iteration = df[\"Iteration\"]\n",
    "    df_iterations = df_iterations.sort_values(by = ['Iteration']).reset_index(drop = True)\n",
    "    if iteration is not None:\n",
    "        df_iterations = df_iterations.loc[df_iterations.Iteration == iteration].drop_duplicates([\"Iteration\"], keep = \"last\").reset_index(drop = True)\n",
    "    df_iterations = df_iterations.set_index(\"Iteration\")\n",
    "    return df_iterations"
   ]
  },
  {
   "cell_type": "markdown",
   "metadata": {},
   "source": [
    "## Last (or other specified) iterations ##"
   ]
  },
  {
   "cell_type": "markdown",
   "metadata": {},
   "source": [
    "### --> All metrics are evaluated on the selected iteration <-- ###"
   ]
  },
  {
   "cell_type": "markdown",
   "metadata": {},
   "source": [
    "### train_A_over ###"
   ]
  },
  {
   "cell_type": "code",
   "execution_count": 5,
   "metadata": {},
   "outputs": [
    {
     "data": {
      "text/html": [
       "<div>\n",
       "<style scoped>\n",
       "    .dataframe tbody tr th:only-of-type {\n",
       "        vertical-align: middle;\n",
       "    }\n",
       "\n",
       "    .dataframe tbody tr th {\n",
       "        vertical-align: top;\n",
       "    }\n",
       "\n",
       "    .dataframe thead th {\n",
       "        text-align: right;\n",
       "    }\n",
       "</style>\n",
       "<table border=\"1\" class=\"dataframe\">\n",
       "  <thead>\n",
       "    <tr style=\"text-align: right;\">\n",
       "      <th></th>\n",
       "      <th>AP</th>\n",
       "      <th>AP50</th>\n",
       "      <th>AP75</th>\n",
       "      <th>APs</th>\n",
       "      <th>APm</th>\n",
       "      <th>APl</th>\n",
       "      <th>AR@1</th>\n",
       "      <th>AR@10</th>\n",
       "      <th>AR</th>\n",
       "      <th>ARs</th>\n",
       "      <th>ARm</th>\n",
       "      <th>ARl</th>\n",
       "    </tr>\n",
       "    <tr>\n",
       "      <th>Iteration</th>\n",
       "      <th></th>\n",
       "      <th></th>\n",
       "      <th></th>\n",
       "      <th></th>\n",
       "      <th></th>\n",
       "      <th></th>\n",
       "      <th></th>\n",
       "      <th></th>\n",
       "      <th></th>\n",
       "      <th></th>\n",
       "      <th></th>\n",
       "      <th></th>\n",
       "    </tr>\n",
       "  </thead>\n",
       "  <tbody>\n",
       "    <tr>\n",
       "      <th>105000</th>\n",
       "      <td>0.244274</td>\n",
       "      <td>0.554443</td>\n",
       "      <td>0.180944</td>\n",
       "      <td>0.096798</td>\n",
       "      <td>0.339836</td>\n",
       "      <td>0.448386</td>\n",
       "      <td>0.107848</td>\n",
       "      <td>0.310448</td>\n",
       "      <td>0.340224</td>\n",
       "      <td>0.199607</td>\n",
       "      <td>0.446686</td>\n",
       "      <td>0.532164</td>\n",
       "    </tr>\n",
       "  </tbody>\n",
       "</table>\n",
       "</div>"
      ],
      "text/plain": [
       "                 AP      AP50      AP75       APs       APm       APl  \\\n",
       "Iteration                                                               \n",
       "105000     0.244274  0.554443  0.180944  0.096798  0.339836  0.448386   \n",
       "\n",
       "               AR@1     AR@10        AR       ARs       ARm       ARl  \n",
       "Iteration                                                              \n",
       "105000     0.107848  0.310448  0.340224  0.199607  0.446686  0.532164  "
      ]
     },
     "execution_count": 5,
     "metadata": {},
     "output_type": "execute_result"
    }
   ],
   "source": [
    "df_train_A_over = logs2df(train_A_over_logs, train_A_over_iteration)\n",
    "df_train_A_over.head(1)"
   ]
  },
  {
   "cell_type": "code",
   "execution_count": 6,
   "metadata": {},
   "outputs": [
    {
     "data": {
      "text/html": [
       "<div>\n",
       "<style scoped>\n",
       "    .dataframe tbody tr th:only-of-type {\n",
       "        vertical-align: middle;\n",
       "    }\n",
       "\n",
       "    .dataframe tbody tr th {\n",
       "        vertical-align: top;\n",
       "    }\n",
       "\n",
       "    .dataframe thead th {\n",
       "        text-align: right;\n",
       "    }\n",
       "</style>\n",
       "<table border=\"1\" class=\"dataframe\">\n",
       "  <thead>\n",
       "    <tr style=\"text-align: right;\">\n",
       "      <th></th>\n",
       "      <th>AP</th>\n",
       "      <th>AP50</th>\n",
       "      <th>AP75</th>\n",
       "      <th>APs</th>\n",
       "      <th>APm</th>\n",
       "      <th>APl</th>\n",
       "      <th>AR@1</th>\n",
       "      <th>AR@10</th>\n",
       "      <th>AR</th>\n",
       "      <th>ARs</th>\n",
       "      <th>ARm</th>\n",
       "      <th>ARl</th>\n",
       "    </tr>\n",
       "  </thead>\n",
       "  <tbody>\n",
       "    <tr>\n",
       "      <th>0</th>\n",
       "      <td>105000</td>\n",
       "      <td>105000</td>\n",
       "      <td>105000</td>\n",
       "      <td>105000</td>\n",
       "      <td>105000</td>\n",
       "      <td>105000</td>\n",
       "      <td>105000</td>\n",
       "      <td>105000</td>\n",
       "      <td>105000</td>\n",
       "      <td>105000</td>\n",
       "      <td>105000</td>\n",
       "      <td>105000</td>\n",
       "    </tr>\n",
       "  </tbody>\n",
       "</table>\n",
       "</div>"
      ],
      "text/plain": [
       "       AP    AP50    AP75     APs     APm     APl    AR@1   AR@10      AR  \\\n",
       "0  105000  105000  105000  105000  105000  105000  105000  105000  105000   \n",
       "\n",
       "      ARs     ARm     ARl  \n",
       "0  105000  105000  105000  "
      ]
     },
     "execution_count": 6,
     "metadata": {},
     "output_type": "execute_result"
    }
   ],
   "source": [
    "df_train_A_over_best_iter_per_metric = df_train_A_over.idxmax().to_frame().T\n",
    "df_train_A_over_best_iter_per_metric.head(1)"
   ]
  },
  {
   "cell_type": "code",
   "execution_count": 7,
   "metadata": {},
   "outputs": [
    {
     "data": {
      "text/html": [
       "<div>\n",
       "<style scoped>\n",
       "    .dataframe tbody tr th:only-of-type {\n",
       "        vertical-align: middle;\n",
       "    }\n",
       "\n",
       "    .dataframe tbody tr th {\n",
       "        vertical-align: top;\n",
       "    }\n",
       "\n",
       "    .dataframe thead th {\n",
       "        text-align: right;\n",
       "    }\n",
       "</style>\n",
       "<table border=\"1\" class=\"dataframe\">\n",
       "  <thead>\n",
       "    <tr style=\"text-align: right;\">\n",
       "      <th></th>\n",
       "      <th>AP</th>\n",
       "      <th>AP50</th>\n",
       "      <th>AP75</th>\n",
       "      <th>APs</th>\n",
       "      <th>APm</th>\n",
       "      <th>APl</th>\n",
       "      <th>AR@1</th>\n",
       "      <th>AR@10</th>\n",
       "      <th>AR</th>\n",
       "      <th>ARs</th>\n",
       "      <th>ARm</th>\n",
       "      <th>ARl</th>\n",
       "    </tr>\n",
       "  </thead>\n",
       "  <tbody>\n",
       "    <tr>\n",
       "      <th>0</th>\n",
       "      <td>0.244274</td>\n",
       "      <td>0.554443</td>\n",
       "      <td>0.180944</td>\n",
       "      <td>0.096798</td>\n",
       "      <td>0.339836</td>\n",
       "      <td>0.448386</td>\n",
       "      <td>0.107848</td>\n",
       "      <td>0.310448</td>\n",
       "      <td>0.340224</td>\n",
       "      <td>0.199607</td>\n",
       "      <td>0.446686</td>\n",
       "      <td>0.532164</td>\n",
       "    </tr>\n",
       "  </tbody>\n",
       "</table>\n",
       "</div>"
      ],
      "text/plain": [
       "         AP      AP50      AP75       APs       APm       APl      AR@1  \\\n",
       "0  0.244274  0.554443  0.180944  0.096798  0.339836  0.448386  0.107848   \n",
       "\n",
       "      AR@10        AR       ARs       ARm       ARl  \n",
       "0  0.310448  0.340224  0.199607  0.446686  0.532164  "
      ]
     },
     "execution_count": 7,
     "metadata": {},
     "output_type": "execute_result"
    }
   ],
   "source": [
    "df_train_A_over_best_val_per_metric = df_train_A_over.max().to_frame().T\n",
    "df_train_A_over_best_val_per_metric.head(1)"
   ]
  },
  {
   "cell_type": "markdown",
   "metadata": {},
   "source": [
    "### train_B_over ###"
   ]
  },
  {
   "cell_type": "code",
   "execution_count": 8,
   "metadata": {},
   "outputs": [
    {
     "data": {
      "text/html": [
       "<div>\n",
       "<style scoped>\n",
       "    .dataframe tbody tr th:only-of-type {\n",
       "        vertical-align: middle;\n",
       "    }\n",
       "\n",
       "    .dataframe tbody tr th {\n",
       "        vertical-align: top;\n",
       "    }\n",
       "\n",
       "    .dataframe thead th {\n",
       "        text-align: right;\n",
       "    }\n",
       "</style>\n",
       "<table border=\"1\" class=\"dataframe\">\n",
       "  <thead>\n",
       "    <tr style=\"text-align: right;\">\n",
       "      <th></th>\n",
       "      <th>AP</th>\n",
       "      <th>AP50</th>\n",
       "      <th>AP75</th>\n",
       "      <th>APs</th>\n",
       "      <th>APm</th>\n",
       "      <th>APl</th>\n",
       "      <th>AR@1</th>\n",
       "      <th>AR@10</th>\n",
       "      <th>AR</th>\n",
       "      <th>ARs</th>\n",
       "      <th>ARm</th>\n",
       "      <th>ARl</th>\n",
       "    </tr>\n",
       "    <tr>\n",
       "      <th>Iteration</th>\n",
       "      <th></th>\n",
       "      <th></th>\n",
       "      <th></th>\n",
       "      <th></th>\n",
       "      <th></th>\n",
       "      <th></th>\n",
       "      <th></th>\n",
       "      <th></th>\n",
       "      <th></th>\n",
       "      <th></th>\n",
       "      <th></th>\n",
       "      <th></th>\n",
       "    </tr>\n",
       "  </thead>\n",
       "  <tbody>\n",
       "    <tr>\n",
       "      <th>97500</th>\n",
       "      <td>0.243261</td>\n",
       "      <td>0.554548</td>\n",
       "      <td>0.184212</td>\n",
       "      <td>0.097364</td>\n",
       "      <td>0.335591</td>\n",
       "      <td>0.453978</td>\n",
       "      <td>0.111076</td>\n",
       "      <td>0.307803</td>\n",
       "      <td>0.337175</td>\n",
       "      <td>0.199509</td>\n",
       "      <td>0.439481</td>\n",
       "      <td>0.535088</td>\n",
       "    </tr>\n",
       "  </tbody>\n",
       "</table>\n",
       "</div>"
      ],
      "text/plain": [
       "                 AP      AP50      AP75       APs       APm       APl  \\\n",
       "Iteration                                                               \n",
       "97500      0.243261  0.554548  0.184212  0.097364  0.335591  0.453978   \n",
       "\n",
       "               AR@1     AR@10        AR       ARs       ARm       ARl  \n",
       "Iteration                                                              \n",
       "97500      0.111076  0.307803  0.337175  0.199509  0.439481  0.535088  "
      ]
     },
     "execution_count": 8,
     "metadata": {},
     "output_type": "execute_result"
    }
   ],
   "source": [
    "df_train_B_over = logs2df(train_B_over_logs, train_B_over_iteration)\n",
    "df_train_B_over.head(1)"
   ]
  },
  {
   "cell_type": "code",
   "execution_count": 9,
   "metadata": {},
   "outputs": [
    {
     "data": {
      "text/html": [
       "<div>\n",
       "<style scoped>\n",
       "    .dataframe tbody tr th:only-of-type {\n",
       "        vertical-align: middle;\n",
       "    }\n",
       "\n",
       "    .dataframe tbody tr th {\n",
       "        vertical-align: top;\n",
       "    }\n",
       "\n",
       "    .dataframe thead th {\n",
       "        text-align: right;\n",
       "    }\n",
       "</style>\n",
       "<table border=\"1\" class=\"dataframe\">\n",
       "  <thead>\n",
       "    <tr style=\"text-align: right;\">\n",
       "      <th></th>\n",
       "      <th>AP</th>\n",
       "      <th>AP50</th>\n",
       "      <th>AP75</th>\n",
       "      <th>APs</th>\n",
       "      <th>APm</th>\n",
       "      <th>APl</th>\n",
       "      <th>AR@1</th>\n",
       "      <th>AR@10</th>\n",
       "      <th>AR</th>\n",
       "      <th>ARs</th>\n",
       "      <th>ARm</th>\n",
       "      <th>ARl</th>\n",
       "    </tr>\n",
       "  </thead>\n",
       "  <tbody>\n",
       "    <tr>\n",
       "      <th>0</th>\n",
       "      <td>97500</td>\n",
       "      <td>97500</td>\n",
       "      <td>97500</td>\n",
       "      <td>97500</td>\n",
       "      <td>97500</td>\n",
       "      <td>97500</td>\n",
       "      <td>97500</td>\n",
       "      <td>97500</td>\n",
       "      <td>97500</td>\n",
       "      <td>97500</td>\n",
       "      <td>97500</td>\n",
       "      <td>97500</td>\n",
       "    </tr>\n",
       "  </tbody>\n",
       "</table>\n",
       "</div>"
      ],
      "text/plain": [
       "      AP   AP50   AP75    APs    APm    APl   AR@1  AR@10     AR    ARs  \\\n",
       "0  97500  97500  97500  97500  97500  97500  97500  97500  97500  97500   \n",
       "\n",
       "     ARm    ARl  \n",
       "0  97500  97500  "
      ]
     },
     "execution_count": 9,
     "metadata": {},
     "output_type": "execute_result"
    }
   ],
   "source": [
    "df_train_B_over_best_iter_per_metric = df_train_B_over.idxmax().to_frame().T\n",
    "df_train_B_over_best_iter_per_metric.head(1)"
   ]
  },
  {
   "cell_type": "code",
   "execution_count": 10,
   "metadata": {},
   "outputs": [
    {
     "data": {
      "text/html": [
       "<div>\n",
       "<style scoped>\n",
       "    .dataframe tbody tr th:only-of-type {\n",
       "        vertical-align: middle;\n",
       "    }\n",
       "\n",
       "    .dataframe tbody tr th {\n",
       "        vertical-align: top;\n",
       "    }\n",
       "\n",
       "    .dataframe thead th {\n",
       "        text-align: right;\n",
       "    }\n",
       "</style>\n",
       "<table border=\"1\" class=\"dataframe\">\n",
       "  <thead>\n",
       "    <tr style=\"text-align: right;\">\n",
       "      <th></th>\n",
       "      <th>AP</th>\n",
       "      <th>AP50</th>\n",
       "      <th>AP75</th>\n",
       "      <th>APs</th>\n",
       "      <th>APm</th>\n",
       "      <th>APl</th>\n",
       "      <th>AR@1</th>\n",
       "      <th>AR@10</th>\n",
       "      <th>AR</th>\n",
       "      <th>ARs</th>\n",
       "      <th>ARm</th>\n",
       "      <th>ARl</th>\n",
       "    </tr>\n",
       "  </thead>\n",
       "  <tbody>\n",
       "    <tr>\n",
       "      <th>0</th>\n",
       "      <td>0.243261</td>\n",
       "      <td>0.554548</td>\n",
       "      <td>0.184212</td>\n",
       "      <td>0.097364</td>\n",
       "      <td>0.335591</td>\n",
       "      <td>0.453978</td>\n",
       "      <td>0.111076</td>\n",
       "      <td>0.307803</td>\n",
       "      <td>0.337175</td>\n",
       "      <td>0.199509</td>\n",
       "      <td>0.439481</td>\n",
       "      <td>0.535088</td>\n",
       "    </tr>\n",
       "  </tbody>\n",
       "</table>\n",
       "</div>"
      ],
      "text/plain": [
       "         AP      AP50      AP75       APs       APm       APl      AR@1  \\\n",
       "0  0.243261  0.554548  0.184212  0.097364  0.335591  0.453978  0.111076   \n",
       "\n",
       "      AR@10        AR       ARs       ARm       ARl  \n",
       "0  0.307803  0.337175  0.199509  0.439481  0.535088  "
      ]
     },
     "execution_count": 10,
     "metadata": {},
     "output_type": "execute_result"
    }
   ],
   "source": [
    "df_train_B_over_best_val_per_metric = df_train_B_over.max().to_frame().T\n",
    "df_train_B_over_best_val_per_metric.head(1)"
   ]
  },
  {
   "cell_type": "markdown",
   "metadata": {},
   "source": [
    "### train_C_over ###"
   ]
  },
  {
   "cell_type": "code",
   "execution_count": 11,
   "metadata": {},
   "outputs": [
    {
     "data": {
      "text/html": [
       "<div>\n",
       "<style scoped>\n",
       "    .dataframe tbody tr th:only-of-type {\n",
       "        vertical-align: middle;\n",
       "    }\n",
       "\n",
       "    .dataframe tbody tr th {\n",
       "        vertical-align: top;\n",
       "    }\n",
       "\n",
       "    .dataframe thead th {\n",
       "        text-align: right;\n",
       "    }\n",
       "</style>\n",
       "<table border=\"1\" class=\"dataframe\">\n",
       "  <thead>\n",
       "    <tr style=\"text-align: right;\">\n",
       "      <th></th>\n",
       "      <th>AP</th>\n",
       "      <th>AP50</th>\n",
       "      <th>AP75</th>\n",
       "      <th>APs</th>\n",
       "      <th>APm</th>\n",
       "      <th>APl</th>\n",
       "      <th>AR@1</th>\n",
       "      <th>AR@10</th>\n",
       "      <th>AR</th>\n",
       "      <th>ARs</th>\n",
       "      <th>ARm</th>\n",
       "      <th>ARl</th>\n",
       "    </tr>\n",
       "    <tr>\n",
       "      <th>Iteration</th>\n",
       "      <th></th>\n",
       "      <th></th>\n",
       "      <th></th>\n",
       "      <th></th>\n",
       "      <th></th>\n",
       "      <th></th>\n",
       "      <th></th>\n",
       "      <th></th>\n",
       "      <th></th>\n",
       "      <th></th>\n",
       "      <th></th>\n",
       "      <th></th>\n",
       "    </tr>\n",
       "  </thead>\n",
       "  <tbody>\n",
       "    <tr>\n",
       "      <th>65000</th>\n",
       "      <td>0.220263</td>\n",
       "      <td>0.528725</td>\n",
       "      <td>0.148717</td>\n",
       "      <td>0.080329</td>\n",
       "      <td>0.307297</td>\n",
       "      <td>0.423464</td>\n",
       "      <td>0.102018</td>\n",
       "      <td>0.290045</td>\n",
       "      <td>0.318341</td>\n",
       "      <td>0.192731</td>\n",
       "      <td>0.410183</td>\n",
       "      <td>0.507602</td>\n",
       "    </tr>\n",
       "  </tbody>\n",
       "</table>\n",
       "</div>"
      ],
      "text/plain": [
       "                 AP      AP50      AP75       APs       APm       APl  \\\n",
       "Iteration                                                               \n",
       "65000      0.220263  0.528725  0.148717  0.080329  0.307297  0.423464   \n",
       "\n",
       "               AR@1     AR@10        AR       ARs       ARm       ARl  \n",
       "Iteration                                                              \n",
       "65000      0.102018  0.290045  0.318341  0.192731  0.410183  0.507602  "
      ]
     },
     "execution_count": 11,
     "metadata": {},
     "output_type": "execute_result"
    }
   ],
   "source": [
    "df_train_C_over = logs2df(train_C_over_logs, train_C_over_iteration)\n",
    "df_train_C_over.head(1)"
   ]
  },
  {
   "cell_type": "code",
   "execution_count": 12,
   "metadata": {},
   "outputs": [
    {
     "data": {
      "text/html": [
       "<div>\n",
       "<style scoped>\n",
       "    .dataframe tbody tr th:only-of-type {\n",
       "        vertical-align: middle;\n",
       "    }\n",
       "\n",
       "    .dataframe tbody tr th {\n",
       "        vertical-align: top;\n",
       "    }\n",
       "\n",
       "    .dataframe thead th {\n",
       "        text-align: right;\n",
       "    }\n",
       "</style>\n",
       "<table border=\"1\" class=\"dataframe\">\n",
       "  <thead>\n",
       "    <tr style=\"text-align: right;\">\n",
       "      <th></th>\n",
       "      <th>AP</th>\n",
       "      <th>AP50</th>\n",
       "      <th>AP75</th>\n",
       "      <th>APs</th>\n",
       "      <th>APm</th>\n",
       "      <th>APl</th>\n",
       "      <th>AR@1</th>\n",
       "      <th>AR@10</th>\n",
       "      <th>AR</th>\n",
       "      <th>ARs</th>\n",
       "      <th>ARm</th>\n",
       "      <th>ARl</th>\n",
       "    </tr>\n",
       "  </thead>\n",
       "  <tbody>\n",
       "    <tr>\n",
       "      <th>0</th>\n",
       "      <td>65000</td>\n",
       "      <td>65000</td>\n",
       "      <td>65000</td>\n",
       "      <td>65000</td>\n",
       "      <td>65000</td>\n",
       "      <td>65000</td>\n",
       "      <td>65000</td>\n",
       "      <td>65000</td>\n",
       "      <td>65000</td>\n",
       "      <td>65000</td>\n",
       "      <td>65000</td>\n",
       "      <td>65000</td>\n",
       "    </tr>\n",
       "  </tbody>\n",
       "</table>\n",
       "</div>"
      ],
      "text/plain": [
       "      AP   AP50   AP75    APs    APm    APl   AR@1  AR@10     AR    ARs  \\\n",
       "0  65000  65000  65000  65000  65000  65000  65000  65000  65000  65000   \n",
       "\n",
       "     ARm    ARl  \n",
       "0  65000  65000  "
      ]
     },
     "execution_count": 12,
     "metadata": {},
     "output_type": "execute_result"
    }
   ],
   "source": [
    "df_train_C_over_best_iter_per_metric = df_train_C_over.idxmax().to_frame().T\n",
    "df_train_C_over_best_iter_per_metric.head(1)"
   ]
  },
  {
   "cell_type": "code",
   "execution_count": 13,
   "metadata": {},
   "outputs": [
    {
     "data": {
      "text/html": [
       "<div>\n",
       "<style scoped>\n",
       "    .dataframe tbody tr th:only-of-type {\n",
       "        vertical-align: middle;\n",
       "    }\n",
       "\n",
       "    .dataframe tbody tr th {\n",
       "        vertical-align: top;\n",
       "    }\n",
       "\n",
       "    .dataframe thead th {\n",
       "        text-align: right;\n",
       "    }\n",
       "</style>\n",
       "<table border=\"1\" class=\"dataframe\">\n",
       "  <thead>\n",
       "    <tr style=\"text-align: right;\">\n",
       "      <th></th>\n",
       "      <th>AP</th>\n",
       "      <th>AP50</th>\n",
       "      <th>AP75</th>\n",
       "      <th>APs</th>\n",
       "      <th>APm</th>\n",
       "      <th>APl</th>\n",
       "      <th>AR@1</th>\n",
       "      <th>AR@10</th>\n",
       "      <th>AR</th>\n",
       "      <th>ARs</th>\n",
       "      <th>ARm</th>\n",
       "      <th>ARl</th>\n",
       "    </tr>\n",
       "  </thead>\n",
       "  <tbody>\n",
       "    <tr>\n",
       "      <th>0</th>\n",
       "      <td>0.220263</td>\n",
       "      <td>0.528725</td>\n",
       "      <td>0.148717</td>\n",
       "      <td>0.080329</td>\n",
       "      <td>0.307297</td>\n",
       "      <td>0.423464</td>\n",
       "      <td>0.102018</td>\n",
       "      <td>0.290045</td>\n",
       "      <td>0.318341</td>\n",
       "      <td>0.192731</td>\n",
       "      <td>0.410183</td>\n",
       "      <td>0.507602</td>\n",
       "    </tr>\n",
       "  </tbody>\n",
       "</table>\n",
       "</div>"
      ],
      "text/plain": [
       "         AP      AP50      AP75       APs       APm       APl      AR@1  \\\n",
       "0  0.220263  0.528725  0.148717  0.080329  0.307297  0.423464  0.102018   \n",
       "\n",
       "      AR@10        AR       ARs       ARm       ARl  \n",
       "0  0.290045  0.318341  0.192731  0.410183  0.507602  "
      ]
     },
     "execution_count": 13,
     "metadata": {},
     "output_type": "execute_result"
    }
   ],
   "source": [
    "df_train_C_over_best_val_per_metric = df_train_C_over.max().to_frame().T\n",
    "df_train_C_over_best_val_per_metric.head(1)"
   ]
  },
  {
   "cell_type": "markdown",
   "metadata": {},
   "source": [
    "### train_A_over_ganaug_025 ###"
   ]
  },
  {
   "cell_type": "code",
   "execution_count": 14,
   "metadata": {},
   "outputs": [
    {
     "data": {
      "text/html": [
       "<div>\n",
       "<style scoped>\n",
       "    .dataframe tbody tr th:only-of-type {\n",
       "        vertical-align: middle;\n",
       "    }\n",
       "\n",
       "    .dataframe tbody tr th {\n",
       "        vertical-align: top;\n",
       "    }\n",
       "\n",
       "    .dataframe thead th {\n",
       "        text-align: right;\n",
       "    }\n",
       "</style>\n",
       "<table border=\"1\" class=\"dataframe\">\n",
       "  <thead>\n",
       "    <tr style=\"text-align: right;\">\n",
       "      <th></th>\n",
       "      <th>AP</th>\n",
       "      <th>AP50</th>\n",
       "      <th>AP75</th>\n",
       "      <th>APs</th>\n",
       "      <th>APm</th>\n",
       "      <th>APl</th>\n",
       "      <th>AR@1</th>\n",
       "      <th>AR@10</th>\n",
       "      <th>AR</th>\n",
       "      <th>ARs</th>\n",
       "      <th>ARm</th>\n",
       "      <th>ARl</th>\n",
       "    </tr>\n",
       "    <tr>\n",
       "      <th>Iteration</th>\n",
       "      <th></th>\n",
       "      <th></th>\n",
       "      <th></th>\n",
       "      <th></th>\n",
       "      <th></th>\n",
       "      <th></th>\n",
       "      <th></th>\n",
       "      <th></th>\n",
       "      <th></th>\n",
       "      <th></th>\n",
       "      <th></th>\n",
       "      <th></th>\n",
       "    </tr>\n",
       "  </thead>\n",
       "  <tbody>\n",
       "    <tr>\n",
       "      <th>42500</th>\n",
       "      <td>0.232951</td>\n",
       "      <td>0.522502</td>\n",
       "      <td>0.1746</td>\n",
       "      <td>0.082344</td>\n",
       "      <td>0.336337</td>\n",
       "      <td>0.427955</td>\n",
       "      <td>0.105157</td>\n",
       "      <td>0.306143</td>\n",
       "      <td>0.340045</td>\n",
       "      <td>0.182515</td>\n",
       "      <td>0.46292</td>\n",
       "      <td>0.531579</td>\n",
       "    </tr>\n",
       "  </tbody>\n",
       "</table>\n",
       "</div>"
      ],
      "text/plain": [
       "                 AP      AP50    AP75       APs       APm       APl      AR@1  \\\n",
       "Iteration                                                                       \n",
       "42500      0.232951  0.522502  0.1746  0.082344  0.336337  0.427955  0.105157   \n",
       "\n",
       "              AR@10        AR       ARs      ARm       ARl  \n",
       "Iteration                                                   \n",
       "42500      0.306143  0.340045  0.182515  0.46292  0.531579  "
      ]
     },
     "execution_count": 14,
     "metadata": {},
     "output_type": "execute_result"
    }
   ],
   "source": [
    "df_train_A_over_ganaug_025 = logs2df(train_A_over_ganaug_025_logs, train_A_over_ganaug_025_iteration)\n",
    "df_train_A_over_ganaug_025.head(1)"
   ]
  },
  {
   "cell_type": "code",
   "execution_count": 15,
   "metadata": {},
   "outputs": [
    {
     "data": {
      "text/html": [
       "<div>\n",
       "<style scoped>\n",
       "    .dataframe tbody tr th:only-of-type {\n",
       "        vertical-align: middle;\n",
       "    }\n",
       "\n",
       "    .dataframe tbody tr th {\n",
       "        vertical-align: top;\n",
       "    }\n",
       "\n",
       "    .dataframe thead th {\n",
       "        text-align: right;\n",
       "    }\n",
       "</style>\n",
       "<table border=\"1\" class=\"dataframe\">\n",
       "  <thead>\n",
       "    <tr style=\"text-align: right;\">\n",
       "      <th></th>\n",
       "      <th>AP</th>\n",
       "      <th>AP50</th>\n",
       "      <th>AP75</th>\n",
       "      <th>APs</th>\n",
       "      <th>APm</th>\n",
       "      <th>APl</th>\n",
       "      <th>AR@1</th>\n",
       "      <th>AR@10</th>\n",
       "      <th>AR</th>\n",
       "      <th>ARs</th>\n",
       "      <th>ARm</th>\n",
       "      <th>ARl</th>\n",
       "    </tr>\n",
       "  </thead>\n",
       "  <tbody>\n",
       "    <tr>\n",
       "      <th>0</th>\n",
       "      <td>42500</td>\n",
       "      <td>42500</td>\n",
       "      <td>42500</td>\n",
       "      <td>42500</td>\n",
       "      <td>42500</td>\n",
       "      <td>42500</td>\n",
       "      <td>42500</td>\n",
       "      <td>42500</td>\n",
       "      <td>42500</td>\n",
       "      <td>42500</td>\n",
       "      <td>42500</td>\n",
       "      <td>42500</td>\n",
       "    </tr>\n",
       "  </tbody>\n",
       "</table>\n",
       "</div>"
      ],
      "text/plain": [
       "      AP   AP50   AP75    APs    APm    APl   AR@1  AR@10     AR    ARs  \\\n",
       "0  42500  42500  42500  42500  42500  42500  42500  42500  42500  42500   \n",
       "\n",
       "     ARm    ARl  \n",
       "0  42500  42500  "
      ]
     },
     "execution_count": 15,
     "metadata": {},
     "output_type": "execute_result"
    }
   ],
   "source": [
    "df_train_A_over_ganaug_025_best_iter_per_metric = df_train_A_over_ganaug_025.idxmax().to_frame().T\n",
    "df_train_A_over_ganaug_025_best_iter_per_metric.head(1)"
   ]
  },
  {
   "cell_type": "code",
   "execution_count": 16,
   "metadata": {},
   "outputs": [
    {
     "data": {
      "text/html": [
       "<div>\n",
       "<style scoped>\n",
       "    .dataframe tbody tr th:only-of-type {\n",
       "        vertical-align: middle;\n",
       "    }\n",
       "\n",
       "    .dataframe tbody tr th {\n",
       "        vertical-align: top;\n",
       "    }\n",
       "\n",
       "    .dataframe thead th {\n",
       "        text-align: right;\n",
       "    }\n",
       "</style>\n",
       "<table border=\"1\" class=\"dataframe\">\n",
       "  <thead>\n",
       "    <tr style=\"text-align: right;\">\n",
       "      <th></th>\n",
       "      <th>AP</th>\n",
       "      <th>AP50</th>\n",
       "      <th>AP75</th>\n",
       "      <th>APs</th>\n",
       "      <th>APm</th>\n",
       "      <th>APl</th>\n",
       "      <th>AR@1</th>\n",
       "      <th>AR@10</th>\n",
       "      <th>AR</th>\n",
       "      <th>ARs</th>\n",
       "      <th>ARm</th>\n",
       "      <th>ARl</th>\n",
       "    </tr>\n",
       "  </thead>\n",
       "  <tbody>\n",
       "    <tr>\n",
       "      <th>0</th>\n",
       "      <td>0.232951</td>\n",
       "      <td>0.522502</td>\n",
       "      <td>0.1746</td>\n",
       "      <td>0.082344</td>\n",
       "      <td>0.336337</td>\n",
       "      <td>0.427955</td>\n",
       "      <td>0.105157</td>\n",
       "      <td>0.306143</td>\n",
       "      <td>0.340045</td>\n",
       "      <td>0.182515</td>\n",
       "      <td>0.46292</td>\n",
       "      <td>0.531579</td>\n",
       "    </tr>\n",
       "  </tbody>\n",
       "</table>\n",
       "</div>"
      ],
      "text/plain": [
       "         AP      AP50    AP75       APs       APm       APl      AR@1  \\\n",
       "0  0.232951  0.522502  0.1746  0.082344  0.336337  0.427955  0.105157   \n",
       "\n",
       "      AR@10        AR       ARs      ARm       ARl  \n",
       "0  0.306143  0.340045  0.182515  0.46292  0.531579  "
      ]
     },
     "execution_count": 16,
     "metadata": {},
     "output_type": "execute_result"
    }
   ],
   "source": [
    "df_train_A_over_ganaug_025_best_val_per_metric = df_train_A_over_ganaug_025.max().to_frame().T\n",
    "df_train_A_over_ganaug_025_best_val_per_metric.head(1)"
   ]
  },
  {
   "cell_type": "markdown",
   "metadata": {},
   "source": [
    "### train_A_over_ganaug_050 ###"
   ]
  },
  {
   "cell_type": "code",
   "execution_count": 17,
   "metadata": {},
   "outputs": [
    {
     "data": {
      "text/html": [
       "<div>\n",
       "<style scoped>\n",
       "    .dataframe tbody tr th:only-of-type {\n",
       "        vertical-align: middle;\n",
       "    }\n",
       "\n",
       "    .dataframe tbody tr th {\n",
       "        vertical-align: top;\n",
       "    }\n",
       "\n",
       "    .dataframe thead th {\n",
       "        text-align: right;\n",
       "    }\n",
       "</style>\n",
       "<table border=\"1\" class=\"dataframe\">\n",
       "  <thead>\n",
       "    <tr style=\"text-align: right;\">\n",
       "      <th></th>\n",
       "      <th>AP</th>\n",
       "      <th>AP50</th>\n",
       "      <th>AP75</th>\n",
       "      <th>APs</th>\n",
       "      <th>APm</th>\n",
       "      <th>APl</th>\n",
       "      <th>AR@1</th>\n",
       "      <th>AR@10</th>\n",
       "      <th>AR</th>\n",
       "      <th>ARs</th>\n",
       "      <th>ARm</th>\n",
       "      <th>ARl</th>\n",
       "    </tr>\n",
       "    <tr>\n",
       "      <th>Iteration</th>\n",
       "      <th></th>\n",
       "      <th></th>\n",
       "      <th></th>\n",
       "      <th></th>\n",
       "      <th></th>\n",
       "      <th></th>\n",
       "      <th></th>\n",
       "      <th></th>\n",
       "      <th></th>\n",
       "      <th></th>\n",
       "      <th></th>\n",
       "      <th></th>\n",
       "    </tr>\n",
       "  </thead>\n",
       "  <tbody>\n",
       "    <tr>\n",
       "      <th>102500</th>\n",
       "      <td>0.236368</td>\n",
       "      <td>0.526171</td>\n",
       "      <td>0.180524</td>\n",
       "      <td>0.085196</td>\n",
       "      <td>0.339709</td>\n",
       "      <td>0.429691</td>\n",
       "      <td>0.108161</td>\n",
       "      <td>0.309058</td>\n",
       "      <td>0.343229</td>\n",
       "      <td>0.197741</td>\n",
       "      <td>0.457637</td>\n",
       "      <td>0.514035</td>\n",
       "    </tr>\n",
       "  </tbody>\n",
       "</table>\n",
       "</div>"
      ],
      "text/plain": [
       "                 AP      AP50      AP75       APs       APm       APl  \\\n",
       "Iteration                                                               \n",
       "102500     0.236368  0.526171  0.180524  0.085196  0.339709  0.429691   \n",
       "\n",
       "               AR@1     AR@10        AR       ARs       ARm       ARl  \n",
       "Iteration                                                              \n",
       "102500     0.108161  0.309058  0.343229  0.197741  0.457637  0.514035  "
      ]
     },
     "execution_count": 17,
     "metadata": {},
     "output_type": "execute_result"
    }
   ],
   "source": [
    "df_train_A_over_ganaug_050 = logs2df(train_A_over_ganaug_050_logs, train_A_over_ganaug_050_iteration)\n",
    "df_train_A_over_ganaug_050.head(1)"
   ]
  },
  {
   "cell_type": "code",
   "execution_count": 18,
   "metadata": {},
   "outputs": [
    {
     "data": {
      "text/html": [
       "<div>\n",
       "<style scoped>\n",
       "    .dataframe tbody tr th:only-of-type {\n",
       "        vertical-align: middle;\n",
       "    }\n",
       "\n",
       "    .dataframe tbody tr th {\n",
       "        vertical-align: top;\n",
       "    }\n",
       "\n",
       "    .dataframe thead th {\n",
       "        text-align: right;\n",
       "    }\n",
       "</style>\n",
       "<table border=\"1\" class=\"dataframe\">\n",
       "  <thead>\n",
       "    <tr style=\"text-align: right;\">\n",
       "      <th></th>\n",
       "      <th>AP</th>\n",
       "      <th>AP50</th>\n",
       "      <th>AP75</th>\n",
       "      <th>APs</th>\n",
       "      <th>APm</th>\n",
       "      <th>APl</th>\n",
       "      <th>AR@1</th>\n",
       "      <th>AR@10</th>\n",
       "      <th>AR</th>\n",
       "      <th>ARs</th>\n",
       "      <th>ARm</th>\n",
       "      <th>ARl</th>\n",
       "    </tr>\n",
       "  </thead>\n",
       "  <tbody>\n",
       "    <tr>\n",
       "      <th>0</th>\n",
       "      <td>102500</td>\n",
       "      <td>102500</td>\n",
       "      <td>102500</td>\n",
       "      <td>102500</td>\n",
       "      <td>102500</td>\n",
       "      <td>102500</td>\n",
       "      <td>102500</td>\n",
       "      <td>102500</td>\n",
       "      <td>102500</td>\n",
       "      <td>102500</td>\n",
       "      <td>102500</td>\n",
       "      <td>102500</td>\n",
       "    </tr>\n",
       "  </tbody>\n",
       "</table>\n",
       "</div>"
      ],
      "text/plain": [
       "       AP    AP50    AP75     APs     APm     APl    AR@1   AR@10      AR  \\\n",
       "0  102500  102500  102500  102500  102500  102500  102500  102500  102500   \n",
       "\n",
       "      ARs     ARm     ARl  \n",
       "0  102500  102500  102500  "
      ]
     },
     "execution_count": 18,
     "metadata": {},
     "output_type": "execute_result"
    }
   ],
   "source": [
    "df_train_A_over_ganaug_050_best_iter_per_metric = df_train_A_over_ganaug_050.idxmax().to_frame().T\n",
    "df_train_A_over_ganaug_050_best_iter_per_metric.head(1)"
   ]
  },
  {
   "cell_type": "code",
   "execution_count": 19,
   "metadata": {},
   "outputs": [
    {
     "data": {
      "text/html": [
       "<div>\n",
       "<style scoped>\n",
       "    .dataframe tbody tr th:only-of-type {\n",
       "        vertical-align: middle;\n",
       "    }\n",
       "\n",
       "    .dataframe tbody tr th {\n",
       "        vertical-align: top;\n",
       "    }\n",
       "\n",
       "    .dataframe thead th {\n",
       "        text-align: right;\n",
       "    }\n",
       "</style>\n",
       "<table border=\"1\" class=\"dataframe\">\n",
       "  <thead>\n",
       "    <tr style=\"text-align: right;\">\n",
       "      <th></th>\n",
       "      <th>AP</th>\n",
       "      <th>AP50</th>\n",
       "      <th>AP75</th>\n",
       "      <th>APs</th>\n",
       "      <th>APm</th>\n",
       "      <th>APl</th>\n",
       "      <th>AR@1</th>\n",
       "      <th>AR@10</th>\n",
       "      <th>AR</th>\n",
       "      <th>ARs</th>\n",
       "      <th>ARm</th>\n",
       "      <th>ARl</th>\n",
       "    </tr>\n",
       "  </thead>\n",
       "  <tbody>\n",
       "    <tr>\n",
       "      <th>0</th>\n",
       "      <td>0.236368</td>\n",
       "      <td>0.526171</td>\n",
       "      <td>0.180524</td>\n",
       "      <td>0.085196</td>\n",
       "      <td>0.339709</td>\n",
       "      <td>0.429691</td>\n",
       "      <td>0.108161</td>\n",
       "      <td>0.309058</td>\n",
       "      <td>0.343229</td>\n",
       "      <td>0.197741</td>\n",
       "      <td>0.457637</td>\n",
       "      <td>0.514035</td>\n",
       "    </tr>\n",
       "  </tbody>\n",
       "</table>\n",
       "</div>"
      ],
      "text/plain": [
       "         AP      AP50      AP75       APs       APm       APl      AR@1  \\\n",
       "0  0.236368  0.526171  0.180524  0.085196  0.339709  0.429691  0.108161   \n",
       "\n",
       "      AR@10        AR       ARs       ARm       ARl  \n",
       "0  0.309058  0.343229  0.197741  0.457637  0.514035  "
      ]
     },
     "execution_count": 19,
     "metadata": {},
     "output_type": "execute_result"
    }
   ],
   "source": [
    "df_train_A_over_ganaug_050_best_val_per_metric = df_train_A_over_ganaug_050.max().to_frame().T\n",
    "df_train_A_over_ganaug_050_best_val_per_metric.head(1)"
   ]
  },
  {
   "cell_type": "markdown",
   "metadata": {},
   "source": [
    "### train_A_over_ganaug_050_augonlyasbase ###"
   ]
  },
  {
   "cell_type": "code",
   "execution_count": 20,
   "metadata": {},
   "outputs": [
    {
     "data": {
      "text/html": [
       "<div>\n",
       "<style scoped>\n",
       "    .dataframe tbody tr th:only-of-type {\n",
       "        vertical-align: middle;\n",
       "    }\n",
       "\n",
       "    .dataframe tbody tr th {\n",
       "        vertical-align: top;\n",
       "    }\n",
       "\n",
       "    .dataframe thead th {\n",
       "        text-align: right;\n",
       "    }\n",
       "</style>\n",
       "<table border=\"1\" class=\"dataframe\">\n",
       "  <thead>\n",
       "    <tr style=\"text-align: right;\">\n",
       "      <th></th>\n",
       "      <th>AP</th>\n",
       "      <th>AP50</th>\n",
       "      <th>AP75</th>\n",
       "      <th>APs</th>\n",
       "      <th>APm</th>\n",
       "      <th>APl</th>\n",
       "      <th>AR@1</th>\n",
       "      <th>AR@10</th>\n",
       "      <th>AR</th>\n",
       "      <th>ARs</th>\n",
       "      <th>ARm</th>\n",
       "      <th>ARl</th>\n",
       "    </tr>\n",
       "    <tr>\n",
       "      <th>Iteration</th>\n",
       "      <th></th>\n",
       "      <th></th>\n",
       "      <th></th>\n",
       "      <th></th>\n",
       "      <th></th>\n",
       "      <th></th>\n",
       "      <th></th>\n",
       "      <th></th>\n",
       "      <th></th>\n",
       "      <th></th>\n",
       "      <th></th>\n",
       "      <th></th>\n",
       "    </tr>\n",
       "  </thead>\n",
       "  <tbody>\n",
       "    <tr>\n",
       "      <th>47500</th>\n",
       "      <td>0.218452</td>\n",
       "      <td>0.501322</td>\n",
       "      <td>0.151577</td>\n",
       "      <td>0.076724</td>\n",
       "      <td>0.312442</td>\n",
       "      <td>0.414012</td>\n",
       "      <td>0.102691</td>\n",
       "      <td>0.283274</td>\n",
       "      <td>0.313767</td>\n",
       "      <td>0.175639</td>\n",
       "      <td>0.418444</td>\n",
       "      <td>0.501754</td>\n",
       "    </tr>\n",
       "  </tbody>\n",
       "</table>\n",
       "</div>"
      ],
      "text/plain": [
       "                 AP      AP50      AP75       APs       APm       APl  \\\n",
       "Iteration                                                               \n",
       "47500      0.218452  0.501322  0.151577  0.076724  0.312442  0.414012   \n",
       "\n",
       "               AR@1     AR@10        AR       ARs       ARm       ARl  \n",
       "Iteration                                                              \n",
       "47500      0.102691  0.283274  0.313767  0.175639  0.418444  0.501754  "
      ]
     },
     "execution_count": 20,
     "metadata": {},
     "output_type": "execute_result"
    }
   ],
   "source": [
    "df_train_A_over_ganaug_050_augonlyasbase = logs2df(train_A_over_ganaug_050_augonlyasbase_logs, train_A_over_ganaug_050_augonlyasbase_iteration)\n",
    "df_train_A_over_ganaug_050_augonlyasbase.head(1)"
   ]
  },
  {
   "cell_type": "code",
   "execution_count": 21,
   "metadata": {},
   "outputs": [
    {
     "data": {
      "text/html": [
       "<div>\n",
       "<style scoped>\n",
       "    .dataframe tbody tr th:only-of-type {\n",
       "        vertical-align: middle;\n",
       "    }\n",
       "\n",
       "    .dataframe tbody tr th {\n",
       "        vertical-align: top;\n",
       "    }\n",
       "\n",
       "    .dataframe thead th {\n",
       "        text-align: right;\n",
       "    }\n",
       "</style>\n",
       "<table border=\"1\" class=\"dataframe\">\n",
       "  <thead>\n",
       "    <tr style=\"text-align: right;\">\n",
       "      <th></th>\n",
       "      <th>AP</th>\n",
       "      <th>AP50</th>\n",
       "      <th>AP75</th>\n",
       "      <th>APs</th>\n",
       "      <th>APm</th>\n",
       "      <th>APl</th>\n",
       "      <th>AR@1</th>\n",
       "      <th>AR@10</th>\n",
       "      <th>AR</th>\n",
       "      <th>ARs</th>\n",
       "      <th>ARm</th>\n",
       "      <th>ARl</th>\n",
       "    </tr>\n",
       "  </thead>\n",
       "  <tbody>\n",
       "    <tr>\n",
       "      <th>0</th>\n",
       "      <td>47500</td>\n",
       "      <td>47500</td>\n",
       "      <td>47500</td>\n",
       "      <td>47500</td>\n",
       "      <td>47500</td>\n",
       "      <td>47500</td>\n",
       "      <td>47500</td>\n",
       "      <td>47500</td>\n",
       "      <td>47500</td>\n",
       "      <td>47500</td>\n",
       "      <td>47500</td>\n",
       "      <td>47500</td>\n",
       "    </tr>\n",
       "  </tbody>\n",
       "</table>\n",
       "</div>"
      ],
      "text/plain": [
       "      AP   AP50   AP75    APs    APm    APl   AR@1  AR@10     AR    ARs  \\\n",
       "0  47500  47500  47500  47500  47500  47500  47500  47500  47500  47500   \n",
       "\n",
       "     ARm    ARl  \n",
       "0  47500  47500  "
      ]
     },
     "execution_count": 21,
     "metadata": {},
     "output_type": "execute_result"
    }
   ],
   "source": [
    "df_train_A_over_ganaug_050_augonlyasbase_best_iter_per_metric = df_train_A_over_ganaug_050_augonlyasbase.idxmax().to_frame().T\n",
    "df_train_A_over_ganaug_050_augonlyasbase_best_iter_per_metric.head(1)"
   ]
  },
  {
   "cell_type": "code",
   "execution_count": 22,
   "metadata": {},
   "outputs": [
    {
     "data": {
      "text/html": [
       "<div>\n",
       "<style scoped>\n",
       "    .dataframe tbody tr th:only-of-type {\n",
       "        vertical-align: middle;\n",
       "    }\n",
       "\n",
       "    .dataframe tbody tr th {\n",
       "        vertical-align: top;\n",
       "    }\n",
       "\n",
       "    .dataframe thead th {\n",
       "        text-align: right;\n",
       "    }\n",
       "</style>\n",
       "<table border=\"1\" class=\"dataframe\">\n",
       "  <thead>\n",
       "    <tr style=\"text-align: right;\">\n",
       "      <th></th>\n",
       "      <th>AP</th>\n",
       "      <th>AP50</th>\n",
       "      <th>AP75</th>\n",
       "      <th>APs</th>\n",
       "      <th>APm</th>\n",
       "      <th>APl</th>\n",
       "      <th>AR@1</th>\n",
       "      <th>AR@10</th>\n",
       "      <th>AR</th>\n",
       "      <th>ARs</th>\n",
       "      <th>ARm</th>\n",
       "      <th>ARl</th>\n",
       "    </tr>\n",
       "  </thead>\n",
       "  <tbody>\n",
       "    <tr>\n",
       "      <th>0</th>\n",
       "      <td>0.218452</td>\n",
       "      <td>0.501322</td>\n",
       "      <td>0.151577</td>\n",
       "      <td>0.076724</td>\n",
       "      <td>0.312442</td>\n",
       "      <td>0.414012</td>\n",
       "      <td>0.102691</td>\n",
       "      <td>0.283274</td>\n",
       "      <td>0.313767</td>\n",
       "      <td>0.175639</td>\n",
       "      <td>0.418444</td>\n",
       "      <td>0.501754</td>\n",
       "    </tr>\n",
       "  </tbody>\n",
       "</table>\n",
       "</div>"
      ],
      "text/plain": [
       "         AP      AP50      AP75       APs       APm       APl      AR@1  \\\n",
       "0  0.218452  0.501322  0.151577  0.076724  0.312442  0.414012  0.102691   \n",
       "\n",
       "      AR@10        AR       ARs       ARm       ARl  \n",
       "0  0.283274  0.313767  0.175639  0.418444  0.501754  "
      ]
     },
     "execution_count": 22,
     "metadata": {},
     "output_type": "execute_result"
    }
   ],
   "source": [
    "df_train_A_over_ganaug_050_augonlyasbase_best_val_per_metric = df_train_A_over_ganaug_050_augonlyasbase.max().to_frame().T\n",
    "df_train_A_over_ganaug_050_augonlyasbase_best_val_per_metric.head(1)"
   ]
  },
  {
   "cell_type": "markdown",
   "metadata": {},
   "source": [
    "## Improvements ##"
   ]
  },
  {
   "cell_type": "markdown",
   "metadata": {},
   "source": [
    "### train_A_over --> train_B_over ###"
   ]
  },
  {
   "cell_type": "code",
   "execution_count": 23,
   "metadata": {},
   "outputs": [
    {
     "data": {
      "text/html": [
       "<div>\n",
       "<style scoped>\n",
       "    .dataframe tbody tr th:only-of-type {\n",
       "        vertical-align: middle;\n",
       "    }\n",
       "\n",
       "    .dataframe tbody tr th {\n",
       "        vertical-align: top;\n",
       "    }\n",
       "\n",
       "    .dataframe thead th {\n",
       "        text-align: right;\n",
       "    }\n",
       "</style>\n",
       "<table border=\"1\" class=\"dataframe\">\n",
       "  <thead>\n",
       "    <tr style=\"text-align: right;\">\n",
       "      <th></th>\n",
       "      <th>AP</th>\n",
       "      <th>AP50</th>\n",
       "      <th>AP75</th>\n",
       "      <th>APs</th>\n",
       "      <th>APm</th>\n",
       "      <th>APl</th>\n",
       "      <th>AR@1</th>\n",
       "      <th>AR@10</th>\n",
       "      <th>AR</th>\n",
       "      <th>ARs</th>\n",
       "      <th>ARm</th>\n",
       "      <th>ARl</th>\n",
       "      <th>Comparison</th>\n",
       "    </tr>\n",
       "  </thead>\n",
       "  <tbody>\n",
       "    <tr>\n",
       "      <th>0</th>\n",
       "      <td>-0.001014</td>\n",
       "      <td>0.000105</td>\n",
       "      <td>0.003268</td>\n",
       "      <td>0.000566</td>\n",
       "      <td>-0.004245</td>\n",
       "      <td>0.005592</td>\n",
       "      <td>0.003229</td>\n",
       "      <td>-0.002646</td>\n",
       "      <td>-0.003049</td>\n",
       "      <td>-0.000098</td>\n",
       "      <td>-0.007205</td>\n",
       "      <td>0.002924</td>\n",
       "      <td>A to B</td>\n",
       "    </tr>\n",
       "  </tbody>\n",
       "</table>\n",
       "</div>"
      ],
      "text/plain": [
       "         AP      AP50      AP75       APs       APm       APl      AR@1  \\\n",
       "0 -0.001014  0.000105  0.003268  0.000566 -0.004245  0.005592  0.003229   \n",
       "\n",
       "      AR@10        AR       ARs       ARm       ARl Comparison  \n",
       "0 -0.002646 -0.003049 -0.000098 -0.007205  0.002924     A to B  "
      ]
     },
     "execution_count": 23,
     "metadata": {},
     "output_type": "execute_result"
    }
   ],
   "source": [
    "df_train_A_over_TO_train_B_over = df_train_B_over_best_val_per_metric - df_train_A_over_best_val_per_metric\n",
    "df_train_A_over_TO_train_B_over[\"Comparison\"] = \"A to B\"\n",
    "df_train_A_over_TO_train_B_over.head(1)"
   ]
  },
  {
   "cell_type": "code",
   "execution_count": 24,
   "metadata": {},
   "outputs": [
    {
     "data": {
      "text/html": [
       "<div>\n",
       "<style scoped>\n",
       "    .dataframe tbody tr th:only-of-type {\n",
       "        vertical-align: middle;\n",
       "    }\n",
       "\n",
       "    .dataframe tbody tr th {\n",
       "        vertical-align: top;\n",
       "    }\n",
       "\n",
       "    .dataframe thead th {\n",
       "        text-align: right;\n",
       "    }\n",
       "</style>\n",
       "<table border=\"1\" class=\"dataframe\">\n",
       "  <thead>\n",
       "    <tr style=\"text-align: right;\">\n",
       "      <th></th>\n",
       "      <th>AP</th>\n",
       "      <th>AP50</th>\n",
       "      <th>AP75</th>\n",
       "      <th>APs</th>\n",
       "      <th>APm</th>\n",
       "      <th>APl</th>\n",
       "      <th>AR@1</th>\n",
       "      <th>AR@10</th>\n",
       "      <th>AR</th>\n",
       "      <th>ARs</th>\n",
       "      <th>ARm</th>\n",
       "      <th>ARl</th>\n",
       "      <th>Comparison</th>\n",
       "    </tr>\n",
       "  </thead>\n",
       "  <tbody>\n",
       "    <tr>\n",
       "      <th>0</th>\n",
       "      <td>-0.004149</td>\n",
       "      <td>0.000189</td>\n",
       "      <td>0.018061</td>\n",
       "      <td>0.005844</td>\n",
       "      <td>-0.012492</td>\n",
       "      <td>0.012471</td>\n",
       "      <td>0.029938</td>\n",
       "      <td>-0.008522</td>\n",
       "      <td>-0.008963</td>\n",
       "      <td>-0.000492</td>\n",
       "      <td>-0.016129</td>\n",
       "      <td>0.005495</td>\n",
       "      <td>A to B</td>\n",
       "    </tr>\n",
       "  </tbody>\n",
       "</table>\n",
       "</div>"
      ],
      "text/plain": [
       "         AP      AP50      AP75       APs       APm       APl      AR@1  \\\n",
       "0 -0.004149  0.000189  0.018061  0.005844 -0.012492  0.012471  0.029938   \n",
       "\n",
       "      AR@10        AR       ARs       ARm       ARl Comparison  \n",
       "0 -0.008522 -0.008963 -0.000492 -0.016129  0.005495     A to B  "
      ]
     },
     "execution_count": 24,
     "metadata": {},
     "output_type": "execute_result"
    }
   ],
   "source": [
    "df_train_A_over_TO_train_B_over_rel = (df_train_B_over_best_val_per_metric - df_train_A_over_best_val_per_metric) / df_train_A_over_best_val_per_metric\n",
    "df_train_A_over_TO_train_B_over_rel[\"Comparison\"] = \"A to B\"\n",
    "df_train_A_over_TO_train_B_over_rel.head(1)"
   ]
  },
  {
   "cell_type": "markdown",
   "metadata": {},
   "source": [
    "### train_A_over --> train_C_over ###"
   ]
  },
  {
   "cell_type": "code",
   "execution_count": 25,
   "metadata": {},
   "outputs": [
    {
     "data": {
      "text/html": [
       "<div>\n",
       "<style scoped>\n",
       "    .dataframe tbody tr th:only-of-type {\n",
       "        vertical-align: middle;\n",
       "    }\n",
       "\n",
       "    .dataframe tbody tr th {\n",
       "        vertical-align: top;\n",
       "    }\n",
       "\n",
       "    .dataframe thead th {\n",
       "        text-align: right;\n",
       "    }\n",
       "</style>\n",
       "<table border=\"1\" class=\"dataframe\">\n",
       "  <thead>\n",
       "    <tr style=\"text-align: right;\">\n",
       "      <th></th>\n",
       "      <th>AP</th>\n",
       "      <th>AP50</th>\n",
       "      <th>AP75</th>\n",
       "      <th>APs</th>\n",
       "      <th>APm</th>\n",
       "      <th>APl</th>\n",
       "      <th>AR@1</th>\n",
       "      <th>AR@10</th>\n",
       "      <th>AR</th>\n",
       "      <th>ARs</th>\n",
       "      <th>ARm</th>\n",
       "      <th>ARl</th>\n",
       "      <th>Comparison</th>\n",
       "    </tr>\n",
       "  </thead>\n",
       "  <tbody>\n",
       "    <tr>\n",
       "      <th>0</th>\n",
       "      <td>-0.024011</td>\n",
       "      <td>-0.025719</td>\n",
       "      <td>-0.032227</td>\n",
       "      <td>-0.016469</td>\n",
       "      <td>-0.032539</td>\n",
       "      <td>-0.024922</td>\n",
       "      <td>-0.00583</td>\n",
       "      <td>-0.020404</td>\n",
       "      <td>-0.021883</td>\n",
       "      <td>-0.006876</td>\n",
       "      <td>-0.036503</td>\n",
       "      <td>-0.024561</td>\n",
       "      <td>Day to Day-R50-Real</td>\n",
       "    </tr>\n",
       "  </tbody>\n",
       "</table>\n",
       "</div>"
      ],
      "text/plain": [
       "         AP      AP50      AP75       APs       APm       APl     AR@1  \\\n",
       "0 -0.024011 -0.025719 -0.032227 -0.016469 -0.032539 -0.024922 -0.00583   \n",
       "\n",
       "      AR@10        AR       ARs       ARm       ARl           Comparison  \n",
       "0 -0.020404 -0.021883 -0.006876 -0.036503 -0.024561  Day to Day-R50-Real  "
      ]
     },
     "execution_count": 25,
     "metadata": {},
     "output_type": "execute_result"
    }
   ],
   "source": [
    "df_train_A_over_TO_train_C_over = df_train_C_over_best_val_per_metric - df_train_A_over_best_val_per_metric\n",
    "#df_train_A_over_TO_train_C_over[\"Comparison\"] = \"A to C\"\n",
    "df_train_A_over_TO_train_C_over[\"Comparison\"] = \"Day to Day-R50-Real\"\n",
    "df_train_A_over_TO_train_C_over.head(1)"
   ]
  },
  {
   "cell_type": "code",
   "execution_count": 26,
   "metadata": {},
   "outputs": [
    {
     "data": {
      "text/html": [
       "<div>\n",
       "<style scoped>\n",
       "    .dataframe tbody tr th:only-of-type {\n",
       "        vertical-align: middle;\n",
       "    }\n",
       "\n",
       "    .dataframe tbody tr th {\n",
       "        vertical-align: top;\n",
       "    }\n",
       "\n",
       "    .dataframe thead th {\n",
       "        text-align: right;\n",
       "    }\n",
       "</style>\n",
       "<table border=\"1\" class=\"dataframe\">\n",
       "  <thead>\n",
       "    <tr style=\"text-align: right;\">\n",
       "      <th></th>\n",
       "      <th>AP</th>\n",
       "      <th>AP50</th>\n",
       "      <th>AP75</th>\n",
       "      <th>APs</th>\n",
       "      <th>APm</th>\n",
       "      <th>APl</th>\n",
       "      <th>AR@1</th>\n",
       "      <th>AR@10</th>\n",
       "      <th>AR</th>\n",
       "      <th>ARs</th>\n",
       "      <th>ARm</th>\n",
       "      <th>ARl</th>\n",
       "      <th>Comparison</th>\n",
       "    </tr>\n",
       "  </thead>\n",
       "  <tbody>\n",
       "    <tr>\n",
       "      <th>0</th>\n",
       "      <td>-0.098296</td>\n",
       "      <td>-0.046386</td>\n",
       "      <td>-0.178104</td>\n",
       "      <td>-0.170135</td>\n",
       "      <td>-0.09575</td>\n",
       "      <td>-0.055582</td>\n",
       "      <td>-0.054054</td>\n",
       "      <td>-0.065723</td>\n",
       "      <td>-0.064321</td>\n",
       "      <td>-0.034449</td>\n",
       "      <td>-0.08172</td>\n",
       "      <td>-0.046154</td>\n",
       "      <td>Day to Day-R50-Real</td>\n",
       "    </tr>\n",
       "  </tbody>\n",
       "</table>\n",
       "</div>"
      ],
      "text/plain": [
       "         AP      AP50      AP75       APs      APm       APl      AR@1  \\\n",
       "0 -0.098296 -0.046386 -0.178104 -0.170135 -0.09575 -0.055582 -0.054054   \n",
       "\n",
       "      AR@10        AR       ARs      ARm       ARl           Comparison  \n",
       "0 -0.065723 -0.064321 -0.034449 -0.08172 -0.046154  Day to Day-R50-Real  "
      ]
     },
     "execution_count": 26,
     "metadata": {},
     "output_type": "execute_result"
    }
   ],
   "source": [
    "df_train_A_over_TO_train_C_over_rel = (df_train_C_over_best_val_per_metric - df_train_A_over_best_val_per_metric) / df_train_A_over_best_val_per_metric\n",
    "#df_train_A_over_TO_train_C_over_rel[\"Comparison\"] = \"day to day_r50real\"\n",
    "df_train_A_over_TO_train_C_over_rel[\"Comparison\"] = \"Day to Day-R50-Real\"\n",
    "df_train_A_over_TO_train_C_over_rel.head(1)"
   ]
  },
  {
   "cell_type": "markdown",
   "metadata": {},
   "source": [
    "### train_A_over --> train_A_over_ganaug_025 ###"
   ]
  },
  {
   "cell_type": "code",
   "execution_count": 27,
   "metadata": {},
   "outputs": [
    {
     "data": {
      "text/html": [
       "<div>\n",
       "<style scoped>\n",
       "    .dataframe tbody tr th:only-of-type {\n",
       "        vertical-align: middle;\n",
       "    }\n",
       "\n",
       "    .dataframe tbody tr th {\n",
       "        vertical-align: top;\n",
       "    }\n",
       "\n",
       "    .dataframe thead th {\n",
       "        text-align: right;\n",
       "    }\n",
       "</style>\n",
       "<table border=\"1\" class=\"dataframe\">\n",
       "  <thead>\n",
       "    <tr style=\"text-align: right;\">\n",
       "      <th></th>\n",
       "      <th>AP</th>\n",
       "      <th>AP50</th>\n",
       "      <th>AP75</th>\n",
       "      <th>APs</th>\n",
       "      <th>APm</th>\n",
       "      <th>APl</th>\n",
       "      <th>AR@1</th>\n",
       "      <th>AR@10</th>\n",
       "      <th>AR</th>\n",
       "      <th>ARs</th>\n",
       "      <th>ARm</th>\n",
       "      <th>ARl</th>\n",
       "      <th>Comparison</th>\n",
       "    </tr>\n",
       "  </thead>\n",
       "  <tbody>\n",
       "    <tr>\n",
       "      <th>0</th>\n",
       "      <td>-0.011323</td>\n",
       "      <td>-0.031941</td>\n",
       "      <td>-0.006344</td>\n",
       "      <td>-0.014454</td>\n",
       "      <td>-0.003499</td>\n",
       "      <td>-0.020432</td>\n",
       "      <td>-0.002691</td>\n",
       "      <td>-0.004305</td>\n",
       "      <td>-0.000179</td>\n",
       "      <td>-0.017092</td>\n",
       "      <td>0.016234</td>\n",
       "      <td>-0.000585</td>\n",
       "      <td>A to A25</td>\n",
       "    </tr>\n",
       "  </tbody>\n",
       "</table>\n",
       "</div>"
      ],
      "text/plain": [
       "         AP      AP50      AP75       APs       APm       APl      AR@1  \\\n",
       "0 -0.011323 -0.031941 -0.006344 -0.014454 -0.003499 -0.020432 -0.002691   \n",
       "\n",
       "      AR@10        AR       ARs       ARm       ARl Comparison  \n",
       "0 -0.004305 -0.000179 -0.017092  0.016234 -0.000585   A to A25  "
      ]
     },
     "execution_count": 27,
     "metadata": {},
     "output_type": "execute_result"
    }
   ],
   "source": [
    "df_train_A_over_TO_train_A_over_ganaug_025 = df_train_A_over_ganaug_025_best_val_per_metric - df_train_A_over_best_val_per_metric\n",
    "df_train_A_over_TO_train_A_over_ganaug_025[\"Comparison\"] = \"A to A25\"\n",
    "df_train_A_over_TO_train_A_over_ganaug_025.head(1)"
   ]
  },
  {
   "cell_type": "code",
   "execution_count": 28,
   "metadata": {},
   "outputs": [
    {
     "data": {
      "text/html": [
       "<div>\n",
       "<style scoped>\n",
       "    .dataframe tbody tr th:only-of-type {\n",
       "        vertical-align: middle;\n",
       "    }\n",
       "\n",
       "    .dataframe tbody tr th {\n",
       "        vertical-align: top;\n",
       "    }\n",
       "\n",
       "    .dataframe thead th {\n",
       "        text-align: right;\n",
       "    }\n",
       "</style>\n",
       "<table border=\"1\" class=\"dataframe\">\n",
       "  <thead>\n",
       "    <tr style=\"text-align: right;\">\n",
       "      <th></th>\n",
       "      <th>AP</th>\n",
       "      <th>AP50</th>\n",
       "      <th>AP75</th>\n",
       "      <th>APs</th>\n",
       "      <th>APm</th>\n",
       "      <th>APl</th>\n",
       "      <th>AR@1</th>\n",
       "      <th>AR@10</th>\n",
       "      <th>AR</th>\n",
       "      <th>ARs</th>\n",
       "      <th>ARm</th>\n",
       "      <th>ARl</th>\n",
       "      <th>Comparison</th>\n",
       "    </tr>\n",
       "  </thead>\n",
       "  <tbody>\n",
       "    <tr>\n",
       "      <th>0</th>\n",
       "      <td>-0.046355</td>\n",
       "      <td>-0.057609</td>\n",
       "      <td>-0.035059</td>\n",
       "      <td>-0.149323</td>\n",
       "      <td>-0.010295</td>\n",
       "      <td>-0.045567</td>\n",
       "      <td>-0.024948</td>\n",
       "      <td>-0.013867</td>\n",
       "      <td>-0.000527</td>\n",
       "      <td>-0.08563</td>\n",
       "      <td>0.036344</td>\n",
       "      <td>-0.001099</td>\n",
       "      <td>A to A25</td>\n",
       "    </tr>\n",
       "  </tbody>\n",
       "</table>\n",
       "</div>"
      ],
      "text/plain": [
       "         AP      AP50      AP75       APs       APm       APl      AR@1  \\\n",
       "0 -0.046355 -0.057609 -0.035059 -0.149323 -0.010295 -0.045567 -0.024948   \n",
       "\n",
       "      AR@10        AR      ARs       ARm       ARl Comparison  \n",
       "0 -0.013867 -0.000527 -0.08563  0.036344 -0.001099   A to A25  "
      ]
     },
     "execution_count": 28,
     "metadata": {},
     "output_type": "execute_result"
    }
   ],
   "source": [
    "df_train_A_over_TO_train_A_over_ganaug_025_rel = (df_train_A_over_ganaug_025_best_val_per_metric - df_train_A_over_best_val_per_metric) / df_train_A_over_best_val_per_metric\n",
    "df_train_A_over_TO_train_A_over_ganaug_025_rel[\"Comparison\"] = \"A to A25\"\n",
    "df_train_A_over_TO_train_A_over_ganaug_025_rel.head(1)"
   ]
  },
  {
   "cell_type": "markdown",
   "metadata": {},
   "source": [
    "### train_A_over --> train_A_over_ganaug_050 ###"
   ]
  },
  {
   "cell_type": "code",
   "execution_count": 29,
   "metadata": {},
   "outputs": [
    {
     "data": {
      "text/html": [
       "<div>\n",
       "<style scoped>\n",
       "    .dataframe tbody tr th:only-of-type {\n",
       "        vertical-align: middle;\n",
       "    }\n",
       "\n",
       "    .dataframe tbody tr th {\n",
       "        vertical-align: top;\n",
       "    }\n",
       "\n",
       "    .dataframe thead th {\n",
       "        text-align: right;\n",
       "    }\n",
       "</style>\n",
       "<table border=\"1\" class=\"dataframe\">\n",
       "  <thead>\n",
       "    <tr style=\"text-align: right;\">\n",
       "      <th></th>\n",
       "      <th>AP</th>\n",
       "      <th>AP50</th>\n",
       "      <th>AP75</th>\n",
       "      <th>APs</th>\n",
       "      <th>APm</th>\n",
       "      <th>APl</th>\n",
       "      <th>AR@1</th>\n",
       "      <th>AR@10</th>\n",
       "      <th>AR</th>\n",
       "      <th>ARs</th>\n",
       "      <th>ARm</th>\n",
       "      <th>ARl</th>\n",
       "      <th>Comparison</th>\n",
       "    </tr>\n",
       "  </thead>\n",
       "  <tbody>\n",
       "    <tr>\n",
       "      <th>0</th>\n",
       "      <td>-0.007906</td>\n",
       "      <td>-0.028272</td>\n",
       "      <td>-0.000419</td>\n",
       "      <td>-0.011602</td>\n",
       "      <td>-0.000127</td>\n",
       "      <td>-0.018696</td>\n",
       "      <td>0.000314</td>\n",
       "      <td>-0.00139</td>\n",
       "      <td>0.003004</td>\n",
       "      <td>-0.001866</td>\n",
       "      <td>0.010951</td>\n",
       "      <td>-0.018129</td>\n",
       "      <td>Day to Day-R50-Fake</td>\n",
       "    </tr>\n",
       "  </tbody>\n",
       "</table>\n",
       "</div>"
      ],
      "text/plain": [
       "         AP      AP50      AP75       APs       APm       APl      AR@1  \\\n",
       "0 -0.007906 -0.028272 -0.000419 -0.011602 -0.000127 -0.018696  0.000314   \n",
       "\n",
       "     AR@10        AR       ARs       ARm       ARl           Comparison  \n",
       "0 -0.00139  0.003004 -0.001866  0.010951 -0.018129  Day to Day-R50-Fake  "
      ]
     },
     "execution_count": 29,
     "metadata": {},
     "output_type": "execute_result"
    }
   ],
   "source": [
    "df_train_A_over_TO_train_A_over_ganaug_050 = df_train_A_over_ganaug_050_best_val_per_metric - df_train_A_over_best_val_per_metric\n",
    "#df_train_A_over_TO_train_A_over_ganaug_050[\"Comparison\"] = \"A to A50\"\n",
    "df_train_A_over_TO_train_A_over_ganaug_050[\"Comparison\"] = \"Day to Day-R50-Fake\"\n",
    "df_train_A_over_TO_train_A_over_ganaug_050.head(1)"
   ]
  },
  {
   "cell_type": "code",
   "execution_count": 30,
   "metadata": {},
   "outputs": [
    {
     "data": {
      "text/html": [
       "<div>\n",
       "<style scoped>\n",
       "    .dataframe tbody tr th:only-of-type {\n",
       "        vertical-align: middle;\n",
       "    }\n",
       "\n",
       "    .dataframe tbody tr th {\n",
       "        vertical-align: top;\n",
       "    }\n",
       "\n",
       "    .dataframe thead th {\n",
       "        text-align: right;\n",
       "    }\n",
       "</style>\n",
       "<table border=\"1\" class=\"dataframe\">\n",
       "  <thead>\n",
       "    <tr style=\"text-align: right;\">\n",
       "      <th></th>\n",
       "      <th>AP</th>\n",
       "      <th>AP50</th>\n",
       "      <th>AP75</th>\n",
       "      <th>APs</th>\n",
       "      <th>APm</th>\n",
       "      <th>APl</th>\n",
       "      <th>AR@1</th>\n",
       "      <th>AR@10</th>\n",
       "      <th>AR</th>\n",
       "      <th>ARs</th>\n",
       "      <th>ARm</th>\n",
       "      <th>ARl</th>\n",
       "      <th>Comparison</th>\n",
       "    </tr>\n",
       "  </thead>\n",
       "  <tbody>\n",
       "    <tr>\n",
       "      <th>0</th>\n",
       "      <td>-0.032366</td>\n",
       "      <td>-0.050992</td>\n",
       "      <td>-0.002318</td>\n",
       "      <td>-0.119855</td>\n",
       "      <td>-0.000372</td>\n",
       "      <td>-0.041695</td>\n",
       "      <td>0.002911</td>\n",
       "      <td>-0.004478</td>\n",
       "      <td>0.008831</td>\n",
       "      <td>-0.00935</td>\n",
       "      <td>0.024516</td>\n",
       "      <td>-0.034066</td>\n",
       "      <td>Day to Day-R50-Fake</td>\n",
       "    </tr>\n",
       "  </tbody>\n",
       "</table>\n",
       "</div>"
      ],
      "text/plain": [
       "         AP      AP50      AP75       APs       APm       APl      AR@1  \\\n",
       "0 -0.032366 -0.050992 -0.002318 -0.119855 -0.000372 -0.041695  0.002911   \n",
       "\n",
       "      AR@10        AR      ARs       ARm       ARl           Comparison  \n",
       "0 -0.004478  0.008831 -0.00935  0.024516 -0.034066  Day to Day-R50-Fake  "
      ]
     },
     "execution_count": 30,
     "metadata": {},
     "output_type": "execute_result"
    }
   ],
   "source": [
    "df_train_A_over_TO_train_A_over_ganaug_050_rel = (df_train_A_over_ganaug_050_best_val_per_metric - df_train_A_over_best_val_per_metric) / df_train_A_over_best_val_per_metric\n",
    "#df_train_A_over_TO_train_A_over_ganaug_050_rel[\"Comparison\"] = \"A to A50\"\n",
    "df_train_A_over_TO_train_A_over_ganaug_050_rel[\"Comparison\"] = \"Day to Day-R50-Fake\"\n",
    "df_train_A_over_TO_train_A_over_ganaug_050_rel.head(1)"
   ]
  },
  {
   "cell_type": "markdown",
   "metadata": {},
   "source": [
    "### train_A_over_ganaug_050_augonlyasbase --> train_A_over_ganaug_025 ###"
   ]
  },
  {
   "cell_type": "code",
   "execution_count": 31,
   "metadata": {},
   "outputs": [
    {
     "data": {
      "text/html": [
       "<div>\n",
       "<style scoped>\n",
       "    .dataframe tbody tr th:only-of-type {\n",
       "        vertical-align: middle;\n",
       "    }\n",
       "\n",
       "    .dataframe tbody tr th {\n",
       "        vertical-align: top;\n",
       "    }\n",
       "\n",
       "    .dataframe thead th {\n",
       "        text-align: right;\n",
       "    }\n",
       "</style>\n",
       "<table border=\"1\" class=\"dataframe\">\n",
       "  <thead>\n",
       "    <tr style=\"text-align: right;\">\n",
       "      <th></th>\n",
       "      <th>AP</th>\n",
       "      <th>AP50</th>\n",
       "      <th>AP75</th>\n",
       "      <th>APs</th>\n",
       "      <th>APm</th>\n",
       "      <th>APl</th>\n",
       "      <th>AR@1</th>\n",
       "      <th>AR@10</th>\n",
       "      <th>AR</th>\n",
       "      <th>ARs</th>\n",
       "      <th>ARm</th>\n",
       "      <th>ARl</th>\n",
       "      <th>Comparison</th>\n",
       "    </tr>\n",
       "  </thead>\n",
       "  <tbody>\n",
       "    <tr>\n",
       "      <th>0</th>\n",
       "      <td>0.014499</td>\n",
       "      <td>0.021181</td>\n",
       "      <td>0.023022</td>\n",
       "      <td>0.00562</td>\n",
       "      <td>0.023895</td>\n",
       "      <td>0.013943</td>\n",
       "      <td>0.002466</td>\n",
       "      <td>0.02287</td>\n",
       "      <td>0.026278</td>\n",
       "      <td>0.006876</td>\n",
       "      <td>0.044476</td>\n",
       "      <td>0.029825</td>\n",
       "      <td>A50aoab to A25</td>\n",
       "    </tr>\n",
       "  </tbody>\n",
       "</table>\n",
       "</div>"
      ],
      "text/plain": [
       "         AP      AP50      AP75      APs       APm       APl      AR@1  \\\n",
       "0  0.014499  0.021181  0.023022  0.00562  0.023895  0.013943  0.002466   \n",
       "\n",
       "     AR@10        AR       ARs       ARm       ARl      Comparison  \n",
       "0  0.02287  0.026278  0.006876  0.044476  0.029825  A50aoab to A25  "
      ]
     },
     "execution_count": 31,
     "metadata": {},
     "output_type": "execute_result"
    }
   ],
   "source": [
    "df_train_A_over_ganaug_050_augonlyasbase_TO_train_A_over_ganaug_025 = df_train_A_over_ganaug_025_best_val_per_metric - df_train_A_over_ganaug_050_augonlyasbase_best_val_per_metric\n",
    "df_train_A_over_ganaug_050_augonlyasbase_TO_train_A_over_ganaug_025[\"Comparison\"] = \"A50aoab to A25\"\n",
    "df_train_A_over_ganaug_050_augonlyasbase_TO_train_A_over_ganaug_025.head(1)"
   ]
  },
  {
   "cell_type": "code",
   "execution_count": 32,
   "metadata": {},
   "outputs": [
    {
     "data": {
      "text/html": [
       "<div>\n",
       "<style scoped>\n",
       "    .dataframe tbody tr th:only-of-type {\n",
       "        vertical-align: middle;\n",
       "    }\n",
       "\n",
       "    .dataframe tbody tr th {\n",
       "        vertical-align: top;\n",
       "    }\n",
       "\n",
       "    .dataframe thead th {\n",
       "        text-align: right;\n",
       "    }\n",
       "</style>\n",
       "<table border=\"1\" class=\"dataframe\">\n",
       "  <thead>\n",
       "    <tr style=\"text-align: right;\">\n",
       "      <th></th>\n",
       "      <th>AP</th>\n",
       "      <th>AP50</th>\n",
       "      <th>AP75</th>\n",
       "      <th>APs</th>\n",
       "      <th>APm</th>\n",
       "      <th>APl</th>\n",
       "      <th>AR@1</th>\n",
       "      <th>AR@10</th>\n",
       "      <th>AR</th>\n",
       "      <th>ARs</th>\n",
       "      <th>ARm</th>\n",
       "      <th>ARl</th>\n",
       "      <th>Comparison</th>\n",
       "    </tr>\n",
       "  </thead>\n",
       "  <tbody>\n",
       "    <tr>\n",
       "      <th>0</th>\n",
       "      <td>0.066374</td>\n",
       "      <td>0.04225</td>\n",
       "      <td>0.151885</td>\n",
       "      <td>0.073254</td>\n",
       "      <td>0.076478</td>\n",
       "      <td>0.033677</td>\n",
       "      <td>0.024017</td>\n",
       "      <td>0.080735</td>\n",
       "      <td>0.08375</td>\n",
       "      <td>0.03915</td>\n",
       "      <td>0.10629</td>\n",
       "      <td>0.059441</td>\n",
       "      <td>A50aoab to A25</td>\n",
       "    </tr>\n",
       "  </tbody>\n",
       "</table>\n",
       "</div>"
      ],
      "text/plain": [
       "         AP     AP50      AP75       APs       APm       APl      AR@1  \\\n",
       "0  0.066374  0.04225  0.151885  0.073254  0.076478  0.033677  0.024017   \n",
       "\n",
       "      AR@10       AR      ARs      ARm       ARl      Comparison  \n",
       "0  0.080735  0.08375  0.03915  0.10629  0.059441  A50aoab to A25  "
      ]
     },
     "execution_count": 32,
     "metadata": {},
     "output_type": "execute_result"
    }
   ],
   "source": [
    "df_train_A_over_ganaug_050_augonlyasbase_TO_train_A_over_ganaug_025_rel = (df_train_A_over_ganaug_025_best_val_per_metric - df_train_A_over_ganaug_050_augonlyasbase_best_val_per_metric) / df_train_A_over_ganaug_050_augonlyasbase_best_val_per_metric\n",
    "df_train_A_over_ganaug_050_augonlyasbase_TO_train_A_over_ganaug_025_rel[\"Comparison\"] = \"A50aoab to A25\"\n",
    "df_train_A_over_ganaug_050_augonlyasbase_TO_train_A_over_ganaug_025_rel.head(1)"
   ]
  },
  {
   "cell_type": "markdown",
   "metadata": {},
   "source": [
    "### train_A_over_ganaug_050_augonlyasbase --> train_A_over_ganaug_050 ###"
   ]
  },
  {
   "cell_type": "code",
   "execution_count": 33,
   "metadata": {},
   "outputs": [
    {
     "data": {
      "text/html": [
       "<div>\n",
       "<style scoped>\n",
       "    .dataframe tbody tr th:only-of-type {\n",
       "        vertical-align: middle;\n",
       "    }\n",
       "\n",
       "    .dataframe tbody tr th {\n",
       "        vertical-align: top;\n",
       "    }\n",
       "\n",
       "    .dataframe thead th {\n",
       "        text-align: right;\n",
       "    }\n",
       "</style>\n",
       "<table border=\"1\" class=\"dataframe\">\n",
       "  <thead>\n",
       "    <tr style=\"text-align: right;\">\n",
       "      <th></th>\n",
       "      <th>AP</th>\n",
       "      <th>AP50</th>\n",
       "      <th>AP75</th>\n",
       "      <th>APs</th>\n",
       "      <th>APm</th>\n",
       "      <th>APl</th>\n",
       "      <th>AR@1</th>\n",
       "      <th>AR@10</th>\n",
       "      <th>AR</th>\n",
       "      <th>ARs</th>\n",
       "      <th>ARm</th>\n",
       "      <th>ARl</th>\n",
       "      <th>Comparison</th>\n",
       "    </tr>\n",
       "  </thead>\n",
       "  <tbody>\n",
       "    <tr>\n",
       "      <th>0</th>\n",
       "      <td>0.017917</td>\n",
       "      <td>0.024849</td>\n",
       "      <td>0.028947</td>\n",
       "      <td>0.008473</td>\n",
       "      <td>0.027267</td>\n",
       "      <td>0.015679</td>\n",
       "      <td>0.005471</td>\n",
       "      <td>0.025785</td>\n",
       "      <td>0.029462</td>\n",
       "      <td>0.022102</td>\n",
       "      <td>0.039193</td>\n",
       "      <td>0.012281</td>\n",
       "      <td>Day/2 to Day-A50-Fake</td>\n",
       "    </tr>\n",
       "  </tbody>\n",
       "</table>\n",
       "</div>"
      ],
      "text/plain": [
       "         AP      AP50      AP75       APs       APm       APl      AR@1  \\\n",
       "0  0.017917  0.024849  0.028947  0.008473  0.027267  0.015679  0.005471   \n",
       "\n",
       "      AR@10        AR       ARs       ARm       ARl             Comparison  \n",
       "0  0.025785  0.029462  0.022102  0.039193  0.012281  Day/2 to Day-A50-Fake  "
      ]
     },
     "execution_count": 33,
     "metadata": {},
     "output_type": "execute_result"
    }
   ],
   "source": [
    "df_train_A_over_ganaug_050_augonlyasbase_TO_train_A_over_ganaug_050 = df_train_A_over_ganaug_050_best_val_per_metric - df_train_A_over_ganaug_050_augonlyasbase_best_val_per_metric\n",
    "#df_train_A_over_ganaug_050_augonlyasbase_TO_train_A_over_ganaug_050[\"Comparison\"] = \"A50aoab to A50\"\n",
    "df_train_A_over_ganaug_050_augonlyasbase_TO_train_A_over_ganaug_050[\"Comparison\"] = \"Day/2 to Day-A50-Fake\"\n",
    "df_train_A_over_ganaug_050_augonlyasbase_TO_train_A_over_ganaug_050.head(1)"
   ]
  },
  {
   "cell_type": "code",
   "execution_count": 34,
   "metadata": {},
   "outputs": [
    {
     "data": {
      "text/html": [
       "<div>\n",
       "<style scoped>\n",
       "    .dataframe tbody tr th:only-of-type {\n",
       "        vertical-align: middle;\n",
       "    }\n",
       "\n",
       "    .dataframe tbody tr th {\n",
       "        vertical-align: top;\n",
       "    }\n",
       "\n",
       "    .dataframe thead th {\n",
       "        text-align: right;\n",
       "    }\n",
       "</style>\n",
       "<table border=\"1\" class=\"dataframe\">\n",
       "  <thead>\n",
       "    <tr style=\"text-align: right;\">\n",
       "      <th></th>\n",
       "      <th>AP</th>\n",
       "      <th>AP50</th>\n",
       "      <th>AP75</th>\n",
       "      <th>APs</th>\n",
       "      <th>APm</th>\n",
       "      <th>APl</th>\n",
       "      <th>AR@1</th>\n",
       "      <th>AR@10</th>\n",
       "      <th>AR</th>\n",
       "      <th>ARs</th>\n",
       "      <th>ARm</th>\n",
       "      <th>ARl</th>\n",
       "      <th>Comparison</th>\n",
       "    </tr>\n",
       "  </thead>\n",
       "  <tbody>\n",
       "    <tr>\n",
       "      <th>0</th>\n",
       "      <td>0.082016</td>\n",
       "      <td>0.049568</td>\n",
       "      <td>0.190969</td>\n",
       "      <td>0.110433</td>\n",
       "      <td>0.08727</td>\n",
       "      <td>0.037871</td>\n",
       "      <td>0.053275</td>\n",
       "      <td>0.091024</td>\n",
       "      <td>0.093897</td>\n",
       "      <td>0.125839</td>\n",
       "      <td>0.093664</td>\n",
       "      <td>0.024476</td>\n",
       "      <td>Day/2 to Day-A50-Fake</td>\n",
       "    </tr>\n",
       "  </tbody>\n",
       "</table>\n",
       "</div>"
      ],
      "text/plain": [
       "         AP      AP50      AP75       APs      APm       APl      AR@1  \\\n",
       "0  0.082016  0.049568  0.190969  0.110433  0.08727  0.037871  0.053275   \n",
       "\n",
       "      AR@10        AR       ARs       ARm       ARl             Comparison  \n",
       "0  0.091024  0.093897  0.125839  0.093664  0.024476  Day/2 to Day-A50-Fake  "
      ]
     },
     "execution_count": 34,
     "metadata": {},
     "output_type": "execute_result"
    }
   ],
   "source": [
    "df_train_A_over_ganaug_050_augonlyasbase_TO_train_A_over_ganaug_050_rel = (df_train_A_over_ganaug_050_best_val_per_metric - df_train_A_over_ganaug_050_augonlyasbase_best_val_per_metric) / df_train_A_over_ganaug_050_augonlyasbase_best_val_per_metric\n",
    "#df_train_A_over_ganaug_050_augonlyasbase_TO_train_A_over_ganaug_050_rel[\"Comparison\"] = \"A50aoab to A50\"\n",
    "df_train_A_over_ganaug_050_augonlyasbase_TO_train_A_over_ganaug_050_rel[\"Comparison\"] = \"Day/2 to Day-A50-Fake\"\n",
    "df_train_A_over_ganaug_050_augonlyasbase_TO_train_A_over_ganaug_050_rel.head(1)"
   ]
  },
  {
   "cell_type": "markdown",
   "metadata": {},
   "source": [
    "### train_A_over_ganaug_050_augonlyasbase --> train_C ###"
   ]
  },
  {
   "cell_type": "code",
   "execution_count": 35,
   "metadata": {},
   "outputs": [
    {
     "data": {
      "text/html": [
       "<div>\n",
       "<style scoped>\n",
       "    .dataframe tbody tr th:only-of-type {\n",
       "        vertical-align: middle;\n",
       "    }\n",
       "\n",
       "    .dataframe tbody tr th {\n",
       "        vertical-align: top;\n",
       "    }\n",
       "\n",
       "    .dataframe thead th {\n",
       "        text-align: right;\n",
       "    }\n",
       "</style>\n",
       "<table border=\"1\" class=\"dataframe\">\n",
       "  <thead>\n",
       "    <tr style=\"text-align: right;\">\n",
       "      <th></th>\n",
       "      <th>AP</th>\n",
       "      <th>AP50</th>\n",
       "      <th>AP75</th>\n",
       "      <th>APs</th>\n",
       "      <th>APm</th>\n",
       "      <th>APl</th>\n",
       "      <th>AR@1</th>\n",
       "      <th>AR@10</th>\n",
       "      <th>AR</th>\n",
       "      <th>ARs</th>\n",
       "      <th>ARm</th>\n",
       "      <th>ARl</th>\n",
       "      <th>Comparison</th>\n",
       "    </tr>\n",
       "  </thead>\n",
       "  <tbody>\n",
       "    <tr>\n",
       "      <th>0</th>\n",
       "      <td>0.001812</td>\n",
       "      <td>0.027403</td>\n",
       "      <td>-0.002861</td>\n",
       "      <td>0.003606</td>\n",
       "      <td>-0.005146</td>\n",
       "      <td>0.009452</td>\n",
       "      <td>-0.000673</td>\n",
       "      <td>0.006771</td>\n",
       "      <td>0.004574</td>\n",
       "      <td>0.017092</td>\n",
       "      <td>-0.008261</td>\n",
       "      <td>0.005848</td>\n",
       "      <td>Day/2 to Day-A50-Real</td>\n",
       "    </tr>\n",
       "  </tbody>\n",
       "</table>\n",
       "</div>"
      ],
      "text/plain": [
       "         AP      AP50      AP75       APs       APm       APl      AR@1  \\\n",
       "0  0.001812  0.027403 -0.002861  0.003606 -0.005146  0.009452 -0.000673   \n",
       "\n",
       "      AR@10        AR       ARs       ARm       ARl             Comparison  \n",
       "0  0.006771  0.004574  0.017092 -0.008261  0.005848  Day/2 to Day-A50-Real  "
      ]
     },
     "execution_count": 35,
     "metadata": {},
     "output_type": "execute_result"
    }
   ],
   "source": [
    "df_train_A_over_ganaug_050_augonlyasbase_TO_train_C_over = df_train_C_over_best_val_per_metric - df_train_A_over_ganaug_050_augonlyasbase_best_val_per_metric\n",
    "#df_train_A_over_ganaug_050_augonlyasbase_TO_train_C_over[\"Comparison\"] = \"A50aoab to C\"\n",
    "df_train_A_over_ganaug_050_augonlyasbase_TO_train_C_over[\"Comparison\"] = \"Day/2 to Day-A50-Real\"\n",
    "df_train_A_over_ganaug_050_augonlyasbase_TO_train_C_over.head(1)"
   ]
  },
  {
   "cell_type": "code",
   "execution_count": 36,
   "metadata": {},
   "outputs": [
    {
     "data": {
      "text/html": [
       "<div>\n",
       "<style scoped>\n",
       "    .dataframe tbody tr th:only-of-type {\n",
       "        vertical-align: middle;\n",
       "    }\n",
       "\n",
       "    .dataframe tbody tr th {\n",
       "        vertical-align: top;\n",
       "    }\n",
       "\n",
       "    .dataframe thead th {\n",
       "        text-align: right;\n",
       "    }\n",
       "</style>\n",
       "<table border=\"1\" class=\"dataframe\">\n",
       "  <thead>\n",
       "    <tr style=\"text-align: right;\">\n",
       "      <th></th>\n",
       "      <th>AP</th>\n",
       "      <th>AP50</th>\n",
       "      <th>AP75</th>\n",
       "      <th>APs</th>\n",
       "      <th>APm</th>\n",
       "      <th>APl</th>\n",
       "      <th>AR@1</th>\n",
       "      <th>AR@10</th>\n",
       "      <th>AR</th>\n",
       "      <th>ARs</th>\n",
       "      <th>ARm</th>\n",
       "      <th>ARl</th>\n",
       "      <th>Comparison</th>\n",
       "    </tr>\n",
       "  </thead>\n",
       "  <tbody>\n",
       "    <tr>\n",
       "      <th>0</th>\n",
       "      <td>0.008293</td>\n",
       "      <td>0.054662</td>\n",
       "      <td>-0.018873</td>\n",
       "      <td>0.046997</td>\n",
       "      <td>-0.016469</td>\n",
       "      <td>0.022831</td>\n",
       "      <td>-0.00655</td>\n",
       "      <td>0.023904</td>\n",
       "      <td>0.014578</td>\n",
       "      <td>0.097315</td>\n",
       "      <td>-0.019743</td>\n",
       "      <td>0.011655</td>\n",
       "      <td>Day/2 to Day-A50-Real</td>\n",
       "    </tr>\n",
       "  </tbody>\n",
       "</table>\n",
       "</div>"
      ],
      "text/plain": [
       "         AP      AP50      AP75       APs       APm       APl     AR@1  \\\n",
       "0  0.008293  0.054662 -0.018873  0.046997 -0.016469  0.022831 -0.00655   \n",
       "\n",
       "      AR@10        AR       ARs       ARm       ARl             Comparison  \n",
       "0  0.023904  0.014578  0.097315 -0.019743  0.011655  Day/2 to Day-A50-Real  "
      ]
     },
     "execution_count": 36,
     "metadata": {},
     "output_type": "execute_result"
    }
   ],
   "source": [
    "df_train_A_over_ganaug_050_augonlyasbase_TO_train_C_over_rel = (df_train_C_over_best_val_per_metric - df_train_A_over_ganaug_050_augonlyasbase_best_val_per_metric) / df_train_A_over_ganaug_050_augonlyasbase_best_val_per_metric\n",
    "#df_train_A_over_ganaug_050_augonlyasbase_TO_train_C_over_rel[\"Comparison\"] = \"A50aoab to C\"\n",
    "df_train_A_over_ganaug_050_augonlyasbase_TO_train_C_over_rel[\"Comparison\"] = \"Day/2 to Day-A50-Real\"\n",
    "df_train_A_over_ganaug_050_augonlyasbase_TO_train_C_over_rel.head(1)"
   ]
  },
  {
   "cell_type": "markdown",
   "metadata": {},
   "source": [
    "## Combine ##"
   ]
  },
  {
   "cell_type": "code",
   "execution_count": 37,
   "metadata": {},
   "outputs": [],
   "source": [
    "#df_combined = pd.concat([df_train_A_over_TO_train_B_over, df_train_A_over_TO_train_C_over, df_train_A_over_TO_train_A_over_ganaug_025, df_train_A_over_TO_train_A_over_ganaug_050, df_train_A_over_ganaug_050_augonlyasbase_TO_train_A_over_ganaug_025, df_train_A_over_ganaug_050_augonlyasbase_TO_train_A_over_ganaug_050], axis = 0)\n",
    "df_combined = pd.concat([df_train_A_over_TO_train_C_over, df_train_A_over_TO_train_A_over_ganaug_050, df_train_A_over_ganaug_050_augonlyasbase_TO_train_C_over, df_train_A_over_ganaug_050_augonlyasbase_TO_train_A_over_ganaug_050], axis = 0)\n",
    "df_combined_rel = pd.concat([df_train_A_over_TO_train_C_over_rel, df_train_A_over_TO_train_A_over_ganaug_050_rel, df_train_A_over_ganaug_050_augonlyasbase_TO_train_C_over_rel, df_train_A_over_ganaug_050_augonlyasbase_TO_train_A_over_ganaug_050_rel], axis = 0)"
   ]
  },
  {
   "cell_type": "code",
   "execution_count": 38,
   "metadata": {},
   "outputs": [
    {
     "data": {
      "text/html": [
       "<div>\n",
       "<style scoped>\n",
       "    .dataframe tbody tr th:only-of-type {\n",
       "        vertical-align: middle;\n",
       "    }\n",
       "\n",
       "    .dataframe tbody tr th {\n",
       "        vertical-align: top;\n",
       "    }\n",
       "\n",
       "    .dataframe thead th {\n",
       "        text-align: right;\n",
       "    }\n",
       "</style>\n",
       "<table border=\"1\" class=\"dataframe\">\n",
       "  <thead>\n",
       "    <tr style=\"text-align: right;\">\n",
       "      <th></th>\n",
       "      <th>AP</th>\n",
       "      <th>AP50</th>\n",
       "      <th>AP75</th>\n",
       "      <th>APs</th>\n",
       "      <th>APm</th>\n",
       "      <th>APl</th>\n",
       "      <th>AR@1</th>\n",
       "      <th>AR@10</th>\n",
       "      <th>AR</th>\n",
       "      <th>ARs</th>\n",
       "      <th>ARm</th>\n",
       "      <th>ARl</th>\n",
       "    </tr>\n",
       "    <tr>\n",
       "      <th>Comparison</th>\n",
       "      <th></th>\n",
       "      <th></th>\n",
       "      <th></th>\n",
       "      <th></th>\n",
       "      <th></th>\n",
       "      <th></th>\n",
       "      <th></th>\n",
       "      <th></th>\n",
       "      <th></th>\n",
       "      <th></th>\n",
       "      <th></th>\n",
       "      <th></th>\n",
       "    </tr>\n",
       "  </thead>\n",
       "  <tbody>\n",
       "    <tr>\n",
       "      <th>Day to Day-R50-Real</th>\n",
       "      <td>-0.024011</td>\n",
       "      <td>-0.025719</td>\n",
       "      <td>-0.032227</td>\n",
       "      <td>-0.016469</td>\n",
       "      <td>-0.032539</td>\n",
       "      <td>-0.024922</td>\n",
       "      <td>-0.005830</td>\n",
       "      <td>-0.020404</td>\n",
       "      <td>-0.021883</td>\n",
       "      <td>-0.006876</td>\n",
       "      <td>-0.036503</td>\n",
       "      <td>-0.024561</td>\n",
       "    </tr>\n",
       "    <tr>\n",
       "      <th>Day to Day-R50-Fake</th>\n",
       "      <td>-0.007906</td>\n",
       "      <td>-0.028272</td>\n",
       "      <td>-0.000419</td>\n",
       "      <td>-0.011602</td>\n",
       "      <td>-0.000127</td>\n",
       "      <td>-0.018696</td>\n",
       "      <td>0.000314</td>\n",
       "      <td>-0.001390</td>\n",
       "      <td>0.003004</td>\n",
       "      <td>-0.001866</td>\n",
       "      <td>0.010951</td>\n",
       "      <td>-0.018129</td>\n",
       "    </tr>\n",
       "    <tr>\n",
       "      <th>Day/2 to Day-A50-Real</th>\n",
       "      <td>0.001812</td>\n",
       "      <td>0.027403</td>\n",
       "      <td>-0.002861</td>\n",
       "      <td>0.003606</td>\n",
       "      <td>-0.005146</td>\n",
       "      <td>0.009452</td>\n",
       "      <td>-0.000673</td>\n",
       "      <td>0.006771</td>\n",
       "      <td>0.004574</td>\n",
       "      <td>0.017092</td>\n",
       "      <td>-0.008261</td>\n",
       "      <td>0.005848</td>\n",
       "    </tr>\n",
       "    <tr>\n",
       "      <th>Day/2 to Day-A50-Fake</th>\n",
       "      <td>0.017917</td>\n",
       "      <td>0.024849</td>\n",
       "      <td>0.028947</td>\n",
       "      <td>0.008473</td>\n",
       "      <td>0.027267</td>\n",
       "      <td>0.015679</td>\n",
       "      <td>0.005471</td>\n",
       "      <td>0.025785</td>\n",
       "      <td>0.029462</td>\n",
       "      <td>0.022102</td>\n",
       "      <td>0.039193</td>\n",
       "      <td>0.012281</td>\n",
       "    </tr>\n",
       "  </tbody>\n",
       "</table>\n",
       "</div>"
      ],
      "text/plain": [
       "                             AP      AP50      AP75       APs       APm  \\\n",
       "Comparison                                                                \n",
       "Day to Day-R50-Real   -0.024011 -0.025719 -0.032227 -0.016469 -0.032539   \n",
       "Day to Day-R50-Fake   -0.007906 -0.028272 -0.000419 -0.011602 -0.000127   \n",
       "Day/2 to Day-A50-Real  0.001812  0.027403 -0.002861  0.003606 -0.005146   \n",
       "Day/2 to Day-A50-Fake  0.017917  0.024849  0.028947  0.008473  0.027267   \n",
       "\n",
       "                            APl      AR@1     AR@10        AR       ARs  \\\n",
       "Comparison                                                                \n",
       "Day to Day-R50-Real   -0.024922 -0.005830 -0.020404 -0.021883 -0.006876   \n",
       "Day to Day-R50-Fake   -0.018696  0.000314 -0.001390  0.003004 -0.001866   \n",
       "Day/2 to Day-A50-Real  0.009452 -0.000673  0.006771  0.004574  0.017092   \n",
       "Day/2 to Day-A50-Fake  0.015679  0.005471  0.025785  0.029462  0.022102   \n",
       "\n",
       "                            ARm       ARl  \n",
       "Comparison                                 \n",
       "Day to Day-R50-Real   -0.036503 -0.024561  \n",
       "Day to Day-R50-Fake    0.010951 -0.018129  \n",
       "Day/2 to Day-A50-Real -0.008261  0.005848  \n",
       "Day/2 to Day-A50-Fake  0.039193  0.012281  "
      ]
     },
     "execution_count": 38,
     "metadata": {},
     "output_type": "execute_result"
    }
   ],
   "source": [
    "df_combined = df_combined.set_index(\"Comparison\")\n",
    "df_combined.head()"
   ]
  },
  {
   "cell_type": "code",
   "execution_count": 39,
   "metadata": {},
   "outputs": [
    {
     "data": {
      "text/html": [
       "<div>\n",
       "<style scoped>\n",
       "    .dataframe tbody tr th:only-of-type {\n",
       "        vertical-align: middle;\n",
       "    }\n",
       "\n",
       "    .dataframe tbody tr th {\n",
       "        vertical-align: top;\n",
       "    }\n",
       "\n",
       "    .dataframe thead th {\n",
       "        text-align: right;\n",
       "    }\n",
       "</style>\n",
       "<table border=\"1\" class=\"dataframe\">\n",
       "  <thead>\n",
       "    <tr style=\"text-align: right;\">\n",
       "      <th></th>\n",
       "      <th>AP</th>\n",
       "      <th>AP50</th>\n",
       "      <th>AP75</th>\n",
       "      <th>APs</th>\n",
       "      <th>APm</th>\n",
       "      <th>APl</th>\n",
       "      <th>AR@1</th>\n",
       "      <th>AR@10</th>\n",
       "      <th>AR</th>\n",
       "      <th>ARs</th>\n",
       "      <th>ARm</th>\n",
       "      <th>ARl</th>\n",
       "    </tr>\n",
       "    <tr>\n",
       "      <th>Comparison</th>\n",
       "      <th></th>\n",
       "      <th></th>\n",
       "      <th></th>\n",
       "      <th></th>\n",
       "      <th></th>\n",
       "      <th></th>\n",
       "      <th></th>\n",
       "      <th></th>\n",
       "      <th></th>\n",
       "      <th></th>\n",
       "      <th></th>\n",
       "      <th></th>\n",
       "    </tr>\n",
       "  </thead>\n",
       "  <tbody>\n",
       "    <tr>\n",
       "      <th>Day to Day-R50-Real</th>\n",
       "      <td>-0.098296</td>\n",
       "      <td>-0.046386</td>\n",
       "      <td>-0.178104</td>\n",
       "      <td>-0.170135</td>\n",
       "      <td>-0.095750</td>\n",
       "      <td>-0.055582</td>\n",
       "      <td>-0.054054</td>\n",
       "      <td>-0.065723</td>\n",
       "      <td>-0.064321</td>\n",
       "      <td>-0.034449</td>\n",
       "      <td>-0.081720</td>\n",
       "      <td>-0.046154</td>\n",
       "    </tr>\n",
       "    <tr>\n",
       "      <th>Day to Day-R50-Fake</th>\n",
       "      <td>-0.032366</td>\n",
       "      <td>-0.050992</td>\n",
       "      <td>-0.002318</td>\n",
       "      <td>-0.119855</td>\n",
       "      <td>-0.000372</td>\n",
       "      <td>-0.041695</td>\n",
       "      <td>0.002911</td>\n",
       "      <td>-0.004478</td>\n",
       "      <td>0.008831</td>\n",
       "      <td>-0.009350</td>\n",
       "      <td>0.024516</td>\n",
       "      <td>-0.034066</td>\n",
       "    </tr>\n",
       "    <tr>\n",
       "      <th>Day/2 to Day-A50-Real</th>\n",
       "      <td>0.008293</td>\n",
       "      <td>0.054662</td>\n",
       "      <td>-0.018873</td>\n",
       "      <td>0.046997</td>\n",
       "      <td>-0.016469</td>\n",
       "      <td>0.022831</td>\n",
       "      <td>-0.006550</td>\n",
       "      <td>0.023904</td>\n",
       "      <td>0.014578</td>\n",
       "      <td>0.097315</td>\n",
       "      <td>-0.019743</td>\n",
       "      <td>0.011655</td>\n",
       "    </tr>\n",
       "    <tr>\n",
       "      <th>Day/2 to Day-A50-Fake</th>\n",
       "      <td>0.082016</td>\n",
       "      <td>0.049568</td>\n",
       "      <td>0.190969</td>\n",
       "      <td>0.110433</td>\n",
       "      <td>0.087270</td>\n",
       "      <td>0.037871</td>\n",
       "      <td>0.053275</td>\n",
       "      <td>0.091024</td>\n",
       "      <td>0.093897</td>\n",
       "      <td>0.125839</td>\n",
       "      <td>0.093664</td>\n",
       "      <td>0.024476</td>\n",
       "    </tr>\n",
       "  </tbody>\n",
       "</table>\n",
       "</div>"
      ],
      "text/plain": [
       "                             AP      AP50      AP75       APs       APm  \\\n",
       "Comparison                                                                \n",
       "Day to Day-R50-Real   -0.098296 -0.046386 -0.178104 -0.170135 -0.095750   \n",
       "Day to Day-R50-Fake   -0.032366 -0.050992 -0.002318 -0.119855 -0.000372   \n",
       "Day/2 to Day-A50-Real  0.008293  0.054662 -0.018873  0.046997 -0.016469   \n",
       "Day/2 to Day-A50-Fake  0.082016  0.049568  0.190969  0.110433  0.087270   \n",
       "\n",
       "                            APl      AR@1     AR@10        AR       ARs  \\\n",
       "Comparison                                                                \n",
       "Day to Day-R50-Real   -0.055582 -0.054054 -0.065723 -0.064321 -0.034449   \n",
       "Day to Day-R50-Fake   -0.041695  0.002911 -0.004478  0.008831 -0.009350   \n",
       "Day/2 to Day-A50-Real  0.022831 -0.006550  0.023904  0.014578  0.097315   \n",
       "Day/2 to Day-A50-Fake  0.037871  0.053275  0.091024  0.093897  0.125839   \n",
       "\n",
       "                            ARm       ARl  \n",
       "Comparison                                 \n",
       "Day to Day-R50-Real   -0.081720 -0.046154  \n",
       "Day to Day-R50-Fake    0.024516 -0.034066  \n",
       "Day/2 to Day-A50-Real -0.019743  0.011655  \n",
       "Day/2 to Day-A50-Fake  0.093664  0.024476  "
      ]
     },
     "execution_count": 39,
     "metadata": {},
     "output_type": "execute_result"
    }
   ],
   "source": [
    "df_combined_rel = df_combined_rel.set_index(\"Comparison\")\n",
    "df_combined_rel.head()"
   ]
  },
  {
   "cell_type": "code",
   "execution_count": 40,
   "metadata": {},
   "outputs": [
    {
     "data": {
      "text/plain": [
       "Text(0, 0.5, 'Absolute change in score')"
      ]
     },
     "execution_count": 40,
     "metadata": {},
     "output_type": "execute_result"
    },
    {
     "data": {
      "image/png": "[encoded data removed]",
      "text/plain": [
       "<Figure size 1152x648 with 1 Axes>"
      ]
     },
     "metadata": {
      "needs_background": "light"
     },
     "output_type": "display_data"
    }
   ],
   "source": [
    "ax = df_combined.plot(kind = \"bar\", figsize = (16, 9))\n",
    "ax.set_xlabel(\"\")\n",
    "ax.set_ylabel(\"Absolute change in score\")"
   ]
  },
  {
   "cell_type": "code",
   "execution_count": 41,
   "metadata": {},
   "outputs": [
    {
     "data": {
      "text/html": [
       "<script type=\"text/javascript\">window.PlotlyConfig = {MathJaxConfig: 'local'};</script><script type=\"text/javascript\">if (window.MathJax) {MathJax.Hub.Config({SVG: {font: \"STIX-Web\"}});}</script><script>requirejs.config({paths: { 'plotly': ['https://cdn.plot.ly/plotly-latest.min']},});if(!window._Plotly) {require(['plotly'],function(plotly) {window._Plotly=plotly;});}</script>"
      ],
      "text/vnd.plotly.v1+html": [
       "<script type=\"text/javascript\">window.PlotlyConfig = {MathJaxConfig: 'local'};</script><script type=\"text/javascript\">if (window.MathJax) {MathJax.Hub.Config({SVG: {font: \"STIX-Web\"}});}</script><script>requirejs.config({paths: { 'plotly': ['https://cdn.plot.ly/plotly-latest.min']},});if(!window._Plotly) {require(['plotly'],function(plotly) {window._Plotly=plotly;});}</script>"
      ]
     },
     "metadata": {},
     "output_type": "display_data"
    },
    {
     "data": {
      "application/vnd.plotly.v1+json": {
       "config": {
        "displaylogo": false,
        "linkText": "Export to plot.ly",
        "modeBarButtonsToRemove": [
         "sendDataToCloud"
        ],
        "plotlyServerURL": "https://plot.ly",
        "showLink": false
       },
       "data": [
        {
         "marker": {
          "color": "rgba(255, 153, 51, 0.6)",
          "line": {
           "color": "rgba(255, 153, 51, 1.0)",
           "width": 1
          }
         },
         "name": "AP",
         "orientation": "v",
         "text": "",
         "type": "bar",
         "uid": "586eef68-8a1b-4fe2-af60-65e652b2b48c",
         "x": [
          "Day to Day-R50-Real",
          "Day to Day-R50-Fake",
          "Day/2 to Day-A50-Real",
          "Day/2 to Day-A50-Fake"
         ],
         "y": [
          -0.02401110945038165,
          -0.007906063750286463,
          0.001811548471032265,
          0.017916594171127453
         ]
        },
        {
         "marker": {
          "color": "rgba(55, 128, 191, 0.6)",
          "line": {
           "color": "rgba(55, 128, 191, 1.0)",
           "width": 1
          }
         },
         "name": "AP50",
         "orientation": "v",
         "text": "",
         "type": "bar",
         "uid": "b3e71701-5e97-4212-99fc-218860702f70",
         "x": [
          "Day to Day-R50-Real",
          "Day to Day-R50-Fake",
          "Day/2 to Day-A50-Real",
          "Day/2 to Day-A50-Fake"
         ],
         "y": [
          -0.025718632653928153,
          -0.0282723267032563,
          0.027403082397913447,
          0.0248493883485853
         ]
        },
        {
         "marker": {
          "color": "rgba(50, 171, 96, 0.6)",
          "line": {
           "color": "rgba(50, 171, 96, 1.0)",
           "width": 1
          }
         },
         "name": "AP75",
         "orientation": "v",
         "text": "",
         "type": "bar",
         "uid": "01a6a2a8-9cd4-46f1-b4df-c1e891860342",
         "x": [
          "Day to Day-R50-Real",
          "Day to Day-R50-Fake",
          "Day/2 to Day-A50-Real",
          "Day/2 to Day-A50-Fake"
         ],
         "y": [
          -0.03222680296327174,
          -0.00041949631736129533,
          -0.002860687950623192,
          0.02894661869528725
         ]
        },
        {
         "marker": {
          "color": "rgba(128, 0, 128, 0.6)",
          "line": {
           "color": "rgba(128, 0, 128, 1.0)",
           "width": 1
          }
         },
         "name": "APs",
         "orientation": "v",
         "text": "",
         "type": "bar",
         "uid": "3962de0d-fef8-4f12-8278-ece6bf79895d",
         "x": [
          "Day to Day-R50-Real",
          "Day to Day-R50-Fake",
          "Day/2 to Day-A50-Real",
          "Day/2 to Day-A50-Fake"
         ],
         "y": [
          -0.0164687535642188,
          -0.011601706657164798,
          0.0036057961553934426,
          0.008472843062447444
         ]
        },
        {
         "marker": {
          "color": "rgba(219, 64, 82, 0.6)",
          "line": {
           "color": "rgba(219, 64, 82, 1.0)",
           "width": 1
          }
         },
         "name": "APm",
         "orientation": "v",
         "text": "",
         "type": "bar",
         "uid": "3b9e8351-eb49-4a7e-bca0-e2570168b1b3",
         "x": [
          "Day to Day-R50-Real",
          "Day to Day-R50-Fake",
          "Day/2 to Day-A50-Real",
          "Day/2 to Day-A50-Fake"
         ],
         "y": [
          -0.03253924360373195,
          -0.00012658575552720874,
          -0.005145769138652723,
          0.027266888709552017
         ]
        },
        {
         "marker": {
          "color": "rgba(0, 128, 128, 0.6)",
          "line": {
           "color": "rgba(0, 128, 128, 1.0)",
           "width": 1
          }
         },
         "name": "APl",
         "orientation": "v",
         "text": "",
         "type": "bar",
         "uid": "62a23a9a-2f90-4843-8393-32e0cc5726f4",
         "x": [
          "Day to Day-R50-Real",
          "Day to Day-R50-Fake",
          "Day/2 to Day-A50-Real",
          "Day/2 to Day-A50-Fake"
         ],
         "y": [
          -0.024922065866963383,
          -0.018695634402296102,
          0.009452435921990021,
          0.015678867386657303
         ]
        },
        {
         "marker": {
          "color": "rgba(255, 255, 51, 0.6)",
          "line": {
           "color": "rgba(255, 255, 51, 1.0)",
           "width": 1
          }
         },
         "name": "AR@1",
         "orientation": "v",
         "text": "",
         "type": "bar",
         "uid": "01581072-dc22-4815-971d-4e77f4189fea",
         "x": [
          "Day to Day-R50-Real",
          "Day to Day-R50-Fake",
          "Day/2 to Day-A50-Real",
          "Day/2 to Day-A50-Fake"
         ],
         "y": [
          -0.00582959641255601,
          0.00031390134529150904,
          -0.0006726457399103131,
          0.0054708520179372055
         ]
        },
        {
         "marker": {
          "color": "rgba(128, 128, 0, 0.6)",
          "line": {
           "color": "rgba(128, 128, 0, 1.0)",
           "width": 1
          }
         },
         "name": "AR@10",
         "orientation": "v",
         "text": "",
         "type": "bar",
         "uid": "031ed48d-b54e-4725-8d0b-c205eabe39e4",
         "x": [
          "Day to Day-R50-Real",
          "Day to Day-R50-Fake",
          "Day/2 to Day-A50-Real",
          "Day/2 to Day-A50-Fake"
         ],
         "y": [
          -0.02040358744394616,
          -0.0013901345291479905,
          0.006771300448430551,
          0.02578475336322872
         ]
        },
        {
         "marker": {
          "color": "rgba(251, 128, 114, 0.6)",
          "line": {
           "color": "rgba(251, 128, 114, 1.0)",
           "width": 1
          }
         },
         "name": "AR",
         "orientation": "v",
         "text": "",
         "type": "bar",
         "uid": "2b1dc3f3-b5fe-4ccb-b1e2-dc6b2bf3a2d3",
         "x": [
          "Day to Day-R50-Real",
          "Day to Day-R50-Fake",
          "Day/2 to Day-A50-Real",
          "Day/2 to Day-A50-Fake"
         ],
         "y": [
          -0.021883408071748878,
          0.0030044843049327197,
          0.004573991031390168,
          0.029461883408071765
         ]
        },
        {
         "marker": {
          "color": "rgba(128, 177, 211, 0.6)",
          "line": {
           "color": "rgba(128, 177, 211, 1.0)",
           "width": 1
          }
         },
         "name": "ARs",
         "orientation": "v",
         "text": "",
         "type": "bar",
         "uid": "c9a208b9-71dc-43f0-954b-461df04ad371",
         "x": [
          "Day to Day-R50-Real",
          "Day to Day-R50-Fake",
          "Day/2 to Day-A50-Real",
          "Day/2 to Day-A50-Fake"
         ],
         "y": [
          -0.006876227897838871,
          -0.0018664047151276675,
          0.017092337917485295,
          0.0221021611001965
         ]
        },
        {
         "marker": {
          "color": "rgba(128, 177, 211, 0.6)",
          "line": {
           "color": "rgba(128, 177, 211, 0.8999999999999999)",
           "width": 1
          }
         },
         "name": "ARm",
         "orientation": "v",
         "text": "",
         "type": "bar",
         "uid": "55589742-68fc-4011-a302-c47691013167",
         "x": [
          "Day to Day-R50-Real",
          "Day to Day-R50-Fake",
          "Day/2 to Day-A50-Real",
          "Day/2 to Day-A50-Fake"
         ],
         "y": [
          -0.0365033621517773,
          0.010951008645533111,
          -0.0082612872238233,
          0.03919308357348711
         ]
        },
        {
         "marker": {
          "color": "rgba(255, 153, 51, 0.6)",
          "line": {
           "color": "rgba(255, 153, 51, 0.8999999999999999)",
           "width": 1
          }
         },
         "name": "ARl",
         "orientation": "v",
         "text": "",
         "type": "bar",
         "uid": "b0714d94-0ce2-4395-beef-0742b6b3e7cb",
         "x": [
          "Day to Day-R50-Real",
          "Day to Day-R50-Fake",
          "Day/2 to Day-A50-Real",
          "Day/2 to Day-A50-Fake"
         ],
         "y": [
          -0.024561403508771784,
          -0.018128654970760105,
          0.005847953216374324,
          0.012280701754386003
         ]
        }
       ],
       "layout": {
        "height": 540,
        "title": {
         "text": "Impact of GAN-based augmentation: person (test set)"
        },
        "width": 960,
        "yaxis": {
         "title": {
          "text": "Absolute change in score"
         }
        }
       }
      },
      "text/html": [
       "<div id=\"42c2b970-54f3-4f12-9b72-5b95d781a405\" style=\"height: 540px; width: 960px;\" class=\"plotly-graph-div\"></div><script type=\"text/javascript\">require([\"plotly\"], function(Plotly) { window.PLOTLYENV=window.PLOTLYENV || {};window.PLOTLYENV.BASE_URL=\"https://plot.ly\";\n",
       "if (document.getElementById(\"42c2b970-54f3-4f12-9b72-5b95d781a405\")) {\n",
       "    Plotly.newPlot(\"42c2b970-54f3-4f12-9b72-5b95d781a405\", [{\"marker\": {\"color\": \"rgba(255, 153, 51, 0.6)\", \"line\": {\"color\": \"rgba(255, 153, 51, 1.0)\", \"width\": 1}}, \"name\": \"AP\", \"orientation\": \"v\", \"text\": \"\", \"x\": [\"Day to Day-R50-Real\", \"Day to Day-R50-Fake\", \"Day/2 to Day-A50-Real\", \"Day/2 to Day-A50-Fake\"], \"y\": [-0.02401110945038165, -0.007906063750286463, 0.001811548471032265, 0.017916594171127453], \"type\": \"bar\", \"uid\": \"586eef68-8a1b-4fe2-af60-65e652b2b48c\"}, {\"marker\": {\"color\": \"rgba(55, 128, 191, 0.6)\", \"line\": {\"color\": \"rgba(55, 128, 191, 1.0)\", \"width\": 1}}, \"name\": \"AP50\", \"orientation\": \"v\", \"text\": \"\", \"x\": [\"Day to Day-R50-Real\", \"Day to Day-R50-Fake\", \"Day/2 to Day-A50-Real\", \"Day/2 to Day-A50-Fake\"], \"y\": [-0.025718632653928153, -0.0282723267032563, 0.027403082397913447, 0.0248493883485853], \"type\": \"bar\", \"uid\": \"b3e71701-5e97-4212-99fc-218860702f70\"}, {\"marker\": {\"color\": \"rgba(50, 171, 96, 0.6)\", \"line\": {\"color\": \"rgba(50, 171, 96, 1.0)\", \"width\": 1}}, \"name\": \"AP75\", \"orientation\": \"v\", \"text\": \"\", \"x\": [\"Day to Day-R50-Real\", \"Day to Day-R50-Fake\", \"Day/2 to Day-A50-Real\", \"Day/2 to Day-A50-Fake\"], \"y\": [-0.03222680296327174, -0.00041949631736129533, -0.002860687950623192, 0.02894661869528725], \"type\": \"bar\", \"uid\": \"01a6a2a8-9cd4-46f1-b4df-c1e891860342\"}, {\"marker\": {\"color\": \"rgba(128, 0, 128, 0.6)\", \"line\": {\"color\": \"rgba(128, 0, 128, 1.0)\", \"width\": 1}}, \"name\": \"APs\", \"orientation\": \"v\", \"text\": \"\", \"x\": [\"Day to Day-R50-Real\", \"Day to Day-R50-Fake\", \"Day/2 to Day-A50-Real\", \"Day/2 to Day-A50-Fake\"], \"y\": [-0.0164687535642188, -0.011601706657164798, 0.0036057961553934426, 0.008472843062447444], \"type\": \"bar\", \"uid\": \"3962de0d-fef8-4f12-8278-ece6bf79895d\"}, {\"marker\": {\"color\": \"rgba(219, 64, 82, 0.6)\", \"line\": {\"color\": \"rgba(219, 64, 82, 1.0)\", \"width\": 1}}, \"name\": \"APm\", \"orientation\": \"v\", \"text\": \"\", \"x\": [\"Day to Day-R50-Real\", \"Day to Day-R50-Fake\", \"Day/2 to Day-A50-Real\", \"Day/2 to Day-A50-Fake\"], \"y\": [-0.03253924360373195, -0.00012658575552720874, -0.005145769138652723, 0.027266888709552017], \"type\": \"bar\", \"uid\": \"3b9e8351-eb49-4a7e-bca0-e2570168b1b3\"}, {\"marker\": {\"color\": \"rgba(0, 128, 128, 0.6)\", \"line\": {\"color\": \"rgba(0, 128, 128, 1.0)\", \"width\": 1}}, \"name\": \"APl\", \"orientation\": \"v\", \"text\": \"\", \"x\": [\"Day to Day-R50-Real\", \"Day to Day-R50-Fake\", \"Day/2 to Day-A50-Real\", \"Day/2 to Day-A50-Fake\"], \"y\": [-0.024922065866963383, -0.018695634402296102, 0.009452435921990021, 0.015678867386657303], \"type\": \"bar\", \"uid\": \"62a23a9a-2f90-4843-8393-32e0cc5726f4\"}, {\"marker\": {\"color\": \"rgba(255, 255, 51, 0.6)\", \"line\": {\"color\": \"rgba(255, 255, 51, 1.0)\", \"width\": 1}}, \"name\": \"AR@1\", \"orientation\": \"v\", \"text\": \"\", \"x\": [\"Day to Day-R50-Real\", \"Day to Day-R50-Fake\", \"Day/2 to Day-A50-Real\", \"Day/2 to Day-A50-Fake\"], \"y\": [-0.00582959641255601, 0.00031390134529150904, -0.0006726457399103131, 0.0054708520179372055], \"type\": \"bar\", \"uid\": \"01581072-dc22-4815-971d-4e77f4189fea\"}, {\"marker\": {\"color\": \"rgba(128, 128, 0, 0.6)\", \"line\": {\"color\": \"rgba(128, 128, 0, 1.0)\", \"width\": 1}}, \"name\": \"AR@10\", \"orientation\": \"v\", \"text\": \"\", \"x\": [\"Day to Day-R50-Real\", \"Day to Day-R50-Fake\", \"Day/2 to Day-A50-Real\", \"Day/2 to Day-A50-Fake\"], \"y\": [-0.02040358744394616, -0.0013901345291479905, 0.006771300448430551, 0.02578475336322872], \"type\": \"bar\", \"uid\": \"031ed48d-b54e-4725-8d0b-c205eabe39e4\"}, {\"marker\": {\"color\": \"rgba(251, 128, 114, 0.6)\", \"line\": {\"color\": \"rgba(251, 128, 114, 1.0)\", \"width\": 1}}, \"name\": \"AR\", \"orientation\": \"v\", \"text\": \"\", \"x\": [\"Day to Day-R50-Real\", \"Day to Day-R50-Fake\", \"Day/2 to Day-A50-Real\", \"Day/2 to Day-A50-Fake\"], \"y\": [-0.021883408071748878, 0.0030044843049327197, 0.004573991031390168, 0.029461883408071765], \"type\": \"bar\", \"uid\": \"2b1dc3f3-b5fe-4ccb-b1e2-dc6b2bf3a2d3\"}, {\"marker\": {\"color\": \"rgba(128, 177, 211, 0.6)\", \"line\": {\"color\": \"rgba(128, 177, 211, 1.0)\", \"width\": 1}}, \"name\": \"ARs\", \"orientation\": \"v\", \"text\": \"\", \"x\": [\"Day to Day-R50-Real\", \"Day to Day-R50-Fake\", \"Day/2 to Day-A50-Real\", \"Day/2 to Day-A50-Fake\"], \"y\": [-0.006876227897838871, -0.0018664047151276675, 0.017092337917485295, 0.0221021611001965], \"type\": \"bar\", \"uid\": \"c9a208b9-71dc-43f0-954b-461df04ad371\"}, {\"marker\": {\"color\": \"rgba(128, 177, 211, 0.6)\", \"line\": {\"color\": \"rgba(128, 177, 211, 0.8999999999999999)\", \"width\": 1}}, \"name\": \"ARm\", \"orientation\": \"v\", \"text\": \"\", \"x\": [\"Day to Day-R50-Real\", \"Day to Day-R50-Fake\", \"Day/2 to Day-A50-Real\", \"Day/2 to Day-A50-Fake\"], \"y\": [-0.0365033621517773, 0.010951008645533111, -0.0082612872238233, 0.03919308357348711], \"type\": \"bar\", \"uid\": \"55589742-68fc-4011-a302-c47691013167\"}, {\"marker\": {\"color\": \"rgba(255, 153, 51, 0.6)\", \"line\": {\"color\": \"rgba(255, 153, 51, 0.8999999999999999)\", \"width\": 1}}, \"name\": \"ARl\", \"orientation\": \"v\", \"text\": \"\", \"x\": [\"Day to Day-R50-Real\", \"Day to Day-R50-Fake\", \"Day/2 to Day-A50-Real\", \"Day/2 to Day-A50-Fake\"], \"y\": [-0.024561403508771784, -0.018128654970760105, 0.005847953216374324, 0.012280701754386003], \"type\": \"bar\", \"uid\": \"b0714d94-0ce2-4395-beef-0742b6b3e7cb\"}], {\"height\": 540, \"title\": {\"text\": \"Impact of GAN-based augmentation: person (test set)\"}, \"width\": 960, \"yaxis\": {\"title\": {\"text\": \"Absolute change in score\"}}}, {\"modeBarButtonsToRemove\": [\"sendDataToCloud\"], \"displaylogo\": false, \"showLink\": false, \"linkText\": \"Export to plot.ly\", \"plotlyServerURL\": \"https://plot.ly\"}); \n",
       "}\n",
       "});</script>"
      ],
      "text/vnd.plotly.v1+html": [
       "<div id=\"42c2b970-54f3-4f12-9b72-5b95d781a405\" style=\"height: 540px; width: 960px;\" class=\"plotly-graph-div\"></div><script type=\"text/javascript\">require([\"plotly\"], function(Plotly) { window.PLOTLYENV=window.PLOTLYENV || {};window.PLOTLYENV.BASE_URL=\"https://plot.ly\";\n",
       "if (document.getElementById(\"42c2b970-54f3-4f12-9b72-5b95d781a405\")) {\n",
       "    Plotly.newPlot(\"42c2b970-54f3-4f12-9b72-5b95d781a405\", [{\"marker\": {\"color\": \"rgba(255, 153, 51, 0.6)\", \"line\": {\"color\": \"rgba(255, 153, 51, 1.0)\", \"width\": 1}}, \"name\": \"AP\", \"orientation\": \"v\", \"text\": \"\", \"x\": [\"Day to Day-R50-Real\", \"Day to Day-R50-Fake\", \"Day/2 to Day-A50-Real\", \"Day/2 to Day-A50-Fake\"], \"y\": [-0.02401110945038165, -0.007906063750286463, 0.001811548471032265, 0.017916594171127453], \"type\": \"bar\", \"uid\": \"586eef68-8a1b-4fe2-af60-65e652b2b48c\"}, {\"marker\": {\"color\": \"rgba(55, 128, 191, 0.6)\", \"line\": {\"color\": \"rgba(55, 128, 191, 1.0)\", \"width\": 1}}, \"name\": \"AP50\", \"orientation\": \"v\", \"text\": \"\", \"x\": [\"Day to Day-R50-Real\", \"Day to Day-R50-Fake\", \"Day/2 to Day-A50-Real\", \"Day/2 to Day-A50-Fake\"], \"y\": [-0.025718632653928153, -0.0282723267032563, 0.027403082397913447, 0.0248493883485853], \"type\": \"bar\", \"uid\": \"b3e71701-5e97-4212-99fc-218860702f70\"}, {\"marker\": {\"color\": \"rgba(50, 171, 96, 0.6)\", \"line\": {\"color\": \"rgba(50, 171, 96, 1.0)\", \"width\": 1}}, \"name\": \"AP75\", \"orientation\": \"v\", \"text\": \"\", \"x\": [\"Day to Day-R50-Real\", \"Day to Day-R50-Fake\", \"Day/2 to Day-A50-Real\", \"Day/2 to Day-A50-Fake\"], \"y\": [-0.03222680296327174, -0.00041949631736129533, -0.002860687950623192, 0.02894661869528725], \"type\": \"bar\", \"uid\": \"01a6a2a8-9cd4-46f1-b4df-c1e891860342\"}, {\"marker\": {\"color\": \"rgba(128, 0, 128, 0.6)\", \"line\": {\"color\": \"rgba(128, 0, 128, 1.0)\", \"width\": 1}}, \"name\": \"APs\", \"orientation\": \"v\", \"text\": \"\", \"x\": [\"Day to Day-R50-Real\", \"Day to Day-R50-Fake\", \"Day/2 to Day-A50-Real\", \"Day/2 to Day-A50-Fake\"], \"y\": [-0.0164687535642188, -0.011601706657164798, 0.0036057961553934426, 0.008472843062447444], \"type\": \"bar\", \"uid\": \"3962de0d-fef8-4f12-8278-ece6bf79895d\"}, {\"marker\": {\"color\": \"rgba(219, 64, 82, 0.6)\", \"line\": {\"color\": \"rgba(219, 64, 82, 1.0)\", \"width\": 1}}, \"name\": \"APm\", \"orientation\": \"v\", \"text\": \"\", \"x\": [\"Day to Day-R50-Real\", \"Day to Day-R50-Fake\", \"Day/2 to Day-A50-Real\", \"Day/2 to Day-A50-Fake\"], \"y\": [-0.03253924360373195, -0.00012658575552720874, -0.005145769138652723, 0.027266888709552017], \"type\": \"bar\", \"uid\": \"3b9e8351-eb49-4a7e-bca0-e2570168b1b3\"}, {\"marker\": {\"color\": \"rgba(0, 128, 128, 0.6)\", \"line\": {\"color\": \"rgba(0, 128, 128, 1.0)\", \"width\": 1}}, \"name\": \"APl\", \"orientation\": \"v\", \"text\": \"\", \"x\": [\"Day to Day-R50-Real\", \"Day to Day-R50-Fake\", \"Day/2 to Day-A50-Real\", \"Day/2 to Day-A50-Fake\"], \"y\": [-0.024922065866963383, -0.018695634402296102, 0.009452435921990021, 0.015678867386657303], \"type\": \"bar\", \"uid\": \"62a23a9a-2f90-4843-8393-32e0cc5726f4\"}, {\"marker\": {\"color\": \"rgba(255, 255, 51, 0.6)\", \"line\": {\"color\": \"rgba(255, 255, 51, 1.0)\", \"width\": 1}}, \"name\": \"AR@1\", \"orientation\": \"v\", \"text\": \"\", \"x\": [\"Day to Day-R50-Real\", \"Day to Day-R50-Fake\", \"Day/2 to Day-A50-Real\", \"Day/2 to Day-A50-Fake\"], \"y\": [-0.00582959641255601, 0.00031390134529150904, -0.0006726457399103131, 0.0054708520179372055], \"type\": \"bar\", \"uid\": \"01581072-dc22-4815-971d-4e77f4189fea\"}, {\"marker\": {\"color\": \"rgba(128, 128, 0, 0.6)\", \"line\": {\"color\": \"rgba(128, 128, 0, 1.0)\", \"width\": 1}}, \"name\": \"AR@10\", \"orientation\": \"v\", \"text\": \"\", \"x\": [\"Day to Day-R50-Real\", \"Day to Day-R50-Fake\", \"Day/2 to Day-A50-Real\", \"Day/2 to Day-A50-Fake\"], \"y\": [-0.02040358744394616, -0.0013901345291479905, 0.006771300448430551, 0.02578475336322872], \"type\": \"bar\", \"uid\": \"031ed48d-b54e-4725-8d0b-c205eabe39e4\"}, {\"marker\": {\"color\": \"rgba(251, 128, 114, 0.6)\", \"line\": {\"color\": \"rgba(251, 128, 114, 1.0)\", \"width\": 1}}, \"name\": \"AR\", \"orientation\": \"v\", \"text\": \"\", \"x\": [\"Day to Day-R50-Real\", \"Day to Day-R50-Fake\", \"Day/2 to Day-A50-Real\", \"Day/2 to Day-A50-Fake\"], \"y\": [-0.021883408071748878, 0.0030044843049327197, 0.004573991031390168, 0.029461883408071765], \"type\": \"bar\", \"uid\": \"2b1dc3f3-b5fe-4ccb-b1e2-dc6b2bf3a2d3\"}, {\"marker\": {\"color\": \"rgba(128, 177, 211, 0.6)\", \"line\": {\"color\": \"rgba(128, 177, 211, 1.0)\", \"width\": 1}}, \"name\": \"ARs\", \"orientation\": \"v\", \"text\": \"\", \"x\": [\"Day to Day-R50-Real\", \"Day to Day-R50-Fake\", \"Day/2 to Day-A50-Real\", \"Day/2 to Day-A50-Fake\"], \"y\": [-0.006876227897838871, -0.0018664047151276675, 0.017092337917485295, 0.0221021611001965], \"type\": \"bar\", \"uid\": \"c9a208b9-71dc-43f0-954b-461df04ad371\"}, {\"marker\": {\"color\": \"rgba(128, 177, 211, 0.6)\", \"line\": {\"color\": \"rgba(128, 177, 211, 0.8999999999999999)\", \"width\": 1}}, \"name\": \"ARm\", \"orientation\": \"v\", \"text\": \"\", \"x\": [\"Day to Day-R50-Real\", \"Day to Day-R50-Fake\", \"Day/2 to Day-A50-Real\", \"Day/2 to Day-A50-Fake\"], \"y\": [-0.0365033621517773, 0.010951008645533111, -0.0082612872238233, 0.03919308357348711], \"type\": \"bar\", \"uid\": \"55589742-68fc-4011-a302-c47691013167\"}, {\"marker\": {\"color\": \"rgba(255, 153, 51, 0.6)\", \"line\": {\"color\": \"rgba(255, 153, 51, 0.8999999999999999)\", \"width\": 1}}, \"name\": \"ARl\", \"orientation\": \"v\", \"text\": \"\", \"x\": [\"Day to Day-R50-Real\", \"Day to Day-R50-Fake\", \"Day/2 to Day-A50-Real\", \"Day/2 to Day-A50-Fake\"], \"y\": [-0.024561403508771784, -0.018128654970760105, 0.005847953216374324, 0.012280701754386003], \"type\": \"bar\", \"uid\": \"b0714d94-0ce2-4395-beef-0742b6b3e7cb\"}], {\"height\": 540, \"title\": {\"text\": \"Impact of GAN-based augmentation: person (test set)\"}, \"width\": 960, \"yaxis\": {\"title\": {\"text\": \"Absolute change in score\"}}}, {\"modeBarButtonsToRemove\": [\"sendDataToCloud\"], \"displaylogo\": false, \"showLink\": false, \"linkText\": \"Export to plot.ly\", \"plotlyServerURL\": \"https://plot.ly\"}); \n",
       "}\n",
       "});</script>"
      ]
     },
     "metadata": {},
     "output_type": "display_data"
    }
   ],
   "source": [
    "cf.go_offline(connected = True)\n",
    "config = {\n",
    "    \"modeBarButtonsToRemove\": [\"sendDataToCloud\"],\n",
    "    \"displaylogo\": False\n",
    "}\n",
    "layout = {\n",
    "    \"title\": plot_title,\n",
    "    \"yaxis\": {\n",
    "        \"title\": \"Absolute change in score\"\n",
    "    },\n",
    "    \"width\": 960,\n",
    "    \"height\": 540\n",
    "}\n",
    "fig = df_combined.iplot(kind = \"bar\", y = [\"AP\", \"AP50\", \"AP75\", \"APs\", \"APm\", \"APl\", \"AR@1\", \"AR@10\", \"AR\", \"ARs\", \"ARm\", \"ARl\"], layout = layout, asFigure = True)\n",
    "py.offline.iplot(fig, show_link = False, config = config)"
   ]
  },
  {
   "cell_type": "code",
   "execution_count": 42,
   "metadata": {},
   "outputs": [],
   "source": [
    "df_combined_rel = df_combined_rel * 100"
   ]
  },
  {
   "cell_type": "code",
   "execution_count": 43,
   "metadata": {},
   "outputs": [
    {
     "data": {
      "text/plain": [
       "Text(0, 0.5, 'Relative change in score (%)')"
      ]
     },
     "execution_count": 43,
     "metadata": {},
     "output_type": "execute_result"
    },
    {
     "data": {
      "image/png": "[encoded data removed]",
      "text/plain": [
       "<Figure size 1152x648 with 1 Axes>"
      ]
     },
     "metadata": {
      "needs_background": "light"
     },
     "output_type": "display_data"
    }
   ],
   "source": [
    "ax = df_combined_rel.plot(kind = \"bar\", figsize = (16, 9))\n",
    "ax.set_xlabel(\"\")\n",
    "ax.set_ylabel(\"Relative change in score (%)\")"
   ]
  },
  {
   "cell_type": "code",
   "execution_count": 44,
   "metadata": {},
   "outputs": [
    {
     "data": {
      "application/vnd.plotly.v1+json": {
       "config": {
        "displaylogo": false,
        "linkText": "Export to plot.ly",
        "modeBarButtonsToRemove": [
         "sendDataToCloud"
        ],
        "plotlyServerURL": "https://plot.ly",
        "showLink": false
       },
       "data": [
        {
         "marker": {
          "color": "rgba(255, 153, 51, 0.6)",
          "line": {
           "color": "rgba(255, 153, 51, 1.0)",
           "width": 1
          }
         },
         "name": "AP",
         "orientation": "v",
         "text": "",
         "type": "bar",
         "uid": "c4e65739-47d5-4cc1-8f39-f632d5611d4e",
         "x": [
          "Day to Day-R50-Real",
          "Day to Day-R50-Fake",
          "Day/2 to Day-A50-Real",
          "Day/2 to Day-A50-Fake"
         ],
         "y": [
          -9.829570100780044,
          -3.2365521474661185,
          0.8292676586095782,
          8.201631000291492
         ]
        },
        {
         "marker": {
          "color": "rgba(55, 128, 191, 0.6)",
          "line": {
           "color": "rgba(55, 128, 191, 1.0)",
           "width": 1
          }
         },
         "name": "APs",
         "orientation": "v",
         "text": "",
         "type": "bar",
         "uid": "fc03d5a5-6128-4564-a27a-0537101eec88",
         "x": [
          "Day to Day-R50-Real",
          "Day to Day-R50-Fake",
          "Day/2 to Day-A50-Real",
          "Day/2 to Day-A50-Fake"
         ],
         "y": [
          -17.013493751217702,
          -11.985458580422758,
          4.6997200139507695,
          11.0433281304842
         ]
        },
        {
         "marker": {
          "color": "rgba(50, 171, 96, 0.6)",
          "line": {
           "color": "rgba(50, 171, 96, 1.0)",
           "width": 1
          }
         },
         "name": "APm",
         "orientation": "v",
         "text": "",
         "type": "bar",
         "uid": "d681cd72-0780-4ef3-a475-164c1a03c47b",
         "x": [
          "Day to Day-R50-Real",
          "Day to Day-R50-Fake",
          "Day/2 to Day-A50-Real",
          "Day/2 to Day-A50-Fake"
         ],
         "y": [
          -9.574986327179385,
          -0.03724907970047848,
          -1.646949409985006,
          8.72701146559428
         ]
        },
        {
         "marker": {
          "color": "rgba(128, 0, 128, 0.6)",
          "line": {
           "color": "rgba(128, 0, 128, 1.0)",
           "width": 1
          }
         },
         "name": "APl",
         "orientation": "v",
         "text": "",
         "type": "bar",
         "uid": "c7321da6-59a2-4da6-98f1-a7081057b835",
         "x": [
          "Day to Day-R50-Real",
          "Day to Day-R50-Fake",
          "Day/2 to Day-A50-Real",
          "Day/2 to Day-A50-Fake"
         ],
         "y": [
          -5.55816909423546,
          -4.169537866028789,
          2.2831323036803637,
          3.7870585858530195
         ]
        },
        {
         "marker": {
          "color": "rgba(219, 64, 82, 0.6)",
          "line": {
           "color": "rgba(219, 64, 82, 1.0)",
           "width": 1
          }
         },
         "name": "AR",
         "orientation": "v",
         "text": "",
         "type": "bar",
         "uid": "516f3d16-af55-4406-91f5-3541aca1942a",
         "x": [
          "Day to Day-R50-Real",
          "Day to Day-R50-Fake",
          "Day/2 to Day-A50-Real",
          "Day/2 to Day-A50-Fake"
         ],
         "y": [
          -6.432054830631342,
          0.8830894951891346,
          1.4577676146920213,
          9.389738459339721
         ]
        },
        {
         "marker": {
          "color": "rgba(0, 128, 128, 0.6)",
          "line": {
           "color": "rgba(0, 128, 128, 1.0)",
           "width": 1
          }
         },
         "name": "ARs",
         "orientation": "v",
         "text": "",
         "type": "bar",
         "uid": "c721fe30-ca50-4cf3-8e31-b73395d44d7e",
         "x": [
          "Day to Day-R50-Real",
          "Day to Day-R50-Fake",
          "Day/2 to Day-A50-Real",
          "Day/2 to Day-A50-Fake"
         ],
         "y": [
          -3.444881889763765,
          -0.9350393700787232,
          9.731543624161091,
          12.583892617449685
         ]
        },
        {
         "marker": {
          "color": "rgba(255, 255, 51, 0.6)",
          "line": {
           "color": "rgba(255, 255, 51, 1.0)",
           "width": 1
          }
         },
         "name": "ARm",
         "orientation": "v",
         "text": "",
         "type": "bar",
         "uid": "f4469106-ab18-43ac-811a-061c80bdb360",
         "x": [
          "Day to Day-R50-Real",
          "Day to Day-R50-Fake",
          "Day/2 to Day-A50-Real",
          "Day/2 to Day-A50-Fake"
         ],
         "y": [
          -8.172043010752722,
          2.4516129032257994,
          -1.9742883379247143,
          9.366391184573022
         ]
        },
        {
         "marker": {
          "color": "rgba(128, 128, 0, 0.6)",
          "line": {
           "color": "rgba(128, 128, 0, 1.0)",
           "width": 1
          }
         },
         "name": "ARl",
         "orientation": "v",
         "text": "",
         "type": "bar",
         "uid": "12341070-7ce5-4cb5-ad68-5fa2c7737c6f",
         "x": [
          "Day to Day-R50-Real",
          "Day to Day-R50-Fake",
          "Day/2 to Day-A50-Real",
          "Day/2 to Day-A50-Fake"
         ],
         "y": [
          -4.615384615384588,
          -3.4065934065933825,
          1.1655011655011764,
          2.447552447552455
         ]
        }
       ],
       "layout": {
        "height": 768,
        "legend": {
         "font": {
          "size": 18
         },
         "orientation": "h",
         "x": 0.13,
         "y": -0.07
        },
        "title": {
         "font": {
          "size": 28
         },
         "text": "Impact of GAN-based augmentation: person (test set)"
        },
        "width": 1024,
        "xaxis": {
         "tickfont": {
          "size": 18
         }
        },
        "yaxis": {
         "dtick": 5,
         "range": [
          -30,
          30
         ],
         "tickfont": {
          "size": 18
         },
         "title": {
          "font": {
           "size": 20
          },
          "text": "Relative score change (%)"
         }
        }
       }
      },
      "text/html": [
       "<div id=\"2c050a68-88ed-4563-ac17-60bdba677858\" style=\"height: 768px; width: 1024px;\" class=\"plotly-graph-div\"></div><script type=\"text/javascript\">require([\"plotly\"], function(Plotly) { window.PLOTLYENV=window.PLOTLYENV || {};window.PLOTLYENV.BASE_URL=\"https://plot.ly\";\n",
       "if (document.getElementById(\"2c050a68-88ed-4563-ac17-60bdba677858\")) {\n",
       "    Plotly.newPlot(\"2c050a68-88ed-4563-ac17-60bdba677858\", [{\"marker\": {\"color\": \"rgba(255, 153, 51, 0.6)\", \"line\": {\"color\": \"rgba(255, 153, 51, 1.0)\", \"width\": 1}}, \"name\": \"AP\", \"orientation\": \"v\", \"text\": \"\", \"x\": [\"Day to Day-R50-Real\", \"Day to Day-R50-Fake\", \"Day/2 to Day-A50-Real\", \"Day/2 to Day-A50-Fake\"], \"y\": [-9.829570100780044, -3.2365521474661185, 0.8292676586095782, 8.201631000291492], \"type\": \"bar\", \"uid\": \"c4e65739-47d5-4cc1-8f39-f632d5611d4e\"}, {\"marker\": {\"color\": \"rgba(55, 128, 191, 0.6)\", \"line\": {\"color\": \"rgba(55, 128, 191, 1.0)\", \"width\": 1}}, \"name\": \"APs\", \"orientation\": \"v\", \"text\": \"\", \"x\": [\"Day to Day-R50-Real\", \"Day to Day-R50-Fake\", \"Day/2 to Day-A50-Real\", \"Day/2 to Day-A50-Fake\"], \"y\": [-17.013493751217702, -11.985458580422758, 4.6997200139507695, 11.0433281304842], \"type\": \"bar\", \"uid\": \"fc03d5a5-6128-4564-a27a-0537101eec88\"}, {\"marker\": {\"color\": \"rgba(50, 171, 96, 0.6)\", \"line\": {\"color\": \"rgba(50, 171, 96, 1.0)\", \"width\": 1}}, \"name\": \"APm\", \"orientation\": \"v\", \"text\": \"\", \"x\": [\"Day to Day-R50-Real\", \"Day to Day-R50-Fake\", \"Day/2 to Day-A50-Real\", \"Day/2 to Day-A50-Fake\"], \"y\": [-9.574986327179385, -0.03724907970047848, -1.646949409985006, 8.72701146559428], \"type\": \"bar\", \"uid\": \"d681cd72-0780-4ef3-a475-164c1a03c47b\"}, {\"marker\": {\"color\": \"rgba(128, 0, 128, 0.6)\", \"line\": {\"color\": \"rgba(128, 0, 128, 1.0)\", \"width\": 1}}, \"name\": \"APl\", \"orientation\": \"v\", \"text\": \"\", \"x\": [\"Day to Day-R50-Real\", \"Day to Day-R50-Fake\", \"Day/2 to Day-A50-Real\", \"Day/2 to Day-A50-Fake\"], \"y\": [-5.55816909423546, -4.169537866028789, 2.2831323036803637, 3.7870585858530195], \"type\": \"bar\", \"uid\": \"c7321da6-59a2-4da6-98f1-a7081057b835\"}, {\"marker\": {\"color\": \"rgba(219, 64, 82, 0.6)\", \"line\": {\"color\": \"rgba(219, 64, 82, 1.0)\", \"width\": 1}}, \"name\": \"AR\", \"orientation\": \"v\", \"text\": \"\", \"x\": [\"Day to Day-R50-Real\", \"Day to Day-R50-Fake\", \"Day/2 to Day-A50-Real\", \"Day/2 to Day-A50-Fake\"], \"y\": [-6.432054830631342, 0.8830894951891346, 1.4577676146920213, 9.389738459339721], \"type\": \"bar\", \"uid\": \"516f3d16-af55-4406-91f5-3541aca1942a\"}, {\"marker\": {\"color\": \"rgba(0, 128, 128, 0.6)\", \"line\": {\"color\": \"rgba(0, 128, 128, 1.0)\", \"width\": 1}}, \"name\": \"ARs\", \"orientation\": \"v\", \"text\": \"\", \"x\": [\"Day to Day-R50-Real\", \"Day to Day-R50-Fake\", \"Day/2 to Day-A50-Real\", \"Day/2 to Day-A50-Fake\"], \"y\": [-3.444881889763765, -0.9350393700787232, 9.731543624161091, 12.583892617449685], \"type\": \"bar\", \"uid\": \"c721fe30-ca50-4cf3-8e31-b73395d44d7e\"}, {\"marker\": {\"color\": \"rgba(255, 255, 51, 0.6)\", \"line\": {\"color\": \"rgba(255, 255, 51, 1.0)\", \"width\": 1}}, \"name\": \"ARm\", \"orientation\": \"v\", \"text\": \"\", \"x\": [\"Day to Day-R50-Real\", \"Day to Day-R50-Fake\", \"Day/2 to Day-A50-Real\", \"Day/2 to Day-A50-Fake\"], \"y\": [-8.172043010752722, 2.4516129032257994, -1.9742883379247143, 9.366391184573022], \"type\": \"bar\", \"uid\": \"f4469106-ab18-43ac-811a-061c80bdb360\"}, {\"marker\": {\"color\": \"rgba(128, 128, 0, 0.6)\", \"line\": {\"color\": \"rgba(128, 128, 0, 1.0)\", \"width\": 1}}, \"name\": \"ARl\", \"orientation\": \"v\", \"text\": \"\", \"x\": [\"Day to Day-R50-Real\", \"Day to Day-R50-Fake\", \"Day/2 to Day-A50-Real\", \"Day/2 to Day-A50-Fake\"], \"y\": [-4.615384615384588, -3.4065934065933825, 1.1655011655011764, 2.447552447552455], \"type\": \"bar\", \"uid\": \"12341070-7ce5-4cb5-ad68-5fa2c7737c6f\"}], {\"height\": 768, \"legend\": {\"font\": {\"size\": 18}, \"orientation\": \"h\", \"x\": 0.13, \"y\": -0.07}, \"title\": {\"text\": \"Impact of GAN-based augmentation: person (test set)\", \"font\": {\"size\": 28}}, \"width\": 1024, \"xaxis\": {\"tickfont\": {\"size\": 18}}, \"yaxis\": {\"dtick\": 5, \"range\": [-30, 30], \"tickfont\": {\"size\": 18}, \"title\": {\"text\": \"Relative score change (%)\", \"font\": {\"size\": 20}}}}, {\"modeBarButtonsToRemove\": [\"sendDataToCloud\"], \"displaylogo\": false, \"showLink\": false, \"linkText\": \"Export to plot.ly\", \"plotlyServerURL\": \"https://plot.ly\"}); \n",
       "}\n",
       "});</script>"
      ],
      "text/vnd.plotly.v1+html": [
       "<div id=\"2c050a68-88ed-4563-ac17-60bdba677858\" style=\"height: 768px; width: 1024px;\" class=\"plotly-graph-div\"></div><script type=\"text/javascript\">require([\"plotly\"], function(Plotly) { window.PLOTLYENV=window.PLOTLYENV || {};window.PLOTLYENV.BASE_URL=\"https://plot.ly\";\n",
       "if (document.getElementById(\"2c050a68-88ed-4563-ac17-60bdba677858\")) {\n",
       "    Plotly.newPlot(\"2c050a68-88ed-4563-ac17-60bdba677858\", [{\"marker\": {\"color\": \"rgba(255, 153, 51, 0.6)\", \"line\": {\"color\": \"rgba(255, 153, 51, 1.0)\", \"width\": 1}}, \"name\": \"AP\", \"orientation\": \"v\", \"text\": \"\", \"x\": [\"Day to Day-R50-Real\", \"Day to Day-R50-Fake\", \"Day/2 to Day-A50-Real\", \"Day/2 to Day-A50-Fake\"], \"y\": [-9.829570100780044, -3.2365521474661185, 0.8292676586095782, 8.201631000291492], \"type\": \"bar\", \"uid\": \"c4e65739-47d5-4cc1-8f39-f632d5611d4e\"}, {\"marker\": {\"color\": \"rgba(55, 128, 191, 0.6)\", \"line\": {\"color\": \"rgba(55, 128, 191, 1.0)\", \"width\": 1}}, \"name\": \"APs\", \"orientation\": \"v\", \"text\": \"\", \"x\": [\"Day to Day-R50-Real\", \"Day to Day-R50-Fake\", \"Day/2 to Day-A50-Real\", \"Day/2 to Day-A50-Fake\"], \"y\": [-17.013493751217702, -11.985458580422758, 4.6997200139507695, 11.0433281304842], \"type\": \"bar\", \"uid\": \"fc03d5a5-6128-4564-a27a-0537101eec88\"}, {\"marker\": {\"color\": \"rgba(50, 171, 96, 0.6)\", \"line\": {\"color\": \"rgba(50, 171, 96, 1.0)\", \"width\": 1}}, \"name\": \"APm\", \"orientation\": \"v\", \"text\": \"\", \"x\": [\"Day to Day-R50-Real\", \"Day to Day-R50-Fake\", \"Day/2 to Day-A50-Real\", \"Day/2 to Day-A50-Fake\"], \"y\": [-9.574986327179385, -0.03724907970047848, -1.646949409985006, 8.72701146559428], \"type\": \"bar\", \"uid\": \"d681cd72-0780-4ef3-a475-164c1a03c47b\"}, {\"marker\": {\"color\": \"rgba(128, 0, 128, 0.6)\", \"line\": {\"color\": \"rgba(128, 0, 128, 1.0)\", \"width\": 1}}, \"name\": \"APl\", \"orientation\": \"v\", \"text\": \"\", \"x\": [\"Day to Day-R50-Real\", \"Day to Day-R50-Fake\", \"Day/2 to Day-A50-Real\", \"Day/2 to Day-A50-Fake\"], \"y\": [-5.55816909423546, -4.169537866028789, 2.2831323036803637, 3.7870585858530195], \"type\": \"bar\", \"uid\": \"c7321da6-59a2-4da6-98f1-a7081057b835\"}, {\"marker\": {\"color\": \"rgba(219, 64, 82, 0.6)\", \"line\": {\"color\": \"rgba(219, 64, 82, 1.0)\", \"width\": 1}}, \"name\": \"AR\", \"orientation\": \"v\", \"text\": \"\", \"x\": [\"Day to Day-R50-Real\", \"Day to Day-R50-Fake\", \"Day/2 to Day-A50-Real\", \"Day/2 to Day-A50-Fake\"], \"y\": [-6.432054830631342, 0.8830894951891346, 1.4577676146920213, 9.389738459339721], \"type\": \"bar\", \"uid\": \"516f3d16-af55-4406-91f5-3541aca1942a\"}, {\"marker\": {\"color\": \"rgba(0, 128, 128, 0.6)\", \"line\": {\"color\": \"rgba(0, 128, 128, 1.0)\", \"width\": 1}}, \"name\": \"ARs\", \"orientation\": \"v\", \"text\": \"\", \"x\": [\"Day to Day-R50-Real\", \"Day to Day-R50-Fake\", \"Day/2 to Day-A50-Real\", \"Day/2 to Day-A50-Fake\"], \"y\": [-3.444881889763765, -0.9350393700787232, 9.731543624161091, 12.583892617449685], \"type\": \"bar\", \"uid\": \"c721fe30-ca50-4cf3-8e31-b73395d44d7e\"}, {\"marker\": {\"color\": \"rgba(255, 255, 51, 0.6)\", \"line\": {\"color\": \"rgba(255, 255, 51, 1.0)\", \"width\": 1}}, \"name\": \"ARm\", \"orientation\": \"v\", \"text\": \"\", \"x\": [\"Day to Day-R50-Real\", \"Day to Day-R50-Fake\", \"Day/2 to Day-A50-Real\", \"Day/2 to Day-A50-Fake\"], \"y\": [-8.172043010752722, 2.4516129032257994, -1.9742883379247143, 9.366391184573022], \"type\": \"bar\", \"uid\": \"f4469106-ab18-43ac-811a-061c80bdb360\"}, {\"marker\": {\"color\": \"rgba(128, 128, 0, 0.6)\", \"line\": {\"color\": \"rgba(128, 128, 0, 1.0)\", \"width\": 1}}, \"name\": \"ARl\", \"orientation\": \"v\", \"text\": \"\", \"x\": [\"Day to Day-R50-Real\", \"Day to Day-R50-Fake\", \"Day/2 to Day-A50-Real\", \"Day/2 to Day-A50-Fake\"], \"y\": [-4.615384615384588, -3.4065934065933825, 1.1655011655011764, 2.447552447552455], \"type\": \"bar\", \"uid\": \"12341070-7ce5-4cb5-ad68-5fa2c7737c6f\"}], {\"height\": 768, \"legend\": {\"font\": {\"size\": 18}, \"orientation\": \"h\", \"x\": 0.13, \"y\": -0.07}, \"title\": {\"text\": \"Impact of GAN-based augmentation: person (test set)\", \"font\": {\"size\": 28}}, \"width\": 1024, \"xaxis\": {\"tickfont\": {\"size\": 18}}, \"yaxis\": {\"dtick\": 5, \"range\": [-30, 30], \"tickfont\": {\"size\": 18}, \"title\": {\"text\": \"Relative score change (%)\", \"font\": {\"size\": 20}}}}, {\"modeBarButtonsToRemove\": [\"sendDataToCloud\"], \"displaylogo\": false, \"showLink\": false, \"linkText\": \"Export to plot.ly\", \"plotlyServerURL\": \"https://plot.ly\"}); \n",
       "}\n",
       "});</script>"
      ]
     },
     "metadata": {},
     "output_type": "display_data"
    }
   ],
   "source": [
    "layout = {\n",
    "    \"title\": plot_title,\n",
    "    \"titlefont\": {\n",
    "        \"size\": 28\n",
    "    },    \n",
    "    \"xaxis\": {\n",
    "        \"tickfont\": {\n",
    "            \"size\": 18\n",
    "        }\n",
    "    },    \n",
    "    \"yaxis\": {\n",
    "        \"title\": \"Relative score change (%)\",\n",
    "        \"range\": [-30, 30],\n",
    "        \"dtick\": 5,\n",
    "        \"titlefont\": {\n",
    "            \"size\": 20\n",
    "        },\n",
    "        \"tickfont\": {\n",
    "            \"size\": 18\n",
    "        }\n",
    "    },\n",
    "    \"width\": 1024,\n",
    "    \"height\": 768,\n",
    "    \"legend\": {\n",
    "        \"x\": 0.13,\n",
    "        \"y\": -0.07,\n",
    "        \"orientation\": \"h\",\n",
    "        \"font\": {\n",
    "            \"size\": 18,\n",
    "        },        \n",
    "    }\n",
    "}\n",
    "\n",
    "fig = df_combined_rel.iplot(kind = \"bar\", y = [\"AP\", \"APs\", \"APm\", \"APl\", \"AR\", \"ARs\", \"ARm\", \"ARl\"], layout = layout, asFigure = True)\n",
    "py.offline.iplot(fig, show_link = False, config = config)"
   ]
  },
  {
   "cell_type": "code",
   "execution_count": null,
   "metadata": {},
   "outputs": [],
   "source": []
  }
 ],
 "metadata": {
  "kernelspec": {
   "display_name": "Python 3",
   "language": "python",
   "name": "python3"
  },
  "language_info": {
   "codemirror_mode": {
    "name": "ipython",
    "version": 3
   },
   "file_extension": ".py",
   "mimetype": "text/x-python",
   "name": "python",
   "nbconvert_exporter": "python",
   "pygments_lexer": "ipython3",
   "version": "3.6.7"
  }
 },
 "nbformat": 4,
 "nbformat_minor": 2
}

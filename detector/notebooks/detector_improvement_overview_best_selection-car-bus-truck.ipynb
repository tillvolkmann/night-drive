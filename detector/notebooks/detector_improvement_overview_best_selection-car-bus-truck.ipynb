{
 "cells": [
  {
   "cell_type": "code",
   "execution_count": 1,
   "metadata": {},
   "outputs": [],
   "source": [
    "import glob\n",
    "import numpy as np\n",
    "import pandas as pd\n",
    "import plotly as py\n",
    "import cufflinks as cf\n",
    "%matplotlib inline"
   ]
  },
  {
   "cell_type": "code",
   "execution_count": 2,
   "metadata": {},
   "outputs": [],
   "source": [
    "train_A_over_logs = \"../eval/20190329_RetinaNet_train_A_over_class_eval/3-6-8\"\n",
    "train_B_over_logs = \"../eval/20190329_RetinaNet_train_B_over_class_eval/3-6-8\"\n",
    "train_C_over_logs = \"../eval/20190329_RetinaNet_train_C_over_class_eval/3-6-8\"\n",
    "train_A_over_ganaug_025_logs = \"../eval/20190329_RetinaNet_train_A_over_ganaug_025_class_eval/3-6-8\"\n",
    "train_A_over_ganaug_050_logs = \"../eval/20190329_RetinaNet_train_A_over_ganaug_050_class_eval/3-6-8\"\n",
    "pattern = \"/**/*test_night*.txt\"\n",
    "\n",
    "num_last_iteration = 240000\n",
    "\n",
    "train_A_over_iteration = 105000 # None = best\n",
    "train_B_over_iteration = 97500 # None = best\n",
    "train_C_over_iteration = 65000 # None = best\n",
    "train_A_over_ganaug_025_iteration = 42500 # None = best\n",
    "train_A_over_ganaug_050_iteration = 102500 # None = best"
   ]
  },
  {
   "cell_type": "code",
   "execution_count": 3,
   "metadata": {},
   "outputs": [],
   "source": [
    "train_A_over_logs = glob.glob(train_A_over_logs + pattern, recursive = True)\n",
    "train_B_over_logs = glob.glob(train_B_over_logs + pattern, recursive = True)\n",
    "train_C_over_logs = glob.glob(train_C_over_logs + pattern, recursive = True)\n",
    "\n",
    "train_A_over_ganaug_025_logs = glob.glob(train_A_over_ganaug_025_logs + pattern, recursive = True)\n",
    "train_A_over_ganaug_050_logs = glob.glob(train_A_over_ganaug_050_logs + pattern, recursive = True)"
   ]
  },
  {
   "cell_type": "code",
   "execution_count": 4,
   "metadata": {},
   "outputs": [],
   "source": [
    "def logs2df(logs, num_last_iteration, iteration = None):\n",
    "    df_iterations = pd.DataFrame()\n",
    "    last_iteration = -1\n",
    "    for log in logs:\n",
    "        df = pd.read_csv(log)\n",
    "        df = df.drop(columns = [\"Unnamed: 12\"])\n",
    "        df[\"Iteration\"] = last_iteration if log.split(\"_model_\")[-1].split(\"_\")[0] == \"final\" else int(log.split(\"_model_\")[-1].split(\"_\")[0])\n",
    "        df_iterations = pd.concat([df_iterations, df], axis = 0)\n",
    "        df_iterations = df_iterations.reset_index(drop = True)\n",
    "        last_iteration = df[\"Iteration\"]\n",
    "    df_iterations = df_iterations.sort_values(by = ['Iteration']).reset_index(drop = True)\n",
    "    if iteration is not None:\n",
    "        df_iterations = df_iterations.loc[df_iterations.Iteration == iteration].drop_duplicates([\"Iteration\"], keep = \"last\").reset_index(drop = True)\n",
    "    df_iterations = df_iterations.set_index(\"Iteration\")\n",
    "    return df_iterations"
   ]
  },
  {
   "cell_type": "markdown",
   "metadata": {},
   "source": [
    "## Last (or other specified) iterations ##"
   ]
  },
  {
   "cell_type": "markdown",
   "metadata": {},
   "source": [
    "### --> All metrics are evaluated on the selected iteration <-- ###"
   ]
  },
  {
   "cell_type": "markdown",
   "metadata": {},
   "source": [
    "### train_A_over ###"
   ]
  },
  {
   "cell_type": "code",
   "execution_count": 5,
   "metadata": {},
   "outputs": [
    {
     "data": {
      "text/html": [
       "<div>\n",
       "<style scoped>\n",
       "    .dataframe tbody tr th:only-of-type {\n",
       "        vertical-align: middle;\n",
       "    }\n",
       "\n",
       "    .dataframe tbody tr th {\n",
       "        vertical-align: top;\n",
       "    }\n",
       "\n",
       "    .dataframe thead th {\n",
       "        text-align: right;\n",
       "    }\n",
       "</style>\n",
       "<table border=\"1\" class=\"dataframe\">\n",
       "  <thead>\n",
       "    <tr style=\"text-align: right;\">\n",
       "      <th></th>\n",
       "      <th>AP</th>\n",
       "      <th>AP50</th>\n",
       "      <th>AP75</th>\n",
       "      <th>APs</th>\n",
       "      <th>APm</th>\n",
       "      <th>APl</th>\n",
       "      <th>AR@1</th>\n",
       "      <th>AR@10</th>\n",
       "      <th>AR</th>\n",
       "      <th>ARs</th>\n",
       "      <th>ARm</th>\n",
       "      <th>ARl</th>\n",
       "    </tr>\n",
       "    <tr>\n",
       "      <th>Iteration</th>\n",
       "      <th></th>\n",
       "      <th></th>\n",
       "      <th></th>\n",
       "      <th></th>\n",
       "      <th></th>\n",
       "      <th></th>\n",
       "      <th></th>\n",
       "      <th></th>\n",
       "      <th></th>\n",
       "      <th></th>\n",
       "      <th></th>\n",
       "      <th></th>\n",
       "    </tr>\n",
       "  </thead>\n",
       "  <tbody>\n",
       "    <tr>\n",
       "      <th>105000</th>\n",
       "      <td>0.282109</td>\n",
       "      <td>0.476832</td>\n",
       "      <td>0.289384</td>\n",
       "      <td>0.042238</td>\n",
       "      <td>0.207393</td>\n",
       "      <td>0.516871</td>\n",
       "      <td>0.25494</td>\n",
       "      <td>0.40383</td>\n",
       "      <td>0.422434</td>\n",
       "      <td>0.135717</td>\n",
       "      <td>0.346948</td>\n",
       "      <td>0.649845</td>\n",
       "    </tr>\n",
       "  </tbody>\n",
       "</table>\n",
       "</div>"
      ],
      "text/plain": [
       "                 AP      AP50      AP75       APs       APm       APl  \\\n",
       "Iteration                                                               \n",
       "105000     0.282109  0.476832  0.289384  0.042238  0.207393  0.516871   \n",
       "\n",
       "              AR@1    AR@10        AR       ARs       ARm       ARl  \n",
       "Iteration                                                            \n",
       "105000     0.25494  0.40383  0.422434  0.135717  0.346948  0.649845  "
      ]
     },
     "execution_count": 5,
     "metadata": {},
     "output_type": "execute_result"
    }
   ],
   "source": [
    "df_train_A_over = logs2df(train_A_over_logs, num_last_iteration, train_A_over_iteration)\n",
    "df_train_A_over.head(1)"
   ]
  },
  {
   "cell_type": "code",
   "execution_count": 6,
   "metadata": {},
   "outputs": [
    {
     "data": {
      "text/html": [
       "<div>\n",
       "<style scoped>\n",
       "    .dataframe tbody tr th:only-of-type {\n",
       "        vertical-align: middle;\n",
       "    }\n",
       "\n",
       "    .dataframe tbody tr th {\n",
       "        vertical-align: top;\n",
       "    }\n",
       "\n",
       "    .dataframe thead th {\n",
       "        text-align: right;\n",
       "    }\n",
       "</style>\n",
       "<table border=\"1\" class=\"dataframe\">\n",
       "  <thead>\n",
       "    <tr style=\"text-align: right;\">\n",
       "      <th></th>\n",
       "      <th>AP</th>\n",
       "      <th>AP50</th>\n",
       "      <th>AP75</th>\n",
       "      <th>APs</th>\n",
       "      <th>APm</th>\n",
       "      <th>APl</th>\n",
       "      <th>AR@1</th>\n",
       "      <th>AR@10</th>\n",
       "      <th>AR</th>\n",
       "      <th>ARs</th>\n",
       "      <th>ARm</th>\n",
       "      <th>ARl</th>\n",
       "    </tr>\n",
       "  </thead>\n",
       "  <tbody>\n",
       "    <tr>\n",
       "      <th>0</th>\n",
       "      <td>105000</td>\n",
       "      <td>105000</td>\n",
       "      <td>105000</td>\n",
       "      <td>105000</td>\n",
       "      <td>105000</td>\n",
       "      <td>105000</td>\n",
       "      <td>105000</td>\n",
       "      <td>105000</td>\n",
       "      <td>105000</td>\n",
       "      <td>105000</td>\n",
       "      <td>105000</td>\n",
       "      <td>105000</td>\n",
       "    </tr>\n",
       "  </tbody>\n",
       "</table>\n",
       "</div>"
      ],
      "text/plain": [
       "       AP    AP50    AP75     APs     APm     APl    AR@1   AR@10      AR  \\\n",
       "0  105000  105000  105000  105000  105000  105000  105000  105000  105000   \n",
       "\n",
       "      ARs     ARm     ARl  \n",
       "0  105000  105000  105000  "
      ]
     },
     "execution_count": 6,
     "metadata": {},
     "output_type": "execute_result"
    }
   ],
   "source": [
    "df_train_A_over_best_iter_per_metric = df_train_A_over.idxmax().to_frame().T\n",
    "df_train_A_over_best_iter_per_metric.head(1)"
   ]
  },
  {
   "cell_type": "code",
   "execution_count": 7,
   "metadata": {},
   "outputs": [
    {
     "data": {
      "text/html": [
       "<div>\n",
       "<style scoped>\n",
       "    .dataframe tbody tr th:only-of-type {\n",
       "        vertical-align: middle;\n",
       "    }\n",
       "\n",
       "    .dataframe tbody tr th {\n",
       "        vertical-align: top;\n",
       "    }\n",
       "\n",
       "    .dataframe thead th {\n",
       "        text-align: right;\n",
       "    }\n",
       "</style>\n",
       "<table border=\"1\" class=\"dataframe\">\n",
       "  <thead>\n",
       "    <tr style=\"text-align: right;\">\n",
       "      <th></th>\n",
       "      <th>AP</th>\n",
       "      <th>AP50</th>\n",
       "      <th>AP75</th>\n",
       "      <th>APs</th>\n",
       "      <th>APm</th>\n",
       "      <th>APl</th>\n",
       "      <th>AR@1</th>\n",
       "      <th>AR@10</th>\n",
       "      <th>AR</th>\n",
       "      <th>ARs</th>\n",
       "      <th>ARm</th>\n",
       "      <th>ARl</th>\n",
       "    </tr>\n",
       "  </thead>\n",
       "  <tbody>\n",
       "    <tr>\n",
       "      <th>0</th>\n",
       "      <td>0.282109</td>\n",
       "      <td>0.476832</td>\n",
       "      <td>0.289384</td>\n",
       "      <td>0.042238</td>\n",
       "      <td>0.207393</td>\n",
       "      <td>0.516871</td>\n",
       "      <td>0.25494</td>\n",
       "      <td>0.40383</td>\n",
       "      <td>0.422434</td>\n",
       "      <td>0.135717</td>\n",
       "      <td>0.346948</td>\n",
       "      <td>0.649845</td>\n",
       "    </tr>\n",
       "  </tbody>\n",
       "</table>\n",
       "</div>"
      ],
      "text/plain": [
       "         AP      AP50      AP75       APs       APm       APl     AR@1  \\\n",
       "0  0.282109  0.476832  0.289384  0.042238  0.207393  0.516871  0.25494   \n",
       "\n",
       "     AR@10        AR       ARs       ARm       ARl  \n",
       "0  0.40383  0.422434  0.135717  0.346948  0.649845  "
      ]
     },
     "execution_count": 7,
     "metadata": {},
     "output_type": "execute_result"
    }
   ],
   "source": [
    "df_train_A_over_best_val_per_metric = df_train_A_over.max().to_frame().T\n",
    "df_train_A_over_best_val_per_metric.head(1)"
   ]
  },
  {
   "cell_type": "markdown",
   "metadata": {},
   "source": [
    "### train_B_over ###"
   ]
  },
  {
   "cell_type": "code",
   "execution_count": 8,
   "metadata": {},
   "outputs": [
    {
     "data": {
      "text/html": [
       "<div>\n",
       "<style scoped>\n",
       "    .dataframe tbody tr th:only-of-type {\n",
       "        vertical-align: middle;\n",
       "    }\n",
       "\n",
       "    .dataframe tbody tr th {\n",
       "        vertical-align: top;\n",
       "    }\n",
       "\n",
       "    .dataframe thead th {\n",
       "        text-align: right;\n",
       "    }\n",
       "</style>\n",
       "<table border=\"1\" class=\"dataframe\">\n",
       "  <thead>\n",
       "    <tr style=\"text-align: right;\">\n",
       "      <th></th>\n",
       "      <th>AP</th>\n",
       "      <th>AP50</th>\n",
       "      <th>AP75</th>\n",
       "      <th>APs</th>\n",
       "      <th>APm</th>\n",
       "      <th>APl</th>\n",
       "      <th>AR@1</th>\n",
       "      <th>AR@10</th>\n",
       "      <th>AR</th>\n",
       "      <th>ARs</th>\n",
       "      <th>ARm</th>\n",
       "      <th>ARl</th>\n",
       "    </tr>\n",
       "    <tr>\n",
       "      <th>Iteration</th>\n",
       "      <th></th>\n",
       "      <th></th>\n",
       "      <th></th>\n",
       "      <th></th>\n",
       "      <th></th>\n",
       "      <th></th>\n",
       "      <th></th>\n",
       "      <th></th>\n",
       "      <th></th>\n",
       "      <th></th>\n",
       "      <th></th>\n",
       "      <th></th>\n",
       "    </tr>\n",
       "  </thead>\n",
       "  <tbody>\n",
       "    <tr>\n",
       "      <th>97500</th>\n",
       "      <td>0.305368</td>\n",
       "      <td>0.518071</td>\n",
       "      <td>0.309602</td>\n",
       "      <td>0.077852</td>\n",
       "      <td>0.255126</td>\n",
       "      <td>0.532503</td>\n",
       "      <td>0.283193</td>\n",
       "      <td>0.453616</td>\n",
       "      <td>0.476551</td>\n",
       "      <td>0.180206</td>\n",
       "      <td>0.430233</td>\n",
       "      <td>0.683149</td>\n",
       "    </tr>\n",
       "  </tbody>\n",
       "</table>\n",
       "</div>"
      ],
      "text/plain": [
       "                 AP      AP50      AP75       APs       APm       APl  \\\n",
       "Iteration                                                               \n",
       "97500      0.305368  0.518071  0.309602  0.077852  0.255126  0.532503   \n",
       "\n",
       "               AR@1     AR@10        AR       ARs       ARm       ARl  \n",
       "Iteration                                                              \n",
       "97500      0.283193  0.453616  0.476551  0.180206  0.430233  0.683149  "
      ]
     },
     "execution_count": 8,
     "metadata": {},
     "output_type": "execute_result"
    }
   ],
   "source": [
    "df_train_B_over = logs2df(train_B_over_logs, num_last_iteration, train_B_over_iteration)\n",
    "df_train_B_over.head(1)"
   ]
  },
  {
   "cell_type": "code",
   "execution_count": 9,
   "metadata": {},
   "outputs": [
    {
     "data": {
      "text/html": [
       "<div>\n",
       "<style scoped>\n",
       "    .dataframe tbody tr th:only-of-type {\n",
       "        vertical-align: middle;\n",
       "    }\n",
       "\n",
       "    .dataframe tbody tr th {\n",
       "        vertical-align: top;\n",
       "    }\n",
       "\n",
       "    .dataframe thead th {\n",
       "        text-align: right;\n",
       "    }\n",
       "</style>\n",
       "<table border=\"1\" class=\"dataframe\">\n",
       "  <thead>\n",
       "    <tr style=\"text-align: right;\">\n",
       "      <th></th>\n",
       "      <th>AP</th>\n",
       "      <th>AP50</th>\n",
       "      <th>AP75</th>\n",
       "      <th>APs</th>\n",
       "      <th>APm</th>\n",
       "      <th>APl</th>\n",
       "      <th>AR@1</th>\n",
       "      <th>AR@10</th>\n",
       "      <th>AR</th>\n",
       "      <th>ARs</th>\n",
       "      <th>ARm</th>\n",
       "      <th>ARl</th>\n",
       "    </tr>\n",
       "  </thead>\n",
       "  <tbody>\n",
       "    <tr>\n",
       "      <th>0</th>\n",
       "      <td>97500</td>\n",
       "      <td>97500</td>\n",
       "      <td>97500</td>\n",
       "      <td>97500</td>\n",
       "      <td>97500</td>\n",
       "      <td>97500</td>\n",
       "      <td>97500</td>\n",
       "      <td>97500</td>\n",
       "      <td>97500</td>\n",
       "      <td>97500</td>\n",
       "      <td>97500</td>\n",
       "      <td>97500</td>\n",
       "    </tr>\n",
       "  </tbody>\n",
       "</table>\n",
       "</div>"
      ],
      "text/plain": [
       "      AP   AP50   AP75    APs    APm    APl   AR@1  AR@10     AR    ARs  \\\n",
       "0  97500  97500  97500  97500  97500  97500  97500  97500  97500  97500   \n",
       "\n",
       "     ARm    ARl  \n",
       "0  97500  97500  "
      ]
     },
     "execution_count": 9,
     "metadata": {},
     "output_type": "execute_result"
    }
   ],
   "source": [
    "df_train_B_over_best_iter_per_metric = df_train_B_over.idxmax().to_frame().T\n",
    "df_train_B_over_best_iter_per_metric.head(1)"
   ]
  },
  {
   "cell_type": "code",
   "execution_count": 10,
   "metadata": {},
   "outputs": [
    {
     "data": {
      "text/html": [
       "<div>\n",
       "<style scoped>\n",
       "    .dataframe tbody tr th:only-of-type {\n",
       "        vertical-align: middle;\n",
       "    }\n",
       "\n",
       "    .dataframe tbody tr th {\n",
       "        vertical-align: top;\n",
       "    }\n",
       "\n",
       "    .dataframe thead th {\n",
       "        text-align: right;\n",
       "    }\n",
       "</style>\n",
       "<table border=\"1\" class=\"dataframe\">\n",
       "  <thead>\n",
       "    <tr style=\"text-align: right;\">\n",
       "      <th></th>\n",
       "      <th>AP</th>\n",
       "      <th>AP50</th>\n",
       "      <th>AP75</th>\n",
       "      <th>APs</th>\n",
       "      <th>APm</th>\n",
       "      <th>APl</th>\n",
       "      <th>AR@1</th>\n",
       "      <th>AR@10</th>\n",
       "      <th>AR</th>\n",
       "      <th>ARs</th>\n",
       "      <th>ARm</th>\n",
       "      <th>ARl</th>\n",
       "    </tr>\n",
       "  </thead>\n",
       "  <tbody>\n",
       "    <tr>\n",
       "      <th>0</th>\n",
       "      <td>0.305368</td>\n",
       "      <td>0.518071</td>\n",
       "      <td>0.309602</td>\n",
       "      <td>0.077852</td>\n",
       "      <td>0.255126</td>\n",
       "      <td>0.532503</td>\n",
       "      <td>0.283193</td>\n",
       "      <td>0.453616</td>\n",
       "      <td>0.476551</td>\n",
       "      <td>0.180206</td>\n",
       "      <td>0.430233</td>\n",
       "      <td>0.683149</td>\n",
       "    </tr>\n",
       "  </tbody>\n",
       "</table>\n",
       "</div>"
      ],
      "text/plain": [
       "         AP      AP50      AP75       APs       APm       APl      AR@1  \\\n",
       "0  0.305368  0.518071  0.309602  0.077852  0.255126  0.532503  0.283193   \n",
       "\n",
       "      AR@10        AR       ARs       ARm       ARl  \n",
       "0  0.453616  0.476551  0.180206  0.430233  0.683149  "
      ]
     },
     "execution_count": 10,
     "metadata": {},
     "output_type": "execute_result"
    }
   ],
   "source": [
    "df_train_B_over_best_val_per_metric = df_train_B_over.max().to_frame().T\n",
    "df_train_B_over_best_val_per_metric.head(1)"
   ]
  },
  {
   "cell_type": "markdown",
   "metadata": {},
   "source": [
    "### train_C_over ###"
   ]
  },
  {
   "cell_type": "code",
   "execution_count": 11,
   "metadata": {},
   "outputs": [
    {
     "data": {
      "text/html": [
       "<div>\n",
       "<style scoped>\n",
       "    .dataframe tbody tr th:only-of-type {\n",
       "        vertical-align: middle;\n",
       "    }\n",
       "\n",
       "    .dataframe tbody tr th {\n",
       "        vertical-align: top;\n",
       "    }\n",
       "\n",
       "    .dataframe thead th {\n",
       "        text-align: right;\n",
       "    }\n",
       "</style>\n",
       "<table border=\"1\" class=\"dataframe\">\n",
       "  <thead>\n",
       "    <tr style=\"text-align: right;\">\n",
       "      <th></th>\n",
       "      <th>AP</th>\n",
       "      <th>AP50</th>\n",
       "      <th>AP75</th>\n",
       "      <th>APs</th>\n",
       "      <th>APm</th>\n",
       "      <th>APl</th>\n",
       "      <th>AR@1</th>\n",
       "      <th>AR@10</th>\n",
       "      <th>AR</th>\n",
       "      <th>ARs</th>\n",
       "      <th>ARm</th>\n",
       "      <th>ARl</th>\n",
       "    </tr>\n",
       "    <tr>\n",
       "      <th>Iteration</th>\n",
       "      <th></th>\n",
       "      <th></th>\n",
       "      <th></th>\n",
       "      <th></th>\n",
       "      <th></th>\n",
       "      <th></th>\n",
       "      <th></th>\n",
       "      <th></th>\n",
       "      <th></th>\n",
       "      <th></th>\n",
       "      <th></th>\n",
       "      <th></th>\n",
       "    </tr>\n",
       "  </thead>\n",
       "  <tbody>\n",
       "    <tr>\n",
       "      <th>65000</th>\n",
       "      <td>0.32335</td>\n",
       "      <td>0.530384</td>\n",
       "      <td>0.349278</td>\n",
       "      <td>0.073367</td>\n",
       "      <td>0.259838</td>\n",
       "      <td>0.561326</td>\n",
       "      <td>0.280336</td>\n",
       "      <td>0.44369</td>\n",
       "      <td>0.463225</td>\n",
       "      <td>0.154703</td>\n",
       "      <td>0.396633</td>\n",
       "      <td>0.69042</td>\n",
       "    </tr>\n",
       "  </tbody>\n",
       "</table>\n",
       "</div>"
      ],
      "text/plain": [
       "                AP      AP50      AP75       APs       APm       APl  \\\n",
       "Iteration                                                              \n",
       "65000      0.32335  0.530384  0.349278  0.073367  0.259838  0.561326   \n",
       "\n",
       "               AR@1    AR@10        AR       ARs       ARm      ARl  \n",
       "Iteration                                                            \n",
       "65000      0.280336  0.44369  0.463225  0.154703  0.396633  0.69042  "
      ]
     },
     "execution_count": 11,
     "metadata": {},
     "output_type": "execute_result"
    }
   ],
   "source": [
    "df_train_C_over = logs2df(train_C_over_logs, num_last_iteration, train_C_over_iteration)\n",
    "df_train_C_over.head(1)"
   ]
  },
  {
   "cell_type": "code",
   "execution_count": 12,
   "metadata": {},
   "outputs": [
    {
     "data": {
      "text/html": [
       "<div>\n",
       "<style scoped>\n",
       "    .dataframe tbody tr th:only-of-type {\n",
       "        vertical-align: middle;\n",
       "    }\n",
       "\n",
       "    .dataframe tbody tr th {\n",
       "        vertical-align: top;\n",
       "    }\n",
       "\n",
       "    .dataframe thead th {\n",
       "        text-align: right;\n",
       "    }\n",
       "</style>\n",
       "<table border=\"1\" class=\"dataframe\">\n",
       "  <thead>\n",
       "    <tr style=\"text-align: right;\">\n",
       "      <th></th>\n",
       "      <th>AP</th>\n",
       "      <th>AP50</th>\n",
       "      <th>AP75</th>\n",
       "      <th>APs</th>\n",
       "      <th>APm</th>\n",
       "      <th>APl</th>\n",
       "      <th>AR@1</th>\n",
       "      <th>AR@10</th>\n",
       "      <th>AR</th>\n",
       "      <th>ARs</th>\n",
       "      <th>ARm</th>\n",
       "      <th>ARl</th>\n",
       "    </tr>\n",
       "  </thead>\n",
       "  <tbody>\n",
       "    <tr>\n",
       "      <th>0</th>\n",
       "      <td>65000</td>\n",
       "      <td>65000</td>\n",
       "      <td>65000</td>\n",
       "      <td>65000</td>\n",
       "      <td>65000</td>\n",
       "      <td>65000</td>\n",
       "      <td>65000</td>\n",
       "      <td>65000</td>\n",
       "      <td>65000</td>\n",
       "      <td>65000</td>\n",
       "      <td>65000</td>\n",
       "      <td>65000</td>\n",
       "    </tr>\n",
       "  </tbody>\n",
       "</table>\n",
       "</div>"
      ],
      "text/plain": [
       "      AP   AP50   AP75    APs    APm    APl   AR@1  AR@10     AR    ARs  \\\n",
       "0  65000  65000  65000  65000  65000  65000  65000  65000  65000  65000   \n",
       "\n",
       "     ARm    ARl  \n",
       "0  65000  65000  "
      ]
     },
     "execution_count": 12,
     "metadata": {},
     "output_type": "execute_result"
    }
   ],
   "source": [
    "df_train_C_over_best_iter_per_metric = df_train_C_over.idxmax().to_frame().T\n",
    "df_train_C_over_best_iter_per_metric.head(1)"
   ]
  },
  {
   "cell_type": "code",
   "execution_count": 13,
   "metadata": {},
   "outputs": [
    {
     "data": {
      "text/html": [
       "<div>\n",
       "<style scoped>\n",
       "    .dataframe tbody tr th:only-of-type {\n",
       "        vertical-align: middle;\n",
       "    }\n",
       "\n",
       "    .dataframe tbody tr th {\n",
       "        vertical-align: top;\n",
       "    }\n",
       "\n",
       "    .dataframe thead th {\n",
       "        text-align: right;\n",
       "    }\n",
       "</style>\n",
       "<table border=\"1\" class=\"dataframe\">\n",
       "  <thead>\n",
       "    <tr style=\"text-align: right;\">\n",
       "      <th></th>\n",
       "      <th>AP</th>\n",
       "      <th>AP50</th>\n",
       "      <th>AP75</th>\n",
       "      <th>APs</th>\n",
       "      <th>APm</th>\n",
       "      <th>APl</th>\n",
       "      <th>AR@1</th>\n",
       "      <th>AR@10</th>\n",
       "      <th>AR</th>\n",
       "      <th>ARs</th>\n",
       "      <th>ARm</th>\n",
       "      <th>ARl</th>\n",
       "    </tr>\n",
       "  </thead>\n",
       "  <tbody>\n",
       "    <tr>\n",
       "      <th>0</th>\n",
       "      <td>0.32335</td>\n",
       "      <td>0.530384</td>\n",
       "      <td>0.349278</td>\n",
       "      <td>0.073367</td>\n",
       "      <td>0.259838</td>\n",
       "      <td>0.561326</td>\n",
       "      <td>0.280336</td>\n",
       "      <td>0.44369</td>\n",
       "      <td>0.463225</td>\n",
       "      <td>0.154703</td>\n",
       "      <td>0.396633</td>\n",
       "      <td>0.69042</td>\n",
       "    </tr>\n",
       "  </tbody>\n",
       "</table>\n",
       "</div>"
      ],
      "text/plain": [
       "        AP      AP50      AP75       APs       APm       APl      AR@1  \\\n",
       "0  0.32335  0.530384  0.349278  0.073367  0.259838  0.561326  0.280336   \n",
       "\n",
       "     AR@10        AR       ARs       ARm      ARl  \n",
       "0  0.44369  0.463225  0.154703  0.396633  0.69042  "
      ]
     },
     "execution_count": 13,
     "metadata": {},
     "output_type": "execute_result"
    }
   ],
   "source": [
    "df_train_C_over_best_val_per_metric = df_train_C_over.max().to_frame().T\n",
    "df_train_C_over_best_val_per_metric.head(1)"
   ]
  },
  {
   "cell_type": "markdown",
   "metadata": {},
   "source": [
    "### train_A_over_ganaug_025 ###"
   ]
  },
  {
   "cell_type": "code",
   "execution_count": 14,
   "metadata": {},
   "outputs": [
    {
     "data": {
      "text/html": [
       "<div>\n",
       "<style scoped>\n",
       "    .dataframe tbody tr th:only-of-type {\n",
       "        vertical-align: middle;\n",
       "    }\n",
       "\n",
       "    .dataframe tbody tr th {\n",
       "        vertical-align: top;\n",
       "    }\n",
       "\n",
       "    .dataframe thead th {\n",
       "        text-align: right;\n",
       "    }\n",
       "</style>\n",
       "<table border=\"1\" class=\"dataframe\">\n",
       "  <thead>\n",
       "    <tr style=\"text-align: right;\">\n",
       "      <th></th>\n",
       "      <th>AP</th>\n",
       "      <th>AP50</th>\n",
       "      <th>AP75</th>\n",
       "      <th>APs</th>\n",
       "      <th>APm</th>\n",
       "      <th>APl</th>\n",
       "      <th>AR@1</th>\n",
       "      <th>AR@10</th>\n",
       "      <th>AR</th>\n",
       "      <th>ARs</th>\n",
       "      <th>ARm</th>\n",
       "      <th>ARl</th>\n",
       "    </tr>\n",
       "    <tr>\n",
       "      <th>Iteration</th>\n",
       "      <th></th>\n",
       "      <th></th>\n",
       "      <th></th>\n",
       "      <th></th>\n",
       "      <th></th>\n",
       "      <th></th>\n",
       "      <th></th>\n",
       "      <th></th>\n",
       "      <th></th>\n",
       "      <th></th>\n",
       "      <th></th>\n",
       "      <th></th>\n",
       "    </tr>\n",
       "  </thead>\n",
       "  <tbody>\n",
       "    <tr>\n",
       "      <th>42500</th>\n",
       "      <td>0.291084</td>\n",
       "      <td>0.482663</td>\n",
       "      <td>0.305781</td>\n",
       "      <td>0.054449</td>\n",
       "      <td>0.230077</td>\n",
       "      <td>0.502477</td>\n",
       "      <td>0.276976</td>\n",
       "      <td>0.456848</td>\n",
       "      <td>0.478706</td>\n",
       "      <td>0.195893</td>\n",
       "      <td>0.434131</td>\n",
       "      <td>0.680616</td>\n",
       "    </tr>\n",
       "  </tbody>\n",
       "</table>\n",
       "</div>"
      ],
      "text/plain": [
       "                 AP      AP50      AP75       APs       APm       APl  \\\n",
       "Iteration                                                               \n",
       "42500      0.291084  0.482663  0.305781  0.054449  0.230077  0.502477   \n",
       "\n",
       "               AR@1     AR@10        AR       ARs       ARm       ARl  \n",
       "Iteration                                                              \n",
       "42500      0.276976  0.456848  0.478706  0.195893  0.434131  0.680616  "
      ]
     },
     "execution_count": 14,
     "metadata": {},
     "output_type": "execute_result"
    }
   ],
   "source": [
    "df_train_A_over_ganaug_025 = logs2df(train_A_over_ganaug_025_logs, num_last_iteration, train_A_over_ganaug_025_iteration)\n",
    "df_train_A_over_ganaug_025.head(1)"
   ]
  },
  {
   "cell_type": "code",
   "execution_count": 15,
   "metadata": {},
   "outputs": [
    {
     "data": {
      "text/html": [
       "<div>\n",
       "<style scoped>\n",
       "    .dataframe tbody tr th:only-of-type {\n",
       "        vertical-align: middle;\n",
       "    }\n",
       "\n",
       "    .dataframe tbody tr th {\n",
       "        vertical-align: top;\n",
       "    }\n",
       "\n",
       "    .dataframe thead th {\n",
       "        text-align: right;\n",
       "    }\n",
       "</style>\n",
       "<table border=\"1\" class=\"dataframe\">\n",
       "  <thead>\n",
       "    <tr style=\"text-align: right;\">\n",
       "      <th></th>\n",
       "      <th>AP</th>\n",
       "      <th>AP50</th>\n",
       "      <th>AP75</th>\n",
       "      <th>APs</th>\n",
       "      <th>APm</th>\n",
       "      <th>APl</th>\n",
       "      <th>AR@1</th>\n",
       "      <th>AR@10</th>\n",
       "      <th>AR</th>\n",
       "      <th>ARs</th>\n",
       "      <th>ARm</th>\n",
       "      <th>ARl</th>\n",
       "    </tr>\n",
       "  </thead>\n",
       "  <tbody>\n",
       "    <tr>\n",
       "      <th>0</th>\n",
       "      <td>42500</td>\n",
       "      <td>42500</td>\n",
       "      <td>42500</td>\n",
       "      <td>42500</td>\n",
       "      <td>42500</td>\n",
       "      <td>42500</td>\n",
       "      <td>42500</td>\n",
       "      <td>42500</td>\n",
       "      <td>42500</td>\n",
       "      <td>42500</td>\n",
       "      <td>42500</td>\n",
       "      <td>42500</td>\n",
       "    </tr>\n",
       "  </tbody>\n",
       "</table>\n",
       "</div>"
      ],
      "text/plain": [
       "      AP   AP50   AP75    APs    APm    APl   AR@1  AR@10     AR    ARs  \\\n",
       "0  42500  42500  42500  42500  42500  42500  42500  42500  42500  42500   \n",
       "\n",
       "     ARm    ARl  \n",
       "0  42500  42500  "
      ]
     },
     "execution_count": 15,
     "metadata": {},
     "output_type": "execute_result"
    }
   ],
   "source": [
    "df_train_A_over_ganaug_025_best_iter_per_metric = df_train_A_over_ganaug_025.idxmax().to_frame().T\n",
    "df_train_A_over_ganaug_025_best_iter_per_metric.head(1)"
   ]
  },
  {
   "cell_type": "code",
   "execution_count": 16,
   "metadata": {},
   "outputs": [
    {
     "data": {
      "text/html": [
       "<div>\n",
       "<style scoped>\n",
       "    .dataframe tbody tr th:only-of-type {\n",
       "        vertical-align: middle;\n",
       "    }\n",
       "\n",
       "    .dataframe tbody tr th {\n",
       "        vertical-align: top;\n",
       "    }\n",
       "\n",
       "    .dataframe thead th {\n",
       "        text-align: right;\n",
       "    }\n",
       "</style>\n",
       "<table border=\"1\" class=\"dataframe\">\n",
       "  <thead>\n",
       "    <tr style=\"text-align: right;\">\n",
       "      <th></th>\n",
       "      <th>AP</th>\n",
       "      <th>AP50</th>\n",
       "      <th>AP75</th>\n",
       "      <th>APs</th>\n",
       "      <th>APm</th>\n",
       "      <th>APl</th>\n",
       "      <th>AR@1</th>\n",
       "      <th>AR@10</th>\n",
       "      <th>AR</th>\n",
       "      <th>ARs</th>\n",
       "      <th>ARm</th>\n",
       "      <th>ARl</th>\n",
       "    </tr>\n",
       "  </thead>\n",
       "  <tbody>\n",
       "    <tr>\n",
       "      <th>0</th>\n",
       "      <td>0.291084</td>\n",
       "      <td>0.482663</td>\n",
       "      <td>0.305781</td>\n",
       "      <td>0.054449</td>\n",
       "      <td>0.230077</td>\n",
       "      <td>0.502477</td>\n",
       "      <td>0.276976</td>\n",
       "      <td>0.456848</td>\n",
       "      <td>0.478706</td>\n",
       "      <td>0.195893</td>\n",
       "      <td>0.434131</td>\n",
       "      <td>0.680616</td>\n",
       "    </tr>\n",
       "  </tbody>\n",
       "</table>\n",
       "</div>"
      ],
      "text/plain": [
       "         AP      AP50      AP75       APs       APm       APl      AR@1  \\\n",
       "0  0.291084  0.482663  0.305781  0.054449  0.230077  0.502477  0.276976   \n",
       "\n",
       "      AR@10        AR       ARs       ARm       ARl  \n",
       "0  0.456848  0.478706  0.195893  0.434131  0.680616  "
      ]
     },
     "execution_count": 16,
     "metadata": {},
     "output_type": "execute_result"
    }
   ],
   "source": [
    "df_train_A_over_ganaug_025_best_val_per_metric = df_train_A_over_ganaug_025.max().to_frame().T\n",
    "df_train_A_over_ganaug_025_best_val_per_metric.head(1)"
   ]
  },
  {
   "cell_type": "markdown",
   "metadata": {},
   "source": [
    "### train_A_over_ganaug_050 ###"
   ]
  },
  {
   "cell_type": "code",
   "execution_count": 17,
   "metadata": {},
   "outputs": [
    {
     "data": {
      "text/html": [
       "<div>\n",
       "<style scoped>\n",
       "    .dataframe tbody tr th:only-of-type {\n",
       "        vertical-align: middle;\n",
       "    }\n",
       "\n",
       "    .dataframe tbody tr th {\n",
       "        vertical-align: top;\n",
       "    }\n",
       "\n",
       "    .dataframe thead th {\n",
       "        text-align: right;\n",
       "    }\n",
       "</style>\n",
       "<table border=\"1\" class=\"dataframe\">\n",
       "  <thead>\n",
       "    <tr style=\"text-align: right;\">\n",
       "      <th></th>\n",
       "      <th>AP</th>\n",
       "      <th>AP50</th>\n",
       "      <th>AP75</th>\n",
       "      <th>APs</th>\n",
       "      <th>APm</th>\n",
       "      <th>APl</th>\n",
       "      <th>AR@1</th>\n",
       "      <th>AR@10</th>\n",
       "      <th>AR</th>\n",
       "      <th>ARs</th>\n",
       "      <th>ARm</th>\n",
       "      <th>ARl</th>\n",
       "    </tr>\n",
       "    <tr>\n",
       "      <th>Iteration</th>\n",
       "      <th></th>\n",
       "      <th></th>\n",
       "      <th></th>\n",
       "      <th></th>\n",
       "      <th></th>\n",
       "      <th></th>\n",
       "      <th></th>\n",
       "      <th></th>\n",
       "      <th></th>\n",
       "      <th></th>\n",
       "      <th></th>\n",
       "      <th></th>\n",
       "    </tr>\n",
       "  </thead>\n",
       "  <tbody>\n",
       "    <tr>\n",
       "      <th>102500</th>\n",
       "      <td>0.291951</td>\n",
       "      <td>0.479618</td>\n",
       "      <td>0.300228</td>\n",
       "      <td>0.064869</td>\n",
       "      <td>0.219323</td>\n",
       "      <td>0.509326</td>\n",
       "      <td>0.263182</td>\n",
       "      <td>0.42681</td>\n",
       "      <td>0.446583</td>\n",
       "      <td>0.136713</td>\n",
       "      <td>0.38809</td>\n",
       "      <td>0.658945</td>\n",
       "    </tr>\n",
       "  </tbody>\n",
       "</table>\n",
       "</div>"
      ],
      "text/plain": [
       "                 AP      AP50      AP75       APs       APm       APl  \\\n",
       "Iteration                                                               \n",
       "102500     0.291951  0.479618  0.300228  0.064869  0.219323  0.509326   \n",
       "\n",
       "               AR@1    AR@10        AR       ARs      ARm       ARl  \n",
       "Iteration                                                            \n",
       "102500     0.263182  0.42681  0.446583  0.136713  0.38809  0.658945  "
      ]
     },
     "execution_count": 17,
     "metadata": {},
     "output_type": "execute_result"
    }
   ],
   "source": [
    "df_train_A_over_ganaug_050 = logs2df(train_A_over_ganaug_050_logs, num_last_iteration, train_A_over_ganaug_050_iteration)\n",
    "df_train_A_over_ganaug_050.head(1)"
   ]
  },
  {
   "cell_type": "code",
   "execution_count": 18,
   "metadata": {},
   "outputs": [
    {
     "data": {
      "text/html": [
       "<div>\n",
       "<style scoped>\n",
       "    .dataframe tbody tr th:only-of-type {\n",
       "        vertical-align: middle;\n",
       "    }\n",
       "\n",
       "    .dataframe tbody tr th {\n",
       "        vertical-align: top;\n",
       "    }\n",
       "\n",
       "    .dataframe thead th {\n",
       "        text-align: right;\n",
       "    }\n",
       "</style>\n",
       "<table border=\"1\" class=\"dataframe\">\n",
       "  <thead>\n",
       "    <tr style=\"text-align: right;\">\n",
       "      <th></th>\n",
       "      <th>AP</th>\n",
       "      <th>AP50</th>\n",
       "      <th>AP75</th>\n",
       "      <th>APs</th>\n",
       "      <th>APm</th>\n",
       "      <th>APl</th>\n",
       "      <th>AR@1</th>\n",
       "      <th>AR@10</th>\n",
       "      <th>AR</th>\n",
       "      <th>ARs</th>\n",
       "      <th>ARm</th>\n",
       "      <th>ARl</th>\n",
       "    </tr>\n",
       "  </thead>\n",
       "  <tbody>\n",
       "    <tr>\n",
       "      <th>0</th>\n",
       "      <td>102500</td>\n",
       "      <td>102500</td>\n",
       "      <td>102500</td>\n",
       "      <td>102500</td>\n",
       "      <td>102500</td>\n",
       "      <td>102500</td>\n",
       "      <td>102500</td>\n",
       "      <td>102500</td>\n",
       "      <td>102500</td>\n",
       "      <td>102500</td>\n",
       "      <td>102500</td>\n",
       "      <td>102500</td>\n",
       "    </tr>\n",
       "  </tbody>\n",
       "</table>\n",
       "</div>"
      ],
      "text/plain": [
       "       AP    AP50    AP75     APs     APm     APl    AR@1   AR@10      AR  \\\n",
       "0  102500  102500  102500  102500  102500  102500  102500  102500  102500   \n",
       "\n",
       "      ARs     ARm     ARl  \n",
       "0  102500  102500  102500  "
      ]
     },
     "execution_count": 18,
     "metadata": {},
     "output_type": "execute_result"
    }
   ],
   "source": [
    "df_train_A_over_ganaug_050_best_iter_per_metric = df_train_A_over_ganaug_050.idxmax().to_frame().T\n",
    "df_train_A_over_ganaug_050_best_iter_per_metric.head(1)"
   ]
  },
  {
   "cell_type": "code",
   "execution_count": 19,
   "metadata": {},
   "outputs": [
    {
     "data": {
      "text/html": [
       "<div>\n",
       "<style scoped>\n",
       "    .dataframe tbody tr th:only-of-type {\n",
       "        vertical-align: middle;\n",
       "    }\n",
       "\n",
       "    .dataframe tbody tr th {\n",
       "        vertical-align: top;\n",
       "    }\n",
       "\n",
       "    .dataframe thead th {\n",
       "        text-align: right;\n",
       "    }\n",
       "</style>\n",
       "<table border=\"1\" class=\"dataframe\">\n",
       "  <thead>\n",
       "    <tr style=\"text-align: right;\">\n",
       "      <th></th>\n",
       "      <th>AP</th>\n",
       "      <th>AP50</th>\n",
       "      <th>AP75</th>\n",
       "      <th>APs</th>\n",
       "      <th>APm</th>\n",
       "      <th>APl</th>\n",
       "      <th>AR@1</th>\n",
       "      <th>AR@10</th>\n",
       "      <th>AR</th>\n",
       "      <th>ARs</th>\n",
       "      <th>ARm</th>\n",
       "      <th>ARl</th>\n",
       "    </tr>\n",
       "  </thead>\n",
       "  <tbody>\n",
       "    <tr>\n",
       "      <th>0</th>\n",
       "      <td>0.291951</td>\n",
       "      <td>0.479618</td>\n",
       "      <td>0.300228</td>\n",
       "      <td>0.064869</td>\n",
       "      <td>0.219323</td>\n",
       "      <td>0.509326</td>\n",
       "      <td>0.263182</td>\n",
       "      <td>0.42681</td>\n",
       "      <td>0.446583</td>\n",
       "      <td>0.136713</td>\n",
       "      <td>0.38809</td>\n",
       "      <td>0.658945</td>\n",
       "    </tr>\n",
       "  </tbody>\n",
       "</table>\n",
       "</div>"
      ],
      "text/plain": [
       "         AP      AP50      AP75       APs       APm       APl      AR@1  \\\n",
       "0  0.291951  0.479618  0.300228  0.064869  0.219323  0.509326  0.263182   \n",
       "\n",
       "     AR@10        AR       ARs      ARm       ARl  \n",
       "0  0.42681  0.446583  0.136713  0.38809  0.658945  "
      ]
     },
     "execution_count": 19,
     "metadata": {},
     "output_type": "execute_result"
    }
   ],
   "source": [
    "df_train_A_over_ganaug_050_best_val_per_metric = df_train_A_over_ganaug_050.max().to_frame().T\n",
    "df_train_A_over_ganaug_050_best_val_per_metric.head(1)"
   ]
  },
  {
   "cell_type": "markdown",
   "metadata": {},
   "source": [
    "## Improvements ##"
   ]
  },
  {
   "cell_type": "markdown",
   "metadata": {},
   "source": [
    "### train_A_over --> train_B_over ###"
   ]
  },
  {
   "cell_type": "code",
   "execution_count": 20,
   "metadata": {},
   "outputs": [
    {
     "data": {
      "text/html": [
       "<div>\n",
       "<style scoped>\n",
       "    .dataframe tbody tr th:only-of-type {\n",
       "        vertical-align: middle;\n",
       "    }\n",
       "\n",
       "    .dataframe tbody tr th {\n",
       "        vertical-align: top;\n",
       "    }\n",
       "\n",
       "    .dataframe thead th {\n",
       "        text-align: right;\n",
       "    }\n",
       "</style>\n",
       "<table border=\"1\" class=\"dataframe\">\n",
       "  <thead>\n",
       "    <tr style=\"text-align: right;\">\n",
       "      <th></th>\n",
       "      <th>AP</th>\n",
       "      <th>AP50</th>\n",
       "      <th>AP75</th>\n",
       "      <th>APs</th>\n",
       "      <th>APm</th>\n",
       "      <th>APl</th>\n",
       "      <th>AR@1</th>\n",
       "      <th>AR@10</th>\n",
       "      <th>AR</th>\n",
       "      <th>ARs</th>\n",
       "      <th>ARm</th>\n",
       "      <th>ARl</th>\n",
       "      <th>Comparison</th>\n",
       "    </tr>\n",
       "  </thead>\n",
       "  <tbody>\n",
       "    <tr>\n",
       "      <th>0</th>\n",
       "      <td>0.023259</td>\n",
       "      <td>0.041239</td>\n",
       "      <td>0.020218</td>\n",
       "      <td>0.035614</td>\n",
       "      <td>0.047733</td>\n",
       "      <td>0.015632</td>\n",
       "      <td>0.028253</td>\n",
       "      <td>0.049786</td>\n",
       "      <td>0.054118</td>\n",
       "      <td>0.044489</td>\n",
       "      <td>0.083285</td>\n",
       "      <td>0.033304</td>\n",
       "      <td>A to B</td>\n",
       "    </tr>\n",
       "  </tbody>\n",
       "</table>\n",
       "</div>"
      ],
      "text/plain": [
       "         AP      AP50      AP75       APs       APm       APl      AR@1  \\\n",
       "0  0.023259  0.041239  0.020218  0.035614  0.047733  0.015632  0.028253   \n",
       "\n",
       "      AR@10        AR       ARs       ARm       ARl Comparison  \n",
       "0  0.049786  0.054118  0.044489  0.083285  0.033304     A to B  "
      ]
     },
     "execution_count": 20,
     "metadata": {},
     "output_type": "execute_result"
    }
   ],
   "source": [
    "df_train_A_over_TO_train_B_over = df_train_B_over_best_val_per_metric - df_train_A_over_best_val_per_metric\n",
    "df_train_A_over_TO_train_B_over[\"Comparison\"] = \"A to B\"\n",
    "df_train_A_over_TO_train_B_over.head(1)"
   ]
  },
  {
   "cell_type": "markdown",
   "metadata": {},
   "source": [
    "### train_A_over --> train_C_over ###"
   ]
  },
  {
   "cell_type": "code",
   "execution_count": 21,
   "metadata": {},
   "outputs": [
    {
     "data": {
      "text/html": [
       "<div>\n",
       "<style scoped>\n",
       "    .dataframe tbody tr th:only-of-type {\n",
       "        vertical-align: middle;\n",
       "    }\n",
       "\n",
       "    .dataframe tbody tr th {\n",
       "        vertical-align: top;\n",
       "    }\n",
       "\n",
       "    .dataframe thead th {\n",
       "        text-align: right;\n",
       "    }\n",
       "</style>\n",
       "<table border=\"1\" class=\"dataframe\">\n",
       "  <thead>\n",
       "    <tr style=\"text-align: right;\">\n",
       "      <th></th>\n",
       "      <th>AP</th>\n",
       "      <th>AP50</th>\n",
       "      <th>AP75</th>\n",
       "      <th>APs</th>\n",
       "      <th>APm</th>\n",
       "      <th>APl</th>\n",
       "      <th>AR@1</th>\n",
       "      <th>AR@10</th>\n",
       "      <th>AR</th>\n",
       "      <th>ARs</th>\n",
       "      <th>ARm</th>\n",
       "      <th>ARl</th>\n",
       "      <th>Comparison</th>\n",
       "    </tr>\n",
       "  </thead>\n",
       "  <tbody>\n",
       "    <tr>\n",
       "      <th>0</th>\n",
       "      <td>0.041241</td>\n",
       "      <td>0.053552</td>\n",
       "      <td>0.059894</td>\n",
       "      <td>0.031129</td>\n",
       "      <td>0.052445</td>\n",
       "      <td>0.044455</td>\n",
       "      <td>0.025395</td>\n",
       "      <td>0.03986</td>\n",
       "      <td>0.040792</td>\n",
       "      <td>0.018986</td>\n",
       "      <td>0.049685</td>\n",
       "      <td>0.040576</td>\n",
       "      <td>A to C</td>\n",
       "    </tr>\n",
       "  </tbody>\n",
       "</table>\n",
       "</div>"
      ],
      "text/plain": [
       "         AP      AP50      AP75       APs       APm       APl      AR@1  \\\n",
       "0  0.041241  0.053552  0.059894  0.031129  0.052445  0.044455  0.025395   \n",
       "\n",
       "     AR@10        AR       ARs       ARm       ARl Comparison  \n",
       "0  0.03986  0.040792  0.018986  0.049685  0.040576     A to C  "
      ]
     },
     "execution_count": 21,
     "metadata": {},
     "output_type": "execute_result"
    }
   ],
   "source": [
    "df_train_A_over_TO_train_C_over = df_train_C_over_best_val_per_metric - df_train_A_over_best_val_per_metric\n",
    "df_train_A_over_TO_train_C_over[\"Comparison\"] = \"A to C\"\n",
    "df_train_A_over_TO_train_C_over.head(1)"
   ]
  },
  {
   "cell_type": "markdown",
   "metadata": {},
   "source": [
    "### train_A_over --> train_A_over_ganaug_025 ###"
   ]
  },
  {
   "cell_type": "code",
   "execution_count": 22,
   "metadata": {},
   "outputs": [
    {
     "data": {
      "text/html": [
       "<div>\n",
       "<style scoped>\n",
       "    .dataframe tbody tr th:only-of-type {\n",
       "        vertical-align: middle;\n",
       "    }\n",
       "\n",
       "    .dataframe tbody tr th {\n",
       "        vertical-align: top;\n",
       "    }\n",
       "\n",
       "    .dataframe thead th {\n",
       "        text-align: right;\n",
       "    }\n",
       "</style>\n",
       "<table border=\"1\" class=\"dataframe\">\n",
       "  <thead>\n",
       "    <tr style=\"text-align: right;\">\n",
       "      <th></th>\n",
       "      <th>AP</th>\n",
       "      <th>AP50</th>\n",
       "      <th>AP75</th>\n",
       "      <th>APs</th>\n",
       "      <th>APm</th>\n",
       "      <th>APl</th>\n",
       "      <th>AR@1</th>\n",
       "      <th>AR@10</th>\n",
       "      <th>AR</th>\n",
       "      <th>ARs</th>\n",
       "      <th>ARm</th>\n",
       "      <th>ARl</th>\n",
       "      <th>Comparison</th>\n",
       "    </tr>\n",
       "  </thead>\n",
       "  <tbody>\n",
       "    <tr>\n",
       "      <th>0</th>\n",
       "      <td>0.008975</td>\n",
       "      <td>0.005831</td>\n",
       "      <td>0.016397</td>\n",
       "      <td>0.012211</td>\n",
       "      <td>0.022683</td>\n",
       "      <td>-0.014394</td>\n",
       "      <td>0.022036</td>\n",
       "      <td>0.053019</td>\n",
       "      <td>0.056273</td>\n",
       "      <td>0.060176</td>\n",
       "      <td>0.087183</td>\n",
       "      <td>0.030771</td>\n",
       "      <td>A to A25</td>\n",
       "    </tr>\n",
       "  </tbody>\n",
       "</table>\n",
       "</div>"
      ],
      "text/plain": [
       "         AP      AP50      AP75       APs       APm       APl      AR@1  \\\n",
       "0  0.008975  0.005831  0.016397  0.012211  0.022683 -0.014394  0.022036   \n",
       "\n",
       "      AR@10        AR       ARs       ARm       ARl Comparison  \n",
       "0  0.053019  0.056273  0.060176  0.087183  0.030771   A to A25  "
      ]
     },
     "execution_count": 22,
     "metadata": {},
     "output_type": "execute_result"
    }
   ],
   "source": [
    "df_train_A_over_TO_train_A_over_ganaug_025 = df_train_A_over_ganaug_025_best_val_per_metric - df_train_A_over_best_val_per_metric\n",
    "df_train_A_over_TO_train_A_over_ganaug_025[\"Comparison\"] = \"A to A25\"\n",
    "df_train_A_over_TO_train_A_over_ganaug_025.head(1)"
   ]
  },
  {
   "cell_type": "markdown",
   "metadata": {},
   "source": [
    "### train_A_over --> train_A_over_ganaug_050 ###"
   ]
  },
  {
   "cell_type": "code",
   "execution_count": 23,
   "metadata": {},
   "outputs": [
    {
     "data": {
      "text/html": [
       "<div>\n",
       "<style scoped>\n",
       "    .dataframe tbody tr th:only-of-type {\n",
       "        vertical-align: middle;\n",
       "    }\n",
       "\n",
       "    .dataframe tbody tr th {\n",
       "        vertical-align: top;\n",
       "    }\n",
       "\n",
       "    .dataframe thead th {\n",
       "        text-align: right;\n",
       "    }\n",
       "</style>\n",
       "<table border=\"1\" class=\"dataframe\">\n",
       "  <thead>\n",
       "    <tr style=\"text-align: right;\">\n",
       "      <th></th>\n",
       "      <th>AP</th>\n",
       "      <th>AP50</th>\n",
       "      <th>AP75</th>\n",
       "      <th>APs</th>\n",
       "      <th>APm</th>\n",
       "      <th>APl</th>\n",
       "      <th>AR@1</th>\n",
       "      <th>AR@10</th>\n",
       "      <th>AR</th>\n",
       "      <th>ARs</th>\n",
       "      <th>ARm</th>\n",
       "      <th>ARl</th>\n",
       "      <th>Comparison</th>\n",
       "    </tr>\n",
       "  </thead>\n",
       "  <tbody>\n",
       "    <tr>\n",
       "      <th>0</th>\n",
       "      <td>0.009842</td>\n",
       "      <td>0.002787</td>\n",
       "      <td>0.010844</td>\n",
       "      <td>0.022631</td>\n",
       "      <td>0.011929</td>\n",
       "      <td>-0.007546</td>\n",
       "      <td>0.008241</td>\n",
       "      <td>0.022981</td>\n",
       "      <td>0.02415</td>\n",
       "      <td>0.000996</td>\n",
       "      <td>0.041142</td>\n",
       "      <td>0.0091</td>\n",
       "      <td>A to A50</td>\n",
       "    </tr>\n",
       "  </tbody>\n",
       "</table>\n",
       "</div>"
      ],
      "text/plain": [
       "         AP      AP50      AP75       APs       APm       APl      AR@1  \\\n",
       "0  0.009842  0.002787  0.010844  0.022631  0.011929 -0.007546  0.008241   \n",
       "\n",
       "      AR@10       AR       ARs       ARm     ARl Comparison  \n",
       "0  0.022981  0.02415  0.000996  0.041142  0.0091   A to A50  "
      ]
     },
     "execution_count": 23,
     "metadata": {},
     "output_type": "execute_result"
    }
   ],
   "source": [
    "df_train_A_over_TO_train_A_over_ganaug_050 = df_train_A_over_ganaug_050_best_val_per_metric - df_train_A_over_best_val_per_metric\n",
    "df_train_A_over_TO_train_A_over_ganaug_050[\"Comparison\"] = \"A to A50\"\n",
    "df_train_A_over_TO_train_A_over_ganaug_050.head(1)"
   ]
  },
  {
   "cell_type": "markdown",
   "metadata": {},
   "source": [
    "## Combine ##"
   ]
  },
  {
   "cell_type": "code",
   "execution_count": 24,
   "metadata": {},
   "outputs": [],
   "source": [
    "df_combined = pd.concat([df_train_A_over_TO_train_B_over, df_train_A_over_TO_train_C_over, df_train_A_over_TO_train_A_over_ganaug_025, df_train_A_over_TO_train_A_over_ganaug_050], axis = 0)"
   ]
  },
  {
   "cell_type": "code",
   "execution_count": 25,
   "metadata": {},
   "outputs": [
    {
     "data": {
      "text/html": [
       "<div>\n",
       "<style scoped>\n",
       "    .dataframe tbody tr th:only-of-type {\n",
       "        vertical-align: middle;\n",
       "    }\n",
       "\n",
       "    .dataframe tbody tr th {\n",
       "        vertical-align: top;\n",
       "    }\n",
       "\n",
       "    .dataframe thead th {\n",
       "        text-align: right;\n",
       "    }\n",
       "</style>\n",
       "<table border=\"1\" class=\"dataframe\">\n",
       "  <thead>\n",
       "    <tr style=\"text-align: right;\">\n",
       "      <th></th>\n",
       "      <th>AP</th>\n",
       "      <th>AP50</th>\n",
       "      <th>AP75</th>\n",
       "      <th>APs</th>\n",
       "      <th>APm</th>\n",
       "      <th>APl</th>\n",
       "      <th>AR@1</th>\n",
       "      <th>AR@10</th>\n",
       "      <th>AR</th>\n",
       "      <th>ARs</th>\n",
       "      <th>ARm</th>\n",
       "      <th>ARl</th>\n",
       "    </tr>\n",
       "    <tr>\n",
       "      <th>Comparison</th>\n",
       "      <th></th>\n",
       "      <th></th>\n",
       "      <th></th>\n",
       "      <th></th>\n",
       "      <th></th>\n",
       "      <th></th>\n",
       "      <th></th>\n",
       "      <th></th>\n",
       "      <th></th>\n",
       "      <th></th>\n",
       "      <th></th>\n",
       "      <th></th>\n",
       "    </tr>\n",
       "  </thead>\n",
       "  <tbody>\n",
       "    <tr>\n",
       "      <th>A to B</th>\n",
       "      <td>0.023259</td>\n",
       "      <td>0.041239</td>\n",
       "      <td>0.020218</td>\n",
       "      <td>0.035614</td>\n",
       "      <td>0.047733</td>\n",
       "      <td>0.015632</td>\n",
       "      <td>0.028253</td>\n",
       "      <td>0.049786</td>\n",
       "      <td>0.054118</td>\n",
       "      <td>0.044489</td>\n",
       "      <td>0.083285</td>\n",
       "      <td>0.033304</td>\n",
       "    </tr>\n",
       "  </tbody>\n",
       "</table>\n",
       "</div>"
      ],
      "text/plain": [
       "                  AP      AP50      AP75       APs       APm       APl  \\\n",
       "Comparison                                                               \n",
       "A to B      0.023259  0.041239  0.020218  0.035614  0.047733  0.015632   \n",
       "\n",
       "                AR@1     AR@10        AR       ARs       ARm       ARl  \n",
       "Comparison                                                              \n",
       "A to B      0.028253  0.049786  0.054118  0.044489  0.083285  0.033304  "
      ]
     },
     "execution_count": 25,
     "metadata": {},
     "output_type": "execute_result"
    }
   ],
   "source": [
    "df_combined = df_combined.set_index(\"Comparison\")\n",
    "df_combined.head(1)"
   ]
  },
  {
   "cell_type": "code",
   "execution_count": 26,
   "metadata": {},
   "outputs": [
    {
     "data": {
      "text/plain": [
       "Text(0, 0.5, 'Absolute change in score')"
      ]
     },
     "execution_count": 26,
     "metadata": {},
     "output_type": "execute_result"
    },
    {
     "data": {
      "image/png": "[encoded data removed]",
      "text/plain": [
       "<Figure size 1152x648 with 1 Axes>"
      ]
     },
     "metadata": {
      "needs_background": "light"
     },
     "output_type": "display_data"
    }
   ],
   "source": [
    "ax = df_combined.plot(kind = \"bar\", figsize = (16, 9))\n",
    "ax.set_xlabel(\"\")\n",
    "ax.set_ylabel(\"Absolute change in score\")"
   ]
  },
  {
   "cell_type": "code",
   "execution_count": 27,
   "metadata": {},
   "outputs": [
    {
     "data": {
      "text/html": [
       "<script type=\"text/javascript\">window.PlotlyConfig = {MathJaxConfig: 'local'};</script><script type=\"text/javascript\">if (window.MathJax) {MathJax.Hub.Config({SVG: {font: \"STIX-Web\"}});}</script><script>requirejs.config({paths: { 'plotly': ['https://cdn.plot.ly/plotly-latest.min']},});if(!window._Plotly) {require(['plotly'],function(plotly) {window._Plotly=plotly;});}</script>"
      ],
      "text/vnd.plotly.v1+html": [
       "<script type=\"text/javascript\">window.PlotlyConfig = {MathJaxConfig: 'local'};</script><script type=\"text/javascript\">if (window.MathJax) {MathJax.Hub.Config({SVG: {font: \"STIX-Web\"}});}</script><script>requirejs.config({paths: { 'plotly': ['https://cdn.plot.ly/plotly-latest.min']},});if(!window._Plotly) {require(['plotly'],function(plotly) {window._Plotly=plotly;});}</script>"
      ]
     },
     "metadata": {},
     "output_type": "display_data"
    },
    {
     "data": {
      "application/vnd.plotly.v1+json": {
       "config": {
        "displaylogo": false,
        "linkText": "Export to plot.ly",
        "modeBarButtonsToRemove": [
         "sendDataToCloud"
        ],
        "plotlyServerURL": "https://plot.ly",
        "showLink": false
       },
       "data": [
        {
         "marker": {
          "color": "rgba(255, 153, 51, 0.6)",
          "line": {
           "color": "rgba(255, 153, 51, 1.0)",
           "width": 1
          }
         },
         "name": "AP",
         "orientation": "v",
         "text": "",
         "type": "bar",
         "uid": "2d1e151f-a647-4ab4-b2e0-e4743a2b6e87",
         "x": [
          "A to B",
          "A to C",
          "A to A25",
          "A to A50"
         ],
         "y": [
          0.02325904664081363,
          0.0412412144270049,
          0.008974880252627326,
          0.009841948911173681
         ]
        },
        {
         "marker": {
          "color": "rgba(55, 128, 191, 0.6)",
          "line": {
           "color": "rgba(55, 128, 191, 1.0)",
           "width": 1
          }
         },
         "name": "AP50",
         "orientation": "v",
         "text": "",
         "type": "bar",
         "uid": "4cf89522-b0f6-4a66-8da2-b9febd892a92",
         "x": [
          "A to B",
          "A to C",
          "A to A25",
          "A to A50"
         ],
         "y": [
          0.0412392308594699,
          0.05355185109393912,
          0.005831384376389692,
          0.0027867402142658926
         ]
        },
        {
         "marker": {
          "color": "rgba(50, 171, 96, 0.6)",
          "line": {
           "color": "rgba(50, 171, 96, 1.0)",
           "width": 1
          }
         },
         "name": "AP75",
         "orientation": "v",
         "text": "",
         "type": "bar",
         "uid": "5151579b-7487-4f9b-b416-c670806c0bfa",
         "x": [
          "A to B",
          "A to C",
          "A to A25",
          "A to A50"
         ],
         "y": [
          0.020217928318690126,
          0.05989400121523197,
          0.016397012205838335,
          0.010844016578535731
         ]
        },
        {
         "marker": {
          "color": "rgba(128, 0, 128, 0.6)",
          "line": {
           "color": "rgba(128, 0, 128, 1.0)",
           "width": 1
          }
         },
         "name": "APs",
         "orientation": "v",
         "text": "",
         "type": "bar",
         "uid": "2ac33531-7f7e-4c4b-90ef-56659482aade",
         "x": [
          "A to B",
          "A to C",
          "A to A25",
          "A to A50"
         ],
         "y": [
          0.03561423949344991,
          0.031128671994643226,
          0.012211386088761128,
          0.02263062091700653
         ]
        },
        {
         "marker": {
          "color": "rgba(219, 64, 82, 0.6)",
          "line": {
           "color": "rgba(219, 64, 82, 1.0)",
           "width": 1
          }
         },
         "name": "APm",
         "orientation": "v",
         "text": "",
         "type": "bar",
         "uid": "52026b6b-5184-4a08-ab86-68c8534676a9",
         "x": [
          "A to B",
          "A to C",
          "A to A25",
          "A to A50"
         ],
         "y": [
          0.04773263870357178,
          0.05244512687249772,
          0.02268332354004718,
          0.011929346072426211
         ]
        },
        {
         "marker": {
          "color": "rgba(0, 128, 128, 0.6)",
          "line": {
           "color": "rgba(0, 128, 128, 1.0)",
           "width": 1
          }
         },
         "name": "APl",
         "orientation": "v",
         "text": "",
         "type": "bar",
         "uid": "ee1faef7-f0c1-4156-b6ac-663554d1d348",
         "x": [
          "A to B",
          "A to C",
          "A to A25",
          "A to A50"
         ],
         "y": [
          0.01563185760786201,
          0.04445450276570484,
          -0.014394276500495184,
          -0.007545834869749468
         ]
        },
        {
         "marker": {
          "color": "rgba(255, 255, 51, 0.6)",
          "line": {
           "color": "rgba(255, 255, 51, 1.0)",
           "width": 1
          }
         },
         "name": "AR@1",
         "orientation": "v",
         "text": "",
         "type": "bar",
         "uid": "cdaa5956-1952-4ef3-9336-8db1ce8183bc",
         "x": [
          "A to B",
          "A to C",
          "A to A25",
          "A to A50"
         ],
         "y": [
          0.028252721294644068,
          0.025395152099186802,
          0.022035782792882985,
          0.008241415745040725
         ]
        },
        {
         "marker": {
          "color": "rgba(128, 128, 0, 0.6)",
          "line": {
           "color": "rgba(128, 128, 0, 1.0)",
           "width": 1
          }
         },
         "name": "AR@10",
         "orientation": "v",
         "text": "",
         "type": "bar",
         "uid": "82ece762-9206-42ee-835e-a7c901f301bc",
         "x": [
          "A to B",
          "A to C",
          "A to A25",
          "A to A50"
         ],
         "y": [
          0.0497861498561748,
          0.039860409311241574,
          0.05301863131881468,
          0.022980825834827023
         ]
        },
        {
         "marker": {
          "color": "rgba(251, 128, 114, 0.6)",
          "line": {
           "color": "rgba(251, 128, 114, 1.0)",
           "width": 1
          }
         },
         "name": "AR",
         "orientation": "v",
         "text": "",
         "type": "bar",
         "uid": "4a9894e1-7988-4632-83af-e8665177c929",
         "x": [
          "A to B",
          "A to C",
          "A to A25",
          "A to A50"
         ],
         "y": [
          0.05411762058405173,
          0.04079171203941084,
          0.056272712616064646,
          0.024149519454490287
         ]
        },
        {
         "marker": {
          "color": "rgba(128, 177, 211, 0.6)",
          "line": {
           "color": "rgba(128, 177, 211, 1.0)",
           "width": 1
          }
         },
         "name": "ARs",
         "orientation": "v",
         "text": "",
         "type": "bar",
         "uid": "ebded843-894f-433a-a731-f456072bd74a",
         "x": [
          "A to B",
          "A to C",
          "A to A25",
          "A to A50"
         ],
         "y": [
          0.044488571176418634,
          0.01898552643191248,
          0.06017593958420009,
          0.0009963185697895727
         ]
        },
        {
         "marker": {
          "color": "rgba(128, 177, 211, 0.6)",
          "line": {
           "color": "rgba(128, 177, 211, 0.8999999999999999)",
           "width": 1
          }
         },
         "name": "ARm",
         "orientation": "v",
         "text": "",
         "type": "bar",
         "uid": "4a205669-742f-4536-8e63-5525b0241d68",
         "x": [
          "A to B",
          "A to C",
          "A to A25",
          "A to A50"
         ],
         "y": [
          0.08328497077100422,
          0.04968475658419802,
          0.08718289779742294,
          0.04114162477290967
         ]
        },
        {
         "marker": {
          "color": "rgba(255, 153, 51, 0.6)",
          "line": {
           "color": "rgba(255, 153, 51, 0.8999999999999999)",
           "width": 1
          }
         },
         "name": "ARl",
         "orientation": "v",
         "text": "",
         "type": "bar",
         "uid": "96a1c4ea-241a-47eb-993d-496595057545",
         "x": [
          "A to B",
          "A to C",
          "A to A25",
          "A to A50"
         ],
         "y": [
          0.03330418303783911,
          0.04057588093907705,
          0.0307711524418548,
          0.00910024331331849
         ]
        }
       ],
       "layout": {
        "height": 540,
        "title": {
         "text": "Impact of GAN-based augmentation"
        },
        "width": 960,
        "yaxis": {
         "title": {
          "text": "Absolute change in score"
         }
        }
       }
      },
      "text/html": [
       "<div id=\"d45d9a86-ae11-4b01-85fd-23a6ce230b06\" style=\"height: 540px; width: 960px;\" class=\"plotly-graph-div\"></div><script type=\"text/javascript\">require([\"plotly\"], function(Plotly) { window.PLOTLYENV=window.PLOTLYENV || {};window.PLOTLYENV.BASE_URL=\"https://plot.ly\";\n",
       "if (document.getElementById(\"d45d9a86-ae11-4b01-85fd-23a6ce230b06\")) {\n",
       "    Plotly.newPlot(\"d45d9a86-ae11-4b01-85fd-23a6ce230b06\", [{\"marker\": {\"color\": \"rgba(255, 153, 51, 0.6)\", \"line\": {\"color\": \"rgba(255, 153, 51, 1.0)\", \"width\": 1}}, \"name\": \"AP\", \"orientation\": \"v\", \"text\": \"\", \"x\": [\"A to B\", \"A to C\", \"A to A25\", \"A to A50\"], \"y\": [0.02325904664081363, 0.0412412144270049, 0.008974880252627326, 0.009841948911173681], \"type\": \"bar\", \"uid\": \"2d1e151f-a647-4ab4-b2e0-e4743a2b6e87\"}, {\"marker\": {\"color\": \"rgba(55, 128, 191, 0.6)\", \"line\": {\"color\": \"rgba(55, 128, 191, 1.0)\", \"width\": 1}}, \"name\": \"AP50\", \"orientation\": \"v\", \"text\": \"\", \"x\": [\"A to B\", \"A to C\", \"A to A25\", \"A to A50\"], \"y\": [0.0412392308594699, 0.05355185109393912, 0.005831384376389692, 0.0027867402142658926], \"type\": \"bar\", \"uid\": \"4cf89522-b0f6-4a66-8da2-b9febd892a92\"}, {\"marker\": {\"color\": \"rgba(50, 171, 96, 0.6)\", \"line\": {\"color\": \"rgba(50, 171, 96, 1.0)\", \"width\": 1}}, \"name\": \"AP75\", \"orientation\": \"v\", \"text\": \"\", \"x\": [\"A to B\", \"A to C\", \"A to A25\", \"A to A50\"], \"y\": [0.020217928318690126, 0.05989400121523197, 0.016397012205838335, 0.010844016578535731], \"type\": \"bar\", \"uid\": \"5151579b-7487-4f9b-b416-c670806c0bfa\"}, {\"marker\": {\"color\": \"rgba(128, 0, 128, 0.6)\", \"line\": {\"color\": \"rgba(128, 0, 128, 1.0)\", \"width\": 1}}, \"name\": \"APs\", \"orientation\": \"v\", \"text\": \"\", \"x\": [\"A to B\", \"A to C\", \"A to A25\", \"A to A50\"], \"y\": [0.03561423949344991, 0.031128671994643226, 0.012211386088761128, 0.02263062091700653], \"type\": \"bar\", \"uid\": \"2ac33531-7f7e-4c4b-90ef-56659482aade\"}, {\"marker\": {\"color\": \"rgba(219, 64, 82, 0.6)\", \"line\": {\"color\": \"rgba(219, 64, 82, 1.0)\", \"width\": 1}}, \"name\": \"APm\", \"orientation\": \"v\", \"text\": \"\", \"x\": [\"A to B\", \"A to C\", \"A to A25\", \"A to A50\"], \"y\": [0.04773263870357178, 0.05244512687249772, 0.02268332354004718, 0.011929346072426211], \"type\": \"bar\", \"uid\": \"52026b6b-5184-4a08-ab86-68c8534676a9\"}, {\"marker\": {\"color\": \"rgba(0, 128, 128, 0.6)\", \"line\": {\"color\": \"rgba(0, 128, 128, 1.0)\", \"width\": 1}}, \"name\": \"APl\", \"orientation\": \"v\", \"text\": \"\", \"x\": [\"A to B\", \"A to C\", \"A to A25\", \"A to A50\"], \"y\": [0.01563185760786201, 0.04445450276570484, -0.014394276500495184, -0.007545834869749468], \"type\": \"bar\", \"uid\": \"ee1faef7-f0c1-4156-b6ac-663554d1d348\"}, {\"marker\": {\"color\": \"rgba(255, 255, 51, 0.6)\", \"line\": {\"color\": \"rgba(255, 255, 51, 1.0)\", \"width\": 1}}, \"name\": \"AR@1\", \"orientation\": \"v\", \"text\": \"\", \"x\": [\"A to B\", \"A to C\", \"A to A25\", \"A to A50\"], \"y\": [0.028252721294644068, 0.025395152099186802, 0.022035782792882985, 0.008241415745040725], \"type\": \"bar\", \"uid\": \"cdaa5956-1952-4ef3-9336-8db1ce8183bc\"}, {\"marker\": {\"color\": \"rgba(128, 128, 0, 0.6)\", \"line\": {\"color\": \"rgba(128, 128, 0, 1.0)\", \"width\": 1}}, \"name\": \"AR@10\", \"orientation\": \"v\", \"text\": \"\", \"x\": [\"A to B\", \"A to C\", \"A to A25\", \"A to A50\"], \"y\": [0.0497861498561748, 0.039860409311241574, 0.05301863131881468, 0.022980825834827023], \"type\": \"bar\", \"uid\": \"82ece762-9206-42ee-835e-a7c901f301bc\"}, {\"marker\": {\"color\": \"rgba(251, 128, 114, 0.6)\", \"line\": {\"color\": \"rgba(251, 128, 114, 1.0)\", \"width\": 1}}, \"name\": \"AR\", \"orientation\": \"v\", \"text\": \"\", \"x\": [\"A to B\", \"A to C\", \"A to A25\", \"A to A50\"], \"y\": [0.05411762058405173, 0.04079171203941084, 0.056272712616064646, 0.024149519454490287], \"type\": \"bar\", \"uid\": \"4a9894e1-7988-4632-83af-e8665177c929\"}, {\"marker\": {\"color\": \"rgba(128, 177, 211, 0.6)\", \"line\": {\"color\": \"rgba(128, 177, 211, 1.0)\", \"width\": 1}}, \"name\": \"ARs\", \"orientation\": \"v\", \"text\": \"\", \"x\": [\"A to B\", \"A to C\", \"A to A25\", \"A to A50\"], \"y\": [0.044488571176418634, 0.01898552643191248, 0.06017593958420009, 0.0009963185697895727], \"type\": \"bar\", \"uid\": \"ebded843-894f-433a-a731-f456072bd74a\"}, {\"marker\": {\"color\": \"rgba(128, 177, 211, 0.6)\", \"line\": {\"color\": \"rgba(128, 177, 211, 0.8999999999999999)\", \"width\": 1}}, \"name\": \"ARm\", \"orientation\": \"v\", \"text\": \"\", \"x\": [\"A to B\", \"A to C\", \"A to A25\", \"A to A50\"], \"y\": [0.08328497077100422, 0.04968475658419802, 0.08718289779742294, 0.04114162477290967], \"type\": \"bar\", \"uid\": \"4a205669-742f-4536-8e63-5525b0241d68\"}, {\"marker\": {\"color\": \"rgba(255, 153, 51, 0.6)\", \"line\": {\"color\": \"rgba(255, 153, 51, 0.8999999999999999)\", \"width\": 1}}, \"name\": \"ARl\", \"orientation\": \"v\", \"text\": \"\", \"x\": [\"A to B\", \"A to C\", \"A to A25\", \"A to A50\"], \"y\": [0.03330418303783911, 0.04057588093907705, 0.0307711524418548, 0.00910024331331849], \"type\": \"bar\", \"uid\": \"96a1c4ea-241a-47eb-993d-496595057545\"}], {\"height\": 540, \"title\": {\"text\": \"Impact of GAN-based augmentation\"}, \"width\": 960, \"yaxis\": {\"title\": {\"text\": \"Absolute change in score\"}}}, {\"modeBarButtonsToRemove\": [\"sendDataToCloud\"], \"displaylogo\": false, \"showLink\": false, \"linkText\": \"Export to plot.ly\", \"plotlyServerURL\": \"https://plot.ly\"}); \n",
       "}\n",
       "});</script>"
      ],
      "text/vnd.plotly.v1+html": [
       "<div id=\"d45d9a86-ae11-4b01-85fd-23a6ce230b06\" style=\"height: 540px; width: 960px;\" class=\"plotly-graph-div\"></div><script type=\"text/javascript\">require([\"plotly\"], function(Plotly) { window.PLOTLYENV=window.PLOTLYENV || {};window.PLOTLYENV.BASE_URL=\"https://plot.ly\";\n",
       "if (document.getElementById(\"d45d9a86-ae11-4b01-85fd-23a6ce230b06\")) {\n",
       "    Plotly.newPlot(\"d45d9a86-ae11-4b01-85fd-23a6ce230b06\", [{\"marker\": {\"color\": \"rgba(255, 153, 51, 0.6)\", \"line\": {\"color\": \"rgba(255, 153, 51, 1.0)\", \"width\": 1}}, \"name\": \"AP\", \"orientation\": \"v\", \"text\": \"\", \"x\": [\"A to B\", \"A to C\", \"A to A25\", \"A to A50\"], \"y\": [0.02325904664081363, 0.0412412144270049, 0.008974880252627326, 0.009841948911173681], \"type\": \"bar\", \"uid\": \"2d1e151f-a647-4ab4-b2e0-e4743a2b6e87\"}, {\"marker\": {\"color\": \"rgba(55, 128, 191, 0.6)\", \"line\": {\"color\": \"rgba(55, 128, 191, 1.0)\", \"width\": 1}}, \"name\": \"AP50\", \"orientation\": \"v\", \"text\": \"\", \"x\": [\"A to B\", \"A to C\", \"A to A25\", \"A to A50\"], \"y\": [0.0412392308594699, 0.05355185109393912, 0.005831384376389692, 0.0027867402142658926], \"type\": \"bar\", \"uid\": \"4cf89522-b0f6-4a66-8da2-b9febd892a92\"}, {\"marker\": {\"color\": \"rgba(50, 171, 96, 0.6)\", \"line\": {\"color\": \"rgba(50, 171, 96, 1.0)\", \"width\": 1}}, \"name\": \"AP75\", \"orientation\": \"v\", \"text\": \"\", \"x\": [\"A to B\", \"A to C\", \"A to A25\", \"A to A50\"], \"y\": [0.020217928318690126, 0.05989400121523197, 0.016397012205838335, 0.010844016578535731], \"type\": \"bar\", \"uid\": \"5151579b-7487-4f9b-b416-c670806c0bfa\"}, {\"marker\": {\"color\": \"rgba(128, 0, 128, 0.6)\", \"line\": {\"color\": \"rgba(128, 0, 128, 1.0)\", \"width\": 1}}, \"name\": \"APs\", \"orientation\": \"v\", \"text\": \"\", \"x\": [\"A to B\", \"A to C\", \"A to A25\", \"A to A50\"], \"y\": [0.03561423949344991, 0.031128671994643226, 0.012211386088761128, 0.02263062091700653], \"type\": \"bar\", \"uid\": \"2ac33531-7f7e-4c4b-90ef-56659482aade\"}, {\"marker\": {\"color\": \"rgba(219, 64, 82, 0.6)\", \"line\": {\"color\": \"rgba(219, 64, 82, 1.0)\", \"width\": 1}}, \"name\": \"APm\", \"orientation\": \"v\", \"text\": \"\", \"x\": [\"A to B\", \"A to C\", \"A to A25\", \"A to A50\"], \"y\": [0.04773263870357178, 0.05244512687249772, 0.02268332354004718, 0.011929346072426211], \"type\": \"bar\", \"uid\": \"52026b6b-5184-4a08-ab86-68c8534676a9\"}, {\"marker\": {\"color\": \"rgba(0, 128, 128, 0.6)\", \"line\": {\"color\": \"rgba(0, 128, 128, 1.0)\", \"width\": 1}}, \"name\": \"APl\", \"orientation\": \"v\", \"text\": \"\", \"x\": [\"A to B\", \"A to C\", \"A to A25\", \"A to A50\"], \"y\": [0.01563185760786201, 0.04445450276570484, -0.014394276500495184, -0.007545834869749468], \"type\": \"bar\", \"uid\": \"ee1faef7-f0c1-4156-b6ac-663554d1d348\"}, {\"marker\": {\"color\": \"rgba(255, 255, 51, 0.6)\", \"line\": {\"color\": \"rgba(255, 255, 51, 1.0)\", \"width\": 1}}, \"name\": \"AR@1\", \"orientation\": \"v\", \"text\": \"\", \"x\": [\"A to B\", \"A to C\", \"A to A25\", \"A to A50\"], \"y\": [0.028252721294644068, 0.025395152099186802, 0.022035782792882985, 0.008241415745040725], \"type\": \"bar\", \"uid\": \"cdaa5956-1952-4ef3-9336-8db1ce8183bc\"}, {\"marker\": {\"color\": \"rgba(128, 128, 0, 0.6)\", \"line\": {\"color\": \"rgba(128, 128, 0, 1.0)\", \"width\": 1}}, \"name\": \"AR@10\", \"orientation\": \"v\", \"text\": \"\", \"x\": [\"A to B\", \"A to C\", \"A to A25\", \"A to A50\"], \"y\": [0.0497861498561748, 0.039860409311241574, 0.05301863131881468, 0.022980825834827023], \"type\": \"bar\", \"uid\": \"82ece762-9206-42ee-835e-a7c901f301bc\"}, {\"marker\": {\"color\": \"rgba(251, 128, 114, 0.6)\", \"line\": {\"color\": \"rgba(251, 128, 114, 1.0)\", \"width\": 1}}, \"name\": \"AR\", \"orientation\": \"v\", \"text\": \"\", \"x\": [\"A to B\", \"A to C\", \"A to A25\", \"A to A50\"], \"y\": [0.05411762058405173, 0.04079171203941084, 0.056272712616064646, 0.024149519454490287], \"type\": \"bar\", \"uid\": \"4a9894e1-7988-4632-83af-e8665177c929\"}, {\"marker\": {\"color\": \"rgba(128, 177, 211, 0.6)\", \"line\": {\"color\": \"rgba(128, 177, 211, 1.0)\", \"width\": 1}}, \"name\": \"ARs\", \"orientation\": \"v\", \"text\": \"\", \"x\": [\"A to B\", \"A to C\", \"A to A25\", \"A to A50\"], \"y\": [0.044488571176418634, 0.01898552643191248, 0.06017593958420009, 0.0009963185697895727], \"type\": \"bar\", \"uid\": \"ebded843-894f-433a-a731-f456072bd74a\"}, {\"marker\": {\"color\": \"rgba(128, 177, 211, 0.6)\", \"line\": {\"color\": \"rgba(128, 177, 211, 0.8999999999999999)\", \"width\": 1}}, \"name\": \"ARm\", \"orientation\": \"v\", \"text\": \"\", \"x\": [\"A to B\", \"A to C\", \"A to A25\", \"A to A50\"], \"y\": [0.08328497077100422, 0.04968475658419802, 0.08718289779742294, 0.04114162477290967], \"type\": \"bar\", \"uid\": \"4a205669-742f-4536-8e63-5525b0241d68\"}, {\"marker\": {\"color\": \"rgba(255, 153, 51, 0.6)\", \"line\": {\"color\": \"rgba(255, 153, 51, 0.8999999999999999)\", \"width\": 1}}, \"name\": \"ARl\", \"orientation\": \"v\", \"text\": \"\", \"x\": [\"A to B\", \"A to C\", \"A to A25\", \"A to A50\"], \"y\": [0.03330418303783911, 0.04057588093907705, 0.0307711524418548, 0.00910024331331849], \"type\": \"bar\", \"uid\": \"96a1c4ea-241a-47eb-993d-496595057545\"}], {\"height\": 540, \"title\": {\"text\": \"Impact of GAN-based augmentation\"}, \"width\": 960, \"yaxis\": {\"title\": {\"text\": \"Absolute change in score\"}}}, {\"modeBarButtonsToRemove\": [\"sendDataToCloud\"], \"displaylogo\": false, \"showLink\": false, \"linkText\": \"Export to plot.ly\", \"plotlyServerURL\": \"https://plot.ly\"}); \n",
       "}\n",
       "});</script>"
      ]
     },
     "metadata": {},
     "output_type": "display_data"
    }
   ],
   "source": [
    "cf.go_offline(connected = True)\n",
    "config = {\n",
    "    \"modeBarButtonsToRemove\": [\"sendDataToCloud\"],\n",
    "    \"displaylogo\": False\n",
    "}\n",
    "layout = {\n",
    "    \"title\": \"Impact of GAN-based augmentation\",\n",
    "    \"yaxis\": {\n",
    "        \"title\": \"Absolute change in score\"\n",
    "    },\n",
    "    \"width\": 960,\n",
    "    \"height\": 540\n",
    "}\n",
    "fig = df_combined.iplot(kind = \"bar\", y = [\"AP\", \"AP50\", \"AP75\", \"APs\", \"APm\", \"APl\", \"AR@1\", \"AR@10\", \"AR\", \"ARs\", \"ARm\", \"ARl\"], layout = layout, asFigure = True)\n",
    "py.offline.iplot(fig, show_link = False, config = config)"
   ]
  },
  {
   "cell_type": "code",
   "execution_count": 28,
   "metadata": {},
   "outputs": [],
   "source": [
    "df_combined = df_combined * 100"
   ]
  },
  {
   "cell_type": "code",
   "execution_count": 29,
   "metadata": {},
   "outputs": [
    {
     "data": {
      "text/plain": [
       "Text(0, 0.5, 'Absolute change in score (%)')"
      ]
     },
     "execution_count": 29,
     "metadata": {},
     "output_type": "execute_result"
    },
    {
     "data": {
      "image/png": "[encoded data removed]",
      "text/plain": [
       "<Figure size 1152x648 with 1 Axes>"
      ]
     },
     "metadata": {
      "needs_background": "light"
     },
     "output_type": "display_data"
    }
   ],
   "source": [
    "ax = df_combined.plot(kind = \"bar\", figsize = (16, 9))\n",
    "ax.set_xlabel(\"\")\n",
    "ax.set_ylabel(\"Absolute change in score (%)\")"
   ]
  },
  {
   "cell_type": "code",
   "execution_count": 30,
   "metadata": {},
   "outputs": [
    {
     "data": {
      "application/vnd.plotly.v1+json": {
       "config": {
        "displaylogo": false,
        "linkText": "Export to plot.ly",
        "modeBarButtonsToRemove": [
         "sendDataToCloud"
        ],
        "plotlyServerURL": "https://plot.ly",
        "showLink": false
       },
       "data": [
        {
         "marker": {
          "color": "rgba(255, 153, 51, 0.6)",
          "line": {
           "color": "rgba(255, 153, 51, 1.0)",
           "width": 1
          }
         },
         "name": "AP",
         "orientation": "v",
         "text": "",
         "type": "bar",
         "uid": "d81853ec-d789-477a-a60c-b805d182f9ad",
         "x": [
          "A to B",
          "A to C",
          "A to A25",
          "A to A50"
         ],
         "y": [
          2.3259046640813628,
          4.12412144270049,
          0.8974880252627326,
          0.9841948911173681
         ]
        },
        {
         "marker": {
          "color": "rgba(55, 128, 191, 0.6)",
          "line": {
           "color": "rgba(55, 128, 191, 1.0)",
           "width": 1
          }
         },
         "name": "AP50",
         "orientation": "v",
         "text": "",
         "type": "bar",
         "uid": "f027979b-6fa6-4609-968a-bc39ee9024f4",
         "x": [
          "A to B",
          "A to C",
          "A to A25",
          "A to A50"
         ],
         "y": [
          4.1239230859469895,
          5.355185109393911,
          0.5831384376389692,
          0.27867402142658926
         ]
        },
        {
         "marker": {
          "color": "rgba(50, 171, 96, 0.6)",
          "line": {
           "color": "rgba(50, 171, 96, 1.0)",
           "width": 1
          }
         },
         "name": "AP75",
         "orientation": "v",
         "text": "",
         "type": "bar",
         "uid": "84348e93-fc49-41f9-834e-1d115b60a8c9",
         "x": [
          "A to B",
          "A to C",
          "A to A25",
          "A to A50"
         ],
         "y": [
          2.0217928318690124,
          5.989400121523198,
          1.6397012205838335,
          1.0844016578535731
         ]
        },
        {
         "marker": {
          "color": "rgba(128, 0, 128, 0.6)",
          "line": {
           "color": "rgba(128, 0, 128, 1.0)",
           "width": 1
          }
         },
         "name": "APs",
         "orientation": "v",
         "text": "",
         "type": "bar",
         "uid": "9f45b737-7984-4a65-aa3f-8403c5870b24",
         "x": [
          "A to B",
          "A to C",
          "A to A25",
          "A to A50"
         ],
         "y": [
          3.561423949344991,
          3.1128671994643224,
          1.221138608876113,
          2.263062091700653
         ]
        },
        {
         "marker": {
          "color": "rgba(219, 64, 82, 0.6)",
          "line": {
           "color": "rgba(219, 64, 82, 1.0)",
           "width": 1
          }
         },
         "name": "APm",
         "orientation": "v",
         "text": "",
         "type": "bar",
         "uid": "72dc1438-cb31-42d3-b6bc-b1eee9840e53",
         "x": [
          "A to B",
          "A to C",
          "A to A25",
          "A to A50"
         ],
         "y": [
          4.7732638703571775,
          5.244512687249772,
          2.268332354004718,
          1.1929346072426212
         ]
        },
        {
         "marker": {
          "color": "rgba(0, 128, 128, 0.6)",
          "line": {
           "color": "rgba(0, 128, 128, 1.0)",
           "width": 1
          }
         },
         "name": "APl",
         "orientation": "v",
         "text": "",
         "type": "bar",
         "uid": "2e0bdfaa-3f31-445e-a504-e481d9814493",
         "x": [
          "A to B",
          "A to C",
          "A to A25",
          "A to A50"
         ],
         "y": [
          1.563185760786201,
          4.445450276570484,
          -1.4394276500495184,
          -0.7545834869749468
         ]
        },
        {
         "marker": {
          "color": "rgba(255, 255, 51, 0.6)",
          "line": {
           "color": "rgba(255, 255, 51, 1.0)",
           "width": 1
          }
         },
         "name": "AR@1",
         "orientation": "v",
         "text": "",
         "type": "bar",
         "uid": "c7ff9972-84b4-4e47-80b9-a5bd6ca384f9",
         "x": [
          "A to B",
          "A to C",
          "A to A25",
          "A to A50"
         ],
         "y": [
          2.8252721294644068,
          2.5395152099186804,
          2.2035782792882985,
          0.8241415745040725
         ]
        },
        {
         "marker": {
          "color": "rgba(128, 128, 0, 0.6)",
          "line": {
           "color": "rgba(128, 128, 0, 1.0)",
           "width": 1
          }
         },
         "name": "AR@10",
         "orientation": "v",
         "text": "",
         "type": "bar",
         "uid": "bb35f6bd-9acf-400c-be03-cc2a5228ef1d",
         "x": [
          "A to B",
          "A to C",
          "A to A25",
          "A to A50"
         ],
         "y": [
          4.9786149856174795,
          3.9860409311241574,
          5.301863131881468,
          2.298082583482702
         ]
        },
        {
         "marker": {
          "color": "rgba(251, 128, 114, 0.6)",
          "line": {
           "color": "rgba(251, 128, 114, 1.0)",
           "width": 1
          }
         },
         "name": "AR",
         "orientation": "v",
         "text": "",
         "type": "bar",
         "uid": "8551ba87-db5e-4190-881e-b6ba90f92b8a",
         "x": [
          "A to B",
          "A to C",
          "A to A25",
          "A to A50"
         ],
         "y": [
          5.411762058405173,
          4.079171203941084,
          5.627271261606465,
          2.4149519454490287
         ]
        },
        {
         "marker": {
          "color": "rgba(128, 177, 211, 0.6)",
          "line": {
           "color": "rgba(128, 177, 211, 1.0)",
           "width": 1
          }
         },
         "name": "ARs",
         "orientation": "v",
         "text": "",
         "type": "bar",
         "uid": "79ecb87b-ba9f-43b6-803d-b92f8c32d86b",
         "x": [
          "A to B",
          "A to C",
          "A to A25",
          "A to A50"
         ],
         "y": [
          4.448857117641864,
          1.898552643191248,
          6.017593958420009,
          0.09963185697895727
         ]
        },
        {
         "marker": {
          "color": "rgba(128, 177, 211, 0.6)",
          "line": {
           "color": "rgba(128, 177, 211, 0.8999999999999999)",
           "width": 1
          }
         },
         "name": "ARm",
         "orientation": "v",
         "text": "",
         "type": "bar",
         "uid": "162816b6-0be0-4662-a800-8a3bf333d486",
         "x": [
          "A to B",
          "A to C",
          "A to A25",
          "A to A50"
         ],
         "y": [
          8.328497077100423,
          4.968475658419802,
          8.718289779742294,
          4.114162477290967
         ]
        },
        {
         "marker": {
          "color": "rgba(255, 153, 51, 0.6)",
          "line": {
           "color": "rgba(255, 153, 51, 0.8999999999999999)",
           "width": 1
          }
         },
         "name": "ARl",
         "orientation": "v",
         "text": "",
         "type": "bar",
         "uid": "0da26c86-9801-41db-a5e3-ce0f6c511400",
         "x": [
          "A to B",
          "A to C",
          "A to A25",
          "A to A50"
         ],
         "y": [
          3.330418303783911,
          4.057588093907705,
          3.07711524418548,
          0.910024331331849
         ]
        }
       ],
       "layout": {
        "height": 540,
        "title": {
         "text": "Impact of GAN-based augmentation"
        },
        "width": 960,
        "yaxis": {
         "title": {
          "text": "Absolute change in score (%)"
         }
        }
       }
      },
      "text/html": [
       "<div id=\"a68c4667-277d-4447-a877-9f0a824c69a0\" style=\"height: 540px; width: 960px;\" class=\"plotly-graph-div\"></div><script type=\"text/javascript\">require([\"plotly\"], function(Plotly) { window.PLOTLYENV=window.PLOTLYENV || {};window.PLOTLYENV.BASE_URL=\"https://plot.ly\";\n",
       "if (document.getElementById(\"a68c4667-277d-4447-a877-9f0a824c69a0\")) {\n",
       "    Plotly.newPlot(\"a68c4667-277d-4447-a877-9f0a824c69a0\", [{\"marker\": {\"color\": \"rgba(255, 153, 51, 0.6)\", \"line\": {\"color\": \"rgba(255, 153, 51, 1.0)\", \"width\": 1}}, \"name\": \"AP\", \"orientation\": \"v\", \"text\": \"\", \"x\": [\"A to B\", \"A to C\", \"A to A25\", \"A to A50\"], \"y\": [2.3259046640813628, 4.12412144270049, 0.8974880252627326, 0.9841948911173681], \"type\": \"bar\", \"uid\": \"d81853ec-d789-477a-a60c-b805d182f9ad\"}, {\"marker\": {\"color\": \"rgba(55, 128, 191, 0.6)\", \"line\": {\"color\": \"rgba(55, 128, 191, 1.0)\", \"width\": 1}}, \"name\": \"AP50\", \"orientation\": \"v\", \"text\": \"\", \"x\": [\"A to B\", \"A to C\", \"A to A25\", \"A to A50\"], \"y\": [4.1239230859469895, 5.355185109393911, 0.5831384376389692, 0.27867402142658926], \"type\": \"bar\", \"uid\": \"f027979b-6fa6-4609-968a-bc39ee9024f4\"}, {\"marker\": {\"color\": \"rgba(50, 171, 96, 0.6)\", \"line\": {\"color\": \"rgba(50, 171, 96, 1.0)\", \"width\": 1}}, \"name\": \"AP75\", \"orientation\": \"v\", \"text\": \"\", \"x\": [\"A to B\", \"A to C\", \"A to A25\", \"A to A50\"], \"y\": [2.0217928318690124, 5.989400121523198, 1.6397012205838335, 1.0844016578535731], \"type\": \"bar\", \"uid\": \"84348e93-fc49-41f9-834e-1d115b60a8c9\"}, {\"marker\": {\"color\": \"rgba(128, 0, 128, 0.6)\", \"line\": {\"color\": \"rgba(128, 0, 128, 1.0)\", \"width\": 1}}, \"name\": \"APs\", \"orientation\": \"v\", \"text\": \"\", \"x\": [\"A to B\", \"A to C\", \"A to A25\", \"A to A50\"], \"y\": [3.561423949344991, 3.1128671994643224, 1.221138608876113, 2.263062091700653], \"type\": \"bar\", \"uid\": \"9f45b737-7984-4a65-aa3f-8403c5870b24\"}, {\"marker\": {\"color\": \"rgba(219, 64, 82, 0.6)\", \"line\": {\"color\": \"rgba(219, 64, 82, 1.0)\", \"width\": 1}}, \"name\": \"APm\", \"orientation\": \"v\", \"text\": \"\", \"x\": [\"A to B\", \"A to C\", \"A to A25\", \"A to A50\"], \"y\": [4.7732638703571775, 5.244512687249772, 2.268332354004718, 1.1929346072426212], \"type\": \"bar\", \"uid\": \"72dc1438-cb31-42d3-b6bc-b1eee9840e53\"}, {\"marker\": {\"color\": \"rgba(0, 128, 128, 0.6)\", \"line\": {\"color\": \"rgba(0, 128, 128, 1.0)\", \"width\": 1}}, \"name\": \"APl\", \"orientation\": \"v\", \"text\": \"\", \"x\": [\"A to B\", \"A to C\", \"A to A25\", \"A to A50\"], \"y\": [1.563185760786201, 4.445450276570484, -1.4394276500495184, -0.7545834869749468], \"type\": \"bar\", \"uid\": \"2e0bdfaa-3f31-445e-a504-e481d9814493\"}, {\"marker\": {\"color\": \"rgba(255, 255, 51, 0.6)\", \"line\": {\"color\": \"rgba(255, 255, 51, 1.0)\", \"width\": 1}}, \"name\": \"AR@1\", \"orientation\": \"v\", \"text\": \"\", \"x\": [\"A to B\", \"A to C\", \"A to A25\", \"A to A50\"], \"y\": [2.8252721294644068, 2.5395152099186804, 2.2035782792882985, 0.8241415745040725], \"type\": \"bar\", \"uid\": \"c7ff9972-84b4-4e47-80b9-a5bd6ca384f9\"}, {\"marker\": {\"color\": \"rgba(128, 128, 0, 0.6)\", \"line\": {\"color\": \"rgba(128, 128, 0, 1.0)\", \"width\": 1}}, \"name\": \"AR@10\", \"orientation\": \"v\", \"text\": \"\", \"x\": [\"A to B\", \"A to C\", \"A to A25\", \"A to A50\"], \"y\": [4.9786149856174795, 3.9860409311241574, 5.301863131881468, 2.298082583482702], \"type\": \"bar\", \"uid\": \"bb35f6bd-9acf-400c-be03-cc2a5228ef1d\"}, {\"marker\": {\"color\": \"rgba(251, 128, 114, 0.6)\", \"line\": {\"color\": \"rgba(251, 128, 114, 1.0)\", \"width\": 1}}, \"name\": \"AR\", \"orientation\": \"v\", \"text\": \"\", \"x\": [\"A to B\", \"A to C\", \"A to A25\", \"A to A50\"], \"y\": [5.411762058405173, 4.079171203941084, 5.627271261606465, 2.4149519454490287], \"type\": \"bar\", \"uid\": \"8551ba87-db5e-4190-881e-b6ba90f92b8a\"}, {\"marker\": {\"color\": \"rgba(128, 177, 211, 0.6)\", \"line\": {\"color\": \"rgba(128, 177, 211, 1.0)\", \"width\": 1}}, \"name\": \"ARs\", \"orientation\": \"v\", \"text\": \"\", \"x\": [\"A to B\", \"A to C\", \"A to A25\", \"A to A50\"], \"y\": [4.448857117641864, 1.898552643191248, 6.017593958420009, 0.09963185697895727], \"type\": \"bar\", \"uid\": \"79ecb87b-ba9f-43b6-803d-b92f8c32d86b\"}, {\"marker\": {\"color\": \"rgba(128, 177, 211, 0.6)\", \"line\": {\"color\": \"rgba(128, 177, 211, 0.8999999999999999)\", \"width\": 1}}, \"name\": \"ARm\", \"orientation\": \"v\", \"text\": \"\", \"x\": [\"A to B\", \"A to C\", \"A to A25\", \"A to A50\"], \"y\": [8.328497077100423, 4.968475658419802, 8.718289779742294, 4.114162477290967], \"type\": \"bar\", \"uid\": \"162816b6-0be0-4662-a800-8a3bf333d486\"}, {\"marker\": {\"color\": \"rgba(255, 153, 51, 0.6)\", \"line\": {\"color\": \"rgba(255, 153, 51, 0.8999999999999999)\", \"width\": 1}}, \"name\": \"ARl\", \"orientation\": \"v\", \"text\": \"\", \"x\": [\"A to B\", \"A to C\", \"A to A25\", \"A to A50\"], \"y\": [3.330418303783911, 4.057588093907705, 3.07711524418548, 0.910024331331849], \"type\": \"bar\", \"uid\": \"0da26c86-9801-41db-a5e3-ce0f6c511400\"}], {\"height\": 540, \"title\": {\"text\": \"Impact of GAN-based augmentation\"}, \"width\": 960, \"yaxis\": {\"title\": {\"text\": \"Absolute change in score (%)\"}}}, {\"modeBarButtonsToRemove\": [\"sendDataToCloud\"], \"displaylogo\": false, \"showLink\": false, \"linkText\": \"Export to plot.ly\", \"plotlyServerURL\": \"https://plot.ly\"}); \n",
       "}\n",
       "});</script>"
      ],
      "text/vnd.plotly.v1+html": [
       "<div id=\"a68c4667-277d-4447-a877-9f0a824c69a0\" style=\"height: 540px; width: 960px;\" class=\"plotly-graph-div\"></div><script type=\"text/javascript\">require([\"plotly\"], function(Plotly) { window.PLOTLYENV=window.PLOTLYENV || {};window.PLOTLYENV.BASE_URL=\"https://plot.ly\";\n",
       "if (document.getElementById(\"a68c4667-277d-4447-a877-9f0a824c69a0\")) {\n",
       "    Plotly.newPlot(\"a68c4667-277d-4447-a877-9f0a824c69a0\", [{\"marker\": {\"color\": \"rgba(255, 153, 51, 0.6)\", \"line\": {\"color\": \"rgba(255, 153, 51, 1.0)\", \"width\": 1}}, \"name\": \"AP\", \"orientation\": \"v\", \"text\": \"\", \"x\": [\"A to B\", \"A to C\", \"A to A25\", \"A to A50\"], \"y\": [2.3259046640813628, 4.12412144270049, 0.8974880252627326, 0.9841948911173681], \"type\": \"bar\", \"uid\": \"d81853ec-d789-477a-a60c-b805d182f9ad\"}, {\"marker\": {\"color\": \"rgba(55, 128, 191, 0.6)\", \"line\": {\"color\": \"rgba(55, 128, 191, 1.0)\", \"width\": 1}}, \"name\": \"AP50\", \"orientation\": \"v\", \"text\": \"\", \"x\": [\"A to B\", \"A to C\", \"A to A25\", \"A to A50\"], \"y\": [4.1239230859469895, 5.355185109393911, 0.5831384376389692, 0.27867402142658926], \"type\": \"bar\", \"uid\": \"f027979b-6fa6-4609-968a-bc39ee9024f4\"}, {\"marker\": {\"color\": \"rgba(50, 171, 96, 0.6)\", \"line\": {\"color\": \"rgba(50, 171, 96, 1.0)\", \"width\": 1}}, \"name\": \"AP75\", \"orientation\": \"v\", \"text\": \"\", \"x\": [\"A to B\", \"A to C\", \"A to A25\", \"A to A50\"], \"y\": [2.0217928318690124, 5.989400121523198, 1.6397012205838335, 1.0844016578535731], \"type\": \"bar\", \"uid\": \"84348e93-fc49-41f9-834e-1d115b60a8c9\"}, {\"marker\": {\"color\": \"rgba(128, 0, 128, 0.6)\", \"line\": {\"color\": \"rgba(128, 0, 128, 1.0)\", \"width\": 1}}, \"name\": \"APs\", \"orientation\": \"v\", \"text\": \"\", \"x\": [\"A to B\", \"A to C\", \"A to A25\", \"A to A50\"], \"y\": [3.561423949344991, 3.1128671994643224, 1.221138608876113, 2.263062091700653], \"type\": \"bar\", \"uid\": \"9f45b737-7984-4a65-aa3f-8403c5870b24\"}, {\"marker\": {\"color\": \"rgba(219, 64, 82, 0.6)\", \"line\": {\"color\": \"rgba(219, 64, 82, 1.0)\", \"width\": 1}}, \"name\": \"APm\", \"orientation\": \"v\", \"text\": \"\", \"x\": [\"A to B\", \"A to C\", \"A to A25\", \"A to A50\"], \"y\": [4.7732638703571775, 5.244512687249772, 2.268332354004718, 1.1929346072426212], \"type\": \"bar\", \"uid\": \"72dc1438-cb31-42d3-b6bc-b1eee9840e53\"}, {\"marker\": {\"color\": \"rgba(0, 128, 128, 0.6)\", \"line\": {\"color\": \"rgba(0, 128, 128, 1.0)\", \"width\": 1}}, \"name\": \"APl\", \"orientation\": \"v\", \"text\": \"\", \"x\": [\"A to B\", \"A to C\", \"A to A25\", \"A to A50\"], \"y\": [1.563185760786201, 4.445450276570484, -1.4394276500495184, -0.7545834869749468], \"type\": \"bar\", \"uid\": \"2e0bdfaa-3f31-445e-a504-e481d9814493\"}, {\"marker\": {\"color\": \"rgba(255, 255, 51, 0.6)\", \"line\": {\"color\": \"rgba(255, 255, 51, 1.0)\", \"width\": 1}}, \"name\": \"AR@1\", \"orientation\": \"v\", \"text\": \"\", \"x\": [\"A to B\", \"A to C\", \"A to A25\", \"A to A50\"], \"y\": [2.8252721294644068, 2.5395152099186804, 2.2035782792882985, 0.8241415745040725], \"type\": \"bar\", \"uid\": \"c7ff9972-84b4-4e47-80b9-a5bd6ca384f9\"}, {\"marker\": {\"color\": \"rgba(128, 128, 0, 0.6)\", \"line\": {\"color\": \"rgba(128, 128, 0, 1.0)\", \"width\": 1}}, \"name\": \"AR@10\", \"orientation\": \"v\", \"text\": \"\", \"x\": [\"A to B\", \"A to C\", \"A to A25\", \"A to A50\"], \"y\": [4.9786149856174795, 3.9860409311241574, 5.301863131881468, 2.298082583482702], \"type\": \"bar\", \"uid\": \"bb35f6bd-9acf-400c-be03-cc2a5228ef1d\"}, {\"marker\": {\"color\": \"rgba(251, 128, 114, 0.6)\", \"line\": {\"color\": \"rgba(251, 128, 114, 1.0)\", \"width\": 1}}, \"name\": \"AR\", \"orientation\": \"v\", \"text\": \"\", \"x\": [\"A to B\", \"A to C\", \"A to A25\", \"A to A50\"], \"y\": [5.411762058405173, 4.079171203941084, 5.627271261606465, 2.4149519454490287], \"type\": \"bar\", \"uid\": \"8551ba87-db5e-4190-881e-b6ba90f92b8a\"}, {\"marker\": {\"color\": \"rgba(128, 177, 211, 0.6)\", \"line\": {\"color\": \"rgba(128, 177, 211, 1.0)\", \"width\": 1}}, \"name\": \"ARs\", \"orientation\": \"v\", \"text\": \"\", \"x\": [\"A to B\", \"A to C\", \"A to A25\", \"A to A50\"], \"y\": [4.448857117641864, 1.898552643191248, 6.017593958420009, 0.09963185697895727], \"type\": \"bar\", \"uid\": \"79ecb87b-ba9f-43b6-803d-b92f8c32d86b\"}, {\"marker\": {\"color\": \"rgba(128, 177, 211, 0.6)\", \"line\": {\"color\": \"rgba(128, 177, 211, 0.8999999999999999)\", \"width\": 1}}, \"name\": \"ARm\", \"orientation\": \"v\", \"text\": \"\", \"x\": [\"A to B\", \"A to C\", \"A to A25\", \"A to A50\"], \"y\": [8.328497077100423, 4.968475658419802, 8.718289779742294, 4.114162477290967], \"type\": \"bar\", \"uid\": \"162816b6-0be0-4662-a800-8a3bf333d486\"}, {\"marker\": {\"color\": \"rgba(255, 153, 51, 0.6)\", \"line\": {\"color\": \"rgba(255, 153, 51, 0.8999999999999999)\", \"width\": 1}}, \"name\": \"ARl\", \"orientation\": \"v\", \"text\": \"\", \"x\": [\"A to B\", \"A to C\", \"A to A25\", \"A to A50\"], \"y\": [3.330418303783911, 4.057588093907705, 3.07711524418548, 0.910024331331849], \"type\": \"bar\", \"uid\": \"0da26c86-9801-41db-a5e3-ce0f6c511400\"}], {\"height\": 540, \"title\": {\"text\": \"Impact of GAN-based augmentation\"}, \"width\": 960, \"yaxis\": {\"title\": {\"text\": \"Absolute change in score (%)\"}}}, {\"modeBarButtonsToRemove\": [\"sendDataToCloud\"], \"displaylogo\": false, \"showLink\": false, \"linkText\": \"Export to plot.ly\", \"plotlyServerURL\": \"https://plot.ly\"}); \n",
       "}\n",
       "});</script>"
      ]
     },
     "metadata": {},
     "output_type": "display_data"
    }
   ],
   "source": [
    "layout = {\n",
    "    \"title\": \"Impact of GAN-based augmentation\",\n",
    "    \"yaxis\": {\n",
    "        \"title\": \"Absolute change in score (%)\"\n",
    "    },\n",
    "    \"width\": 960,\n",
    "    \"height\": 540\n",
    "}\n",
    "fig = df_combined.iplot(kind = \"bar\", y = [\"AP\", \"AP50\", \"AP75\", \"APs\", \"APm\", \"APl\", \"AR@1\", \"AR@10\", \"AR\", \"ARs\", \"ARm\", \"ARl\"], layout = layout, asFigure = True)\n",
    "py.offline.iplot(fig, show_link = False, config = config)"
   ]
  }
 ],
 "metadata": {
  "kernelspec": {
   "display_name": "Python 3",
   "language": "python",
   "name": "python3"
  },
  "language_info": {
   "codemirror_mode": {
    "name": "ipython",
    "version": 3
   },
   "file_extension": ".py",
   "mimetype": "text/x-python",
   "name": "python",
   "nbconvert_exporter": "python",
   "pygments_lexer": "ipython3",
   "version": "3.6.7"
  }
 },
 "nbformat": 4,
 "nbformat_minor": 2
}

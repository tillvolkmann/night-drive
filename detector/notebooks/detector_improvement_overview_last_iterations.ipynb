{
 "cells": [
  {
   "cell_type": "code",
   "execution_count": 1,
   "metadata": {},
   "outputs": [],
   "source": [
    "import glob\n",
    "import numpy as np\n",
    "import pandas as pd\n",
    "import plotly as py\n",
    "import cufflinks as cf\n",
    "%matplotlib inline"
   ]
  },
  {
   "cell_type": "code",
   "execution_count": 2,
   "metadata": {},
   "outputs": [],
   "source": [
    "train_A_over_logs = \"../eval/20190317_RetinaNet_train_A_over_eval/test_night\"\n",
    "train_B_over_logs = \"../eval/20190317_RetinaNet_train_B_over_eval/test_night\"\n",
    "train_C_over_logs = \"../eval/20190317_RetinaNet_train_C_over_eval/test_night\"\n",
    "\n",
    "train_A_over_ganaug_025_logs = \"../eval/20190324_RetinaNet_train_A_over_ganaug_025_eval/test_night\"\n",
    "train_A_over_ganaug_050_logs = \"../eval/20190324_RetinaNet_train_A_over_ganaug_050_eval/test_night\"\n",
    "\n",
    "iteration = 240000 # None = best"
   ]
  },
  {
   "cell_type": "code",
   "execution_count": 3,
   "metadata": {},
   "outputs": [],
   "source": [
    "train_A_over_logs = glob.glob(train_A_over_logs + \"/**/*.txt\", recursive = True)\n",
    "train_B_over_logs = glob.glob(train_B_over_logs + \"/**/*.txt\", recursive = True)\n",
    "train_C_over_logs = glob.glob(train_C_over_logs + \"/**/*.txt\", recursive = True)\n",
    "\n",
    "train_A_over_ganaug_025_logs = glob.glob(train_A_over_ganaug_025_logs + \"/**/*.txt\", recursive = True)\n",
    "train_A_over_ganaug_050_logs = glob.glob(train_A_over_ganaug_050_logs + \"/**/*.txt\", recursive = True)"
   ]
  },
  {
   "cell_type": "code",
   "execution_count": 4,
   "metadata": {},
   "outputs": [],
   "source": [
    "def logs2df(logs, iteration = None):\n",
    "    df_iterations = pd.DataFrame()\n",
    "    last_iteration = -1\n",
    "    for log in logs:\n",
    "        df = pd.read_csv(log)\n",
    "        df = df.drop(columns = [\"Unnamed: 12\"])\n",
    "        df[\"Iteration\"] = last_iteration if log.split(\"_model_\")[-1].split(\"_\")[0] == \"final\" else int(log.split(\"_model_\")[-1].split(\"_\")[0])\n",
    "        df_iterations = pd.concat([df_iterations, df], axis = 0)\n",
    "        df_iterations = df_iterations.reset_index(drop = True)\n",
    "        last_iteration = df[\"Iteration\"]\n",
    "    df_iterations = df_iterations.sort_values(by = ['Iteration']).reset_index(drop = True)\n",
    "    if iteration is not None:\n",
    "        df_iterations = df_iterations.loc[df_iterations.Iteration == iteration].drop_duplicates([\"Iteration\"], keep = \"last\").reset_index(drop = True)\n",
    "    df_iterations = df_iterations.set_index(\"Iteration\")\n",
    "    return df_iterations"
   ]
  },
  {
   "cell_type": "markdown",
   "metadata": {},
   "source": [
    "## Best iterations ##"
   ]
  },
  {
   "cell_type": "markdown",
   "metadata": {},
   "source": [
    "### train_A_over ###"
   ]
  },
  {
   "cell_type": "code",
   "execution_count": 5,
   "metadata": {},
   "outputs": [
    {
     "data": {
      "text/html": [
       "<div>\n",
       "<style scoped>\n",
       "    .dataframe tbody tr th:only-of-type {\n",
       "        vertical-align: middle;\n",
       "    }\n",
       "\n",
       "    .dataframe tbody tr th {\n",
       "        vertical-align: top;\n",
       "    }\n",
       "\n",
       "    .dataframe thead th {\n",
       "        text-align: right;\n",
       "    }\n",
       "</style>\n",
       "<table border=\"1\" class=\"dataframe\">\n",
       "  <thead>\n",
       "    <tr style=\"text-align: right;\">\n",
       "      <th></th>\n",
       "      <th>AP</th>\n",
       "      <th>AP50</th>\n",
       "      <th>AP75</th>\n",
       "      <th>APs</th>\n",
       "      <th>APm</th>\n",
       "      <th>APl</th>\n",
       "      <th>AR@1</th>\n",
       "      <th>AR@10</th>\n",
       "      <th>AR</th>\n",
       "      <th>ARs</th>\n",
       "      <th>ARm</th>\n",
       "      <th>ARl</th>\n",
       "    </tr>\n",
       "    <tr>\n",
       "      <th>Iteration</th>\n",
       "      <th></th>\n",
       "      <th></th>\n",
       "      <th></th>\n",
       "      <th></th>\n",
       "      <th></th>\n",
       "      <th></th>\n",
       "      <th></th>\n",
       "      <th></th>\n",
       "      <th></th>\n",
       "      <th></th>\n",
       "      <th></th>\n",
       "      <th></th>\n",
       "    </tr>\n",
       "  </thead>\n",
       "  <tbody>\n",
       "    <tr>\n",
       "      <th>240000</th>\n",
       "      <td>0.217384</td>\n",
       "      <td>0.504283</td>\n",
       "      <td>0.159318</td>\n",
       "      <td>0.11377</td>\n",
       "      <td>0.311071</td>\n",
       "      <td>0.411823</td>\n",
       "      <td>0.08705</td>\n",
       "      <td>0.291557</td>\n",
       "      <td>0.326512</td>\n",
       "      <td>0.242439</td>\n",
       "      <td>0.409271</td>\n",
       "      <td>0.459699</td>\n",
       "    </tr>\n",
       "  </tbody>\n",
       "</table>\n",
       "</div>"
      ],
      "text/plain": [
       "                 AP      AP50      AP75      APs       APm       APl     AR@1  \\\n",
       "Iteration                                                                       \n",
       "240000     0.217384  0.504283  0.159318  0.11377  0.311071  0.411823  0.08705   \n",
       "\n",
       "              AR@10        AR       ARs       ARm       ARl  \n",
       "Iteration                                                    \n",
       "240000     0.291557  0.326512  0.242439  0.409271  0.459699  "
      ]
     },
     "execution_count": 5,
     "metadata": {},
     "output_type": "execute_result"
    }
   ],
   "source": [
    "df_train_A_over = logs2df(train_A_over_logs, iteration)\n",
    "df_train_A_over.head(1)"
   ]
  },
  {
   "cell_type": "code",
   "execution_count": 6,
   "metadata": {},
   "outputs": [
    {
     "data": {
      "text/html": [
       "<div>\n",
       "<style scoped>\n",
       "    .dataframe tbody tr th:only-of-type {\n",
       "        vertical-align: middle;\n",
       "    }\n",
       "\n",
       "    .dataframe tbody tr th {\n",
       "        vertical-align: top;\n",
       "    }\n",
       "\n",
       "    .dataframe thead th {\n",
       "        text-align: right;\n",
       "    }\n",
       "</style>\n",
       "<table border=\"1\" class=\"dataframe\">\n",
       "  <thead>\n",
       "    <tr style=\"text-align: right;\">\n",
       "      <th></th>\n",
       "      <th>AP</th>\n",
       "      <th>AP50</th>\n",
       "      <th>AP75</th>\n",
       "      <th>APs</th>\n",
       "      <th>APm</th>\n",
       "      <th>APl</th>\n",
       "      <th>AR@1</th>\n",
       "      <th>AR@10</th>\n",
       "      <th>AR</th>\n",
       "      <th>ARs</th>\n",
       "      <th>ARm</th>\n",
       "      <th>ARl</th>\n",
       "    </tr>\n",
       "  </thead>\n",
       "  <tbody>\n",
       "    <tr>\n",
       "      <th>0</th>\n",
       "      <td>240000</td>\n",
       "      <td>240000</td>\n",
       "      <td>240000</td>\n",
       "      <td>240000</td>\n",
       "      <td>240000</td>\n",
       "      <td>240000</td>\n",
       "      <td>240000</td>\n",
       "      <td>240000</td>\n",
       "      <td>240000</td>\n",
       "      <td>240000</td>\n",
       "      <td>240000</td>\n",
       "      <td>240000</td>\n",
       "    </tr>\n",
       "  </tbody>\n",
       "</table>\n",
       "</div>"
      ],
      "text/plain": [
       "       AP    AP50    AP75     APs     APm     APl    AR@1   AR@10      AR  \\\n",
       "0  240000  240000  240000  240000  240000  240000  240000  240000  240000   \n",
       "\n",
       "      ARs     ARm     ARl  \n",
       "0  240000  240000  240000  "
      ]
     },
     "execution_count": 6,
     "metadata": {},
     "output_type": "execute_result"
    }
   ],
   "source": [
    "df_train_A_over_best_iter_per_metric = df_train_A_over.idxmax().to_frame().T\n",
    "df_train_A_over_best_iter_per_metric.head(1)"
   ]
  },
  {
   "cell_type": "code",
   "execution_count": 7,
   "metadata": {},
   "outputs": [
    {
     "data": {
      "text/html": [
       "<div>\n",
       "<style scoped>\n",
       "    .dataframe tbody tr th:only-of-type {\n",
       "        vertical-align: middle;\n",
       "    }\n",
       "\n",
       "    .dataframe tbody tr th {\n",
       "        vertical-align: top;\n",
       "    }\n",
       "\n",
       "    .dataframe thead th {\n",
       "        text-align: right;\n",
       "    }\n",
       "</style>\n",
       "<table border=\"1\" class=\"dataframe\">\n",
       "  <thead>\n",
       "    <tr style=\"text-align: right;\">\n",
       "      <th></th>\n",
       "      <th>AP</th>\n",
       "      <th>AP50</th>\n",
       "      <th>AP75</th>\n",
       "      <th>APs</th>\n",
       "      <th>APm</th>\n",
       "      <th>APl</th>\n",
       "      <th>AR@1</th>\n",
       "      <th>AR@10</th>\n",
       "      <th>AR</th>\n",
       "      <th>ARs</th>\n",
       "      <th>ARm</th>\n",
       "      <th>ARl</th>\n",
       "    </tr>\n",
       "  </thead>\n",
       "  <tbody>\n",
       "    <tr>\n",
       "      <th>0</th>\n",
       "      <td>0.217384</td>\n",
       "      <td>0.504283</td>\n",
       "      <td>0.159318</td>\n",
       "      <td>0.11377</td>\n",
       "      <td>0.311071</td>\n",
       "      <td>0.411823</td>\n",
       "      <td>0.08705</td>\n",
       "      <td>0.291557</td>\n",
       "      <td>0.326512</td>\n",
       "      <td>0.242439</td>\n",
       "      <td>0.409271</td>\n",
       "      <td>0.459699</td>\n",
       "    </tr>\n",
       "  </tbody>\n",
       "</table>\n",
       "</div>"
      ],
      "text/plain": [
       "         AP      AP50      AP75      APs       APm       APl     AR@1  \\\n",
       "0  0.217384  0.504283  0.159318  0.11377  0.311071  0.411823  0.08705   \n",
       "\n",
       "      AR@10        AR       ARs       ARm       ARl  \n",
       "0  0.291557  0.326512  0.242439  0.409271  0.459699  "
      ]
     },
     "execution_count": 7,
     "metadata": {},
     "output_type": "execute_result"
    }
   ],
   "source": [
    "df_train_A_over_best_val_per_metric = df_train_A_over.max().to_frame().T\n",
    "df_train_A_over_best_val_per_metric.head(1)"
   ]
  },
  {
   "cell_type": "markdown",
   "metadata": {},
   "source": [
    "### train_B_over ###"
   ]
  },
  {
   "cell_type": "code",
   "execution_count": 8,
   "metadata": {},
   "outputs": [
    {
     "data": {
      "text/html": [
       "<div>\n",
       "<style scoped>\n",
       "    .dataframe tbody tr th:only-of-type {\n",
       "        vertical-align: middle;\n",
       "    }\n",
       "\n",
       "    .dataframe tbody tr th {\n",
       "        vertical-align: top;\n",
       "    }\n",
       "\n",
       "    .dataframe thead th {\n",
       "        text-align: right;\n",
       "    }\n",
       "</style>\n",
       "<table border=\"1\" class=\"dataframe\">\n",
       "  <thead>\n",
       "    <tr style=\"text-align: right;\">\n",
       "      <th></th>\n",
       "      <th>AP</th>\n",
       "      <th>AP50</th>\n",
       "      <th>AP75</th>\n",
       "      <th>APs</th>\n",
       "      <th>APm</th>\n",
       "      <th>APl</th>\n",
       "      <th>AR@1</th>\n",
       "      <th>AR@10</th>\n",
       "      <th>AR</th>\n",
       "      <th>ARs</th>\n",
       "      <th>ARm</th>\n",
       "      <th>ARl</th>\n",
       "    </tr>\n",
       "    <tr>\n",
       "      <th>Iteration</th>\n",
       "      <th></th>\n",
       "      <th></th>\n",
       "      <th></th>\n",
       "      <th></th>\n",
       "      <th></th>\n",
       "      <th></th>\n",
       "      <th></th>\n",
       "      <th></th>\n",
       "      <th></th>\n",
       "      <th></th>\n",
       "      <th></th>\n",
       "      <th></th>\n",
       "    </tr>\n",
       "  </thead>\n",
       "  <tbody>\n",
       "    <tr>\n",
       "      <th>240000</th>\n",
       "      <td>0.239441</td>\n",
       "      <td>0.552492</td>\n",
       "      <td>0.173887</td>\n",
       "      <td>0.132509</td>\n",
       "      <td>0.339021</td>\n",
       "      <td>0.432102</td>\n",
       "      <td>0.091567</td>\n",
       "      <td>0.316092</td>\n",
       "      <td>0.349876</td>\n",
       "      <td>0.261464</td>\n",
       "      <td>0.443101</td>\n",
       "      <td>0.47039</td>\n",
       "    </tr>\n",
       "  </tbody>\n",
       "</table>\n",
       "</div>"
      ],
      "text/plain": [
       "                 AP      AP50      AP75       APs       APm       APl  \\\n",
       "Iteration                                                               \n",
       "240000     0.239441  0.552492  0.173887  0.132509  0.339021  0.432102   \n",
       "\n",
       "               AR@1     AR@10        AR       ARs       ARm      ARl  \n",
       "Iteration                                                             \n",
       "240000     0.091567  0.316092  0.349876  0.261464  0.443101  0.47039  "
      ]
     },
     "execution_count": 8,
     "metadata": {},
     "output_type": "execute_result"
    }
   ],
   "source": [
    "df_train_B_over = logs2df(train_B_over_logs, iteration)\n",
    "df_train_B_over.head(1)"
   ]
  },
  {
   "cell_type": "code",
   "execution_count": 9,
   "metadata": {},
   "outputs": [
    {
     "data": {
      "text/html": [
       "<div>\n",
       "<style scoped>\n",
       "    .dataframe tbody tr th:only-of-type {\n",
       "        vertical-align: middle;\n",
       "    }\n",
       "\n",
       "    .dataframe tbody tr th {\n",
       "        vertical-align: top;\n",
       "    }\n",
       "\n",
       "    .dataframe thead th {\n",
       "        text-align: right;\n",
       "    }\n",
       "</style>\n",
       "<table border=\"1\" class=\"dataframe\">\n",
       "  <thead>\n",
       "    <tr style=\"text-align: right;\">\n",
       "      <th></th>\n",
       "      <th>AP</th>\n",
       "      <th>AP50</th>\n",
       "      <th>AP75</th>\n",
       "      <th>APs</th>\n",
       "      <th>APm</th>\n",
       "      <th>APl</th>\n",
       "      <th>AR@1</th>\n",
       "      <th>AR@10</th>\n",
       "      <th>AR</th>\n",
       "      <th>ARs</th>\n",
       "      <th>ARm</th>\n",
       "      <th>ARl</th>\n",
       "    </tr>\n",
       "  </thead>\n",
       "  <tbody>\n",
       "    <tr>\n",
       "      <th>0</th>\n",
       "      <td>240000</td>\n",
       "      <td>240000</td>\n",
       "      <td>240000</td>\n",
       "      <td>240000</td>\n",
       "      <td>240000</td>\n",
       "      <td>240000</td>\n",
       "      <td>240000</td>\n",
       "      <td>240000</td>\n",
       "      <td>240000</td>\n",
       "      <td>240000</td>\n",
       "      <td>240000</td>\n",
       "      <td>240000</td>\n",
       "    </tr>\n",
       "  </tbody>\n",
       "</table>\n",
       "</div>"
      ],
      "text/plain": [
       "       AP    AP50    AP75     APs     APm     APl    AR@1   AR@10      AR  \\\n",
       "0  240000  240000  240000  240000  240000  240000  240000  240000  240000   \n",
       "\n",
       "      ARs     ARm     ARl  \n",
       "0  240000  240000  240000  "
      ]
     },
     "execution_count": 9,
     "metadata": {},
     "output_type": "execute_result"
    }
   ],
   "source": [
    "df_train_B_over_best_iter_per_metric = df_train_B_over.idxmax().to_frame().T\n",
    "df_train_B_over_best_iter_per_metric.head(1)"
   ]
  },
  {
   "cell_type": "code",
   "execution_count": 10,
   "metadata": {},
   "outputs": [
    {
     "data": {
      "text/html": [
       "<div>\n",
       "<style scoped>\n",
       "    .dataframe tbody tr th:only-of-type {\n",
       "        vertical-align: middle;\n",
       "    }\n",
       "\n",
       "    .dataframe tbody tr th {\n",
       "        vertical-align: top;\n",
       "    }\n",
       "\n",
       "    .dataframe thead th {\n",
       "        text-align: right;\n",
       "    }\n",
       "</style>\n",
       "<table border=\"1\" class=\"dataframe\">\n",
       "  <thead>\n",
       "    <tr style=\"text-align: right;\">\n",
       "      <th></th>\n",
       "      <th>AP</th>\n",
       "      <th>AP50</th>\n",
       "      <th>AP75</th>\n",
       "      <th>APs</th>\n",
       "      <th>APm</th>\n",
       "      <th>APl</th>\n",
       "      <th>AR@1</th>\n",
       "      <th>AR@10</th>\n",
       "      <th>AR</th>\n",
       "      <th>ARs</th>\n",
       "      <th>ARm</th>\n",
       "      <th>ARl</th>\n",
       "    </tr>\n",
       "  </thead>\n",
       "  <tbody>\n",
       "    <tr>\n",
       "      <th>0</th>\n",
       "      <td>0.239441</td>\n",
       "      <td>0.552492</td>\n",
       "      <td>0.173887</td>\n",
       "      <td>0.132509</td>\n",
       "      <td>0.339021</td>\n",
       "      <td>0.432102</td>\n",
       "      <td>0.091567</td>\n",
       "      <td>0.316092</td>\n",
       "      <td>0.349876</td>\n",
       "      <td>0.261464</td>\n",
       "      <td>0.443101</td>\n",
       "      <td>0.47039</td>\n",
       "    </tr>\n",
       "  </tbody>\n",
       "</table>\n",
       "</div>"
      ],
      "text/plain": [
       "         AP      AP50      AP75       APs       APm       APl      AR@1  \\\n",
       "0  0.239441  0.552492  0.173887  0.132509  0.339021  0.432102  0.091567   \n",
       "\n",
       "      AR@10        AR       ARs       ARm      ARl  \n",
       "0  0.316092  0.349876  0.261464  0.443101  0.47039  "
      ]
     },
     "execution_count": 10,
     "metadata": {},
     "output_type": "execute_result"
    }
   ],
   "source": [
    "df_train_B_over_best_val_per_metric = df_train_B_over.max().to_frame().T\n",
    "df_train_B_over_best_val_per_metric.head(1)"
   ]
  },
  {
   "cell_type": "markdown",
   "metadata": {},
   "source": [
    "### train_C_over ###"
   ]
  },
  {
   "cell_type": "code",
   "execution_count": 11,
   "metadata": {},
   "outputs": [
    {
     "data": {
      "text/html": [
       "<div>\n",
       "<style scoped>\n",
       "    .dataframe tbody tr th:only-of-type {\n",
       "        vertical-align: middle;\n",
       "    }\n",
       "\n",
       "    .dataframe tbody tr th {\n",
       "        vertical-align: top;\n",
       "    }\n",
       "\n",
       "    .dataframe thead th {\n",
       "        text-align: right;\n",
       "    }\n",
       "</style>\n",
       "<table border=\"1\" class=\"dataframe\">\n",
       "  <thead>\n",
       "    <tr style=\"text-align: right;\">\n",
       "      <th></th>\n",
       "      <th>AP</th>\n",
       "      <th>AP50</th>\n",
       "      <th>AP75</th>\n",
       "      <th>APs</th>\n",
       "      <th>APm</th>\n",
       "      <th>APl</th>\n",
       "      <th>AR@1</th>\n",
       "      <th>AR@10</th>\n",
       "      <th>AR</th>\n",
       "      <th>ARs</th>\n",
       "      <th>ARm</th>\n",
       "      <th>ARl</th>\n",
       "    </tr>\n",
       "    <tr>\n",
       "      <th>Iteration</th>\n",
       "      <th></th>\n",
       "      <th></th>\n",
       "      <th></th>\n",
       "      <th></th>\n",
       "      <th></th>\n",
       "      <th></th>\n",
       "      <th></th>\n",
       "      <th></th>\n",
       "      <th></th>\n",
       "      <th></th>\n",
       "      <th></th>\n",
       "      <th></th>\n",
       "    </tr>\n",
       "  </thead>\n",
       "  <tbody>\n",
       "    <tr>\n",
       "      <th>240000</th>\n",
       "      <td>0.241156</td>\n",
       "      <td>0.558508</td>\n",
       "      <td>0.177142</td>\n",
       "      <td>0.131712</td>\n",
       "      <td>0.343208</td>\n",
       "      <td>0.436355</td>\n",
       "      <td>0.090854</td>\n",
       "      <td>0.316472</td>\n",
       "      <td>0.350336</td>\n",
       "      <td>0.26081</td>\n",
       "      <td>0.440978</td>\n",
       "      <td>0.484002</td>\n",
       "    </tr>\n",
       "  </tbody>\n",
       "</table>\n",
       "</div>"
      ],
      "text/plain": [
       "                 AP      AP50      AP75       APs       APm       APl  \\\n",
       "Iteration                                                               \n",
       "240000     0.241156  0.558508  0.177142  0.131712  0.343208  0.436355   \n",
       "\n",
       "               AR@1     AR@10        AR      ARs       ARm       ARl  \n",
       "Iteration                                                             \n",
       "240000     0.090854  0.316472  0.350336  0.26081  0.440978  0.484002  "
      ]
     },
     "execution_count": 11,
     "metadata": {},
     "output_type": "execute_result"
    }
   ],
   "source": [
    "df_train_C_over = logs2df(train_C_over_logs, iteration)\n",
    "df_train_C_over.head(1)"
   ]
  },
  {
   "cell_type": "code",
   "execution_count": 12,
   "metadata": {},
   "outputs": [
    {
     "data": {
      "text/html": [
       "<div>\n",
       "<style scoped>\n",
       "    .dataframe tbody tr th:only-of-type {\n",
       "        vertical-align: middle;\n",
       "    }\n",
       "\n",
       "    .dataframe tbody tr th {\n",
       "        vertical-align: top;\n",
       "    }\n",
       "\n",
       "    .dataframe thead th {\n",
       "        text-align: right;\n",
       "    }\n",
       "</style>\n",
       "<table border=\"1\" class=\"dataframe\">\n",
       "  <thead>\n",
       "    <tr style=\"text-align: right;\">\n",
       "      <th></th>\n",
       "      <th>AP</th>\n",
       "      <th>AP50</th>\n",
       "      <th>AP75</th>\n",
       "      <th>APs</th>\n",
       "      <th>APm</th>\n",
       "      <th>APl</th>\n",
       "      <th>AR@1</th>\n",
       "      <th>AR@10</th>\n",
       "      <th>AR</th>\n",
       "      <th>ARs</th>\n",
       "      <th>ARm</th>\n",
       "      <th>ARl</th>\n",
       "    </tr>\n",
       "  </thead>\n",
       "  <tbody>\n",
       "    <tr>\n",
       "      <th>0</th>\n",
       "      <td>240000</td>\n",
       "      <td>240000</td>\n",
       "      <td>240000</td>\n",
       "      <td>240000</td>\n",
       "      <td>240000</td>\n",
       "      <td>240000</td>\n",
       "      <td>240000</td>\n",
       "      <td>240000</td>\n",
       "      <td>240000</td>\n",
       "      <td>240000</td>\n",
       "      <td>240000</td>\n",
       "      <td>240000</td>\n",
       "    </tr>\n",
       "  </tbody>\n",
       "</table>\n",
       "</div>"
      ],
      "text/plain": [
       "       AP    AP50    AP75     APs     APm     APl    AR@1   AR@10      AR  \\\n",
       "0  240000  240000  240000  240000  240000  240000  240000  240000  240000   \n",
       "\n",
       "      ARs     ARm     ARl  \n",
       "0  240000  240000  240000  "
      ]
     },
     "execution_count": 12,
     "metadata": {},
     "output_type": "execute_result"
    }
   ],
   "source": [
    "df_train_C_over_best_iter_per_metric = df_train_C_over.idxmax().to_frame().T\n",
    "df_train_C_over_best_iter_per_metric.head(1)"
   ]
  },
  {
   "cell_type": "code",
   "execution_count": 13,
   "metadata": {},
   "outputs": [
    {
     "data": {
      "text/html": [
       "<div>\n",
       "<style scoped>\n",
       "    .dataframe tbody tr th:only-of-type {\n",
       "        vertical-align: middle;\n",
       "    }\n",
       "\n",
       "    .dataframe tbody tr th {\n",
       "        vertical-align: top;\n",
       "    }\n",
       "\n",
       "    .dataframe thead th {\n",
       "        text-align: right;\n",
       "    }\n",
       "</style>\n",
       "<table border=\"1\" class=\"dataframe\">\n",
       "  <thead>\n",
       "    <tr style=\"text-align: right;\">\n",
       "      <th></th>\n",
       "      <th>AP</th>\n",
       "      <th>AP50</th>\n",
       "      <th>AP75</th>\n",
       "      <th>APs</th>\n",
       "      <th>APm</th>\n",
       "      <th>APl</th>\n",
       "      <th>AR@1</th>\n",
       "      <th>AR@10</th>\n",
       "      <th>AR</th>\n",
       "      <th>ARs</th>\n",
       "      <th>ARm</th>\n",
       "      <th>ARl</th>\n",
       "    </tr>\n",
       "  </thead>\n",
       "  <tbody>\n",
       "    <tr>\n",
       "      <th>0</th>\n",
       "      <td>0.241156</td>\n",
       "      <td>0.558508</td>\n",
       "      <td>0.177142</td>\n",
       "      <td>0.131712</td>\n",
       "      <td>0.343208</td>\n",
       "      <td>0.436355</td>\n",
       "      <td>0.090854</td>\n",
       "      <td>0.316472</td>\n",
       "      <td>0.350336</td>\n",
       "      <td>0.26081</td>\n",
       "      <td>0.440978</td>\n",
       "      <td>0.484002</td>\n",
       "    </tr>\n",
       "  </tbody>\n",
       "</table>\n",
       "</div>"
      ],
      "text/plain": [
       "         AP      AP50      AP75       APs       APm       APl      AR@1  \\\n",
       "0  0.241156  0.558508  0.177142  0.131712  0.343208  0.436355  0.090854   \n",
       "\n",
       "      AR@10        AR      ARs       ARm       ARl  \n",
       "0  0.316472  0.350336  0.26081  0.440978  0.484002  "
      ]
     },
     "execution_count": 13,
     "metadata": {},
     "output_type": "execute_result"
    }
   ],
   "source": [
    "df_train_C_over_best_val_per_metric = df_train_C_over.max().to_frame().T\n",
    "df_train_C_over_best_val_per_metric.head(1)"
   ]
  },
  {
   "cell_type": "markdown",
   "metadata": {},
   "source": [
    "### train_A_over_ganaug_025 ###"
   ]
  },
  {
   "cell_type": "code",
   "execution_count": 14,
   "metadata": {},
   "outputs": [
    {
     "data": {
      "text/html": [
       "<div>\n",
       "<style scoped>\n",
       "    .dataframe tbody tr th:only-of-type {\n",
       "        vertical-align: middle;\n",
       "    }\n",
       "\n",
       "    .dataframe tbody tr th {\n",
       "        vertical-align: top;\n",
       "    }\n",
       "\n",
       "    .dataframe thead th {\n",
       "        text-align: right;\n",
       "    }\n",
       "</style>\n",
       "<table border=\"1\" class=\"dataframe\">\n",
       "  <thead>\n",
       "    <tr style=\"text-align: right;\">\n",
       "      <th></th>\n",
       "      <th>AP</th>\n",
       "      <th>AP50</th>\n",
       "      <th>AP75</th>\n",
       "      <th>APs</th>\n",
       "      <th>APm</th>\n",
       "      <th>APl</th>\n",
       "      <th>AR@1</th>\n",
       "      <th>AR@10</th>\n",
       "      <th>AR</th>\n",
       "      <th>ARs</th>\n",
       "      <th>ARm</th>\n",
       "      <th>ARl</th>\n",
       "    </tr>\n",
       "    <tr>\n",
       "      <th>Iteration</th>\n",
       "      <th></th>\n",
       "      <th></th>\n",
       "      <th></th>\n",
       "      <th></th>\n",
       "      <th></th>\n",
       "      <th></th>\n",
       "      <th></th>\n",
       "      <th></th>\n",
       "      <th></th>\n",
       "      <th></th>\n",
       "      <th></th>\n",
       "      <th></th>\n",
       "    </tr>\n",
       "  </thead>\n",
       "  <tbody>\n",
       "    <tr>\n",
       "      <th>240000</th>\n",
       "      <td>0.206325</td>\n",
       "      <td>0.471432</td>\n",
       "      <td>0.158905</td>\n",
       "      <td>0.099911</td>\n",
       "      <td>0.302659</td>\n",
       "      <td>0.410264</td>\n",
       "      <td>0.082481</td>\n",
       "      <td>0.282578</td>\n",
       "      <td>0.316502</td>\n",
       "      <td>0.227733</td>\n",
       "      <td>0.403745</td>\n",
       "      <td>0.461439</td>\n",
       "    </tr>\n",
       "  </tbody>\n",
       "</table>\n",
       "</div>"
      ],
      "text/plain": [
       "                 AP      AP50      AP75       APs       APm       APl  \\\n",
       "Iteration                                                               \n",
       "240000     0.206325  0.471432  0.158905  0.099911  0.302659  0.410264   \n",
       "\n",
       "               AR@1     AR@10        AR       ARs       ARm       ARl  \n",
       "Iteration                                                              \n",
       "240000     0.082481  0.282578  0.316502  0.227733  0.403745  0.461439  "
      ]
     },
     "execution_count": 14,
     "metadata": {},
     "output_type": "execute_result"
    }
   ],
   "source": [
    "df_train_A_over_ganaug_025 = logs2df(train_A_over_ganaug_025_logs, iteration)\n",
    "df_train_A_over_ganaug_025.head(1)"
   ]
  },
  {
   "cell_type": "code",
   "execution_count": 15,
   "metadata": {},
   "outputs": [
    {
     "data": {
      "text/html": [
       "<div>\n",
       "<style scoped>\n",
       "    .dataframe tbody tr th:only-of-type {\n",
       "        vertical-align: middle;\n",
       "    }\n",
       "\n",
       "    .dataframe tbody tr th {\n",
       "        vertical-align: top;\n",
       "    }\n",
       "\n",
       "    .dataframe thead th {\n",
       "        text-align: right;\n",
       "    }\n",
       "</style>\n",
       "<table border=\"1\" class=\"dataframe\">\n",
       "  <thead>\n",
       "    <tr style=\"text-align: right;\">\n",
       "      <th></th>\n",
       "      <th>AP</th>\n",
       "      <th>AP50</th>\n",
       "      <th>AP75</th>\n",
       "      <th>APs</th>\n",
       "      <th>APm</th>\n",
       "      <th>APl</th>\n",
       "      <th>AR@1</th>\n",
       "      <th>AR@10</th>\n",
       "      <th>AR</th>\n",
       "      <th>ARs</th>\n",
       "      <th>ARm</th>\n",
       "      <th>ARl</th>\n",
       "    </tr>\n",
       "  </thead>\n",
       "  <tbody>\n",
       "    <tr>\n",
       "      <th>0</th>\n",
       "      <td>240000</td>\n",
       "      <td>240000</td>\n",
       "      <td>240000</td>\n",
       "      <td>240000</td>\n",
       "      <td>240000</td>\n",
       "      <td>240000</td>\n",
       "      <td>240000</td>\n",
       "      <td>240000</td>\n",
       "      <td>240000</td>\n",
       "      <td>240000</td>\n",
       "      <td>240000</td>\n",
       "      <td>240000</td>\n",
       "    </tr>\n",
       "  </tbody>\n",
       "</table>\n",
       "</div>"
      ],
      "text/plain": [
       "       AP    AP50    AP75     APs     APm     APl    AR@1   AR@10      AR  \\\n",
       "0  240000  240000  240000  240000  240000  240000  240000  240000  240000   \n",
       "\n",
       "      ARs     ARm     ARl  \n",
       "0  240000  240000  240000  "
      ]
     },
     "execution_count": 15,
     "metadata": {},
     "output_type": "execute_result"
    }
   ],
   "source": [
    "df_train_A_over_ganaug_025_best_iter_per_metric = df_train_A_over_ganaug_025.idxmax().to_frame().T\n",
    "df_train_A_over_ganaug_025_best_iter_per_metric.head(1)"
   ]
  },
  {
   "cell_type": "code",
   "execution_count": 16,
   "metadata": {},
   "outputs": [
    {
     "data": {
      "text/html": [
       "<div>\n",
       "<style scoped>\n",
       "    .dataframe tbody tr th:only-of-type {\n",
       "        vertical-align: middle;\n",
       "    }\n",
       "\n",
       "    .dataframe tbody tr th {\n",
       "        vertical-align: top;\n",
       "    }\n",
       "\n",
       "    .dataframe thead th {\n",
       "        text-align: right;\n",
       "    }\n",
       "</style>\n",
       "<table border=\"1\" class=\"dataframe\">\n",
       "  <thead>\n",
       "    <tr style=\"text-align: right;\">\n",
       "      <th></th>\n",
       "      <th>AP</th>\n",
       "      <th>AP50</th>\n",
       "      <th>AP75</th>\n",
       "      <th>APs</th>\n",
       "      <th>APm</th>\n",
       "      <th>APl</th>\n",
       "      <th>AR@1</th>\n",
       "      <th>AR@10</th>\n",
       "      <th>AR</th>\n",
       "      <th>ARs</th>\n",
       "      <th>ARm</th>\n",
       "      <th>ARl</th>\n",
       "    </tr>\n",
       "  </thead>\n",
       "  <tbody>\n",
       "    <tr>\n",
       "      <th>0</th>\n",
       "      <td>0.206325</td>\n",
       "      <td>0.471432</td>\n",
       "      <td>0.158905</td>\n",
       "      <td>0.099911</td>\n",
       "      <td>0.302659</td>\n",
       "      <td>0.410264</td>\n",
       "      <td>0.082481</td>\n",
       "      <td>0.282578</td>\n",
       "      <td>0.316502</td>\n",
       "      <td>0.227733</td>\n",
       "      <td>0.403745</td>\n",
       "      <td>0.461439</td>\n",
       "    </tr>\n",
       "  </tbody>\n",
       "</table>\n",
       "</div>"
      ],
      "text/plain": [
       "         AP      AP50      AP75       APs       APm       APl      AR@1  \\\n",
       "0  0.206325  0.471432  0.158905  0.099911  0.302659  0.410264  0.082481   \n",
       "\n",
       "      AR@10        AR       ARs       ARm       ARl  \n",
       "0  0.282578  0.316502  0.227733  0.403745  0.461439  "
      ]
     },
     "execution_count": 16,
     "metadata": {},
     "output_type": "execute_result"
    }
   ],
   "source": [
    "df_train_A_over_ganaug_025_best_val_per_metric = df_train_A_over_ganaug_025.max().to_frame().T\n",
    "df_train_A_over_ganaug_025_best_val_per_metric.head(1)"
   ]
  },
  {
   "cell_type": "markdown",
   "metadata": {},
   "source": [
    "### train_A_over_ganaug_050 ###"
   ]
  },
  {
   "cell_type": "code",
   "execution_count": 17,
   "metadata": {},
   "outputs": [
    {
     "data": {
      "text/html": [
       "<div>\n",
       "<style scoped>\n",
       "    .dataframe tbody tr th:only-of-type {\n",
       "        vertical-align: middle;\n",
       "    }\n",
       "\n",
       "    .dataframe tbody tr th {\n",
       "        vertical-align: top;\n",
       "    }\n",
       "\n",
       "    .dataframe thead th {\n",
       "        text-align: right;\n",
       "    }\n",
       "</style>\n",
       "<table border=\"1\" class=\"dataframe\">\n",
       "  <thead>\n",
       "    <tr style=\"text-align: right;\">\n",
       "      <th></th>\n",
       "      <th>AP</th>\n",
       "      <th>AP50</th>\n",
       "      <th>AP75</th>\n",
       "      <th>APs</th>\n",
       "      <th>APm</th>\n",
       "      <th>APl</th>\n",
       "      <th>AR@1</th>\n",
       "      <th>AR@10</th>\n",
       "      <th>AR</th>\n",
       "      <th>ARs</th>\n",
       "      <th>ARm</th>\n",
       "      <th>ARl</th>\n",
       "    </tr>\n",
       "    <tr>\n",
       "      <th>Iteration</th>\n",
       "      <th></th>\n",
       "      <th></th>\n",
       "      <th></th>\n",
       "      <th></th>\n",
       "      <th></th>\n",
       "      <th></th>\n",
       "      <th></th>\n",
       "      <th></th>\n",
       "      <th></th>\n",
       "      <th></th>\n",
       "      <th></th>\n",
       "      <th></th>\n",
       "    </tr>\n",
       "  </thead>\n",
       "  <tbody>\n",
       "    <tr>\n",
       "      <th>240000</th>\n",
       "      <td>0.202469</td>\n",
       "      <td>0.452334</td>\n",
       "      <td>0.159172</td>\n",
       "      <td>0.098014</td>\n",
       "      <td>0.300198</td>\n",
       "      <td>0.440411</td>\n",
       "      <td>0.082052</td>\n",
       "      <td>0.277477</td>\n",
       "      <td>0.314571</td>\n",
       "      <td>0.224554</td>\n",
       "      <td>0.405783</td>\n",
       "      <td>0.490018</td>\n",
       "    </tr>\n",
       "  </tbody>\n",
       "</table>\n",
       "</div>"
      ],
      "text/plain": [
       "                 AP      AP50      AP75       APs       APm       APl  \\\n",
       "Iteration                                                               \n",
       "240000     0.202469  0.452334  0.159172  0.098014  0.300198  0.440411   \n",
       "\n",
       "               AR@1     AR@10        AR       ARs       ARm       ARl  \n",
       "Iteration                                                              \n",
       "240000     0.082052  0.277477  0.314571  0.224554  0.405783  0.490018  "
      ]
     },
     "execution_count": 17,
     "metadata": {},
     "output_type": "execute_result"
    }
   ],
   "source": [
    "df_train_A_over_ganaug_050 = logs2df(train_A_over_ganaug_050_logs, iteration)\n",
    "df_train_A_over_ganaug_050.head(1)"
   ]
  },
  {
   "cell_type": "code",
   "execution_count": 18,
   "metadata": {},
   "outputs": [
    {
     "data": {
      "text/html": [
       "<div>\n",
       "<style scoped>\n",
       "    .dataframe tbody tr th:only-of-type {\n",
       "        vertical-align: middle;\n",
       "    }\n",
       "\n",
       "    .dataframe tbody tr th {\n",
       "        vertical-align: top;\n",
       "    }\n",
       "\n",
       "    .dataframe thead th {\n",
       "        text-align: right;\n",
       "    }\n",
       "</style>\n",
       "<table border=\"1\" class=\"dataframe\">\n",
       "  <thead>\n",
       "    <tr style=\"text-align: right;\">\n",
       "      <th></th>\n",
       "      <th>AP</th>\n",
       "      <th>AP50</th>\n",
       "      <th>AP75</th>\n",
       "      <th>APs</th>\n",
       "      <th>APm</th>\n",
       "      <th>APl</th>\n",
       "      <th>AR@1</th>\n",
       "      <th>AR@10</th>\n",
       "      <th>AR</th>\n",
       "      <th>ARs</th>\n",
       "      <th>ARm</th>\n",
       "      <th>ARl</th>\n",
       "    </tr>\n",
       "  </thead>\n",
       "  <tbody>\n",
       "    <tr>\n",
       "      <th>0</th>\n",
       "      <td>240000</td>\n",
       "      <td>240000</td>\n",
       "      <td>240000</td>\n",
       "      <td>240000</td>\n",
       "      <td>240000</td>\n",
       "      <td>240000</td>\n",
       "      <td>240000</td>\n",
       "      <td>240000</td>\n",
       "      <td>240000</td>\n",
       "      <td>240000</td>\n",
       "      <td>240000</td>\n",
       "      <td>240000</td>\n",
       "    </tr>\n",
       "  </tbody>\n",
       "</table>\n",
       "</div>"
      ],
      "text/plain": [
       "       AP    AP50    AP75     APs     APm     APl    AR@1   AR@10      AR  \\\n",
       "0  240000  240000  240000  240000  240000  240000  240000  240000  240000   \n",
       "\n",
       "      ARs     ARm     ARl  \n",
       "0  240000  240000  240000  "
      ]
     },
     "execution_count": 18,
     "metadata": {},
     "output_type": "execute_result"
    }
   ],
   "source": [
    "df_train_A_over_ganaug_050_best_iter_per_metric = df_train_A_over_ganaug_050.idxmax().to_frame().T\n",
    "df_train_A_over_ganaug_050_best_iter_per_metric.head(1)"
   ]
  },
  {
   "cell_type": "code",
   "execution_count": 19,
   "metadata": {},
   "outputs": [
    {
     "data": {
      "text/html": [
       "<div>\n",
       "<style scoped>\n",
       "    .dataframe tbody tr th:only-of-type {\n",
       "        vertical-align: middle;\n",
       "    }\n",
       "\n",
       "    .dataframe tbody tr th {\n",
       "        vertical-align: top;\n",
       "    }\n",
       "\n",
       "    .dataframe thead th {\n",
       "        text-align: right;\n",
       "    }\n",
       "</style>\n",
       "<table border=\"1\" class=\"dataframe\">\n",
       "  <thead>\n",
       "    <tr style=\"text-align: right;\">\n",
       "      <th></th>\n",
       "      <th>AP</th>\n",
       "      <th>AP50</th>\n",
       "      <th>AP75</th>\n",
       "      <th>APs</th>\n",
       "      <th>APm</th>\n",
       "      <th>APl</th>\n",
       "      <th>AR@1</th>\n",
       "      <th>AR@10</th>\n",
       "      <th>AR</th>\n",
       "      <th>ARs</th>\n",
       "      <th>ARm</th>\n",
       "      <th>ARl</th>\n",
       "    </tr>\n",
       "  </thead>\n",
       "  <tbody>\n",
       "    <tr>\n",
       "      <th>0</th>\n",
       "      <td>0.202469</td>\n",
       "      <td>0.452334</td>\n",
       "      <td>0.159172</td>\n",
       "      <td>0.098014</td>\n",
       "      <td>0.300198</td>\n",
       "      <td>0.440411</td>\n",
       "      <td>0.082052</td>\n",
       "      <td>0.277477</td>\n",
       "      <td>0.314571</td>\n",
       "      <td>0.224554</td>\n",
       "      <td>0.405783</td>\n",
       "      <td>0.490018</td>\n",
       "    </tr>\n",
       "  </tbody>\n",
       "</table>\n",
       "</div>"
      ],
      "text/plain": [
       "         AP      AP50      AP75       APs       APm       APl      AR@1  \\\n",
       "0  0.202469  0.452334  0.159172  0.098014  0.300198  0.440411  0.082052   \n",
       "\n",
       "      AR@10        AR       ARs       ARm       ARl  \n",
       "0  0.277477  0.314571  0.224554  0.405783  0.490018  "
      ]
     },
     "execution_count": 19,
     "metadata": {},
     "output_type": "execute_result"
    }
   ],
   "source": [
    "df_train_A_over_ganaug_050_best_val_per_metric = df_train_A_over_ganaug_050.max().to_frame().T\n",
    "df_train_A_over_ganaug_050_best_val_per_metric.head(1)"
   ]
  },
  {
   "cell_type": "markdown",
   "metadata": {},
   "source": [
    "## Improvements ##"
   ]
  },
  {
   "cell_type": "markdown",
   "metadata": {},
   "source": [
    "### train_A_over --> train_B_over ###"
   ]
  },
  {
   "cell_type": "code",
   "execution_count": 20,
   "metadata": {},
   "outputs": [
    {
     "data": {
      "text/html": [
       "<div>\n",
       "<style scoped>\n",
       "    .dataframe tbody tr th:only-of-type {\n",
       "        vertical-align: middle;\n",
       "    }\n",
       "\n",
       "    .dataframe tbody tr th {\n",
       "        vertical-align: top;\n",
       "    }\n",
       "\n",
       "    .dataframe thead th {\n",
       "        text-align: right;\n",
       "    }\n",
       "</style>\n",
       "<table border=\"1\" class=\"dataframe\">\n",
       "  <thead>\n",
       "    <tr style=\"text-align: right;\">\n",
       "      <th></th>\n",
       "      <th>AP</th>\n",
       "      <th>AP50</th>\n",
       "      <th>AP75</th>\n",
       "      <th>APs</th>\n",
       "      <th>APm</th>\n",
       "      <th>APl</th>\n",
       "      <th>AR@1</th>\n",
       "      <th>AR@10</th>\n",
       "      <th>AR</th>\n",
       "      <th>ARs</th>\n",
       "      <th>ARm</th>\n",
       "      <th>ARl</th>\n",
       "      <th>Comparison</th>\n",
       "    </tr>\n",
       "  </thead>\n",
       "  <tbody>\n",
       "    <tr>\n",
       "      <th>0</th>\n",
       "      <td>0.022057</td>\n",
       "      <td>0.048209</td>\n",
       "      <td>0.01457</td>\n",
       "      <td>0.018738</td>\n",
       "      <td>0.027949</td>\n",
       "      <td>0.020279</td>\n",
       "      <td>0.004517</td>\n",
       "      <td>0.024535</td>\n",
       "      <td>0.023364</td>\n",
       "      <td>0.019025</td>\n",
       "      <td>0.03383</td>\n",
       "      <td>0.010691</td>\n",
       "      <td>A to B</td>\n",
       "    </tr>\n",
       "  </tbody>\n",
       "</table>\n",
       "</div>"
      ],
      "text/plain": [
       "         AP      AP50     AP75       APs       APm       APl      AR@1  \\\n",
       "0  0.022057  0.048209  0.01457  0.018738  0.027949  0.020279  0.004517   \n",
       "\n",
       "      AR@10        AR       ARs      ARm       ARl Comparison  \n",
       "0  0.024535  0.023364  0.019025  0.03383  0.010691     A to B  "
      ]
     },
     "execution_count": 20,
     "metadata": {},
     "output_type": "execute_result"
    }
   ],
   "source": [
    "df_train_A_over_TO_train_B_over = df_train_B_over_best_val_per_metric - df_train_A_over_best_val_per_metric\n",
    "df_train_A_over_TO_train_B_over[\"Comparison\"] = \"A to B\"\n",
    "df_train_A_over_TO_train_B_over.head(1)"
   ]
  },
  {
   "cell_type": "markdown",
   "metadata": {},
   "source": [
    "### train_A_over --> train_C_over ###"
   ]
  },
  {
   "cell_type": "code",
   "execution_count": 21,
   "metadata": {},
   "outputs": [
    {
     "data": {
      "text/html": [
       "<div>\n",
       "<style scoped>\n",
       "    .dataframe tbody tr th:only-of-type {\n",
       "        vertical-align: middle;\n",
       "    }\n",
       "\n",
       "    .dataframe tbody tr th {\n",
       "        vertical-align: top;\n",
       "    }\n",
       "\n",
       "    .dataframe thead th {\n",
       "        text-align: right;\n",
       "    }\n",
       "</style>\n",
       "<table border=\"1\" class=\"dataframe\">\n",
       "  <thead>\n",
       "    <tr style=\"text-align: right;\">\n",
       "      <th></th>\n",
       "      <th>AP</th>\n",
       "      <th>AP50</th>\n",
       "      <th>AP75</th>\n",
       "      <th>APs</th>\n",
       "      <th>APm</th>\n",
       "      <th>APl</th>\n",
       "      <th>AR@1</th>\n",
       "      <th>AR@10</th>\n",
       "      <th>AR</th>\n",
       "      <th>ARs</th>\n",
       "      <th>ARm</th>\n",
       "      <th>ARl</th>\n",
       "      <th>Comparison</th>\n",
       "    </tr>\n",
       "  </thead>\n",
       "  <tbody>\n",
       "    <tr>\n",
       "      <th>0</th>\n",
       "      <td>0.023772</td>\n",
       "      <td>0.054224</td>\n",
       "      <td>0.017825</td>\n",
       "      <td>0.017942</td>\n",
       "      <td>0.032136</td>\n",
       "      <td>0.024532</td>\n",
       "      <td>0.003804</td>\n",
       "      <td>0.024915</td>\n",
       "      <td>0.023825</td>\n",
       "      <td>0.018371</td>\n",
       "      <td>0.031707</td>\n",
       "      <td>0.024303</td>\n",
       "      <td>A to C</td>\n",
       "    </tr>\n",
       "  </tbody>\n",
       "</table>\n",
       "</div>"
      ],
      "text/plain": [
       "         AP      AP50      AP75       APs       APm       APl      AR@1  \\\n",
       "0  0.023772  0.054224  0.017825  0.017942  0.032136  0.024532  0.003804   \n",
       "\n",
       "      AR@10        AR       ARs       ARm       ARl Comparison  \n",
       "0  0.024915  0.023825  0.018371  0.031707  0.024303     A to C  "
      ]
     },
     "execution_count": 21,
     "metadata": {},
     "output_type": "execute_result"
    }
   ],
   "source": [
    "df_train_A_over_TO_train_C_over = df_train_C_over_best_val_per_metric - df_train_A_over_best_val_per_metric\n",
    "df_train_A_over_TO_train_C_over[\"Comparison\"] = \"A to C\"\n",
    "df_train_A_over_TO_train_C_over.head(1)"
   ]
  },
  {
   "cell_type": "markdown",
   "metadata": {},
   "source": [
    "### train_A_over --> train_A_over_ganaug_025 ###"
   ]
  },
  {
   "cell_type": "code",
   "execution_count": 22,
   "metadata": {},
   "outputs": [
    {
     "data": {
      "text/html": [
       "<div>\n",
       "<style scoped>\n",
       "    .dataframe tbody tr th:only-of-type {\n",
       "        vertical-align: middle;\n",
       "    }\n",
       "\n",
       "    .dataframe tbody tr th {\n",
       "        vertical-align: top;\n",
       "    }\n",
       "\n",
       "    .dataframe thead th {\n",
       "        text-align: right;\n",
       "    }\n",
       "</style>\n",
       "<table border=\"1\" class=\"dataframe\">\n",
       "  <thead>\n",
       "    <tr style=\"text-align: right;\">\n",
       "      <th></th>\n",
       "      <th>AP</th>\n",
       "      <th>AP50</th>\n",
       "      <th>AP75</th>\n",
       "      <th>APs</th>\n",
       "      <th>APm</th>\n",
       "      <th>APl</th>\n",
       "      <th>AR@1</th>\n",
       "      <th>AR@10</th>\n",
       "      <th>AR</th>\n",
       "      <th>ARs</th>\n",
       "      <th>ARm</th>\n",
       "      <th>ARl</th>\n",
       "      <th>Comparison</th>\n",
       "    </tr>\n",
       "  </thead>\n",
       "  <tbody>\n",
       "    <tr>\n",
       "      <th>0</th>\n",
       "      <td>-0.01106</td>\n",
       "      <td>-0.032851</td>\n",
       "      <td>-0.000412</td>\n",
       "      <td>-0.013859</td>\n",
       "      <td>-0.008413</td>\n",
       "      <td>-0.001559</td>\n",
       "      <td>-0.004569</td>\n",
       "      <td>-0.008979</td>\n",
       "      <td>-0.010009</td>\n",
       "      <td>-0.014706</td>\n",
       "      <td>-0.005526</td>\n",
       "      <td>0.00174</td>\n",
       "      <td>A to A25</td>\n",
       "    </tr>\n",
       "  </tbody>\n",
       "</table>\n",
       "</div>"
      ],
      "text/plain": [
       "        AP      AP50      AP75       APs       APm       APl      AR@1  \\\n",
       "0 -0.01106 -0.032851 -0.000412 -0.013859 -0.008413 -0.001559 -0.004569   \n",
       "\n",
       "      AR@10        AR       ARs       ARm      ARl Comparison  \n",
       "0 -0.008979 -0.010009 -0.014706 -0.005526  0.00174   A to A25  "
      ]
     },
     "execution_count": 22,
     "metadata": {},
     "output_type": "execute_result"
    }
   ],
   "source": [
    "df_train_A_over_TO_train_A_over_ganaug_025 = df_train_A_over_ganaug_025_best_val_per_metric - df_train_A_over_best_val_per_metric\n",
    "df_train_A_over_TO_train_A_over_ganaug_025[\"Comparison\"] = \"A to A25\"\n",
    "df_train_A_over_TO_train_A_over_ganaug_025.head(1)"
   ]
  },
  {
   "cell_type": "markdown",
   "metadata": {},
   "source": [
    "### train_A_over --> train_A_over_ganaug_050 ###"
   ]
  },
  {
   "cell_type": "code",
   "execution_count": 23,
   "metadata": {},
   "outputs": [
    {
     "data": {
      "text/html": [
       "<div>\n",
       "<style scoped>\n",
       "    .dataframe tbody tr th:only-of-type {\n",
       "        vertical-align: middle;\n",
       "    }\n",
       "\n",
       "    .dataframe tbody tr th {\n",
       "        vertical-align: top;\n",
       "    }\n",
       "\n",
       "    .dataframe thead th {\n",
       "        text-align: right;\n",
       "    }\n",
       "</style>\n",
       "<table border=\"1\" class=\"dataframe\">\n",
       "  <thead>\n",
       "    <tr style=\"text-align: right;\">\n",
       "      <th></th>\n",
       "      <th>AP</th>\n",
       "      <th>AP50</th>\n",
       "      <th>AP75</th>\n",
       "      <th>APs</th>\n",
       "      <th>APm</th>\n",
       "      <th>APl</th>\n",
       "      <th>AR@1</th>\n",
       "      <th>AR@10</th>\n",
       "      <th>AR</th>\n",
       "      <th>ARs</th>\n",
       "      <th>ARm</th>\n",
       "      <th>ARl</th>\n",
       "      <th>Comparison</th>\n",
       "    </tr>\n",
       "  </thead>\n",
       "  <tbody>\n",
       "    <tr>\n",
       "      <th>0</th>\n",
       "      <td>-0.014915</td>\n",
       "      <td>-0.051949</td>\n",
       "      <td>-0.000146</td>\n",
       "      <td>-0.015757</td>\n",
       "      <td>-0.010874</td>\n",
       "      <td>0.028588</td>\n",
       "      <td>-0.004998</td>\n",
       "      <td>-0.01408</td>\n",
       "      <td>-0.011941</td>\n",
       "      <td>-0.017885</td>\n",
       "      <td>-0.003488</td>\n",
       "      <td>0.030319</td>\n",
       "      <td>A to A50</td>\n",
       "    </tr>\n",
       "  </tbody>\n",
       "</table>\n",
       "</div>"
      ],
      "text/plain": [
       "         AP      AP50      AP75       APs       APm       APl      AR@1  \\\n",
       "0 -0.014915 -0.051949 -0.000146 -0.015757 -0.010874  0.028588 -0.004998   \n",
       "\n",
       "     AR@10        AR       ARs       ARm       ARl Comparison  \n",
       "0 -0.01408 -0.011941 -0.017885 -0.003488  0.030319   A to A50  "
      ]
     },
     "execution_count": 23,
     "metadata": {},
     "output_type": "execute_result"
    }
   ],
   "source": [
    "df_train_A_over_TO_train_A_over_ganaug_050 = df_train_A_over_ganaug_050_best_val_per_metric - df_train_A_over_best_val_per_metric\n",
    "df_train_A_over_TO_train_A_over_ganaug_050[\"Comparison\"] = \"A to A50\"\n",
    "df_train_A_over_TO_train_A_over_ganaug_050.head(1)"
   ]
  },
  {
   "cell_type": "markdown",
   "metadata": {},
   "source": [
    "## Combine ##"
   ]
  },
  {
   "cell_type": "code",
   "execution_count": 24,
   "metadata": {},
   "outputs": [],
   "source": [
    "df_combined = pd.concat([df_train_A_over_TO_train_B_over, df_train_A_over_TO_train_C_over, df_train_A_over_TO_train_A_over_ganaug_025, df_train_A_over_TO_train_A_over_ganaug_050], axis = 0)"
   ]
  },
  {
   "cell_type": "code",
   "execution_count": 25,
   "metadata": {},
   "outputs": [
    {
     "data": {
      "text/html": [
       "<div>\n",
       "<style scoped>\n",
       "    .dataframe tbody tr th:only-of-type {\n",
       "        vertical-align: middle;\n",
       "    }\n",
       "\n",
       "    .dataframe tbody tr th {\n",
       "        vertical-align: top;\n",
       "    }\n",
       "\n",
       "    .dataframe thead th {\n",
       "        text-align: right;\n",
       "    }\n",
       "</style>\n",
       "<table border=\"1\" class=\"dataframe\">\n",
       "  <thead>\n",
       "    <tr style=\"text-align: right;\">\n",
       "      <th></th>\n",
       "      <th>AP</th>\n",
       "      <th>AP50</th>\n",
       "      <th>AP75</th>\n",
       "      <th>APs</th>\n",
       "      <th>APm</th>\n",
       "      <th>APl</th>\n",
       "      <th>AR@1</th>\n",
       "      <th>AR@10</th>\n",
       "      <th>AR</th>\n",
       "      <th>ARs</th>\n",
       "      <th>ARm</th>\n",
       "      <th>ARl</th>\n",
       "    </tr>\n",
       "    <tr>\n",
       "      <th>Comparison</th>\n",
       "      <th></th>\n",
       "      <th></th>\n",
       "      <th></th>\n",
       "      <th></th>\n",
       "      <th></th>\n",
       "      <th></th>\n",
       "      <th></th>\n",
       "      <th></th>\n",
       "      <th></th>\n",
       "      <th></th>\n",
       "      <th></th>\n",
       "      <th></th>\n",
       "    </tr>\n",
       "  </thead>\n",
       "  <tbody>\n",
       "    <tr>\n",
       "      <th>A to B</th>\n",
       "      <td>0.022057</td>\n",
       "      <td>0.048209</td>\n",
       "      <td>0.01457</td>\n",
       "      <td>0.018738</td>\n",
       "      <td>0.027949</td>\n",
       "      <td>0.020279</td>\n",
       "      <td>0.004517</td>\n",
       "      <td>0.024535</td>\n",
       "      <td>0.023364</td>\n",
       "      <td>0.019025</td>\n",
       "      <td>0.03383</td>\n",
       "      <td>0.010691</td>\n",
       "    </tr>\n",
       "  </tbody>\n",
       "</table>\n",
       "</div>"
      ],
      "text/plain": [
       "                  AP      AP50     AP75       APs       APm       APl  \\\n",
       "Comparison                                                              \n",
       "A to B      0.022057  0.048209  0.01457  0.018738  0.027949  0.020279   \n",
       "\n",
       "                AR@1     AR@10        AR       ARs      ARm       ARl  \n",
       "Comparison                                                             \n",
       "A to B      0.004517  0.024535  0.023364  0.019025  0.03383  0.010691  "
      ]
     },
     "execution_count": 25,
     "metadata": {},
     "output_type": "execute_result"
    }
   ],
   "source": [
    "df_combined = df_combined.set_index(\"Comparison\")\n",
    "df_combined.head(1)"
   ]
  },
  {
   "cell_type": "code",
   "execution_count": 26,
   "metadata": {},
   "outputs": [
    {
     "data": {
      "text/plain": [
       "Text(0, 0.5, 'Absolute change in score')"
      ]
     },
     "execution_count": 26,
     "metadata": {},
     "output_type": "execute_result"
    },
    {
     "data": {
      "image/png": "[encoded data removed]",
      "text/plain": [
       "<Figure size 1152x648 with 1 Axes>"
      ]
     },
     "metadata": {
      "needs_background": "light"
     },
     "output_type": "display_data"
    }
   ],
   "source": [
    "ax = df_combined.plot(kind = \"bar\", figsize = (16, 9))\n",
    "ax.set_xlabel(\"\")\n",
    "ax.set_ylabel(\"Absolute change in score\")"
   ]
  },
  {
   "cell_type": "code",
   "execution_count": 27,
   "metadata": {},
   "outputs": [
    {
     "data": {
      "text/html": [
       "<script type=\"text/javascript\">window.PlotlyConfig = {MathJaxConfig: 'local'};</script><script type=\"text/javascript\">if (window.MathJax) {MathJax.Hub.Config({SVG: {font: \"STIX-Web\"}});}</script><script>requirejs.config({paths: { 'plotly': ['https://cdn.plot.ly/plotly-latest.min']},});if(!window._Plotly) {require(['plotly'],function(plotly) {window._Plotly=plotly;});}</script>"
      ],
      "text/vnd.plotly.v1+html": [
       "<script type=\"text/javascript\">window.PlotlyConfig = {MathJaxConfig: 'local'};</script><script type=\"text/javascript\">if (window.MathJax) {MathJax.Hub.Config({SVG: {font: \"STIX-Web\"}});}</script><script>requirejs.config({paths: { 'plotly': ['https://cdn.plot.ly/plotly-latest.min']},});if(!window._Plotly) {require(['plotly'],function(plotly) {window._Plotly=plotly;});}</script>"
      ]
     },
     "metadata": {},
     "output_type": "display_data"
    },
    {
     "data": {
      "application/vnd.plotly.v1+json": {
       "config": {
        "displaylogo": false,
        "linkText": "Export to plot.ly",
        "modeBarButtonsToRemove": [
         "sendDataToCloud"
        ],
        "plotlyServerURL": "https://plot.ly",
        "showLink": false
       },
       "data": [
        {
         "marker": {
          "color": "rgba(255, 153, 51, 0.6)",
          "line": {
           "color": "rgba(255, 153, 51, 1.0)",
           "width": 1
          }
         },
         "name": "AP",
         "orientation": "v",
         "text": "",
         "type": "bar",
         "uid": "f2160d5b-4dce-4fd1-a50f-4239df1182a6",
         "x": [
          "A to B",
          "A to C",
          "A to A25",
          "A to A50"
         ],
         "y": [
          0.02205667421044194,
          0.023772147882947903,
          -0.01105963786473596,
          -0.01491479252784661
         ]
        },
        {
         "marker": {
          "color": "rgba(55, 128, 191, 0.6)",
          "line": {
           "color": "rgba(55, 128, 191, 1.0)",
           "width": 1
          }
         },
         "name": "AP50",
         "orientation": "v",
         "text": "",
         "type": "bar",
         "uid": "611157e9-5eca-4830-8437-56ed07dc6a7b",
         "x": [
          "A to B",
          "A to C",
          "A to A25",
          "A to A50"
         ],
         "y": [
          0.0482089884556941,
          0.05422429635914905,
          -0.03285111301971566,
          -0.05194895941561778
         ]
        },
        {
         "marker": {
          "color": "rgba(50, 171, 96, 0.6)",
          "line": {
           "color": "rgba(50, 171, 96, 1.0)",
           "width": 1
          }
         },
         "name": "AP75",
         "orientation": "v",
         "text": "",
         "type": "bar",
         "uid": "aa646610-4b80-45a5-a3e0-d38ba734e410",
         "x": [
          "A to B",
          "A to C",
          "A to A25",
          "A to A50"
         ],
         "y": [
          0.014569516279085482,
          0.017824506954884384,
          -0.0004124682586760797,
          -0.00014626151865557158
         ]
        },
        {
         "marker": {
          "color": "rgba(128, 0, 128, 0.6)",
          "line": {
           "color": "rgba(128, 0, 128, 1.0)",
           "width": 1
          }
         },
         "name": "APs",
         "orientation": "v",
         "text": "",
         "type": "bar",
         "uid": "2f3cadab-a0c7-4b67-ba92-e2a766d0d6d8",
         "x": [
          "A to B",
          "A to C",
          "A to A25",
          "A to A50"
         ],
         "y": [
          0.01873828111605265,
          0.017941928824740147,
          -0.013859070054781347,
          -0.01575671729294055
         ]
        },
        {
         "marker": {
          "color": "rgba(219, 64, 82, 0.6)",
          "line": {
           "color": "rgba(219, 64, 82, 1.0)",
           "width": 1
          }
         },
         "name": "APm",
         "orientation": "v",
         "text": "",
         "type": "bar",
         "uid": "f50f5cbe-ac3d-44c5-ab48-1f512b0f5e57",
         "x": [
          "A to B",
          "A to C",
          "A to A25",
          "A to A50"
         ],
         "y": [
          0.02794913544726335,
          0.03213627306875538,
          -0.008412578845399366,
          -0.01087377054442984
         ]
        },
        {
         "marker": {
          "color": "rgba(0, 128, 128, 0.6)",
          "line": {
           "color": "rgba(0, 128, 128, 1.0)",
           "width": 1
          }
         },
         "name": "APl",
         "orientation": "v",
         "text": "",
         "type": "bar",
         "uid": "7dd78fb0-842c-4e60-a2f8-41352500a7ca",
         "x": [
          "A to B",
          "A to C",
          "A to A25",
          "A to A50"
         ],
         "y": [
          0.020279014489694103,
          0.024532457146683895,
          -0.0015587834586762161,
          0.02858781827816914
         ]
        },
        {
         "marker": {
          "color": "rgba(255, 255, 51, 0.6)",
          "line": {
           "color": "rgba(255, 255, 51, 1.0)",
           "width": 1
          }
         },
         "name": "AR@1",
         "orientation": "v",
         "text": "",
         "type": "bar",
         "uid": "96cf5f7a-046e-4864-be9b-dfcbe6ab30fe",
         "x": [
          "A to B",
          "A to C",
          "A to A25",
          "A to A50"
         ],
         "y": [
          0.004516688006140232,
          0.0038036701767317077,
          -0.004569280024429981,
          -0.004997908886082744
         ]
        },
        {
         "marker": {
          "color": "rgba(128, 128, 0, 0.6)",
          "line": {
           "color": "rgba(128, 128, 0, 1.0)",
           "width": 1
          }
         },
         "name": "AR@10",
         "orientation": "v",
         "text": "",
         "type": "bar",
         "uid": "e816423f-df14-49e5-a1e3-7a21fe9344d9",
         "x": [
          "A to B",
          "A to C",
          "A to A25",
          "A to A50"
         ],
         "y": [
          0.024535291498529954,
          0.024914602674234898,
          -0.008979410007430966,
          -0.014080426971040672
         ]
        },
        {
         "marker": {
          "color": "rgba(251, 128, 114, 0.6)",
          "line": {
           "color": "rgba(251, 128, 114, 1.0)",
           "width": 1
          }
         },
         "name": "AR",
         "orientation": "v",
         "text": "",
         "type": "bar",
         "uid": "cb5e0a95-ac12-426d-906a-df0856f60b24",
         "x": [
          "A to B",
          "A to C",
          "A to A25",
          "A to A50"
         ],
         "y": [
          0.023364015884846934,
          0.023824543514478547,
          -0.010009438695947503,
          -0.011941036856277787
         ]
        },
        {
         "marker": {
          "color": "rgba(128, 177, 211, 0.6)",
          "line": {
           "color": "rgba(128, 177, 211, 1.0)",
           "width": 1
          }
         },
         "name": "ARs",
         "orientation": "v",
         "text": "",
         "type": "bar",
         "uid": "da8d635a-e8f6-4b87-9d03-f80a4bc1985e",
         "x": [
          "A to B",
          "A to C",
          "A to A25",
          "A to A50"
         ],
         "y": [
          0.01902481980503773,
          0.018371347160328733,
          -0.014705594236395642,
          -0.01788511008363214
         ]
        },
        {
         "marker": {
          "color": "rgba(128, 177, 211, 0.6)",
          "line": {
           "color": "rgba(128, 177, 211, 0.8999999999999999)",
           "width": 1
          }
         },
         "name": "ARm",
         "orientation": "v",
         "text": "",
         "type": "bar",
         "uid": "660549c0-4f0f-4ee1-88cd-8d14b562df77",
         "x": [
          "A to B",
          "A to C",
          "A to A25",
          "A to A50"
         ],
         "y": [
          0.033830075179645314,
          0.03170664752930197,
          -0.00552607164306429,
          -0.0034881116358018716
         ]
        },
        {
         "marker": {
          "color": "rgba(255, 153, 51, 0.6)",
          "line": {
           "color": "rgba(255, 153, 51, 0.8999999999999999)",
           "width": 1
          }
         },
         "name": "ARl",
         "orientation": "v",
         "text": "",
         "type": "bar",
         "uid": "c4075a3a-7eac-4247-890b-d37f88b7a503",
         "x": [
          "A to B",
          "A to C",
          "A to A25",
          "A to A50"
         ],
         "y": [
          0.01069120145391328,
          0.02430321796847229,
          0.0017402512741496734,
          0.03031893247994949
         ]
        }
       ],
       "layout": {
        "height": 540,
        "title": {
         "text": "Impact of GAN-based augmentation"
        },
        "width": 960,
        "yaxis": {
         "title": {
          "text": "Absolute change in score"
         }
        }
       }
      },
      "text/html": [
       "<div id=\"d3143ab6-9113-4c8e-8fa9-c61b3ce79058\" style=\"height: 540px; width: 960px;\" class=\"plotly-graph-div\"></div><script type=\"text/javascript\">require([\"plotly\"], function(Plotly) { window.PLOTLYENV=window.PLOTLYENV || {};window.PLOTLYENV.BASE_URL=\"https://plot.ly\";\n",
       "if (document.getElementById(\"d3143ab6-9113-4c8e-8fa9-c61b3ce79058\")) {\n",
       "    Plotly.newPlot(\"d3143ab6-9113-4c8e-8fa9-c61b3ce79058\", [{\"marker\": {\"color\": \"rgba(255, 153, 51, 0.6)\", \"line\": {\"color\": \"rgba(255, 153, 51, 1.0)\", \"width\": 1}}, \"name\": \"AP\", \"orientation\": \"v\", \"text\": \"\", \"x\": [\"A to B\", \"A to C\", \"A to A25\", \"A to A50\"], \"y\": [0.02205667421044194, 0.023772147882947903, -0.01105963786473596, -0.01491479252784661], \"type\": \"bar\", \"uid\": \"f2160d5b-4dce-4fd1-a50f-4239df1182a6\"}, {\"marker\": {\"color\": \"rgba(55, 128, 191, 0.6)\", \"line\": {\"color\": \"rgba(55, 128, 191, 1.0)\", \"width\": 1}}, \"name\": \"AP50\", \"orientation\": \"v\", \"text\": \"\", \"x\": [\"A to B\", \"A to C\", \"A to A25\", \"A to A50\"], \"y\": [0.0482089884556941, 0.05422429635914905, -0.03285111301971566, -0.05194895941561778], \"type\": \"bar\", \"uid\": \"611157e9-5eca-4830-8437-56ed07dc6a7b\"}, {\"marker\": {\"color\": \"rgba(50, 171, 96, 0.6)\", \"line\": {\"color\": \"rgba(50, 171, 96, 1.0)\", \"width\": 1}}, \"name\": \"AP75\", \"orientation\": \"v\", \"text\": \"\", \"x\": [\"A to B\", \"A to C\", \"A to A25\", \"A to A50\"], \"y\": [0.014569516279085482, 0.017824506954884384, -0.0004124682586760797, -0.00014626151865557158], \"type\": \"bar\", \"uid\": \"aa646610-4b80-45a5-a3e0-d38ba734e410\"}, {\"marker\": {\"color\": \"rgba(128, 0, 128, 0.6)\", \"line\": {\"color\": \"rgba(128, 0, 128, 1.0)\", \"width\": 1}}, \"name\": \"APs\", \"orientation\": \"v\", \"text\": \"\", \"x\": [\"A to B\", \"A to C\", \"A to A25\", \"A to A50\"], \"y\": [0.01873828111605265, 0.017941928824740147, -0.013859070054781347, -0.01575671729294055], \"type\": \"bar\", \"uid\": \"2f3cadab-a0c7-4b67-ba92-e2a766d0d6d8\"}, {\"marker\": {\"color\": \"rgba(219, 64, 82, 0.6)\", \"line\": {\"color\": \"rgba(219, 64, 82, 1.0)\", \"width\": 1}}, \"name\": \"APm\", \"orientation\": \"v\", \"text\": \"\", \"x\": [\"A to B\", \"A to C\", \"A to A25\", \"A to A50\"], \"y\": [0.02794913544726335, 0.03213627306875538, -0.008412578845399366, -0.01087377054442984], \"type\": \"bar\", \"uid\": \"f50f5cbe-ac3d-44c5-ab48-1f512b0f5e57\"}, {\"marker\": {\"color\": \"rgba(0, 128, 128, 0.6)\", \"line\": {\"color\": \"rgba(0, 128, 128, 1.0)\", \"width\": 1}}, \"name\": \"APl\", \"orientation\": \"v\", \"text\": \"\", \"x\": [\"A to B\", \"A to C\", \"A to A25\", \"A to A50\"], \"y\": [0.020279014489694103, 0.024532457146683895, -0.0015587834586762161, 0.02858781827816914], \"type\": \"bar\", \"uid\": \"7dd78fb0-842c-4e60-a2f8-41352500a7ca\"}, {\"marker\": {\"color\": \"rgba(255, 255, 51, 0.6)\", \"line\": {\"color\": \"rgba(255, 255, 51, 1.0)\", \"width\": 1}}, \"name\": \"AR@1\", \"orientation\": \"v\", \"text\": \"\", \"x\": [\"A to B\", \"A to C\", \"A to A25\", \"A to A50\"], \"y\": [0.004516688006140232, 0.0038036701767317077, -0.004569280024429981, -0.004997908886082744], \"type\": \"bar\", \"uid\": \"96cf5f7a-046e-4864-be9b-dfcbe6ab30fe\"}, {\"marker\": {\"color\": \"rgba(128, 128, 0, 0.6)\", \"line\": {\"color\": \"rgba(128, 128, 0, 1.0)\", \"width\": 1}}, \"name\": \"AR@10\", \"orientation\": \"v\", \"text\": \"\", \"x\": [\"A to B\", \"A to C\", \"A to A25\", \"A to A50\"], \"y\": [0.024535291498529954, 0.024914602674234898, -0.008979410007430966, -0.014080426971040672], \"type\": \"bar\", \"uid\": \"e816423f-df14-49e5-a1e3-7a21fe9344d9\"}, {\"marker\": {\"color\": \"rgba(251, 128, 114, 0.6)\", \"line\": {\"color\": \"rgba(251, 128, 114, 1.0)\", \"width\": 1}}, \"name\": \"AR\", \"orientation\": \"v\", \"text\": \"\", \"x\": [\"A to B\", \"A to C\", \"A to A25\", \"A to A50\"], \"y\": [0.023364015884846934, 0.023824543514478547, -0.010009438695947503, -0.011941036856277787], \"type\": \"bar\", \"uid\": \"cb5e0a95-ac12-426d-906a-df0856f60b24\"}, {\"marker\": {\"color\": \"rgba(128, 177, 211, 0.6)\", \"line\": {\"color\": \"rgba(128, 177, 211, 1.0)\", \"width\": 1}}, \"name\": \"ARs\", \"orientation\": \"v\", \"text\": \"\", \"x\": [\"A to B\", \"A to C\", \"A to A25\", \"A to A50\"], \"y\": [0.01902481980503773, 0.018371347160328733, -0.014705594236395642, -0.01788511008363214], \"type\": \"bar\", \"uid\": \"da8d635a-e8f6-4b87-9d03-f80a4bc1985e\"}, {\"marker\": {\"color\": \"rgba(128, 177, 211, 0.6)\", \"line\": {\"color\": \"rgba(128, 177, 211, 0.8999999999999999)\", \"width\": 1}}, \"name\": \"ARm\", \"orientation\": \"v\", \"text\": \"\", \"x\": [\"A to B\", \"A to C\", \"A to A25\", \"A to A50\"], \"y\": [0.033830075179645314, 0.03170664752930197, -0.00552607164306429, -0.0034881116358018716], \"type\": \"bar\", \"uid\": \"660549c0-4f0f-4ee1-88cd-8d14b562df77\"}, {\"marker\": {\"color\": \"rgba(255, 153, 51, 0.6)\", \"line\": {\"color\": \"rgba(255, 153, 51, 0.8999999999999999)\", \"width\": 1}}, \"name\": \"ARl\", \"orientation\": \"v\", \"text\": \"\", \"x\": [\"A to B\", \"A to C\", \"A to A25\", \"A to A50\"], \"y\": [0.01069120145391328, 0.02430321796847229, 0.0017402512741496734, 0.03031893247994949], \"type\": \"bar\", \"uid\": \"c4075a3a-7eac-4247-890b-d37f88b7a503\"}], {\"height\": 540, \"title\": {\"text\": \"Impact of GAN-based augmentation\"}, \"width\": 960, \"yaxis\": {\"title\": {\"text\": \"Absolute change in score\"}}}, {\"modeBarButtonsToRemove\": [\"sendDataToCloud\"], \"displaylogo\": false, \"showLink\": false, \"linkText\": \"Export to plot.ly\", \"plotlyServerURL\": \"https://plot.ly\"}); \n",
       "}\n",
       "});</script>"
      ],
      "text/vnd.plotly.v1+html": [
       "<div id=\"d3143ab6-9113-4c8e-8fa9-c61b3ce79058\" style=\"height: 540px; width: 960px;\" class=\"plotly-graph-div\"></div><script type=\"text/javascript\">require([\"plotly\"], function(Plotly) { window.PLOTLYENV=window.PLOTLYENV || {};window.PLOTLYENV.BASE_URL=\"https://plot.ly\";\n",
       "if (document.getElementById(\"d3143ab6-9113-4c8e-8fa9-c61b3ce79058\")) {\n",
       "    Plotly.newPlot(\"d3143ab6-9113-4c8e-8fa9-c61b3ce79058\", [{\"marker\": {\"color\": \"rgba(255, 153, 51, 0.6)\", \"line\": {\"color\": \"rgba(255, 153, 51, 1.0)\", \"width\": 1}}, \"name\": \"AP\", \"orientation\": \"v\", \"text\": \"\", \"x\": [\"A to B\", \"A to C\", \"A to A25\", \"A to A50\"], \"y\": [0.02205667421044194, 0.023772147882947903, -0.01105963786473596, -0.01491479252784661], \"type\": \"bar\", \"uid\": \"f2160d5b-4dce-4fd1-a50f-4239df1182a6\"}, {\"marker\": {\"color\": \"rgba(55, 128, 191, 0.6)\", \"line\": {\"color\": \"rgba(55, 128, 191, 1.0)\", \"width\": 1}}, \"name\": \"AP50\", \"orientation\": \"v\", \"text\": \"\", \"x\": [\"A to B\", \"A to C\", \"A to A25\", \"A to A50\"], \"y\": [0.0482089884556941, 0.05422429635914905, -0.03285111301971566, -0.05194895941561778], \"type\": \"bar\", \"uid\": \"611157e9-5eca-4830-8437-56ed07dc6a7b\"}, {\"marker\": {\"color\": \"rgba(50, 171, 96, 0.6)\", \"line\": {\"color\": \"rgba(50, 171, 96, 1.0)\", \"width\": 1}}, \"name\": \"AP75\", \"orientation\": \"v\", \"text\": \"\", \"x\": [\"A to B\", \"A to C\", \"A to A25\", \"A to A50\"], \"y\": [0.014569516279085482, 0.017824506954884384, -0.0004124682586760797, -0.00014626151865557158], \"type\": \"bar\", \"uid\": \"aa646610-4b80-45a5-a3e0-d38ba734e410\"}, {\"marker\": {\"color\": \"rgba(128, 0, 128, 0.6)\", \"line\": {\"color\": \"rgba(128, 0, 128, 1.0)\", \"width\": 1}}, \"name\": \"APs\", \"orientation\": \"v\", \"text\": \"\", \"x\": [\"A to B\", \"A to C\", \"A to A25\", \"A to A50\"], \"y\": [0.01873828111605265, 0.017941928824740147, -0.013859070054781347, -0.01575671729294055], \"type\": \"bar\", \"uid\": \"2f3cadab-a0c7-4b67-ba92-e2a766d0d6d8\"}, {\"marker\": {\"color\": \"rgba(219, 64, 82, 0.6)\", \"line\": {\"color\": \"rgba(219, 64, 82, 1.0)\", \"width\": 1}}, \"name\": \"APm\", \"orientation\": \"v\", \"text\": \"\", \"x\": [\"A to B\", \"A to C\", \"A to A25\", \"A to A50\"], \"y\": [0.02794913544726335, 0.03213627306875538, -0.008412578845399366, -0.01087377054442984], \"type\": \"bar\", \"uid\": \"f50f5cbe-ac3d-44c5-ab48-1f512b0f5e57\"}, {\"marker\": {\"color\": \"rgba(0, 128, 128, 0.6)\", \"line\": {\"color\": \"rgba(0, 128, 128, 1.0)\", \"width\": 1}}, \"name\": \"APl\", \"orientation\": \"v\", \"text\": \"\", \"x\": [\"A to B\", \"A to C\", \"A to A25\", \"A to A50\"], \"y\": [0.020279014489694103, 0.024532457146683895, -0.0015587834586762161, 0.02858781827816914], \"type\": \"bar\", \"uid\": \"7dd78fb0-842c-4e60-a2f8-41352500a7ca\"}, {\"marker\": {\"color\": \"rgba(255, 255, 51, 0.6)\", \"line\": {\"color\": \"rgba(255, 255, 51, 1.0)\", \"width\": 1}}, \"name\": \"AR@1\", \"orientation\": \"v\", \"text\": \"\", \"x\": [\"A to B\", \"A to C\", \"A to A25\", \"A to A50\"], \"y\": [0.004516688006140232, 0.0038036701767317077, -0.004569280024429981, -0.004997908886082744], \"type\": \"bar\", \"uid\": \"96cf5f7a-046e-4864-be9b-dfcbe6ab30fe\"}, {\"marker\": {\"color\": \"rgba(128, 128, 0, 0.6)\", \"line\": {\"color\": \"rgba(128, 128, 0, 1.0)\", \"width\": 1}}, \"name\": \"AR@10\", \"orientation\": \"v\", \"text\": \"\", \"x\": [\"A to B\", \"A to C\", \"A to A25\", \"A to A50\"], \"y\": [0.024535291498529954, 0.024914602674234898, -0.008979410007430966, -0.014080426971040672], \"type\": \"bar\", \"uid\": \"e816423f-df14-49e5-a1e3-7a21fe9344d9\"}, {\"marker\": {\"color\": \"rgba(251, 128, 114, 0.6)\", \"line\": {\"color\": \"rgba(251, 128, 114, 1.0)\", \"width\": 1}}, \"name\": \"AR\", \"orientation\": \"v\", \"text\": \"\", \"x\": [\"A to B\", \"A to C\", \"A to A25\", \"A to A50\"], \"y\": [0.023364015884846934, 0.023824543514478547, -0.010009438695947503, -0.011941036856277787], \"type\": \"bar\", \"uid\": \"cb5e0a95-ac12-426d-906a-df0856f60b24\"}, {\"marker\": {\"color\": \"rgba(128, 177, 211, 0.6)\", \"line\": {\"color\": \"rgba(128, 177, 211, 1.0)\", \"width\": 1}}, \"name\": \"ARs\", \"orientation\": \"v\", \"text\": \"\", \"x\": [\"A to B\", \"A to C\", \"A to A25\", \"A to A50\"], \"y\": [0.01902481980503773, 0.018371347160328733, -0.014705594236395642, -0.01788511008363214], \"type\": \"bar\", \"uid\": \"da8d635a-e8f6-4b87-9d03-f80a4bc1985e\"}, {\"marker\": {\"color\": \"rgba(128, 177, 211, 0.6)\", \"line\": {\"color\": \"rgba(128, 177, 211, 0.8999999999999999)\", \"width\": 1}}, \"name\": \"ARm\", \"orientation\": \"v\", \"text\": \"\", \"x\": [\"A to B\", \"A to C\", \"A to A25\", \"A to A50\"], \"y\": [0.033830075179645314, 0.03170664752930197, -0.00552607164306429, -0.0034881116358018716], \"type\": \"bar\", \"uid\": \"660549c0-4f0f-4ee1-88cd-8d14b562df77\"}, {\"marker\": {\"color\": \"rgba(255, 153, 51, 0.6)\", \"line\": {\"color\": \"rgba(255, 153, 51, 0.8999999999999999)\", \"width\": 1}}, \"name\": \"ARl\", \"orientation\": \"v\", \"text\": \"\", \"x\": [\"A to B\", \"A to C\", \"A to A25\", \"A to A50\"], \"y\": [0.01069120145391328, 0.02430321796847229, 0.0017402512741496734, 0.03031893247994949], \"type\": \"bar\", \"uid\": \"c4075a3a-7eac-4247-890b-d37f88b7a503\"}], {\"height\": 540, \"title\": {\"text\": \"Impact of GAN-based augmentation\"}, \"width\": 960, \"yaxis\": {\"title\": {\"text\": \"Absolute change in score\"}}}, {\"modeBarButtonsToRemove\": [\"sendDataToCloud\"], \"displaylogo\": false, \"showLink\": false, \"linkText\": \"Export to plot.ly\", \"plotlyServerURL\": \"https://plot.ly\"}); \n",
       "}\n",
       "});</script>"
      ]
     },
     "metadata": {},
     "output_type": "display_data"
    }
   ],
   "source": [
    "cf.go_offline(connected = True)\n",
    "config = {\n",
    "    \"modeBarButtonsToRemove\": [\"sendDataToCloud\"],\n",
    "    \"displaylogo\": False\n",
    "}\n",
    "layout = {\n",
    "    \"title\": \"Impact of GAN-based augmentation\",\n",
    "    \"yaxis\": {\n",
    "        \"title\": \"Absolute change in score\"\n",
    "    },\n",
    "    \"width\": 960,\n",
    "    \"height\": 540\n",
    "}\n",
    "fig = df_combined.iplot(kind = \"bar\", y = [\"AP\", \"AP50\", \"AP75\", \"APs\", \"APm\", \"APl\", \"AR@1\", \"AR@10\", \"AR\", \"ARs\", \"ARm\", \"ARl\"], layout = layout, asFigure = True)\n",
    "py.offline.iplot(fig, show_link = False, config = config)"
   ]
  },
  {
   "cell_type": "code",
   "execution_count": 28,
   "metadata": {},
   "outputs": [],
   "source": [
    "df_combined = df_combined * 100"
   ]
  },
  {
   "cell_type": "code",
   "execution_count": 29,
   "metadata": {},
   "outputs": [
    {
     "data": {
      "text/plain": [
       "Text(0, 0.5, 'Absolute change in score (%)')"
      ]
     },
     "execution_count": 29,
     "metadata": {},
     "output_type": "execute_result"
    },
    {
     "data": {
      "image/png": "[encoded data removed]",
      "text/plain": [
       "<Figure size 1152x648 with 1 Axes>"
      ]
     },
     "metadata": {
      "needs_background": "light"
     },
     "output_type": "display_data"
    }
   ],
   "source": [
    "ax = df_combined.plot(kind = \"bar\", figsize = (16, 9))\n",
    "ax.set_xlabel(\"\")\n",
    "ax.set_ylabel(\"Absolute change in score (%)\")"
   ]
  },
  {
   "cell_type": "code",
   "execution_count": 30,
   "metadata": {},
   "outputs": [
    {
     "data": {
      "application/vnd.plotly.v1+json": {
       "config": {
        "displaylogo": false,
        "linkText": "Export to plot.ly",
        "modeBarButtonsToRemove": [
         "sendDataToCloud"
        ],
        "plotlyServerURL": "https://plot.ly",
        "showLink": false
       },
       "data": [
        {
         "marker": {
          "color": "rgba(255, 153, 51, 0.6)",
          "line": {
           "color": "rgba(255, 153, 51, 1.0)",
           "width": 1
          }
         },
         "name": "AP",
         "orientation": "v",
         "text": "",
         "type": "bar",
         "uid": "7e43ac10-f41b-4cb6-ada3-c332673bb05f",
         "x": [
          "A to B",
          "A to C",
          "A to A25",
          "A to A50"
         ],
         "y": [
          2.205667421044194,
          2.3772147882947903,
          -1.105963786473596,
          -1.491479252784661
         ]
        },
        {
         "marker": {
          "color": "rgba(55, 128, 191, 0.6)",
          "line": {
           "color": "rgba(55, 128, 191, 1.0)",
           "width": 1
          }
         },
         "name": "AP50",
         "orientation": "v",
         "text": "",
         "type": "bar",
         "uid": "ca61cbf0-8dca-497d-bfb4-9c410c461117",
         "x": [
          "A to B",
          "A to C",
          "A to A25",
          "A to A50"
         ],
         "y": [
          4.82089884556941,
          5.422429635914905,
          -3.285111301971566,
          -5.194895941561778
         ]
        },
        {
         "marker": {
          "color": "rgba(50, 171, 96, 0.6)",
          "line": {
           "color": "rgba(50, 171, 96, 1.0)",
           "width": 1
          }
         },
         "name": "AP75",
         "orientation": "v",
         "text": "",
         "type": "bar",
         "uid": "a702445a-e0e9-4190-b174-b498ea829994",
         "x": [
          "A to B",
          "A to C",
          "A to A25",
          "A to A50"
         ],
         "y": [
          1.4569516279085482,
          1.7824506954884383,
          -0.04124682586760797,
          -0.014626151865557158
         ]
        },
        {
         "marker": {
          "color": "rgba(128, 0, 128, 0.6)",
          "line": {
           "color": "rgba(128, 0, 128, 1.0)",
           "width": 1
          }
         },
         "name": "APs",
         "orientation": "v",
         "text": "",
         "type": "bar",
         "uid": "796b31fa-5ee6-44f3-88d0-b94c4be64599",
         "x": [
          "A to B",
          "A to C",
          "A to A25",
          "A to A50"
         ],
         "y": [
          1.8738281116052649,
          1.7941928824740148,
          -1.3859070054781348,
          -1.575671729294055
         ]
        },
        {
         "marker": {
          "color": "rgba(219, 64, 82, 0.6)",
          "line": {
           "color": "rgba(219, 64, 82, 1.0)",
           "width": 1
          }
         },
         "name": "APm",
         "orientation": "v",
         "text": "",
         "type": "bar",
         "uid": "2749fc71-15ff-460d-aea6-cab678e6b71c",
         "x": [
          "A to B",
          "A to C",
          "A to A25",
          "A to A50"
         ],
         "y": [
          2.7949135447263354,
          3.213627306875538,
          -0.8412578845399366,
          -1.087377054442984
         ]
        },
        {
         "marker": {
          "color": "rgba(0, 128, 128, 0.6)",
          "line": {
           "color": "rgba(0, 128, 128, 1.0)",
           "width": 1
          }
         },
         "name": "APl",
         "orientation": "v",
         "text": "",
         "type": "bar",
         "uid": "4a62f0cc-7c18-412e-b13e-a7013cae7c70",
         "x": [
          "A to B",
          "A to C",
          "A to A25",
          "A to A50"
         ],
         "y": [
          2.02790144896941,
          2.4532457146683893,
          -0.15587834586762161,
          2.858781827816914
         ]
        },
        {
         "marker": {
          "color": "rgba(255, 255, 51, 0.6)",
          "line": {
           "color": "rgba(255, 255, 51, 1.0)",
           "width": 1
          }
         },
         "name": "AR@1",
         "orientation": "v",
         "text": "",
         "type": "bar",
         "uid": "2021d7b0-ea9f-4301-8579-ee805d870c20",
         "x": [
          "A to B",
          "A to C",
          "A to A25",
          "A to A50"
         ],
         "y": [
          0.4516688006140232,
          0.38036701767317077,
          -0.4569280024429981,
          -0.4997908886082744
         ]
        },
        {
         "marker": {
          "color": "rgba(128, 128, 0, 0.6)",
          "line": {
           "color": "rgba(128, 128, 0, 1.0)",
           "width": 1
          }
         },
         "name": "AR@10",
         "orientation": "v",
         "text": "",
         "type": "bar",
         "uid": "14a29826-343d-488c-8859-71f1e63137f8",
         "x": [
          "A to B",
          "A to C",
          "A to A25",
          "A to A50"
         ],
         "y": [
          2.4535291498529954,
          2.4914602674234896,
          -0.8979410007430966,
          -1.4080426971040672
         ]
        },
        {
         "marker": {
          "color": "rgba(251, 128, 114, 0.6)",
          "line": {
           "color": "rgba(251, 128, 114, 1.0)",
           "width": 1
          }
         },
         "name": "AR",
         "orientation": "v",
         "text": "",
         "type": "bar",
         "uid": "5edb2435-aed4-43b0-a4a5-6d7c5755c20b",
         "x": [
          "A to B",
          "A to C",
          "A to A25",
          "A to A50"
         ],
         "y": [
          2.3364015884846934,
          2.382454351447855,
          -1.0009438695947503,
          -1.1941036856277787
         ]
        },
        {
         "marker": {
          "color": "rgba(128, 177, 211, 0.6)",
          "line": {
           "color": "rgba(128, 177, 211, 1.0)",
           "width": 1
          }
         },
         "name": "ARs",
         "orientation": "v",
         "text": "",
         "type": "bar",
         "uid": "acc28c59-cdbd-45f5-a7ea-b7060264faff",
         "x": [
          "A to B",
          "A to C",
          "A to A25",
          "A to A50"
         ],
         "y": [
          1.902481980503773,
          1.8371347160328733,
          -1.470559423639564,
          -1.7885110083632139
         ]
        },
        {
         "marker": {
          "color": "rgba(128, 177, 211, 0.6)",
          "line": {
           "color": "rgba(128, 177, 211, 0.8999999999999999)",
           "width": 1
          }
         },
         "name": "ARm",
         "orientation": "v",
         "text": "",
         "type": "bar",
         "uid": "be1ad56f-93ce-43bc-b55e-5285a5899753",
         "x": [
          "A to B",
          "A to C",
          "A to A25",
          "A to A50"
         ],
         "y": [
          3.3830075179645314,
          3.170664752930197,
          -0.552607164306429,
          -0.34881116358018716
         ]
        },
        {
         "marker": {
          "color": "rgba(255, 153, 51, 0.6)",
          "line": {
           "color": "rgba(255, 153, 51, 0.8999999999999999)",
           "width": 1
          }
         },
         "name": "ARl",
         "orientation": "v",
         "text": "",
         "type": "bar",
         "uid": "c967ab4b-df9e-453e-8bb0-5a6c7e840c1b",
         "x": [
          "A to B",
          "A to C",
          "A to A25",
          "A to A50"
         ],
         "y": [
          1.069120145391328,
          2.4303217968472293,
          0.17402512741496734,
          3.031893247994949
         ]
        }
       ],
       "layout": {
        "height": 540,
        "title": {
         "text": "Impact of GAN-based augmentation"
        },
        "width": 960,
        "yaxis": {
         "title": {
          "text": "Absolute change in score (%)"
         }
        }
       }
      },
      "text/html": [
       "<div id=\"e1ad70e5-e785-48ed-b85b-31518f6729d8\" style=\"height: 540px; width: 960px;\" class=\"plotly-graph-div\"></div><script type=\"text/javascript\">require([\"plotly\"], function(Plotly) { window.PLOTLYENV=window.PLOTLYENV || {};window.PLOTLYENV.BASE_URL=\"https://plot.ly\";\n",
       "if (document.getElementById(\"e1ad70e5-e785-48ed-b85b-31518f6729d8\")) {\n",
       "    Plotly.newPlot(\"e1ad70e5-e785-48ed-b85b-31518f6729d8\", [{\"marker\": {\"color\": \"rgba(255, 153, 51, 0.6)\", \"line\": {\"color\": \"rgba(255, 153, 51, 1.0)\", \"width\": 1}}, \"name\": \"AP\", \"orientation\": \"v\", \"text\": \"\", \"x\": [\"A to B\", \"A to C\", \"A to A25\", \"A to A50\"], \"y\": [2.205667421044194, 2.3772147882947903, -1.105963786473596, -1.491479252784661], \"type\": \"bar\", \"uid\": \"7e43ac10-f41b-4cb6-ada3-c332673bb05f\"}, {\"marker\": {\"color\": \"rgba(55, 128, 191, 0.6)\", \"line\": {\"color\": \"rgba(55, 128, 191, 1.0)\", \"width\": 1}}, \"name\": \"AP50\", \"orientation\": \"v\", \"text\": \"\", \"x\": [\"A to B\", \"A to C\", \"A to A25\", \"A to A50\"], \"y\": [4.82089884556941, 5.422429635914905, -3.285111301971566, -5.194895941561778], \"type\": \"bar\", \"uid\": \"ca61cbf0-8dca-497d-bfb4-9c410c461117\"}, {\"marker\": {\"color\": \"rgba(50, 171, 96, 0.6)\", \"line\": {\"color\": \"rgba(50, 171, 96, 1.0)\", \"width\": 1}}, \"name\": \"AP75\", \"orientation\": \"v\", \"text\": \"\", \"x\": [\"A to B\", \"A to C\", \"A to A25\", \"A to A50\"], \"y\": [1.4569516279085482, 1.7824506954884383, -0.04124682586760797, -0.014626151865557158], \"type\": \"bar\", \"uid\": \"a702445a-e0e9-4190-b174-b498ea829994\"}, {\"marker\": {\"color\": \"rgba(128, 0, 128, 0.6)\", \"line\": {\"color\": \"rgba(128, 0, 128, 1.0)\", \"width\": 1}}, \"name\": \"APs\", \"orientation\": \"v\", \"text\": \"\", \"x\": [\"A to B\", \"A to C\", \"A to A25\", \"A to A50\"], \"y\": [1.8738281116052649, 1.7941928824740148, -1.3859070054781348, -1.575671729294055], \"type\": \"bar\", \"uid\": \"796b31fa-5ee6-44f3-88d0-b94c4be64599\"}, {\"marker\": {\"color\": \"rgba(219, 64, 82, 0.6)\", \"line\": {\"color\": \"rgba(219, 64, 82, 1.0)\", \"width\": 1}}, \"name\": \"APm\", \"orientation\": \"v\", \"text\": \"\", \"x\": [\"A to B\", \"A to C\", \"A to A25\", \"A to A50\"], \"y\": [2.7949135447263354, 3.213627306875538, -0.8412578845399366, -1.087377054442984], \"type\": \"bar\", \"uid\": \"2749fc71-15ff-460d-aea6-cab678e6b71c\"}, {\"marker\": {\"color\": \"rgba(0, 128, 128, 0.6)\", \"line\": {\"color\": \"rgba(0, 128, 128, 1.0)\", \"width\": 1}}, \"name\": \"APl\", \"orientation\": \"v\", \"text\": \"\", \"x\": [\"A to B\", \"A to C\", \"A to A25\", \"A to A50\"], \"y\": [2.02790144896941, 2.4532457146683893, -0.15587834586762161, 2.858781827816914], \"type\": \"bar\", \"uid\": \"4a62f0cc-7c18-412e-b13e-a7013cae7c70\"}, {\"marker\": {\"color\": \"rgba(255, 255, 51, 0.6)\", \"line\": {\"color\": \"rgba(255, 255, 51, 1.0)\", \"width\": 1}}, \"name\": \"AR@1\", \"orientation\": \"v\", \"text\": \"\", \"x\": [\"A to B\", \"A to C\", \"A to A25\", \"A to A50\"], \"y\": [0.4516688006140232, 0.38036701767317077, -0.4569280024429981, -0.4997908886082744], \"type\": \"bar\", \"uid\": \"2021d7b0-ea9f-4301-8579-ee805d870c20\"}, {\"marker\": {\"color\": \"rgba(128, 128, 0, 0.6)\", \"line\": {\"color\": \"rgba(128, 128, 0, 1.0)\", \"width\": 1}}, \"name\": \"AR@10\", \"orientation\": \"v\", \"text\": \"\", \"x\": [\"A to B\", \"A to C\", \"A to A25\", \"A to A50\"], \"y\": [2.4535291498529954, 2.4914602674234896, -0.8979410007430966, -1.4080426971040672], \"type\": \"bar\", \"uid\": \"14a29826-343d-488c-8859-71f1e63137f8\"}, {\"marker\": {\"color\": \"rgba(251, 128, 114, 0.6)\", \"line\": {\"color\": \"rgba(251, 128, 114, 1.0)\", \"width\": 1}}, \"name\": \"AR\", \"orientation\": \"v\", \"text\": \"\", \"x\": [\"A to B\", \"A to C\", \"A to A25\", \"A to A50\"], \"y\": [2.3364015884846934, 2.382454351447855, -1.0009438695947503, -1.1941036856277787], \"type\": \"bar\", \"uid\": \"5edb2435-aed4-43b0-a4a5-6d7c5755c20b\"}, {\"marker\": {\"color\": \"rgba(128, 177, 211, 0.6)\", \"line\": {\"color\": \"rgba(128, 177, 211, 1.0)\", \"width\": 1}}, \"name\": \"ARs\", \"orientation\": \"v\", \"text\": \"\", \"x\": [\"A to B\", \"A to C\", \"A to A25\", \"A to A50\"], \"y\": [1.902481980503773, 1.8371347160328733, -1.470559423639564, -1.7885110083632139], \"type\": \"bar\", \"uid\": \"acc28c59-cdbd-45f5-a7ea-b7060264faff\"}, {\"marker\": {\"color\": \"rgba(128, 177, 211, 0.6)\", \"line\": {\"color\": \"rgba(128, 177, 211, 0.8999999999999999)\", \"width\": 1}}, \"name\": \"ARm\", \"orientation\": \"v\", \"text\": \"\", \"x\": [\"A to B\", \"A to C\", \"A to A25\", \"A to A50\"], \"y\": [3.3830075179645314, 3.170664752930197, -0.552607164306429, -0.34881116358018716], \"type\": \"bar\", \"uid\": \"be1ad56f-93ce-43bc-b55e-5285a5899753\"}, {\"marker\": {\"color\": \"rgba(255, 153, 51, 0.6)\", \"line\": {\"color\": \"rgba(255, 153, 51, 0.8999999999999999)\", \"width\": 1}}, \"name\": \"ARl\", \"orientation\": \"v\", \"text\": \"\", \"x\": [\"A to B\", \"A to C\", \"A to A25\", \"A to A50\"], \"y\": [1.069120145391328, 2.4303217968472293, 0.17402512741496734, 3.031893247994949], \"type\": \"bar\", \"uid\": \"c967ab4b-df9e-453e-8bb0-5a6c7e840c1b\"}], {\"height\": 540, \"title\": {\"text\": \"Impact of GAN-based augmentation\"}, \"width\": 960, \"yaxis\": {\"title\": {\"text\": \"Absolute change in score (%)\"}}}, {\"modeBarButtonsToRemove\": [\"sendDataToCloud\"], \"displaylogo\": false, \"showLink\": false, \"linkText\": \"Export to plot.ly\", \"plotlyServerURL\": \"https://plot.ly\"}); \n",
       "}\n",
       "});</script>"
      ],
      "text/vnd.plotly.v1+html": [
       "<div id=\"e1ad70e5-e785-48ed-b85b-31518f6729d8\" style=\"height: 540px; width: 960px;\" class=\"plotly-graph-div\"></div><script type=\"text/javascript\">require([\"plotly\"], function(Plotly) { window.PLOTLYENV=window.PLOTLYENV || {};window.PLOTLYENV.BASE_URL=\"https://plot.ly\";\n",
       "if (document.getElementById(\"e1ad70e5-e785-48ed-b85b-31518f6729d8\")) {\n",
       "    Plotly.newPlot(\"e1ad70e5-e785-48ed-b85b-31518f6729d8\", [{\"marker\": {\"color\": \"rgba(255, 153, 51, 0.6)\", \"line\": {\"color\": \"rgba(255, 153, 51, 1.0)\", \"width\": 1}}, \"name\": \"AP\", \"orientation\": \"v\", \"text\": \"\", \"x\": [\"A to B\", \"A to C\", \"A to A25\", \"A to A50\"], \"y\": [2.205667421044194, 2.3772147882947903, -1.105963786473596, -1.491479252784661], \"type\": \"bar\", \"uid\": \"7e43ac10-f41b-4cb6-ada3-c332673bb05f\"}, {\"marker\": {\"color\": \"rgba(55, 128, 191, 0.6)\", \"line\": {\"color\": \"rgba(55, 128, 191, 1.0)\", \"width\": 1}}, \"name\": \"AP50\", \"orientation\": \"v\", \"text\": \"\", \"x\": [\"A to B\", \"A to C\", \"A to A25\", \"A to A50\"], \"y\": [4.82089884556941, 5.422429635914905, -3.285111301971566, -5.194895941561778], \"type\": \"bar\", \"uid\": \"ca61cbf0-8dca-497d-bfb4-9c410c461117\"}, {\"marker\": {\"color\": \"rgba(50, 171, 96, 0.6)\", \"line\": {\"color\": \"rgba(50, 171, 96, 1.0)\", \"width\": 1}}, \"name\": \"AP75\", \"orientation\": \"v\", \"text\": \"\", \"x\": [\"A to B\", \"A to C\", \"A to A25\", \"A to A50\"], \"y\": [1.4569516279085482, 1.7824506954884383, -0.04124682586760797, -0.014626151865557158], \"type\": \"bar\", \"uid\": \"a702445a-e0e9-4190-b174-b498ea829994\"}, {\"marker\": {\"color\": \"rgba(128, 0, 128, 0.6)\", \"line\": {\"color\": \"rgba(128, 0, 128, 1.0)\", \"width\": 1}}, \"name\": \"APs\", \"orientation\": \"v\", \"text\": \"\", \"x\": [\"A to B\", \"A to C\", \"A to A25\", \"A to A50\"], \"y\": [1.8738281116052649, 1.7941928824740148, -1.3859070054781348, -1.575671729294055], \"type\": \"bar\", \"uid\": \"796b31fa-5ee6-44f3-88d0-b94c4be64599\"}, {\"marker\": {\"color\": \"rgba(219, 64, 82, 0.6)\", \"line\": {\"color\": \"rgba(219, 64, 82, 1.0)\", \"width\": 1}}, \"name\": \"APm\", \"orientation\": \"v\", \"text\": \"\", \"x\": [\"A to B\", \"A to C\", \"A to A25\", \"A to A50\"], \"y\": [2.7949135447263354, 3.213627306875538, -0.8412578845399366, -1.087377054442984], \"type\": \"bar\", \"uid\": \"2749fc71-15ff-460d-aea6-cab678e6b71c\"}, {\"marker\": {\"color\": \"rgba(0, 128, 128, 0.6)\", \"line\": {\"color\": \"rgba(0, 128, 128, 1.0)\", \"width\": 1}}, \"name\": \"APl\", \"orientation\": \"v\", \"text\": \"\", \"x\": [\"A to B\", \"A to C\", \"A to A25\", \"A to A50\"], \"y\": [2.02790144896941, 2.4532457146683893, -0.15587834586762161, 2.858781827816914], \"type\": \"bar\", \"uid\": \"4a62f0cc-7c18-412e-b13e-a7013cae7c70\"}, {\"marker\": {\"color\": \"rgba(255, 255, 51, 0.6)\", \"line\": {\"color\": \"rgba(255, 255, 51, 1.0)\", \"width\": 1}}, \"name\": \"AR@1\", \"orientation\": \"v\", \"text\": \"\", \"x\": [\"A to B\", \"A to C\", \"A to A25\", \"A to A50\"], \"y\": [0.4516688006140232, 0.38036701767317077, -0.4569280024429981, -0.4997908886082744], \"type\": \"bar\", \"uid\": \"2021d7b0-ea9f-4301-8579-ee805d870c20\"}, {\"marker\": {\"color\": \"rgba(128, 128, 0, 0.6)\", \"line\": {\"color\": \"rgba(128, 128, 0, 1.0)\", \"width\": 1}}, \"name\": \"AR@10\", \"orientation\": \"v\", \"text\": \"\", \"x\": [\"A to B\", \"A to C\", \"A to A25\", \"A to A50\"], \"y\": [2.4535291498529954, 2.4914602674234896, -0.8979410007430966, -1.4080426971040672], \"type\": \"bar\", \"uid\": \"14a29826-343d-488c-8859-71f1e63137f8\"}, {\"marker\": {\"color\": \"rgba(251, 128, 114, 0.6)\", \"line\": {\"color\": \"rgba(251, 128, 114, 1.0)\", \"width\": 1}}, \"name\": \"AR\", \"orientation\": \"v\", \"text\": \"\", \"x\": [\"A to B\", \"A to C\", \"A to A25\", \"A to A50\"], \"y\": [2.3364015884846934, 2.382454351447855, -1.0009438695947503, -1.1941036856277787], \"type\": \"bar\", \"uid\": \"5edb2435-aed4-43b0-a4a5-6d7c5755c20b\"}, {\"marker\": {\"color\": \"rgba(128, 177, 211, 0.6)\", \"line\": {\"color\": \"rgba(128, 177, 211, 1.0)\", \"width\": 1}}, \"name\": \"ARs\", \"orientation\": \"v\", \"text\": \"\", \"x\": [\"A to B\", \"A to C\", \"A to A25\", \"A to A50\"], \"y\": [1.902481980503773, 1.8371347160328733, -1.470559423639564, -1.7885110083632139], \"type\": \"bar\", \"uid\": \"acc28c59-cdbd-45f5-a7ea-b7060264faff\"}, {\"marker\": {\"color\": \"rgba(128, 177, 211, 0.6)\", \"line\": {\"color\": \"rgba(128, 177, 211, 0.8999999999999999)\", \"width\": 1}}, \"name\": \"ARm\", \"orientation\": \"v\", \"text\": \"\", \"x\": [\"A to B\", \"A to C\", \"A to A25\", \"A to A50\"], \"y\": [3.3830075179645314, 3.170664752930197, -0.552607164306429, -0.34881116358018716], \"type\": \"bar\", \"uid\": \"be1ad56f-93ce-43bc-b55e-5285a5899753\"}, {\"marker\": {\"color\": \"rgba(255, 153, 51, 0.6)\", \"line\": {\"color\": \"rgba(255, 153, 51, 0.8999999999999999)\", \"width\": 1}}, \"name\": \"ARl\", \"orientation\": \"v\", \"text\": \"\", \"x\": [\"A to B\", \"A to C\", \"A to A25\", \"A to A50\"], \"y\": [1.069120145391328, 2.4303217968472293, 0.17402512741496734, 3.031893247994949], \"type\": \"bar\", \"uid\": \"c967ab4b-df9e-453e-8bb0-5a6c7e840c1b\"}], {\"height\": 540, \"title\": {\"text\": \"Impact of GAN-based augmentation\"}, \"width\": 960, \"yaxis\": {\"title\": {\"text\": \"Absolute change in score (%)\"}}}, {\"modeBarButtonsToRemove\": [\"sendDataToCloud\"], \"displaylogo\": false, \"showLink\": false, \"linkText\": \"Export to plot.ly\", \"plotlyServerURL\": \"https://plot.ly\"}); \n",
       "}\n",
       "});</script>"
      ]
     },
     "metadata": {},
     "output_type": "display_data"
    }
   ],
   "source": [
    "layout = {\n",
    "    \"title\": \"Impact of GAN-based augmentation\",\n",
    "    \"yaxis\": {\n",
    "        \"title\": \"Absolute change in score (%)\"\n",
    "    },\n",
    "    \"width\": 960,\n",
    "    \"height\": 540\n",
    "}\n",
    "fig = df_combined.iplot(kind = \"bar\", y = [\"AP\", \"AP50\", \"AP75\", \"APs\", \"APm\", \"APl\", \"AR@1\", \"AR@10\", \"AR\", \"ARs\", \"ARm\", \"ARl\"], layout = layout, asFigure = True)\n",
    "py.offline.iplot(fig, show_link = False, config = config)"
   ]
  }
 ],
 "metadata": {
  "kernelspec": {
   "display_name": "Python 3",
   "language": "python",
   "name": "python3"
  },
  "language_info": {
   "codemirror_mode": {
    "name": "ipython",
    "version": 3
   },
   "file_extension": ".py",
   "mimetype": "text/x-python",
   "name": "python",
   "nbconvert_exporter": "python",
   "pygments_lexer": "ipython3",
   "version": "3.6.7"
  }
 },
 "nbformat": 4,
 "nbformat_minor": 2
}

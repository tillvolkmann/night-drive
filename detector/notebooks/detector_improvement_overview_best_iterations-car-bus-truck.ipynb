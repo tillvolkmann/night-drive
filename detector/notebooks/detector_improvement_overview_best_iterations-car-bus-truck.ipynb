{
 "cells": [
  {
   "cell_type": "code",
   "execution_count": 1,
   "metadata": {},
   "outputs": [],
   "source": [
    "import glob\n",
    "import numpy as np\n",
    "import pandas as pd\n",
    "import plotly as py\n",
    "import cufflinks as cf\n",
    "%matplotlib inline"
   ]
  },
  {
   "cell_type": "code",
   "execution_count": 2,
   "metadata": {},
   "outputs": [],
   "source": [
    "train_A_over_logs = \"../eval/20190329_RetinaNet_train_A_over_class_eval/3-6-8\"\n",
    "train_B_over_logs = \"../eval/20190329_RetinaNet_train_B_over_class_eval/3-6-8\"\n",
    "train_C_over_logs = \"../eval/20190329_RetinaNet_train_C_over_class_eval/3-6-8\"\n",
    "train_A_over_ganaug_025_logs = \"../eval/20190329_RetinaNet_train_A_over_ganaug_025_class_eval/3-6-8\"\n",
    "train_A_over_ganaug_050_logs = \"../eval/20190329_RetinaNet_train_A_over_ganaug_050_class_eval/3-6-8\"\n",
    "pattern = \"/**/*test_night*.txt\"\n",
    "\n",
    "train_A_over_iteration = None # None = best\n",
    "train_B_over_iteration = None # None = best\n",
    "train_C_over_iteration = None # None = best\n",
    "train_A_over_ganaug_025_iteration = None # None = best\n",
    "train_A_over_ganaug_050_iteration = None # None = best"
   ]
  },
  {
   "cell_type": "code",
   "execution_count": 3,
   "metadata": {},
   "outputs": [],
   "source": [
    "train_A_over_logs = glob.glob(train_A_over_logs + pattern, recursive = True)\n",
    "train_B_over_logs = glob.glob(train_B_over_logs + pattern, recursive = True)\n",
    "train_C_over_logs = glob.glob(train_C_over_logs + pattern, recursive = True)\n",
    "\n",
    "train_A_over_ganaug_025_logs = glob.glob(train_A_over_ganaug_025_logs + pattern, recursive = True)\n",
    "train_A_over_ganaug_050_logs = glob.glob(train_A_over_ganaug_050_logs + pattern, recursive = True)"
   ]
  },
  {
   "cell_type": "code",
   "execution_count": 4,
   "metadata": {},
   "outputs": [],
   "source": [
    "def logs2df(logs, iteration = None):\n",
    "    df_iterations = pd.DataFrame()\n",
    "    last_iteration = -1\n",
    "    for log in logs:\n",
    "        df = pd.read_csv(log)\n",
    "        df = df.drop(columns = [\"Unnamed: 12\"])\n",
    "        df[\"Iteration\"] = last_iteration if log.split(\"_model_\")[-1].split(\"_\")[0] == \"final\" else int(log.split(\"_model_\")[-1].split(\"_\")[0])\n",
    "        df_iterations = pd.concat([df_iterations, df], axis = 0)\n",
    "        df_iterations = df_iterations.reset_index(drop = True)\n",
    "        last_iteration = df[\"Iteration\"]\n",
    "    df_iterations = df_iterations.sort_values(by = ['Iteration']).reset_index(drop = True)\n",
    "    if iteration is not None:\n",
    "        df_iterations = df_iterations.loc[df_iterations.Iteration == iteration].drop_duplicates([\"Iteration\"], keep = \"last\").reset_index(drop = True)\n",
    "    df_iterations = df_iterations.set_index(\"Iteration\")\n",
    "    return df_iterations"
   ]
  },
  {
   "cell_type": "markdown",
   "metadata": {},
   "source": [
    "## Best iterations ##"
   ]
  },
  {
   "cell_type": "markdown",
   "metadata": {},
   "source": [
    "### --> All metrics are evaluated independently on their best iteration <-- ###"
   ]
  },
  {
   "cell_type": "markdown",
   "metadata": {},
   "source": [
    "### train_A_over ###"
   ]
  },
  {
   "cell_type": "code",
   "execution_count": 5,
   "metadata": {},
   "outputs": [
    {
     "data": {
      "text/html": [
       "<div>\n",
       "<style scoped>\n",
       "    .dataframe tbody tr th:only-of-type {\n",
       "        vertical-align: middle;\n",
       "    }\n",
       "\n",
       "    .dataframe tbody tr th {\n",
       "        vertical-align: top;\n",
       "    }\n",
       "\n",
       "    .dataframe thead th {\n",
       "        text-align: right;\n",
       "    }\n",
       "</style>\n",
       "<table border=\"1\" class=\"dataframe\">\n",
       "  <thead>\n",
       "    <tr style=\"text-align: right;\">\n",
       "      <th></th>\n",
       "      <th>AP</th>\n",
       "      <th>AP50</th>\n",
       "      <th>AP75</th>\n",
       "      <th>APs</th>\n",
       "      <th>APm</th>\n",
       "      <th>APl</th>\n",
       "      <th>AR@1</th>\n",
       "      <th>AR@10</th>\n",
       "      <th>AR</th>\n",
       "      <th>ARs</th>\n",
       "      <th>ARm</th>\n",
       "      <th>ARl</th>\n",
       "    </tr>\n",
       "    <tr>\n",
       "      <th>Iteration</th>\n",
       "      <th></th>\n",
       "      <th></th>\n",
       "      <th></th>\n",
       "      <th></th>\n",
       "      <th></th>\n",
       "      <th></th>\n",
       "      <th></th>\n",
       "      <th></th>\n",
       "      <th></th>\n",
       "      <th></th>\n",
       "      <th></th>\n",
       "      <th></th>\n",
       "    </tr>\n",
       "  </thead>\n",
       "  <tbody>\n",
       "    <tr>\n",
       "      <th>45000</th>\n",
       "      <td>0.27935</td>\n",
       "      <td>0.474534</td>\n",
       "      <td>0.290853</td>\n",
       "      <td>0.061596</td>\n",
       "      <td>0.20488</td>\n",
       "      <td>0.501819</td>\n",
       "      <td>0.258112</td>\n",
       "      <td>0.41833</td>\n",
       "      <td>0.442151</td>\n",
       "      <td>0.186723</td>\n",
       "      <td>0.381416</td>\n",
       "      <td>0.646499</td>\n",
       "    </tr>\n",
       "  </tbody>\n",
       "</table>\n",
       "</div>"
      ],
      "text/plain": [
       "                AP      AP50      AP75       APs      APm       APl      AR@1  \\\n",
       "Iteration                                                                       \n",
       "45000      0.27935  0.474534  0.290853  0.061596  0.20488  0.501819  0.258112   \n",
       "\n",
       "             AR@10        AR       ARs       ARm       ARl  \n",
       "Iteration                                                   \n",
       "45000      0.41833  0.442151  0.186723  0.381416  0.646499  "
      ]
     },
     "execution_count": 5,
     "metadata": {},
     "output_type": "execute_result"
    }
   ],
   "source": [
    "df_train_A_over = logs2df(train_A_over_logs, train_A_over_iteration)\n",
    "df_train_A_over.head(1)"
   ]
  },
  {
   "cell_type": "code",
   "execution_count": 6,
   "metadata": {},
   "outputs": [
    {
     "data": {
      "text/html": [
       "<div>\n",
       "<style scoped>\n",
       "    .dataframe tbody tr th:only-of-type {\n",
       "        vertical-align: middle;\n",
       "    }\n",
       "\n",
       "    .dataframe tbody tr th {\n",
       "        vertical-align: top;\n",
       "    }\n",
       "\n",
       "    .dataframe thead th {\n",
       "        text-align: right;\n",
       "    }\n",
       "</style>\n",
       "<table border=\"1\" class=\"dataframe\">\n",
       "  <thead>\n",
       "    <tr style=\"text-align: right;\">\n",
       "      <th></th>\n",
       "      <th>AP</th>\n",
       "      <th>AP50</th>\n",
       "      <th>AP75</th>\n",
       "      <th>APs</th>\n",
       "      <th>APm</th>\n",
       "      <th>APl</th>\n",
       "      <th>AR@1</th>\n",
       "      <th>AR@10</th>\n",
       "      <th>AR</th>\n",
       "      <th>ARs</th>\n",
       "      <th>ARm</th>\n",
       "      <th>ARl</th>\n",
       "    </tr>\n",
       "  </thead>\n",
       "  <tbody>\n",
       "    <tr>\n",
       "      <th>0</th>\n",
       "      <td>105000</td>\n",
       "      <td>105000</td>\n",
       "      <td>105000</td>\n",
       "      <td>45000</td>\n",
       "      <td>105000</td>\n",
       "      <td>162500</td>\n",
       "      <td>162500</td>\n",
       "      <td>105000</td>\n",
       "      <td>105000</td>\n",
       "      <td>45000</td>\n",
       "      <td>105000</td>\n",
       "      <td>105000</td>\n",
       "    </tr>\n",
       "  </tbody>\n",
       "</table>\n",
       "</div>"
      ],
      "text/plain": [
       "       AP    AP50    AP75    APs     APm     APl    AR@1   AR@10      AR  \\\n",
       "0  105000  105000  105000  45000  105000  162500  162500  105000  105000   \n",
       "\n",
       "     ARs     ARm     ARl  \n",
       "0  45000  105000  105000  "
      ]
     },
     "execution_count": 6,
     "metadata": {},
     "output_type": "execute_result"
    }
   ],
   "source": [
    "df_train_A_over_best_iter_per_metric = df_train_A_over.idxmax().to_frame().T\n",
    "df_train_A_over_best_iter_per_metric.head(1)"
   ]
  },
  {
   "cell_type": "code",
   "execution_count": 7,
   "metadata": {},
   "outputs": [
    {
     "data": {
      "text/html": [
       "<div>\n",
       "<style scoped>\n",
       "    .dataframe tbody tr th:only-of-type {\n",
       "        vertical-align: middle;\n",
       "    }\n",
       "\n",
       "    .dataframe tbody tr th {\n",
       "        vertical-align: top;\n",
       "    }\n",
       "\n",
       "    .dataframe thead th {\n",
       "        text-align: right;\n",
       "    }\n",
       "</style>\n",
       "<table border=\"1\" class=\"dataframe\">\n",
       "  <thead>\n",
       "    <tr style=\"text-align: right;\">\n",
       "      <th></th>\n",
       "      <th>AP</th>\n",
       "      <th>AP50</th>\n",
       "      <th>AP75</th>\n",
       "      <th>APs</th>\n",
       "      <th>APm</th>\n",
       "      <th>APl</th>\n",
       "      <th>AR@1</th>\n",
       "      <th>AR@10</th>\n",
       "      <th>AR</th>\n",
       "      <th>ARs</th>\n",
       "      <th>ARm</th>\n",
       "      <th>ARl</th>\n",
       "    </tr>\n",
       "  </thead>\n",
       "  <tbody>\n",
       "    <tr>\n",
       "      <th>0</th>\n",
       "      <td>0.297561</td>\n",
       "      <td>0.483372</td>\n",
       "      <td>0.314422</td>\n",
       "      <td>0.061596</td>\n",
       "      <td>0.229125</td>\n",
       "      <td>0.527889</td>\n",
       "      <td>0.268856</td>\n",
       "      <td>0.424866</td>\n",
       "      <td>0.446954</td>\n",
       "      <td>0.186723</td>\n",
       "      <td>0.389942</td>\n",
       "      <td>0.662292</td>\n",
       "    </tr>\n",
       "  </tbody>\n",
       "</table>\n",
       "</div>"
      ],
      "text/plain": [
       "         AP      AP50      AP75       APs       APm       APl      AR@1  \\\n",
       "0  0.297561  0.483372  0.314422  0.061596  0.229125  0.527889  0.268856   \n",
       "\n",
       "      AR@10        AR       ARs       ARm       ARl  \n",
       "0  0.424866  0.446954  0.186723  0.389942  0.662292  "
      ]
     },
     "execution_count": 7,
     "metadata": {},
     "output_type": "execute_result"
    }
   ],
   "source": [
    "df_train_A_over_best_val_per_metric = df_train_A_over.max().to_frame().T\n",
    "df_train_A_over_best_val_per_metric.head(1)"
   ]
  },
  {
   "cell_type": "markdown",
   "metadata": {},
   "source": [
    "### train_B_over ###"
   ]
  },
  {
   "cell_type": "code",
   "execution_count": 8,
   "metadata": {},
   "outputs": [
    {
     "data": {
      "text/html": [
       "<div>\n",
       "<style scoped>\n",
       "    .dataframe tbody tr th:only-of-type {\n",
       "        vertical-align: middle;\n",
       "    }\n",
       "\n",
       "    .dataframe tbody tr th {\n",
       "        vertical-align: top;\n",
       "    }\n",
       "\n",
       "    .dataframe thead th {\n",
       "        text-align: right;\n",
       "    }\n",
       "</style>\n",
       "<table border=\"1\" class=\"dataframe\">\n",
       "  <thead>\n",
       "    <tr style=\"text-align: right;\">\n",
       "      <th></th>\n",
       "      <th>AP</th>\n",
       "      <th>AP50</th>\n",
       "      <th>AP75</th>\n",
       "      <th>APs</th>\n",
       "      <th>APm</th>\n",
       "      <th>APl</th>\n",
       "      <th>AR@1</th>\n",
       "      <th>AR@10</th>\n",
       "      <th>AR</th>\n",
       "      <th>ARs</th>\n",
       "      <th>ARm</th>\n",
       "      <th>ARl</th>\n",
       "    </tr>\n",
       "    <tr>\n",
       "      <th>Iteration</th>\n",
       "      <th></th>\n",
       "      <th></th>\n",
       "      <th></th>\n",
       "      <th></th>\n",
       "      <th></th>\n",
       "      <th></th>\n",
       "      <th></th>\n",
       "      <th></th>\n",
       "      <th></th>\n",
       "      <th></th>\n",
       "      <th></th>\n",
       "      <th></th>\n",
       "    </tr>\n",
       "  </thead>\n",
       "  <tbody>\n",
       "    <tr>\n",
       "      <th>67500</th>\n",
       "      <td>0.335768</td>\n",
       "      <td>0.550641</td>\n",
       "      <td>0.342942</td>\n",
       "      <td>0.07615</td>\n",
       "      <td>0.26093</td>\n",
       "      <td>0.565501</td>\n",
       "      <td>0.308808</td>\n",
       "      <td>0.466002</td>\n",
       "      <td>0.487805</td>\n",
       "      <td>0.166158</td>\n",
       "      <td>0.423368</td>\n",
       "      <td>0.711879</td>\n",
       "    </tr>\n",
       "  </tbody>\n",
       "</table>\n",
       "</div>"
      ],
      "text/plain": [
       "                 AP      AP50      AP75      APs      APm       APl      AR@1  \\\n",
       "Iteration                                                                       \n",
       "67500      0.335768  0.550641  0.342942  0.07615  0.26093  0.565501  0.308808   \n",
       "\n",
       "              AR@10        AR       ARs       ARm       ARl  \n",
       "Iteration                                                    \n",
       "67500      0.466002  0.487805  0.166158  0.423368  0.711879  "
      ]
     },
     "execution_count": 8,
     "metadata": {},
     "output_type": "execute_result"
    }
   ],
   "source": [
    "df_train_B_over = logs2df(train_B_over_logs, train_B_over_iteration)\n",
    "df_train_B_over.head(1)"
   ]
  },
  {
   "cell_type": "code",
   "execution_count": 9,
   "metadata": {},
   "outputs": [
    {
     "data": {
      "text/html": [
       "<div>\n",
       "<style scoped>\n",
       "    .dataframe tbody tr th:only-of-type {\n",
       "        vertical-align: middle;\n",
       "    }\n",
       "\n",
       "    .dataframe tbody tr th {\n",
       "        vertical-align: top;\n",
       "    }\n",
       "\n",
       "    .dataframe thead th {\n",
       "        text-align: right;\n",
       "    }\n",
       "</style>\n",
       "<table border=\"1\" class=\"dataframe\">\n",
       "  <thead>\n",
       "    <tr style=\"text-align: right;\">\n",
       "      <th></th>\n",
       "      <th>AP</th>\n",
       "      <th>AP50</th>\n",
       "      <th>AP75</th>\n",
       "      <th>APs</th>\n",
       "      <th>APm</th>\n",
       "      <th>APl</th>\n",
       "      <th>AR@1</th>\n",
       "      <th>AR@10</th>\n",
       "      <th>AR</th>\n",
       "      <th>ARs</th>\n",
       "      <th>ARm</th>\n",
       "      <th>ARl</th>\n",
       "    </tr>\n",
       "  </thead>\n",
       "  <tbody>\n",
       "    <tr>\n",
       "      <th>0</th>\n",
       "      <td>67500</td>\n",
       "      <td>67500</td>\n",
       "      <td>67500</td>\n",
       "      <td>110000</td>\n",
       "      <td>67500</td>\n",
       "      <td>67500</td>\n",
       "      <td>67500</td>\n",
       "      <td>67500</td>\n",
       "      <td>67500</td>\n",
       "      <td>97500</td>\n",
       "      <td>97500</td>\n",
       "      <td>67500</td>\n",
       "    </tr>\n",
       "  </tbody>\n",
       "</table>\n",
       "</div>"
      ],
      "text/plain": [
       "      AP   AP50   AP75     APs    APm    APl   AR@1  AR@10     AR    ARs  \\\n",
       "0  67500  67500  67500  110000  67500  67500  67500  67500  67500  97500   \n",
       "\n",
       "     ARm    ARl  \n",
       "0  97500  67500  "
      ]
     },
     "execution_count": 9,
     "metadata": {},
     "output_type": "execute_result"
    }
   ],
   "source": [
    "df_train_B_over_best_iter_per_metric = df_train_B_over.idxmax().to_frame().T\n",
    "df_train_B_over_best_iter_per_metric.head(1)"
   ]
  },
  {
   "cell_type": "code",
   "execution_count": 10,
   "metadata": {},
   "outputs": [
    {
     "data": {
      "text/html": [
       "<div>\n",
       "<style scoped>\n",
       "    .dataframe tbody tr th:only-of-type {\n",
       "        vertical-align: middle;\n",
       "    }\n",
       "\n",
       "    .dataframe tbody tr th {\n",
       "        vertical-align: top;\n",
       "    }\n",
       "\n",
       "    .dataframe thead th {\n",
       "        text-align: right;\n",
       "    }\n",
       "</style>\n",
       "<table border=\"1\" class=\"dataframe\">\n",
       "  <thead>\n",
       "    <tr style=\"text-align: right;\">\n",
       "      <th></th>\n",
       "      <th>AP</th>\n",
       "      <th>AP50</th>\n",
       "      <th>AP75</th>\n",
       "      <th>APs</th>\n",
       "      <th>APm</th>\n",
       "      <th>APl</th>\n",
       "      <th>AR@1</th>\n",
       "      <th>AR@10</th>\n",
       "      <th>AR</th>\n",
       "      <th>ARs</th>\n",
       "      <th>ARm</th>\n",
       "      <th>ARl</th>\n",
       "    </tr>\n",
       "  </thead>\n",
       "  <tbody>\n",
       "    <tr>\n",
       "      <th>0</th>\n",
       "      <td>0.335768</td>\n",
       "      <td>0.550641</td>\n",
       "      <td>0.342942</td>\n",
       "      <td>0.078768</td>\n",
       "      <td>0.26093</td>\n",
       "      <td>0.565501</td>\n",
       "      <td>0.308808</td>\n",
       "      <td>0.466002</td>\n",
       "      <td>0.487805</td>\n",
       "      <td>0.180206</td>\n",
       "      <td>0.430233</td>\n",
       "      <td>0.711879</td>\n",
       "    </tr>\n",
       "  </tbody>\n",
       "</table>\n",
       "</div>"
      ],
      "text/plain": [
       "         AP      AP50      AP75       APs      APm       APl      AR@1  \\\n",
       "0  0.335768  0.550641  0.342942  0.078768  0.26093  0.565501  0.308808   \n",
       "\n",
       "      AR@10        AR       ARs       ARm       ARl  \n",
       "0  0.466002  0.487805  0.180206  0.430233  0.711879  "
      ]
     },
     "execution_count": 10,
     "metadata": {},
     "output_type": "execute_result"
    }
   ],
   "source": [
    "df_train_B_over_best_val_per_metric = df_train_B_over.max().to_frame().T\n",
    "df_train_B_over_best_val_per_metric.head(1)"
   ]
  },
  {
   "cell_type": "markdown",
   "metadata": {},
   "source": [
    "### train_C_over ###"
   ]
  },
  {
   "cell_type": "code",
   "execution_count": 11,
   "metadata": {},
   "outputs": [
    {
     "data": {
      "text/html": [
       "<div>\n",
       "<style scoped>\n",
       "    .dataframe tbody tr th:only-of-type {\n",
       "        vertical-align: middle;\n",
       "    }\n",
       "\n",
       "    .dataframe tbody tr th {\n",
       "        vertical-align: top;\n",
       "    }\n",
       "\n",
       "    .dataframe thead th {\n",
       "        text-align: right;\n",
       "    }\n",
       "</style>\n",
       "<table border=\"1\" class=\"dataframe\">\n",
       "  <thead>\n",
       "    <tr style=\"text-align: right;\">\n",
       "      <th></th>\n",
       "      <th>AP</th>\n",
       "      <th>AP50</th>\n",
       "      <th>AP75</th>\n",
       "      <th>APs</th>\n",
       "      <th>APm</th>\n",
       "      <th>APl</th>\n",
       "      <th>AR@1</th>\n",
       "      <th>AR@10</th>\n",
       "      <th>AR</th>\n",
       "      <th>ARs</th>\n",
       "      <th>ARm</th>\n",
       "      <th>ARl</th>\n",
       "    </tr>\n",
       "    <tr>\n",
       "      <th>Iteration</th>\n",
       "      <th></th>\n",
       "      <th></th>\n",
       "      <th></th>\n",
       "      <th></th>\n",
       "      <th></th>\n",
       "      <th></th>\n",
       "      <th></th>\n",
       "      <th></th>\n",
       "      <th></th>\n",
       "      <th></th>\n",
       "      <th></th>\n",
       "      <th></th>\n",
       "    </tr>\n",
       "  </thead>\n",
       "  <tbody>\n",
       "    <tr>\n",
       "      <th>47500</th>\n",
       "      <td>0.33199</td>\n",
       "      <td>0.547164</td>\n",
       "      <td>0.351167</td>\n",
       "      <td>0.080896</td>\n",
       "      <td>0.274929</td>\n",
       "      <td>0.560887</td>\n",
       "      <td>0.289838</td>\n",
       "      <td>0.468434</td>\n",
       "      <td>0.491209</td>\n",
       "      <td>0.160029</td>\n",
       "      <td>0.443135</td>\n",
       "      <td>0.702128</td>\n",
       "    </tr>\n",
       "  </tbody>\n",
       "</table>\n",
       "</div>"
      ],
      "text/plain": [
       "                AP      AP50      AP75       APs       APm       APl  \\\n",
       "Iteration                                                              \n",
       "47500      0.33199  0.547164  0.351167  0.080896  0.274929  0.560887   \n",
       "\n",
       "               AR@1     AR@10        AR       ARs       ARm       ARl  \n",
       "Iteration                                                              \n",
       "47500      0.289838  0.468434  0.491209  0.160029  0.443135  0.702128  "
      ]
     },
     "execution_count": 11,
     "metadata": {},
     "output_type": "execute_result"
    }
   ],
   "source": [
    "df_train_C_over = logs2df(train_C_over_logs, train_C_over_iteration)\n",
    "df_train_C_over.head(1)"
   ]
  },
  {
   "cell_type": "code",
   "execution_count": 12,
   "metadata": {},
   "outputs": [
    {
     "data": {
      "text/html": [
       "<div>\n",
       "<style scoped>\n",
       "    .dataframe tbody tr th:only-of-type {\n",
       "        vertical-align: middle;\n",
       "    }\n",
       "\n",
       "    .dataframe tbody tr th {\n",
       "        vertical-align: top;\n",
       "    }\n",
       "\n",
       "    .dataframe thead th {\n",
       "        text-align: right;\n",
       "    }\n",
       "</style>\n",
       "<table border=\"1\" class=\"dataframe\">\n",
       "  <thead>\n",
       "    <tr style=\"text-align: right;\">\n",
       "      <th></th>\n",
       "      <th>AP</th>\n",
       "      <th>AP50</th>\n",
       "      <th>AP75</th>\n",
       "      <th>APs</th>\n",
       "      <th>APm</th>\n",
       "      <th>APl</th>\n",
       "      <th>AR@1</th>\n",
       "      <th>AR@10</th>\n",
       "      <th>AR</th>\n",
       "      <th>ARs</th>\n",
       "      <th>ARm</th>\n",
       "      <th>ARl</th>\n",
       "    </tr>\n",
       "  </thead>\n",
       "  <tbody>\n",
       "    <tr>\n",
       "      <th>0</th>\n",
       "      <td>85000</td>\n",
       "      <td>47500</td>\n",
       "      <td>85000</td>\n",
       "      <td>85000</td>\n",
       "      <td>62500</td>\n",
       "      <td>65000</td>\n",
       "      <td>62500</td>\n",
       "      <td>62500</td>\n",
       "      <td>62500</td>\n",
       "      <td>65000</td>\n",
       "      <td>102500</td>\n",
       "      <td>62500</td>\n",
       "    </tr>\n",
       "  </tbody>\n",
       "</table>\n",
       "</div>"
      ],
      "text/plain": [
       "      AP   AP50   AP75    APs    APm    APl   AR@1  AR@10     AR    ARs  \\\n",
       "0  85000  47500  85000  85000  62500  65000  62500  62500  62500  65000   \n",
       "\n",
       "      ARm    ARl  \n",
       "0  102500  62500  "
      ]
     },
     "execution_count": 12,
     "metadata": {},
     "output_type": "execute_result"
    }
   ],
   "source": [
    "df_train_C_over_best_iter_per_metric = df_train_C_over.idxmax().to_frame().T\n",
    "df_train_C_over_best_iter_per_metric.head(1)"
   ]
  },
  {
   "cell_type": "code",
   "execution_count": 13,
   "metadata": {},
   "outputs": [
    {
     "data": {
      "text/html": [
       "<div>\n",
       "<style scoped>\n",
       "    .dataframe tbody tr th:only-of-type {\n",
       "        vertical-align: middle;\n",
       "    }\n",
       "\n",
       "    .dataframe tbody tr th {\n",
       "        vertical-align: top;\n",
       "    }\n",
       "\n",
       "    .dataframe thead th {\n",
       "        text-align: right;\n",
       "    }\n",
       "</style>\n",
       "<table border=\"1\" class=\"dataframe\">\n",
       "  <thead>\n",
       "    <tr style=\"text-align: right;\">\n",
       "      <th></th>\n",
       "      <th>AP</th>\n",
       "      <th>AP50</th>\n",
       "      <th>AP75</th>\n",
       "      <th>APs</th>\n",
       "      <th>APm</th>\n",
       "      <th>APl</th>\n",
       "      <th>AR@1</th>\n",
       "      <th>AR@10</th>\n",
       "      <th>AR</th>\n",
       "      <th>ARs</th>\n",
       "      <th>ARm</th>\n",
       "      <th>ARl</th>\n",
       "    </tr>\n",
       "  </thead>\n",
       "  <tbody>\n",
       "    <tr>\n",
       "      <th>0</th>\n",
       "      <td>0.334565</td>\n",
       "      <td>0.547164</td>\n",
       "      <td>0.360793</td>\n",
       "      <td>0.087222</td>\n",
       "      <td>0.279697</td>\n",
       "      <td>0.561326</td>\n",
       "      <td>0.305045</td>\n",
       "      <td>0.47217</td>\n",
       "      <td>0.496038</td>\n",
       "      <td>0.160638</td>\n",
       "      <td>0.449477</td>\n",
       "      <td>0.70828</td>\n",
       "    </tr>\n",
       "  </tbody>\n",
       "</table>\n",
       "</div>"
      ],
      "text/plain": [
       "         AP      AP50      AP75       APs       APm       APl      AR@1  \\\n",
       "0  0.334565  0.547164  0.360793  0.087222  0.279697  0.561326  0.305045   \n",
       "\n",
       "     AR@10        AR       ARs       ARm      ARl  \n",
       "0  0.47217  0.496038  0.160638  0.449477  0.70828  "
      ]
     },
     "execution_count": 13,
     "metadata": {},
     "output_type": "execute_result"
    }
   ],
   "source": [
    "df_train_C_over_best_val_per_metric = df_train_C_over.max().to_frame().T\n",
    "df_train_C_over_best_val_per_metric.head(1)"
   ]
  },
  {
   "cell_type": "markdown",
   "metadata": {},
   "source": [
    "### train_A_over_ganaug_025 ###"
   ]
  },
  {
   "cell_type": "code",
   "execution_count": 14,
   "metadata": {},
   "outputs": [
    {
     "data": {
      "text/html": [
       "<div>\n",
       "<style scoped>\n",
       "    .dataframe tbody tr th:only-of-type {\n",
       "        vertical-align: middle;\n",
       "    }\n",
       "\n",
       "    .dataframe tbody tr th {\n",
       "        vertical-align: top;\n",
       "    }\n",
       "\n",
       "    .dataframe thead th {\n",
       "        text-align: right;\n",
       "    }\n",
       "</style>\n",
       "<table border=\"1\" class=\"dataframe\">\n",
       "  <thead>\n",
       "    <tr style=\"text-align: right;\">\n",
       "      <th></th>\n",
       "      <th>AP</th>\n",
       "      <th>AP50</th>\n",
       "      <th>AP75</th>\n",
       "      <th>APs</th>\n",
       "      <th>APm</th>\n",
       "      <th>APl</th>\n",
       "      <th>AR@1</th>\n",
       "      <th>AR@10</th>\n",
       "      <th>AR</th>\n",
       "      <th>ARs</th>\n",
       "      <th>ARm</th>\n",
       "      <th>ARl</th>\n",
       "    </tr>\n",
       "    <tr>\n",
       "      <th>Iteration</th>\n",
       "      <th></th>\n",
       "      <th></th>\n",
       "      <th></th>\n",
       "      <th></th>\n",
       "      <th></th>\n",
       "      <th></th>\n",
       "      <th></th>\n",
       "      <th></th>\n",
       "      <th></th>\n",
       "      <th></th>\n",
       "      <th></th>\n",
       "      <th></th>\n",
       "    </tr>\n",
       "  </thead>\n",
       "  <tbody>\n",
       "    <tr>\n",
       "      <th>42500</th>\n",
       "      <td>0.291084</td>\n",
       "      <td>0.482663</td>\n",
       "      <td>0.305781</td>\n",
       "      <td>0.054449</td>\n",
       "      <td>0.230077</td>\n",
       "      <td>0.502477</td>\n",
       "      <td>0.276976</td>\n",
       "      <td>0.456848</td>\n",
       "      <td>0.478706</td>\n",
       "      <td>0.195893</td>\n",
       "      <td>0.434131</td>\n",
       "      <td>0.680616</td>\n",
       "    </tr>\n",
       "  </tbody>\n",
       "</table>\n",
       "</div>"
      ],
      "text/plain": [
       "                 AP      AP50      AP75       APs       APm       APl  \\\n",
       "Iteration                                                               \n",
       "42500      0.291084  0.482663  0.305781  0.054449  0.230077  0.502477   \n",
       "\n",
       "               AR@1     AR@10        AR       ARs       ARm       ARl  \n",
       "Iteration                                                              \n",
       "42500      0.276976  0.456848  0.478706  0.195893  0.434131  0.680616  "
      ]
     },
     "execution_count": 14,
     "metadata": {},
     "output_type": "execute_result"
    }
   ],
   "source": [
    "df_train_A_over_ganaug_025 = logs2df(train_A_over_ganaug_025_logs, train_A_over_ganaug_025_iteration)\n",
    "df_train_A_over_ganaug_025.head(1)"
   ]
  },
  {
   "cell_type": "code",
   "execution_count": 15,
   "metadata": {},
   "outputs": [
    {
     "data": {
      "text/html": [
       "<div>\n",
       "<style scoped>\n",
       "    .dataframe tbody tr th:only-of-type {\n",
       "        vertical-align: middle;\n",
       "    }\n",
       "\n",
       "    .dataframe tbody tr th {\n",
       "        vertical-align: top;\n",
       "    }\n",
       "\n",
       "    .dataframe thead th {\n",
       "        text-align: right;\n",
       "    }\n",
       "</style>\n",
       "<table border=\"1\" class=\"dataframe\">\n",
       "  <thead>\n",
       "    <tr style=\"text-align: right;\">\n",
       "      <th></th>\n",
       "      <th>AP</th>\n",
       "      <th>AP50</th>\n",
       "      <th>AP75</th>\n",
       "      <th>APs</th>\n",
       "      <th>APm</th>\n",
       "      <th>APl</th>\n",
       "      <th>AR@1</th>\n",
       "      <th>AR@10</th>\n",
       "      <th>AR</th>\n",
       "      <th>ARs</th>\n",
       "      <th>ARm</th>\n",
       "      <th>ARl</th>\n",
       "    </tr>\n",
       "  </thead>\n",
       "  <tbody>\n",
       "    <tr>\n",
       "      <th>0</th>\n",
       "      <td>167500</td>\n",
       "      <td>167500</td>\n",
       "      <td>162500</td>\n",
       "      <td>107500</td>\n",
       "      <td>42500</td>\n",
       "      <td>162500</td>\n",
       "      <td>162500</td>\n",
       "      <td>42500</td>\n",
       "      <td>42500</td>\n",
       "      <td>42500</td>\n",
       "      <td>42500</td>\n",
       "      <td>42500</td>\n",
       "    </tr>\n",
       "  </tbody>\n",
       "</table>\n",
       "</div>"
      ],
      "text/plain": [
       "       AP    AP50    AP75     APs    APm     APl    AR@1  AR@10     AR    ARs  \\\n",
       "0  167500  167500  162500  107500  42500  162500  162500  42500  42500  42500   \n",
       "\n",
       "     ARm    ARl  \n",
       "0  42500  42500  "
      ]
     },
     "execution_count": 15,
     "metadata": {},
     "output_type": "execute_result"
    }
   ],
   "source": [
    "df_train_A_over_ganaug_025_best_iter_per_metric = df_train_A_over_ganaug_025.idxmax().to_frame().T\n",
    "df_train_A_over_ganaug_025_best_iter_per_metric.head(1)"
   ]
  },
  {
   "cell_type": "code",
   "execution_count": 16,
   "metadata": {},
   "outputs": [
    {
     "data": {
      "text/html": [
       "<div>\n",
       "<style scoped>\n",
       "    .dataframe tbody tr th:only-of-type {\n",
       "        vertical-align: middle;\n",
       "    }\n",
       "\n",
       "    .dataframe tbody tr th {\n",
       "        vertical-align: top;\n",
       "    }\n",
       "\n",
       "    .dataframe thead th {\n",
       "        text-align: right;\n",
       "    }\n",
       "</style>\n",
       "<table border=\"1\" class=\"dataframe\">\n",
       "  <thead>\n",
       "    <tr style=\"text-align: right;\">\n",
       "      <th></th>\n",
       "      <th>AP</th>\n",
       "      <th>AP50</th>\n",
       "      <th>AP75</th>\n",
       "      <th>APs</th>\n",
       "      <th>APm</th>\n",
       "      <th>APl</th>\n",
       "      <th>AR@1</th>\n",
       "      <th>AR@10</th>\n",
       "      <th>AR</th>\n",
       "      <th>ARs</th>\n",
       "      <th>ARm</th>\n",
       "      <th>ARl</th>\n",
       "    </tr>\n",
       "  </thead>\n",
       "  <tbody>\n",
       "    <tr>\n",
       "      <th>0</th>\n",
       "      <td>0.305233</td>\n",
       "      <td>0.490965</td>\n",
       "      <td>0.326881</td>\n",
       "      <td>0.061071</td>\n",
       "      <td>0.230077</td>\n",
       "      <td>0.545787</td>\n",
       "      <td>0.287518</td>\n",
       "      <td>0.456848</td>\n",
       "      <td>0.478706</td>\n",
       "      <td>0.195893</td>\n",
       "      <td>0.434131</td>\n",
       "      <td>0.680616</td>\n",
       "    </tr>\n",
       "  </tbody>\n",
       "</table>\n",
       "</div>"
      ],
      "text/plain": [
       "         AP      AP50      AP75       APs       APm       APl      AR@1  \\\n",
       "0  0.305233  0.490965  0.326881  0.061071  0.230077  0.545787  0.287518   \n",
       "\n",
       "      AR@10        AR       ARs       ARm       ARl  \n",
       "0  0.456848  0.478706  0.195893  0.434131  0.680616  "
      ]
     },
     "execution_count": 16,
     "metadata": {},
     "output_type": "execute_result"
    }
   ],
   "source": [
    "df_train_A_over_ganaug_025_best_val_per_metric = df_train_A_over_ganaug_025.max().to_frame().T\n",
    "df_train_A_over_ganaug_025_best_val_per_metric.head(1)"
   ]
  },
  {
   "cell_type": "markdown",
   "metadata": {},
   "source": [
    "### train_A_over_ganaug_050 ###"
   ]
  },
  {
   "cell_type": "code",
   "execution_count": 17,
   "metadata": {},
   "outputs": [
    {
     "data": {
      "text/html": [
       "<div>\n",
       "<style scoped>\n",
       "    .dataframe tbody tr th:only-of-type {\n",
       "        vertical-align: middle;\n",
       "    }\n",
       "\n",
       "    .dataframe tbody tr th {\n",
       "        vertical-align: top;\n",
       "    }\n",
       "\n",
       "    .dataframe thead th {\n",
       "        text-align: right;\n",
       "    }\n",
       "</style>\n",
       "<table border=\"1\" class=\"dataframe\">\n",
       "  <thead>\n",
       "    <tr style=\"text-align: right;\">\n",
       "      <th></th>\n",
       "      <th>AP</th>\n",
       "      <th>AP50</th>\n",
       "      <th>AP75</th>\n",
       "      <th>APs</th>\n",
       "      <th>APm</th>\n",
       "      <th>APl</th>\n",
       "      <th>AR@1</th>\n",
       "      <th>AR@10</th>\n",
       "      <th>AR</th>\n",
       "      <th>ARs</th>\n",
       "      <th>ARm</th>\n",
       "      <th>ARl</th>\n",
       "    </tr>\n",
       "    <tr>\n",
       "      <th>Iteration</th>\n",
       "      <th></th>\n",
       "      <th></th>\n",
       "      <th></th>\n",
       "      <th></th>\n",
       "      <th></th>\n",
       "      <th></th>\n",
       "      <th></th>\n",
       "      <th></th>\n",
       "      <th></th>\n",
       "      <th></th>\n",
       "      <th></th>\n",
       "      <th></th>\n",
       "    </tr>\n",
       "  </thead>\n",
       "  <tbody>\n",
       "    <tr>\n",
       "      <th>85000</th>\n",
       "      <td>0.295707</td>\n",
       "      <td>0.483146</td>\n",
       "      <td>0.307472</td>\n",
       "      <td>0.066168</td>\n",
       "      <td>0.228129</td>\n",
       "      <td>0.512536</td>\n",
       "      <td>0.266982</td>\n",
       "      <td>0.436254</td>\n",
       "      <td>0.45664</td>\n",
       "      <td>0.151018</td>\n",
       "      <td>0.415456</td>\n",
       "      <td>0.654043</td>\n",
       "    </tr>\n",
       "  </tbody>\n",
       "</table>\n",
       "</div>"
      ],
      "text/plain": [
       "                 AP      AP50      AP75       APs       APm       APl  \\\n",
       "Iteration                                                               \n",
       "85000      0.295707  0.483146  0.307472  0.066168  0.228129  0.512536   \n",
       "\n",
       "               AR@1     AR@10       AR       ARs       ARm       ARl  \n",
       "Iteration                                                             \n",
       "85000      0.266982  0.436254  0.45664  0.151018  0.415456  0.654043  "
      ]
     },
     "execution_count": 17,
     "metadata": {},
     "output_type": "execute_result"
    }
   ],
   "source": [
    "df_train_A_over_ganaug_050 = logs2df(train_A_over_ganaug_050_logs, train_A_over_ganaug_050_iteration)\n",
    "df_train_A_over_ganaug_050.head(1)"
   ]
  },
  {
   "cell_type": "code",
   "execution_count": 18,
   "metadata": {},
   "outputs": [
    {
     "data": {
      "text/html": [
       "<div>\n",
       "<style scoped>\n",
       "    .dataframe tbody tr th:only-of-type {\n",
       "        vertical-align: middle;\n",
       "    }\n",
       "\n",
       "    .dataframe tbody tr th {\n",
       "        vertical-align: top;\n",
       "    }\n",
       "\n",
       "    .dataframe thead th {\n",
       "        text-align: right;\n",
       "    }\n",
       "</style>\n",
       "<table border=\"1\" class=\"dataframe\">\n",
       "  <thead>\n",
       "    <tr style=\"text-align: right;\">\n",
       "      <th></th>\n",
       "      <th>AP</th>\n",
       "      <th>AP50</th>\n",
       "      <th>AP75</th>\n",
       "      <th>APs</th>\n",
       "      <th>APm</th>\n",
       "      <th>APl</th>\n",
       "      <th>AR@1</th>\n",
       "      <th>AR@10</th>\n",
       "      <th>AR</th>\n",
       "      <th>ARs</th>\n",
       "      <th>ARm</th>\n",
       "      <th>ARl</th>\n",
       "    </tr>\n",
       "  </thead>\n",
       "  <tbody>\n",
       "    <tr>\n",
       "      <th>0</th>\n",
       "      <td>85000</td>\n",
       "      <td>85000</td>\n",
       "      <td>85000</td>\n",
       "      <td>85000</td>\n",
       "      <td>85000</td>\n",
       "      <td>95000</td>\n",
       "      <td>175000</td>\n",
       "      <td>85000</td>\n",
       "      <td>85000</td>\n",
       "      <td>85000</td>\n",
       "      <td>85000</td>\n",
       "      <td>102500</td>\n",
       "    </tr>\n",
       "  </tbody>\n",
       "</table>\n",
       "</div>"
      ],
      "text/plain": [
       "      AP   AP50   AP75    APs    APm    APl    AR@1  AR@10     AR    ARs  \\\n",
       "0  85000  85000  85000  85000  85000  95000  175000  85000  85000  85000   \n",
       "\n",
       "     ARm     ARl  \n",
       "0  85000  102500  "
      ]
     },
     "execution_count": 18,
     "metadata": {},
     "output_type": "execute_result"
    }
   ],
   "source": [
    "df_train_A_over_ganaug_050_best_iter_per_metric = df_train_A_over_ganaug_050.idxmax().to_frame().T\n",
    "df_train_A_over_ganaug_050_best_iter_per_metric.head(1)"
   ]
  },
  {
   "cell_type": "code",
   "execution_count": 19,
   "metadata": {},
   "outputs": [
    {
     "data": {
      "text/html": [
       "<div>\n",
       "<style scoped>\n",
       "    .dataframe tbody tr th:only-of-type {\n",
       "        vertical-align: middle;\n",
       "    }\n",
       "\n",
       "    .dataframe tbody tr th {\n",
       "        vertical-align: top;\n",
       "    }\n",
       "\n",
       "    .dataframe thead th {\n",
       "        text-align: right;\n",
       "    }\n",
       "</style>\n",
       "<table border=\"1\" class=\"dataframe\">\n",
       "  <thead>\n",
       "    <tr style=\"text-align: right;\">\n",
       "      <th></th>\n",
       "      <th>AP</th>\n",
       "      <th>AP50</th>\n",
       "      <th>AP75</th>\n",
       "      <th>APs</th>\n",
       "      <th>APm</th>\n",
       "      <th>APl</th>\n",
       "      <th>AR@1</th>\n",
       "      <th>AR@10</th>\n",
       "      <th>AR</th>\n",
       "      <th>ARs</th>\n",
       "      <th>ARm</th>\n",
       "      <th>ARl</th>\n",
       "    </tr>\n",
       "  </thead>\n",
       "  <tbody>\n",
       "    <tr>\n",
       "      <th>0</th>\n",
       "      <td>0.295707</td>\n",
       "      <td>0.483146</td>\n",
       "      <td>0.307472</td>\n",
       "      <td>0.066168</td>\n",
       "      <td>0.228129</td>\n",
       "      <td>0.521798</td>\n",
       "      <td>0.277787</td>\n",
       "      <td>0.436254</td>\n",
       "      <td>0.45664</td>\n",
       "      <td>0.151018</td>\n",
       "      <td>0.415456</td>\n",
       "      <td>0.658945</td>\n",
       "    </tr>\n",
       "  </tbody>\n",
       "</table>\n",
       "</div>"
      ],
      "text/plain": [
       "         AP      AP50      AP75       APs       APm       APl      AR@1  \\\n",
       "0  0.295707  0.483146  0.307472  0.066168  0.228129  0.521798  0.277787   \n",
       "\n",
       "      AR@10       AR       ARs       ARm       ARl  \n",
       "0  0.436254  0.45664  0.151018  0.415456  0.658945  "
      ]
     },
     "execution_count": 19,
     "metadata": {},
     "output_type": "execute_result"
    }
   ],
   "source": [
    "df_train_A_over_ganaug_050_best_val_per_metric = df_train_A_over_ganaug_050.max().to_frame().T\n",
    "df_train_A_over_ganaug_050_best_val_per_metric.head(1)"
   ]
  },
  {
   "cell_type": "markdown",
   "metadata": {},
   "source": [
    "## Improvements ##"
   ]
  },
  {
   "cell_type": "markdown",
   "metadata": {},
   "source": [
    "### train_A_over --> train_B_over ###"
   ]
  },
  {
   "cell_type": "code",
   "execution_count": 20,
   "metadata": {},
   "outputs": [
    {
     "data": {
      "text/html": [
       "<div>\n",
       "<style scoped>\n",
       "    .dataframe tbody tr th:only-of-type {\n",
       "        vertical-align: middle;\n",
       "    }\n",
       "\n",
       "    .dataframe tbody tr th {\n",
       "        vertical-align: top;\n",
       "    }\n",
       "\n",
       "    .dataframe thead th {\n",
       "        text-align: right;\n",
       "    }\n",
       "</style>\n",
       "<table border=\"1\" class=\"dataframe\">\n",
       "  <thead>\n",
       "    <tr style=\"text-align: right;\">\n",
       "      <th></th>\n",
       "      <th>AP</th>\n",
       "      <th>AP50</th>\n",
       "      <th>AP75</th>\n",
       "      <th>APs</th>\n",
       "      <th>APm</th>\n",
       "      <th>APl</th>\n",
       "      <th>AR@1</th>\n",
       "      <th>AR@10</th>\n",
       "      <th>AR</th>\n",
       "      <th>ARs</th>\n",
       "      <th>ARm</th>\n",
       "      <th>ARl</th>\n",
       "      <th>Comparison</th>\n",
       "    </tr>\n",
       "  </thead>\n",
       "  <tbody>\n",
       "    <tr>\n",
       "      <th>0</th>\n",
       "      <td>0.038206</td>\n",
       "      <td>0.067268</td>\n",
       "      <td>0.02852</td>\n",
       "      <td>0.017172</td>\n",
       "      <td>0.031805</td>\n",
       "      <td>0.037612</td>\n",
       "      <td>0.039952</td>\n",
       "      <td>0.041136</td>\n",
       "      <td>0.040851</td>\n",
       "      <td>-0.006518</td>\n",
       "      <td>0.040291</td>\n",
       "      <td>0.049587</td>\n",
       "      <td>A to B</td>\n",
       "    </tr>\n",
       "  </tbody>\n",
       "</table>\n",
       "</div>"
      ],
      "text/plain": [
       "         AP      AP50     AP75       APs       APm       APl      AR@1  \\\n",
       "0  0.038206  0.067268  0.02852  0.017172  0.031805  0.037612  0.039952   \n",
       "\n",
       "      AR@10        AR       ARs       ARm       ARl Comparison  \n",
       "0  0.041136  0.040851 -0.006518  0.040291  0.049587     A to B  "
      ]
     },
     "execution_count": 20,
     "metadata": {},
     "output_type": "execute_result"
    }
   ],
   "source": [
    "df_train_A_over_TO_train_B_over = df_train_B_over_best_val_per_metric - df_train_A_over_best_val_per_metric\n",
    "df_train_A_over_TO_train_B_over[\"Comparison\"] = \"A to B\"\n",
    "df_train_A_over_TO_train_B_over.head(1)"
   ]
  },
  {
   "cell_type": "markdown",
   "metadata": {},
   "source": [
    "### train_A_over --> train_C_over ###"
   ]
  },
  {
   "cell_type": "code",
   "execution_count": 21,
   "metadata": {},
   "outputs": [
    {
     "data": {
      "text/html": [
       "<div>\n",
       "<style scoped>\n",
       "    .dataframe tbody tr th:only-of-type {\n",
       "        vertical-align: middle;\n",
       "    }\n",
       "\n",
       "    .dataframe tbody tr th {\n",
       "        vertical-align: top;\n",
       "    }\n",
       "\n",
       "    .dataframe thead th {\n",
       "        text-align: right;\n",
       "    }\n",
       "</style>\n",
       "<table border=\"1\" class=\"dataframe\">\n",
       "  <thead>\n",
       "    <tr style=\"text-align: right;\">\n",
       "      <th></th>\n",
       "      <th>AP</th>\n",
       "      <th>AP50</th>\n",
       "      <th>AP75</th>\n",
       "      <th>APs</th>\n",
       "      <th>APm</th>\n",
       "      <th>APl</th>\n",
       "      <th>AR@1</th>\n",
       "      <th>AR@10</th>\n",
       "      <th>AR</th>\n",
       "      <th>ARs</th>\n",
       "      <th>ARm</th>\n",
       "      <th>ARl</th>\n",
       "      <th>Comparison</th>\n",
       "    </tr>\n",
       "  </thead>\n",
       "  <tbody>\n",
       "    <tr>\n",
       "      <th>0</th>\n",
       "      <td>0.037004</td>\n",
       "      <td>0.063792</td>\n",
       "      <td>0.046371</td>\n",
       "      <td>0.025627</td>\n",
       "      <td>0.050573</td>\n",
       "      <td>0.033437</td>\n",
       "      <td>0.036189</td>\n",
       "      <td>0.047304</td>\n",
       "      <td>0.049084</td>\n",
       "      <td>-0.026085</td>\n",
       "      <td>0.059535</td>\n",
       "      <td>0.045989</td>\n",
       "      <td>A to C</td>\n",
       "    </tr>\n",
       "  </tbody>\n",
       "</table>\n",
       "</div>"
      ],
      "text/plain": [
       "         AP      AP50      AP75       APs       APm       APl      AR@1  \\\n",
       "0  0.037004  0.063792  0.046371  0.025627  0.050573  0.033437  0.036189   \n",
       "\n",
       "      AR@10        AR       ARs       ARm       ARl Comparison  \n",
       "0  0.047304  0.049084 -0.026085  0.059535  0.045989     A to C  "
      ]
     },
     "execution_count": 21,
     "metadata": {},
     "output_type": "execute_result"
    }
   ],
   "source": [
    "df_train_A_over_TO_train_C_over = df_train_C_over_best_val_per_metric - df_train_A_over_best_val_per_metric\n",
    "df_train_A_over_TO_train_C_over[\"Comparison\"] = \"A to C\"\n",
    "df_train_A_over_TO_train_C_over.head(1)"
   ]
  },
  {
   "cell_type": "markdown",
   "metadata": {},
   "source": [
    "### train_A_over --> train_A_over_ganaug_025 ###"
   ]
  },
  {
   "cell_type": "code",
   "execution_count": 22,
   "metadata": {},
   "outputs": [
    {
     "data": {
      "text/html": [
       "<div>\n",
       "<style scoped>\n",
       "    .dataframe tbody tr th:only-of-type {\n",
       "        vertical-align: middle;\n",
       "    }\n",
       "\n",
       "    .dataframe tbody tr th {\n",
       "        vertical-align: top;\n",
       "    }\n",
       "\n",
       "    .dataframe thead th {\n",
       "        text-align: right;\n",
       "    }\n",
       "</style>\n",
       "<table border=\"1\" class=\"dataframe\">\n",
       "  <thead>\n",
       "    <tr style=\"text-align: right;\">\n",
       "      <th></th>\n",
       "      <th>AP</th>\n",
       "      <th>AP50</th>\n",
       "      <th>AP75</th>\n",
       "      <th>APs</th>\n",
       "      <th>APm</th>\n",
       "      <th>APl</th>\n",
       "      <th>AR@1</th>\n",
       "      <th>AR@10</th>\n",
       "      <th>AR</th>\n",
       "      <th>ARs</th>\n",
       "      <th>ARm</th>\n",
       "      <th>ARl</th>\n",
       "      <th>Comparison</th>\n",
       "    </tr>\n",
       "  </thead>\n",
       "  <tbody>\n",
       "    <tr>\n",
       "      <th>0</th>\n",
       "      <td>0.007672</td>\n",
       "      <td>0.007593</td>\n",
       "      <td>0.012458</td>\n",
       "      <td>-0.000525</td>\n",
       "      <td>0.000952</td>\n",
       "      <td>0.017898</td>\n",
       "      <td>0.018662</td>\n",
       "      <td>0.031982</td>\n",
       "      <td>0.031752</td>\n",
       "      <td>0.00917</td>\n",
       "      <td>0.044189</td>\n",
       "      <td>0.018324</td>\n",
       "      <td>A to A25</td>\n",
       "    </tr>\n",
       "  </tbody>\n",
       "</table>\n",
       "</div>"
      ],
      "text/plain": [
       "         AP      AP50      AP75       APs       APm       APl      AR@1  \\\n",
       "0  0.007672  0.007593  0.012458 -0.000525  0.000952  0.017898  0.018662   \n",
       "\n",
       "      AR@10        AR      ARs       ARm       ARl Comparison  \n",
       "0  0.031982  0.031752  0.00917  0.044189  0.018324   A to A25  "
      ]
     },
     "execution_count": 22,
     "metadata": {},
     "output_type": "execute_result"
    }
   ],
   "source": [
    "df_train_A_over_TO_train_A_over_ganaug_025 = df_train_A_over_ganaug_025_best_val_per_metric - df_train_A_over_best_val_per_metric\n",
    "df_train_A_over_TO_train_A_over_ganaug_025[\"Comparison\"] = \"A to A25\"\n",
    "df_train_A_over_TO_train_A_over_ganaug_025.head(1)"
   ]
  },
  {
   "cell_type": "markdown",
   "metadata": {},
   "source": [
    "### train_A_over --> train_A_over_ganaug_050 ###"
   ]
  },
  {
   "cell_type": "code",
   "execution_count": 23,
   "metadata": {},
   "outputs": [
    {
     "data": {
      "text/html": [
       "<div>\n",
       "<style scoped>\n",
       "    .dataframe tbody tr th:only-of-type {\n",
       "        vertical-align: middle;\n",
       "    }\n",
       "\n",
       "    .dataframe tbody tr th {\n",
       "        vertical-align: top;\n",
       "    }\n",
       "\n",
       "    .dataframe thead th {\n",
       "        text-align: right;\n",
       "    }\n",
       "</style>\n",
       "<table border=\"1\" class=\"dataframe\">\n",
       "  <thead>\n",
       "    <tr style=\"text-align: right;\">\n",
       "      <th></th>\n",
       "      <th>AP</th>\n",
       "      <th>AP50</th>\n",
       "      <th>AP75</th>\n",
       "      <th>APs</th>\n",
       "      <th>APm</th>\n",
       "      <th>APl</th>\n",
       "      <th>AR@1</th>\n",
       "      <th>AR@10</th>\n",
       "      <th>AR</th>\n",
       "      <th>ARs</th>\n",
       "      <th>ARm</th>\n",
       "      <th>ARl</th>\n",
       "      <th>Comparison</th>\n",
       "    </tr>\n",
       "  </thead>\n",
       "  <tbody>\n",
       "    <tr>\n",
       "      <th>0</th>\n",
       "      <td>-0.001854</td>\n",
       "      <td>-0.000226</td>\n",
       "      <td>-0.00695</td>\n",
       "      <td>0.004573</td>\n",
       "      <td>-0.000996</td>\n",
       "      <td>-0.006091</td>\n",
       "      <td>0.008932</td>\n",
       "      <td>0.011388</td>\n",
       "      <td>0.009686</td>\n",
       "      <td>-0.035705</td>\n",
       "      <td>0.025514</td>\n",
       "      <td>-0.003347</td>\n",
       "      <td>A to A50</td>\n",
       "    </tr>\n",
       "  </tbody>\n",
       "</table>\n",
       "</div>"
      ],
      "text/plain": [
       "         AP      AP50     AP75       APs       APm       APl      AR@1  \\\n",
       "0 -0.001854 -0.000226 -0.00695  0.004573 -0.000996 -0.006091  0.008932   \n",
       "\n",
       "      AR@10        AR       ARs       ARm       ARl Comparison  \n",
       "0  0.011388  0.009686 -0.035705  0.025514 -0.003347   A to A50  "
      ]
     },
     "execution_count": 23,
     "metadata": {},
     "output_type": "execute_result"
    }
   ],
   "source": [
    "df_train_A_over_TO_train_A_over_ganaug_050 = df_train_A_over_ganaug_050_best_val_per_metric - df_train_A_over_best_val_per_metric\n",
    "df_train_A_over_TO_train_A_over_ganaug_050[\"Comparison\"] = \"A to A50\"\n",
    "df_train_A_over_TO_train_A_over_ganaug_050.head(1)"
   ]
  },
  {
   "cell_type": "markdown",
   "metadata": {},
   "source": [
    "## Combine ##"
   ]
  },
  {
   "cell_type": "code",
   "execution_count": 24,
   "metadata": {},
   "outputs": [],
   "source": [
    "df_combined = pd.concat([df_train_A_over_TO_train_B_over, df_train_A_over_TO_train_C_over, df_train_A_over_TO_train_A_over_ganaug_025, df_train_A_over_TO_train_A_over_ganaug_050], axis = 0)"
   ]
  },
  {
   "cell_type": "code",
   "execution_count": 25,
   "metadata": {},
   "outputs": [
    {
     "data": {
      "text/html": [
       "<div>\n",
       "<style scoped>\n",
       "    .dataframe tbody tr th:only-of-type {\n",
       "        vertical-align: middle;\n",
       "    }\n",
       "\n",
       "    .dataframe tbody tr th {\n",
       "        vertical-align: top;\n",
       "    }\n",
       "\n",
       "    .dataframe thead th {\n",
       "        text-align: right;\n",
       "    }\n",
       "</style>\n",
       "<table border=\"1\" class=\"dataframe\">\n",
       "  <thead>\n",
       "    <tr style=\"text-align: right;\">\n",
       "      <th></th>\n",
       "      <th>AP</th>\n",
       "      <th>AP50</th>\n",
       "      <th>AP75</th>\n",
       "      <th>APs</th>\n",
       "      <th>APm</th>\n",
       "      <th>APl</th>\n",
       "      <th>AR@1</th>\n",
       "      <th>AR@10</th>\n",
       "      <th>AR</th>\n",
       "      <th>ARs</th>\n",
       "      <th>ARm</th>\n",
       "      <th>ARl</th>\n",
       "    </tr>\n",
       "    <tr>\n",
       "      <th>Comparison</th>\n",
       "      <th></th>\n",
       "      <th></th>\n",
       "      <th></th>\n",
       "      <th></th>\n",
       "      <th></th>\n",
       "      <th></th>\n",
       "      <th></th>\n",
       "      <th></th>\n",
       "      <th></th>\n",
       "      <th></th>\n",
       "      <th></th>\n",
       "      <th></th>\n",
       "    </tr>\n",
       "  </thead>\n",
       "  <tbody>\n",
       "    <tr>\n",
       "      <th>A to B</th>\n",
       "      <td>0.038206</td>\n",
       "      <td>0.067268</td>\n",
       "      <td>0.02852</td>\n",
       "      <td>0.017172</td>\n",
       "      <td>0.031805</td>\n",
       "      <td>0.037612</td>\n",
       "      <td>0.039952</td>\n",
       "      <td>0.041136</td>\n",
       "      <td>0.040851</td>\n",
       "      <td>-0.006518</td>\n",
       "      <td>0.040291</td>\n",
       "      <td>0.049587</td>\n",
       "    </tr>\n",
       "  </tbody>\n",
       "</table>\n",
       "</div>"
      ],
      "text/plain": [
       "                  AP      AP50     AP75       APs       APm       APl  \\\n",
       "Comparison                                                              \n",
       "A to B      0.038206  0.067268  0.02852  0.017172  0.031805  0.037612   \n",
       "\n",
       "                AR@1     AR@10        AR       ARs       ARm       ARl  \n",
       "Comparison                                                              \n",
       "A to B      0.039952  0.041136  0.040851 -0.006518  0.040291  0.049587  "
      ]
     },
     "execution_count": 25,
     "metadata": {},
     "output_type": "execute_result"
    }
   ],
   "source": [
    "df_combined = df_combined.set_index(\"Comparison\")\n",
    "df_combined.head(1)"
   ]
  },
  {
   "cell_type": "code",
   "execution_count": 26,
   "metadata": {},
   "outputs": [
    {
     "data": {
      "text/plain": [
       "Text(0, 0.5, 'Absolute change in score')"
      ]
     },
     "execution_count": 26,
     "metadata": {},
     "output_type": "execute_result"
    },
    {
     "data": {
      "image/png": "[encoded data removed]",
      "text/plain": [
       "<Figure size 1152x648 with 1 Axes>"
      ]
     },
     "metadata": {
      "needs_background": "light"
     },
     "output_type": "display_data"
    }
   ],
   "source": [
    "ax = df_combined.plot(kind = \"bar\", figsize = (16, 9))\n",
    "ax.set_xlabel(\"\")\n",
    "ax.set_ylabel(\"Absolute change in score\")"
   ]
  },
  {
   "cell_type": "code",
   "execution_count": 27,
   "metadata": {},
   "outputs": [
    {
     "data": {
      "text/html": [
       "<script type=\"text/javascript\">window.PlotlyConfig = {MathJaxConfig: 'local'};</script><script type=\"text/javascript\">if (window.MathJax) {MathJax.Hub.Config({SVG: {font: \"STIX-Web\"}});}</script><script>requirejs.config({paths: { 'plotly': ['https://cdn.plot.ly/plotly-latest.min']},});if(!window._Plotly) {require(['plotly'],function(plotly) {window._Plotly=plotly;});}</script>"
      ],
      "text/vnd.plotly.v1+html": [
       "<script type=\"text/javascript\">window.PlotlyConfig = {MathJaxConfig: 'local'};</script><script type=\"text/javascript\">if (window.MathJax) {MathJax.Hub.Config({SVG: {font: \"STIX-Web\"}});}</script><script>requirejs.config({paths: { 'plotly': ['https://cdn.plot.ly/plotly-latest.min']},});if(!window._Plotly) {require(['plotly'],function(plotly) {window._Plotly=plotly;});}</script>"
      ]
     },
     "metadata": {},
     "output_type": "display_data"
    },
    {
     "data": {
      "application/vnd.plotly.v1+json": {
       "config": {
        "displaylogo": false,
        "linkText": "Export to plot.ly",
        "modeBarButtonsToRemove": [
         "sendDataToCloud"
        ],
        "plotlyServerURL": "https://plot.ly",
        "showLink": false
       },
       "data": [
        {
         "marker": {
          "color": "rgba(255, 153, 51, 0.6)",
          "line": {
           "color": "rgba(255, 153, 51, 1.0)",
           "width": 1
          }
         },
         "name": "AP",
         "orientation": "v",
         "text": "",
         "type": "bar",
         "uid": "d6901ed3-fa57-44f5-a63e-70625b992bee",
         "x": [
          "A to B",
          "A to C",
          "A to A25",
          "A to A50"
         ],
         "y": [
          0.038206491364724426,
          0.037003795037071296,
          0.007671642017519353,
          -0.0018542621296622763
         ]
        },
        {
         "marker": {
          "color": "rgba(55, 128, 191, 0.6)",
          "line": {
           "color": "rgba(55, 128, 191, 1.0)",
           "width": 1
          }
         },
         "name": "AP50",
         "orientation": "v",
         "text": "",
         "type": "bar",
         "uid": "668345ae-3ed4-4f44-9efa-e8d276888976",
         "x": [
          "A to B",
          "A to C",
          "A to A25",
          "A to A50"
         ],
         "y": [
          0.0672683137003669,
          0.06379151441176867,
          0.007592776707586513,
          -0.000225749717436885
         ]
        },
        {
         "marker": {
          "color": "rgba(50, 171, 96, 0.6)",
          "line": {
           "color": "rgba(50, 171, 96, 1.0)",
           "width": 1
          }
         },
         "name": "AP75",
         "orientation": "v",
         "text": "",
         "type": "bar",
         "uid": "dcc37f73-74e3-4a1a-a589-8fcc9ecbd7b0",
         "x": [
          "A to B",
          "A to C",
          "A to A25",
          "A to A50"
         ],
         "y": [
          0.028519852587081007,
          0.046370595290582406,
          0.012458328185885714,
          -0.006949921320177688
         ]
        },
        {
         "marker": {
          "color": "rgba(128, 0, 128, 0.6)",
          "line": {
           "color": "rgba(128, 0, 128, 1.0)",
           "width": 1
          }
         },
         "name": "APs",
         "orientation": "v",
         "text": "",
         "type": "bar",
         "uid": "0599e0bb-f449-4b37-a416-5347d7c7fa5f",
         "x": [
          "A to B",
          "A to C",
          "A to A25",
          "A to A50"
         ],
         "y": [
          0.017171718402252498,
          0.025626602884940397,
          -0.0005245860027663085,
          0.004572567835120195
         ]
        },
        {
         "marker": {
          "color": "rgba(219, 64, 82, 0.6)",
          "line": {
           "color": "rgba(219, 64, 82, 1.0)",
           "width": 1
          }
         },
         "name": "APm",
         "orientation": "v",
         "text": "",
         "type": "bar",
         "uid": "613910b1-bc7d-48c8-9edf-0b073360b57b",
         "x": [
          "A to B",
          "A to C",
          "A to A25",
          "A to A50"
         ],
         "y": [
          0.03180523351585077,
          0.05057250967650226,
          0.0009520155323176904,
          -0.00099592269419016
         ]
        },
        {
         "marker": {
          "color": "rgba(0, 128, 128, 0.6)",
          "line": {
           "color": "rgba(0, 128, 128, 1.0)",
           "width": 1
          }
         },
         "name": "APl",
         "orientation": "v",
         "text": "",
         "type": "bar",
         "uid": "c1c69675-cb56-42e0-b7c6-77b8f4c8458d",
         "x": [
          "A to B",
          "A to C",
          "A to A25",
          "A to A50"
         ],
         "y": [
          0.03761167542779942,
          0.03343676448848265,
          0.017897790855080253,
          -0.006091217605652233
         ]
        },
        {
         "marker": {
          "color": "rgba(255, 255, 51, 0.6)",
          "line": {
           "color": "rgba(255, 255, 51, 1.0)",
           "width": 1
          }
         },
         "name": "AR@1",
         "orientation": "v",
         "text": "",
         "type": "bar",
         "uid": "56600d44-e303-44c5-9e71-1aadd86b641f",
         "x": [
          "A to B",
          "A to C",
          "A to A25",
          "A to A50"
         ],
         "y": [
          0.03995219326935834,
          0.03618947280840884,
          0.01866214887808504,
          0.008931654749145146
         ]
        },
        {
         "marker": {
          "color": "rgba(128, 128, 0, 0.6)",
          "line": {
           "color": "rgba(128, 128, 0, 1.0)",
           "width": 1
          }
         },
         "name": "AR@10",
         "orientation": "v",
         "text": "",
         "type": "bar",
         "uid": "44ce955a-16c8-4bd4-a29e-45ffb68b5801",
         "x": [
          "A to B",
          "A to C",
          "A to A25",
          "A to A50"
         ],
         "y": [
          0.04113552474592991,
          0.04730368466509932,
          0.03198215106482649,
          0.01138755837297889
         ]
        },
        {
         "marker": {
          "color": "rgba(251, 128, 114, 0.6)",
          "line": {
           "color": "rgba(251, 128, 114, 1.0)",
           "width": 1
          }
         },
         "name": "AR",
         "orientation": "v",
         "text": "",
         "type": "bar",
         "uid": "f24c2506-d8cb-433d-b7cb-fa9d4cb769a7",
         "x": [
          "A to B",
          "A to C",
          "A to A25",
          "A to A50"
         ],
         "y": [
          0.04085065567613705,
          0.04908404061511146,
          0.03175206450845536,
          0.009685648289344262
         ]
        },
        {
         "marker": {
          "color": "rgba(128, 177, 211, 0.6)",
          "line": {
           "color": "rgba(128, 177, 211, 1.0)",
           "width": 1
          }
         },
         "name": "ARs",
         "orientation": "v",
         "text": "",
         "type": "bar",
         "uid": "220a1cb2-d7db-4e82-9ad7-9b5660a23478",
         "x": [
          "A to B",
          "A to C",
          "A to A25",
          "A to A50"
         ],
         "y": [
          -0.006517518312593867,
          -0.026084887224680747,
          0.009169850095187587,
          -0.03570546036789091
         ]
        },
        {
         "marker": {
          "color": "rgba(128, 177, 211, 0.6)",
          "line": {
           "color": "rgba(128, 177, 211, 0.8999999999999999)",
           "width": 1
          }
         },
         "name": "ARm",
         "orientation": "v",
         "text": "",
         "type": "bar",
         "uid": "1ac26a77-5782-4fc0-a298-6355897e2124",
         "x": [
          "A to B",
          "A to C",
          "A to A25",
          "A to A50"
         ],
         "y": [
          0.04029143730261037,
          0.05953476897610971,
          0.04418936432902909,
          0.0255144348719768
         ]
        },
        {
         "marker": {
          "color": "rgba(255, 153, 51, 0.6)",
          "line": {
           "color": "rgba(255, 153, 51, 0.8999999999999999)",
           "width": 1
          }
         },
         "name": "ARl",
         "orientation": "v",
         "text": "",
         "type": "bar",
         "uid": "0dc7e801-9d01-4e64-b440-27094b05df51",
         "x": [
          "A to B",
          "A to C",
          "A to A25",
          "A to A50"
         ],
         "y": [
          0.04958722472039656,
          0.04598864143658332,
          0.01832409452264183,
          -0.003346814605894477
         ]
        }
       ],
       "layout": {
        "height": 540,
        "title": {
         "text": "Impact of GAN-based augmentation"
        },
        "width": 960,
        "yaxis": {
         "title": {
          "text": "Absolute change in score"
         }
        }
       }
      },
      "text/html": [
       "<div id=\"ca30b6cc-fb79-4e93-b6de-aa8f0d477b0e\" style=\"height: 540px; width: 960px;\" class=\"plotly-graph-div\"></div><script type=\"text/javascript\">require([\"plotly\"], function(Plotly) { window.PLOTLYENV=window.PLOTLYENV || {};window.PLOTLYENV.BASE_URL=\"https://plot.ly\";\n",
       "if (document.getElementById(\"ca30b6cc-fb79-4e93-b6de-aa8f0d477b0e\")) {\n",
       "    Plotly.newPlot(\"ca30b6cc-fb79-4e93-b6de-aa8f0d477b0e\", [{\"marker\": {\"color\": \"rgba(255, 153, 51, 0.6)\", \"line\": {\"color\": \"rgba(255, 153, 51, 1.0)\", \"width\": 1}}, \"name\": \"AP\", \"orientation\": \"v\", \"text\": \"\", \"x\": [\"A to B\", \"A to C\", \"A to A25\", \"A to A50\"], \"y\": [0.038206491364724426, 0.037003795037071296, 0.007671642017519353, -0.0018542621296622763], \"type\": \"bar\", \"uid\": \"d6901ed3-fa57-44f5-a63e-70625b992bee\"}, {\"marker\": {\"color\": \"rgba(55, 128, 191, 0.6)\", \"line\": {\"color\": \"rgba(55, 128, 191, 1.0)\", \"width\": 1}}, \"name\": \"AP50\", \"orientation\": \"v\", \"text\": \"\", \"x\": [\"A to B\", \"A to C\", \"A to A25\", \"A to A50\"], \"y\": [0.0672683137003669, 0.06379151441176867, 0.007592776707586513, -0.000225749717436885], \"type\": \"bar\", \"uid\": \"668345ae-3ed4-4f44-9efa-e8d276888976\"}, {\"marker\": {\"color\": \"rgba(50, 171, 96, 0.6)\", \"line\": {\"color\": \"rgba(50, 171, 96, 1.0)\", \"width\": 1}}, \"name\": \"AP75\", \"orientation\": \"v\", \"text\": \"\", \"x\": [\"A to B\", \"A to C\", \"A to A25\", \"A to A50\"], \"y\": [0.028519852587081007, 0.046370595290582406, 0.012458328185885714, -0.006949921320177688], \"type\": \"bar\", \"uid\": \"dcc37f73-74e3-4a1a-a589-8fcc9ecbd7b0\"}, {\"marker\": {\"color\": \"rgba(128, 0, 128, 0.6)\", \"line\": {\"color\": \"rgba(128, 0, 128, 1.0)\", \"width\": 1}}, \"name\": \"APs\", \"orientation\": \"v\", \"text\": \"\", \"x\": [\"A to B\", \"A to C\", \"A to A25\", \"A to A50\"], \"y\": [0.017171718402252498, 0.025626602884940397, -0.0005245860027663085, 0.004572567835120195], \"type\": \"bar\", \"uid\": \"0599e0bb-f449-4b37-a416-5347d7c7fa5f\"}, {\"marker\": {\"color\": \"rgba(219, 64, 82, 0.6)\", \"line\": {\"color\": \"rgba(219, 64, 82, 1.0)\", \"width\": 1}}, \"name\": \"APm\", \"orientation\": \"v\", \"text\": \"\", \"x\": [\"A to B\", \"A to C\", \"A to A25\", \"A to A50\"], \"y\": [0.03180523351585077, 0.05057250967650226, 0.0009520155323176904, -0.00099592269419016], \"type\": \"bar\", \"uid\": \"613910b1-bc7d-48c8-9edf-0b073360b57b\"}, {\"marker\": {\"color\": \"rgba(0, 128, 128, 0.6)\", \"line\": {\"color\": \"rgba(0, 128, 128, 1.0)\", \"width\": 1}}, \"name\": \"APl\", \"orientation\": \"v\", \"text\": \"\", \"x\": [\"A to B\", \"A to C\", \"A to A25\", \"A to A50\"], \"y\": [0.03761167542779942, 0.03343676448848265, 0.017897790855080253, -0.006091217605652233], \"type\": \"bar\", \"uid\": \"c1c69675-cb56-42e0-b7c6-77b8f4c8458d\"}, {\"marker\": {\"color\": \"rgba(255, 255, 51, 0.6)\", \"line\": {\"color\": \"rgba(255, 255, 51, 1.0)\", \"width\": 1}}, \"name\": \"AR@1\", \"orientation\": \"v\", \"text\": \"\", \"x\": [\"A to B\", \"A to C\", \"A to A25\", \"A to A50\"], \"y\": [0.03995219326935834, 0.03618947280840884, 0.01866214887808504, 0.008931654749145146], \"type\": \"bar\", \"uid\": \"56600d44-e303-44c5-9e71-1aadd86b641f\"}, {\"marker\": {\"color\": \"rgba(128, 128, 0, 0.6)\", \"line\": {\"color\": \"rgba(128, 128, 0, 1.0)\", \"width\": 1}}, \"name\": \"AR@10\", \"orientation\": \"v\", \"text\": \"\", \"x\": [\"A to B\", \"A to C\", \"A to A25\", \"A to A50\"], \"y\": [0.04113552474592991, 0.04730368466509932, 0.03198215106482649, 0.01138755837297889], \"type\": \"bar\", \"uid\": \"44ce955a-16c8-4bd4-a29e-45ffb68b5801\"}, {\"marker\": {\"color\": \"rgba(251, 128, 114, 0.6)\", \"line\": {\"color\": \"rgba(251, 128, 114, 1.0)\", \"width\": 1}}, \"name\": \"AR\", \"orientation\": \"v\", \"text\": \"\", \"x\": [\"A to B\", \"A to C\", \"A to A25\", \"A to A50\"], \"y\": [0.04085065567613705, 0.04908404061511146, 0.03175206450845536, 0.009685648289344262], \"type\": \"bar\", \"uid\": \"f24c2506-d8cb-433d-b7cb-fa9d4cb769a7\"}, {\"marker\": {\"color\": \"rgba(128, 177, 211, 0.6)\", \"line\": {\"color\": \"rgba(128, 177, 211, 1.0)\", \"width\": 1}}, \"name\": \"ARs\", \"orientation\": \"v\", \"text\": \"\", \"x\": [\"A to B\", \"A to C\", \"A to A25\", \"A to A50\"], \"y\": [-0.006517518312593867, -0.026084887224680747, 0.009169850095187587, -0.03570546036789091], \"type\": \"bar\", \"uid\": \"220a1cb2-d7db-4e82-9ad7-9b5660a23478\"}, {\"marker\": {\"color\": \"rgba(128, 177, 211, 0.6)\", \"line\": {\"color\": \"rgba(128, 177, 211, 0.8999999999999999)\", \"width\": 1}}, \"name\": \"ARm\", \"orientation\": \"v\", \"text\": \"\", \"x\": [\"A to B\", \"A to C\", \"A to A25\", \"A to A50\"], \"y\": [0.04029143730261037, 0.05953476897610971, 0.04418936432902909, 0.0255144348719768], \"type\": \"bar\", \"uid\": \"1ac26a77-5782-4fc0-a298-6355897e2124\"}, {\"marker\": {\"color\": \"rgba(255, 153, 51, 0.6)\", \"line\": {\"color\": \"rgba(255, 153, 51, 0.8999999999999999)\", \"width\": 1}}, \"name\": \"ARl\", \"orientation\": \"v\", \"text\": \"\", \"x\": [\"A to B\", \"A to C\", \"A to A25\", \"A to A50\"], \"y\": [0.04958722472039656, 0.04598864143658332, 0.01832409452264183, -0.003346814605894477], \"type\": \"bar\", \"uid\": \"0dc7e801-9d01-4e64-b440-27094b05df51\"}], {\"height\": 540, \"title\": {\"text\": \"Impact of GAN-based augmentation\"}, \"width\": 960, \"yaxis\": {\"title\": {\"text\": \"Absolute change in score\"}}}, {\"modeBarButtonsToRemove\": [\"sendDataToCloud\"], \"displaylogo\": false, \"showLink\": false, \"linkText\": \"Export to plot.ly\", \"plotlyServerURL\": \"https://plot.ly\"}); \n",
       "}\n",
       "});</script>"
      ],
      "text/vnd.plotly.v1+html": [
       "<div id=\"ca30b6cc-fb79-4e93-b6de-aa8f0d477b0e\" style=\"height: 540px; width: 960px;\" class=\"plotly-graph-div\"></div><script type=\"text/javascript\">require([\"plotly\"], function(Plotly) { window.PLOTLYENV=window.PLOTLYENV || {};window.PLOTLYENV.BASE_URL=\"https://plot.ly\";\n",
       "if (document.getElementById(\"ca30b6cc-fb79-4e93-b6de-aa8f0d477b0e\")) {\n",
       "    Plotly.newPlot(\"ca30b6cc-fb79-4e93-b6de-aa8f0d477b0e\", [{\"marker\": {\"color\": \"rgba(255, 153, 51, 0.6)\", \"line\": {\"color\": \"rgba(255, 153, 51, 1.0)\", \"width\": 1}}, \"name\": \"AP\", \"orientation\": \"v\", \"text\": \"\", \"x\": [\"A to B\", \"A to C\", \"A to A25\", \"A to A50\"], \"y\": [0.038206491364724426, 0.037003795037071296, 0.007671642017519353, -0.0018542621296622763], \"type\": \"bar\", \"uid\": \"d6901ed3-fa57-44f5-a63e-70625b992bee\"}, {\"marker\": {\"color\": \"rgba(55, 128, 191, 0.6)\", \"line\": {\"color\": \"rgba(55, 128, 191, 1.0)\", \"width\": 1}}, \"name\": \"AP50\", \"orientation\": \"v\", \"text\": \"\", \"x\": [\"A to B\", \"A to C\", \"A to A25\", \"A to A50\"], \"y\": [0.0672683137003669, 0.06379151441176867, 0.007592776707586513, -0.000225749717436885], \"type\": \"bar\", \"uid\": \"668345ae-3ed4-4f44-9efa-e8d276888976\"}, {\"marker\": {\"color\": \"rgba(50, 171, 96, 0.6)\", \"line\": {\"color\": \"rgba(50, 171, 96, 1.0)\", \"width\": 1}}, \"name\": \"AP75\", \"orientation\": \"v\", \"text\": \"\", \"x\": [\"A to B\", \"A to C\", \"A to A25\", \"A to A50\"], \"y\": [0.028519852587081007, 0.046370595290582406, 0.012458328185885714, -0.006949921320177688], \"type\": \"bar\", \"uid\": \"dcc37f73-74e3-4a1a-a589-8fcc9ecbd7b0\"}, {\"marker\": {\"color\": \"rgba(128, 0, 128, 0.6)\", \"line\": {\"color\": \"rgba(128, 0, 128, 1.0)\", \"width\": 1}}, \"name\": \"APs\", \"orientation\": \"v\", \"text\": \"\", \"x\": [\"A to B\", \"A to C\", \"A to A25\", \"A to A50\"], \"y\": [0.017171718402252498, 0.025626602884940397, -0.0005245860027663085, 0.004572567835120195], \"type\": \"bar\", \"uid\": \"0599e0bb-f449-4b37-a416-5347d7c7fa5f\"}, {\"marker\": {\"color\": \"rgba(219, 64, 82, 0.6)\", \"line\": {\"color\": \"rgba(219, 64, 82, 1.0)\", \"width\": 1}}, \"name\": \"APm\", \"orientation\": \"v\", \"text\": \"\", \"x\": [\"A to B\", \"A to C\", \"A to A25\", \"A to A50\"], \"y\": [0.03180523351585077, 0.05057250967650226, 0.0009520155323176904, -0.00099592269419016], \"type\": \"bar\", \"uid\": \"613910b1-bc7d-48c8-9edf-0b073360b57b\"}, {\"marker\": {\"color\": \"rgba(0, 128, 128, 0.6)\", \"line\": {\"color\": \"rgba(0, 128, 128, 1.0)\", \"width\": 1}}, \"name\": \"APl\", \"orientation\": \"v\", \"text\": \"\", \"x\": [\"A to B\", \"A to C\", \"A to A25\", \"A to A50\"], \"y\": [0.03761167542779942, 0.03343676448848265, 0.017897790855080253, -0.006091217605652233], \"type\": \"bar\", \"uid\": \"c1c69675-cb56-42e0-b7c6-77b8f4c8458d\"}, {\"marker\": {\"color\": \"rgba(255, 255, 51, 0.6)\", \"line\": {\"color\": \"rgba(255, 255, 51, 1.0)\", \"width\": 1}}, \"name\": \"AR@1\", \"orientation\": \"v\", \"text\": \"\", \"x\": [\"A to B\", \"A to C\", \"A to A25\", \"A to A50\"], \"y\": [0.03995219326935834, 0.03618947280840884, 0.01866214887808504, 0.008931654749145146], \"type\": \"bar\", \"uid\": \"56600d44-e303-44c5-9e71-1aadd86b641f\"}, {\"marker\": {\"color\": \"rgba(128, 128, 0, 0.6)\", \"line\": {\"color\": \"rgba(128, 128, 0, 1.0)\", \"width\": 1}}, \"name\": \"AR@10\", \"orientation\": \"v\", \"text\": \"\", \"x\": [\"A to B\", \"A to C\", \"A to A25\", \"A to A50\"], \"y\": [0.04113552474592991, 0.04730368466509932, 0.03198215106482649, 0.01138755837297889], \"type\": \"bar\", \"uid\": \"44ce955a-16c8-4bd4-a29e-45ffb68b5801\"}, {\"marker\": {\"color\": \"rgba(251, 128, 114, 0.6)\", \"line\": {\"color\": \"rgba(251, 128, 114, 1.0)\", \"width\": 1}}, \"name\": \"AR\", \"orientation\": \"v\", \"text\": \"\", \"x\": [\"A to B\", \"A to C\", \"A to A25\", \"A to A50\"], \"y\": [0.04085065567613705, 0.04908404061511146, 0.03175206450845536, 0.009685648289344262], \"type\": \"bar\", \"uid\": \"f24c2506-d8cb-433d-b7cb-fa9d4cb769a7\"}, {\"marker\": {\"color\": \"rgba(128, 177, 211, 0.6)\", \"line\": {\"color\": \"rgba(128, 177, 211, 1.0)\", \"width\": 1}}, \"name\": \"ARs\", \"orientation\": \"v\", \"text\": \"\", \"x\": [\"A to B\", \"A to C\", \"A to A25\", \"A to A50\"], \"y\": [-0.006517518312593867, -0.026084887224680747, 0.009169850095187587, -0.03570546036789091], \"type\": \"bar\", \"uid\": \"220a1cb2-d7db-4e82-9ad7-9b5660a23478\"}, {\"marker\": {\"color\": \"rgba(128, 177, 211, 0.6)\", \"line\": {\"color\": \"rgba(128, 177, 211, 0.8999999999999999)\", \"width\": 1}}, \"name\": \"ARm\", \"orientation\": \"v\", \"text\": \"\", \"x\": [\"A to B\", \"A to C\", \"A to A25\", \"A to A50\"], \"y\": [0.04029143730261037, 0.05953476897610971, 0.04418936432902909, 0.0255144348719768], \"type\": \"bar\", \"uid\": \"1ac26a77-5782-4fc0-a298-6355897e2124\"}, {\"marker\": {\"color\": \"rgba(255, 153, 51, 0.6)\", \"line\": {\"color\": \"rgba(255, 153, 51, 0.8999999999999999)\", \"width\": 1}}, \"name\": \"ARl\", \"orientation\": \"v\", \"text\": \"\", \"x\": [\"A to B\", \"A to C\", \"A to A25\", \"A to A50\"], \"y\": [0.04958722472039656, 0.04598864143658332, 0.01832409452264183, -0.003346814605894477], \"type\": \"bar\", \"uid\": \"0dc7e801-9d01-4e64-b440-27094b05df51\"}], {\"height\": 540, \"title\": {\"text\": \"Impact of GAN-based augmentation\"}, \"width\": 960, \"yaxis\": {\"title\": {\"text\": \"Absolute change in score\"}}}, {\"modeBarButtonsToRemove\": [\"sendDataToCloud\"], \"displaylogo\": false, \"showLink\": false, \"linkText\": \"Export to plot.ly\", \"plotlyServerURL\": \"https://plot.ly\"}); \n",
       "}\n",
       "});</script>"
      ]
     },
     "metadata": {},
     "output_type": "display_data"
    }
   ],
   "source": [
    "cf.go_offline(connected = True)\n",
    "config = {\n",
    "    \"modeBarButtonsToRemove\": [\"sendDataToCloud\"],\n",
    "    \"displaylogo\": False\n",
    "}\n",
    "layout = {\n",
    "    \"title\": \"Impact of GAN-based augmentation\",\n",
    "    \"yaxis\": {\n",
    "        \"title\": \"Absolute change in score\"\n",
    "    },\n",
    "    \"width\": 960,\n",
    "    \"height\": 540\n",
    "}\n",
    "fig = df_combined.iplot(kind = \"bar\", y = [\"AP\", \"AP50\", \"AP75\", \"APs\", \"APm\", \"APl\", \"AR@1\", \"AR@10\", \"AR\", \"ARs\", \"ARm\", \"ARl\"], layout = layout, asFigure = True)\n",
    "py.offline.iplot(fig, show_link = False, config = config)"
   ]
  },
  {
   "cell_type": "code",
   "execution_count": 28,
   "metadata": {},
   "outputs": [],
   "source": [
    "df_combined = df_combined * 100"
   ]
  },
  {
   "cell_type": "code",
   "execution_count": 29,
   "metadata": {},
   "outputs": [
    {
     "data": {
      "text/plain": [
       "Text(0, 0.5, 'Absolute change in score (%)')"
      ]
     },
     "execution_count": 29,
     "metadata": {},
     "output_type": "execute_result"
    },
    {
     "data": {
      "image/png": "[encoded data removed]",
      "text/plain": [
       "<Figure size 1152x648 with 1 Axes>"
      ]
     },
     "metadata": {
      "needs_background": "light"
     },
     "output_type": "display_data"
    }
   ],
   "source": [
    "ax = df_combined.plot(kind = \"bar\", figsize = (16, 9))\n",
    "ax.set_xlabel(\"\")\n",
    "ax.set_ylabel(\"Absolute change in score (%)\")"
   ]
  },
  {
   "cell_type": "code",
   "execution_count": 30,
   "metadata": {},
   "outputs": [
    {
     "data": {
      "application/vnd.plotly.v1+json": {
       "config": {
        "displaylogo": false,
        "linkText": "Export to plot.ly",
        "modeBarButtonsToRemove": [
         "sendDataToCloud"
        ],
        "plotlyServerURL": "https://plot.ly",
        "showLink": false
       },
       "data": [
        {
         "marker": {
          "color": "rgba(255, 153, 51, 0.6)",
          "line": {
           "color": "rgba(255, 153, 51, 1.0)",
           "width": 1
          }
         },
         "name": "AP",
         "orientation": "v",
         "text": "",
         "type": "bar",
         "uid": "59503d37-c004-4d4c-ab3a-77b976381754",
         "x": [
          "A to B",
          "A to C",
          "A to A25",
          "A to A50"
         ],
         "y": [
          3.8206491364724426,
          3.7003795037071296,
          0.7671642017519353,
          -0.18542621296622763
         ]
        },
        {
         "marker": {
          "color": "rgba(55, 128, 191, 0.6)",
          "line": {
           "color": "rgba(55, 128, 191, 1.0)",
           "width": 1
          }
         },
         "name": "AP50",
         "orientation": "v",
         "text": "",
         "type": "bar",
         "uid": "3c857d7a-1778-454c-a0dd-74cf854a0358",
         "x": [
          "A to B",
          "A to C",
          "A to A25",
          "A to A50"
         ],
         "y": [
          6.72683137003669,
          6.379151441176867,
          0.7592776707586513,
          -0.0225749717436885
         ]
        },
        {
         "marker": {
          "color": "rgba(50, 171, 96, 0.6)",
          "line": {
           "color": "rgba(50, 171, 96, 1.0)",
           "width": 1
          }
         },
         "name": "AP75",
         "orientation": "v",
         "text": "",
         "type": "bar",
         "uid": "5da95b26-3726-4e9b-bb31-01ca94c1b997",
         "x": [
          "A to B",
          "A to C",
          "A to A25",
          "A to A50"
         ],
         "y": [
          2.8519852587081007,
          4.637059529058241,
          1.2458328185885714,
          -0.6949921320177688
         ]
        },
        {
         "marker": {
          "color": "rgba(128, 0, 128, 0.6)",
          "line": {
           "color": "rgba(128, 0, 128, 1.0)",
           "width": 1
          }
         },
         "name": "APs",
         "orientation": "v",
         "text": "",
         "type": "bar",
         "uid": "4383ac17-6cc1-4192-b347-cfe3d08d844e",
         "x": [
          "A to B",
          "A to C",
          "A to A25",
          "A to A50"
         ],
         "y": [
          1.7171718402252498,
          2.5626602884940395,
          -0.05245860027663085,
          0.4572567835120195
         ]
        },
        {
         "marker": {
          "color": "rgba(219, 64, 82, 0.6)",
          "line": {
           "color": "rgba(219, 64, 82, 1.0)",
           "width": 1
          }
         },
         "name": "APm",
         "orientation": "v",
         "text": "",
         "type": "bar",
         "uid": "03c055d3-16ed-4552-a994-a7b245187e91",
         "x": [
          "A to B",
          "A to C",
          "A to A25",
          "A to A50"
         ],
         "y": [
          3.1805233515850766,
          5.0572509676502255,
          0.09520155323176904,
          -0.099592269419016
         ]
        },
        {
         "marker": {
          "color": "rgba(0, 128, 128, 0.6)",
          "line": {
           "color": "rgba(0, 128, 128, 1.0)",
           "width": 1
          }
         },
         "name": "APl",
         "orientation": "v",
         "text": "",
         "type": "bar",
         "uid": "a440864c-0fe2-4b9b-bf1d-0f48784dc168",
         "x": [
          "A to B",
          "A to C",
          "A to A25",
          "A to A50"
         ],
         "y": [
          3.761167542779942,
          3.343676448848265,
          1.7897790855080253,
          -0.6091217605652233
         ]
        },
        {
         "marker": {
          "color": "rgba(255, 255, 51, 0.6)",
          "line": {
           "color": "rgba(255, 255, 51, 1.0)",
           "width": 1
          }
         },
         "name": "AR@1",
         "orientation": "v",
         "text": "",
         "type": "bar",
         "uid": "3499eb5b-bade-456a-a726-3aeee8fe4000",
         "x": [
          "A to B",
          "A to C",
          "A to A25",
          "A to A50"
         ],
         "y": [
          3.9952193269358336,
          3.6189472808408842,
          1.8662148878085039,
          0.8931654749145146
         ]
        },
        {
         "marker": {
          "color": "rgba(128, 128, 0, 0.6)",
          "line": {
           "color": "rgba(128, 128, 0, 1.0)",
           "width": 1
          }
         },
         "name": "AR@10",
         "orientation": "v",
         "text": "",
         "type": "bar",
         "uid": "458a8b2b-c36b-4973-8c71-4247afae510a",
         "x": [
          "A to B",
          "A to C",
          "A to A25",
          "A to A50"
         ],
         "y": [
          4.113552474592991,
          4.730368466509932,
          3.198215106482649,
          1.138755837297889
         ]
        },
        {
         "marker": {
          "color": "rgba(251, 128, 114, 0.6)",
          "line": {
           "color": "rgba(251, 128, 114, 1.0)",
           "width": 1
          }
         },
         "name": "AR",
         "orientation": "v",
         "text": "",
         "type": "bar",
         "uid": "df320c1a-03c8-4fd9-875b-4b783a6d3247",
         "x": [
          "A to B",
          "A to C",
          "A to A25",
          "A to A50"
         ],
         "y": [
          4.085065567613705,
          4.9084040615111455,
          3.1752064508455358,
          0.9685648289344262
         ]
        },
        {
         "marker": {
          "color": "rgba(128, 177, 211, 0.6)",
          "line": {
           "color": "rgba(128, 177, 211, 1.0)",
           "width": 1
          }
         },
         "name": "ARs",
         "orientation": "v",
         "text": "",
         "type": "bar",
         "uid": "5f0cdb9f-ca73-47cf-809b-42d715b9f58d",
         "x": [
          "A to B",
          "A to C",
          "A to A25",
          "A to A50"
         ],
         "y": [
          -0.6517518312593867,
          -2.6084887224680746,
          0.9169850095187587,
          -3.5705460367890907
         ]
        },
        {
         "marker": {
          "color": "rgba(128, 177, 211, 0.6)",
          "line": {
           "color": "rgba(128, 177, 211, 0.8999999999999999)",
           "width": 1
          }
         },
         "name": "ARm",
         "orientation": "v",
         "text": "",
         "type": "bar",
         "uid": "af5cc403-78ef-4068-8c34-3dad42d6340b",
         "x": [
          "A to B",
          "A to C",
          "A to A25",
          "A to A50"
         ],
         "y": [
          4.029143730261037,
          5.953476897610971,
          4.418936432902909,
          2.55144348719768
         ]
        },
        {
         "marker": {
          "color": "rgba(255, 153, 51, 0.6)",
          "line": {
           "color": "rgba(255, 153, 51, 0.8999999999999999)",
           "width": 1
          }
         },
         "name": "ARl",
         "orientation": "v",
         "text": "",
         "type": "bar",
         "uid": "6491bcef-ee42-4661-9403-bd4b53010a1b",
         "x": [
          "A to B",
          "A to C",
          "A to A25",
          "A to A50"
         ],
         "y": [
          4.958722472039656,
          4.598864143658332,
          1.8324094522641832,
          -0.3346814605894477
         ]
        }
       ],
       "layout": {
        "height": 540,
        "title": {
         "text": "Impact of GAN-based augmentation"
        },
        "width": 960,
        "yaxis": {
         "title": {
          "text": "Absolute change in score (%)"
         }
        }
       }
      },
      "text/html": [
       "<div id=\"7823e3c2-4449-48fe-a2dd-527b02f00eb8\" style=\"height: 540px; width: 960px;\" class=\"plotly-graph-div\"></div><script type=\"text/javascript\">require([\"plotly\"], function(Plotly) { window.PLOTLYENV=window.PLOTLYENV || {};window.PLOTLYENV.BASE_URL=\"https://plot.ly\";\n",
       "if (document.getElementById(\"7823e3c2-4449-48fe-a2dd-527b02f00eb8\")) {\n",
       "    Plotly.newPlot(\"7823e3c2-4449-48fe-a2dd-527b02f00eb8\", [{\"marker\": {\"color\": \"rgba(255, 153, 51, 0.6)\", \"line\": {\"color\": \"rgba(255, 153, 51, 1.0)\", \"width\": 1}}, \"name\": \"AP\", \"orientation\": \"v\", \"text\": \"\", \"x\": [\"A to B\", \"A to C\", \"A to A25\", \"A to A50\"], \"y\": [3.8206491364724426, 3.7003795037071296, 0.7671642017519353, -0.18542621296622763], \"type\": \"bar\", \"uid\": \"59503d37-c004-4d4c-ab3a-77b976381754\"}, {\"marker\": {\"color\": \"rgba(55, 128, 191, 0.6)\", \"line\": {\"color\": \"rgba(55, 128, 191, 1.0)\", \"width\": 1}}, \"name\": \"AP50\", \"orientation\": \"v\", \"text\": \"\", \"x\": [\"A to B\", \"A to C\", \"A to A25\", \"A to A50\"], \"y\": [6.72683137003669, 6.379151441176867, 0.7592776707586513, -0.0225749717436885], \"type\": \"bar\", \"uid\": \"3c857d7a-1778-454c-a0dd-74cf854a0358\"}, {\"marker\": {\"color\": \"rgba(50, 171, 96, 0.6)\", \"line\": {\"color\": \"rgba(50, 171, 96, 1.0)\", \"width\": 1}}, \"name\": \"AP75\", \"orientation\": \"v\", \"text\": \"\", \"x\": [\"A to B\", \"A to C\", \"A to A25\", \"A to A50\"], \"y\": [2.8519852587081007, 4.637059529058241, 1.2458328185885714, -0.6949921320177688], \"type\": \"bar\", \"uid\": \"5da95b26-3726-4e9b-bb31-01ca94c1b997\"}, {\"marker\": {\"color\": \"rgba(128, 0, 128, 0.6)\", \"line\": {\"color\": \"rgba(128, 0, 128, 1.0)\", \"width\": 1}}, \"name\": \"APs\", \"orientation\": \"v\", \"text\": \"\", \"x\": [\"A to B\", \"A to C\", \"A to A25\", \"A to A50\"], \"y\": [1.7171718402252498, 2.5626602884940395, -0.05245860027663085, 0.4572567835120195], \"type\": \"bar\", \"uid\": \"4383ac17-6cc1-4192-b347-cfe3d08d844e\"}, {\"marker\": {\"color\": \"rgba(219, 64, 82, 0.6)\", \"line\": {\"color\": \"rgba(219, 64, 82, 1.0)\", \"width\": 1}}, \"name\": \"APm\", \"orientation\": \"v\", \"text\": \"\", \"x\": [\"A to B\", \"A to C\", \"A to A25\", \"A to A50\"], \"y\": [3.1805233515850766, 5.0572509676502255, 0.09520155323176904, -0.099592269419016], \"type\": \"bar\", \"uid\": \"03c055d3-16ed-4552-a994-a7b245187e91\"}, {\"marker\": {\"color\": \"rgba(0, 128, 128, 0.6)\", \"line\": {\"color\": \"rgba(0, 128, 128, 1.0)\", \"width\": 1}}, \"name\": \"APl\", \"orientation\": \"v\", \"text\": \"\", \"x\": [\"A to B\", \"A to C\", \"A to A25\", \"A to A50\"], \"y\": [3.761167542779942, 3.343676448848265, 1.7897790855080253, -0.6091217605652233], \"type\": \"bar\", \"uid\": \"a440864c-0fe2-4b9b-bf1d-0f48784dc168\"}, {\"marker\": {\"color\": \"rgba(255, 255, 51, 0.6)\", \"line\": {\"color\": \"rgba(255, 255, 51, 1.0)\", \"width\": 1}}, \"name\": \"AR@1\", \"orientation\": \"v\", \"text\": \"\", \"x\": [\"A to B\", \"A to C\", \"A to A25\", \"A to A50\"], \"y\": [3.9952193269358336, 3.6189472808408842, 1.8662148878085039, 0.8931654749145146], \"type\": \"bar\", \"uid\": \"3499eb5b-bade-456a-a726-3aeee8fe4000\"}, {\"marker\": {\"color\": \"rgba(128, 128, 0, 0.6)\", \"line\": {\"color\": \"rgba(128, 128, 0, 1.0)\", \"width\": 1}}, \"name\": \"AR@10\", \"orientation\": \"v\", \"text\": \"\", \"x\": [\"A to B\", \"A to C\", \"A to A25\", \"A to A50\"], \"y\": [4.113552474592991, 4.730368466509932, 3.198215106482649, 1.138755837297889], \"type\": \"bar\", \"uid\": \"458a8b2b-c36b-4973-8c71-4247afae510a\"}, {\"marker\": {\"color\": \"rgba(251, 128, 114, 0.6)\", \"line\": {\"color\": \"rgba(251, 128, 114, 1.0)\", \"width\": 1}}, \"name\": \"AR\", \"orientation\": \"v\", \"text\": \"\", \"x\": [\"A to B\", \"A to C\", \"A to A25\", \"A to A50\"], \"y\": [4.085065567613705, 4.9084040615111455, 3.1752064508455358, 0.9685648289344262], \"type\": \"bar\", \"uid\": \"df320c1a-03c8-4fd9-875b-4b783a6d3247\"}, {\"marker\": {\"color\": \"rgba(128, 177, 211, 0.6)\", \"line\": {\"color\": \"rgba(128, 177, 211, 1.0)\", \"width\": 1}}, \"name\": \"ARs\", \"orientation\": \"v\", \"text\": \"\", \"x\": [\"A to B\", \"A to C\", \"A to A25\", \"A to A50\"], \"y\": [-0.6517518312593867, -2.6084887224680746, 0.9169850095187587, -3.5705460367890907], \"type\": \"bar\", \"uid\": \"5f0cdb9f-ca73-47cf-809b-42d715b9f58d\"}, {\"marker\": {\"color\": \"rgba(128, 177, 211, 0.6)\", \"line\": {\"color\": \"rgba(128, 177, 211, 0.8999999999999999)\", \"width\": 1}}, \"name\": \"ARm\", \"orientation\": \"v\", \"text\": \"\", \"x\": [\"A to B\", \"A to C\", \"A to A25\", \"A to A50\"], \"y\": [4.029143730261037, 5.953476897610971, 4.418936432902909, 2.55144348719768], \"type\": \"bar\", \"uid\": \"af5cc403-78ef-4068-8c34-3dad42d6340b\"}, {\"marker\": {\"color\": \"rgba(255, 153, 51, 0.6)\", \"line\": {\"color\": \"rgba(255, 153, 51, 0.8999999999999999)\", \"width\": 1}}, \"name\": \"ARl\", \"orientation\": \"v\", \"text\": \"\", \"x\": [\"A to B\", \"A to C\", \"A to A25\", \"A to A50\"], \"y\": [4.958722472039656, 4.598864143658332, 1.8324094522641832, -0.3346814605894477], \"type\": \"bar\", \"uid\": \"6491bcef-ee42-4661-9403-bd4b53010a1b\"}], {\"height\": 540, \"title\": {\"text\": \"Impact of GAN-based augmentation\"}, \"width\": 960, \"yaxis\": {\"title\": {\"text\": \"Absolute change in score (%)\"}}}, {\"modeBarButtonsToRemove\": [\"sendDataToCloud\"], \"displaylogo\": false, \"showLink\": false, \"linkText\": \"Export to plot.ly\", \"plotlyServerURL\": \"https://plot.ly\"}); \n",
       "}\n",
       "});</script>"
      ],
      "text/vnd.plotly.v1+html": [
       "<div id=\"7823e3c2-4449-48fe-a2dd-527b02f00eb8\" style=\"height: 540px; width: 960px;\" class=\"plotly-graph-div\"></div><script type=\"text/javascript\">require([\"plotly\"], function(Plotly) { window.PLOTLYENV=window.PLOTLYENV || {};window.PLOTLYENV.BASE_URL=\"https://plot.ly\";\n",
       "if (document.getElementById(\"7823e3c2-4449-48fe-a2dd-527b02f00eb8\")) {\n",
       "    Plotly.newPlot(\"7823e3c2-4449-48fe-a2dd-527b02f00eb8\", [{\"marker\": {\"color\": \"rgba(255, 153, 51, 0.6)\", \"line\": {\"color\": \"rgba(255, 153, 51, 1.0)\", \"width\": 1}}, \"name\": \"AP\", \"orientation\": \"v\", \"text\": \"\", \"x\": [\"A to B\", \"A to C\", \"A to A25\", \"A to A50\"], \"y\": [3.8206491364724426, 3.7003795037071296, 0.7671642017519353, -0.18542621296622763], \"type\": \"bar\", \"uid\": \"59503d37-c004-4d4c-ab3a-77b976381754\"}, {\"marker\": {\"color\": \"rgba(55, 128, 191, 0.6)\", \"line\": {\"color\": \"rgba(55, 128, 191, 1.0)\", \"width\": 1}}, \"name\": \"AP50\", \"orientation\": \"v\", \"text\": \"\", \"x\": [\"A to B\", \"A to C\", \"A to A25\", \"A to A50\"], \"y\": [6.72683137003669, 6.379151441176867, 0.7592776707586513, -0.0225749717436885], \"type\": \"bar\", \"uid\": \"3c857d7a-1778-454c-a0dd-74cf854a0358\"}, {\"marker\": {\"color\": \"rgba(50, 171, 96, 0.6)\", \"line\": {\"color\": \"rgba(50, 171, 96, 1.0)\", \"width\": 1}}, \"name\": \"AP75\", \"orientation\": \"v\", \"text\": \"\", \"x\": [\"A to B\", \"A to C\", \"A to A25\", \"A to A50\"], \"y\": [2.8519852587081007, 4.637059529058241, 1.2458328185885714, -0.6949921320177688], \"type\": \"bar\", \"uid\": \"5da95b26-3726-4e9b-bb31-01ca94c1b997\"}, {\"marker\": {\"color\": \"rgba(128, 0, 128, 0.6)\", \"line\": {\"color\": \"rgba(128, 0, 128, 1.0)\", \"width\": 1}}, \"name\": \"APs\", \"orientation\": \"v\", \"text\": \"\", \"x\": [\"A to B\", \"A to C\", \"A to A25\", \"A to A50\"], \"y\": [1.7171718402252498, 2.5626602884940395, -0.05245860027663085, 0.4572567835120195], \"type\": \"bar\", \"uid\": \"4383ac17-6cc1-4192-b347-cfe3d08d844e\"}, {\"marker\": {\"color\": \"rgba(219, 64, 82, 0.6)\", \"line\": {\"color\": \"rgba(219, 64, 82, 1.0)\", \"width\": 1}}, \"name\": \"APm\", \"orientation\": \"v\", \"text\": \"\", \"x\": [\"A to B\", \"A to C\", \"A to A25\", \"A to A50\"], \"y\": [3.1805233515850766, 5.0572509676502255, 0.09520155323176904, -0.099592269419016], \"type\": \"bar\", \"uid\": \"03c055d3-16ed-4552-a994-a7b245187e91\"}, {\"marker\": {\"color\": \"rgba(0, 128, 128, 0.6)\", \"line\": {\"color\": \"rgba(0, 128, 128, 1.0)\", \"width\": 1}}, \"name\": \"APl\", \"orientation\": \"v\", \"text\": \"\", \"x\": [\"A to B\", \"A to C\", \"A to A25\", \"A to A50\"], \"y\": [3.761167542779942, 3.343676448848265, 1.7897790855080253, -0.6091217605652233], \"type\": \"bar\", \"uid\": \"a440864c-0fe2-4b9b-bf1d-0f48784dc168\"}, {\"marker\": {\"color\": \"rgba(255, 255, 51, 0.6)\", \"line\": {\"color\": \"rgba(255, 255, 51, 1.0)\", \"width\": 1}}, \"name\": \"AR@1\", \"orientation\": \"v\", \"text\": \"\", \"x\": [\"A to B\", \"A to C\", \"A to A25\", \"A to A50\"], \"y\": [3.9952193269358336, 3.6189472808408842, 1.8662148878085039, 0.8931654749145146], \"type\": \"bar\", \"uid\": \"3499eb5b-bade-456a-a726-3aeee8fe4000\"}, {\"marker\": {\"color\": \"rgba(128, 128, 0, 0.6)\", \"line\": {\"color\": \"rgba(128, 128, 0, 1.0)\", \"width\": 1}}, \"name\": \"AR@10\", \"orientation\": \"v\", \"text\": \"\", \"x\": [\"A to B\", \"A to C\", \"A to A25\", \"A to A50\"], \"y\": [4.113552474592991, 4.730368466509932, 3.198215106482649, 1.138755837297889], \"type\": \"bar\", \"uid\": \"458a8b2b-c36b-4973-8c71-4247afae510a\"}, {\"marker\": {\"color\": \"rgba(251, 128, 114, 0.6)\", \"line\": {\"color\": \"rgba(251, 128, 114, 1.0)\", \"width\": 1}}, \"name\": \"AR\", \"orientation\": \"v\", \"text\": \"\", \"x\": [\"A to B\", \"A to C\", \"A to A25\", \"A to A50\"], \"y\": [4.085065567613705, 4.9084040615111455, 3.1752064508455358, 0.9685648289344262], \"type\": \"bar\", \"uid\": \"df320c1a-03c8-4fd9-875b-4b783a6d3247\"}, {\"marker\": {\"color\": \"rgba(128, 177, 211, 0.6)\", \"line\": {\"color\": \"rgba(128, 177, 211, 1.0)\", \"width\": 1}}, \"name\": \"ARs\", \"orientation\": \"v\", \"text\": \"\", \"x\": [\"A to B\", \"A to C\", \"A to A25\", \"A to A50\"], \"y\": [-0.6517518312593867, -2.6084887224680746, 0.9169850095187587, -3.5705460367890907], \"type\": \"bar\", \"uid\": \"5f0cdb9f-ca73-47cf-809b-42d715b9f58d\"}, {\"marker\": {\"color\": \"rgba(128, 177, 211, 0.6)\", \"line\": {\"color\": \"rgba(128, 177, 211, 0.8999999999999999)\", \"width\": 1}}, \"name\": \"ARm\", \"orientation\": \"v\", \"text\": \"\", \"x\": [\"A to B\", \"A to C\", \"A to A25\", \"A to A50\"], \"y\": [4.029143730261037, 5.953476897610971, 4.418936432902909, 2.55144348719768], \"type\": \"bar\", \"uid\": \"af5cc403-78ef-4068-8c34-3dad42d6340b\"}, {\"marker\": {\"color\": \"rgba(255, 153, 51, 0.6)\", \"line\": {\"color\": \"rgba(255, 153, 51, 0.8999999999999999)\", \"width\": 1}}, \"name\": \"ARl\", \"orientation\": \"v\", \"text\": \"\", \"x\": [\"A to B\", \"A to C\", \"A to A25\", \"A to A50\"], \"y\": [4.958722472039656, 4.598864143658332, 1.8324094522641832, -0.3346814605894477], \"type\": \"bar\", \"uid\": \"6491bcef-ee42-4661-9403-bd4b53010a1b\"}], {\"height\": 540, \"title\": {\"text\": \"Impact of GAN-based augmentation\"}, \"width\": 960, \"yaxis\": {\"title\": {\"text\": \"Absolute change in score (%)\"}}}, {\"modeBarButtonsToRemove\": [\"sendDataToCloud\"], \"displaylogo\": false, \"showLink\": false, \"linkText\": \"Export to plot.ly\", \"plotlyServerURL\": \"https://plot.ly\"}); \n",
       "}\n",
       "});</script>"
      ]
     },
     "metadata": {},
     "output_type": "display_data"
    }
   ],
   "source": [
    "layout = {\n",
    "    \"title\": \"Impact of GAN-based augmentation\",\n",
    "    \"yaxis\": {\n",
    "        \"title\": \"Absolute change in score (%)\"\n",
    "    },\n",
    "    \"width\": 960,\n",
    "    \"height\": 540\n",
    "}\n",
    "fig = df_combined.iplot(kind = \"bar\", y = [\"AP\", \"AP50\", \"AP75\", \"APs\", \"APm\", \"APl\", \"AR@1\", \"AR@10\", \"AR\", \"ARs\", \"ARm\", \"ARl\"], layout = layout, asFigure = True)\n",
    "py.offline.iplot(fig, show_link = False, config = config)"
   ]
  }
 ],
 "metadata": {
  "kernelspec": {
   "display_name": "Python 3",
   "language": "python",
   "name": "python3"
  },
  "language_info": {
   "codemirror_mode": {
    "name": "ipython",
    "version": 3
   },
   "file_extension": ".py",
   "mimetype": "text/x-python",
   "name": "python",
   "nbconvert_exporter": "python",
   "pygments_lexer": "ipython3",
   "version": "3.6.7"
  }
 },
 "nbformat": 4,
 "nbformat_minor": 2
}

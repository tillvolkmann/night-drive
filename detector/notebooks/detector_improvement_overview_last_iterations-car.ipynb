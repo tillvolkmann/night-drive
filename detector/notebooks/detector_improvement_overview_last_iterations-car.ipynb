{
 "cells": [
  {
   "cell_type": "code",
   "execution_count": 1,
   "metadata": {},
   "outputs": [],
   "source": [
    "import glob\n",
    "import numpy as np\n",
    "import pandas as pd\n",
    "import plotly as py\n",
    "import cufflinks as cf\n",
    "%matplotlib inline"
   ]
  },
  {
   "cell_type": "code",
   "execution_count": 2,
   "metadata": {},
   "outputs": [],
   "source": [
    "train_A_over_logs = \"../eval/20190329_RetinaNet_train_A_over_class_eval/3\"\n",
    "train_B_over_logs = \"../eval/20190329_RetinaNet_train_B_over_class_eval/3\"\n",
    "train_C_over_logs = \"../eval/20190329_RetinaNet_train_C_over_class_eval/3\"\n",
    "train_A_over_ganaug_025_logs = \"../eval/20190329_RetinaNet_train_A_over_ganaug_025_class_eval/3\"\n",
    "train_A_over_ganaug_050_logs = \"../eval/20190329_RetinaNet_train_A_over_ganaug_050_class_eval/3\"\n",
    "pattern = \"/**/*test_night*.txt\"\n",
    "\n",
    "num_last_iteration = 240000\n",
    "train_A_over_iteration = 240000 # None = best\n",
    "train_B_over_iteration = 240000 # None = best\n",
    "train_C_over_iteration = 240000 # None = best\n",
    "train_A_over_ganaug_025_iteration = 240000 # None = best\n",
    "train_A_over_ganaug_050_iteration = 240000 # None = best"
   ]
  },
  {
   "cell_type": "code",
   "execution_count": 3,
   "metadata": {},
   "outputs": [],
   "source": [
    "train_A_over_logs = glob.glob(train_A_over_logs + pattern, recursive = True)\n",
    "train_B_over_logs = glob.glob(train_B_over_logs + pattern, recursive = True)\n",
    "train_C_over_logs = glob.glob(train_C_over_logs + pattern, recursive = True)\n",
    "\n",
    "train_A_over_ganaug_025_logs = glob.glob(train_A_over_ganaug_025_logs + pattern, recursive = True)\n",
    "train_A_over_ganaug_050_logs = glob.glob(train_A_over_ganaug_050_logs + pattern, recursive = True)"
   ]
  },
  {
   "cell_type": "code",
   "execution_count": 4,
   "metadata": {},
   "outputs": [],
   "source": [
    "def logs2df(logs, num_last_iteration, iteration = None):\n",
    "    df_iterations = pd.DataFrame()\n",
    "    for log in logs:\n",
    "        df = pd.read_csv(log)\n",
    "        df = df.drop(columns = [\"Unnamed: 12\"])\n",
    "        df[\"Iteration\"] = num_last_iteration if log.split(\"_model_\")[-1].split(\"_\")[0] == \"final\" else int(log.split(\"_model_\")[-1].split(\"_\")[0])\n",
    "        df_iterations = pd.concat([df_iterations, df], axis = 0)\n",
    "        df_iterations = df_iterations.reset_index(drop = True)\n",
    "    df_iterations = df_iterations.sort_values(by = ['Iteration']).reset_index(drop = True)\n",
    "    if iteration is not None:\n",
    "        df_iterations = df_iterations.loc[df_iterations.Iteration == iteration].drop_duplicates([\"Iteration\"], keep = \"last\").reset_index(drop = True)\n",
    "    df_iterations = df_iterations.set_index(\"Iteration\")\n",
    "    return df_iterations"
   ]
  },
  {
   "cell_type": "markdown",
   "metadata": {},
   "source": [
    "## Last (or other specified) iterations ##"
   ]
  },
  {
   "cell_type": "markdown",
   "metadata": {},
   "source": [
    "### --> All metrics are evaluated on the selected iteration <-- ###"
   ]
  },
  {
   "cell_type": "markdown",
   "metadata": {},
   "source": [
    "### train_A_over ###"
   ]
  },
  {
   "cell_type": "code",
   "execution_count": 5,
   "metadata": {},
   "outputs": [
    {
     "data": {
      "text/html": [
       "<div>\n",
       "<style scoped>\n",
       "    .dataframe tbody tr th:only-of-type {\n",
       "        vertical-align: middle;\n",
       "    }\n",
       "\n",
       "    .dataframe tbody tr th {\n",
       "        vertical-align: top;\n",
       "    }\n",
       "\n",
       "    .dataframe thead th {\n",
       "        text-align: right;\n",
       "    }\n",
       "</style>\n",
       "<table border=\"1\" class=\"dataframe\">\n",
       "  <thead>\n",
       "    <tr style=\"text-align: right;\">\n",
       "      <th></th>\n",
       "      <th>AP</th>\n",
       "      <th>AP50</th>\n",
       "      <th>AP75</th>\n",
       "      <th>APs</th>\n",
       "      <th>APm</th>\n",
       "      <th>APl</th>\n",
       "      <th>AR@1</th>\n",
       "      <th>AR@10</th>\n",
       "      <th>AR</th>\n",
       "      <th>ARs</th>\n",
       "      <th>ARm</th>\n",
       "      <th>ARl</th>\n",
       "    </tr>\n",
       "    <tr>\n",
       "      <th>Iteration</th>\n",
       "      <th></th>\n",
       "      <th></th>\n",
       "      <th></th>\n",
       "      <th></th>\n",
       "      <th></th>\n",
       "      <th></th>\n",
       "      <th></th>\n",
       "      <th></th>\n",
       "      <th></th>\n",
       "      <th></th>\n",
       "      <th></th>\n",
       "      <th></th>\n",
       "    </tr>\n",
       "  </thead>\n",
       "  <tbody>\n",
       "    <tr>\n",
       "      <th>240000</th>\n",
       "      <td>0.309255</td>\n",
       "      <td>0.612315</td>\n",
       "      <td>0.283747</td>\n",
       "      <td>0.093226</td>\n",
       "      <td>0.331023</td>\n",
       "      <td>0.655235</td>\n",
       "      <td>0.07468</td>\n",
       "      <td>0.332716</td>\n",
       "      <td>0.388529</td>\n",
       "      <td>0.210723</td>\n",
       "      <td>0.414777</td>\n",
       "      <td>0.715311</td>\n",
       "    </tr>\n",
       "  </tbody>\n",
       "</table>\n",
       "</div>"
      ],
      "text/plain": [
       "                 AP      AP50      AP75       APs       APm       APl  \\\n",
       "Iteration                                                               \n",
       "240000     0.309255  0.612315  0.283747  0.093226  0.331023  0.655235   \n",
       "\n",
       "              AR@1     AR@10        AR       ARs       ARm       ARl  \n",
       "Iteration                                                             \n",
       "240000     0.07468  0.332716  0.388529  0.210723  0.414777  0.715311  "
      ]
     },
     "execution_count": 5,
     "metadata": {},
     "output_type": "execute_result"
    }
   ],
   "source": [
    "df_train_A_over = logs2df(train_A_over_logs, num_last_iteration, train_A_over_iteration)\n",
    "df_train_A_over.head(1)"
   ]
  },
  {
   "cell_type": "code",
   "execution_count": 6,
   "metadata": {},
   "outputs": [
    {
     "data": {
      "text/html": [
       "<div>\n",
       "<style scoped>\n",
       "    .dataframe tbody tr th:only-of-type {\n",
       "        vertical-align: middle;\n",
       "    }\n",
       "\n",
       "    .dataframe tbody tr th {\n",
       "        vertical-align: top;\n",
       "    }\n",
       "\n",
       "    .dataframe thead th {\n",
       "        text-align: right;\n",
       "    }\n",
       "</style>\n",
       "<table border=\"1\" class=\"dataframe\">\n",
       "  <thead>\n",
       "    <tr style=\"text-align: right;\">\n",
       "      <th></th>\n",
       "      <th>AP</th>\n",
       "      <th>AP50</th>\n",
       "      <th>AP75</th>\n",
       "      <th>APs</th>\n",
       "      <th>APm</th>\n",
       "      <th>APl</th>\n",
       "      <th>AR@1</th>\n",
       "      <th>AR@10</th>\n",
       "      <th>AR</th>\n",
       "      <th>ARs</th>\n",
       "      <th>ARm</th>\n",
       "      <th>ARl</th>\n",
       "    </tr>\n",
       "  </thead>\n",
       "  <tbody>\n",
       "    <tr>\n",
       "      <th>0</th>\n",
       "      <td>240000</td>\n",
       "      <td>240000</td>\n",
       "      <td>240000</td>\n",
       "      <td>240000</td>\n",
       "      <td>240000</td>\n",
       "      <td>240000</td>\n",
       "      <td>240000</td>\n",
       "      <td>240000</td>\n",
       "      <td>240000</td>\n",
       "      <td>240000</td>\n",
       "      <td>240000</td>\n",
       "      <td>240000</td>\n",
       "    </tr>\n",
       "  </tbody>\n",
       "</table>\n",
       "</div>"
      ],
      "text/plain": [
       "       AP    AP50    AP75     APs     APm     APl    AR@1   AR@10      AR  \\\n",
       "0  240000  240000  240000  240000  240000  240000  240000  240000  240000   \n",
       "\n",
       "      ARs     ARm     ARl  \n",
       "0  240000  240000  240000  "
      ]
     },
     "execution_count": 6,
     "metadata": {},
     "output_type": "execute_result"
    }
   ],
   "source": [
    "df_train_A_over_best_iter_per_metric = df_train_A_over.idxmax().to_frame().T\n",
    "df_train_A_over_best_iter_per_metric.head(1)"
   ]
  },
  {
   "cell_type": "code",
   "execution_count": 7,
   "metadata": {},
   "outputs": [
    {
     "data": {
      "text/html": [
       "<div>\n",
       "<style scoped>\n",
       "    .dataframe tbody tr th:only-of-type {\n",
       "        vertical-align: middle;\n",
       "    }\n",
       "\n",
       "    .dataframe tbody tr th {\n",
       "        vertical-align: top;\n",
       "    }\n",
       "\n",
       "    .dataframe thead th {\n",
       "        text-align: right;\n",
       "    }\n",
       "</style>\n",
       "<table border=\"1\" class=\"dataframe\">\n",
       "  <thead>\n",
       "    <tr style=\"text-align: right;\">\n",
       "      <th></th>\n",
       "      <th>AP</th>\n",
       "      <th>AP50</th>\n",
       "      <th>AP75</th>\n",
       "      <th>APs</th>\n",
       "      <th>APm</th>\n",
       "      <th>APl</th>\n",
       "      <th>AR@1</th>\n",
       "      <th>AR@10</th>\n",
       "      <th>AR</th>\n",
       "      <th>ARs</th>\n",
       "      <th>ARm</th>\n",
       "      <th>ARl</th>\n",
       "    </tr>\n",
       "  </thead>\n",
       "  <tbody>\n",
       "    <tr>\n",
       "      <th>0</th>\n",
       "      <td>0.309255</td>\n",
       "      <td>0.612315</td>\n",
       "      <td>0.283747</td>\n",
       "      <td>0.093226</td>\n",
       "      <td>0.331023</td>\n",
       "      <td>0.655235</td>\n",
       "      <td>0.07468</td>\n",
       "      <td>0.332716</td>\n",
       "      <td>0.388529</td>\n",
       "      <td>0.210723</td>\n",
       "      <td>0.414777</td>\n",
       "      <td>0.715311</td>\n",
       "    </tr>\n",
       "  </tbody>\n",
       "</table>\n",
       "</div>"
      ],
      "text/plain": [
       "         AP      AP50      AP75       APs       APm       APl     AR@1  \\\n",
       "0  0.309255  0.612315  0.283747  0.093226  0.331023  0.655235  0.07468   \n",
       "\n",
       "      AR@10        AR       ARs       ARm       ARl  \n",
       "0  0.332716  0.388529  0.210723  0.414777  0.715311  "
      ]
     },
     "execution_count": 7,
     "metadata": {},
     "output_type": "execute_result"
    }
   ],
   "source": [
    "df_train_A_over_best_val_per_metric = df_train_A_over.max().to_frame().T\n",
    "df_train_A_over_best_val_per_metric.head(1)"
   ]
  },
  {
   "cell_type": "markdown",
   "metadata": {},
   "source": [
    "### train_B_over ###"
   ]
  },
  {
   "cell_type": "code",
   "execution_count": 8,
   "metadata": {},
   "outputs": [
    {
     "data": {
      "text/html": [
       "<div>\n",
       "<style scoped>\n",
       "    .dataframe tbody tr th:only-of-type {\n",
       "        vertical-align: middle;\n",
       "    }\n",
       "\n",
       "    .dataframe tbody tr th {\n",
       "        vertical-align: top;\n",
       "    }\n",
       "\n",
       "    .dataframe thead th {\n",
       "        text-align: right;\n",
       "    }\n",
       "</style>\n",
       "<table border=\"1\" class=\"dataframe\">\n",
       "  <thead>\n",
       "    <tr style=\"text-align: right;\">\n",
       "      <th></th>\n",
       "      <th>AP</th>\n",
       "      <th>AP50</th>\n",
       "      <th>AP75</th>\n",
       "      <th>APs</th>\n",
       "      <th>APm</th>\n",
       "      <th>APl</th>\n",
       "      <th>AR@1</th>\n",
       "      <th>AR@10</th>\n",
       "      <th>AR</th>\n",
       "      <th>ARs</th>\n",
       "      <th>ARm</th>\n",
       "      <th>ARl</th>\n",
       "    </tr>\n",
       "    <tr>\n",
       "      <th>Iteration</th>\n",
       "      <th></th>\n",
       "      <th></th>\n",
       "      <th></th>\n",
       "      <th></th>\n",
       "      <th></th>\n",
       "      <th></th>\n",
       "      <th></th>\n",
       "      <th></th>\n",
       "      <th></th>\n",
       "      <th></th>\n",
       "      <th></th>\n",
       "      <th></th>\n",
       "    </tr>\n",
       "  </thead>\n",
       "  <tbody>\n",
       "    <tr>\n",
       "      <th>240000</th>\n",
       "      <td>0.351012</td>\n",
       "      <td>0.678094</td>\n",
       "      <td>0.324381</td>\n",
       "      <td>0.117263</td>\n",
       "      <td>0.379212</td>\n",
       "      <td>0.703903</td>\n",
       "      <td>0.07698</td>\n",
       "      <td>0.368259</td>\n",
       "      <td>0.42761</td>\n",
       "      <td>0.240535</td>\n",
       "      <td>0.461732</td>\n",
       "      <td>0.758192</td>\n",
       "    </tr>\n",
       "  </tbody>\n",
       "</table>\n",
       "</div>"
      ],
      "text/plain": [
       "                 AP      AP50      AP75       APs       APm       APl  \\\n",
       "Iteration                                                               \n",
       "240000     0.351012  0.678094  0.324381  0.117263  0.379212  0.703903   \n",
       "\n",
       "              AR@1     AR@10       AR       ARs       ARm       ARl  \n",
       "Iteration                                                            \n",
       "240000     0.07698  0.368259  0.42761  0.240535  0.461732  0.758192  "
      ]
     },
     "execution_count": 8,
     "metadata": {},
     "output_type": "execute_result"
    }
   ],
   "source": [
    "df_train_B_over = logs2df(train_B_over_logs, num_last_iteration, train_B_over_iteration)\n",
    "df_train_B_over.head(1)"
   ]
  },
  {
   "cell_type": "code",
   "execution_count": 9,
   "metadata": {},
   "outputs": [
    {
     "data": {
      "text/html": [
       "<div>\n",
       "<style scoped>\n",
       "    .dataframe tbody tr th:only-of-type {\n",
       "        vertical-align: middle;\n",
       "    }\n",
       "\n",
       "    .dataframe tbody tr th {\n",
       "        vertical-align: top;\n",
       "    }\n",
       "\n",
       "    .dataframe thead th {\n",
       "        text-align: right;\n",
       "    }\n",
       "</style>\n",
       "<table border=\"1\" class=\"dataframe\">\n",
       "  <thead>\n",
       "    <tr style=\"text-align: right;\">\n",
       "      <th></th>\n",
       "      <th>AP</th>\n",
       "      <th>AP50</th>\n",
       "      <th>AP75</th>\n",
       "      <th>APs</th>\n",
       "      <th>APm</th>\n",
       "      <th>APl</th>\n",
       "      <th>AR@1</th>\n",
       "      <th>AR@10</th>\n",
       "      <th>AR</th>\n",
       "      <th>ARs</th>\n",
       "      <th>ARm</th>\n",
       "      <th>ARl</th>\n",
       "    </tr>\n",
       "  </thead>\n",
       "  <tbody>\n",
       "    <tr>\n",
       "      <th>0</th>\n",
       "      <td>240000</td>\n",
       "      <td>240000</td>\n",
       "      <td>240000</td>\n",
       "      <td>240000</td>\n",
       "      <td>240000</td>\n",
       "      <td>240000</td>\n",
       "      <td>240000</td>\n",
       "      <td>240000</td>\n",
       "      <td>240000</td>\n",
       "      <td>240000</td>\n",
       "      <td>240000</td>\n",
       "      <td>240000</td>\n",
       "    </tr>\n",
       "  </tbody>\n",
       "</table>\n",
       "</div>"
      ],
      "text/plain": [
       "       AP    AP50    AP75     APs     APm     APl    AR@1   AR@10      AR  \\\n",
       "0  240000  240000  240000  240000  240000  240000  240000  240000  240000   \n",
       "\n",
       "      ARs     ARm     ARl  \n",
       "0  240000  240000  240000  "
      ]
     },
     "execution_count": 9,
     "metadata": {},
     "output_type": "execute_result"
    }
   ],
   "source": [
    "df_train_B_over_best_iter_per_metric = df_train_B_over.idxmax().to_frame().T\n",
    "df_train_B_over_best_iter_per_metric.head(1)"
   ]
  },
  {
   "cell_type": "code",
   "execution_count": 10,
   "metadata": {},
   "outputs": [
    {
     "data": {
      "text/html": [
       "<div>\n",
       "<style scoped>\n",
       "    .dataframe tbody tr th:only-of-type {\n",
       "        vertical-align: middle;\n",
       "    }\n",
       "\n",
       "    .dataframe tbody tr th {\n",
       "        vertical-align: top;\n",
       "    }\n",
       "\n",
       "    .dataframe thead th {\n",
       "        text-align: right;\n",
       "    }\n",
       "</style>\n",
       "<table border=\"1\" class=\"dataframe\">\n",
       "  <thead>\n",
       "    <tr style=\"text-align: right;\">\n",
       "      <th></th>\n",
       "      <th>AP</th>\n",
       "      <th>AP50</th>\n",
       "      <th>AP75</th>\n",
       "      <th>APs</th>\n",
       "      <th>APm</th>\n",
       "      <th>APl</th>\n",
       "      <th>AR@1</th>\n",
       "      <th>AR@10</th>\n",
       "      <th>AR</th>\n",
       "      <th>ARs</th>\n",
       "      <th>ARm</th>\n",
       "      <th>ARl</th>\n",
       "    </tr>\n",
       "  </thead>\n",
       "  <tbody>\n",
       "    <tr>\n",
       "      <th>0</th>\n",
       "      <td>0.351012</td>\n",
       "      <td>0.678094</td>\n",
       "      <td>0.324381</td>\n",
       "      <td>0.117263</td>\n",
       "      <td>0.379212</td>\n",
       "      <td>0.703903</td>\n",
       "      <td>0.07698</td>\n",
       "      <td>0.368259</td>\n",
       "      <td>0.42761</td>\n",
       "      <td>0.240535</td>\n",
       "      <td>0.461732</td>\n",
       "      <td>0.758192</td>\n",
       "    </tr>\n",
       "  </tbody>\n",
       "</table>\n",
       "</div>"
      ],
      "text/plain": [
       "         AP      AP50      AP75       APs       APm       APl     AR@1  \\\n",
       "0  0.351012  0.678094  0.324381  0.117263  0.379212  0.703903  0.07698   \n",
       "\n",
       "      AR@10       AR       ARs       ARm       ARl  \n",
       "0  0.368259  0.42761  0.240535  0.461732  0.758192  "
      ]
     },
     "execution_count": 10,
     "metadata": {},
     "output_type": "execute_result"
    }
   ],
   "source": [
    "df_train_B_over_best_val_per_metric = df_train_B_over.max().to_frame().T\n",
    "df_train_B_over_best_val_per_metric.head(1)"
   ]
  },
  {
   "cell_type": "markdown",
   "metadata": {},
   "source": [
    "### train_C_over ###"
   ]
  },
  {
   "cell_type": "code",
   "execution_count": 11,
   "metadata": {},
   "outputs": [
    {
     "data": {
      "text/html": [
       "<div>\n",
       "<style scoped>\n",
       "    .dataframe tbody tr th:only-of-type {\n",
       "        vertical-align: middle;\n",
       "    }\n",
       "\n",
       "    .dataframe tbody tr th {\n",
       "        vertical-align: top;\n",
       "    }\n",
       "\n",
       "    .dataframe thead th {\n",
       "        text-align: right;\n",
       "    }\n",
       "</style>\n",
       "<table border=\"1\" class=\"dataframe\">\n",
       "  <thead>\n",
       "    <tr style=\"text-align: right;\">\n",
       "      <th></th>\n",
       "      <th>AP</th>\n",
       "      <th>AP50</th>\n",
       "      <th>AP75</th>\n",
       "      <th>APs</th>\n",
       "      <th>APm</th>\n",
       "      <th>APl</th>\n",
       "      <th>AR@1</th>\n",
       "      <th>AR@10</th>\n",
       "      <th>AR</th>\n",
       "      <th>ARs</th>\n",
       "      <th>ARm</th>\n",
       "      <th>ARl</th>\n",
       "    </tr>\n",
       "    <tr>\n",
       "      <th>Iteration</th>\n",
       "      <th></th>\n",
       "      <th></th>\n",
       "      <th></th>\n",
       "      <th></th>\n",
       "      <th></th>\n",
       "      <th></th>\n",
       "      <th></th>\n",
       "      <th></th>\n",
       "      <th></th>\n",
       "      <th></th>\n",
       "      <th></th>\n",
       "      <th></th>\n",
       "    </tr>\n",
       "  </thead>\n",
       "  <tbody>\n",
       "    <tr>\n",
       "      <th>240000</th>\n",
       "      <td>0.353659</td>\n",
       "      <td>0.684335</td>\n",
       "      <td>0.326675</td>\n",
       "      <td>0.121595</td>\n",
       "      <td>0.384659</td>\n",
       "      <td>0.703432</td>\n",
       "      <td>0.077517</td>\n",
       "      <td>0.372247</td>\n",
       "      <td>0.430854</td>\n",
       "      <td>0.242679</td>\n",
       "      <td>0.467402</td>\n",
       "      <td>0.759435</td>\n",
       "    </tr>\n",
       "  </tbody>\n",
       "</table>\n",
       "</div>"
      ],
      "text/plain": [
       "                 AP      AP50      AP75       APs       APm       APl  \\\n",
       "Iteration                                                               \n",
       "240000     0.353659  0.684335  0.326675  0.121595  0.384659  0.703432   \n",
       "\n",
       "               AR@1     AR@10        AR       ARs       ARm       ARl  \n",
       "Iteration                                                              \n",
       "240000     0.077517  0.372247  0.430854  0.242679  0.467402  0.759435  "
      ]
     },
     "execution_count": 11,
     "metadata": {},
     "output_type": "execute_result"
    }
   ],
   "source": [
    "df_train_C_over = logs2df(train_C_over_logs, num_last_iteration, train_C_over_iteration)\n",
    "df_train_C_over.head(1)"
   ]
  },
  {
   "cell_type": "code",
   "execution_count": 12,
   "metadata": {},
   "outputs": [
    {
     "data": {
      "text/html": [
       "<div>\n",
       "<style scoped>\n",
       "    .dataframe tbody tr th:only-of-type {\n",
       "        vertical-align: middle;\n",
       "    }\n",
       "\n",
       "    .dataframe tbody tr th {\n",
       "        vertical-align: top;\n",
       "    }\n",
       "\n",
       "    .dataframe thead th {\n",
       "        text-align: right;\n",
       "    }\n",
       "</style>\n",
       "<table border=\"1\" class=\"dataframe\">\n",
       "  <thead>\n",
       "    <tr style=\"text-align: right;\">\n",
       "      <th></th>\n",
       "      <th>AP</th>\n",
       "      <th>AP50</th>\n",
       "      <th>AP75</th>\n",
       "      <th>APs</th>\n",
       "      <th>APm</th>\n",
       "      <th>APl</th>\n",
       "      <th>AR@1</th>\n",
       "      <th>AR@10</th>\n",
       "      <th>AR</th>\n",
       "      <th>ARs</th>\n",
       "      <th>ARm</th>\n",
       "      <th>ARl</th>\n",
       "    </tr>\n",
       "  </thead>\n",
       "  <tbody>\n",
       "    <tr>\n",
       "      <th>0</th>\n",
       "      <td>240000</td>\n",
       "      <td>240000</td>\n",
       "      <td>240000</td>\n",
       "      <td>240000</td>\n",
       "      <td>240000</td>\n",
       "      <td>240000</td>\n",
       "      <td>240000</td>\n",
       "      <td>240000</td>\n",
       "      <td>240000</td>\n",
       "      <td>240000</td>\n",
       "      <td>240000</td>\n",
       "      <td>240000</td>\n",
       "    </tr>\n",
       "  </tbody>\n",
       "</table>\n",
       "</div>"
      ],
      "text/plain": [
       "       AP    AP50    AP75     APs     APm     APl    AR@1   AR@10      AR  \\\n",
       "0  240000  240000  240000  240000  240000  240000  240000  240000  240000   \n",
       "\n",
       "      ARs     ARm     ARl  \n",
       "0  240000  240000  240000  "
      ]
     },
     "execution_count": 12,
     "metadata": {},
     "output_type": "execute_result"
    }
   ],
   "source": [
    "df_train_C_over_best_iter_per_metric = df_train_C_over.idxmax().to_frame().T\n",
    "df_train_C_over_best_iter_per_metric.head(1)"
   ]
  },
  {
   "cell_type": "code",
   "execution_count": 13,
   "metadata": {},
   "outputs": [
    {
     "data": {
      "text/html": [
       "<div>\n",
       "<style scoped>\n",
       "    .dataframe tbody tr th:only-of-type {\n",
       "        vertical-align: middle;\n",
       "    }\n",
       "\n",
       "    .dataframe tbody tr th {\n",
       "        vertical-align: top;\n",
       "    }\n",
       "\n",
       "    .dataframe thead th {\n",
       "        text-align: right;\n",
       "    }\n",
       "</style>\n",
       "<table border=\"1\" class=\"dataframe\">\n",
       "  <thead>\n",
       "    <tr style=\"text-align: right;\">\n",
       "      <th></th>\n",
       "      <th>AP</th>\n",
       "      <th>AP50</th>\n",
       "      <th>AP75</th>\n",
       "      <th>APs</th>\n",
       "      <th>APm</th>\n",
       "      <th>APl</th>\n",
       "      <th>AR@1</th>\n",
       "      <th>AR@10</th>\n",
       "      <th>AR</th>\n",
       "      <th>ARs</th>\n",
       "      <th>ARm</th>\n",
       "      <th>ARl</th>\n",
       "    </tr>\n",
       "  </thead>\n",
       "  <tbody>\n",
       "    <tr>\n",
       "      <th>0</th>\n",
       "      <td>0.353659</td>\n",
       "      <td>0.684335</td>\n",
       "      <td>0.326675</td>\n",
       "      <td>0.121595</td>\n",
       "      <td>0.384659</td>\n",
       "      <td>0.703432</td>\n",
       "      <td>0.077517</td>\n",
       "      <td>0.372247</td>\n",
       "      <td>0.430854</td>\n",
       "      <td>0.242679</td>\n",
       "      <td>0.467402</td>\n",
       "      <td>0.759435</td>\n",
       "    </tr>\n",
       "  </tbody>\n",
       "</table>\n",
       "</div>"
      ],
      "text/plain": [
       "         AP      AP50      AP75       APs       APm       APl      AR@1  \\\n",
       "0  0.353659  0.684335  0.326675  0.121595  0.384659  0.703432  0.077517   \n",
       "\n",
       "      AR@10        AR       ARs       ARm       ARl  \n",
       "0  0.372247  0.430854  0.242679  0.467402  0.759435  "
      ]
     },
     "execution_count": 13,
     "metadata": {},
     "output_type": "execute_result"
    }
   ],
   "source": [
    "df_train_C_over_best_val_per_metric = df_train_C_over.max().to_frame().T\n",
    "df_train_C_over_best_val_per_metric.head(1)"
   ]
  },
  {
   "cell_type": "markdown",
   "metadata": {},
   "source": [
    "### train_A_over_ganaug_025 ###"
   ]
  },
  {
   "cell_type": "code",
   "execution_count": 14,
   "metadata": {},
   "outputs": [
    {
     "data": {
      "text/html": [
       "<div>\n",
       "<style scoped>\n",
       "    .dataframe tbody tr th:only-of-type {\n",
       "        vertical-align: middle;\n",
       "    }\n",
       "\n",
       "    .dataframe tbody tr th {\n",
       "        vertical-align: top;\n",
       "    }\n",
       "\n",
       "    .dataframe thead th {\n",
       "        text-align: right;\n",
       "    }\n",
       "</style>\n",
       "<table border=\"1\" class=\"dataframe\">\n",
       "  <thead>\n",
       "    <tr style=\"text-align: right;\">\n",
       "      <th></th>\n",
       "      <th>AP</th>\n",
       "      <th>AP50</th>\n",
       "      <th>AP75</th>\n",
       "      <th>APs</th>\n",
       "      <th>APm</th>\n",
       "      <th>APl</th>\n",
       "      <th>AR@1</th>\n",
       "      <th>AR@10</th>\n",
       "      <th>AR</th>\n",
       "      <th>ARs</th>\n",
       "      <th>ARm</th>\n",
       "      <th>ARl</th>\n",
       "    </tr>\n",
       "    <tr>\n",
       "      <th>Iteration</th>\n",
       "      <th></th>\n",
       "      <th></th>\n",
       "      <th></th>\n",
       "      <th></th>\n",
       "      <th></th>\n",
       "      <th></th>\n",
       "      <th></th>\n",
       "      <th></th>\n",
       "      <th></th>\n",
       "      <th></th>\n",
       "      <th></th>\n",
       "      <th></th>\n",
       "    </tr>\n",
       "  </thead>\n",
       "  <tbody>\n",
       "    <tr>\n",
       "      <th>240000</th>\n",
       "      <td>0.308417</td>\n",
       "      <td>0.597991</td>\n",
       "      <td>0.290326</td>\n",
       "      <td>0.088276</td>\n",
       "      <td>0.335601</td>\n",
       "      <td>0.654434</td>\n",
       "      <td>0.074296</td>\n",
       "      <td>0.332464</td>\n",
       "      <td>0.385647</td>\n",
       "      <td>0.202356</td>\n",
       "      <td>0.41567</td>\n",
       "      <td>0.716328</td>\n",
       "    </tr>\n",
       "  </tbody>\n",
       "</table>\n",
       "</div>"
      ],
      "text/plain": [
       "                 AP      AP50      AP75       APs       APm       APl  \\\n",
       "Iteration                                                               \n",
       "240000     0.308417  0.597991  0.290326  0.088276  0.335601  0.654434   \n",
       "\n",
       "               AR@1     AR@10        AR       ARs      ARm       ARl  \n",
       "Iteration                                                             \n",
       "240000     0.074296  0.332464  0.385647  0.202356  0.41567  0.716328  "
      ]
     },
     "execution_count": 14,
     "metadata": {},
     "output_type": "execute_result"
    }
   ],
   "source": [
    "df_train_A_over_ganaug_025 = logs2df(train_A_over_ganaug_025_logs, num_last_iteration, train_A_over_ganaug_025_iteration)\n",
    "df_train_A_over_ganaug_025.head(1)"
   ]
  },
  {
   "cell_type": "code",
   "execution_count": 15,
   "metadata": {},
   "outputs": [
    {
     "data": {
      "text/html": [
       "<div>\n",
       "<style scoped>\n",
       "    .dataframe tbody tr th:only-of-type {\n",
       "        vertical-align: middle;\n",
       "    }\n",
       "\n",
       "    .dataframe tbody tr th {\n",
       "        vertical-align: top;\n",
       "    }\n",
       "\n",
       "    .dataframe thead th {\n",
       "        text-align: right;\n",
       "    }\n",
       "</style>\n",
       "<table border=\"1\" class=\"dataframe\">\n",
       "  <thead>\n",
       "    <tr style=\"text-align: right;\">\n",
       "      <th></th>\n",
       "      <th>AP</th>\n",
       "      <th>AP50</th>\n",
       "      <th>AP75</th>\n",
       "      <th>APs</th>\n",
       "      <th>APm</th>\n",
       "      <th>APl</th>\n",
       "      <th>AR@1</th>\n",
       "      <th>AR@10</th>\n",
       "      <th>AR</th>\n",
       "      <th>ARs</th>\n",
       "      <th>ARm</th>\n",
       "      <th>ARl</th>\n",
       "    </tr>\n",
       "  </thead>\n",
       "  <tbody>\n",
       "    <tr>\n",
       "      <th>0</th>\n",
       "      <td>240000</td>\n",
       "      <td>240000</td>\n",
       "      <td>240000</td>\n",
       "      <td>240000</td>\n",
       "      <td>240000</td>\n",
       "      <td>240000</td>\n",
       "      <td>240000</td>\n",
       "      <td>240000</td>\n",
       "      <td>240000</td>\n",
       "      <td>240000</td>\n",
       "      <td>240000</td>\n",
       "      <td>240000</td>\n",
       "    </tr>\n",
       "  </tbody>\n",
       "</table>\n",
       "</div>"
      ],
      "text/plain": [
       "       AP    AP50    AP75     APs     APm     APl    AR@1   AR@10      AR  \\\n",
       "0  240000  240000  240000  240000  240000  240000  240000  240000  240000   \n",
       "\n",
       "      ARs     ARm     ARl  \n",
       "0  240000  240000  240000  "
      ]
     },
     "execution_count": 15,
     "metadata": {},
     "output_type": "execute_result"
    }
   ],
   "source": [
    "df_train_A_over_ganaug_025_best_iter_per_metric = df_train_A_over_ganaug_025.idxmax().to_frame().T\n",
    "df_train_A_over_ganaug_025_best_iter_per_metric.head(1)"
   ]
  },
  {
   "cell_type": "code",
   "execution_count": 16,
   "metadata": {},
   "outputs": [
    {
     "data": {
      "text/html": [
       "<div>\n",
       "<style scoped>\n",
       "    .dataframe tbody tr th:only-of-type {\n",
       "        vertical-align: middle;\n",
       "    }\n",
       "\n",
       "    .dataframe tbody tr th {\n",
       "        vertical-align: top;\n",
       "    }\n",
       "\n",
       "    .dataframe thead th {\n",
       "        text-align: right;\n",
       "    }\n",
       "</style>\n",
       "<table border=\"1\" class=\"dataframe\">\n",
       "  <thead>\n",
       "    <tr style=\"text-align: right;\">\n",
       "      <th></th>\n",
       "      <th>AP</th>\n",
       "      <th>AP50</th>\n",
       "      <th>AP75</th>\n",
       "      <th>APs</th>\n",
       "      <th>APm</th>\n",
       "      <th>APl</th>\n",
       "      <th>AR@1</th>\n",
       "      <th>AR@10</th>\n",
       "      <th>AR</th>\n",
       "      <th>ARs</th>\n",
       "      <th>ARm</th>\n",
       "      <th>ARl</th>\n",
       "    </tr>\n",
       "  </thead>\n",
       "  <tbody>\n",
       "    <tr>\n",
       "      <th>0</th>\n",
       "      <td>0.308417</td>\n",
       "      <td>0.597991</td>\n",
       "      <td>0.290326</td>\n",
       "      <td>0.088276</td>\n",
       "      <td>0.335601</td>\n",
       "      <td>0.654434</td>\n",
       "      <td>0.074296</td>\n",
       "      <td>0.332464</td>\n",
       "      <td>0.385647</td>\n",
       "      <td>0.202356</td>\n",
       "      <td>0.41567</td>\n",
       "      <td>0.716328</td>\n",
       "    </tr>\n",
       "  </tbody>\n",
       "</table>\n",
       "</div>"
      ],
      "text/plain": [
       "         AP      AP50      AP75       APs       APm       APl      AR@1  \\\n",
       "0  0.308417  0.597991  0.290326  0.088276  0.335601  0.654434  0.074296   \n",
       "\n",
       "      AR@10        AR       ARs      ARm       ARl  \n",
       "0  0.332464  0.385647  0.202356  0.41567  0.716328  "
      ]
     },
     "execution_count": 16,
     "metadata": {},
     "output_type": "execute_result"
    }
   ],
   "source": [
    "df_train_A_over_ganaug_025_best_val_per_metric = df_train_A_over_ganaug_025.max().to_frame().T\n",
    "df_train_A_over_ganaug_025_best_val_per_metric.head(1)"
   ]
  },
  {
   "cell_type": "markdown",
   "metadata": {},
   "source": [
    "### train_A_over_ganaug_050 ###"
   ]
  },
  {
   "cell_type": "code",
   "execution_count": 17,
   "metadata": {},
   "outputs": [
    {
     "data": {
      "text/html": [
       "<div>\n",
       "<style scoped>\n",
       "    .dataframe tbody tr th:only-of-type {\n",
       "        vertical-align: middle;\n",
       "    }\n",
       "\n",
       "    .dataframe tbody tr th {\n",
       "        vertical-align: top;\n",
       "    }\n",
       "\n",
       "    .dataframe thead th {\n",
       "        text-align: right;\n",
       "    }\n",
       "</style>\n",
       "<table border=\"1\" class=\"dataframe\">\n",
       "  <thead>\n",
       "    <tr style=\"text-align: right;\">\n",
       "      <th></th>\n",
       "      <th>AP</th>\n",
       "      <th>AP50</th>\n",
       "      <th>AP75</th>\n",
       "      <th>APs</th>\n",
       "      <th>APm</th>\n",
       "      <th>APl</th>\n",
       "      <th>AR@1</th>\n",
       "      <th>AR@10</th>\n",
       "      <th>AR</th>\n",
       "      <th>ARs</th>\n",
       "      <th>ARm</th>\n",
       "      <th>ARl</th>\n",
       "    </tr>\n",
       "    <tr>\n",
       "      <th>Iteration</th>\n",
       "      <th></th>\n",
       "      <th></th>\n",
       "      <th></th>\n",
       "      <th></th>\n",
       "      <th></th>\n",
       "      <th></th>\n",
       "      <th></th>\n",
       "      <th></th>\n",
       "      <th></th>\n",
       "      <th></th>\n",
       "      <th></th>\n",
       "      <th></th>\n",
       "    </tr>\n",
       "  </thead>\n",
       "  <tbody>\n",
       "    <tr>\n",
       "      <th>240000</th>\n",
       "      <td>0.308626</td>\n",
       "      <td>0.605599</td>\n",
       "      <td>0.285229</td>\n",
       "      <td>0.090167</td>\n",
       "      <td>0.336598</td>\n",
       "      <td>0.653895</td>\n",
       "      <td>0.074471</td>\n",
       "      <td>0.3331</td>\n",
       "      <td>0.384902</td>\n",
       "      <td>0.200794</td>\n",
       "      <td>0.416006</td>\n",
       "      <td>0.715141</td>\n",
       "    </tr>\n",
       "  </tbody>\n",
       "</table>\n",
       "</div>"
      ],
      "text/plain": [
       "                 AP      AP50      AP75       APs       APm       APl  \\\n",
       "Iteration                                                               \n",
       "240000     0.308626  0.605599  0.285229  0.090167  0.336598  0.653895   \n",
       "\n",
       "               AR@1   AR@10        AR       ARs       ARm       ARl  \n",
       "Iteration                                                            \n",
       "240000     0.074471  0.3331  0.384902  0.200794  0.416006  0.715141  "
      ]
     },
     "execution_count": 17,
     "metadata": {},
     "output_type": "execute_result"
    }
   ],
   "source": [
    "df_train_A_over_ganaug_050 = logs2df(train_A_over_ganaug_050_logs, num_last_iteration, train_A_over_ganaug_050_iteration)\n",
    "df_train_A_over_ganaug_050.head(1)"
   ]
  },
  {
   "cell_type": "code",
   "execution_count": 18,
   "metadata": {},
   "outputs": [
    {
     "data": {
      "text/html": [
       "<div>\n",
       "<style scoped>\n",
       "    .dataframe tbody tr th:only-of-type {\n",
       "        vertical-align: middle;\n",
       "    }\n",
       "\n",
       "    .dataframe tbody tr th {\n",
       "        vertical-align: top;\n",
       "    }\n",
       "\n",
       "    .dataframe thead th {\n",
       "        text-align: right;\n",
       "    }\n",
       "</style>\n",
       "<table border=\"1\" class=\"dataframe\">\n",
       "  <thead>\n",
       "    <tr style=\"text-align: right;\">\n",
       "      <th></th>\n",
       "      <th>AP</th>\n",
       "      <th>AP50</th>\n",
       "      <th>AP75</th>\n",
       "      <th>APs</th>\n",
       "      <th>APm</th>\n",
       "      <th>APl</th>\n",
       "      <th>AR@1</th>\n",
       "      <th>AR@10</th>\n",
       "      <th>AR</th>\n",
       "      <th>ARs</th>\n",
       "      <th>ARm</th>\n",
       "      <th>ARl</th>\n",
       "    </tr>\n",
       "  </thead>\n",
       "  <tbody>\n",
       "    <tr>\n",
       "      <th>0</th>\n",
       "      <td>240000</td>\n",
       "      <td>240000</td>\n",
       "      <td>240000</td>\n",
       "      <td>240000</td>\n",
       "      <td>240000</td>\n",
       "      <td>240000</td>\n",
       "      <td>240000</td>\n",
       "      <td>240000</td>\n",
       "      <td>240000</td>\n",
       "      <td>240000</td>\n",
       "      <td>240000</td>\n",
       "      <td>240000</td>\n",
       "    </tr>\n",
       "  </tbody>\n",
       "</table>\n",
       "</div>"
      ],
      "text/plain": [
       "       AP    AP50    AP75     APs     APm     APl    AR@1   AR@10      AR  \\\n",
       "0  240000  240000  240000  240000  240000  240000  240000  240000  240000   \n",
       "\n",
       "      ARs     ARm     ARl  \n",
       "0  240000  240000  240000  "
      ]
     },
     "execution_count": 18,
     "metadata": {},
     "output_type": "execute_result"
    }
   ],
   "source": [
    "df_train_A_over_ganaug_050_best_iter_per_metric = df_train_A_over_ganaug_050.idxmax().to_frame().T\n",
    "df_train_A_over_ganaug_050_best_iter_per_metric.head(1)"
   ]
  },
  {
   "cell_type": "code",
   "execution_count": 19,
   "metadata": {},
   "outputs": [
    {
     "data": {
      "text/html": [
       "<div>\n",
       "<style scoped>\n",
       "    .dataframe tbody tr th:only-of-type {\n",
       "        vertical-align: middle;\n",
       "    }\n",
       "\n",
       "    .dataframe tbody tr th {\n",
       "        vertical-align: top;\n",
       "    }\n",
       "\n",
       "    .dataframe thead th {\n",
       "        text-align: right;\n",
       "    }\n",
       "</style>\n",
       "<table border=\"1\" class=\"dataframe\">\n",
       "  <thead>\n",
       "    <tr style=\"text-align: right;\">\n",
       "      <th></th>\n",
       "      <th>AP</th>\n",
       "      <th>AP50</th>\n",
       "      <th>AP75</th>\n",
       "      <th>APs</th>\n",
       "      <th>APm</th>\n",
       "      <th>APl</th>\n",
       "      <th>AR@1</th>\n",
       "      <th>AR@10</th>\n",
       "      <th>AR</th>\n",
       "      <th>ARs</th>\n",
       "      <th>ARm</th>\n",
       "      <th>ARl</th>\n",
       "    </tr>\n",
       "  </thead>\n",
       "  <tbody>\n",
       "    <tr>\n",
       "      <th>0</th>\n",
       "      <td>0.308626</td>\n",
       "      <td>0.605599</td>\n",
       "      <td>0.285229</td>\n",
       "      <td>0.090167</td>\n",
       "      <td>0.336598</td>\n",
       "      <td>0.653895</td>\n",
       "      <td>0.074471</td>\n",
       "      <td>0.3331</td>\n",
       "      <td>0.384902</td>\n",
       "      <td>0.200794</td>\n",
       "      <td>0.416006</td>\n",
       "      <td>0.715141</td>\n",
       "    </tr>\n",
       "  </tbody>\n",
       "</table>\n",
       "</div>"
      ],
      "text/plain": [
       "         AP      AP50      AP75       APs       APm       APl      AR@1  \\\n",
       "0  0.308626  0.605599  0.285229  0.090167  0.336598  0.653895  0.074471   \n",
       "\n",
       "    AR@10        AR       ARs       ARm       ARl  \n",
       "0  0.3331  0.384902  0.200794  0.416006  0.715141  "
      ]
     },
     "execution_count": 19,
     "metadata": {},
     "output_type": "execute_result"
    }
   ],
   "source": [
    "df_train_A_over_ganaug_050_best_val_per_metric = df_train_A_over_ganaug_050.max().to_frame().T\n",
    "df_train_A_over_ganaug_050_best_val_per_metric.head(1)"
   ]
  },
  {
   "cell_type": "markdown",
   "metadata": {},
   "source": [
    "## Improvements ##"
   ]
  },
  {
   "cell_type": "markdown",
   "metadata": {},
   "source": [
    "### train_A_over --> train_B_over ###"
   ]
  },
  {
   "cell_type": "code",
   "execution_count": 20,
   "metadata": {},
   "outputs": [
    {
     "data": {
      "text/html": [
       "<div>\n",
       "<style scoped>\n",
       "    .dataframe tbody tr th:only-of-type {\n",
       "        vertical-align: middle;\n",
       "    }\n",
       "\n",
       "    .dataframe tbody tr th {\n",
       "        vertical-align: top;\n",
       "    }\n",
       "\n",
       "    .dataframe thead th {\n",
       "        text-align: right;\n",
       "    }\n",
       "</style>\n",
       "<table border=\"1\" class=\"dataframe\">\n",
       "  <thead>\n",
       "    <tr style=\"text-align: right;\">\n",
       "      <th></th>\n",
       "      <th>AP</th>\n",
       "      <th>AP50</th>\n",
       "      <th>AP75</th>\n",
       "      <th>APs</th>\n",
       "      <th>APm</th>\n",
       "      <th>APl</th>\n",
       "      <th>AR@1</th>\n",
       "      <th>AR@10</th>\n",
       "      <th>AR</th>\n",
       "      <th>ARs</th>\n",
       "      <th>ARm</th>\n",
       "      <th>ARl</th>\n",
       "      <th>Comparison</th>\n",
       "    </tr>\n",
       "  </thead>\n",
       "  <tbody>\n",
       "    <tr>\n",
       "      <th>0</th>\n",
       "      <td>0.041758</td>\n",
       "      <td>0.065779</td>\n",
       "      <td>0.040633</td>\n",
       "      <td>0.024037</td>\n",
       "      <td>0.04819</td>\n",
       "      <td>0.048669</td>\n",
       "      <td>0.002301</td>\n",
       "      <td>0.035543</td>\n",
       "      <td>0.039082</td>\n",
       "      <td>0.029812</td>\n",
       "      <td>0.046955</td>\n",
       "      <td>0.042881</td>\n",
       "      <td>A to B</td>\n",
       "    </tr>\n",
       "  </tbody>\n",
       "</table>\n",
       "</div>"
      ],
      "text/plain": [
       "         AP      AP50      AP75       APs      APm       APl      AR@1  \\\n",
       "0  0.041758  0.065779  0.040633  0.024037  0.04819  0.048669  0.002301   \n",
       "\n",
       "      AR@10        AR       ARs       ARm       ARl Comparison  \n",
       "0  0.035543  0.039082  0.029812  0.046955  0.042881     A to B  "
      ]
     },
     "execution_count": 20,
     "metadata": {},
     "output_type": "execute_result"
    }
   ],
   "source": [
    "df_train_A_over_TO_train_B_over = df_train_B_over_best_val_per_metric - df_train_A_over_best_val_per_metric\n",
    "df_train_A_over_TO_train_B_over[\"Comparison\"] = \"A to B\"\n",
    "df_train_A_over_TO_train_B_over.head(1)"
   ]
  },
  {
   "cell_type": "markdown",
   "metadata": {},
   "source": [
    "### train_A_over --> train_C_over ###"
   ]
  },
  {
   "cell_type": "code",
   "execution_count": 21,
   "metadata": {},
   "outputs": [
    {
     "data": {
      "text/html": [
       "<div>\n",
       "<style scoped>\n",
       "    .dataframe tbody tr th:only-of-type {\n",
       "        vertical-align: middle;\n",
       "    }\n",
       "\n",
       "    .dataframe tbody tr th {\n",
       "        vertical-align: top;\n",
       "    }\n",
       "\n",
       "    .dataframe thead th {\n",
       "        text-align: right;\n",
       "    }\n",
       "</style>\n",
       "<table border=\"1\" class=\"dataframe\">\n",
       "  <thead>\n",
       "    <tr style=\"text-align: right;\">\n",
       "      <th></th>\n",
       "      <th>AP</th>\n",
       "      <th>AP50</th>\n",
       "      <th>AP75</th>\n",
       "      <th>APs</th>\n",
       "      <th>APm</th>\n",
       "      <th>APl</th>\n",
       "      <th>AR@1</th>\n",
       "      <th>AR@10</th>\n",
       "      <th>AR</th>\n",
       "      <th>ARs</th>\n",
       "      <th>ARm</th>\n",
       "      <th>ARl</th>\n",
       "      <th>Comparison</th>\n",
       "    </tr>\n",
       "  </thead>\n",
       "  <tbody>\n",
       "    <tr>\n",
       "      <th>0</th>\n",
       "      <td>0.044404</td>\n",
       "      <td>0.07202</td>\n",
       "      <td>0.042927</td>\n",
       "      <td>0.028369</td>\n",
       "      <td>0.053637</td>\n",
       "      <td>0.048197</td>\n",
       "      <td>0.002838</td>\n",
       "      <td>0.039531</td>\n",
       "      <td>0.042325</td>\n",
       "      <td>0.031957</td>\n",
       "      <td>0.052626</td>\n",
       "      <td>0.044124</td>\n",
       "      <td>A to C</td>\n",
       "    </tr>\n",
       "  </tbody>\n",
       "</table>\n",
       "</div>"
      ],
      "text/plain": [
       "         AP     AP50      AP75       APs       APm       APl      AR@1  \\\n",
       "0  0.044404  0.07202  0.042927  0.028369  0.053637  0.048197  0.002838   \n",
       "\n",
       "      AR@10        AR       ARs       ARm       ARl Comparison  \n",
       "0  0.039531  0.042325  0.031957  0.052626  0.044124     A to C  "
      ]
     },
     "execution_count": 21,
     "metadata": {},
     "output_type": "execute_result"
    }
   ],
   "source": [
    "df_train_A_over_TO_train_C_over = df_train_C_over_best_val_per_metric - df_train_A_over_best_val_per_metric\n",
    "df_train_A_over_TO_train_C_over[\"Comparison\"] = \"A to C\"\n",
    "df_train_A_over_TO_train_C_over.head(1)"
   ]
  },
  {
   "cell_type": "markdown",
   "metadata": {},
   "source": [
    "### train_A_over --> train_A_over_ganaug_025 ###"
   ]
  },
  {
   "cell_type": "code",
   "execution_count": 22,
   "metadata": {},
   "outputs": [
    {
     "data": {
      "text/html": [
       "<div>\n",
       "<style scoped>\n",
       "    .dataframe tbody tr th:only-of-type {\n",
       "        vertical-align: middle;\n",
       "    }\n",
       "\n",
       "    .dataframe tbody tr th {\n",
       "        vertical-align: top;\n",
       "    }\n",
       "\n",
       "    .dataframe thead th {\n",
       "        text-align: right;\n",
       "    }\n",
       "</style>\n",
       "<table border=\"1\" class=\"dataframe\">\n",
       "  <thead>\n",
       "    <tr style=\"text-align: right;\">\n",
       "      <th></th>\n",
       "      <th>AP</th>\n",
       "      <th>AP50</th>\n",
       "      <th>AP75</th>\n",
       "      <th>APs</th>\n",
       "      <th>APm</th>\n",
       "      <th>APl</th>\n",
       "      <th>AR@1</th>\n",
       "      <th>AR@10</th>\n",
       "      <th>AR</th>\n",
       "      <th>ARs</th>\n",
       "      <th>ARm</th>\n",
       "      <th>ARl</th>\n",
       "      <th>Comparison</th>\n",
       "    </tr>\n",
       "  </thead>\n",
       "  <tbody>\n",
       "    <tr>\n",
       "      <th>0</th>\n",
       "      <td>-0.000837</td>\n",
       "      <td>-0.014325</td>\n",
       "      <td>0.006578</td>\n",
       "      <td>-0.00495</td>\n",
       "      <td>0.004578</td>\n",
       "      <td>-0.000801</td>\n",
       "      <td>-0.000383</td>\n",
       "      <td>-0.000252</td>\n",
       "      <td>-0.002882</td>\n",
       "      <td>-0.008366</td>\n",
       "      <td>0.000894</td>\n",
       "      <td>0.001017</td>\n",
       "      <td>A to A25</td>\n",
       "    </tr>\n",
       "  </tbody>\n",
       "</table>\n",
       "</div>"
      ],
      "text/plain": [
       "         AP      AP50      AP75      APs       APm       APl      AR@1  \\\n",
       "0 -0.000837 -0.014325  0.006578 -0.00495  0.004578 -0.000801 -0.000383   \n",
       "\n",
       "      AR@10        AR       ARs       ARm       ARl Comparison  \n",
       "0 -0.000252 -0.002882 -0.008366  0.000894  0.001017   A to A25  "
      ]
     },
     "execution_count": 22,
     "metadata": {},
     "output_type": "execute_result"
    }
   ],
   "source": [
    "df_train_A_over_TO_train_A_over_ganaug_025 = df_train_A_over_ganaug_025_best_val_per_metric - df_train_A_over_best_val_per_metric\n",
    "df_train_A_over_TO_train_A_over_ganaug_025[\"Comparison\"] = \"A to A25\"\n",
    "df_train_A_over_TO_train_A_over_ganaug_025.head(1)"
   ]
  },
  {
   "cell_type": "markdown",
   "metadata": {},
   "source": [
    "### train_A_over --> train_A_over_ganaug_050 ###"
   ]
  },
  {
   "cell_type": "code",
   "execution_count": 23,
   "metadata": {},
   "outputs": [
    {
     "data": {
      "text/html": [
       "<div>\n",
       "<style scoped>\n",
       "    .dataframe tbody tr th:only-of-type {\n",
       "        vertical-align: middle;\n",
       "    }\n",
       "\n",
       "    .dataframe tbody tr th {\n",
       "        vertical-align: top;\n",
       "    }\n",
       "\n",
       "    .dataframe thead th {\n",
       "        text-align: right;\n",
       "    }\n",
       "</style>\n",
       "<table border=\"1\" class=\"dataframe\">\n",
       "  <thead>\n",
       "    <tr style=\"text-align: right;\">\n",
       "      <th></th>\n",
       "      <th>AP</th>\n",
       "      <th>AP50</th>\n",
       "      <th>AP75</th>\n",
       "      <th>APs</th>\n",
       "      <th>APm</th>\n",
       "      <th>APl</th>\n",
       "      <th>AR@1</th>\n",
       "      <th>AR@10</th>\n",
       "      <th>AR</th>\n",
       "      <th>ARs</th>\n",
       "      <th>ARm</th>\n",
       "      <th>ARl</th>\n",
       "      <th>Comparison</th>\n",
       "    </tr>\n",
       "  </thead>\n",
       "  <tbody>\n",
       "    <tr>\n",
       "      <th>0</th>\n",
       "      <td>-0.000629</td>\n",
       "      <td>-0.006716</td>\n",
       "      <td>0.001482</td>\n",
       "      <td>-0.003059</td>\n",
       "      <td>0.005576</td>\n",
       "      <td>-0.00134</td>\n",
       "      <td>-0.000208</td>\n",
       "      <td>0.000383</td>\n",
       "      <td>-0.003627</td>\n",
       "      <td>-0.009929</td>\n",
       "      <td>0.001229</td>\n",
       "      <td>-0.000169</td>\n",
       "      <td>A to A50</td>\n",
       "    </tr>\n",
       "  </tbody>\n",
       "</table>\n",
       "</div>"
      ],
      "text/plain": [
       "         AP      AP50      AP75       APs       APm      APl      AR@1  \\\n",
       "0 -0.000629 -0.006716  0.001482 -0.003059  0.005576 -0.00134 -0.000208   \n",
       "\n",
       "      AR@10        AR       ARs       ARm       ARl Comparison  \n",
       "0  0.000383 -0.003627 -0.009929  0.001229 -0.000169   A to A50  "
      ]
     },
     "execution_count": 23,
     "metadata": {},
     "output_type": "execute_result"
    }
   ],
   "source": [
    "df_train_A_over_TO_train_A_over_ganaug_050 = df_train_A_over_ganaug_050_best_val_per_metric - df_train_A_over_best_val_per_metric\n",
    "df_train_A_over_TO_train_A_over_ganaug_050[\"Comparison\"] = \"A to A50\"\n",
    "df_train_A_over_TO_train_A_over_ganaug_050.head(1)"
   ]
  },
  {
   "cell_type": "markdown",
   "metadata": {},
   "source": [
    "## Combine ##"
   ]
  },
  {
   "cell_type": "code",
   "execution_count": 24,
   "metadata": {},
   "outputs": [],
   "source": [
    "df_combined = pd.concat([df_train_A_over_TO_train_B_over, df_train_A_over_TO_train_C_over, df_train_A_over_TO_train_A_over_ganaug_025, df_train_A_over_TO_train_A_over_ganaug_050], axis = 0)"
   ]
  },
  {
   "cell_type": "code",
   "execution_count": 25,
   "metadata": {},
   "outputs": [
    {
     "data": {
      "text/html": [
       "<div>\n",
       "<style scoped>\n",
       "    .dataframe tbody tr th:only-of-type {\n",
       "        vertical-align: middle;\n",
       "    }\n",
       "\n",
       "    .dataframe tbody tr th {\n",
       "        vertical-align: top;\n",
       "    }\n",
       "\n",
       "    .dataframe thead th {\n",
       "        text-align: right;\n",
       "    }\n",
       "</style>\n",
       "<table border=\"1\" class=\"dataframe\">\n",
       "  <thead>\n",
       "    <tr style=\"text-align: right;\">\n",
       "      <th></th>\n",
       "      <th>AP</th>\n",
       "      <th>AP50</th>\n",
       "      <th>AP75</th>\n",
       "      <th>APs</th>\n",
       "      <th>APm</th>\n",
       "      <th>APl</th>\n",
       "      <th>AR@1</th>\n",
       "      <th>AR@10</th>\n",
       "      <th>AR</th>\n",
       "      <th>ARs</th>\n",
       "      <th>ARm</th>\n",
       "      <th>ARl</th>\n",
       "    </tr>\n",
       "    <tr>\n",
       "      <th>Comparison</th>\n",
       "      <th></th>\n",
       "      <th></th>\n",
       "      <th></th>\n",
       "      <th></th>\n",
       "      <th></th>\n",
       "      <th></th>\n",
       "      <th></th>\n",
       "      <th></th>\n",
       "      <th></th>\n",
       "      <th></th>\n",
       "      <th></th>\n",
       "      <th></th>\n",
       "    </tr>\n",
       "  </thead>\n",
       "  <tbody>\n",
       "    <tr>\n",
       "      <th>A to B</th>\n",
       "      <td>0.041758</td>\n",
       "      <td>0.065779</td>\n",
       "      <td>0.040633</td>\n",
       "      <td>0.024037</td>\n",
       "      <td>0.04819</td>\n",
       "      <td>0.048669</td>\n",
       "      <td>0.002301</td>\n",
       "      <td>0.035543</td>\n",
       "      <td>0.039082</td>\n",
       "      <td>0.029812</td>\n",
       "      <td>0.046955</td>\n",
       "      <td>0.042881</td>\n",
       "    </tr>\n",
       "  </tbody>\n",
       "</table>\n",
       "</div>"
      ],
      "text/plain": [
       "                  AP      AP50      AP75       APs      APm       APl  \\\n",
       "Comparison                                                              \n",
       "A to B      0.041758  0.065779  0.040633  0.024037  0.04819  0.048669   \n",
       "\n",
       "                AR@1     AR@10        AR       ARs       ARm       ARl  \n",
       "Comparison                                                              \n",
       "A to B      0.002301  0.035543  0.039082  0.029812  0.046955  0.042881  "
      ]
     },
     "execution_count": 25,
     "metadata": {},
     "output_type": "execute_result"
    }
   ],
   "source": [
    "df_combined = df_combined.set_index(\"Comparison\")\n",
    "df_combined.head(1)"
   ]
  },
  {
   "cell_type": "code",
   "execution_count": 26,
   "metadata": {},
   "outputs": [
    {
     "data": {
      "text/plain": [
       "Text(0, 0.5, 'Absolute change in score')"
      ]
     },
     "execution_count": 26,
     "metadata": {},
     "output_type": "execute_result"
    },
    {
     "data": {
      "image/png": "[encoded data removed]",
      "text/plain": [
       "<Figure size 1152x648 with 1 Axes>"
      ]
     },
     "metadata": {
      "needs_background": "light"
     },
     "output_type": "display_data"
    }
   ],
   "source": [
    "ax = df_combined.plot(kind = \"bar\", figsize = (16, 9))\n",
    "ax.set_xlabel(\"\")\n",
    "ax.set_ylabel(\"Absolute change in score\")"
   ]
  },
  {
   "cell_type": "code",
   "execution_count": 27,
   "metadata": {},
   "outputs": [
    {
     "data": {
      "text/html": [
       "<script type=\"text/javascript\">window.PlotlyConfig = {MathJaxConfig: 'local'};</script><script type=\"text/javascript\">if (window.MathJax) {MathJax.Hub.Config({SVG: {font: \"STIX-Web\"}});}</script><script>requirejs.config({paths: { 'plotly': ['https://cdn.plot.ly/plotly-latest.min']},});if(!window._Plotly) {require(['plotly'],function(plotly) {window._Plotly=plotly;});}</script>"
      ],
      "text/vnd.plotly.v1+html": [
       "<script type=\"text/javascript\">window.PlotlyConfig = {MathJaxConfig: 'local'};</script><script type=\"text/javascript\">if (window.MathJax) {MathJax.Hub.Config({SVG: {font: \"STIX-Web\"}});}</script><script>requirejs.config({paths: { 'plotly': ['https://cdn.plot.ly/plotly-latest.min']},});if(!window._Plotly) {require(['plotly'],function(plotly) {window._Plotly=plotly;});}</script>"
      ]
     },
     "metadata": {},
     "output_type": "display_data"
    },
    {
     "data": {
      "application/vnd.plotly.v1+json": {
       "config": {
        "displaylogo": false,
        "linkText": "Export to plot.ly",
        "modeBarButtonsToRemove": [
         "sendDataToCloud"
        ],
        "plotlyServerURL": "https://plot.ly",
        "showLink": false
       },
       "data": [
        {
         "marker": {
          "color": "rgba(255, 153, 51, 0.6)",
          "line": {
           "color": "rgba(255, 153, 51, 1.0)",
           "width": 1
          }
         },
         "name": "AP",
         "orientation": "v",
         "text": "",
         "type": "bar",
         "uid": "8120cf95-2ce6-4666-9135-bb25dc0c94a5",
         "x": [
          "A to B",
          "A to C",
          "A to A25",
          "A to A50"
         ],
         "y": [
          0.04175769462172285,
          0.04440448863779439,
          -0.0008372572746630502,
          -0.0006285721261670152
         ]
        },
        {
         "marker": {
          "color": "rgba(55, 128, 191, 0.6)",
          "line": {
           "color": "rgba(55, 128, 191, 1.0)",
           "width": 1
          }
         },
         "name": "AP50",
         "orientation": "v",
         "text": "",
         "type": "bar",
         "uid": "e21769f6-1d97-494b-b4c2-0ef30fdfe256",
         "x": [
          "A to B",
          "A to C",
          "A to A25",
          "A to A50"
         ],
         "y": [
          0.06577872145771979,
          0.07202000286052057,
          -0.014324963012470882,
          -0.006716374091093491
         ]
        },
        {
         "marker": {
          "color": "rgba(50, 171, 96, 0.6)",
          "line": {
           "color": "rgba(50, 171, 96, 1.0)",
           "width": 1
          }
         },
         "name": "AP75",
         "orientation": "v",
         "text": "",
         "type": "bar",
         "uid": "6a2e4950-2491-4f0f-83fc-04b3551bf8a6",
         "x": [
          "A to B",
          "A to C",
          "A to A25",
          "A to A50"
         ],
         "y": [
          0.040633315419339566,
          0.04292718642120158,
          0.006578028453833651,
          0.0014818419201250155
         ]
        },
        {
         "marker": {
          "color": "rgba(128, 0, 128, 0.6)",
          "line": {
           "color": "rgba(128, 0, 128, 1.0)",
           "width": 1
          }
         },
         "name": "APs",
         "orientation": "v",
         "text": "",
         "type": "bar",
         "uid": "06326dd8-a4be-44c8-8d5a-971125630bb0",
         "x": [
          "A to B",
          "A to C",
          "A to A25",
          "A to A50"
         ],
         "y": [
          0.024037019136997795,
          0.028368542051248988,
          -0.00495014802002737,
          -0.0030586258466166333
         ]
        },
        {
         "marker": {
          "color": "rgba(219, 64, 82, 0.6)",
          "line": {
           "color": "rgba(219, 64, 82, 1.0)",
           "width": 1
          }
         },
         "name": "APm",
         "orientation": "v",
         "text": "",
         "type": "bar",
         "uid": "5418cba9-354c-4ea6-a0fd-b0a9613aa526",
         "x": [
          "A to B",
          "A to C",
          "A to A25",
          "A to A50"
         ],
         "y": [
          0.0481895639904647,
          0.053636608334401426,
          0.004578438413129049,
          0.005575823761383769
         ]
        },
        {
         "marker": {
          "color": "rgba(0, 128, 128, 0.6)",
          "line": {
           "color": "rgba(0, 128, 128, 1.0)",
           "width": 1
          }
         },
         "name": "APl",
         "orientation": "v",
         "text": "",
         "type": "bar",
         "uid": "e1b34e41-c7f3-4410-b421-e0237ae4c4b3",
         "x": [
          "A to B",
          "A to C",
          "A to A25",
          "A to A50"
         ],
         "y": [
          0.048668657574790775,
          0.048197345176289486,
          -0.0008006626060684807,
          -0.0013397719235227479
         ]
        },
        {
         "marker": {
          "color": "rgba(255, 255, 51, 0.6)",
          "line": {
           "color": "rgba(255, 255, 51, 1.0)",
           "width": 1
          }
         },
         "name": "AR@1",
         "orientation": "v",
         "text": "",
         "type": "bar",
         "uid": "36fb6978-8f23-4522-b9ac-ba7a1a67adeb",
         "x": [
          "A to B",
          "A to C",
          "A to A25",
          "A to A50"
         ],
         "y": [
          0.002300865563712076,
          0.0028377341952448842,
          -0.00038347759395200576,
          -0.0002081735510025412
         ]
        },
        {
         "marker": {
          "color": "rgba(128, 128, 0, 0.6)",
          "line": {
           "color": "rgba(128, 128, 0, 1.0)",
           "width": 1
          }
         },
         "name": "AR@10",
         "orientation": "v",
         "text": "",
         "type": "bar",
         "uid": "ab36fe59-0e51-4e46-838a-27c02fe436c9",
         "x": [
          "A to B",
          "A to C",
          "A to A25",
          "A to A50"
         ],
         "y": [
          0.0355428947080092,
          0.039531061685110114,
          -0.0002519995617399351,
          0.00038347759395201964
         ]
        },
        {
         "marker": {
          "color": "rgba(251, 128, 114, 0.6)",
          "line": {
           "color": "rgba(251, 128, 114, 1.0)",
           "width": 1
          }
         },
         "name": "AR",
         "orientation": "v",
         "text": "",
         "type": "bar",
         "uid": "5299d969-7055-4be8-86b7-048ece92cb80",
         "x": [
          "A to B",
          "A to C",
          "A to A25",
          "A to A50"
         ],
         "y": [
          0.03908184507505191,
          0.04232496986961759,
          -0.002881560205982292,
          -0.0036266023885175858
         ]
        },
        {
         "marker": {
          "color": "rgba(128, 177, 211, 0.6)",
          "line": {
           "color": "rgba(128, 177, 211, 1.0)",
           "width": 1
          }
         },
         "name": "ARs",
         "orientation": "v",
         "text": "",
         "type": "bar",
         "uid": "e1dc5eaf-f529-478e-98d3-49544e497e27",
         "x": [
          "A to B",
          "A to C",
          "A to A25",
          "A to A50"
         ],
         "y": [
          0.029812020121789767,
          0.03195657929573731,
          -0.00836642838231394,
          -0.009928514694201723
         ]
        },
        {
         "marker": {
          "color": "rgba(128, 177, 211, 0.6)",
          "line": {
           "color": "rgba(128, 177, 211, 0.8999999999999999)",
           "width": 1
          }
         },
         "name": "ARm",
         "orientation": "v",
         "text": "",
         "type": "bar",
         "uid": "f0cf1bf2-8ec3-4e8f-b65e-6adb9d8e43a1",
         "x": [
          "A to B",
          "A to C",
          "A to A25",
          "A to A50"
         ],
         "y": [
          0.046955307262569856,
          0.052625698324022196,
          0.0008938547486032067,
          0.0012290502793296798
         ]
        },
        {
         "marker": {
          "color": "rgba(255, 153, 51, 0.6)",
          "line": {
           "color": "rgba(255, 153, 51, 0.8999999999999999)",
           "width": 1
          }
         },
         "name": "ARl",
         "orientation": "v",
         "text": "",
         "type": "bar",
         "uid": "7860564b-72cf-4a6f-b60c-abaf9e94f419",
         "x": [
          "A to B",
          "A to C",
          "A to A25",
          "A to A50"
         ],
         "y": [
          0.042881355932203435,
          0.044124293785310686,
          0.0010169491525424679,
          -0.00016949152542367063
         ]
        }
       ],
       "layout": {
        "height": 540,
        "title": {
         "text": "Impact of GAN-based augmentation"
        },
        "width": 960,
        "yaxis": {
         "title": {
          "text": "Absolute change in score"
         }
        }
       }
      },
      "text/html": [
       "<div id=\"f033f9c3-551e-410a-9192-8db91a657638\" style=\"height: 540px; width: 960px;\" class=\"plotly-graph-div\"></div><script type=\"text/javascript\">require([\"plotly\"], function(Plotly) { window.PLOTLYENV=window.PLOTLYENV || {};window.PLOTLYENV.BASE_URL=\"https://plot.ly\";\n",
       "if (document.getElementById(\"f033f9c3-551e-410a-9192-8db91a657638\")) {\n",
       "    Plotly.newPlot(\"f033f9c3-551e-410a-9192-8db91a657638\", [{\"marker\": {\"color\": \"rgba(255, 153, 51, 0.6)\", \"line\": {\"color\": \"rgba(255, 153, 51, 1.0)\", \"width\": 1}}, \"name\": \"AP\", \"orientation\": \"v\", \"text\": \"\", \"x\": [\"A to B\", \"A to C\", \"A to A25\", \"A to A50\"], \"y\": [0.04175769462172285, 0.04440448863779439, -0.0008372572746630502, -0.0006285721261670152], \"type\": \"bar\", \"uid\": \"8120cf95-2ce6-4666-9135-bb25dc0c94a5\"}, {\"marker\": {\"color\": \"rgba(55, 128, 191, 0.6)\", \"line\": {\"color\": \"rgba(55, 128, 191, 1.0)\", \"width\": 1}}, \"name\": \"AP50\", \"orientation\": \"v\", \"text\": \"\", \"x\": [\"A to B\", \"A to C\", \"A to A25\", \"A to A50\"], \"y\": [0.06577872145771979, 0.07202000286052057, -0.014324963012470882, -0.006716374091093491], \"type\": \"bar\", \"uid\": \"e21769f6-1d97-494b-b4c2-0ef30fdfe256\"}, {\"marker\": {\"color\": \"rgba(50, 171, 96, 0.6)\", \"line\": {\"color\": \"rgba(50, 171, 96, 1.0)\", \"width\": 1}}, \"name\": \"AP75\", \"orientation\": \"v\", \"text\": \"\", \"x\": [\"A to B\", \"A to C\", \"A to A25\", \"A to A50\"], \"y\": [0.040633315419339566, 0.04292718642120158, 0.006578028453833651, 0.0014818419201250155], \"type\": \"bar\", \"uid\": \"6a2e4950-2491-4f0f-83fc-04b3551bf8a6\"}, {\"marker\": {\"color\": \"rgba(128, 0, 128, 0.6)\", \"line\": {\"color\": \"rgba(128, 0, 128, 1.0)\", \"width\": 1}}, \"name\": \"APs\", \"orientation\": \"v\", \"text\": \"\", \"x\": [\"A to B\", \"A to C\", \"A to A25\", \"A to A50\"], \"y\": [0.024037019136997795, 0.028368542051248988, -0.00495014802002737, -0.0030586258466166333], \"type\": \"bar\", \"uid\": \"06326dd8-a4be-44c8-8d5a-971125630bb0\"}, {\"marker\": {\"color\": \"rgba(219, 64, 82, 0.6)\", \"line\": {\"color\": \"rgba(219, 64, 82, 1.0)\", \"width\": 1}}, \"name\": \"APm\", \"orientation\": \"v\", \"text\": \"\", \"x\": [\"A to B\", \"A to C\", \"A to A25\", \"A to A50\"], \"y\": [0.0481895639904647, 0.053636608334401426, 0.004578438413129049, 0.005575823761383769], \"type\": \"bar\", \"uid\": \"5418cba9-354c-4ea6-a0fd-b0a9613aa526\"}, {\"marker\": {\"color\": \"rgba(0, 128, 128, 0.6)\", \"line\": {\"color\": \"rgba(0, 128, 128, 1.0)\", \"width\": 1}}, \"name\": \"APl\", \"orientation\": \"v\", \"text\": \"\", \"x\": [\"A to B\", \"A to C\", \"A to A25\", \"A to A50\"], \"y\": [0.048668657574790775, 0.048197345176289486, -0.0008006626060684807, -0.0013397719235227479], \"type\": \"bar\", \"uid\": \"e1b34e41-c7f3-4410-b421-e0237ae4c4b3\"}, {\"marker\": {\"color\": \"rgba(255, 255, 51, 0.6)\", \"line\": {\"color\": \"rgba(255, 255, 51, 1.0)\", \"width\": 1}}, \"name\": \"AR@1\", \"orientation\": \"v\", \"text\": \"\", \"x\": [\"A to B\", \"A to C\", \"A to A25\", \"A to A50\"], \"y\": [0.002300865563712076, 0.0028377341952448842, -0.00038347759395200576, -0.0002081735510025412], \"type\": \"bar\", \"uid\": \"36fb6978-8f23-4522-b9ac-ba7a1a67adeb\"}, {\"marker\": {\"color\": \"rgba(128, 128, 0, 0.6)\", \"line\": {\"color\": \"rgba(128, 128, 0, 1.0)\", \"width\": 1}}, \"name\": \"AR@10\", \"orientation\": \"v\", \"text\": \"\", \"x\": [\"A to B\", \"A to C\", \"A to A25\", \"A to A50\"], \"y\": [0.0355428947080092, 0.039531061685110114, -0.0002519995617399351, 0.00038347759395201964], \"type\": \"bar\", \"uid\": \"ab36fe59-0e51-4e46-838a-27c02fe436c9\"}, {\"marker\": {\"color\": \"rgba(251, 128, 114, 0.6)\", \"line\": {\"color\": \"rgba(251, 128, 114, 1.0)\", \"width\": 1}}, \"name\": \"AR\", \"orientation\": \"v\", \"text\": \"\", \"x\": [\"A to B\", \"A to C\", \"A to A25\", \"A to A50\"], \"y\": [0.03908184507505191, 0.04232496986961759, -0.002881560205982292, -0.0036266023885175858], \"type\": \"bar\", \"uid\": \"5299d969-7055-4be8-86b7-048ece92cb80\"}, {\"marker\": {\"color\": \"rgba(128, 177, 211, 0.6)\", \"line\": {\"color\": \"rgba(128, 177, 211, 1.0)\", \"width\": 1}}, \"name\": \"ARs\", \"orientation\": \"v\", \"text\": \"\", \"x\": [\"A to B\", \"A to C\", \"A to A25\", \"A to A50\"], \"y\": [0.029812020121789767, 0.03195657929573731, -0.00836642838231394, -0.009928514694201723], \"type\": \"bar\", \"uid\": \"e1dc5eaf-f529-478e-98d3-49544e497e27\"}, {\"marker\": {\"color\": \"rgba(128, 177, 211, 0.6)\", \"line\": {\"color\": \"rgba(128, 177, 211, 0.8999999999999999)\", \"width\": 1}}, \"name\": \"ARm\", \"orientation\": \"v\", \"text\": \"\", \"x\": [\"A to B\", \"A to C\", \"A to A25\", \"A to A50\"], \"y\": [0.046955307262569856, 0.052625698324022196, 0.0008938547486032067, 0.0012290502793296798], \"type\": \"bar\", \"uid\": \"f0cf1bf2-8ec3-4e8f-b65e-6adb9d8e43a1\"}, {\"marker\": {\"color\": \"rgba(255, 153, 51, 0.6)\", \"line\": {\"color\": \"rgba(255, 153, 51, 0.8999999999999999)\", \"width\": 1}}, \"name\": \"ARl\", \"orientation\": \"v\", \"text\": \"\", \"x\": [\"A to B\", \"A to C\", \"A to A25\", \"A to A50\"], \"y\": [0.042881355932203435, 0.044124293785310686, 0.0010169491525424679, -0.00016949152542367063], \"type\": \"bar\", \"uid\": \"7860564b-72cf-4a6f-b60c-abaf9e94f419\"}], {\"height\": 540, \"title\": {\"text\": \"Impact of GAN-based augmentation\"}, \"width\": 960, \"yaxis\": {\"title\": {\"text\": \"Absolute change in score\"}}}, {\"modeBarButtonsToRemove\": [\"sendDataToCloud\"], \"displaylogo\": false, \"showLink\": false, \"linkText\": \"Export to plot.ly\", \"plotlyServerURL\": \"https://plot.ly\"}); \n",
       "}\n",
       "});</script>"
      ],
      "text/vnd.plotly.v1+html": [
       "<div id=\"f033f9c3-551e-410a-9192-8db91a657638\" style=\"height: 540px; width: 960px;\" class=\"plotly-graph-div\"></div><script type=\"text/javascript\">require([\"plotly\"], function(Plotly) { window.PLOTLYENV=window.PLOTLYENV || {};window.PLOTLYENV.BASE_URL=\"https://plot.ly\";\n",
       "if (document.getElementById(\"f033f9c3-551e-410a-9192-8db91a657638\")) {\n",
       "    Plotly.newPlot(\"f033f9c3-551e-410a-9192-8db91a657638\", [{\"marker\": {\"color\": \"rgba(255, 153, 51, 0.6)\", \"line\": {\"color\": \"rgba(255, 153, 51, 1.0)\", \"width\": 1}}, \"name\": \"AP\", \"orientation\": \"v\", \"text\": \"\", \"x\": [\"A to B\", \"A to C\", \"A to A25\", \"A to A50\"], \"y\": [0.04175769462172285, 0.04440448863779439, -0.0008372572746630502, -0.0006285721261670152], \"type\": \"bar\", \"uid\": \"8120cf95-2ce6-4666-9135-bb25dc0c94a5\"}, {\"marker\": {\"color\": \"rgba(55, 128, 191, 0.6)\", \"line\": {\"color\": \"rgba(55, 128, 191, 1.0)\", \"width\": 1}}, \"name\": \"AP50\", \"orientation\": \"v\", \"text\": \"\", \"x\": [\"A to B\", \"A to C\", \"A to A25\", \"A to A50\"], \"y\": [0.06577872145771979, 0.07202000286052057, -0.014324963012470882, -0.006716374091093491], \"type\": \"bar\", \"uid\": \"e21769f6-1d97-494b-b4c2-0ef30fdfe256\"}, {\"marker\": {\"color\": \"rgba(50, 171, 96, 0.6)\", \"line\": {\"color\": \"rgba(50, 171, 96, 1.0)\", \"width\": 1}}, \"name\": \"AP75\", \"orientation\": \"v\", \"text\": \"\", \"x\": [\"A to B\", \"A to C\", \"A to A25\", \"A to A50\"], \"y\": [0.040633315419339566, 0.04292718642120158, 0.006578028453833651, 0.0014818419201250155], \"type\": \"bar\", \"uid\": \"6a2e4950-2491-4f0f-83fc-04b3551bf8a6\"}, {\"marker\": {\"color\": \"rgba(128, 0, 128, 0.6)\", \"line\": {\"color\": \"rgba(128, 0, 128, 1.0)\", \"width\": 1}}, \"name\": \"APs\", \"orientation\": \"v\", \"text\": \"\", \"x\": [\"A to B\", \"A to C\", \"A to A25\", \"A to A50\"], \"y\": [0.024037019136997795, 0.028368542051248988, -0.00495014802002737, -0.0030586258466166333], \"type\": \"bar\", \"uid\": \"06326dd8-a4be-44c8-8d5a-971125630bb0\"}, {\"marker\": {\"color\": \"rgba(219, 64, 82, 0.6)\", \"line\": {\"color\": \"rgba(219, 64, 82, 1.0)\", \"width\": 1}}, \"name\": \"APm\", \"orientation\": \"v\", \"text\": \"\", \"x\": [\"A to B\", \"A to C\", \"A to A25\", \"A to A50\"], \"y\": [0.0481895639904647, 0.053636608334401426, 0.004578438413129049, 0.005575823761383769], \"type\": \"bar\", \"uid\": \"5418cba9-354c-4ea6-a0fd-b0a9613aa526\"}, {\"marker\": {\"color\": \"rgba(0, 128, 128, 0.6)\", \"line\": {\"color\": \"rgba(0, 128, 128, 1.0)\", \"width\": 1}}, \"name\": \"APl\", \"orientation\": \"v\", \"text\": \"\", \"x\": [\"A to B\", \"A to C\", \"A to A25\", \"A to A50\"], \"y\": [0.048668657574790775, 0.048197345176289486, -0.0008006626060684807, -0.0013397719235227479], \"type\": \"bar\", \"uid\": \"e1b34e41-c7f3-4410-b421-e0237ae4c4b3\"}, {\"marker\": {\"color\": \"rgba(255, 255, 51, 0.6)\", \"line\": {\"color\": \"rgba(255, 255, 51, 1.0)\", \"width\": 1}}, \"name\": \"AR@1\", \"orientation\": \"v\", \"text\": \"\", \"x\": [\"A to B\", \"A to C\", \"A to A25\", \"A to A50\"], \"y\": [0.002300865563712076, 0.0028377341952448842, -0.00038347759395200576, -0.0002081735510025412], \"type\": \"bar\", \"uid\": \"36fb6978-8f23-4522-b9ac-ba7a1a67adeb\"}, {\"marker\": {\"color\": \"rgba(128, 128, 0, 0.6)\", \"line\": {\"color\": \"rgba(128, 128, 0, 1.0)\", \"width\": 1}}, \"name\": \"AR@10\", \"orientation\": \"v\", \"text\": \"\", \"x\": [\"A to B\", \"A to C\", \"A to A25\", \"A to A50\"], \"y\": [0.0355428947080092, 0.039531061685110114, -0.0002519995617399351, 0.00038347759395201964], \"type\": \"bar\", \"uid\": \"ab36fe59-0e51-4e46-838a-27c02fe436c9\"}, {\"marker\": {\"color\": \"rgba(251, 128, 114, 0.6)\", \"line\": {\"color\": \"rgba(251, 128, 114, 1.0)\", \"width\": 1}}, \"name\": \"AR\", \"orientation\": \"v\", \"text\": \"\", \"x\": [\"A to B\", \"A to C\", \"A to A25\", \"A to A50\"], \"y\": [0.03908184507505191, 0.04232496986961759, -0.002881560205982292, -0.0036266023885175858], \"type\": \"bar\", \"uid\": \"5299d969-7055-4be8-86b7-048ece92cb80\"}, {\"marker\": {\"color\": \"rgba(128, 177, 211, 0.6)\", \"line\": {\"color\": \"rgba(128, 177, 211, 1.0)\", \"width\": 1}}, \"name\": \"ARs\", \"orientation\": \"v\", \"text\": \"\", \"x\": [\"A to B\", \"A to C\", \"A to A25\", \"A to A50\"], \"y\": [0.029812020121789767, 0.03195657929573731, -0.00836642838231394, -0.009928514694201723], \"type\": \"bar\", \"uid\": \"e1dc5eaf-f529-478e-98d3-49544e497e27\"}, {\"marker\": {\"color\": \"rgba(128, 177, 211, 0.6)\", \"line\": {\"color\": \"rgba(128, 177, 211, 0.8999999999999999)\", \"width\": 1}}, \"name\": \"ARm\", \"orientation\": \"v\", \"text\": \"\", \"x\": [\"A to B\", \"A to C\", \"A to A25\", \"A to A50\"], \"y\": [0.046955307262569856, 0.052625698324022196, 0.0008938547486032067, 0.0012290502793296798], \"type\": \"bar\", \"uid\": \"f0cf1bf2-8ec3-4e8f-b65e-6adb9d8e43a1\"}, {\"marker\": {\"color\": \"rgba(255, 153, 51, 0.6)\", \"line\": {\"color\": \"rgba(255, 153, 51, 0.8999999999999999)\", \"width\": 1}}, \"name\": \"ARl\", \"orientation\": \"v\", \"text\": \"\", \"x\": [\"A to B\", \"A to C\", \"A to A25\", \"A to A50\"], \"y\": [0.042881355932203435, 0.044124293785310686, 0.0010169491525424679, -0.00016949152542367063], \"type\": \"bar\", \"uid\": \"7860564b-72cf-4a6f-b60c-abaf9e94f419\"}], {\"height\": 540, \"title\": {\"text\": \"Impact of GAN-based augmentation\"}, \"width\": 960, \"yaxis\": {\"title\": {\"text\": \"Absolute change in score\"}}}, {\"modeBarButtonsToRemove\": [\"sendDataToCloud\"], \"displaylogo\": false, \"showLink\": false, \"linkText\": \"Export to plot.ly\", \"plotlyServerURL\": \"https://plot.ly\"}); \n",
       "}\n",
       "});</script>"
      ]
     },
     "metadata": {},
     "output_type": "display_data"
    }
   ],
   "source": [
    "cf.go_offline(connected = True)\n",
    "config = {\n",
    "    \"modeBarButtonsToRemove\": [\"sendDataToCloud\"],\n",
    "    \"displaylogo\": False\n",
    "}\n",
    "layout = {\n",
    "    \"title\": \"Impact of GAN-based augmentation\",\n",
    "    \"yaxis\": {\n",
    "        \"title\": \"Absolute change in score\"\n",
    "    },\n",
    "    \"width\": 960,\n",
    "    \"height\": 540\n",
    "}\n",
    "fig = df_combined.iplot(kind = \"bar\", y = [\"AP\", \"AP50\", \"AP75\", \"APs\", \"APm\", \"APl\", \"AR@1\", \"AR@10\", \"AR\", \"ARs\", \"ARm\", \"ARl\"], layout = layout, asFigure = True)\n",
    "py.offline.iplot(fig, show_link = False, config = config)"
   ]
  },
  {
   "cell_type": "code",
   "execution_count": 28,
   "metadata": {},
   "outputs": [],
   "source": [
    "df_combined = df_combined * 100"
   ]
  },
  {
   "cell_type": "code",
   "execution_count": 29,
   "metadata": {},
   "outputs": [
    {
     "data": {
      "text/plain": [
       "Text(0, 0.5, 'Absolute change in score (%)')"
      ]
     },
     "execution_count": 29,
     "metadata": {},
     "output_type": "execute_result"
    },
    {
     "data": {
      "image/png": "[encoded data removed]",
      "text/plain": [
       "<Figure size 1152x648 with 1 Axes>"
      ]
     },
     "metadata": {
      "needs_background": "light"
     },
     "output_type": "display_data"
    }
   ],
   "source": [
    "ax = df_combined.plot(kind = \"bar\", figsize = (16, 9))\n",
    "ax.set_xlabel(\"\")\n",
    "ax.set_ylabel(\"Absolute change in score (%)\")"
   ]
  },
  {
   "cell_type": "code",
   "execution_count": 30,
   "metadata": {},
   "outputs": [
    {
     "data": {
      "application/vnd.plotly.v1+json": {
       "config": {
        "displaylogo": false,
        "linkText": "Export to plot.ly",
        "modeBarButtonsToRemove": [
         "sendDataToCloud"
        ],
        "plotlyServerURL": "https://plot.ly",
        "showLink": false
       },
       "data": [
        {
         "marker": {
          "color": "rgba(255, 153, 51, 0.6)",
          "line": {
           "color": "rgba(255, 153, 51, 1.0)",
           "width": 1
          }
         },
         "name": "AP",
         "orientation": "v",
         "text": "",
         "type": "bar",
         "uid": "6302b633-a790-484e-932a-80ea60e3a7c0",
         "x": [
          "A to B",
          "A to C",
          "A to A25",
          "A to A50"
         ],
         "y": [
          4.175769462172285,
          4.440448863779439,
          -0.08372572746630502,
          -0.06285721261670152
         ]
        },
        {
         "marker": {
          "color": "rgba(55, 128, 191, 0.6)",
          "line": {
           "color": "rgba(55, 128, 191, 1.0)",
           "width": 1
          }
         },
         "name": "AP50",
         "orientation": "v",
         "text": "",
         "type": "bar",
         "uid": "b44f1ae0-43b0-434e-a2a1-835d60ae697c",
         "x": [
          "A to B",
          "A to C",
          "A to A25",
          "A to A50"
         ],
         "y": [
          6.577872145771979,
          7.202000286052057,
          -1.4324963012470882,
          -0.6716374091093491
         ]
        },
        {
         "marker": {
          "color": "rgba(50, 171, 96, 0.6)",
          "line": {
           "color": "rgba(50, 171, 96, 1.0)",
           "width": 1
          }
         },
         "name": "AP75",
         "orientation": "v",
         "text": "",
         "type": "bar",
         "uid": "657e8978-3358-49e3-a5e4-dd38c9e6e8ea",
         "x": [
          "A to B",
          "A to C",
          "A to A25",
          "A to A50"
         ],
         "y": [
          4.063331541933957,
          4.292718642120158,
          0.6578028453833651,
          0.14818419201250155
         ]
        },
        {
         "marker": {
          "color": "rgba(128, 0, 128, 0.6)",
          "line": {
           "color": "rgba(128, 0, 128, 1.0)",
           "width": 1
          }
         },
         "name": "APs",
         "orientation": "v",
         "text": "",
         "type": "bar",
         "uid": "99c721cb-f548-4f46-b426-2a1f91de7e20",
         "x": [
          "A to B",
          "A to C",
          "A to A25",
          "A to A50"
         ],
         "y": [
          2.4037019136997797,
          2.8368542051248986,
          -0.495014802002737,
          -0.30586258466166333
         ]
        },
        {
         "marker": {
          "color": "rgba(219, 64, 82, 0.6)",
          "line": {
           "color": "rgba(219, 64, 82, 1.0)",
           "width": 1
          }
         },
         "name": "APm",
         "orientation": "v",
         "text": "",
         "type": "bar",
         "uid": "a2f071ce-5e69-4426-960f-5e874acb2dc5",
         "x": [
          "A to B",
          "A to C",
          "A to A25",
          "A to A50"
         ],
         "y": [
          4.8189563990464706,
          5.363660833440143,
          0.4578438413129049,
          0.5575823761383769
         ]
        },
        {
         "marker": {
          "color": "rgba(0, 128, 128, 0.6)",
          "line": {
           "color": "rgba(0, 128, 128, 1.0)",
           "width": 1
          }
         },
         "name": "APl",
         "orientation": "v",
         "text": "",
         "type": "bar",
         "uid": "b227a78c-ff46-4bc3-b321-1ac60013a540",
         "x": [
          "A to B",
          "A to C",
          "A to A25",
          "A to A50"
         ],
         "y": [
          4.8668657574790775,
          4.819734517628948,
          -0.08006626060684807,
          -0.1339771923522748
         ]
        },
        {
         "marker": {
          "color": "rgba(255, 255, 51, 0.6)",
          "line": {
           "color": "rgba(255, 255, 51, 1.0)",
           "width": 1
          }
         },
         "name": "AR@1",
         "orientation": "v",
         "text": "",
         "type": "bar",
         "uid": "a76a5384-0c84-47bc-ab8c-cf3df17973f7",
         "x": [
          "A to B",
          "A to C",
          "A to A25",
          "A to A50"
         ],
         "y": [
          0.23008655637120762,
          0.2837734195244884,
          -0.038347759395200576,
          -0.02081735510025412
         ]
        },
        {
         "marker": {
          "color": "rgba(128, 128, 0, 0.6)",
          "line": {
           "color": "rgba(128, 128, 0, 1.0)",
           "width": 1
          }
         },
         "name": "AR@10",
         "orientation": "v",
         "text": "",
         "type": "bar",
         "uid": "fd362e01-522b-4d8f-ae91-8497c8df9783",
         "x": [
          "A to B",
          "A to C",
          "A to A25",
          "A to A50"
         ],
         "y": [
          3.55428947080092,
          3.9531061685110114,
          -0.02519995617399351,
          0.038347759395201964
         ]
        },
        {
         "marker": {
          "color": "rgba(251, 128, 114, 0.6)",
          "line": {
           "color": "rgba(251, 128, 114, 1.0)",
           "width": 1
          }
         },
         "name": "AR",
         "orientation": "v",
         "text": "",
         "type": "bar",
         "uid": "26eef924-0367-4c98-862c-14ab6949eb00",
         "x": [
          "A to B",
          "A to C",
          "A to A25",
          "A to A50"
         ],
         "y": [
          3.908184507505191,
          4.232496986961759,
          -0.2881560205982292,
          -0.3626602388517586
         ]
        },
        {
         "marker": {
          "color": "rgba(128, 177, 211, 0.6)",
          "line": {
           "color": "rgba(128, 177, 211, 1.0)",
           "width": 1
          }
         },
         "name": "ARs",
         "orientation": "v",
         "text": "",
         "type": "bar",
         "uid": "41fa74db-a0e2-4eab-a757-bf346527e134",
         "x": [
          "A to B",
          "A to C",
          "A to A25",
          "A to A50"
         ],
         "y": [
          2.9812020121789766,
          3.1956579295737306,
          -0.836642838231394,
          -0.9928514694201723
         ]
        },
        {
         "marker": {
          "color": "rgba(128, 177, 211, 0.6)",
          "line": {
           "color": "rgba(128, 177, 211, 0.8999999999999999)",
           "width": 1
          }
         },
         "name": "ARm",
         "orientation": "v",
         "text": "",
         "type": "bar",
         "uid": "c74303f3-a1c3-406b-9af8-4c8e348642f8",
         "x": [
          "A to B",
          "A to C",
          "A to A25",
          "A to A50"
         ],
         "y": [
          4.695530726256986,
          5.262569832402219,
          0.08938547486032067,
          0.12290502793296798
         ]
        },
        {
         "marker": {
          "color": "rgba(255, 153, 51, 0.6)",
          "line": {
           "color": "rgba(255, 153, 51, 0.8999999999999999)",
           "width": 1
          }
         },
         "name": "ARl",
         "orientation": "v",
         "text": "",
         "type": "bar",
         "uid": "d07a4b5a-84d4-4d57-b39f-28b656a110e6",
         "x": [
          "A to B",
          "A to C",
          "A to A25",
          "A to A50"
         ],
         "y": [
          4.2881355932203435,
          4.412429378531069,
          0.10169491525424679,
          -0.016949152542367063
         ]
        }
       ],
       "layout": {
        "height": 540,
        "title": {
         "text": "Impact of GAN-based augmentation"
        },
        "width": 960,
        "yaxis": {
         "title": {
          "text": "Absolute change in score (%)"
         }
        }
       }
      },
      "text/html": [
       "<div id=\"91040f56-075e-4c21-990a-378827019732\" style=\"height: 540px; width: 960px;\" class=\"plotly-graph-div\"></div><script type=\"text/javascript\">require([\"plotly\"], function(Plotly) { window.PLOTLYENV=window.PLOTLYENV || {};window.PLOTLYENV.BASE_URL=\"https://plot.ly\";\n",
       "if (document.getElementById(\"91040f56-075e-4c21-990a-378827019732\")) {\n",
       "    Plotly.newPlot(\"91040f56-075e-4c21-990a-378827019732\", [{\"marker\": {\"color\": \"rgba(255, 153, 51, 0.6)\", \"line\": {\"color\": \"rgba(255, 153, 51, 1.0)\", \"width\": 1}}, \"name\": \"AP\", \"orientation\": \"v\", \"text\": \"\", \"x\": [\"A to B\", \"A to C\", \"A to A25\", \"A to A50\"], \"y\": [4.175769462172285, 4.440448863779439, -0.08372572746630502, -0.06285721261670152], \"type\": \"bar\", \"uid\": \"6302b633-a790-484e-932a-80ea60e3a7c0\"}, {\"marker\": {\"color\": \"rgba(55, 128, 191, 0.6)\", \"line\": {\"color\": \"rgba(55, 128, 191, 1.0)\", \"width\": 1}}, \"name\": \"AP50\", \"orientation\": \"v\", \"text\": \"\", \"x\": [\"A to B\", \"A to C\", \"A to A25\", \"A to A50\"], \"y\": [6.577872145771979, 7.202000286052057, -1.4324963012470882, -0.6716374091093491], \"type\": \"bar\", \"uid\": \"b44f1ae0-43b0-434e-a2a1-835d60ae697c\"}, {\"marker\": {\"color\": \"rgba(50, 171, 96, 0.6)\", \"line\": {\"color\": \"rgba(50, 171, 96, 1.0)\", \"width\": 1}}, \"name\": \"AP75\", \"orientation\": \"v\", \"text\": \"\", \"x\": [\"A to B\", \"A to C\", \"A to A25\", \"A to A50\"], \"y\": [4.063331541933957, 4.292718642120158, 0.6578028453833651, 0.14818419201250155], \"type\": \"bar\", \"uid\": \"657e8978-3358-49e3-a5e4-dd38c9e6e8ea\"}, {\"marker\": {\"color\": \"rgba(128, 0, 128, 0.6)\", \"line\": {\"color\": \"rgba(128, 0, 128, 1.0)\", \"width\": 1}}, \"name\": \"APs\", \"orientation\": \"v\", \"text\": \"\", \"x\": [\"A to B\", \"A to C\", \"A to A25\", \"A to A50\"], \"y\": [2.4037019136997797, 2.8368542051248986, -0.495014802002737, -0.30586258466166333], \"type\": \"bar\", \"uid\": \"99c721cb-f548-4f46-b426-2a1f91de7e20\"}, {\"marker\": {\"color\": \"rgba(219, 64, 82, 0.6)\", \"line\": {\"color\": \"rgba(219, 64, 82, 1.0)\", \"width\": 1}}, \"name\": \"APm\", \"orientation\": \"v\", \"text\": \"\", \"x\": [\"A to B\", \"A to C\", \"A to A25\", \"A to A50\"], \"y\": [4.8189563990464706, 5.363660833440143, 0.4578438413129049, 0.5575823761383769], \"type\": \"bar\", \"uid\": \"a2f071ce-5e69-4426-960f-5e874acb2dc5\"}, {\"marker\": {\"color\": \"rgba(0, 128, 128, 0.6)\", \"line\": {\"color\": \"rgba(0, 128, 128, 1.0)\", \"width\": 1}}, \"name\": \"APl\", \"orientation\": \"v\", \"text\": \"\", \"x\": [\"A to B\", \"A to C\", \"A to A25\", \"A to A50\"], \"y\": [4.8668657574790775, 4.819734517628948, -0.08006626060684807, -0.1339771923522748], \"type\": \"bar\", \"uid\": \"b227a78c-ff46-4bc3-b321-1ac60013a540\"}, {\"marker\": {\"color\": \"rgba(255, 255, 51, 0.6)\", \"line\": {\"color\": \"rgba(255, 255, 51, 1.0)\", \"width\": 1}}, \"name\": \"AR@1\", \"orientation\": \"v\", \"text\": \"\", \"x\": [\"A to B\", \"A to C\", \"A to A25\", \"A to A50\"], \"y\": [0.23008655637120762, 0.2837734195244884, -0.038347759395200576, -0.02081735510025412], \"type\": \"bar\", \"uid\": \"a76a5384-0c84-47bc-ab8c-cf3df17973f7\"}, {\"marker\": {\"color\": \"rgba(128, 128, 0, 0.6)\", \"line\": {\"color\": \"rgba(128, 128, 0, 1.0)\", \"width\": 1}}, \"name\": \"AR@10\", \"orientation\": \"v\", \"text\": \"\", \"x\": [\"A to B\", \"A to C\", \"A to A25\", \"A to A50\"], \"y\": [3.55428947080092, 3.9531061685110114, -0.02519995617399351, 0.038347759395201964], \"type\": \"bar\", \"uid\": \"fd362e01-522b-4d8f-ae91-8497c8df9783\"}, {\"marker\": {\"color\": \"rgba(251, 128, 114, 0.6)\", \"line\": {\"color\": \"rgba(251, 128, 114, 1.0)\", \"width\": 1}}, \"name\": \"AR\", \"orientation\": \"v\", \"text\": \"\", \"x\": [\"A to B\", \"A to C\", \"A to A25\", \"A to A50\"], \"y\": [3.908184507505191, 4.232496986961759, -0.2881560205982292, -0.3626602388517586], \"type\": \"bar\", \"uid\": \"26eef924-0367-4c98-862c-14ab6949eb00\"}, {\"marker\": {\"color\": \"rgba(128, 177, 211, 0.6)\", \"line\": {\"color\": \"rgba(128, 177, 211, 1.0)\", \"width\": 1}}, \"name\": \"ARs\", \"orientation\": \"v\", \"text\": \"\", \"x\": [\"A to B\", \"A to C\", \"A to A25\", \"A to A50\"], \"y\": [2.9812020121789766, 3.1956579295737306, -0.836642838231394, -0.9928514694201723], \"type\": \"bar\", \"uid\": \"41fa74db-a0e2-4eab-a757-bf346527e134\"}, {\"marker\": {\"color\": \"rgba(128, 177, 211, 0.6)\", \"line\": {\"color\": \"rgba(128, 177, 211, 0.8999999999999999)\", \"width\": 1}}, \"name\": \"ARm\", \"orientation\": \"v\", \"text\": \"\", \"x\": [\"A to B\", \"A to C\", \"A to A25\", \"A to A50\"], \"y\": [4.695530726256986, 5.262569832402219, 0.08938547486032067, 0.12290502793296798], \"type\": \"bar\", \"uid\": \"c74303f3-a1c3-406b-9af8-4c8e348642f8\"}, {\"marker\": {\"color\": \"rgba(255, 153, 51, 0.6)\", \"line\": {\"color\": \"rgba(255, 153, 51, 0.8999999999999999)\", \"width\": 1}}, \"name\": \"ARl\", \"orientation\": \"v\", \"text\": \"\", \"x\": [\"A to B\", \"A to C\", \"A to A25\", \"A to A50\"], \"y\": [4.2881355932203435, 4.412429378531069, 0.10169491525424679, -0.016949152542367063], \"type\": \"bar\", \"uid\": \"d07a4b5a-84d4-4d57-b39f-28b656a110e6\"}], {\"height\": 540, \"title\": {\"text\": \"Impact of GAN-based augmentation\"}, \"width\": 960, \"yaxis\": {\"title\": {\"text\": \"Absolute change in score (%)\"}}}, {\"modeBarButtonsToRemove\": [\"sendDataToCloud\"], \"displaylogo\": false, \"showLink\": false, \"linkText\": \"Export to plot.ly\", \"plotlyServerURL\": \"https://plot.ly\"}); \n",
       "}\n",
       "});</script>"
      ],
      "text/vnd.plotly.v1+html": [
       "<div id=\"91040f56-075e-4c21-990a-378827019732\" style=\"height: 540px; width: 960px;\" class=\"plotly-graph-div\"></div><script type=\"text/javascript\">require([\"plotly\"], function(Plotly) { window.PLOTLYENV=window.PLOTLYENV || {};window.PLOTLYENV.BASE_URL=\"https://plot.ly\";\n",
       "if (document.getElementById(\"91040f56-075e-4c21-990a-378827019732\")) {\n",
       "    Plotly.newPlot(\"91040f56-075e-4c21-990a-378827019732\", [{\"marker\": {\"color\": \"rgba(255, 153, 51, 0.6)\", \"line\": {\"color\": \"rgba(255, 153, 51, 1.0)\", \"width\": 1}}, \"name\": \"AP\", \"orientation\": \"v\", \"text\": \"\", \"x\": [\"A to B\", \"A to C\", \"A to A25\", \"A to A50\"], \"y\": [4.175769462172285, 4.440448863779439, -0.08372572746630502, -0.06285721261670152], \"type\": \"bar\", \"uid\": \"6302b633-a790-484e-932a-80ea60e3a7c0\"}, {\"marker\": {\"color\": \"rgba(55, 128, 191, 0.6)\", \"line\": {\"color\": \"rgba(55, 128, 191, 1.0)\", \"width\": 1}}, \"name\": \"AP50\", \"orientation\": \"v\", \"text\": \"\", \"x\": [\"A to B\", \"A to C\", \"A to A25\", \"A to A50\"], \"y\": [6.577872145771979, 7.202000286052057, -1.4324963012470882, -0.6716374091093491], \"type\": \"bar\", \"uid\": \"b44f1ae0-43b0-434e-a2a1-835d60ae697c\"}, {\"marker\": {\"color\": \"rgba(50, 171, 96, 0.6)\", \"line\": {\"color\": \"rgba(50, 171, 96, 1.0)\", \"width\": 1}}, \"name\": \"AP75\", \"orientation\": \"v\", \"text\": \"\", \"x\": [\"A to B\", \"A to C\", \"A to A25\", \"A to A50\"], \"y\": [4.063331541933957, 4.292718642120158, 0.6578028453833651, 0.14818419201250155], \"type\": \"bar\", \"uid\": \"657e8978-3358-49e3-a5e4-dd38c9e6e8ea\"}, {\"marker\": {\"color\": \"rgba(128, 0, 128, 0.6)\", \"line\": {\"color\": \"rgba(128, 0, 128, 1.0)\", \"width\": 1}}, \"name\": \"APs\", \"orientation\": \"v\", \"text\": \"\", \"x\": [\"A to B\", \"A to C\", \"A to A25\", \"A to A50\"], \"y\": [2.4037019136997797, 2.8368542051248986, -0.495014802002737, -0.30586258466166333], \"type\": \"bar\", \"uid\": \"99c721cb-f548-4f46-b426-2a1f91de7e20\"}, {\"marker\": {\"color\": \"rgba(219, 64, 82, 0.6)\", \"line\": {\"color\": \"rgba(219, 64, 82, 1.0)\", \"width\": 1}}, \"name\": \"APm\", \"orientation\": \"v\", \"text\": \"\", \"x\": [\"A to B\", \"A to C\", \"A to A25\", \"A to A50\"], \"y\": [4.8189563990464706, 5.363660833440143, 0.4578438413129049, 0.5575823761383769], \"type\": \"bar\", \"uid\": \"a2f071ce-5e69-4426-960f-5e874acb2dc5\"}, {\"marker\": {\"color\": \"rgba(0, 128, 128, 0.6)\", \"line\": {\"color\": \"rgba(0, 128, 128, 1.0)\", \"width\": 1}}, \"name\": \"APl\", \"orientation\": \"v\", \"text\": \"\", \"x\": [\"A to B\", \"A to C\", \"A to A25\", \"A to A50\"], \"y\": [4.8668657574790775, 4.819734517628948, -0.08006626060684807, -0.1339771923522748], \"type\": \"bar\", \"uid\": \"b227a78c-ff46-4bc3-b321-1ac60013a540\"}, {\"marker\": {\"color\": \"rgba(255, 255, 51, 0.6)\", \"line\": {\"color\": \"rgba(255, 255, 51, 1.0)\", \"width\": 1}}, \"name\": \"AR@1\", \"orientation\": \"v\", \"text\": \"\", \"x\": [\"A to B\", \"A to C\", \"A to A25\", \"A to A50\"], \"y\": [0.23008655637120762, 0.2837734195244884, -0.038347759395200576, -0.02081735510025412], \"type\": \"bar\", \"uid\": \"a76a5384-0c84-47bc-ab8c-cf3df17973f7\"}, {\"marker\": {\"color\": \"rgba(128, 128, 0, 0.6)\", \"line\": {\"color\": \"rgba(128, 128, 0, 1.0)\", \"width\": 1}}, \"name\": \"AR@10\", \"orientation\": \"v\", \"text\": \"\", \"x\": [\"A to B\", \"A to C\", \"A to A25\", \"A to A50\"], \"y\": [3.55428947080092, 3.9531061685110114, -0.02519995617399351, 0.038347759395201964], \"type\": \"bar\", \"uid\": \"fd362e01-522b-4d8f-ae91-8497c8df9783\"}, {\"marker\": {\"color\": \"rgba(251, 128, 114, 0.6)\", \"line\": {\"color\": \"rgba(251, 128, 114, 1.0)\", \"width\": 1}}, \"name\": \"AR\", \"orientation\": \"v\", \"text\": \"\", \"x\": [\"A to B\", \"A to C\", \"A to A25\", \"A to A50\"], \"y\": [3.908184507505191, 4.232496986961759, -0.2881560205982292, -0.3626602388517586], \"type\": \"bar\", \"uid\": \"26eef924-0367-4c98-862c-14ab6949eb00\"}, {\"marker\": {\"color\": \"rgba(128, 177, 211, 0.6)\", \"line\": {\"color\": \"rgba(128, 177, 211, 1.0)\", \"width\": 1}}, \"name\": \"ARs\", \"orientation\": \"v\", \"text\": \"\", \"x\": [\"A to B\", \"A to C\", \"A to A25\", \"A to A50\"], \"y\": [2.9812020121789766, 3.1956579295737306, -0.836642838231394, -0.9928514694201723], \"type\": \"bar\", \"uid\": \"41fa74db-a0e2-4eab-a757-bf346527e134\"}, {\"marker\": {\"color\": \"rgba(128, 177, 211, 0.6)\", \"line\": {\"color\": \"rgba(128, 177, 211, 0.8999999999999999)\", \"width\": 1}}, \"name\": \"ARm\", \"orientation\": \"v\", \"text\": \"\", \"x\": [\"A to B\", \"A to C\", \"A to A25\", \"A to A50\"], \"y\": [4.695530726256986, 5.262569832402219, 0.08938547486032067, 0.12290502793296798], \"type\": \"bar\", \"uid\": \"c74303f3-a1c3-406b-9af8-4c8e348642f8\"}, {\"marker\": {\"color\": \"rgba(255, 153, 51, 0.6)\", \"line\": {\"color\": \"rgba(255, 153, 51, 0.8999999999999999)\", \"width\": 1}}, \"name\": \"ARl\", \"orientation\": \"v\", \"text\": \"\", \"x\": [\"A to B\", \"A to C\", \"A to A25\", \"A to A50\"], \"y\": [4.2881355932203435, 4.412429378531069, 0.10169491525424679, -0.016949152542367063], \"type\": \"bar\", \"uid\": \"d07a4b5a-84d4-4d57-b39f-28b656a110e6\"}], {\"height\": 540, \"title\": {\"text\": \"Impact of GAN-based augmentation\"}, \"width\": 960, \"yaxis\": {\"title\": {\"text\": \"Absolute change in score (%)\"}}}, {\"modeBarButtonsToRemove\": [\"sendDataToCloud\"], \"displaylogo\": false, \"showLink\": false, \"linkText\": \"Export to plot.ly\", \"plotlyServerURL\": \"https://plot.ly\"}); \n",
       "}\n",
       "});</script>"
      ]
     },
     "metadata": {},
     "output_type": "display_data"
    }
   ],
   "source": [
    "layout = {\n",
    "    \"title\": \"Impact of GAN-based augmentation\",\n",
    "    \"yaxis\": {\n",
    "        \"title\": \"Absolute change in score (%)\"\n",
    "    },\n",
    "    \"width\": 960,\n",
    "    \"height\": 540\n",
    "}\n",
    "fig = df_combined.iplot(kind = \"bar\", y = [\"AP\", \"AP50\", \"AP75\", \"APs\", \"APm\", \"APl\", \"AR@1\", \"AR@10\", \"AR\", \"ARs\", \"ARm\", \"ARl\"], layout = layout, asFigure = True)\n",
    "py.offline.iplot(fig, show_link = False, config = config)"
   ]
  }
 ],
 "metadata": {
  "kernelspec": {
   "display_name": "Python 3",
   "language": "python",
   "name": "python3"
  },
  "language_info": {
   "codemirror_mode": {
    "name": "ipython",
    "version": 3
   },
   "file_extension": ".py",
   "mimetype": "text/x-python",
   "name": "python",
   "nbconvert_exporter": "python",
   "pygments_lexer": "ipython3",
   "version": "3.6.7"
  }
 },
 "nbformat": 4,
 "nbformat_minor": 2
}

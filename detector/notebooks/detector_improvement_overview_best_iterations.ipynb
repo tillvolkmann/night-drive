{
 "cells": [
  {
   "cell_type": "code",
   "execution_count": 1,
   "metadata": {},
   "outputs": [],
   "source": [
    "import glob\n",
    "import numpy as np\n",
    "import pandas as pd\n",
    "import plotly as py\n",
    "import cufflinks as cf\n",
    "%matplotlib inline"
   ]
  },
  {
   "cell_type": "code",
   "execution_count": 2,
   "metadata": {},
   "outputs": [],
   "source": [
    "train_A_over_logs = \"../eval/20190317_RetinaNet_train_A_over_eval/test_night\"\n",
    "train_B_over_logs = \"../eval/20190317_RetinaNet_train_B_over_eval/test_night\"\n",
    "train_C_over_logs = \"../eval/20190317_RetinaNet_train_C_over_eval/test_night\"\n",
    "train_A_over_ganaug_025_logs = \"../eval/20190324_RetinaNet_train_A_over_ganaug_025_eval/test_night\"\n",
    "train_A_over_ganaug_050_logs = \"../eval/20190324_RetinaNet_train_A_over_ganaug_050_eval/test_night\"\n",
    "\n",
    "train_A_over_iteration = None # None = best\n",
    "train_B_over_iteration = None # None = best\n",
    "train_C_over_iteration = None # None = best\n",
    "train_A_over_ganaug_025_iteration = None # None = best\n",
    "train_A_over_ganaug_050_iteration = None # None = best"
   ]
  },
  {
   "cell_type": "code",
   "execution_count": 3,
   "metadata": {},
   "outputs": [],
   "source": [
    "train_A_over_logs = glob.glob(train_A_over_logs + \"/**/*.txt\", recursive = True)\n",
    "train_B_over_logs = glob.glob(train_B_over_logs + \"/**/*.txt\", recursive = True)\n",
    "train_C_over_logs = glob.glob(train_C_over_logs + \"/**/*.txt\", recursive = True)\n",
    "\n",
    "train_A_over_ganaug_025_logs = glob.glob(train_A_over_ganaug_025_logs + \"/**/*.txt\", recursive = True)\n",
    "train_A_over_ganaug_050_logs = glob.glob(train_A_over_ganaug_050_logs + \"/**/*.txt\", recursive = True)"
   ]
  },
  {
   "cell_type": "code",
   "execution_count": 4,
   "metadata": {},
   "outputs": [],
   "source": [
    "def logs2df(logs, iteration = None):\n",
    "    df_iterations = pd.DataFrame()\n",
    "    last_iteration = -1\n",
    "    for log in logs:\n",
    "        df = pd.read_csv(log)\n",
    "        df = df.drop(columns = [\"Unnamed: 12\"])\n",
    "        df[\"Iteration\"] = last_iteration if log.split(\"_model_\")[-1].split(\"_\")[0] == \"final\" else int(log.split(\"_model_\")[-1].split(\"_\")[0])\n",
    "        df_iterations = pd.concat([df_iterations, df], axis = 0)\n",
    "        df_iterations = df_iterations.reset_index(drop = True)\n",
    "        last_iteration = df[\"Iteration\"]\n",
    "    df_iterations = df_iterations.sort_values(by = ['Iteration']).reset_index(drop = True)\n",
    "    if iteration is not None:\n",
    "        df_iterations = df_iterations.loc[df_iterations.Iteration == iteration].drop_duplicates([\"Iteration\"], keep = \"last\").reset_index(drop = True)\n",
    "    df_iterations = df_iterations.set_index(\"Iteration\")\n",
    "    return df_iterations"
   ]
  },
  {
   "cell_type": "markdown",
   "metadata": {},
   "source": [
    "## Best iterations ##"
   ]
  },
  {
   "cell_type": "markdown",
   "metadata": {},
   "source": [
    "### --> All metrics are evaluated independently on their best iteration <-- ###"
   ]
  },
  {
   "cell_type": "markdown",
   "metadata": {},
   "source": [
    "### train_A_over ###"
   ]
  },
  {
   "cell_type": "code",
   "execution_count": 5,
   "metadata": {},
   "outputs": [
    {
     "data": {
      "text/html": [
       "<div>\n",
       "<style scoped>\n",
       "    .dataframe tbody tr th:only-of-type {\n",
       "        vertical-align: middle;\n",
       "    }\n",
       "\n",
       "    .dataframe tbody tr th {\n",
       "        vertical-align: top;\n",
       "    }\n",
       "\n",
       "    .dataframe thead th {\n",
       "        text-align: right;\n",
       "    }\n",
       "</style>\n",
       "<table border=\"1\" class=\"dataframe\">\n",
       "  <thead>\n",
       "    <tr style=\"text-align: right;\">\n",
       "      <th></th>\n",
       "      <th>AP</th>\n",
       "      <th>AP50</th>\n",
       "      <th>AP75</th>\n",
       "      <th>APs</th>\n",
       "      <th>APm</th>\n",
       "      <th>APl</th>\n",
       "      <th>AR@1</th>\n",
       "      <th>AR@10</th>\n",
       "      <th>AR</th>\n",
       "      <th>ARs</th>\n",
       "      <th>ARm</th>\n",
       "      <th>ARl</th>\n",
       "    </tr>\n",
       "    <tr>\n",
       "      <th>Iteration</th>\n",
       "      <th></th>\n",
       "      <th></th>\n",
       "      <th></th>\n",
       "      <th></th>\n",
       "      <th></th>\n",
       "      <th></th>\n",
       "      <th></th>\n",
       "      <th></th>\n",
       "      <th></th>\n",
       "      <th></th>\n",
       "      <th></th>\n",
       "      <th></th>\n",
       "    </tr>\n",
       "  </thead>\n",
       "  <tbody>\n",
       "    <tr>\n",
       "      <th>2500</th>\n",
       "      <td>0.13163</td>\n",
       "      <td>0.31964</td>\n",
       "      <td>0.093902</td>\n",
       "      <td>0.053266</td>\n",
       "      <td>0.222897</td>\n",
       "      <td>0.24233</td>\n",
       "      <td>0.063217</td>\n",
       "      <td>0.194756</td>\n",
       "      <td>0.228914</td>\n",
       "      <td>0.139703</td>\n",
       "      <td>0.351437</td>\n",
       "      <td>0.306366</td>\n",
       "    </tr>\n",
       "  </tbody>\n",
       "</table>\n",
       "</div>"
      ],
      "text/plain": [
       "                AP     AP50      AP75       APs       APm      APl      AR@1  \\\n",
       "Iteration                                                                      \n",
       "2500       0.13163  0.31964  0.093902  0.053266  0.222897  0.24233  0.063217   \n",
       "\n",
       "              AR@10        AR       ARs       ARm       ARl  \n",
       "Iteration                                                    \n",
       "2500       0.194756  0.228914  0.139703  0.351437  0.306366  "
      ]
     },
     "execution_count": 5,
     "metadata": {},
     "output_type": "execute_result"
    }
   ],
   "source": [
    "df_train_A_over = logs2df(train_A_over_logs, train_A_over_iteration)\n",
    "df_train_A_over.head(1)"
   ]
  },
  {
   "cell_type": "code",
   "execution_count": 6,
   "metadata": {},
   "outputs": [
    {
     "data": {
      "text/html": [
       "<div>\n",
       "<style scoped>\n",
       "    .dataframe tbody tr th:only-of-type {\n",
       "        vertical-align: middle;\n",
       "    }\n",
       "\n",
       "    .dataframe tbody tr th {\n",
       "        vertical-align: top;\n",
       "    }\n",
       "\n",
       "    .dataframe thead th {\n",
       "        text-align: right;\n",
       "    }\n",
       "</style>\n",
       "<table border=\"1\" class=\"dataframe\">\n",
       "  <thead>\n",
       "    <tr style=\"text-align: right;\">\n",
       "      <th></th>\n",
       "      <th>AP</th>\n",
       "      <th>AP50</th>\n",
       "      <th>AP75</th>\n",
       "      <th>APs</th>\n",
       "      <th>APm</th>\n",
       "      <th>APl</th>\n",
       "      <th>AR@1</th>\n",
       "      <th>AR@10</th>\n",
       "      <th>AR</th>\n",
       "      <th>ARs</th>\n",
       "      <th>ARm</th>\n",
       "      <th>ARl</th>\n",
       "    </tr>\n",
       "  </thead>\n",
       "  <tbody>\n",
       "    <tr>\n",
       "      <th>0</th>\n",
       "      <td>105000</td>\n",
       "      <td>105000</td>\n",
       "      <td>105000</td>\n",
       "      <td>105000</td>\n",
       "      <td>37500</td>\n",
       "      <td>182500</td>\n",
       "      <td>62500</td>\n",
       "      <td>105000</td>\n",
       "      <td>105000</td>\n",
       "      <td>162500</td>\n",
       "      <td>25000</td>\n",
       "      <td>107500</td>\n",
       "    </tr>\n",
       "  </tbody>\n",
       "</table>\n",
       "</div>"
      ],
      "text/plain": [
       "       AP    AP50    AP75     APs    APm     APl   AR@1   AR@10      AR  \\\n",
       "0  105000  105000  105000  105000  37500  182500  62500  105000  105000   \n",
       "\n",
       "      ARs    ARm     ARl  \n",
       "0  162500  25000  107500  "
      ]
     },
     "execution_count": 6,
     "metadata": {},
     "output_type": "execute_result"
    }
   ],
   "source": [
    "df_train_A_over_best_iter_per_metric = df_train_A_over.idxmax().to_frame().T\n",
    "df_train_A_over_best_iter_per_metric.head(1)"
   ]
  },
  {
   "cell_type": "code",
   "execution_count": 7,
   "metadata": {},
   "outputs": [
    {
     "data": {
      "text/html": [
       "<div>\n",
       "<style scoped>\n",
       "    .dataframe tbody tr th:only-of-type {\n",
       "        vertical-align: middle;\n",
       "    }\n",
       "\n",
       "    .dataframe tbody tr th {\n",
       "        vertical-align: top;\n",
       "    }\n",
       "\n",
       "    .dataframe thead th {\n",
       "        text-align: right;\n",
       "    }\n",
       "</style>\n",
       "<table border=\"1\" class=\"dataframe\">\n",
       "  <thead>\n",
       "    <tr style=\"text-align: right;\">\n",
       "      <th></th>\n",
       "      <th>AP</th>\n",
       "      <th>AP50</th>\n",
       "      <th>AP75</th>\n",
       "      <th>APs</th>\n",
       "      <th>APm</th>\n",
       "      <th>APl</th>\n",
       "      <th>AR@1</th>\n",
       "      <th>AR@10</th>\n",
       "      <th>AR</th>\n",
       "      <th>ARs</th>\n",
       "      <th>ARm</th>\n",
       "      <th>ARl</th>\n",
       "    </tr>\n",
       "  </thead>\n",
       "  <tbody>\n",
       "    <tr>\n",
       "      <th>0</th>\n",
       "      <td>0.229694</td>\n",
       "      <td>0.529048</td>\n",
       "      <td>0.169722</td>\n",
       "      <td>0.129553</td>\n",
       "      <td>0.328953</td>\n",
       "      <td>0.417558</td>\n",
       "      <td>0.090151</td>\n",
       "      <td>0.304542</td>\n",
       "      <td>0.341172</td>\n",
       "      <td>0.252759</td>\n",
       "      <td>0.455942</td>\n",
       "      <td>0.47136</td>\n",
       "    </tr>\n",
       "  </tbody>\n",
       "</table>\n",
       "</div>"
      ],
      "text/plain": [
       "         AP      AP50      AP75       APs       APm       APl      AR@1  \\\n",
       "0  0.229694  0.529048  0.169722  0.129553  0.328953  0.417558  0.090151   \n",
       "\n",
       "      AR@10        AR       ARs       ARm      ARl  \n",
       "0  0.304542  0.341172  0.252759  0.455942  0.47136  "
      ]
     },
     "execution_count": 7,
     "metadata": {},
     "output_type": "execute_result"
    }
   ],
   "source": [
    "df_train_A_over_best_val_per_metric = df_train_A_over.max().to_frame().T\n",
    "df_train_A_over_best_val_per_metric.head(1)"
   ]
  },
  {
   "cell_type": "markdown",
   "metadata": {},
   "source": [
    "### train_B_over ###"
   ]
  },
  {
   "cell_type": "code",
   "execution_count": 8,
   "metadata": {},
   "outputs": [
    {
     "data": {
      "text/html": [
       "<div>\n",
       "<style scoped>\n",
       "    .dataframe tbody tr th:only-of-type {\n",
       "        vertical-align: middle;\n",
       "    }\n",
       "\n",
       "    .dataframe tbody tr th {\n",
       "        vertical-align: top;\n",
       "    }\n",
       "\n",
       "    .dataframe thead th {\n",
       "        text-align: right;\n",
       "    }\n",
       "</style>\n",
       "<table border=\"1\" class=\"dataframe\">\n",
       "  <thead>\n",
       "    <tr style=\"text-align: right;\">\n",
       "      <th></th>\n",
       "      <th>AP</th>\n",
       "      <th>AP50</th>\n",
       "      <th>AP75</th>\n",
       "      <th>APs</th>\n",
       "      <th>APm</th>\n",
       "      <th>APl</th>\n",
       "      <th>AR@1</th>\n",
       "      <th>AR@10</th>\n",
       "      <th>AR</th>\n",
       "      <th>ARs</th>\n",
       "      <th>ARm</th>\n",
       "      <th>ARl</th>\n",
       "    </tr>\n",
       "    <tr>\n",
       "      <th>Iteration</th>\n",
       "      <th></th>\n",
       "      <th></th>\n",
       "      <th></th>\n",
       "      <th></th>\n",
       "      <th></th>\n",
       "      <th></th>\n",
       "      <th></th>\n",
       "      <th></th>\n",
       "      <th></th>\n",
       "      <th></th>\n",
       "      <th></th>\n",
       "      <th></th>\n",
       "    </tr>\n",
       "  </thead>\n",
       "  <tbody>\n",
       "    <tr>\n",
       "      <th>2500</th>\n",
       "      <td>0.159911</td>\n",
       "      <td>0.395696</td>\n",
       "      <td>0.109578</td>\n",
       "      <td>0.067348</td>\n",
       "      <td>0.27205</td>\n",
       "      <td>0.277922</td>\n",
       "      <td>0.072133</td>\n",
       "      <td>0.220823</td>\n",
       "      <td>0.256374</td>\n",
       "      <td>0.159919</td>\n",
       "      <td>0.396786</td>\n",
       "      <td>0.360436</td>\n",
       "    </tr>\n",
       "  </tbody>\n",
       "</table>\n",
       "</div>"
      ],
      "text/plain": [
       "                 AP      AP50      AP75       APs      APm       APl  \\\n",
       "Iteration                                                              \n",
       "2500       0.159911  0.395696  0.109578  0.067348  0.27205  0.277922   \n",
       "\n",
       "               AR@1     AR@10        AR       ARs       ARm       ARl  \n",
       "Iteration                                                              \n",
       "2500       0.072133  0.220823  0.256374  0.159919  0.396786  0.360436  "
      ]
     },
     "execution_count": 8,
     "metadata": {},
     "output_type": "execute_result"
    }
   ],
   "source": [
    "df_train_B_over = logs2df(train_B_over_logs, train_B_over_iteration)\n",
    "df_train_B_over.head(1)"
   ]
  },
  {
   "cell_type": "code",
   "execution_count": 9,
   "metadata": {},
   "outputs": [
    {
     "data": {
      "text/html": [
       "<div>\n",
       "<style scoped>\n",
       "    .dataframe tbody tr th:only-of-type {\n",
       "        vertical-align: middle;\n",
       "    }\n",
       "\n",
       "    .dataframe tbody tr th {\n",
       "        vertical-align: top;\n",
       "    }\n",
       "\n",
       "    .dataframe thead th {\n",
       "        text-align: right;\n",
       "    }\n",
       "</style>\n",
       "<table border=\"1\" class=\"dataframe\">\n",
       "  <thead>\n",
       "    <tr style=\"text-align: right;\">\n",
       "      <th></th>\n",
       "      <th>AP</th>\n",
       "      <th>AP50</th>\n",
       "      <th>AP75</th>\n",
       "      <th>APs</th>\n",
       "      <th>APm</th>\n",
       "      <th>APl</th>\n",
       "      <th>AR@1</th>\n",
       "      <th>AR@10</th>\n",
       "      <th>AR</th>\n",
       "      <th>ARs</th>\n",
       "      <th>ARm</th>\n",
       "      <th>ARl</th>\n",
       "    </tr>\n",
       "  </thead>\n",
       "  <tbody>\n",
       "    <tr>\n",
       "      <th>0</th>\n",
       "      <td>97500</td>\n",
       "      <td>110000</td>\n",
       "      <td>70000</td>\n",
       "      <td>112500</td>\n",
       "      <td>42500</td>\n",
       "      <td>165000</td>\n",
       "      <td>70000</td>\n",
       "      <td>102500</td>\n",
       "      <td>102500</td>\n",
       "      <td>172500</td>\n",
       "      <td>82500</td>\n",
       "      <td>40000</td>\n",
       "    </tr>\n",
       "  </tbody>\n",
       "</table>\n",
       "</div>"
      ],
      "text/plain": [
       "      AP    AP50   AP75     APs    APm     APl   AR@1   AR@10      AR     ARs  \\\n",
       "0  97500  110000  70000  112500  42500  165000  70000  102500  102500  172500   \n",
       "\n",
       "     ARm    ARl  \n",
       "0  82500  40000  "
      ]
     },
     "execution_count": 9,
     "metadata": {},
     "output_type": "execute_result"
    }
   ],
   "source": [
    "df_train_B_over_best_iter_per_metric = df_train_B_over.idxmax().to_frame().T\n",
    "df_train_B_over_best_iter_per_metric.head(1)"
   ]
  },
  {
   "cell_type": "code",
   "execution_count": 10,
   "metadata": {},
   "outputs": [
    {
     "data": {
      "text/html": [
       "<div>\n",
       "<style scoped>\n",
       "    .dataframe tbody tr th:only-of-type {\n",
       "        vertical-align: middle;\n",
       "    }\n",
       "\n",
       "    .dataframe tbody tr th {\n",
       "        vertical-align: top;\n",
       "    }\n",
       "\n",
       "    .dataframe thead th {\n",
       "        text-align: right;\n",
       "    }\n",
       "</style>\n",
       "<table border=\"1\" class=\"dataframe\">\n",
       "  <thead>\n",
       "    <tr style=\"text-align: right;\">\n",
       "      <th></th>\n",
       "      <th>AP</th>\n",
       "      <th>AP50</th>\n",
       "      <th>AP75</th>\n",
       "      <th>APs</th>\n",
       "      <th>APm</th>\n",
       "      <th>APl</th>\n",
       "      <th>AR@1</th>\n",
       "      <th>AR@10</th>\n",
       "      <th>AR</th>\n",
       "      <th>ARs</th>\n",
       "      <th>ARm</th>\n",
       "      <th>ARl</th>\n",
       "    </tr>\n",
       "  </thead>\n",
       "  <tbody>\n",
       "    <tr>\n",
       "      <th>0</th>\n",
       "      <td>0.249378</td>\n",
       "      <td>0.572708</td>\n",
       "      <td>0.190084</td>\n",
       "      <td>0.140732</td>\n",
       "      <td>0.360874</td>\n",
       "      <td>0.442164</td>\n",
       "      <td>0.095626</td>\n",
       "      <td>0.323085</td>\n",
       "      <td>0.36021</td>\n",
       "      <td>0.267828</td>\n",
       "      <td>0.481537</td>\n",
       "      <td>0.488426</td>\n",
       "    </tr>\n",
       "  </tbody>\n",
       "</table>\n",
       "</div>"
      ],
      "text/plain": [
       "         AP      AP50      AP75       APs       APm       APl      AR@1  \\\n",
       "0  0.249378  0.572708  0.190084  0.140732  0.360874  0.442164  0.095626   \n",
       "\n",
       "      AR@10       AR       ARs       ARm       ARl  \n",
       "0  0.323085  0.36021  0.267828  0.481537  0.488426  "
      ]
     },
     "execution_count": 10,
     "metadata": {},
     "output_type": "execute_result"
    }
   ],
   "source": [
    "df_train_B_over_best_val_per_metric = df_train_B_over.max().to_frame().T\n",
    "df_train_B_over_best_val_per_metric.head(1)"
   ]
  },
  {
   "cell_type": "markdown",
   "metadata": {},
   "source": [
    "### train_C_over ###"
   ]
  },
  {
   "cell_type": "code",
   "execution_count": 11,
   "metadata": {},
   "outputs": [
    {
     "data": {
      "text/html": [
       "<div>\n",
       "<style scoped>\n",
       "    .dataframe tbody tr th:only-of-type {\n",
       "        vertical-align: middle;\n",
       "    }\n",
       "\n",
       "    .dataframe tbody tr th {\n",
       "        vertical-align: top;\n",
       "    }\n",
       "\n",
       "    .dataframe thead th {\n",
       "        text-align: right;\n",
       "    }\n",
       "</style>\n",
       "<table border=\"1\" class=\"dataframe\">\n",
       "  <thead>\n",
       "    <tr style=\"text-align: right;\">\n",
       "      <th></th>\n",
       "      <th>AP</th>\n",
       "      <th>AP50</th>\n",
       "      <th>AP75</th>\n",
       "      <th>APs</th>\n",
       "      <th>APm</th>\n",
       "      <th>APl</th>\n",
       "      <th>AR@1</th>\n",
       "      <th>AR@10</th>\n",
       "      <th>AR</th>\n",
       "      <th>ARs</th>\n",
       "      <th>ARm</th>\n",
       "      <th>ARl</th>\n",
       "    </tr>\n",
       "    <tr>\n",
       "      <th>Iteration</th>\n",
       "      <th></th>\n",
       "      <th></th>\n",
       "      <th></th>\n",
       "      <th></th>\n",
       "      <th></th>\n",
       "      <th></th>\n",
       "      <th></th>\n",
       "      <th></th>\n",
       "      <th></th>\n",
       "      <th></th>\n",
       "      <th></th>\n",
       "      <th></th>\n",
       "    </tr>\n",
       "  </thead>\n",
       "  <tbody>\n",
       "    <tr>\n",
       "      <th>2500</th>\n",
       "      <td>0.159331</td>\n",
       "      <td>0.405227</td>\n",
       "      <td>0.10739</td>\n",
       "      <td>0.067147</td>\n",
       "      <td>0.263677</td>\n",
       "      <td>0.298301</td>\n",
       "      <td>0.07096</td>\n",
       "      <td>0.228295</td>\n",
       "      <td>0.264272</td>\n",
       "      <td>0.165459</td>\n",
       "      <td>0.398036</td>\n",
       "      <td>0.408582</td>\n",
       "    </tr>\n",
       "  </tbody>\n",
       "</table>\n",
       "</div>"
      ],
      "text/plain": [
       "                 AP      AP50     AP75       APs       APm       APl     AR@1  \\\n",
       "Iteration                                                                       \n",
       "2500       0.159331  0.405227  0.10739  0.067147  0.263677  0.298301  0.07096   \n",
       "\n",
       "              AR@10        AR       ARs       ARm       ARl  \n",
       "Iteration                                                    \n",
       "2500       0.228295  0.264272  0.165459  0.398036  0.408582  "
      ]
     },
     "execution_count": 11,
     "metadata": {},
     "output_type": "execute_result"
    }
   ],
   "source": [
    "df_train_C_over = logs2df(train_C_over_logs, train_C_over_iteration)\n",
    "df_train_C_over.head(1)"
   ]
  },
  {
   "cell_type": "code",
   "execution_count": 12,
   "metadata": {},
   "outputs": [
    {
     "data": {
      "text/html": [
       "<div>\n",
       "<style scoped>\n",
       "    .dataframe tbody tr th:only-of-type {\n",
       "        vertical-align: middle;\n",
       "    }\n",
       "\n",
       "    .dataframe tbody tr th {\n",
       "        vertical-align: top;\n",
       "    }\n",
       "\n",
       "    .dataframe thead th {\n",
       "        text-align: right;\n",
       "    }\n",
       "</style>\n",
       "<table border=\"1\" class=\"dataframe\">\n",
       "  <thead>\n",
       "    <tr style=\"text-align: right;\">\n",
       "      <th></th>\n",
       "      <th>AP</th>\n",
       "      <th>AP50</th>\n",
       "      <th>AP75</th>\n",
       "      <th>APs</th>\n",
       "      <th>APm</th>\n",
       "      <th>APl</th>\n",
       "      <th>AR@1</th>\n",
       "      <th>AR@10</th>\n",
       "      <th>AR</th>\n",
       "      <th>ARs</th>\n",
       "      <th>ARm</th>\n",
       "      <th>ARl</th>\n",
       "    </tr>\n",
       "  </thead>\n",
       "  <tbody>\n",
       "    <tr>\n",
       "      <th>0</th>\n",
       "      <td>65000</td>\n",
       "      <td>65000</td>\n",
       "      <td>65000</td>\n",
       "      <td>102500</td>\n",
       "      <td>35000</td>\n",
       "      <td>112500</td>\n",
       "      <td>65000</td>\n",
       "      <td>65000</td>\n",
       "      <td>65000</td>\n",
       "      <td>65000</td>\n",
       "      <td>45000</td>\n",
       "      <td>62500</td>\n",
       "    </tr>\n",
       "  </tbody>\n",
       "</table>\n",
       "</div>"
      ],
      "text/plain": [
       "      AP   AP50   AP75     APs    APm     APl   AR@1  AR@10     AR    ARs  \\\n",
       "0  65000  65000  65000  102500  35000  112500  65000  65000  65000  65000   \n",
       "\n",
       "     ARm    ARl  \n",
       "0  45000  62500  "
      ]
     },
     "execution_count": 12,
     "metadata": {},
     "output_type": "execute_result"
    }
   ],
   "source": [
    "df_train_C_over_best_iter_per_metric = df_train_C_over.idxmax().to_frame().T\n",
    "df_train_C_over_best_iter_per_metric.head(1)"
   ]
  },
  {
   "cell_type": "code",
   "execution_count": 13,
   "metadata": {},
   "outputs": [
    {
     "data": {
      "text/html": [
       "<div>\n",
       "<style scoped>\n",
       "    .dataframe tbody tr th:only-of-type {\n",
       "        vertical-align: middle;\n",
       "    }\n",
       "\n",
       "    .dataframe tbody tr th {\n",
       "        vertical-align: top;\n",
       "    }\n",
       "\n",
       "    .dataframe thead th {\n",
       "        text-align: right;\n",
       "    }\n",
       "</style>\n",
       "<table border=\"1\" class=\"dataframe\">\n",
       "  <thead>\n",
       "    <tr style=\"text-align: right;\">\n",
       "      <th></th>\n",
       "      <th>AP</th>\n",
       "      <th>AP50</th>\n",
       "      <th>AP75</th>\n",
       "      <th>APs</th>\n",
       "      <th>APm</th>\n",
       "      <th>APl</th>\n",
       "      <th>AR@1</th>\n",
       "      <th>AR@10</th>\n",
       "      <th>AR</th>\n",
       "      <th>ARs</th>\n",
       "      <th>ARm</th>\n",
       "      <th>ARl</th>\n",
       "    </tr>\n",
       "  </thead>\n",
       "  <tbody>\n",
       "    <tr>\n",
       "      <th>0</th>\n",
       "      <td>0.253451</td>\n",
       "      <td>0.581621</td>\n",
       "      <td>0.192043</td>\n",
       "      <td>0.140435</td>\n",
       "      <td>0.367166</td>\n",
       "      <td>0.443089</td>\n",
       "      <td>0.09565</td>\n",
       "      <td>0.327692</td>\n",
       "      <td>0.365151</td>\n",
       "      <td>0.269937</td>\n",
       "      <td>0.484678</td>\n",
       "      <td>0.632742</td>\n",
       "    </tr>\n",
       "  </tbody>\n",
       "</table>\n",
       "</div>"
      ],
      "text/plain": [
       "         AP      AP50      AP75       APs       APm       APl     AR@1  \\\n",
       "0  0.253451  0.581621  0.192043  0.140435  0.367166  0.443089  0.09565   \n",
       "\n",
       "      AR@10        AR       ARs       ARm       ARl  \n",
       "0  0.327692  0.365151  0.269937  0.484678  0.632742  "
      ]
     },
     "execution_count": 13,
     "metadata": {},
     "output_type": "execute_result"
    }
   ],
   "source": [
    "df_train_C_over_best_val_per_metric = df_train_C_over.max().to_frame().T\n",
    "df_train_C_over_best_val_per_metric.head(1)"
   ]
  },
  {
   "cell_type": "markdown",
   "metadata": {},
   "source": [
    "### train_A_over_ganaug_025 ###"
   ]
  },
  {
   "cell_type": "code",
   "execution_count": 14,
   "metadata": {},
   "outputs": [
    {
     "data": {
      "text/html": [
       "<div>\n",
       "<style scoped>\n",
       "    .dataframe tbody tr th:only-of-type {\n",
       "        vertical-align: middle;\n",
       "    }\n",
       "\n",
       "    .dataframe tbody tr th {\n",
       "        vertical-align: top;\n",
       "    }\n",
       "\n",
       "    .dataframe thead th {\n",
       "        text-align: right;\n",
       "    }\n",
       "</style>\n",
       "<table border=\"1\" class=\"dataframe\">\n",
       "  <thead>\n",
       "    <tr style=\"text-align: right;\">\n",
       "      <th></th>\n",
       "      <th>AP</th>\n",
       "      <th>AP50</th>\n",
       "      <th>AP75</th>\n",
       "      <th>APs</th>\n",
       "      <th>APm</th>\n",
       "      <th>APl</th>\n",
       "      <th>AR@1</th>\n",
       "      <th>AR@10</th>\n",
       "      <th>AR</th>\n",
       "      <th>ARs</th>\n",
       "      <th>ARm</th>\n",
       "      <th>ARl</th>\n",
       "    </tr>\n",
       "    <tr>\n",
       "      <th>Iteration</th>\n",
       "      <th></th>\n",
       "      <th></th>\n",
       "      <th></th>\n",
       "      <th></th>\n",
       "      <th></th>\n",
       "      <th></th>\n",
       "      <th></th>\n",
       "      <th></th>\n",
       "      <th></th>\n",
       "      <th></th>\n",
       "      <th></th>\n",
       "      <th></th>\n",
       "    </tr>\n",
       "  </thead>\n",
       "  <tbody>\n",
       "    <tr>\n",
       "      <th>2500</th>\n",
       "      <td>0.122966</td>\n",
       "      <td>0.298714</td>\n",
       "      <td>0.083319</td>\n",
       "      <td>0.041196</td>\n",
       "      <td>0.214009</td>\n",
       "      <td>0.308924</td>\n",
       "      <td>0.060671</td>\n",
       "      <td>0.179528</td>\n",
       "      <td>0.215648</td>\n",
       "      <td>0.130076</td>\n",
       "      <td>0.316315</td>\n",
       "      <td>0.368626</td>\n",
       "    </tr>\n",
       "  </tbody>\n",
       "</table>\n",
       "</div>"
      ],
      "text/plain": [
       "                 AP      AP50      AP75       APs       APm       APl  \\\n",
       "Iteration                                                               \n",
       "2500       0.122966  0.298714  0.083319  0.041196  0.214009  0.308924   \n",
       "\n",
       "               AR@1     AR@10        AR       ARs       ARm       ARl  \n",
       "Iteration                                                              \n",
       "2500       0.060671  0.179528  0.215648  0.130076  0.316315  0.368626  "
      ]
     },
     "execution_count": 14,
     "metadata": {},
     "output_type": "execute_result"
    }
   ],
   "source": [
    "df_train_A_over_ganaug_025 = logs2df(train_A_over_ganaug_025_logs, train_A_over_ganaug_025_iteration)\n",
    "df_train_A_over_ganaug_025.head(1)"
   ]
  },
  {
   "cell_type": "code",
   "execution_count": 15,
   "metadata": {},
   "outputs": [
    {
     "data": {
      "text/html": [
       "<div>\n",
       "<style scoped>\n",
       "    .dataframe tbody tr th:only-of-type {\n",
       "        vertical-align: middle;\n",
       "    }\n",
       "\n",
       "    .dataframe tbody tr th {\n",
       "        vertical-align: top;\n",
       "    }\n",
       "\n",
       "    .dataframe thead th {\n",
       "        text-align: right;\n",
       "    }\n",
       "</style>\n",
       "<table border=\"1\" class=\"dataframe\">\n",
       "  <thead>\n",
       "    <tr style=\"text-align: right;\">\n",
       "      <th></th>\n",
       "      <th>AP</th>\n",
       "      <th>AP50</th>\n",
       "      <th>AP75</th>\n",
       "      <th>APs</th>\n",
       "      <th>APm</th>\n",
       "      <th>APl</th>\n",
       "      <th>AR@1</th>\n",
       "      <th>AR@10</th>\n",
       "      <th>AR</th>\n",
       "      <th>ARs</th>\n",
       "      <th>ARm</th>\n",
       "      <th>ARl</th>\n",
       "    </tr>\n",
       "  </thead>\n",
       "  <tbody>\n",
       "    <tr>\n",
       "      <th>0</th>\n",
       "      <td>42500</td>\n",
       "      <td>107500</td>\n",
       "      <td>112500</td>\n",
       "      <td>85000</td>\n",
       "      <td>47500</td>\n",
       "      <td>92500</td>\n",
       "      <td>107500</td>\n",
       "      <td>42500</td>\n",
       "      <td>42500</td>\n",
       "      <td>142500</td>\n",
       "      <td>42500</td>\n",
       "      <td>42500</td>\n",
       "    </tr>\n",
       "  </tbody>\n",
       "</table>\n",
       "</div>"
      ],
      "text/plain": [
       "      AP    AP50    AP75    APs    APm    APl    AR@1  AR@10     AR     ARs  \\\n",
       "0  42500  107500  112500  85000  47500  92500  107500  42500  42500  142500   \n",
       "\n",
       "     ARm    ARl  \n",
       "0  42500  42500  "
      ]
     },
     "execution_count": 15,
     "metadata": {},
     "output_type": "execute_result"
    }
   ],
   "source": [
    "df_train_A_over_ganaug_025_best_iter_per_metric = df_train_A_over_ganaug_025.idxmax().to_frame().T\n",
    "df_train_A_over_ganaug_025_best_iter_per_metric.head(1)"
   ]
  },
  {
   "cell_type": "code",
   "execution_count": 16,
   "metadata": {},
   "outputs": [
    {
     "data": {
      "text/html": [
       "<div>\n",
       "<style scoped>\n",
       "    .dataframe tbody tr th:only-of-type {\n",
       "        vertical-align: middle;\n",
       "    }\n",
       "\n",
       "    .dataframe tbody tr th {\n",
       "        vertical-align: top;\n",
       "    }\n",
       "\n",
       "    .dataframe thead th {\n",
       "        text-align: right;\n",
       "    }\n",
       "</style>\n",
       "<table border=\"1\" class=\"dataframe\">\n",
       "  <thead>\n",
       "    <tr style=\"text-align: right;\">\n",
       "      <th></th>\n",
       "      <th>AP</th>\n",
       "      <th>AP50</th>\n",
       "      <th>AP75</th>\n",
       "      <th>APs</th>\n",
       "      <th>APm</th>\n",
       "      <th>APl</th>\n",
       "      <th>AR@1</th>\n",
       "      <th>AR@10</th>\n",
       "      <th>AR</th>\n",
       "      <th>ARs</th>\n",
       "      <th>ARm</th>\n",
       "      <th>ARl</th>\n",
       "    </tr>\n",
       "  </thead>\n",
       "  <tbody>\n",
       "    <tr>\n",
       "      <th>0</th>\n",
       "      <td>0.215831</td>\n",
       "      <td>0.489154</td>\n",
       "      <td>0.168714</td>\n",
       "      <td>0.111259</td>\n",
       "      <td>0.328403</td>\n",
       "      <td>0.419656</td>\n",
       "      <td>0.08603</td>\n",
       "      <td>0.290929</td>\n",
       "      <td>0.333617</td>\n",
       "      <td>0.238264</td>\n",
       "      <td>0.457375</td>\n",
       "      <td>0.487845</td>\n",
       "    </tr>\n",
       "  </tbody>\n",
       "</table>\n",
       "</div>"
      ],
      "text/plain": [
       "         AP      AP50      AP75       APs       APm       APl     AR@1  \\\n",
       "0  0.215831  0.489154  0.168714  0.111259  0.328403  0.419656  0.08603   \n",
       "\n",
       "      AR@10        AR       ARs       ARm       ARl  \n",
       "0  0.290929  0.333617  0.238264  0.457375  0.487845  "
      ]
     },
     "execution_count": 16,
     "metadata": {},
     "output_type": "execute_result"
    }
   ],
   "source": [
    "df_train_A_over_ganaug_025_best_val_per_metric = df_train_A_over_ganaug_025.max().to_frame().T\n",
    "df_train_A_over_ganaug_025_best_val_per_metric.head(1)"
   ]
  },
  {
   "cell_type": "markdown",
   "metadata": {},
   "source": [
    "### train_A_over_ganaug_050 ###"
   ]
  },
  {
   "cell_type": "code",
   "execution_count": 17,
   "metadata": {},
   "outputs": [
    {
     "data": {
      "text/html": [
       "<div>\n",
       "<style scoped>\n",
       "    .dataframe tbody tr th:only-of-type {\n",
       "        vertical-align: middle;\n",
       "    }\n",
       "\n",
       "    .dataframe tbody tr th {\n",
       "        vertical-align: top;\n",
       "    }\n",
       "\n",
       "    .dataframe thead th {\n",
       "        text-align: right;\n",
       "    }\n",
       "</style>\n",
       "<table border=\"1\" class=\"dataframe\">\n",
       "  <thead>\n",
       "    <tr style=\"text-align: right;\">\n",
       "      <th></th>\n",
       "      <th>AP</th>\n",
       "      <th>AP50</th>\n",
       "      <th>AP75</th>\n",
       "      <th>APs</th>\n",
       "      <th>APm</th>\n",
       "      <th>APl</th>\n",
       "      <th>AR@1</th>\n",
       "      <th>AR@10</th>\n",
       "      <th>AR</th>\n",
       "      <th>ARs</th>\n",
       "      <th>ARm</th>\n",
       "      <th>ARl</th>\n",
       "    </tr>\n",
       "    <tr>\n",
       "      <th>Iteration</th>\n",
       "      <th></th>\n",
       "      <th></th>\n",
       "      <th></th>\n",
       "      <th></th>\n",
       "      <th></th>\n",
       "      <th></th>\n",
       "      <th></th>\n",
       "      <th></th>\n",
       "      <th></th>\n",
       "      <th></th>\n",
       "      <th></th>\n",
       "      <th></th>\n",
       "    </tr>\n",
       "  </thead>\n",
       "  <tbody>\n",
       "    <tr>\n",
       "      <th>2500</th>\n",
       "      <td>0.12388</td>\n",
       "      <td>0.296438</td>\n",
       "      <td>0.091397</td>\n",
       "      <td>0.040939</td>\n",
       "      <td>0.211384</td>\n",
       "      <td>0.256164</td>\n",
       "      <td>0.060091</td>\n",
       "      <td>0.186296</td>\n",
       "      <td>0.221371</td>\n",
       "      <td>0.123028</td>\n",
       "      <td>0.347723</td>\n",
       "      <td>0.355277</td>\n",
       "    </tr>\n",
       "  </tbody>\n",
       "</table>\n",
       "</div>"
      ],
      "text/plain": [
       "                AP      AP50      AP75       APs       APm       APl  \\\n",
       "Iteration                                                              \n",
       "2500       0.12388  0.296438  0.091397  0.040939  0.211384  0.256164   \n",
       "\n",
       "               AR@1     AR@10        AR       ARs       ARm       ARl  \n",
       "Iteration                                                              \n",
       "2500       0.060091  0.186296  0.221371  0.123028  0.347723  0.355277  "
      ]
     },
     "execution_count": 17,
     "metadata": {},
     "output_type": "execute_result"
    }
   ],
   "source": [
    "df_train_A_over_ganaug_050 = logs2df(train_A_over_ganaug_050_logs, train_A_over_ganaug_050_iteration)\n",
    "df_train_A_over_ganaug_050.head(1)"
   ]
  },
  {
   "cell_type": "code",
   "execution_count": 18,
   "metadata": {},
   "outputs": [
    {
     "data": {
      "text/html": [
       "<div>\n",
       "<style scoped>\n",
       "    .dataframe tbody tr th:only-of-type {\n",
       "        vertical-align: middle;\n",
       "    }\n",
       "\n",
       "    .dataframe tbody tr th {\n",
       "        vertical-align: top;\n",
       "    }\n",
       "\n",
       "    .dataframe thead th {\n",
       "        text-align: right;\n",
       "    }\n",
       "</style>\n",
       "<table border=\"1\" class=\"dataframe\">\n",
       "  <thead>\n",
       "    <tr style=\"text-align: right;\">\n",
       "      <th></th>\n",
       "      <th>AP</th>\n",
       "      <th>AP50</th>\n",
       "      <th>AP75</th>\n",
       "      <th>APs</th>\n",
       "      <th>APm</th>\n",
       "      <th>APl</th>\n",
       "      <th>AR@1</th>\n",
       "      <th>AR@10</th>\n",
       "      <th>AR</th>\n",
       "      <th>ARs</th>\n",
       "      <th>ARm</th>\n",
       "      <th>ARl</th>\n",
       "    </tr>\n",
       "  </thead>\n",
       "  <tbody>\n",
       "    <tr>\n",
       "      <th>0</th>\n",
       "      <td>102500</td>\n",
       "      <td>85000</td>\n",
       "      <td>157500</td>\n",
       "      <td>85000</td>\n",
       "      <td>37500</td>\n",
       "      <td>210000</td>\n",
       "      <td>57500</td>\n",
       "      <td>157500</td>\n",
       "      <td>92500</td>\n",
       "      <td>137500</td>\n",
       "      <td>67500</td>\n",
       "      <td>210000</td>\n",
       "    </tr>\n",
       "  </tbody>\n",
       "</table>\n",
       "</div>"
      ],
      "text/plain": [
       "       AP   AP50    AP75    APs    APm     APl   AR@1   AR@10     AR     ARs  \\\n",
       "0  102500  85000  157500  85000  37500  210000  57500  157500  92500  137500   \n",
       "\n",
       "     ARm     ARl  \n",
       "0  67500  210000  "
      ]
     },
     "execution_count": 18,
     "metadata": {},
     "output_type": "execute_result"
    }
   ],
   "source": [
    "df_train_A_over_ganaug_050_best_iter_per_metric = df_train_A_over_ganaug_050.idxmax().to_frame().T\n",
    "df_train_A_over_ganaug_050_best_iter_per_metric.head(1)"
   ]
  },
  {
   "cell_type": "code",
   "execution_count": 19,
   "metadata": {},
   "outputs": [
    {
     "data": {
      "text/html": [
       "<div>\n",
       "<style scoped>\n",
       "    .dataframe tbody tr th:only-of-type {\n",
       "        vertical-align: middle;\n",
       "    }\n",
       "\n",
       "    .dataframe tbody tr th {\n",
       "        vertical-align: top;\n",
       "    }\n",
       "\n",
       "    .dataframe thead th {\n",
       "        text-align: right;\n",
       "    }\n",
       "</style>\n",
       "<table border=\"1\" class=\"dataframe\">\n",
       "  <thead>\n",
       "    <tr style=\"text-align: right;\">\n",
       "      <th></th>\n",
       "      <th>AP</th>\n",
       "      <th>AP50</th>\n",
       "      <th>AP75</th>\n",
       "      <th>APs</th>\n",
       "      <th>APm</th>\n",
       "      <th>APl</th>\n",
       "      <th>AR@1</th>\n",
       "      <th>AR@10</th>\n",
       "      <th>AR</th>\n",
       "      <th>ARs</th>\n",
       "      <th>ARm</th>\n",
       "      <th>ARl</th>\n",
       "    </tr>\n",
       "  </thead>\n",
       "  <tbody>\n",
       "    <tr>\n",
       "      <th>0</th>\n",
       "      <td>0.211829</td>\n",
       "      <td>0.474159</td>\n",
       "      <td>0.169207</td>\n",
       "      <td>0.110385</td>\n",
       "      <td>0.323701</td>\n",
       "      <td>0.451342</td>\n",
       "      <td>0.084436</td>\n",
       "      <td>0.287363</td>\n",
       "      <td>0.327707</td>\n",
       "      <td>0.240698</td>\n",
       "      <td>0.448527</td>\n",
       "      <td>0.501992</td>\n",
       "    </tr>\n",
       "  </tbody>\n",
       "</table>\n",
       "</div>"
      ],
      "text/plain": [
       "         AP      AP50      AP75       APs       APm       APl      AR@1  \\\n",
       "0  0.211829  0.474159  0.169207  0.110385  0.323701  0.451342  0.084436   \n",
       "\n",
       "      AR@10        AR       ARs       ARm       ARl  \n",
       "0  0.287363  0.327707  0.240698  0.448527  0.501992  "
      ]
     },
     "execution_count": 19,
     "metadata": {},
     "output_type": "execute_result"
    }
   ],
   "source": [
    "df_train_A_over_ganaug_050_best_val_per_metric = df_train_A_over_ganaug_050.max().to_frame().T\n",
    "df_train_A_over_ganaug_050_best_val_per_metric.head(1)"
   ]
  },
  {
   "cell_type": "markdown",
   "metadata": {},
   "source": [
    "## Improvements ##"
   ]
  },
  {
   "cell_type": "markdown",
   "metadata": {},
   "source": [
    "### train_A_over --> train_B_over ###"
   ]
  },
  {
   "cell_type": "code",
   "execution_count": 20,
   "metadata": {},
   "outputs": [
    {
     "data": {
      "text/html": [
       "<div>\n",
       "<style scoped>\n",
       "    .dataframe tbody tr th:only-of-type {\n",
       "        vertical-align: middle;\n",
       "    }\n",
       "\n",
       "    .dataframe tbody tr th {\n",
       "        vertical-align: top;\n",
       "    }\n",
       "\n",
       "    .dataframe thead th {\n",
       "        text-align: right;\n",
       "    }\n",
       "</style>\n",
       "<table border=\"1\" class=\"dataframe\">\n",
       "  <thead>\n",
       "    <tr style=\"text-align: right;\">\n",
       "      <th></th>\n",
       "      <th>AP</th>\n",
       "      <th>AP50</th>\n",
       "      <th>AP75</th>\n",
       "      <th>APs</th>\n",
       "      <th>APm</th>\n",
       "      <th>APl</th>\n",
       "      <th>AR@1</th>\n",
       "      <th>AR@10</th>\n",
       "      <th>AR</th>\n",
       "      <th>ARs</th>\n",
       "      <th>ARm</th>\n",
       "      <th>ARl</th>\n",
       "      <th>Comparison</th>\n",
       "    </tr>\n",
       "  </thead>\n",
       "  <tbody>\n",
       "    <tr>\n",
       "      <th>0</th>\n",
       "      <td>0.019684</td>\n",
       "      <td>0.043659</td>\n",
       "      <td>0.020362</td>\n",
       "      <td>0.011178</td>\n",
       "      <td>0.031921</td>\n",
       "      <td>0.024606</td>\n",
       "      <td>0.005475</td>\n",
       "      <td>0.018542</td>\n",
       "      <td>0.019038</td>\n",
       "      <td>0.015069</td>\n",
       "      <td>0.025594</td>\n",
       "      <td>0.017066</td>\n",
       "      <td>A to B</td>\n",
       "    </tr>\n",
       "  </tbody>\n",
       "</table>\n",
       "</div>"
      ],
      "text/plain": [
       "         AP      AP50      AP75       APs       APm       APl      AR@1  \\\n",
       "0  0.019684  0.043659  0.020362  0.011178  0.031921  0.024606  0.005475   \n",
       "\n",
       "      AR@10        AR       ARs       ARm       ARl Comparison  \n",
       "0  0.018542  0.019038  0.015069  0.025594  0.017066     A to B  "
      ]
     },
     "execution_count": 20,
     "metadata": {},
     "output_type": "execute_result"
    }
   ],
   "source": [
    "df_train_A_over_TO_train_B_over = df_train_B_over_best_val_per_metric - df_train_A_over_best_val_per_metric\n",
    "df_train_A_over_TO_train_B_over[\"Comparison\"] = \"A to B\"\n",
    "df_train_A_over_TO_train_B_over.head(1)"
   ]
  },
  {
   "cell_type": "markdown",
   "metadata": {},
   "source": [
    "### train_A_over --> train_C_over ###"
   ]
  },
  {
   "cell_type": "code",
   "execution_count": 21,
   "metadata": {},
   "outputs": [
    {
     "data": {
      "text/html": [
       "<div>\n",
       "<style scoped>\n",
       "    .dataframe tbody tr th:only-of-type {\n",
       "        vertical-align: middle;\n",
       "    }\n",
       "\n",
       "    .dataframe tbody tr th {\n",
       "        vertical-align: top;\n",
       "    }\n",
       "\n",
       "    .dataframe thead th {\n",
       "        text-align: right;\n",
       "    }\n",
       "</style>\n",
       "<table border=\"1\" class=\"dataframe\">\n",
       "  <thead>\n",
       "    <tr style=\"text-align: right;\">\n",
       "      <th></th>\n",
       "      <th>AP</th>\n",
       "      <th>AP50</th>\n",
       "      <th>AP75</th>\n",
       "      <th>APs</th>\n",
       "      <th>APm</th>\n",
       "      <th>APl</th>\n",
       "      <th>AR@1</th>\n",
       "      <th>AR@10</th>\n",
       "      <th>AR</th>\n",
       "      <th>ARs</th>\n",
       "      <th>ARm</th>\n",
       "      <th>ARl</th>\n",
       "      <th>Comparison</th>\n",
       "    </tr>\n",
       "  </thead>\n",
       "  <tbody>\n",
       "    <tr>\n",
       "      <th>0</th>\n",
       "      <td>0.023756</td>\n",
       "      <td>0.052573</td>\n",
       "      <td>0.022321</td>\n",
       "      <td>0.010882</td>\n",
       "      <td>0.038213</td>\n",
       "      <td>0.025531</td>\n",
       "      <td>0.005499</td>\n",
       "      <td>0.023149</td>\n",
       "      <td>0.023978</td>\n",
       "      <td>0.017178</td>\n",
       "      <td>0.028736</td>\n",
       "      <td>0.161382</td>\n",
       "      <td>A to C</td>\n",
       "    </tr>\n",
       "  </tbody>\n",
       "</table>\n",
       "</div>"
      ],
      "text/plain": [
       "         AP      AP50      AP75       APs       APm       APl      AR@1  \\\n",
       "0  0.023756  0.052573  0.022321  0.010882  0.038213  0.025531  0.005499   \n",
       "\n",
       "      AR@10        AR       ARs       ARm       ARl Comparison  \n",
       "0  0.023149  0.023978  0.017178  0.028736  0.161382     A to C  "
      ]
     },
     "execution_count": 21,
     "metadata": {},
     "output_type": "execute_result"
    }
   ],
   "source": [
    "df_train_A_over_TO_train_C_over = df_train_C_over_best_val_per_metric - df_train_A_over_best_val_per_metric\n",
    "df_train_A_over_TO_train_C_over[\"Comparison\"] = \"A to C\"\n",
    "df_train_A_over_TO_train_C_over.head(1)"
   ]
  },
  {
   "cell_type": "markdown",
   "metadata": {},
   "source": [
    "### train_A_over --> train_A_over_ganaug_025 ###"
   ]
  },
  {
   "cell_type": "code",
   "execution_count": 22,
   "metadata": {},
   "outputs": [
    {
     "data": {
      "text/html": [
       "<div>\n",
       "<style scoped>\n",
       "    .dataframe tbody tr th:only-of-type {\n",
       "        vertical-align: middle;\n",
       "    }\n",
       "\n",
       "    .dataframe tbody tr th {\n",
       "        vertical-align: top;\n",
       "    }\n",
       "\n",
       "    .dataframe thead th {\n",
       "        text-align: right;\n",
       "    }\n",
       "</style>\n",
       "<table border=\"1\" class=\"dataframe\">\n",
       "  <thead>\n",
       "    <tr style=\"text-align: right;\">\n",
       "      <th></th>\n",
       "      <th>AP</th>\n",
       "      <th>AP50</th>\n",
       "      <th>AP75</th>\n",
       "      <th>APs</th>\n",
       "      <th>APm</th>\n",
       "      <th>APl</th>\n",
       "      <th>AR@1</th>\n",
       "      <th>AR@10</th>\n",
       "      <th>AR</th>\n",
       "      <th>ARs</th>\n",
       "      <th>ARm</th>\n",
       "      <th>ARl</th>\n",
       "      <th>Comparison</th>\n",
       "    </tr>\n",
       "  </thead>\n",
       "  <tbody>\n",
       "    <tr>\n",
       "      <th>0</th>\n",
       "      <td>-0.013864</td>\n",
       "      <td>-0.039895</td>\n",
       "      <td>-0.001008</td>\n",
       "      <td>-0.018294</td>\n",
       "      <td>-0.00055</td>\n",
       "      <td>0.002099</td>\n",
       "      <td>-0.004121</td>\n",
       "      <td>-0.013613</td>\n",
       "      <td>-0.007555</td>\n",
       "      <td>-0.014495</td>\n",
       "      <td>0.001433</td>\n",
       "      <td>0.016485</td>\n",
       "      <td>A to A25</td>\n",
       "    </tr>\n",
       "  </tbody>\n",
       "</table>\n",
       "</div>"
      ],
      "text/plain": [
       "         AP      AP50      AP75       APs      APm       APl      AR@1  \\\n",
       "0 -0.013864 -0.039895 -0.001008 -0.018294 -0.00055  0.002099 -0.004121   \n",
       "\n",
       "      AR@10        AR       ARs       ARm       ARl Comparison  \n",
       "0 -0.013613 -0.007555 -0.014495  0.001433  0.016485   A to A25  "
      ]
     },
     "execution_count": 22,
     "metadata": {},
     "output_type": "execute_result"
    }
   ],
   "source": [
    "df_train_A_over_TO_train_A_over_ganaug_025 = df_train_A_over_ganaug_025_best_val_per_metric - df_train_A_over_best_val_per_metric\n",
    "df_train_A_over_TO_train_A_over_ganaug_025[\"Comparison\"] = \"A to A25\"\n",
    "df_train_A_over_TO_train_A_over_ganaug_025.head(1)"
   ]
  },
  {
   "cell_type": "markdown",
   "metadata": {},
   "source": [
    "### train_A_over --> train_A_over_ganaug_050 ###"
   ]
  },
  {
   "cell_type": "code",
   "execution_count": 23,
   "metadata": {},
   "outputs": [
    {
     "data": {
      "text/html": [
       "<div>\n",
       "<style scoped>\n",
       "    .dataframe tbody tr th:only-of-type {\n",
       "        vertical-align: middle;\n",
       "    }\n",
       "\n",
       "    .dataframe tbody tr th {\n",
       "        vertical-align: top;\n",
       "    }\n",
       "\n",
       "    .dataframe thead th {\n",
       "        text-align: right;\n",
       "    }\n",
       "</style>\n",
       "<table border=\"1\" class=\"dataframe\">\n",
       "  <thead>\n",
       "    <tr style=\"text-align: right;\">\n",
       "      <th></th>\n",
       "      <th>AP</th>\n",
       "      <th>AP50</th>\n",
       "      <th>AP75</th>\n",
       "      <th>APs</th>\n",
       "      <th>APm</th>\n",
       "      <th>APl</th>\n",
       "      <th>AR@1</th>\n",
       "      <th>AR@10</th>\n",
       "      <th>AR</th>\n",
       "      <th>ARs</th>\n",
       "      <th>ARm</th>\n",
       "      <th>ARl</th>\n",
       "      <th>Comparison</th>\n",
       "    </tr>\n",
       "  </thead>\n",
       "  <tbody>\n",
       "    <tr>\n",
       "      <th>0</th>\n",
       "      <td>-0.017866</td>\n",
       "      <td>-0.05489</td>\n",
       "      <td>-0.000515</td>\n",
       "      <td>-0.019168</td>\n",
       "      <td>-0.005252</td>\n",
       "      <td>0.033784</td>\n",
       "      <td>-0.005715</td>\n",
       "      <td>-0.017179</td>\n",
       "      <td>-0.013465</td>\n",
       "      <td>-0.012061</td>\n",
       "      <td>-0.007415</td>\n",
       "      <td>0.030633</td>\n",
       "      <td>A to A50</td>\n",
       "    </tr>\n",
       "  </tbody>\n",
       "</table>\n",
       "</div>"
      ],
      "text/plain": [
       "         AP     AP50      AP75       APs       APm       APl      AR@1  \\\n",
       "0 -0.017866 -0.05489 -0.000515 -0.019168 -0.005252  0.033784 -0.005715   \n",
       "\n",
       "      AR@10        AR       ARs       ARm       ARl Comparison  \n",
       "0 -0.017179 -0.013465 -0.012061 -0.007415  0.030633   A to A50  "
      ]
     },
     "execution_count": 23,
     "metadata": {},
     "output_type": "execute_result"
    }
   ],
   "source": [
    "df_train_A_over_TO_train_A_over_ganaug_050 = df_train_A_over_ganaug_050_best_val_per_metric - df_train_A_over_best_val_per_metric\n",
    "df_train_A_over_TO_train_A_over_ganaug_050[\"Comparison\"] = \"A to A50\"\n",
    "df_train_A_over_TO_train_A_over_ganaug_050.head(1)"
   ]
  },
  {
   "cell_type": "markdown",
   "metadata": {},
   "source": [
    "## Combine ##"
   ]
  },
  {
   "cell_type": "code",
   "execution_count": 24,
   "metadata": {},
   "outputs": [],
   "source": [
    "df_combined = pd.concat([df_train_A_over_TO_train_B_over, df_train_A_over_TO_train_C_over, df_train_A_over_TO_train_A_over_ganaug_025, df_train_A_over_TO_train_A_over_ganaug_050], axis = 0)"
   ]
  },
  {
   "cell_type": "code",
   "execution_count": 25,
   "metadata": {},
   "outputs": [
    {
     "data": {
      "text/html": [
       "<div>\n",
       "<style scoped>\n",
       "    .dataframe tbody tr th:only-of-type {\n",
       "        vertical-align: middle;\n",
       "    }\n",
       "\n",
       "    .dataframe tbody tr th {\n",
       "        vertical-align: top;\n",
       "    }\n",
       "\n",
       "    .dataframe thead th {\n",
       "        text-align: right;\n",
       "    }\n",
       "</style>\n",
       "<table border=\"1\" class=\"dataframe\">\n",
       "  <thead>\n",
       "    <tr style=\"text-align: right;\">\n",
       "      <th></th>\n",
       "      <th>AP</th>\n",
       "      <th>AP50</th>\n",
       "      <th>AP75</th>\n",
       "      <th>APs</th>\n",
       "      <th>APm</th>\n",
       "      <th>APl</th>\n",
       "      <th>AR@1</th>\n",
       "      <th>AR@10</th>\n",
       "      <th>AR</th>\n",
       "      <th>ARs</th>\n",
       "      <th>ARm</th>\n",
       "      <th>ARl</th>\n",
       "    </tr>\n",
       "    <tr>\n",
       "      <th>Comparison</th>\n",
       "      <th></th>\n",
       "      <th></th>\n",
       "      <th></th>\n",
       "      <th></th>\n",
       "      <th></th>\n",
       "      <th></th>\n",
       "      <th></th>\n",
       "      <th></th>\n",
       "      <th></th>\n",
       "      <th></th>\n",
       "      <th></th>\n",
       "      <th></th>\n",
       "    </tr>\n",
       "  </thead>\n",
       "  <tbody>\n",
       "    <tr>\n",
       "      <th>A to B</th>\n",
       "      <td>0.019684</td>\n",
       "      <td>0.043659</td>\n",
       "      <td>0.020362</td>\n",
       "      <td>0.011178</td>\n",
       "      <td>0.031921</td>\n",
       "      <td>0.024606</td>\n",
       "      <td>0.005475</td>\n",
       "      <td>0.018542</td>\n",
       "      <td>0.019038</td>\n",
       "      <td>0.015069</td>\n",
       "      <td>0.025594</td>\n",
       "      <td>0.017066</td>\n",
       "    </tr>\n",
       "  </tbody>\n",
       "</table>\n",
       "</div>"
      ],
      "text/plain": [
       "                  AP      AP50      AP75       APs       APm       APl  \\\n",
       "Comparison                                                               \n",
       "A to B      0.019684  0.043659  0.020362  0.011178  0.031921  0.024606   \n",
       "\n",
       "                AR@1     AR@10        AR       ARs       ARm       ARl  \n",
       "Comparison                                                              \n",
       "A to B      0.005475  0.018542  0.019038  0.015069  0.025594  0.017066  "
      ]
     },
     "execution_count": 25,
     "metadata": {},
     "output_type": "execute_result"
    }
   ],
   "source": [
    "df_combined = df_combined.set_index(\"Comparison\")\n",
    "df_combined.head(1)"
   ]
  },
  {
   "cell_type": "code",
   "execution_count": 26,
   "metadata": {},
   "outputs": [
    {
     "data": {
      "text/plain": [
       "Text(0, 0.5, 'Absolute change in score')"
      ]
     },
     "execution_count": 26,
     "metadata": {},
     "output_type": "execute_result"
    },
    {
     "data": {
      "image/png": "[encoded data removed]",
      "text/plain": [
       "<Figure size 1152x648 with 1 Axes>"
      ]
     },
     "metadata": {
      "needs_background": "light"
     },
     "output_type": "display_data"
    }
   ],
   "source": [
    "ax = df_combined.plot(kind = \"bar\", figsize = (16, 9))\n",
    "ax.set_xlabel(\"\")\n",
    "ax.set_ylabel(\"Absolute change in score\")"
   ]
  },
  {
   "cell_type": "code",
   "execution_count": 27,
   "metadata": {},
   "outputs": [
    {
     "data": {
      "text/html": [
       "<script type=\"text/javascript\">window.PlotlyConfig = {MathJaxConfig: 'local'};</script><script type=\"text/javascript\">if (window.MathJax) {MathJax.Hub.Config({SVG: {font: \"STIX-Web\"}});}</script><script>requirejs.config({paths: { 'plotly': ['https://cdn.plot.ly/plotly-latest.min']},});if(!window._Plotly) {require(['plotly'],function(plotly) {window._Plotly=plotly;});}</script>"
      ],
      "text/vnd.plotly.v1+html": [
       "<script type=\"text/javascript\">window.PlotlyConfig = {MathJaxConfig: 'local'};</script><script type=\"text/javascript\">if (window.MathJax) {MathJax.Hub.Config({SVG: {font: \"STIX-Web\"}});}</script><script>requirejs.config({paths: { 'plotly': ['https://cdn.plot.ly/plotly-latest.min']},});if(!window._Plotly) {require(['plotly'],function(plotly) {window._Plotly=plotly;});}</script>"
      ]
     },
     "metadata": {},
     "output_type": "display_data"
    },
    {
     "data": {
      "application/vnd.plotly.v1+json": {
       "config": {
        "displaylogo": false,
        "linkText": "Export to plot.ly",
        "modeBarButtonsToRemove": [
         "sendDataToCloud"
        ],
        "plotlyServerURL": "https://plot.ly",
        "showLink": false
       },
       "data": [
        {
         "marker": {
          "color": "rgba(255, 153, 51, 0.6)",
          "line": {
           "color": "rgba(255, 153, 51, 1.0)",
           "width": 1
          }
         },
         "name": "AP",
         "orientation": "v",
         "text": "",
         "type": "bar",
         "uid": "3382813d-3452-4c9b-875d-e7656272e7c2",
         "x": [
          "A to B",
          "A to C",
          "A to A25",
          "A to A50"
         ],
         "y": [
          0.01968409257929754,
          0.023756377055759864,
          -0.013863852401077625,
          -0.017865524654154863
         ]
        },
        {
         "marker": {
          "color": "rgba(55, 128, 191, 0.6)",
          "line": {
           "color": "rgba(55, 128, 191, 1.0)",
           "width": 1
          }
         },
         "name": "AP50",
         "orientation": "v",
         "text": "",
         "type": "bar",
         "uid": "ce47eb3e-21be-4beb-a928-b3989927c9f2",
         "x": [
          "A to B",
          "A to C",
          "A to A25",
          "A to A50"
         ],
         "y": [
          0.043659342551667035,
          0.05257255051705678,
          -0.039894517528887785,
          -0.05488965817853708
         ]
        },
        {
         "marker": {
          "color": "rgba(50, 171, 96, 0.6)",
          "line": {
           "color": "rgba(50, 171, 96, 1.0)",
           "width": 1
          }
         },
         "name": "AP75",
         "orientation": "v",
         "text": "",
         "type": "bar",
         "uid": "e3872b0f-e3d7-4417-98f2-b6814d93b04c",
         "x": [
          "A to B",
          "A to C",
          "A to A25",
          "A to A50"
         ],
         "y": [
          0.020362160618996622,
          0.022321072704755723,
          -0.0010076912445480812,
          -0.0005147160732406064
         ]
        },
        {
         "marker": {
          "color": "rgba(128, 0, 128, 0.6)",
          "line": {
           "color": "rgba(128, 0, 128, 1.0)",
           "width": 1
          }
         },
         "name": "APs",
         "orientation": "v",
         "text": "",
         "type": "bar",
         "uid": "f7704a87-cc44-4c87-a2a9-9d0d45c56fd9",
         "x": [
          "A to B",
          "A to C",
          "A to A25",
          "A to A50"
         ],
         "y": [
          0.011178312738323148,
          0.010882075980071682,
          -0.018294167030111358,
          -0.019167976699991263
         ]
        },
        {
         "marker": {
          "color": "rgba(219, 64, 82, 0.6)",
          "line": {
           "color": "rgba(219, 64, 82, 1.0)",
           "width": 1
          }
         },
         "name": "APm",
         "orientation": "v",
         "text": "",
         "type": "bar",
         "uid": "f6527e39-f38e-460f-aeba-716ad9fa3dee",
         "x": [
          "A to B",
          "A to C",
          "A to A25",
          "A to A50"
         ],
         "y": [
          0.031921012395465465,
          0.038212798502207546,
          -0.0005497862122991193,
          -0.005251839866191654
         ]
        },
        {
         "marker": {
          "color": "rgba(0, 128, 128, 0.6)",
          "line": {
           "color": "rgba(0, 128, 128, 1.0)",
           "width": 1
          }
         },
         "name": "APl",
         "orientation": "v",
         "text": "",
         "type": "bar",
         "uid": "757ab0fd-f235-494e-8549-793cc9b7c230",
         "x": [
          "A to B",
          "A to C",
          "A to A25",
          "A to A50"
         ],
         "y": [
          0.024606425670368748,
          0.02553147178355203,
          0.0020987387399222235,
          0.03378409536245752
         ]
        },
        {
         "marker": {
          "color": "rgba(255, 255, 51, 0.6)",
          "line": {
           "color": "rgba(255, 255, 51, 1.0)",
           "width": 1
          }
         },
         "name": "AR@1",
         "orientation": "v",
         "text": "",
         "type": "bar",
         "uid": "78036268-34f8-4a43-bbb9-0611f63f7059",
         "x": [
          "A to B",
          "A to C",
          "A to A25",
          "A to A50"
         ],
         "y": [
          0.0054754019595788656,
          0.005499054055269265,
          -0.004120786021478015,
          -0.005714920880333235
         ]
        },
        {
         "marker": {
          "color": "rgba(128, 128, 0, 0.6)",
          "line": {
           "color": "rgba(128, 128, 0, 1.0)",
           "width": 1
          }
         },
         "name": "AR@10",
         "orientation": "v",
         "text": "",
         "type": "bar",
         "uid": "95e9276b-07ed-43d7-b210-c8fb7182357c",
         "x": [
          "A to B",
          "A to C",
          "A to A25",
          "A to A50"
         ],
         "y": [
          0.018542309410198854,
          0.023149192668601992,
          -0.013612982335118429,
          -0.017179408320360412
         ]
        },
        {
         "marker": {
          "color": "rgba(251, 128, 114, 0.6)",
          "line": {
           "color": "rgba(251, 128, 114, 1.0)",
           "width": 1
          }
         },
         "name": "AR",
         "orientation": "v",
         "text": "",
         "type": "bar",
         "uid": "d7c2c328-36a3-49a4-be49-f7a203e3c1dd",
         "x": [
          "A to B",
          "A to C",
          "A to A25",
          "A to A50"
         ],
         "y": [
          0.01903753633635119,
          0.023978291322600598,
          -0.007555174957999233,
          -0.013465114543691314
         ]
        },
        {
         "marker": {
          "color": "rgba(128, 177, 211, 0.6)",
          "line": {
           "color": "rgba(128, 177, 211, 1.0)",
           "width": 1
          }
         },
         "name": "ARs",
         "orientation": "v",
         "text": "",
         "type": "bar",
         "uid": "105e9cb8-fdc2-4fa9-8cd1-a5fca7e9b633",
         "x": [
          "A to B",
          "A to C",
          "A to A25",
          "A to A50"
         ],
         "y": [
          0.015068601000671866,
          0.017177987390786353,
          -0.014495106414698478,
          -0.012061171440250262
         ]
        },
        {
         "marker": {
          "color": "rgba(128, 177, 211, 0.6)",
          "line": {
           "color": "rgba(128, 177, 211, 0.8999999999999999)",
           "width": 1
          }
         },
         "name": "ARm",
         "orientation": "v",
         "text": "",
         "type": "bar",
         "uid": "d9ea7903-3c4b-4125-bea8-3d3c9267a270",
         "x": [
          "A to B",
          "A to C",
          "A to A25",
          "A to A50"
         ],
         "y": [
          0.025594152931364467,
          0.02873582398450475,
          0.0014329903285444923,
          -0.00741510983767707
         ]
        },
        {
         "marker": {
          "color": "rgba(255, 153, 51, 0.6)",
          "line": {
           "color": "rgba(255, 153, 51, 0.8999999999999999)",
           "width": 1
          }
         },
         "name": "ARl",
         "orientation": "v",
         "text": "",
         "type": "bar",
         "uid": "ea37f220-a6a1-4519-b1f0-1037cc4e398c",
         "x": [
          "A to B",
          "A to C",
          "A to A25",
          "A to A50"
         ],
         "y": [
          0.017066394057919543,
          0.1613822547508989,
          0.016484779344948908,
          0.030632728853067837
         ]
        }
       ],
       "layout": {
        "height": 540,
        "title": {
         "text": "Impact of GAN-based augmentation"
        },
        "width": 960,
        "yaxis": {
         "title": {
          "text": "Absolute change in score"
         }
        }
       }
      },
      "text/html": [
       "<div id=\"a2c8294e-44f2-40f7-aacb-2d454489b896\" style=\"height: 540px; width: 960px;\" class=\"plotly-graph-div\"></div><script type=\"text/javascript\">require([\"plotly\"], function(Plotly) { window.PLOTLYENV=window.PLOTLYENV || {};window.PLOTLYENV.BASE_URL=\"https://plot.ly\";\n",
       "if (document.getElementById(\"a2c8294e-44f2-40f7-aacb-2d454489b896\")) {\n",
       "    Plotly.newPlot(\"a2c8294e-44f2-40f7-aacb-2d454489b896\", [{\"marker\": {\"color\": \"rgba(255, 153, 51, 0.6)\", \"line\": {\"color\": \"rgba(255, 153, 51, 1.0)\", \"width\": 1}}, \"name\": \"AP\", \"orientation\": \"v\", \"text\": \"\", \"x\": [\"A to B\", \"A to C\", \"A to A25\", \"A to A50\"], \"y\": [0.01968409257929754, 0.023756377055759864, -0.013863852401077625, -0.017865524654154863], \"type\": \"bar\", \"uid\": \"3382813d-3452-4c9b-875d-e7656272e7c2\"}, {\"marker\": {\"color\": \"rgba(55, 128, 191, 0.6)\", \"line\": {\"color\": \"rgba(55, 128, 191, 1.0)\", \"width\": 1}}, \"name\": \"AP50\", \"orientation\": \"v\", \"text\": \"\", \"x\": [\"A to B\", \"A to C\", \"A to A25\", \"A to A50\"], \"y\": [0.043659342551667035, 0.05257255051705678, -0.039894517528887785, -0.05488965817853708], \"type\": \"bar\", \"uid\": \"ce47eb3e-21be-4beb-a928-b3989927c9f2\"}, {\"marker\": {\"color\": \"rgba(50, 171, 96, 0.6)\", \"line\": {\"color\": \"rgba(50, 171, 96, 1.0)\", \"width\": 1}}, \"name\": \"AP75\", \"orientation\": \"v\", \"text\": \"\", \"x\": [\"A to B\", \"A to C\", \"A to A25\", \"A to A50\"], \"y\": [0.020362160618996622, 0.022321072704755723, -0.0010076912445480812, -0.0005147160732406064], \"type\": \"bar\", \"uid\": \"e3872b0f-e3d7-4417-98f2-b6814d93b04c\"}, {\"marker\": {\"color\": \"rgba(128, 0, 128, 0.6)\", \"line\": {\"color\": \"rgba(128, 0, 128, 1.0)\", \"width\": 1}}, \"name\": \"APs\", \"orientation\": \"v\", \"text\": \"\", \"x\": [\"A to B\", \"A to C\", \"A to A25\", \"A to A50\"], \"y\": [0.011178312738323148, 0.010882075980071682, -0.018294167030111358, -0.019167976699991263], \"type\": \"bar\", \"uid\": \"f7704a87-cc44-4c87-a2a9-9d0d45c56fd9\"}, {\"marker\": {\"color\": \"rgba(219, 64, 82, 0.6)\", \"line\": {\"color\": \"rgba(219, 64, 82, 1.0)\", \"width\": 1}}, \"name\": \"APm\", \"orientation\": \"v\", \"text\": \"\", \"x\": [\"A to B\", \"A to C\", \"A to A25\", \"A to A50\"], \"y\": [0.031921012395465465, 0.038212798502207546, -0.0005497862122991193, -0.005251839866191654], \"type\": \"bar\", \"uid\": \"f6527e39-f38e-460f-aeba-716ad9fa3dee\"}, {\"marker\": {\"color\": \"rgba(0, 128, 128, 0.6)\", \"line\": {\"color\": \"rgba(0, 128, 128, 1.0)\", \"width\": 1}}, \"name\": \"APl\", \"orientation\": \"v\", \"text\": \"\", \"x\": [\"A to B\", \"A to C\", \"A to A25\", \"A to A50\"], \"y\": [0.024606425670368748, 0.02553147178355203, 0.0020987387399222235, 0.03378409536245752], \"type\": \"bar\", \"uid\": \"757ab0fd-f235-494e-8549-793cc9b7c230\"}, {\"marker\": {\"color\": \"rgba(255, 255, 51, 0.6)\", \"line\": {\"color\": \"rgba(255, 255, 51, 1.0)\", \"width\": 1}}, \"name\": \"AR@1\", \"orientation\": \"v\", \"text\": \"\", \"x\": [\"A to B\", \"A to C\", \"A to A25\", \"A to A50\"], \"y\": [0.0054754019595788656, 0.005499054055269265, -0.004120786021478015, -0.005714920880333235], \"type\": \"bar\", \"uid\": \"78036268-34f8-4a43-bbb9-0611f63f7059\"}, {\"marker\": {\"color\": \"rgba(128, 128, 0, 0.6)\", \"line\": {\"color\": \"rgba(128, 128, 0, 1.0)\", \"width\": 1}}, \"name\": \"AR@10\", \"orientation\": \"v\", \"text\": \"\", \"x\": [\"A to B\", \"A to C\", \"A to A25\", \"A to A50\"], \"y\": [0.018542309410198854, 0.023149192668601992, -0.013612982335118429, -0.017179408320360412], \"type\": \"bar\", \"uid\": \"95e9276b-07ed-43d7-b210-c8fb7182357c\"}, {\"marker\": {\"color\": \"rgba(251, 128, 114, 0.6)\", \"line\": {\"color\": \"rgba(251, 128, 114, 1.0)\", \"width\": 1}}, \"name\": \"AR\", \"orientation\": \"v\", \"text\": \"\", \"x\": [\"A to B\", \"A to C\", \"A to A25\", \"A to A50\"], \"y\": [0.01903753633635119, 0.023978291322600598, -0.007555174957999233, -0.013465114543691314], \"type\": \"bar\", \"uid\": \"d7c2c328-36a3-49a4-be49-f7a203e3c1dd\"}, {\"marker\": {\"color\": \"rgba(128, 177, 211, 0.6)\", \"line\": {\"color\": \"rgba(128, 177, 211, 1.0)\", \"width\": 1}}, \"name\": \"ARs\", \"orientation\": \"v\", \"text\": \"\", \"x\": [\"A to B\", \"A to C\", \"A to A25\", \"A to A50\"], \"y\": [0.015068601000671866, 0.017177987390786353, -0.014495106414698478, -0.012061171440250262], \"type\": \"bar\", \"uid\": \"105e9cb8-fdc2-4fa9-8cd1-a5fca7e9b633\"}, {\"marker\": {\"color\": \"rgba(128, 177, 211, 0.6)\", \"line\": {\"color\": \"rgba(128, 177, 211, 0.8999999999999999)\", \"width\": 1}}, \"name\": \"ARm\", \"orientation\": \"v\", \"text\": \"\", \"x\": [\"A to B\", \"A to C\", \"A to A25\", \"A to A50\"], \"y\": [0.025594152931364467, 0.02873582398450475, 0.0014329903285444923, -0.00741510983767707], \"type\": \"bar\", \"uid\": \"d9ea7903-3c4b-4125-bea8-3d3c9267a270\"}, {\"marker\": {\"color\": \"rgba(255, 153, 51, 0.6)\", \"line\": {\"color\": \"rgba(255, 153, 51, 0.8999999999999999)\", \"width\": 1}}, \"name\": \"ARl\", \"orientation\": \"v\", \"text\": \"\", \"x\": [\"A to B\", \"A to C\", \"A to A25\", \"A to A50\"], \"y\": [0.017066394057919543, 0.1613822547508989, 0.016484779344948908, 0.030632728853067837], \"type\": \"bar\", \"uid\": \"ea37f220-a6a1-4519-b1f0-1037cc4e398c\"}], {\"height\": 540, \"title\": {\"text\": \"Impact of GAN-based augmentation\"}, \"width\": 960, \"yaxis\": {\"title\": {\"text\": \"Absolute change in score\"}}}, {\"modeBarButtonsToRemove\": [\"sendDataToCloud\"], \"displaylogo\": false, \"showLink\": false, \"linkText\": \"Export to plot.ly\", \"plotlyServerURL\": \"https://plot.ly\"}); \n",
       "}\n",
       "});</script>"
      ],
      "text/vnd.plotly.v1+html": [
       "<div id=\"a2c8294e-44f2-40f7-aacb-2d454489b896\" style=\"height: 540px; width: 960px;\" class=\"plotly-graph-div\"></div><script type=\"text/javascript\">require([\"plotly\"], function(Plotly) { window.PLOTLYENV=window.PLOTLYENV || {};window.PLOTLYENV.BASE_URL=\"https://plot.ly\";\n",
       "if (document.getElementById(\"a2c8294e-44f2-40f7-aacb-2d454489b896\")) {\n",
       "    Plotly.newPlot(\"a2c8294e-44f2-40f7-aacb-2d454489b896\", [{\"marker\": {\"color\": \"rgba(255, 153, 51, 0.6)\", \"line\": {\"color\": \"rgba(255, 153, 51, 1.0)\", \"width\": 1}}, \"name\": \"AP\", \"orientation\": \"v\", \"text\": \"\", \"x\": [\"A to B\", \"A to C\", \"A to A25\", \"A to A50\"], \"y\": [0.01968409257929754, 0.023756377055759864, -0.013863852401077625, -0.017865524654154863], \"type\": \"bar\", \"uid\": \"3382813d-3452-4c9b-875d-e7656272e7c2\"}, {\"marker\": {\"color\": \"rgba(55, 128, 191, 0.6)\", \"line\": {\"color\": \"rgba(55, 128, 191, 1.0)\", \"width\": 1}}, \"name\": \"AP50\", \"orientation\": \"v\", \"text\": \"\", \"x\": [\"A to B\", \"A to C\", \"A to A25\", \"A to A50\"], \"y\": [0.043659342551667035, 0.05257255051705678, -0.039894517528887785, -0.05488965817853708], \"type\": \"bar\", \"uid\": \"ce47eb3e-21be-4beb-a928-b3989927c9f2\"}, {\"marker\": {\"color\": \"rgba(50, 171, 96, 0.6)\", \"line\": {\"color\": \"rgba(50, 171, 96, 1.0)\", \"width\": 1}}, \"name\": \"AP75\", \"orientation\": \"v\", \"text\": \"\", \"x\": [\"A to B\", \"A to C\", \"A to A25\", \"A to A50\"], \"y\": [0.020362160618996622, 0.022321072704755723, -0.0010076912445480812, -0.0005147160732406064], \"type\": \"bar\", \"uid\": \"e3872b0f-e3d7-4417-98f2-b6814d93b04c\"}, {\"marker\": {\"color\": \"rgba(128, 0, 128, 0.6)\", \"line\": {\"color\": \"rgba(128, 0, 128, 1.0)\", \"width\": 1}}, \"name\": \"APs\", \"orientation\": \"v\", \"text\": \"\", \"x\": [\"A to B\", \"A to C\", \"A to A25\", \"A to A50\"], \"y\": [0.011178312738323148, 0.010882075980071682, -0.018294167030111358, -0.019167976699991263], \"type\": \"bar\", \"uid\": \"f7704a87-cc44-4c87-a2a9-9d0d45c56fd9\"}, {\"marker\": {\"color\": \"rgba(219, 64, 82, 0.6)\", \"line\": {\"color\": \"rgba(219, 64, 82, 1.0)\", \"width\": 1}}, \"name\": \"APm\", \"orientation\": \"v\", \"text\": \"\", \"x\": [\"A to B\", \"A to C\", \"A to A25\", \"A to A50\"], \"y\": [0.031921012395465465, 0.038212798502207546, -0.0005497862122991193, -0.005251839866191654], \"type\": \"bar\", \"uid\": \"f6527e39-f38e-460f-aeba-716ad9fa3dee\"}, {\"marker\": {\"color\": \"rgba(0, 128, 128, 0.6)\", \"line\": {\"color\": \"rgba(0, 128, 128, 1.0)\", \"width\": 1}}, \"name\": \"APl\", \"orientation\": \"v\", \"text\": \"\", \"x\": [\"A to B\", \"A to C\", \"A to A25\", \"A to A50\"], \"y\": [0.024606425670368748, 0.02553147178355203, 0.0020987387399222235, 0.03378409536245752], \"type\": \"bar\", \"uid\": \"757ab0fd-f235-494e-8549-793cc9b7c230\"}, {\"marker\": {\"color\": \"rgba(255, 255, 51, 0.6)\", \"line\": {\"color\": \"rgba(255, 255, 51, 1.0)\", \"width\": 1}}, \"name\": \"AR@1\", \"orientation\": \"v\", \"text\": \"\", \"x\": [\"A to B\", \"A to C\", \"A to A25\", \"A to A50\"], \"y\": [0.0054754019595788656, 0.005499054055269265, -0.004120786021478015, -0.005714920880333235], \"type\": \"bar\", \"uid\": \"78036268-34f8-4a43-bbb9-0611f63f7059\"}, {\"marker\": {\"color\": \"rgba(128, 128, 0, 0.6)\", \"line\": {\"color\": \"rgba(128, 128, 0, 1.0)\", \"width\": 1}}, \"name\": \"AR@10\", \"orientation\": \"v\", \"text\": \"\", \"x\": [\"A to B\", \"A to C\", \"A to A25\", \"A to A50\"], \"y\": [0.018542309410198854, 0.023149192668601992, -0.013612982335118429, -0.017179408320360412], \"type\": \"bar\", \"uid\": \"95e9276b-07ed-43d7-b210-c8fb7182357c\"}, {\"marker\": {\"color\": \"rgba(251, 128, 114, 0.6)\", \"line\": {\"color\": \"rgba(251, 128, 114, 1.0)\", \"width\": 1}}, \"name\": \"AR\", \"orientation\": \"v\", \"text\": \"\", \"x\": [\"A to B\", \"A to C\", \"A to A25\", \"A to A50\"], \"y\": [0.01903753633635119, 0.023978291322600598, -0.007555174957999233, -0.013465114543691314], \"type\": \"bar\", \"uid\": \"d7c2c328-36a3-49a4-be49-f7a203e3c1dd\"}, {\"marker\": {\"color\": \"rgba(128, 177, 211, 0.6)\", \"line\": {\"color\": \"rgba(128, 177, 211, 1.0)\", \"width\": 1}}, \"name\": \"ARs\", \"orientation\": \"v\", \"text\": \"\", \"x\": [\"A to B\", \"A to C\", \"A to A25\", \"A to A50\"], \"y\": [0.015068601000671866, 0.017177987390786353, -0.014495106414698478, -0.012061171440250262], \"type\": \"bar\", \"uid\": \"105e9cb8-fdc2-4fa9-8cd1-a5fca7e9b633\"}, {\"marker\": {\"color\": \"rgba(128, 177, 211, 0.6)\", \"line\": {\"color\": \"rgba(128, 177, 211, 0.8999999999999999)\", \"width\": 1}}, \"name\": \"ARm\", \"orientation\": \"v\", \"text\": \"\", \"x\": [\"A to B\", \"A to C\", \"A to A25\", \"A to A50\"], \"y\": [0.025594152931364467, 0.02873582398450475, 0.0014329903285444923, -0.00741510983767707], \"type\": \"bar\", \"uid\": \"d9ea7903-3c4b-4125-bea8-3d3c9267a270\"}, {\"marker\": {\"color\": \"rgba(255, 153, 51, 0.6)\", \"line\": {\"color\": \"rgba(255, 153, 51, 0.8999999999999999)\", \"width\": 1}}, \"name\": \"ARl\", \"orientation\": \"v\", \"text\": \"\", \"x\": [\"A to B\", \"A to C\", \"A to A25\", \"A to A50\"], \"y\": [0.017066394057919543, 0.1613822547508989, 0.016484779344948908, 0.030632728853067837], \"type\": \"bar\", \"uid\": \"ea37f220-a6a1-4519-b1f0-1037cc4e398c\"}], {\"height\": 540, \"title\": {\"text\": \"Impact of GAN-based augmentation\"}, \"width\": 960, \"yaxis\": {\"title\": {\"text\": \"Absolute change in score\"}}}, {\"modeBarButtonsToRemove\": [\"sendDataToCloud\"], \"displaylogo\": false, \"showLink\": false, \"linkText\": \"Export to plot.ly\", \"plotlyServerURL\": \"https://plot.ly\"}); \n",
       "}\n",
       "});</script>"
      ]
     },
     "metadata": {},
     "output_type": "display_data"
    }
   ],
   "source": [
    "cf.go_offline(connected = True)\n",
    "config = {\n",
    "    \"modeBarButtonsToRemove\": [\"sendDataToCloud\"],\n",
    "    \"displaylogo\": False\n",
    "}\n",
    "layout = {\n",
    "    \"title\": \"Impact of GAN-based augmentation\",\n",
    "    \"yaxis\": {\n",
    "        \"title\": \"Absolute change in score\"\n",
    "    },\n",
    "    \"width\": 960,\n",
    "    \"height\": 540\n",
    "}\n",
    "fig = df_combined.iplot(kind = \"bar\", y = [\"AP\", \"AP50\", \"AP75\", \"APs\", \"APm\", \"APl\", \"AR@1\", \"AR@10\", \"AR\", \"ARs\", \"ARm\", \"ARl\"], layout = layout, asFigure = True)\n",
    "py.offline.iplot(fig, show_link = False, config = config)"
   ]
  },
  {
   "cell_type": "code",
   "execution_count": 28,
   "metadata": {},
   "outputs": [],
   "source": [
    "df_combined = df_combined * 100"
   ]
  },
  {
   "cell_type": "code",
   "execution_count": 29,
   "metadata": {},
   "outputs": [
    {
     "data": {
      "text/plain": [
       "Text(0, 0.5, 'Absolute change in score (%)')"
      ]
     },
     "execution_count": 29,
     "metadata": {},
     "output_type": "execute_result"
    },
    {
     "data": {
      "image/png": "[encoded data removed]",
      "text/plain": [
       "<Figure size 1152x648 with 1 Axes>"
      ]
     },
     "metadata": {
      "needs_background": "light"
     },
     "output_type": "display_data"
    }
   ],
   "source": [
    "ax = df_combined.plot(kind = \"bar\", figsize = (16, 9))\n",
    "ax.set_xlabel(\"\")\n",
    "ax.set_ylabel(\"Absolute change in score (%)\")"
   ]
  },
  {
   "cell_type": "code",
   "execution_count": 30,
   "metadata": {},
   "outputs": [
    {
     "data": {
      "application/vnd.plotly.v1+json": {
       "config": {
        "displaylogo": false,
        "linkText": "Export to plot.ly",
        "modeBarButtonsToRemove": [
         "sendDataToCloud"
        ],
        "plotlyServerURL": "https://plot.ly",
        "showLink": false
       },
       "data": [
        {
         "marker": {
          "color": "rgba(255, 153, 51, 0.6)",
          "line": {
           "color": "rgba(255, 153, 51, 1.0)",
           "width": 1
          }
         },
         "name": "AP",
         "orientation": "v",
         "text": "",
         "type": "bar",
         "uid": "a59055e5-0c12-42dd-b526-e8c3c009c75d",
         "x": [
          "A to B",
          "A to C",
          "A to A25",
          "A to A50"
         ],
         "y": [
          1.968409257929754,
          2.3756377055759863,
          -1.3863852401077625,
          -1.7865524654154863
         ]
        },
        {
         "marker": {
          "color": "rgba(55, 128, 191, 0.6)",
          "line": {
           "color": "rgba(55, 128, 191, 1.0)",
           "width": 1
          }
         },
         "name": "AP50",
         "orientation": "v",
         "text": "",
         "type": "bar",
         "uid": "c8cbba23-77bd-4936-8ef3-7d6bbaba7792",
         "x": [
          "A to B",
          "A to C",
          "A to A25",
          "A to A50"
         ],
         "y": [
          4.365934255166703,
          5.257255051705679,
          -3.9894517528887787,
          -5.488965817853709
         ]
        },
        {
         "marker": {
          "color": "rgba(50, 171, 96, 0.6)",
          "line": {
           "color": "rgba(50, 171, 96, 1.0)",
           "width": 1
          }
         },
         "name": "AP75",
         "orientation": "v",
         "text": "",
         "type": "bar",
         "uid": "61f21e0c-999c-4cee-bbfb-e345146453eb",
         "x": [
          "A to B",
          "A to C",
          "A to A25",
          "A to A50"
         ],
         "y": [
          2.0362160618996623,
          2.2321072704755722,
          -0.10076912445480812,
          -0.05147160732406064
         ]
        },
        {
         "marker": {
          "color": "rgba(128, 0, 128, 0.6)",
          "line": {
           "color": "rgba(128, 0, 128, 1.0)",
           "width": 1
          }
         },
         "name": "APs",
         "orientation": "v",
         "text": "",
         "type": "bar",
         "uid": "9ace9462-36bd-4142-bf86-b906d475eba5",
         "x": [
          "A to B",
          "A to C",
          "A to A25",
          "A to A50"
         ],
         "y": [
          1.1178312738323148,
          1.0882075980071682,
          -1.8294167030111357,
          -1.9167976699991263
         ]
        },
        {
         "marker": {
          "color": "rgba(219, 64, 82, 0.6)",
          "line": {
           "color": "rgba(219, 64, 82, 1.0)",
           "width": 1
          }
         },
         "name": "APm",
         "orientation": "v",
         "text": "",
         "type": "bar",
         "uid": "27b1ce3f-e839-45bb-9f3e-73272390a1c3",
         "x": [
          "A to B",
          "A to C",
          "A to A25",
          "A to A50"
         ],
         "y": [
          3.1921012395465462,
          3.821279850220755,
          -0.05497862122991193,
          -0.5251839866191654
         ]
        },
        {
         "marker": {
          "color": "rgba(0, 128, 128, 0.6)",
          "line": {
           "color": "rgba(0, 128, 128, 1.0)",
           "width": 1
          }
         },
         "name": "APl",
         "orientation": "v",
         "text": "",
         "type": "bar",
         "uid": "a5feafcc-ea11-4028-b45c-6352cf719862",
         "x": [
          "A to B",
          "A to C",
          "A to A25",
          "A to A50"
         ],
         "y": [
          2.460642567036875,
          2.5531471783552027,
          0.20987387399222235,
          3.3784095362457522
         ]
        },
        {
         "marker": {
          "color": "rgba(255, 255, 51, 0.6)",
          "line": {
           "color": "rgba(255, 255, 51, 1.0)",
           "width": 1
          }
         },
         "name": "AR@1",
         "orientation": "v",
         "text": "",
         "type": "bar",
         "uid": "ce110ac9-40e7-4bdd-87b7-0c1e23f918e2",
         "x": [
          "A to B",
          "A to C",
          "A to A25",
          "A to A50"
         ],
         "y": [
          0.5475401959578865,
          0.5499054055269265,
          -0.4120786021478015,
          -0.5714920880333235
         ]
        },
        {
         "marker": {
          "color": "rgba(128, 128, 0, 0.6)",
          "line": {
           "color": "rgba(128, 128, 0, 1.0)",
           "width": 1
          }
         },
         "name": "AR@10",
         "orientation": "v",
         "text": "",
         "type": "bar",
         "uid": "773a8508-05a1-4105-b42c-3a02cf7d57b5",
         "x": [
          "A to B",
          "A to C",
          "A to A25",
          "A to A50"
         ],
         "y": [
          1.8542309410198854,
          2.3149192668601994,
          -1.3612982335118429,
          -1.7179408320360412
         ]
        },
        {
         "marker": {
          "color": "rgba(251, 128, 114, 0.6)",
          "line": {
           "color": "rgba(251, 128, 114, 1.0)",
           "width": 1
          }
         },
         "name": "AR",
         "orientation": "v",
         "text": "",
         "type": "bar",
         "uid": "228b5e42-173d-4d83-ba39-ad9924e0e844",
         "x": [
          "A to B",
          "A to C",
          "A to A25",
          "A to A50"
         ],
         "y": [
          1.903753633635119,
          2.3978291322600596,
          -0.7555174957999233,
          -1.3465114543691314
         ]
        },
        {
         "marker": {
          "color": "rgba(128, 177, 211, 0.6)",
          "line": {
           "color": "rgba(128, 177, 211, 1.0)",
           "width": 1
          }
         },
         "name": "ARs",
         "orientation": "v",
         "text": "",
         "type": "bar",
         "uid": "a6e53678-53a0-4c90-87b7-dc7790627f6e",
         "x": [
          "A to B",
          "A to C",
          "A to A25",
          "A to A50"
         ],
         "y": [
          1.5068601000671866,
          1.7177987390786353,
          -1.4495106414698478,
          -1.2061171440250262
         ]
        },
        {
         "marker": {
          "color": "rgba(128, 177, 211, 0.6)",
          "line": {
           "color": "rgba(128, 177, 211, 0.8999999999999999)",
           "width": 1
          }
         },
         "name": "ARm",
         "orientation": "v",
         "text": "",
         "type": "bar",
         "uid": "2daa5767-8976-42a5-9da9-3fd93de5e3de",
         "x": [
          "A to B",
          "A to C",
          "A to A25",
          "A to A50"
         ],
         "y": [
          2.5594152931364467,
          2.873582398450475,
          0.14329903285444923,
          -0.741510983767707
         ]
        },
        {
         "marker": {
          "color": "rgba(255, 153, 51, 0.6)",
          "line": {
           "color": "rgba(255, 153, 51, 0.8999999999999999)",
           "width": 1
          }
         },
         "name": "ARl",
         "orientation": "v",
         "text": "",
         "type": "bar",
         "uid": "a6ddc4e3-73ff-4d97-8064-7d84ab9660ef",
         "x": [
          "A to B",
          "A to C",
          "A to A25",
          "A to A50"
         ],
         "y": [
          1.7066394057919543,
          16.13822547508989,
          1.6484779344948908,
          3.063272885306784
         ]
        }
       ],
       "layout": {
        "height": 540,
        "title": {
         "text": "Impact of GAN-based augmentation"
        },
        "width": 960,
        "yaxis": {
         "title": {
          "text": "Absolute change in score (%)"
         }
        }
       }
      },
      "text/html": [
       "<div id=\"8726472f-67c8-4506-a795-fd3ec85e61e5\" style=\"height: 540px; width: 960px;\" class=\"plotly-graph-div\"></div><script type=\"text/javascript\">require([\"plotly\"], function(Plotly) { window.PLOTLYENV=window.PLOTLYENV || {};window.PLOTLYENV.BASE_URL=\"https://plot.ly\";\n",
       "if (document.getElementById(\"8726472f-67c8-4506-a795-fd3ec85e61e5\")) {\n",
       "    Plotly.newPlot(\"8726472f-67c8-4506-a795-fd3ec85e61e5\", [{\"marker\": {\"color\": \"rgba(255, 153, 51, 0.6)\", \"line\": {\"color\": \"rgba(255, 153, 51, 1.0)\", \"width\": 1}}, \"name\": \"AP\", \"orientation\": \"v\", \"text\": \"\", \"x\": [\"A to B\", \"A to C\", \"A to A25\", \"A to A50\"], \"y\": [1.968409257929754, 2.3756377055759863, -1.3863852401077625, -1.7865524654154863], \"type\": \"bar\", \"uid\": \"a59055e5-0c12-42dd-b526-e8c3c009c75d\"}, {\"marker\": {\"color\": \"rgba(55, 128, 191, 0.6)\", \"line\": {\"color\": \"rgba(55, 128, 191, 1.0)\", \"width\": 1}}, \"name\": \"AP50\", \"orientation\": \"v\", \"text\": \"\", \"x\": [\"A to B\", \"A to C\", \"A to A25\", \"A to A50\"], \"y\": [4.365934255166703, 5.257255051705679, -3.9894517528887787, -5.488965817853709], \"type\": \"bar\", \"uid\": \"c8cbba23-77bd-4936-8ef3-7d6bbaba7792\"}, {\"marker\": {\"color\": \"rgba(50, 171, 96, 0.6)\", \"line\": {\"color\": \"rgba(50, 171, 96, 1.0)\", \"width\": 1}}, \"name\": \"AP75\", \"orientation\": \"v\", \"text\": \"\", \"x\": [\"A to B\", \"A to C\", \"A to A25\", \"A to A50\"], \"y\": [2.0362160618996623, 2.2321072704755722, -0.10076912445480812, -0.05147160732406064], \"type\": \"bar\", \"uid\": \"61f21e0c-999c-4cee-bbfb-e345146453eb\"}, {\"marker\": {\"color\": \"rgba(128, 0, 128, 0.6)\", \"line\": {\"color\": \"rgba(128, 0, 128, 1.0)\", \"width\": 1}}, \"name\": \"APs\", \"orientation\": \"v\", \"text\": \"\", \"x\": [\"A to B\", \"A to C\", \"A to A25\", \"A to A50\"], \"y\": [1.1178312738323148, 1.0882075980071682, -1.8294167030111357, -1.9167976699991263], \"type\": \"bar\", \"uid\": \"9ace9462-36bd-4142-bf86-b906d475eba5\"}, {\"marker\": {\"color\": \"rgba(219, 64, 82, 0.6)\", \"line\": {\"color\": \"rgba(219, 64, 82, 1.0)\", \"width\": 1}}, \"name\": \"APm\", \"orientation\": \"v\", \"text\": \"\", \"x\": [\"A to B\", \"A to C\", \"A to A25\", \"A to A50\"], \"y\": [3.1921012395465462, 3.821279850220755, -0.05497862122991193, -0.5251839866191654], \"type\": \"bar\", \"uid\": \"27b1ce3f-e839-45bb-9f3e-73272390a1c3\"}, {\"marker\": {\"color\": \"rgba(0, 128, 128, 0.6)\", \"line\": {\"color\": \"rgba(0, 128, 128, 1.0)\", \"width\": 1}}, \"name\": \"APl\", \"orientation\": \"v\", \"text\": \"\", \"x\": [\"A to B\", \"A to C\", \"A to A25\", \"A to A50\"], \"y\": [2.460642567036875, 2.5531471783552027, 0.20987387399222235, 3.3784095362457522], \"type\": \"bar\", \"uid\": \"a5feafcc-ea11-4028-b45c-6352cf719862\"}, {\"marker\": {\"color\": \"rgba(255, 255, 51, 0.6)\", \"line\": {\"color\": \"rgba(255, 255, 51, 1.0)\", \"width\": 1}}, \"name\": \"AR@1\", \"orientation\": \"v\", \"text\": \"\", \"x\": [\"A to B\", \"A to C\", \"A to A25\", \"A to A50\"], \"y\": [0.5475401959578865, 0.5499054055269265, -0.4120786021478015, -0.5714920880333235], \"type\": \"bar\", \"uid\": \"ce110ac9-40e7-4bdd-87b7-0c1e23f918e2\"}, {\"marker\": {\"color\": \"rgba(128, 128, 0, 0.6)\", \"line\": {\"color\": \"rgba(128, 128, 0, 1.0)\", \"width\": 1}}, \"name\": \"AR@10\", \"orientation\": \"v\", \"text\": \"\", \"x\": [\"A to B\", \"A to C\", \"A to A25\", \"A to A50\"], \"y\": [1.8542309410198854, 2.3149192668601994, -1.3612982335118429, -1.7179408320360412], \"type\": \"bar\", \"uid\": \"773a8508-05a1-4105-b42c-3a02cf7d57b5\"}, {\"marker\": {\"color\": \"rgba(251, 128, 114, 0.6)\", \"line\": {\"color\": \"rgba(251, 128, 114, 1.0)\", \"width\": 1}}, \"name\": \"AR\", \"orientation\": \"v\", \"text\": \"\", \"x\": [\"A to B\", \"A to C\", \"A to A25\", \"A to A50\"], \"y\": [1.903753633635119, 2.3978291322600596, -0.7555174957999233, -1.3465114543691314], \"type\": \"bar\", \"uid\": \"228b5e42-173d-4d83-ba39-ad9924e0e844\"}, {\"marker\": {\"color\": \"rgba(128, 177, 211, 0.6)\", \"line\": {\"color\": \"rgba(128, 177, 211, 1.0)\", \"width\": 1}}, \"name\": \"ARs\", \"orientation\": \"v\", \"text\": \"\", \"x\": [\"A to B\", \"A to C\", \"A to A25\", \"A to A50\"], \"y\": [1.5068601000671866, 1.7177987390786353, -1.4495106414698478, -1.2061171440250262], \"type\": \"bar\", \"uid\": \"a6e53678-53a0-4c90-87b7-dc7790627f6e\"}, {\"marker\": {\"color\": \"rgba(128, 177, 211, 0.6)\", \"line\": {\"color\": \"rgba(128, 177, 211, 0.8999999999999999)\", \"width\": 1}}, \"name\": \"ARm\", \"orientation\": \"v\", \"text\": \"\", \"x\": [\"A to B\", \"A to C\", \"A to A25\", \"A to A50\"], \"y\": [2.5594152931364467, 2.873582398450475, 0.14329903285444923, -0.741510983767707], \"type\": \"bar\", \"uid\": \"2daa5767-8976-42a5-9da9-3fd93de5e3de\"}, {\"marker\": {\"color\": \"rgba(255, 153, 51, 0.6)\", \"line\": {\"color\": \"rgba(255, 153, 51, 0.8999999999999999)\", \"width\": 1}}, \"name\": \"ARl\", \"orientation\": \"v\", \"text\": \"\", \"x\": [\"A to B\", \"A to C\", \"A to A25\", \"A to A50\"], \"y\": [1.7066394057919543, 16.13822547508989, 1.6484779344948908, 3.063272885306784], \"type\": \"bar\", \"uid\": \"a6ddc4e3-73ff-4d97-8064-7d84ab9660ef\"}], {\"height\": 540, \"title\": {\"text\": \"Impact of GAN-based augmentation\"}, \"width\": 960, \"yaxis\": {\"title\": {\"text\": \"Absolute change in score (%)\"}}}, {\"modeBarButtonsToRemove\": [\"sendDataToCloud\"], \"displaylogo\": false, \"showLink\": false, \"linkText\": \"Export to plot.ly\", \"plotlyServerURL\": \"https://plot.ly\"}); \n",
       "}\n",
       "});</script>"
      ],
      "text/vnd.plotly.v1+html": [
       "<div id=\"8726472f-67c8-4506-a795-fd3ec85e61e5\" style=\"height: 540px; width: 960px;\" class=\"plotly-graph-div\"></div><script type=\"text/javascript\">require([\"plotly\"], function(Plotly) { window.PLOTLYENV=window.PLOTLYENV || {};window.PLOTLYENV.BASE_URL=\"https://plot.ly\";\n",
       "if (document.getElementById(\"8726472f-67c8-4506-a795-fd3ec85e61e5\")) {\n",
       "    Plotly.newPlot(\"8726472f-67c8-4506-a795-fd3ec85e61e5\", [{\"marker\": {\"color\": \"rgba(255, 153, 51, 0.6)\", \"line\": {\"color\": \"rgba(255, 153, 51, 1.0)\", \"width\": 1}}, \"name\": \"AP\", \"orientation\": \"v\", \"text\": \"\", \"x\": [\"A to B\", \"A to C\", \"A to A25\", \"A to A50\"], \"y\": [1.968409257929754, 2.3756377055759863, -1.3863852401077625, -1.7865524654154863], \"type\": \"bar\", \"uid\": \"a59055e5-0c12-42dd-b526-e8c3c009c75d\"}, {\"marker\": {\"color\": \"rgba(55, 128, 191, 0.6)\", \"line\": {\"color\": \"rgba(55, 128, 191, 1.0)\", \"width\": 1}}, \"name\": \"AP50\", \"orientation\": \"v\", \"text\": \"\", \"x\": [\"A to B\", \"A to C\", \"A to A25\", \"A to A50\"], \"y\": [4.365934255166703, 5.257255051705679, -3.9894517528887787, -5.488965817853709], \"type\": \"bar\", \"uid\": \"c8cbba23-77bd-4936-8ef3-7d6bbaba7792\"}, {\"marker\": {\"color\": \"rgba(50, 171, 96, 0.6)\", \"line\": {\"color\": \"rgba(50, 171, 96, 1.0)\", \"width\": 1}}, \"name\": \"AP75\", \"orientation\": \"v\", \"text\": \"\", \"x\": [\"A to B\", \"A to C\", \"A to A25\", \"A to A50\"], \"y\": [2.0362160618996623, 2.2321072704755722, -0.10076912445480812, -0.05147160732406064], \"type\": \"bar\", \"uid\": \"61f21e0c-999c-4cee-bbfb-e345146453eb\"}, {\"marker\": {\"color\": \"rgba(128, 0, 128, 0.6)\", \"line\": {\"color\": \"rgba(128, 0, 128, 1.0)\", \"width\": 1}}, \"name\": \"APs\", \"orientation\": \"v\", \"text\": \"\", \"x\": [\"A to B\", \"A to C\", \"A to A25\", \"A to A50\"], \"y\": [1.1178312738323148, 1.0882075980071682, -1.8294167030111357, -1.9167976699991263], \"type\": \"bar\", \"uid\": \"9ace9462-36bd-4142-bf86-b906d475eba5\"}, {\"marker\": {\"color\": \"rgba(219, 64, 82, 0.6)\", \"line\": {\"color\": \"rgba(219, 64, 82, 1.0)\", \"width\": 1}}, \"name\": \"APm\", \"orientation\": \"v\", \"text\": \"\", \"x\": [\"A to B\", \"A to C\", \"A to A25\", \"A to A50\"], \"y\": [3.1921012395465462, 3.821279850220755, -0.05497862122991193, -0.5251839866191654], \"type\": \"bar\", \"uid\": \"27b1ce3f-e839-45bb-9f3e-73272390a1c3\"}, {\"marker\": {\"color\": \"rgba(0, 128, 128, 0.6)\", \"line\": {\"color\": \"rgba(0, 128, 128, 1.0)\", \"width\": 1}}, \"name\": \"APl\", \"orientation\": \"v\", \"text\": \"\", \"x\": [\"A to B\", \"A to C\", \"A to A25\", \"A to A50\"], \"y\": [2.460642567036875, 2.5531471783552027, 0.20987387399222235, 3.3784095362457522], \"type\": \"bar\", \"uid\": \"a5feafcc-ea11-4028-b45c-6352cf719862\"}, {\"marker\": {\"color\": \"rgba(255, 255, 51, 0.6)\", \"line\": {\"color\": \"rgba(255, 255, 51, 1.0)\", \"width\": 1}}, \"name\": \"AR@1\", \"orientation\": \"v\", \"text\": \"\", \"x\": [\"A to B\", \"A to C\", \"A to A25\", \"A to A50\"], \"y\": [0.5475401959578865, 0.5499054055269265, -0.4120786021478015, -0.5714920880333235], \"type\": \"bar\", \"uid\": \"ce110ac9-40e7-4bdd-87b7-0c1e23f918e2\"}, {\"marker\": {\"color\": \"rgba(128, 128, 0, 0.6)\", \"line\": {\"color\": \"rgba(128, 128, 0, 1.0)\", \"width\": 1}}, \"name\": \"AR@10\", \"orientation\": \"v\", \"text\": \"\", \"x\": [\"A to B\", \"A to C\", \"A to A25\", \"A to A50\"], \"y\": [1.8542309410198854, 2.3149192668601994, -1.3612982335118429, -1.7179408320360412], \"type\": \"bar\", \"uid\": \"773a8508-05a1-4105-b42c-3a02cf7d57b5\"}, {\"marker\": {\"color\": \"rgba(251, 128, 114, 0.6)\", \"line\": {\"color\": \"rgba(251, 128, 114, 1.0)\", \"width\": 1}}, \"name\": \"AR\", \"orientation\": \"v\", \"text\": \"\", \"x\": [\"A to B\", \"A to C\", \"A to A25\", \"A to A50\"], \"y\": [1.903753633635119, 2.3978291322600596, -0.7555174957999233, -1.3465114543691314], \"type\": \"bar\", \"uid\": \"228b5e42-173d-4d83-ba39-ad9924e0e844\"}, {\"marker\": {\"color\": \"rgba(128, 177, 211, 0.6)\", \"line\": {\"color\": \"rgba(128, 177, 211, 1.0)\", \"width\": 1}}, \"name\": \"ARs\", \"orientation\": \"v\", \"text\": \"\", \"x\": [\"A to B\", \"A to C\", \"A to A25\", \"A to A50\"], \"y\": [1.5068601000671866, 1.7177987390786353, -1.4495106414698478, -1.2061171440250262], \"type\": \"bar\", \"uid\": \"a6e53678-53a0-4c90-87b7-dc7790627f6e\"}, {\"marker\": {\"color\": \"rgba(128, 177, 211, 0.6)\", \"line\": {\"color\": \"rgba(128, 177, 211, 0.8999999999999999)\", \"width\": 1}}, \"name\": \"ARm\", \"orientation\": \"v\", \"text\": \"\", \"x\": [\"A to B\", \"A to C\", \"A to A25\", \"A to A50\"], \"y\": [2.5594152931364467, 2.873582398450475, 0.14329903285444923, -0.741510983767707], \"type\": \"bar\", \"uid\": \"2daa5767-8976-42a5-9da9-3fd93de5e3de\"}, {\"marker\": {\"color\": \"rgba(255, 153, 51, 0.6)\", \"line\": {\"color\": \"rgba(255, 153, 51, 0.8999999999999999)\", \"width\": 1}}, \"name\": \"ARl\", \"orientation\": \"v\", \"text\": \"\", \"x\": [\"A to B\", \"A to C\", \"A to A25\", \"A to A50\"], \"y\": [1.7066394057919543, 16.13822547508989, 1.6484779344948908, 3.063272885306784], \"type\": \"bar\", \"uid\": \"a6ddc4e3-73ff-4d97-8064-7d84ab9660ef\"}], {\"height\": 540, \"title\": {\"text\": \"Impact of GAN-based augmentation\"}, \"width\": 960, \"yaxis\": {\"title\": {\"text\": \"Absolute change in score (%)\"}}}, {\"modeBarButtonsToRemove\": [\"sendDataToCloud\"], \"displaylogo\": false, \"showLink\": false, \"linkText\": \"Export to plot.ly\", \"plotlyServerURL\": \"https://plot.ly\"}); \n",
       "}\n",
       "});</script>"
      ]
     },
     "metadata": {},
     "output_type": "display_data"
    }
   ],
   "source": [
    "layout = {\n",
    "    \"title\": \"Impact of GAN-based augmentation\",\n",
    "    \"yaxis\": {\n",
    "        \"title\": \"Absolute change in score (%)\"\n",
    "    },\n",
    "    \"width\": 960,\n",
    "    \"height\": 540\n",
    "}\n",
    "fig = df_combined.iplot(kind = \"bar\", y = [\"AP\", \"AP50\", \"AP75\", \"APs\", \"APm\", \"APl\", \"AR@1\", \"AR@10\", \"AR\", \"ARs\", \"ARm\", \"ARl\"], layout = layout, asFigure = True)\n",
    "py.offline.iplot(fig, show_link = False, config = config)"
   ]
  }
 ],
 "metadata": {
  "kernelspec": {
   "display_name": "Python 3",
   "language": "python",
   "name": "python3"
  },
  "language_info": {
   "codemirror_mode": {
    "name": "ipython",
    "version": 3
   },
   "file_extension": ".py",
   "mimetype": "text/x-python",
   "name": "python",
   "nbconvert_exporter": "python",
   "pygments_lexer": "ipython3",
   "version": "3.6.7"
  }
 },
 "nbformat": 4,
 "nbformat_minor": 2
}

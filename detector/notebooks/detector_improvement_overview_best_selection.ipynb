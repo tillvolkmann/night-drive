{
 "cells": [
  {
   "cell_type": "code",
   "execution_count": 1,
   "metadata": {},
   "outputs": [],
   "source": [
    "import glob\n",
    "import numpy as np\n",
    "import pandas as pd\n",
    "import plotly as py\n",
    "import cufflinks as cf\n",
    "%matplotlib inline"
   ]
  },
  {
   "cell_type": "code",
   "execution_count": 2,
   "metadata": {},
   "outputs": [],
   "source": [
    "train_A_over_logs = \"../eval/20190317_RetinaNet_train_A_over_eval/test_night\"\n",
    "train_B_over_logs = \"../eval/20190317_RetinaNet_train_B_over_eval/test_night\"\n",
    "train_C_over_logs = \"../eval/20190317_RetinaNet_train_C_over_eval/test_night\"\n",
    "train_A_over_ganaug_025_logs = \"../eval/20190324_RetinaNet_train_A_over_ganaug_025_eval/test_night\"\n",
    "train_A_over_ganaug_050_logs = \"../eval/20190324_RetinaNet_train_A_over_ganaug_050_eval/test_night\"\n",
    "train_A_over_ganaug_050_augonlyasbase_logs = \"../eval/20190327_RetinaNet_train_A_over_ganaug_050_augonlyasbase_eval/test_night\"\n",
    "\n",
    "train_A_over_iteration = 105000 # None = best\n",
    "train_B_over_iteration = 97500 # None = best\n",
    "train_C_over_iteration = 65000 # None = best\n",
    "train_A_over_ganaug_025_iteration = 42500 # None = best\n",
    "train_A_over_ganaug_050_iteration = 102500 # None = best\n",
    "train_A_over_ganaug_050_augonlyasbase_iteration = 47500 # None = best"
   ]
  },
  {
   "cell_type": "code",
   "execution_count": 3,
   "metadata": {},
   "outputs": [],
   "source": [
    "train_A_over_logs = glob.glob(train_A_over_logs + \"/**/*.txt\", recursive = True)\n",
    "train_B_over_logs = glob.glob(train_B_over_logs + \"/**/*.txt\", recursive = True)\n",
    "train_C_over_logs = glob.glob(train_C_over_logs + \"/**/*.txt\", recursive = True)\n",
    "\n",
    "train_A_over_ganaug_025_logs = glob.glob(train_A_over_ganaug_025_logs + \"/**/*.txt\", recursive = True)\n",
    "train_A_over_ganaug_050_logs = glob.glob(train_A_over_ganaug_050_logs + \"/**/*.txt\", recursive = True)\n",
    "train_A_over_ganaug_050_augonlyasbase_logs = glob.glob(train_A_over_ganaug_050_augonlyasbase_logs + \"/**/*.txt\", recursive = True)"
   ]
  },
  {
   "cell_type": "code",
   "execution_count": 4,
   "metadata": {},
   "outputs": [],
   "source": [
    "def logs2df(logs, iteration = None):\n",
    "    df_iterations = pd.DataFrame()\n",
    "    last_iteration = -1\n",
    "    for log in logs:\n",
    "        df = pd.read_csv(log)\n",
    "        df = df.drop(columns = [\"Unnamed: 12\"])\n",
    "        df[\"Iteration\"] = last_iteration if log.split(\"_model_\")[-1].split(\"_\")[0] == \"final\" else int(log.split(\"_model_\")[-1].split(\"_\")[0])\n",
    "        df_iterations = pd.concat([df_iterations, df], axis = 0)\n",
    "        df_iterations = df_iterations.reset_index(drop = True)\n",
    "        last_iteration = df[\"Iteration\"]\n",
    "    df_iterations = df_iterations.sort_values(by = ['Iteration']).reset_index(drop = True)\n",
    "    if iteration is not None:\n",
    "        df_iterations = df_iterations.loc[df_iterations.Iteration == iteration].drop_duplicates([\"Iteration\"], keep = \"last\").reset_index(drop = True)\n",
    "    df_iterations = df_iterations.set_index(\"Iteration\")\n",
    "    return df_iterations"
   ]
  },
  {
   "cell_type": "markdown",
   "metadata": {},
   "source": [
    "## Last (or other specified) iterations ##"
   ]
  },
  {
   "cell_type": "markdown",
   "metadata": {},
   "source": [
    "### --> All metrics are evaluated on the selected iteration <-- ###"
   ]
  },
  {
   "cell_type": "markdown",
   "metadata": {},
   "source": [
    "### train_A_over ###"
   ]
  },
  {
   "cell_type": "code",
   "execution_count": 5,
   "metadata": {},
   "outputs": [
    {
     "data": {
      "text/html": [
       "<div>\n",
       "<style scoped>\n",
       "    .dataframe tbody tr th:only-of-type {\n",
       "        vertical-align: middle;\n",
       "    }\n",
       "\n",
       "    .dataframe tbody tr th {\n",
       "        vertical-align: top;\n",
       "    }\n",
       "\n",
       "    .dataframe thead th {\n",
       "        text-align: right;\n",
       "    }\n",
       "</style>\n",
       "<table border=\"1\" class=\"dataframe\">\n",
       "  <thead>\n",
       "    <tr style=\"text-align: right;\">\n",
       "      <th></th>\n",
       "      <th>AP</th>\n",
       "      <th>AP50</th>\n",
       "      <th>AP75</th>\n",
       "      <th>APs</th>\n",
       "      <th>APm</th>\n",
       "      <th>APl</th>\n",
       "      <th>AR@1</th>\n",
       "      <th>AR@10</th>\n",
       "      <th>AR</th>\n",
       "      <th>ARs</th>\n",
       "      <th>ARm</th>\n",
       "      <th>ARl</th>\n",
       "    </tr>\n",
       "    <tr>\n",
       "      <th>Iteration</th>\n",
       "      <th></th>\n",
       "      <th></th>\n",
       "      <th></th>\n",
       "      <th></th>\n",
       "      <th></th>\n",
       "      <th></th>\n",
       "      <th></th>\n",
       "      <th></th>\n",
       "      <th></th>\n",
       "      <th></th>\n",
       "      <th></th>\n",
       "      <th></th>\n",
       "    </tr>\n",
       "  </thead>\n",
       "  <tbody>\n",
       "    <tr>\n",
       "      <th>105000</th>\n",
       "      <td>0.229694</td>\n",
       "      <td>0.529048</td>\n",
       "      <td>0.169722</td>\n",
       "      <td>0.129553</td>\n",
       "      <td>0.322344</td>\n",
       "      <td>0.39392</td>\n",
       "      <td>0.089034</td>\n",
       "      <td>0.304542</td>\n",
       "      <td>0.341172</td>\n",
       "      <td>0.250206</td>\n",
       "      <td>0.438456</td>\n",
       "      <td>0.460781</td>\n",
       "    </tr>\n",
       "  </tbody>\n",
       "</table>\n",
       "</div>"
      ],
      "text/plain": [
       "                 AP      AP50      AP75       APs       APm      APl  \\\n",
       "Iteration                                                              \n",
       "105000     0.229694  0.529048  0.169722  0.129553  0.322344  0.39392   \n",
       "\n",
       "               AR@1     AR@10        AR       ARs       ARm       ARl  \n",
       "Iteration                                                              \n",
       "105000     0.089034  0.304542  0.341172  0.250206  0.438456  0.460781  "
      ]
     },
     "execution_count": 5,
     "metadata": {},
     "output_type": "execute_result"
    }
   ],
   "source": [
    "df_train_A_over = logs2df(train_A_over_logs, train_A_over_iteration)\n",
    "df_train_A_over.head(1)"
   ]
  },
  {
   "cell_type": "code",
   "execution_count": 6,
   "metadata": {},
   "outputs": [
    {
     "data": {
      "text/html": [
       "<div>\n",
       "<style scoped>\n",
       "    .dataframe tbody tr th:only-of-type {\n",
       "        vertical-align: middle;\n",
       "    }\n",
       "\n",
       "    .dataframe tbody tr th {\n",
       "        vertical-align: top;\n",
       "    }\n",
       "\n",
       "    .dataframe thead th {\n",
       "        text-align: right;\n",
       "    }\n",
       "</style>\n",
       "<table border=\"1\" class=\"dataframe\">\n",
       "  <thead>\n",
       "    <tr style=\"text-align: right;\">\n",
       "      <th></th>\n",
       "      <th>AP</th>\n",
       "      <th>AP50</th>\n",
       "      <th>AP75</th>\n",
       "      <th>APs</th>\n",
       "      <th>APm</th>\n",
       "      <th>APl</th>\n",
       "      <th>AR@1</th>\n",
       "      <th>AR@10</th>\n",
       "      <th>AR</th>\n",
       "      <th>ARs</th>\n",
       "      <th>ARm</th>\n",
       "      <th>ARl</th>\n",
       "    </tr>\n",
       "  </thead>\n",
       "  <tbody>\n",
       "    <tr>\n",
       "      <th>0</th>\n",
       "      <td>105000</td>\n",
       "      <td>105000</td>\n",
       "      <td>105000</td>\n",
       "      <td>105000</td>\n",
       "      <td>105000</td>\n",
       "      <td>105000</td>\n",
       "      <td>105000</td>\n",
       "      <td>105000</td>\n",
       "      <td>105000</td>\n",
       "      <td>105000</td>\n",
       "      <td>105000</td>\n",
       "      <td>105000</td>\n",
       "    </tr>\n",
       "  </tbody>\n",
       "</table>\n",
       "</div>"
      ],
      "text/plain": [
       "       AP    AP50    AP75     APs     APm     APl    AR@1   AR@10      AR  \\\n",
       "0  105000  105000  105000  105000  105000  105000  105000  105000  105000   \n",
       "\n",
       "      ARs     ARm     ARl  \n",
       "0  105000  105000  105000  "
      ]
     },
     "execution_count": 6,
     "metadata": {},
     "output_type": "execute_result"
    }
   ],
   "source": [
    "df_train_A_over_best_iter_per_metric = df_train_A_over.idxmax().to_frame().T\n",
    "df_train_A_over_best_iter_per_metric.head(1)"
   ]
  },
  {
   "cell_type": "code",
   "execution_count": 7,
   "metadata": {},
   "outputs": [
    {
     "data": {
      "text/html": [
       "<div>\n",
       "<style scoped>\n",
       "    .dataframe tbody tr th:only-of-type {\n",
       "        vertical-align: middle;\n",
       "    }\n",
       "\n",
       "    .dataframe tbody tr th {\n",
       "        vertical-align: top;\n",
       "    }\n",
       "\n",
       "    .dataframe thead th {\n",
       "        text-align: right;\n",
       "    }\n",
       "</style>\n",
       "<table border=\"1\" class=\"dataframe\">\n",
       "  <thead>\n",
       "    <tr style=\"text-align: right;\">\n",
       "      <th></th>\n",
       "      <th>AP</th>\n",
       "      <th>AP50</th>\n",
       "      <th>AP75</th>\n",
       "      <th>APs</th>\n",
       "      <th>APm</th>\n",
       "      <th>APl</th>\n",
       "      <th>AR@1</th>\n",
       "      <th>AR@10</th>\n",
       "      <th>AR</th>\n",
       "      <th>ARs</th>\n",
       "      <th>ARm</th>\n",
       "      <th>ARl</th>\n",
       "    </tr>\n",
       "  </thead>\n",
       "  <tbody>\n",
       "    <tr>\n",
       "      <th>0</th>\n",
       "      <td>0.229694</td>\n",
       "      <td>0.529048</td>\n",
       "      <td>0.169722</td>\n",
       "      <td>0.129553</td>\n",
       "      <td>0.322344</td>\n",
       "      <td>0.39392</td>\n",
       "      <td>0.089034</td>\n",
       "      <td>0.304542</td>\n",
       "      <td>0.341172</td>\n",
       "      <td>0.250206</td>\n",
       "      <td>0.438456</td>\n",
       "      <td>0.460781</td>\n",
       "    </tr>\n",
       "  </tbody>\n",
       "</table>\n",
       "</div>"
      ],
      "text/plain": [
       "         AP      AP50      AP75       APs       APm      APl      AR@1  \\\n",
       "0  0.229694  0.529048  0.169722  0.129553  0.322344  0.39392  0.089034   \n",
       "\n",
       "      AR@10        AR       ARs       ARm       ARl  \n",
       "0  0.304542  0.341172  0.250206  0.438456  0.460781  "
      ]
     },
     "execution_count": 7,
     "metadata": {},
     "output_type": "execute_result"
    }
   ],
   "source": [
    "df_train_A_over_best_val_per_metric = df_train_A_over.max().to_frame().T\n",
    "df_train_A_over_best_val_per_metric.head(1)"
   ]
  },
  {
   "cell_type": "markdown",
   "metadata": {},
   "source": [
    "### train_B_over ###"
   ]
  },
  {
   "cell_type": "code",
   "execution_count": 8,
   "metadata": {},
   "outputs": [
    {
     "data": {
      "text/html": [
       "<div>\n",
       "<style scoped>\n",
       "    .dataframe tbody tr th:only-of-type {\n",
       "        vertical-align: middle;\n",
       "    }\n",
       "\n",
       "    .dataframe tbody tr th {\n",
       "        vertical-align: top;\n",
       "    }\n",
       "\n",
       "    .dataframe thead th {\n",
       "        text-align: right;\n",
       "    }\n",
       "</style>\n",
       "<table border=\"1\" class=\"dataframe\">\n",
       "  <thead>\n",
       "    <tr style=\"text-align: right;\">\n",
       "      <th></th>\n",
       "      <th>AP</th>\n",
       "      <th>AP50</th>\n",
       "      <th>AP75</th>\n",
       "      <th>APs</th>\n",
       "      <th>APm</th>\n",
       "      <th>APl</th>\n",
       "      <th>AR@1</th>\n",
       "      <th>AR@10</th>\n",
       "      <th>AR</th>\n",
       "      <th>ARs</th>\n",
       "      <th>ARm</th>\n",
       "      <th>ARl</th>\n",
       "    </tr>\n",
       "    <tr>\n",
       "      <th>Iteration</th>\n",
       "      <th></th>\n",
       "      <th></th>\n",
       "      <th></th>\n",
       "      <th></th>\n",
       "      <th></th>\n",
       "      <th></th>\n",
       "      <th></th>\n",
       "      <th></th>\n",
       "      <th></th>\n",
       "      <th></th>\n",
       "      <th></th>\n",
       "      <th></th>\n",
       "    </tr>\n",
       "  </thead>\n",
       "  <tbody>\n",
       "    <tr>\n",
       "      <th>97500</th>\n",
       "      <td>0.249378</td>\n",
       "      <td>0.569171</td>\n",
       "      <td>0.186611</td>\n",
       "      <td>0.139854</td>\n",
       "      <td>0.351464</td>\n",
       "      <td>0.440922</td>\n",
       "      <td>0.093469</td>\n",
       "      <td>0.321735</td>\n",
       "      <td>0.359491</td>\n",
       "      <td>0.263614</td>\n",
       "      <td>0.462605</td>\n",
       "      <td>0.478073</td>\n",
       "    </tr>\n",
       "  </tbody>\n",
       "</table>\n",
       "</div>"
      ],
      "text/plain": [
       "                 AP      AP50      AP75       APs       APm       APl  \\\n",
       "Iteration                                                               \n",
       "97500      0.249378  0.569171  0.186611  0.139854  0.351464  0.440922   \n",
       "\n",
       "               AR@1     AR@10        AR       ARs       ARm       ARl  \n",
       "Iteration                                                              \n",
       "97500      0.093469  0.321735  0.359491  0.263614  0.462605  0.478073  "
      ]
     },
     "execution_count": 8,
     "metadata": {},
     "output_type": "execute_result"
    }
   ],
   "source": [
    "df_train_B_over = logs2df(train_B_over_logs, train_B_over_iteration)\n",
    "df_train_B_over.head(1)"
   ]
  },
  {
   "cell_type": "code",
   "execution_count": 9,
   "metadata": {},
   "outputs": [
    {
     "data": {
      "text/html": [
       "<div>\n",
       "<style scoped>\n",
       "    .dataframe tbody tr th:only-of-type {\n",
       "        vertical-align: middle;\n",
       "    }\n",
       "\n",
       "    .dataframe tbody tr th {\n",
       "        vertical-align: top;\n",
       "    }\n",
       "\n",
       "    .dataframe thead th {\n",
       "        text-align: right;\n",
       "    }\n",
       "</style>\n",
       "<table border=\"1\" class=\"dataframe\">\n",
       "  <thead>\n",
       "    <tr style=\"text-align: right;\">\n",
       "      <th></th>\n",
       "      <th>AP</th>\n",
       "      <th>AP50</th>\n",
       "      <th>AP75</th>\n",
       "      <th>APs</th>\n",
       "      <th>APm</th>\n",
       "      <th>APl</th>\n",
       "      <th>AR@1</th>\n",
       "      <th>AR@10</th>\n",
       "      <th>AR</th>\n",
       "      <th>ARs</th>\n",
       "      <th>ARm</th>\n",
       "      <th>ARl</th>\n",
       "    </tr>\n",
       "  </thead>\n",
       "  <tbody>\n",
       "    <tr>\n",
       "      <th>0</th>\n",
       "      <td>97500</td>\n",
       "      <td>97500</td>\n",
       "      <td>97500</td>\n",
       "      <td>97500</td>\n",
       "      <td>97500</td>\n",
       "      <td>97500</td>\n",
       "      <td>97500</td>\n",
       "      <td>97500</td>\n",
       "      <td>97500</td>\n",
       "      <td>97500</td>\n",
       "      <td>97500</td>\n",
       "      <td>97500</td>\n",
       "    </tr>\n",
       "  </tbody>\n",
       "</table>\n",
       "</div>"
      ],
      "text/plain": [
       "      AP   AP50   AP75    APs    APm    APl   AR@1  AR@10     AR    ARs  \\\n",
       "0  97500  97500  97500  97500  97500  97500  97500  97500  97500  97500   \n",
       "\n",
       "     ARm    ARl  \n",
       "0  97500  97500  "
      ]
     },
     "execution_count": 9,
     "metadata": {},
     "output_type": "execute_result"
    }
   ],
   "source": [
    "df_train_B_over_best_iter_per_metric = df_train_B_over.idxmax().to_frame().T\n",
    "df_train_B_over_best_iter_per_metric.head(1)"
   ]
  },
  {
   "cell_type": "code",
   "execution_count": 10,
   "metadata": {},
   "outputs": [
    {
     "data": {
      "text/html": [
       "<div>\n",
       "<style scoped>\n",
       "    .dataframe tbody tr th:only-of-type {\n",
       "        vertical-align: middle;\n",
       "    }\n",
       "\n",
       "    .dataframe tbody tr th {\n",
       "        vertical-align: top;\n",
       "    }\n",
       "\n",
       "    .dataframe thead th {\n",
       "        text-align: right;\n",
       "    }\n",
       "</style>\n",
       "<table border=\"1\" class=\"dataframe\">\n",
       "  <thead>\n",
       "    <tr style=\"text-align: right;\">\n",
       "      <th></th>\n",
       "      <th>AP</th>\n",
       "      <th>AP50</th>\n",
       "      <th>AP75</th>\n",
       "      <th>APs</th>\n",
       "      <th>APm</th>\n",
       "      <th>APl</th>\n",
       "      <th>AR@1</th>\n",
       "      <th>AR@10</th>\n",
       "      <th>AR</th>\n",
       "      <th>ARs</th>\n",
       "      <th>ARm</th>\n",
       "      <th>ARl</th>\n",
       "    </tr>\n",
       "  </thead>\n",
       "  <tbody>\n",
       "    <tr>\n",
       "      <th>0</th>\n",
       "      <td>0.249378</td>\n",
       "      <td>0.569171</td>\n",
       "      <td>0.186611</td>\n",
       "      <td>0.139854</td>\n",
       "      <td>0.351464</td>\n",
       "      <td>0.440922</td>\n",
       "      <td>0.093469</td>\n",
       "      <td>0.321735</td>\n",
       "      <td>0.359491</td>\n",
       "      <td>0.263614</td>\n",
       "      <td>0.462605</td>\n",
       "      <td>0.478073</td>\n",
       "    </tr>\n",
       "  </tbody>\n",
       "</table>\n",
       "</div>"
      ],
      "text/plain": [
       "         AP      AP50      AP75       APs       APm       APl      AR@1  \\\n",
       "0  0.249378  0.569171  0.186611  0.139854  0.351464  0.440922  0.093469   \n",
       "\n",
       "      AR@10        AR       ARs       ARm       ARl  \n",
       "0  0.321735  0.359491  0.263614  0.462605  0.478073  "
      ]
     },
     "execution_count": 10,
     "metadata": {},
     "output_type": "execute_result"
    }
   ],
   "source": [
    "df_train_B_over_best_val_per_metric = df_train_B_over.max().to_frame().T\n",
    "df_train_B_over_best_val_per_metric.head(1)"
   ]
  },
  {
   "cell_type": "markdown",
   "metadata": {},
   "source": [
    "### train_C_over ###"
   ]
  },
  {
   "cell_type": "code",
   "execution_count": 11,
   "metadata": {},
   "outputs": [
    {
     "data": {
      "text/html": [
       "<div>\n",
       "<style scoped>\n",
       "    .dataframe tbody tr th:only-of-type {\n",
       "        vertical-align: middle;\n",
       "    }\n",
       "\n",
       "    .dataframe tbody tr th {\n",
       "        vertical-align: top;\n",
       "    }\n",
       "\n",
       "    .dataframe thead th {\n",
       "        text-align: right;\n",
       "    }\n",
       "</style>\n",
       "<table border=\"1\" class=\"dataframe\">\n",
       "  <thead>\n",
       "    <tr style=\"text-align: right;\">\n",
       "      <th></th>\n",
       "      <th>AP</th>\n",
       "      <th>AP50</th>\n",
       "      <th>AP75</th>\n",
       "      <th>APs</th>\n",
       "      <th>APm</th>\n",
       "      <th>APl</th>\n",
       "      <th>AR@1</th>\n",
       "      <th>AR@10</th>\n",
       "      <th>AR</th>\n",
       "      <th>ARs</th>\n",
       "      <th>ARm</th>\n",
       "      <th>ARl</th>\n",
       "    </tr>\n",
       "    <tr>\n",
       "      <th>Iteration</th>\n",
       "      <th></th>\n",
       "      <th></th>\n",
       "      <th></th>\n",
       "      <th></th>\n",
       "      <th></th>\n",
       "      <th></th>\n",
       "      <th></th>\n",
       "      <th></th>\n",
       "      <th></th>\n",
       "      <th></th>\n",
       "      <th></th>\n",
       "      <th></th>\n",
       "    </tr>\n",
       "  </thead>\n",
       "  <tbody>\n",
       "    <tr>\n",
       "      <th>65000</th>\n",
       "      <td>0.253451</td>\n",
       "      <td>0.581621</td>\n",
       "      <td>0.192043</td>\n",
       "      <td>0.140207</td>\n",
       "      <td>0.363751</td>\n",
       "      <td>0.42637</td>\n",
       "      <td>0.09565</td>\n",
       "      <td>0.327692</td>\n",
       "      <td>0.365151</td>\n",
       "      <td>0.269937</td>\n",
       "      <td>0.47242</td>\n",
       "      <td>0.479317</td>\n",
       "    </tr>\n",
       "  </tbody>\n",
       "</table>\n",
       "</div>"
      ],
      "text/plain": [
       "                 AP      AP50      AP75       APs       APm      APl     AR@1  \\\n",
       "Iteration                                                                       \n",
       "65000      0.253451  0.581621  0.192043  0.140207  0.363751  0.42637  0.09565   \n",
       "\n",
       "              AR@10        AR       ARs      ARm       ARl  \n",
       "Iteration                                                   \n",
       "65000      0.327692  0.365151  0.269937  0.47242  0.479317  "
      ]
     },
     "execution_count": 11,
     "metadata": {},
     "output_type": "execute_result"
    }
   ],
   "source": [
    "df_train_C_over = logs2df(train_C_over_logs, train_C_over_iteration)\n",
    "df_train_C_over.head(1)"
   ]
  },
  {
   "cell_type": "code",
   "execution_count": 12,
   "metadata": {},
   "outputs": [
    {
     "data": {
      "text/html": [
       "<div>\n",
       "<style scoped>\n",
       "    .dataframe tbody tr th:only-of-type {\n",
       "        vertical-align: middle;\n",
       "    }\n",
       "\n",
       "    .dataframe tbody tr th {\n",
       "        vertical-align: top;\n",
       "    }\n",
       "\n",
       "    .dataframe thead th {\n",
       "        text-align: right;\n",
       "    }\n",
       "</style>\n",
       "<table border=\"1\" class=\"dataframe\">\n",
       "  <thead>\n",
       "    <tr style=\"text-align: right;\">\n",
       "      <th></th>\n",
       "      <th>AP</th>\n",
       "      <th>AP50</th>\n",
       "      <th>AP75</th>\n",
       "      <th>APs</th>\n",
       "      <th>APm</th>\n",
       "      <th>APl</th>\n",
       "      <th>AR@1</th>\n",
       "      <th>AR@10</th>\n",
       "      <th>AR</th>\n",
       "      <th>ARs</th>\n",
       "      <th>ARm</th>\n",
       "      <th>ARl</th>\n",
       "    </tr>\n",
       "  </thead>\n",
       "  <tbody>\n",
       "    <tr>\n",
       "      <th>0</th>\n",
       "      <td>65000</td>\n",
       "      <td>65000</td>\n",
       "      <td>65000</td>\n",
       "      <td>65000</td>\n",
       "      <td>65000</td>\n",
       "      <td>65000</td>\n",
       "      <td>65000</td>\n",
       "      <td>65000</td>\n",
       "      <td>65000</td>\n",
       "      <td>65000</td>\n",
       "      <td>65000</td>\n",
       "      <td>65000</td>\n",
       "    </tr>\n",
       "  </tbody>\n",
       "</table>\n",
       "</div>"
      ],
      "text/plain": [
       "      AP   AP50   AP75    APs    APm    APl   AR@1  AR@10     AR    ARs  \\\n",
       "0  65000  65000  65000  65000  65000  65000  65000  65000  65000  65000   \n",
       "\n",
       "     ARm    ARl  \n",
       "0  65000  65000  "
      ]
     },
     "execution_count": 12,
     "metadata": {},
     "output_type": "execute_result"
    }
   ],
   "source": [
    "df_train_C_over_best_iter_per_metric = df_train_C_over.idxmax().to_frame().T\n",
    "df_train_C_over_best_iter_per_metric.head(1)"
   ]
  },
  {
   "cell_type": "code",
   "execution_count": 13,
   "metadata": {},
   "outputs": [
    {
     "data": {
      "text/html": [
       "<div>\n",
       "<style scoped>\n",
       "    .dataframe tbody tr th:only-of-type {\n",
       "        vertical-align: middle;\n",
       "    }\n",
       "\n",
       "    .dataframe tbody tr th {\n",
       "        vertical-align: top;\n",
       "    }\n",
       "\n",
       "    .dataframe thead th {\n",
       "        text-align: right;\n",
       "    }\n",
       "</style>\n",
       "<table border=\"1\" class=\"dataframe\">\n",
       "  <thead>\n",
       "    <tr style=\"text-align: right;\">\n",
       "      <th></th>\n",
       "      <th>AP</th>\n",
       "      <th>AP50</th>\n",
       "      <th>AP75</th>\n",
       "      <th>APs</th>\n",
       "      <th>APm</th>\n",
       "      <th>APl</th>\n",
       "      <th>AR@1</th>\n",
       "      <th>AR@10</th>\n",
       "      <th>AR</th>\n",
       "      <th>ARs</th>\n",
       "      <th>ARm</th>\n",
       "      <th>ARl</th>\n",
       "    </tr>\n",
       "  </thead>\n",
       "  <tbody>\n",
       "    <tr>\n",
       "      <th>0</th>\n",
       "      <td>0.253451</td>\n",
       "      <td>0.581621</td>\n",
       "      <td>0.192043</td>\n",
       "      <td>0.140207</td>\n",
       "      <td>0.363751</td>\n",
       "      <td>0.42637</td>\n",
       "      <td>0.09565</td>\n",
       "      <td>0.327692</td>\n",
       "      <td>0.365151</td>\n",
       "      <td>0.269937</td>\n",
       "      <td>0.47242</td>\n",
       "      <td>0.479317</td>\n",
       "    </tr>\n",
       "  </tbody>\n",
       "</table>\n",
       "</div>"
      ],
      "text/plain": [
       "         AP      AP50      AP75       APs       APm      APl     AR@1  \\\n",
       "0  0.253451  0.581621  0.192043  0.140207  0.363751  0.42637  0.09565   \n",
       "\n",
       "      AR@10        AR       ARs      ARm       ARl  \n",
       "0  0.327692  0.365151  0.269937  0.47242  0.479317  "
      ]
     },
     "execution_count": 13,
     "metadata": {},
     "output_type": "execute_result"
    }
   ],
   "source": [
    "df_train_C_over_best_val_per_metric = df_train_C_over.max().to_frame().T\n",
    "df_train_C_over_best_val_per_metric.head(1)"
   ]
  },
  {
   "cell_type": "markdown",
   "metadata": {},
   "source": [
    "### train_A_over_ganaug_025 ###"
   ]
  },
  {
   "cell_type": "code",
   "execution_count": 14,
   "metadata": {},
   "outputs": [
    {
     "data": {
      "text/html": [
       "<div>\n",
       "<style scoped>\n",
       "    .dataframe tbody tr th:only-of-type {\n",
       "        vertical-align: middle;\n",
       "    }\n",
       "\n",
       "    .dataframe tbody tr th {\n",
       "        vertical-align: top;\n",
       "    }\n",
       "\n",
       "    .dataframe thead th {\n",
       "        text-align: right;\n",
       "    }\n",
       "</style>\n",
       "<table border=\"1\" class=\"dataframe\">\n",
       "  <thead>\n",
       "    <tr style=\"text-align: right;\">\n",
       "      <th></th>\n",
       "      <th>AP</th>\n",
       "      <th>AP50</th>\n",
       "      <th>AP75</th>\n",
       "      <th>APs</th>\n",
       "      <th>APm</th>\n",
       "      <th>APl</th>\n",
       "      <th>AR@1</th>\n",
       "      <th>AR@10</th>\n",
       "      <th>AR</th>\n",
       "      <th>ARs</th>\n",
       "      <th>ARm</th>\n",
       "      <th>ARl</th>\n",
       "    </tr>\n",
       "    <tr>\n",
       "      <th>Iteration</th>\n",
       "      <th></th>\n",
       "      <th></th>\n",
       "      <th></th>\n",
       "      <th></th>\n",
       "      <th></th>\n",
       "      <th></th>\n",
       "      <th></th>\n",
       "      <th></th>\n",
       "      <th></th>\n",
       "      <th></th>\n",
       "      <th></th>\n",
       "      <th></th>\n",
       "    </tr>\n",
       "  </thead>\n",
       "  <tbody>\n",
       "    <tr>\n",
       "      <th>42500</th>\n",
       "      <td>0.215831</td>\n",
       "      <td>0.484303</td>\n",
       "      <td>0.164046</td>\n",
       "      <td>0.10912</td>\n",
       "      <td>0.326285</td>\n",
       "      <td>0.417646</td>\n",
       "      <td>0.083167</td>\n",
       "      <td>0.290929</td>\n",
       "      <td>0.333617</td>\n",
       "      <td>0.22948</td>\n",
       "      <td>0.457375</td>\n",
       "      <td>0.487845</td>\n",
       "    </tr>\n",
       "  </tbody>\n",
       "</table>\n",
       "</div>"
      ],
      "text/plain": [
       "                 AP      AP50      AP75      APs       APm       APl  \\\n",
       "Iteration                                                              \n",
       "42500      0.215831  0.484303  0.164046  0.10912  0.326285  0.417646   \n",
       "\n",
       "               AR@1     AR@10        AR      ARs       ARm       ARl  \n",
       "Iteration                                                             \n",
       "42500      0.083167  0.290929  0.333617  0.22948  0.457375  0.487845  "
      ]
     },
     "execution_count": 14,
     "metadata": {},
     "output_type": "execute_result"
    }
   ],
   "source": [
    "df_train_A_over_ganaug_025 = logs2df(train_A_over_ganaug_025_logs, train_A_over_ganaug_025_iteration)\n",
    "df_train_A_over_ganaug_025.head(1)"
   ]
  },
  {
   "cell_type": "code",
   "execution_count": 15,
   "metadata": {},
   "outputs": [
    {
     "data": {
      "text/html": [
       "<div>\n",
       "<style scoped>\n",
       "    .dataframe tbody tr th:only-of-type {\n",
       "        vertical-align: middle;\n",
       "    }\n",
       "\n",
       "    .dataframe tbody tr th {\n",
       "        vertical-align: top;\n",
       "    }\n",
       "\n",
       "    .dataframe thead th {\n",
       "        text-align: right;\n",
       "    }\n",
       "</style>\n",
       "<table border=\"1\" class=\"dataframe\">\n",
       "  <thead>\n",
       "    <tr style=\"text-align: right;\">\n",
       "      <th></th>\n",
       "      <th>AP</th>\n",
       "      <th>AP50</th>\n",
       "      <th>AP75</th>\n",
       "      <th>APs</th>\n",
       "      <th>APm</th>\n",
       "      <th>APl</th>\n",
       "      <th>AR@1</th>\n",
       "      <th>AR@10</th>\n",
       "      <th>AR</th>\n",
       "      <th>ARs</th>\n",
       "      <th>ARm</th>\n",
       "      <th>ARl</th>\n",
       "    </tr>\n",
       "  </thead>\n",
       "  <tbody>\n",
       "    <tr>\n",
       "      <th>0</th>\n",
       "      <td>42500</td>\n",
       "      <td>42500</td>\n",
       "      <td>42500</td>\n",
       "      <td>42500</td>\n",
       "      <td>42500</td>\n",
       "      <td>42500</td>\n",
       "      <td>42500</td>\n",
       "      <td>42500</td>\n",
       "      <td>42500</td>\n",
       "      <td>42500</td>\n",
       "      <td>42500</td>\n",
       "      <td>42500</td>\n",
       "    </tr>\n",
       "  </tbody>\n",
       "</table>\n",
       "</div>"
      ],
      "text/plain": [
       "      AP   AP50   AP75    APs    APm    APl   AR@1  AR@10     AR    ARs  \\\n",
       "0  42500  42500  42500  42500  42500  42500  42500  42500  42500  42500   \n",
       "\n",
       "     ARm    ARl  \n",
       "0  42500  42500  "
      ]
     },
     "execution_count": 15,
     "metadata": {},
     "output_type": "execute_result"
    }
   ],
   "source": [
    "df_train_A_over_ganaug_025_best_iter_per_metric = df_train_A_over_ganaug_025.idxmax().to_frame().T\n",
    "df_train_A_over_ganaug_025_best_iter_per_metric.head(1)"
   ]
  },
  {
   "cell_type": "code",
   "execution_count": 16,
   "metadata": {},
   "outputs": [
    {
     "data": {
      "text/html": [
       "<div>\n",
       "<style scoped>\n",
       "    .dataframe tbody tr th:only-of-type {\n",
       "        vertical-align: middle;\n",
       "    }\n",
       "\n",
       "    .dataframe tbody tr th {\n",
       "        vertical-align: top;\n",
       "    }\n",
       "\n",
       "    .dataframe thead th {\n",
       "        text-align: right;\n",
       "    }\n",
       "</style>\n",
       "<table border=\"1\" class=\"dataframe\">\n",
       "  <thead>\n",
       "    <tr style=\"text-align: right;\">\n",
       "      <th></th>\n",
       "      <th>AP</th>\n",
       "      <th>AP50</th>\n",
       "      <th>AP75</th>\n",
       "      <th>APs</th>\n",
       "      <th>APm</th>\n",
       "      <th>APl</th>\n",
       "      <th>AR@1</th>\n",
       "      <th>AR@10</th>\n",
       "      <th>AR</th>\n",
       "      <th>ARs</th>\n",
       "      <th>ARm</th>\n",
       "      <th>ARl</th>\n",
       "    </tr>\n",
       "  </thead>\n",
       "  <tbody>\n",
       "    <tr>\n",
       "      <th>0</th>\n",
       "      <td>0.215831</td>\n",
       "      <td>0.484303</td>\n",
       "      <td>0.164046</td>\n",
       "      <td>0.10912</td>\n",
       "      <td>0.326285</td>\n",
       "      <td>0.417646</td>\n",
       "      <td>0.083167</td>\n",
       "      <td>0.290929</td>\n",
       "      <td>0.333617</td>\n",
       "      <td>0.22948</td>\n",
       "      <td>0.457375</td>\n",
       "      <td>0.487845</td>\n",
       "    </tr>\n",
       "  </tbody>\n",
       "</table>\n",
       "</div>"
      ],
      "text/plain": [
       "         AP      AP50      AP75      APs       APm       APl      AR@1  \\\n",
       "0  0.215831  0.484303  0.164046  0.10912  0.326285  0.417646  0.083167   \n",
       "\n",
       "      AR@10        AR      ARs       ARm       ARl  \n",
       "0  0.290929  0.333617  0.22948  0.457375  0.487845  "
      ]
     },
     "execution_count": 16,
     "metadata": {},
     "output_type": "execute_result"
    }
   ],
   "source": [
    "df_train_A_over_ganaug_025_best_val_per_metric = df_train_A_over_ganaug_025.max().to_frame().T\n",
    "df_train_A_over_ganaug_025_best_val_per_metric.head(1)"
   ]
  },
  {
   "cell_type": "markdown",
   "metadata": {},
   "source": [
    "### train_A_over_ganaug_050 ###"
   ]
  },
  {
   "cell_type": "code",
   "execution_count": 17,
   "metadata": {},
   "outputs": [
    {
     "data": {
      "text/html": [
       "<div>\n",
       "<style scoped>\n",
       "    .dataframe tbody tr th:only-of-type {\n",
       "        vertical-align: middle;\n",
       "    }\n",
       "\n",
       "    .dataframe tbody tr th {\n",
       "        vertical-align: top;\n",
       "    }\n",
       "\n",
       "    .dataframe thead th {\n",
       "        text-align: right;\n",
       "    }\n",
       "</style>\n",
       "<table border=\"1\" class=\"dataframe\">\n",
       "  <thead>\n",
       "    <tr style=\"text-align: right;\">\n",
       "      <th></th>\n",
       "      <th>AP</th>\n",
       "      <th>AP50</th>\n",
       "      <th>AP75</th>\n",
       "      <th>APs</th>\n",
       "      <th>APm</th>\n",
       "      <th>APl</th>\n",
       "      <th>AR@1</th>\n",
       "      <th>AR@10</th>\n",
       "      <th>AR</th>\n",
       "      <th>ARs</th>\n",
       "      <th>ARm</th>\n",
       "      <th>ARl</th>\n",
       "    </tr>\n",
       "    <tr>\n",
       "      <th>Iteration</th>\n",
       "      <th></th>\n",
       "      <th></th>\n",
       "      <th></th>\n",
       "      <th></th>\n",
       "      <th></th>\n",
       "      <th></th>\n",
       "      <th></th>\n",
       "      <th></th>\n",
       "      <th></th>\n",
       "      <th></th>\n",
       "      <th></th>\n",
       "      <th></th>\n",
       "    </tr>\n",
       "  </thead>\n",
       "  <tbody>\n",
       "    <tr>\n",
       "      <th>102500</th>\n",
       "      <td>0.211829</td>\n",
       "      <td>0.471275</td>\n",
       "      <td>0.163752</td>\n",
       "      <td>0.107435</td>\n",
       "      <td>0.311114</td>\n",
       "      <td>0.426584</td>\n",
       "      <td>0.084431</td>\n",
       "      <td>0.285918</td>\n",
       "      <td>0.32506</td>\n",
       "      <td>0.231547</td>\n",
       "      <td>0.42336</td>\n",
       "      <td>0.473069</td>\n",
       "    </tr>\n",
       "  </tbody>\n",
       "</table>\n",
       "</div>"
      ],
      "text/plain": [
       "                 AP      AP50      AP75       APs       APm       APl  \\\n",
       "Iteration                                                               \n",
       "102500     0.211829  0.471275  0.163752  0.107435  0.311114  0.426584   \n",
       "\n",
       "               AR@1     AR@10       AR       ARs      ARm       ARl  \n",
       "Iteration                                                            \n",
       "102500     0.084431  0.285918  0.32506  0.231547  0.42336  0.473069  "
      ]
     },
     "execution_count": 17,
     "metadata": {},
     "output_type": "execute_result"
    }
   ],
   "source": [
    "df_train_A_over_ganaug_050 = logs2df(train_A_over_ganaug_050_logs, train_A_over_ganaug_050_iteration)\n",
    "df_train_A_over_ganaug_050.head(1)"
   ]
  },
  {
   "cell_type": "code",
   "execution_count": 18,
   "metadata": {},
   "outputs": [
    {
     "data": {
      "text/html": [
       "<div>\n",
       "<style scoped>\n",
       "    .dataframe tbody tr th:only-of-type {\n",
       "        vertical-align: middle;\n",
       "    }\n",
       "\n",
       "    .dataframe tbody tr th {\n",
       "        vertical-align: top;\n",
       "    }\n",
       "\n",
       "    .dataframe thead th {\n",
       "        text-align: right;\n",
       "    }\n",
       "</style>\n",
       "<table border=\"1\" class=\"dataframe\">\n",
       "  <thead>\n",
       "    <tr style=\"text-align: right;\">\n",
       "      <th></th>\n",
       "      <th>AP</th>\n",
       "      <th>AP50</th>\n",
       "      <th>AP75</th>\n",
       "      <th>APs</th>\n",
       "      <th>APm</th>\n",
       "      <th>APl</th>\n",
       "      <th>AR@1</th>\n",
       "      <th>AR@10</th>\n",
       "      <th>AR</th>\n",
       "      <th>ARs</th>\n",
       "      <th>ARm</th>\n",
       "      <th>ARl</th>\n",
       "    </tr>\n",
       "  </thead>\n",
       "  <tbody>\n",
       "    <tr>\n",
       "      <th>0</th>\n",
       "      <td>102500</td>\n",
       "      <td>102500</td>\n",
       "      <td>102500</td>\n",
       "      <td>102500</td>\n",
       "      <td>102500</td>\n",
       "      <td>102500</td>\n",
       "      <td>102500</td>\n",
       "      <td>102500</td>\n",
       "      <td>102500</td>\n",
       "      <td>102500</td>\n",
       "      <td>102500</td>\n",
       "      <td>102500</td>\n",
       "    </tr>\n",
       "  </tbody>\n",
       "</table>\n",
       "</div>"
      ],
      "text/plain": [
       "       AP    AP50    AP75     APs     APm     APl    AR@1   AR@10      AR  \\\n",
       "0  102500  102500  102500  102500  102500  102500  102500  102500  102500   \n",
       "\n",
       "      ARs     ARm     ARl  \n",
       "0  102500  102500  102500  "
      ]
     },
     "execution_count": 18,
     "metadata": {},
     "output_type": "execute_result"
    }
   ],
   "source": [
    "df_train_A_over_ganaug_050_best_iter_per_metric = df_train_A_over_ganaug_050.idxmax().to_frame().T\n",
    "df_train_A_over_ganaug_050_best_iter_per_metric.head(1)"
   ]
  },
  {
   "cell_type": "code",
   "execution_count": 19,
   "metadata": {},
   "outputs": [
    {
     "data": {
      "text/html": [
       "<div>\n",
       "<style scoped>\n",
       "    .dataframe tbody tr th:only-of-type {\n",
       "        vertical-align: middle;\n",
       "    }\n",
       "\n",
       "    .dataframe tbody tr th {\n",
       "        vertical-align: top;\n",
       "    }\n",
       "\n",
       "    .dataframe thead th {\n",
       "        text-align: right;\n",
       "    }\n",
       "</style>\n",
       "<table border=\"1\" class=\"dataframe\">\n",
       "  <thead>\n",
       "    <tr style=\"text-align: right;\">\n",
       "      <th></th>\n",
       "      <th>AP</th>\n",
       "      <th>AP50</th>\n",
       "      <th>AP75</th>\n",
       "      <th>APs</th>\n",
       "      <th>APm</th>\n",
       "      <th>APl</th>\n",
       "      <th>AR@1</th>\n",
       "      <th>AR@10</th>\n",
       "      <th>AR</th>\n",
       "      <th>ARs</th>\n",
       "      <th>ARm</th>\n",
       "      <th>ARl</th>\n",
       "    </tr>\n",
       "  </thead>\n",
       "  <tbody>\n",
       "    <tr>\n",
       "      <th>0</th>\n",
       "      <td>0.211829</td>\n",
       "      <td>0.471275</td>\n",
       "      <td>0.163752</td>\n",
       "      <td>0.107435</td>\n",
       "      <td>0.311114</td>\n",
       "      <td>0.426584</td>\n",
       "      <td>0.084431</td>\n",
       "      <td>0.285918</td>\n",
       "      <td>0.32506</td>\n",
       "      <td>0.231547</td>\n",
       "      <td>0.42336</td>\n",
       "      <td>0.473069</td>\n",
       "    </tr>\n",
       "  </tbody>\n",
       "</table>\n",
       "</div>"
      ],
      "text/plain": [
       "         AP      AP50      AP75       APs       APm       APl      AR@1  \\\n",
       "0  0.211829  0.471275  0.163752  0.107435  0.311114  0.426584  0.084431   \n",
       "\n",
       "      AR@10       AR       ARs      ARm       ARl  \n",
       "0  0.285918  0.32506  0.231547  0.42336  0.473069  "
      ]
     },
     "execution_count": 19,
     "metadata": {},
     "output_type": "execute_result"
    }
   ],
   "source": [
    "df_train_A_over_ganaug_050_best_val_per_metric = df_train_A_over_ganaug_050.max().to_frame().T\n",
    "df_train_A_over_ganaug_050_best_val_per_metric.head(1)"
   ]
  },
  {
   "cell_type": "markdown",
   "metadata": {},
   "source": [
    "### train_A_over_ganaug_050_augonlyasbase ###"
   ]
  },
  {
   "cell_type": "code",
   "execution_count": 20,
   "metadata": {},
   "outputs": [
    {
     "data": {
      "text/html": [
       "<div>\n",
       "<style scoped>\n",
       "    .dataframe tbody tr th:only-of-type {\n",
       "        vertical-align: middle;\n",
       "    }\n",
       "\n",
       "    .dataframe tbody tr th {\n",
       "        vertical-align: top;\n",
       "    }\n",
       "\n",
       "    .dataframe thead th {\n",
       "        text-align: right;\n",
       "    }\n",
       "</style>\n",
       "<table border=\"1\" class=\"dataframe\">\n",
       "  <thead>\n",
       "    <tr style=\"text-align: right;\">\n",
       "      <th></th>\n",
       "      <th>AP</th>\n",
       "      <th>AP50</th>\n",
       "      <th>AP75</th>\n",
       "      <th>APs</th>\n",
       "      <th>APm</th>\n",
       "      <th>APl</th>\n",
       "      <th>AR@1</th>\n",
       "      <th>AR@10</th>\n",
       "      <th>AR</th>\n",
       "      <th>ARs</th>\n",
       "      <th>ARm</th>\n",
       "      <th>ARl</th>\n",
       "    </tr>\n",
       "    <tr>\n",
       "      <th>Iteration</th>\n",
       "      <th></th>\n",
       "      <th></th>\n",
       "      <th></th>\n",
       "      <th></th>\n",
       "      <th></th>\n",
       "      <th></th>\n",
       "      <th></th>\n",
       "      <th></th>\n",
       "      <th></th>\n",
       "      <th></th>\n",
       "      <th></th>\n",
       "      <th></th>\n",
       "    </tr>\n",
       "  </thead>\n",
       "  <tbody>\n",
       "    <tr>\n",
       "      <th>47500</th>\n",
       "      <td>0.200919</td>\n",
       "      <td>0.46808</td>\n",
       "      <td>0.145021</td>\n",
       "      <td>0.102548</td>\n",
       "      <td>0.29592</td>\n",
       "      <td>0.354509</td>\n",
       "      <td>0.083801</td>\n",
       "      <td>0.274479</td>\n",
       "      <td>0.310958</td>\n",
       "      <td>0.219624</td>\n",
       "      <td>0.408924</td>\n",
       "      <td>0.405876</td>\n",
       "    </tr>\n",
       "  </tbody>\n",
       "</table>\n",
       "</div>"
      ],
      "text/plain": [
       "                 AP     AP50      AP75       APs      APm       APl      AR@1  \\\n",
       "Iteration                                                                       \n",
       "47500      0.200919  0.46808  0.145021  0.102548  0.29592  0.354509  0.083801   \n",
       "\n",
       "              AR@10        AR       ARs       ARm       ARl  \n",
       "Iteration                                                    \n",
       "47500      0.274479  0.310958  0.219624  0.408924  0.405876  "
      ]
     },
     "execution_count": 20,
     "metadata": {},
     "output_type": "execute_result"
    }
   ],
   "source": [
    "df_train_A_over_ganaug_050_augonlyasbase = logs2df(train_A_over_ganaug_050_augonlyasbase_logs, train_A_over_ganaug_050_augonlyasbase_iteration)\n",
    "df_train_A_over_ganaug_050_augonlyasbase.head(1)"
   ]
  },
  {
   "cell_type": "code",
   "execution_count": 21,
   "metadata": {},
   "outputs": [
    {
     "data": {
      "text/html": [
       "<div>\n",
       "<style scoped>\n",
       "    .dataframe tbody tr th:only-of-type {\n",
       "        vertical-align: middle;\n",
       "    }\n",
       "\n",
       "    .dataframe tbody tr th {\n",
       "        vertical-align: top;\n",
       "    }\n",
       "\n",
       "    .dataframe thead th {\n",
       "        text-align: right;\n",
       "    }\n",
       "</style>\n",
       "<table border=\"1\" class=\"dataframe\">\n",
       "  <thead>\n",
       "    <tr style=\"text-align: right;\">\n",
       "      <th></th>\n",
       "      <th>AP</th>\n",
       "      <th>AP50</th>\n",
       "      <th>AP75</th>\n",
       "      <th>APs</th>\n",
       "      <th>APm</th>\n",
       "      <th>APl</th>\n",
       "      <th>AR@1</th>\n",
       "      <th>AR@10</th>\n",
       "      <th>AR</th>\n",
       "      <th>ARs</th>\n",
       "      <th>ARm</th>\n",
       "      <th>ARl</th>\n",
       "    </tr>\n",
       "  </thead>\n",
       "  <tbody>\n",
       "    <tr>\n",
       "      <th>0</th>\n",
       "      <td>47500</td>\n",
       "      <td>47500</td>\n",
       "      <td>47500</td>\n",
       "      <td>47500</td>\n",
       "      <td>47500</td>\n",
       "      <td>47500</td>\n",
       "      <td>47500</td>\n",
       "      <td>47500</td>\n",
       "      <td>47500</td>\n",
       "      <td>47500</td>\n",
       "      <td>47500</td>\n",
       "      <td>47500</td>\n",
       "    </tr>\n",
       "  </tbody>\n",
       "</table>\n",
       "</div>"
      ],
      "text/plain": [
       "      AP   AP50   AP75    APs    APm    APl   AR@1  AR@10     AR    ARs  \\\n",
       "0  47500  47500  47500  47500  47500  47500  47500  47500  47500  47500   \n",
       "\n",
       "     ARm    ARl  \n",
       "0  47500  47500  "
      ]
     },
     "execution_count": 21,
     "metadata": {},
     "output_type": "execute_result"
    }
   ],
   "source": [
    "df_train_A_over_ganaug_050_augonlyasbase_best_iter_per_metric = df_train_A_over_ganaug_050_augonlyasbase.idxmax().to_frame().T\n",
    "df_train_A_over_ganaug_050_augonlyasbase_best_iter_per_metric.head(1)"
   ]
  },
  {
   "cell_type": "code",
   "execution_count": 22,
   "metadata": {},
   "outputs": [
    {
     "data": {
      "text/html": [
       "<div>\n",
       "<style scoped>\n",
       "    .dataframe tbody tr th:only-of-type {\n",
       "        vertical-align: middle;\n",
       "    }\n",
       "\n",
       "    .dataframe tbody tr th {\n",
       "        vertical-align: top;\n",
       "    }\n",
       "\n",
       "    .dataframe thead th {\n",
       "        text-align: right;\n",
       "    }\n",
       "</style>\n",
       "<table border=\"1\" class=\"dataframe\">\n",
       "  <thead>\n",
       "    <tr style=\"text-align: right;\">\n",
       "      <th></th>\n",
       "      <th>AP</th>\n",
       "      <th>AP50</th>\n",
       "      <th>AP75</th>\n",
       "      <th>APs</th>\n",
       "      <th>APm</th>\n",
       "      <th>APl</th>\n",
       "      <th>AR@1</th>\n",
       "      <th>AR@10</th>\n",
       "      <th>AR</th>\n",
       "      <th>ARs</th>\n",
       "      <th>ARm</th>\n",
       "      <th>ARl</th>\n",
       "    </tr>\n",
       "  </thead>\n",
       "  <tbody>\n",
       "    <tr>\n",
       "      <th>0</th>\n",
       "      <td>0.200919</td>\n",
       "      <td>0.46808</td>\n",
       "      <td>0.145021</td>\n",
       "      <td>0.102548</td>\n",
       "      <td>0.29592</td>\n",
       "      <td>0.354509</td>\n",
       "      <td>0.083801</td>\n",
       "      <td>0.274479</td>\n",
       "      <td>0.310958</td>\n",
       "      <td>0.219624</td>\n",
       "      <td>0.408924</td>\n",
       "      <td>0.405876</td>\n",
       "    </tr>\n",
       "  </tbody>\n",
       "</table>\n",
       "</div>"
      ],
      "text/plain": [
       "         AP     AP50      AP75       APs      APm       APl      AR@1  \\\n",
       "0  0.200919  0.46808  0.145021  0.102548  0.29592  0.354509  0.083801   \n",
       "\n",
       "      AR@10        AR       ARs       ARm       ARl  \n",
       "0  0.274479  0.310958  0.219624  0.408924  0.405876  "
      ]
     },
     "execution_count": 22,
     "metadata": {},
     "output_type": "execute_result"
    }
   ],
   "source": [
    "df_train_A_over_ganaug_050_augonlyasbase_best_val_per_metric = df_train_A_over_ganaug_050_augonlyasbase.max().to_frame().T\n",
    "df_train_A_over_ganaug_050_augonlyasbase_best_val_per_metric.head(1)"
   ]
  },
  {
   "cell_type": "markdown",
   "metadata": {},
   "source": [
    "## Improvements ##"
   ]
  },
  {
   "cell_type": "markdown",
   "metadata": {},
   "source": [
    "### train_A_over --> train_B_over ###"
   ]
  },
  {
   "cell_type": "code",
   "execution_count": 23,
   "metadata": {},
   "outputs": [
    {
     "data": {
      "text/html": [
       "<div>\n",
       "<style scoped>\n",
       "    .dataframe tbody tr th:only-of-type {\n",
       "        vertical-align: middle;\n",
       "    }\n",
       "\n",
       "    .dataframe tbody tr th {\n",
       "        vertical-align: top;\n",
       "    }\n",
       "\n",
       "    .dataframe thead th {\n",
       "        text-align: right;\n",
       "    }\n",
       "</style>\n",
       "<table border=\"1\" class=\"dataframe\">\n",
       "  <thead>\n",
       "    <tr style=\"text-align: right;\">\n",
       "      <th></th>\n",
       "      <th>AP</th>\n",
       "      <th>AP50</th>\n",
       "      <th>AP75</th>\n",
       "      <th>APs</th>\n",
       "      <th>APm</th>\n",
       "      <th>APl</th>\n",
       "      <th>AR@1</th>\n",
       "      <th>AR@10</th>\n",
       "      <th>AR</th>\n",
       "      <th>ARs</th>\n",
       "      <th>ARm</th>\n",
       "      <th>ARl</th>\n",
       "      <th>Comparison</th>\n",
       "    </tr>\n",
       "  </thead>\n",
       "  <tbody>\n",
       "    <tr>\n",
       "      <th>0</th>\n",
       "      <td>0.019684</td>\n",
       "      <td>0.040122</td>\n",
       "      <td>0.01689</td>\n",
       "      <td>0.010301</td>\n",
       "      <td>0.02912</td>\n",
       "      <td>0.047002</td>\n",
       "      <td>0.004434</td>\n",
       "      <td>0.017192</td>\n",
       "      <td>0.018318</td>\n",
       "      <td>0.013408</td>\n",
       "      <td>0.02415</td>\n",
       "      <td>0.017292</td>\n",
       "      <td>A to B</td>\n",
       "    </tr>\n",
       "  </tbody>\n",
       "</table>\n",
       "</div>"
      ],
      "text/plain": [
       "         AP      AP50     AP75       APs      APm       APl      AR@1  \\\n",
       "0  0.019684  0.040122  0.01689  0.010301  0.02912  0.047002  0.004434   \n",
       "\n",
       "      AR@10        AR       ARs      ARm       ARl Comparison  \n",
       "0  0.017192  0.018318  0.013408  0.02415  0.017292     A to B  "
      ]
     },
     "execution_count": 23,
     "metadata": {},
     "output_type": "execute_result"
    }
   ],
   "source": [
    "df_train_A_over_TO_train_B_over = df_train_B_over_best_val_per_metric - df_train_A_over_best_val_per_metric\n",
    "df_train_A_over_TO_train_B_over[\"Comparison\"] = \"A to B\"\n",
    "df_train_A_over_TO_train_B_over.head(1)"
   ]
  },
  {
   "cell_type": "markdown",
   "metadata": {},
   "source": [
    "### train_A_over --> train_C_over ###"
   ]
  },
  {
   "cell_type": "code",
   "execution_count": 24,
   "metadata": {},
   "outputs": [
    {
     "data": {
      "text/html": [
       "<div>\n",
       "<style scoped>\n",
       "    .dataframe tbody tr th:only-of-type {\n",
       "        vertical-align: middle;\n",
       "    }\n",
       "\n",
       "    .dataframe tbody tr th {\n",
       "        vertical-align: top;\n",
       "    }\n",
       "\n",
       "    .dataframe thead th {\n",
       "        text-align: right;\n",
       "    }\n",
       "</style>\n",
       "<table border=\"1\" class=\"dataframe\">\n",
       "  <thead>\n",
       "    <tr style=\"text-align: right;\">\n",
       "      <th></th>\n",
       "      <th>AP</th>\n",
       "      <th>AP50</th>\n",
       "      <th>AP75</th>\n",
       "      <th>APs</th>\n",
       "      <th>APm</th>\n",
       "      <th>APl</th>\n",
       "      <th>AR@1</th>\n",
       "      <th>AR@10</th>\n",
       "      <th>AR</th>\n",
       "      <th>ARs</th>\n",
       "      <th>ARm</th>\n",
       "      <th>ARl</th>\n",
       "      <th>Comparison</th>\n",
       "    </tr>\n",
       "  </thead>\n",
       "  <tbody>\n",
       "    <tr>\n",
       "      <th>0</th>\n",
       "      <td>0.023756</td>\n",
       "      <td>0.052573</td>\n",
       "      <td>0.022321</td>\n",
       "      <td>0.010653</td>\n",
       "      <td>0.041406</td>\n",
       "      <td>0.032449</td>\n",
       "      <td>0.006616</td>\n",
       "      <td>0.023149</td>\n",
       "      <td>0.023978</td>\n",
       "      <td>0.019731</td>\n",
       "      <td>0.033965</td>\n",
       "      <td>0.018536</td>\n",
       "      <td>A to C</td>\n",
       "    </tr>\n",
       "  </tbody>\n",
       "</table>\n",
       "</div>"
      ],
      "text/plain": [
       "         AP      AP50      AP75       APs       APm       APl      AR@1  \\\n",
       "0  0.023756  0.052573  0.022321  0.010653  0.041406  0.032449  0.006616   \n",
       "\n",
       "      AR@10        AR       ARs       ARm       ARl Comparison  \n",
       "0  0.023149  0.023978  0.019731  0.033965  0.018536     A to C  "
      ]
     },
     "execution_count": 24,
     "metadata": {},
     "output_type": "execute_result"
    }
   ],
   "source": [
    "df_train_A_over_TO_train_C_over = df_train_C_over_best_val_per_metric - df_train_A_over_best_val_per_metric\n",
    "df_train_A_over_TO_train_C_over[\"Comparison\"] = \"A to C\"\n",
    "df_train_A_over_TO_train_C_over.head(1)"
   ]
  },
  {
   "cell_type": "markdown",
   "metadata": {},
   "source": [
    "### train_A_over --> train_A_over_ganaug_025 ###"
   ]
  },
  {
   "cell_type": "code",
   "execution_count": 25,
   "metadata": {},
   "outputs": [
    {
     "data": {
      "text/html": [
       "<div>\n",
       "<style scoped>\n",
       "    .dataframe tbody tr th:only-of-type {\n",
       "        vertical-align: middle;\n",
       "    }\n",
       "\n",
       "    .dataframe tbody tr th {\n",
       "        vertical-align: top;\n",
       "    }\n",
       "\n",
       "    .dataframe thead th {\n",
       "        text-align: right;\n",
       "    }\n",
       "</style>\n",
       "<table border=\"1\" class=\"dataframe\">\n",
       "  <thead>\n",
       "    <tr style=\"text-align: right;\">\n",
       "      <th></th>\n",
       "      <th>AP</th>\n",
       "      <th>AP50</th>\n",
       "      <th>AP75</th>\n",
       "      <th>APs</th>\n",
       "      <th>APm</th>\n",
       "      <th>APl</th>\n",
       "      <th>AR@1</th>\n",
       "      <th>AR@10</th>\n",
       "      <th>AR</th>\n",
       "      <th>ARs</th>\n",
       "      <th>ARm</th>\n",
       "      <th>ARl</th>\n",
       "      <th>Comparison</th>\n",
       "    </tr>\n",
       "  </thead>\n",
       "  <tbody>\n",
       "    <tr>\n",
       "      <th>0</th>\n",
       "      <td>-0.013864</td>\n",
       "      <td>-0.044746</td>\n",
       "      <td>-0.005676</td>\n",
       "      <td>-0.020433</td>\n",
       "      <td>0.003941</td>\n",
       "      <td>0.023725</td>\n",
       "      <td>-0.005868</td>\n",
       "      <td>-0.013613</td>\n",
       "      <td>-0.007555</td>\n",
       "      <td>-0.020726</td>\n",
       "      <td>0.01892</td>\n",
       "      <td>0.027063</td>\n",
       "      <td>A to A25</td>\n",
       "    </tr>\n",
       "  </tbody>\n",
       "</table>\n",
       "</div>"
      ],
      "text/plain": [
       "         AP      AP50      AP75       APs       APm       APl      AR@1  \\\n",
       "0 -0.013864 -0.044746 -0.005676 -0.020433  0.003941  0.023725 -0.005868   \n",
       "\n",
       "      AR@10        AR       ARs      ARm       ARl Comparison  \n",
       "0 -0.013613 -0.007555 -0.020726  0.01892  0.027063   A to A25  "
      ]
     },
     "execution_count": 25,
     "metadata": {},
     "output_type": "execute_result"
    }
   ],
   "source": [
    "df_train_A_over_TO_train_A_over_ganaug_025 = df_train_A_over_ganaug_025_best_val_per_metric - df_train_A_over_best_val_per_metric\n",
    "df_train_A_over_TO_train_A_over_ganaug_025[\"Comparison\"] = \"A to A25\"\n",
    "df_train_A_over_TO_train_A_over_ganaug_025.head(1)"
   ]
  },
  {
   "cell_type": "markdown",
   "metadata": {},
   "source": [
    "### train_A_over --> train_A_over_ganaug_050 ###"
   ]
  },
  {
   "cell_type": "code",
   "execution_count": 26,
   "metadata": {},
   "outputs": [
    {
     "data": {
      "text/html": [
       "<div>\n",
       "<style scoped>\n",
       "    .dataframe tbody tr th:only-of-type {\n",
       "        vertical-align: middle;\n",
       "    }\n",
       "\n",
       "    .dataframe tbody tr th {\n",
       "        vertical-align: top;\n",
       "    }\n",
       "\n",
       "    .dataframe thead th {\n",
       "        text-align: right;\n",
       "    }\n",
       "</style>\n",
       "<table border=\"1\" class=\"dataframe\">\n",
       "  <thead>\n",
       "    <tr style=\"text-align: right;\">\n",
       "      <th></th>\n",
       "      <th>AP</th>\n",
       "      <th>AP50</th>\n",
       "      <th>AP75</th>\n",
       "      <th>APs</th>\n",
       "      <th>APm</th>\n",
       "      <th>APl</th>\n",
       "      <th>AR@1</th>\n",
       "      <th>AR@10</th>\n",
       "      <th>AR</th>\n",
       "      <th>ARs</th>\n",
       "      <th>ARm</th>\n",
       "      <th>ARl</th>\n",
       "      <th>Comparison</th>\n",
       "    </tr>\n",
       "  </thead>\n",
       "  <tbody>\n",
       "    <tr>\n",
       "      <th>0</th>\n",
       "      <td>-0.017866</td>\n",
       "      <td>-0.057774</td>\n",
       "      <td>-0.005969</td>\n",
       "      <td>-0.022119</td>\n",
       "      <td>-0.01123</td>\n",
       "      <td>0.032664</td>\n",
       "      <td>-0.004604</td>\n",
       "      <td>-0.018625</td>\n",
       "      <td>-0.016113</td>\n",
       "      <td>-0.01866</td>\n",
       "      <td>-0.015095</td>\n",
       "      <td>0.012288</td>\n",
       "      <td>A to A50</td>\n",
       "    </tr>\n",
       "  </tbody>\n",
       "</table>\n",
       "</div>"
      ],
      "text/plain": [
       "         AP      AP50      AP75       APs      APm       APl      AR@1  \\\n",
       "0 -0.017866 -0.057774 -0.005969 -0.022119 -0.01123  0.032664 -0.004604   \n",
       "\n",
       "      AR@10        AR      ARs       ARm       ARl Comparison  \n",
       "0 -0.018625 -0.016113 -0.01866 -0.015095  0.012288   A to A50  "
      ]
     },
     "execution_count": 26,
     "metadata": {},
     "output_type": "execute_result"
    }
   ],
   "source": [
    "df_train_A_over_TO_train_A_over_ganaug_050 = df_train_A_over_ganaug_050_best_val_per_metric - df_train_A_over_best_val_per_metric\n",
    "df_train_A_over_TO_train_A_over_ganaug_050[\"Comparison\"] = \"A to A50\"\n",
    "df_train_A_over_TO_train_A_over_ganaug_050.head(1)"
   ]
  },
  {
   "cell_type": "markdown",
   "metadata": {},
   "source": [
    "### train_A_over_ganaug_050_augonlyasbase --> train_A_over_ganaug_025 ###"
   ]
  },
  {
   "cell_type": "code",
   "execution_count": 27,
   "metadata": {},
   "outputs": [
    {
     "data": {
      "text/html": [
       "<div>\n",
       "<style scoped>\n",
       "    .dataframe tbody tr th:only-of-type {\n",
       "        vertical-align: middle;\n",
       "    }\n",
       "\n",
       "    .dataframe tbody tr th {\n",
       "        vertical-align: top;\n",
       "    }\n",
       "\n",
       "    .dataframe thead th {\n",
       "        text-align: right;\n",
       "    }\n",
       "</style>\n",
       "<table border=\"1\" class=\"dataframe\">\n",
       "  <thead>\n",
       "    <tr style=\"text-align: right;\">\n",
       "      <th></th>\n",
       "      <th>AP</th>\n",
       "      <th>AP50</th>\n",
       "      <th>AP75</th>\n",
       "      <th>APs</th>\n",
       "      <th>APm</th>\n",
       "      <th>APl</th>\n",
       "      <th>AR@1</th>\n",
       "      <th>AR@10</th>\n",
       "      <th>AR</th>\n",
       "      <th>ARs</th>\n",
       "      <th>ARm</th>\n",
       "      <th>ARl</th>\n",
       "      <th>Comparison</th>\n",
       "    </tr>\n",
       "  </thead>\n",
       "  <tbody>\n",
       "    <tr>\n",
       "      <th>0</th>\n",
       "      <td>0.014912</td>\n",
       "      <td>0.016223</td>\n",
       "      <td>0.019025</td>\n",
       "      <td>0.006572</td>\n",
       "      <td>0.030365</td>\n",
       "      <td>0.063136</td>\n",
       "      <td>-0.000634</td>\n",
       "      <td>0.016451</td>\n",
       "      <td>0.022659</td>\n",
       "      <td>0.009856</td>\n",
       "      <td>0.048452</td>\n",
       "      <td>0.081969</td>\n",
       "      <td>A50aoab to A25</td>\n",
       "    </tr>\n",
       "  </tbody>\n",
       "</table>\n",
       "</div>"
      ],
      "text/plain": [
       "         AP      AP50      AP75       APs       APm       APl      AR@1  \\\n",
       "0  0.014912  0.016223  0.019025  0.006572  0.030365  0.063136 -0.000634   \n",
       "\n",
       "      AR@10        AR       ARs       ARm       ARl      Comparison  \n",
       "0  0.016451  0.022659  0.009856  0.048452  0.081969  A50aoab to A25  "
      ]
     },
     "execution_count": 27,
     "metadata": {},
     "output_type": "execute_result"
    }
   ],
   "source": [
    "df_train_A_over_ganaug_050_augonlyasbase_TO_train_A_over_ganaug_025 = df_train_A_over_ganaug_025_best_val_per_metric - df_train_A_over_ganaug_050_augonlyasbase_best_val_per_metric\n",
    "df_train_A_over_ganaug_050_augonlyasbase_TO_train_A_over_ganaug_025[\"Comparison\"] = \"A50aoab to A25\"\n",
    "df_train_A_over_ganaug_050_augonlyasbase_TO_train_A_over_ganaug_025.head(1)"
   ]
  },
  {
   "cell_type": "markdown",
   "metadata": {},
   "source": [
    "### train_A_over_ganaug_050_augonlyasbase --> train_A_over_ganaug_050 ###"
   ]
  },
  {
   "cell_type": "code",
   "execution_count": 28,
   "metadata": {},
   "outputs": [
    {
     "data": {
      "text/html": [
       "<div>\n",
       "<style scoped>\n",
       "    .dataframe tbody tr th:only-of-type {\n",
       "        vertical-align: middle;\n",
       "    }\n",
       "\n",
       "    .dataframe tbody tr th {\n",
       "        vertical-align: top;\n",
       "    }\n",
       "\n",
       "    .dataframe thead th {\n",
       "        text-align: right;\n",
       "    }\n",
       "</style>\n",
       "<table border=\"1\" class=\"dataframe\">\n",
       "  <thead>\n",
       "    <tr style=\"text-align: right;\">\n",
       "      <th></th>\n",
       "      <th>AP</th>\n",
       "      <th>AP50</th>\n",
       "      <th>AP75</th>\n",
       "      <th>APs</th>\n",
       "      <th>APm</th>\n",
       "      <th>APl</th>\n",
       "      <th>AR@1</th>\n",
       "      <th>AR@10</th>\n",
       "      <th>AR</th>\n",
       "      <th>ARs</th>\n",
       "      <th>ARm</th>\n",
       "      <th>ARl</th>\n",
       "      <th>Comparison</th>\n",
       "    </tr>\n",
       "  </thead>\n",
       "  <tbody>\n",
       "    <tr>\n",
       "      <th>0</th>\n",
       "      <td>0.01091</td>\n",
       "      <td>0.003195</td>\n",
       "      <td>0.018731</td>\n",
       "      <td>0.004887</td>\n",
       "      <td>0.015194</td>\n",
       "      <td>0.072075</td>\n",
       "      <td>0.00063</td>\n",
       "      <td>0.011439</td>\n",
       "      <td>0.014102</td>\n",
       "      <td>0.011922</td>\n",
       "      <td>0.014437</td>\n",
       "      <td>0.067193</td>\n",
       "      <td>A50aoab to A50</td>\n",
       "    </tr>\n",
       "  </tbody>\n",
       "</table>\n",
       "</div>"
      ],
      "text/plain": [
       "        AP      AP50      AP75       APs       APm       APl     AR@1  \\\n",
       "0  0.01091  0.003195  0.018731  0.004887  0.015194  0.072075  0.00063   \n",
       "\n",
       "      AR@10        AR       ARs       ARm       ARl      Comparison  \n",
       "0  0.011439  0.014102  0.011922  0.014437  0.067193  A50aoab to A50  "
      ]
     },
     "execution_count": 28,
     "metadata": {},
     "output_type": "execute_result"
    }
   ],
   "source": [
    "df_train_A_over_ganaug_050_augonlyasbase_TO_train_A_over_ganaug_050 = df_train_A_over_ganaug_050_best_val_per_metric - df_train_A_over_ganaug_050_augonlyasbase_best_val_per_metric\n",
    "df_train_A_over_ganaug_050_augonlyasbase_TO_train_A_over_ganaug_050[\"Comparison\"] = \"A50aoab to A50\"\n",
    "df_train_A_over_ganaug_050_augonlyasbase_TO_train_A_over_ganaug_050.head(1)"
   ]
  },
  {
   "cell_type": "markdown",
   "metadata": {},
   "source": [
    "## Combine ##"
   ]
  },
  {
   "cell_type": "code",
   "execution_count": 29,
   "metadata": {},
   "outputs": [],
   "source": [
    "df_combined = pd.concat([df_train_A_over_TO_train_B_over, df_train_A_over_TO_train_C_over, df_train_A_over_TO_train_A_over_ganaug_025, df_train_A_over_TO_train_A_over_ganaug_050, df_train_A_over_ganaug_050_augonlyasbase_TO_train_A_over_ganaug_025, df_train_A_over_ganaug_050_augonlyasbase_TO_train_A_over_ganaug_050], axis = 0)"
   ]
  },
  {
   "cell_type": "code",
   "execution_count": 30,
   "metadata": {},
   "outputs": [
    {
     "data": {
      "text/html": [
       "<div>\n",
       "<style scoped>\n",
       "    .dataframe tbody tr th:only-of-type {\n",
       "        vertical-align: middle;\n",
       "    }\n",
       "\n",
       "    .dataframe tbody tr th {\n",
       "        vertical-align: top;\n",
       "    }\n",
       "\n",
       "    .dataframe thead th {\n",
       "        text-align: right;\n",
       "    }\n",
       "</style>\n",
       "<table border=\"1\" class=\"dataframe\">\n",
       "  <thead>\n",
       "    <tr style=\"text-align: right;\">\n",
       "      <th></th>\n",
       "      <th>AP</th>\n",
       "      <th>AP50</th>\n",
       "      <th>AP75</th>\n",
       "      <th>APs</th>\n",
       "      <th>APm</th>\n",
       "      <th>APl</th>\n",
       "      <th>AR@1</th>\n",
       "      <th>AR@10</th>\n",
       "      <th>AR</th>\n",
       "      <th>ARs</th>\n",
       "      <th>ARm</th>\n",
       "      <th>ARl</th>\n",
       "    </tr>\n",
       "    <tr>\n",
       "      <th>Comparison</th>\n",
       "      <th></th>\n",
       "      <th></th>\n",
       "      <th></th>\n",
       "      <th></th>\n",
       "      <th></th>\n",
       "      <th></th>\n",
       "      <th></th>\n",
       "      <th></th>\n",
       "      <th></th>\n",
       "      <th></th>\n",
       "      <th></th>\n",
       "      <th></th>\n",
       "    </tr>\n",
       "  </thead>\n",
       "  <tbody>\n",
       "    <tr>\n",
       "      <th>A to B</th>\n",
       "      <td>0.019684</td>\n",
       "      <td>0.040122</td>\n",
       "      <td>0.01689</td>\n",
       "      <td>0.010301</td>\n",
       "      <td>0.02912</td>\n",
       "      <td>0.047002</td>\n",
       "      <td>0.004434</td>\n",
       "      <td>0.017192</td>\n",
       "      <td>0.018318</td>\n",
       "      <td>0.013408</td>\n",
       "      <td>0.02415</td>\n",
       "      <td>0.017292</td>\n",
       "    </tr>\n",
       "  </tbody>\n",
       "</table>\n",
       "</div>"
      ],
      "text/plain": [
       "                  AP      AP50     AP75       APs      APm       APl  \\\n",
       "Comparison                                                             \n",
       "A to B      0.019684  0.040122  0.01689  0.010301  0.02912  0.047002   \n",
       "\n",
       "                AR@1     AR@10        AR       ARs      ARm       ARl  \n",
       "Comparison                                                             \n",
       "A to B      0.004434  0.017192  0.018318  0.013408  0.02415  0.017292  "
      ]
     },
     "execution_count": 30,
     "metadata": {},
     "output_type": "execute_result"
    }
   ],
   "source": [
    "df_combined = df_combined.set_index(\"Comparison\")\n",
    "df_combined.head(1)"
   ]
  },
  {
   "cell_type": "code",
   "execution_count": 31,
   "metadata": {},
   "outputs": [
    {
     "data": {
      "text/plain": [
       "Text(0, 0.5, 'Absolute change in score')"
      ]
     },
     "execution_count": 31,
     "metadata": {},
     "output_type": "execute_result"
    },
    {
     "data": {
      "image/png": "[encoded data removed]",
      "text/plain": [
       "<Figure size 1152x648 with 1 Axes>"
      ]
     },
     "metadata": {
      "needs_background": "light"
     },
     "output_type": "display_data"
    }
   ],
   "source": [
    "ax = df_combined.plot(kind = \"bar\", figsize = (16, 9))\n",
    "ax.set_xlabel(\"\")\n",
    "ax.set_ylabel(\"Absolute change in score\")"
   ]
  },
  {
   "cell_type": "code",
   "execution_count": 32,
   "metadata": {},
   "outputs": [
    {
     "data": {
      "text/html": [
       "<script type=\"text/javascript\">window.PlotlyConfig = {MathJaxConfig: 'local'};</script><script type=\"text/javascript\">if (window.MathJax) {MathJax.Hub.Config({SVG: {font: \"STIX-Web\"}});}</script><script>requirejs.config({paths: { 'plotly': ['https://cdn.plot.ly/plotly-latest.min']},});if(!window._Plotly) {require(['plotly'],function(plotly) {window._Plotly=plotly;});}</script>"
      ],
      "text/vnd.plotly.v1+html": [
       "<script type=\"text/javascript\">window.PlotlyConfig = {MathJaxConfig: 'local'};</script><script type=\"text/javascript\">if (window.MathJax) {MathJax.Hub.Config({SVG: {font: \"STIX-Web\"}});}</script><script>requirejs.config({paths: { 'plotly': ['https://cdn.plot.ly/plotly-latest.min']},});if(!window._Plotly) {require(['plotly'],function(plotly) {window._Plotly=plotly;});}</script>"
      ]
     },
     "metadata": {},
     "output_type": "display_data"
    },
    {
     "data": {
      "application/vnd.plotly.v1+json": {
       "config": {
        "displaylogo": false,
        "linkText": "Export to plot.ly",
        "modeBarButtonsToRemove": [
         "sendDataToCloud"
        ],
        "plotlyServerURL": "https://plot.ly",
        "showLink": false
       },
       "data": [
        {
         "marker": {
          "color": "rgba(255, 153, 51, 0.6)",
          "line": {
           "color": "rgba(255, 153, 51, 1.0)",
           "width": 1
          }
         },
         "name": "AP",
         "orientation": "v",
         "text": "",
         "type": "bar",
         "uid": "f8c19e1f-3a39-4be4-ba55-ff97aef933ea",
         "x": [
          "A to B",
          "A to C",
          "A to A25",
          "A to A50",
          "A50aoab to A25",
          "A50aoab to A50"
         ],
         "y": [
          0.01968409257929754,
          0.023756377055759864,
          -0.013863852401077625,
          -0.017865524654154863,
          0.014911656544718044,
          0.010909984291640806
         ]
        },
        {
         "marker": {
          "color": "rgba(55, 128, 191, 0.6)",
          "line": {
           "color": "rgba(55, 128, 191, 1.0)",
           "width": 1
          }
         },
         "name": "AP50",
         "orientation": "v",
         "text": "",
         "type": "bar",
         "uid": "027d3fec-07fc-455a-86da-e4861007184b",
         "x": [
          "A to B",
          "A to C",
          "A to A25",
          "A to A50",
          "A50aoab to A25",
          "A50aoab to A50"
         ],
         "y": [
          0.040122420803108017,
          0.05257255051705678,
          -0.04474574742135279,
          -0.05777374438056598,
          0.01622292764007277,
          0.0031949306808595757
         ]
        },
        {
         "marker": {
          "color": "rgba(50, 171, 96, 0.6)",
          "line": {
           "color": "rgba(50, 171, 96, 1.0)",
           "width": 1
          }
         },
         "name": "AP75",
         "orientation": "v",
         "text": "",
         "type": "bar",
         "uid": "e6bf7c43-4973-4caa-beac-83f99ec2c728",
         "x": [
          "A to B",
          "A to C",
          "A to A25",
          "A to A50",
          "A50aoab to A25",
          "A50aoab to A50"
         ],
         "y": [
          0.016889578909905112,
          0.022321072704755723,
          -0.005675950020122583,
          -0.005969179096788402,
          0.019024515670061415,
          0.018731286593395596
         ]
        },
        {
         "marker": {
          "color": "rgba(128, 0, 128, 0.6)",
          "line": {
           "color": "rgba(128, 0, 128, 1.0)",
           "width": 1
          }
         },
         "name": "APs",
         "orientation": "v",
         "text": "",
         "type": "bar",
         "uid": "d022a39d-3252-463e-a28a-15836c887a52",
         "x": [
          "A to B",
          "A to C",
          "A to A25",
          "A to A50",
          "A50aoab to A25",
          "A50aoab to A50"
         ],
         "y": [
          0.010300939258908126,
          0.010653467945845124,
          -0.02043294373580594,
          -0.0221185233070621,
          0.006572092658632844,
          0.004886513087376684
         ]
        },
        {
         "marker": {
          "color": "rgba(219, 64, 82, 0.6)",
          "line": {
           "color": "rgba(219, 64, 82, 1.0)",
           "width": 1
          }
         },
         "name": "APm",
         "orientation": "v",
         "text": "",
         "type": "bar",
         "uid": "10162187-cce0-489d-b5e9-b5d92dcbae6d",
         "x": [
          "A to B",
          "A to C",
          "A to A25",
          "A to A50",
          "A50aoab to A25",
          "A50aoab to A50"
         ],
         "y": [
          0.029119986048596835,
          0.041406448322992506,
          0.003940987715721378,
          -0.011230091238593198,
          0.030365005559298774,
          0.015193926604984198
         ]
        },
        {
         "marker": {
          "color": "rgba(0, 128, 128, 0.6)",
          "line": {
           "color": "rgba(0, 128, 128, 1.0)",
           "width": 1
          }
         },
         "name": "APl",
         "orientation": "v",
         "text": "",
         "type": "bar",
         "uid": "a8b60a70-7835-4782-ab2f-b1f7124eb43a",
         "x": [
          "A to B",
          "A to C",
          "A to A25",
          "A to A50",
          "A50aoab to A25",
          "A50aoab to A50"
         ],
         "y": [
          0.04700154784117294,
          0.03244945699979801,
          0.023725276566502418,
          0.032663923678519335,
          0.06313617430218604,
          0.07207482141420296
         ]
        },
        {
         "marker": {
          "color": "rgba(255, 255, 51, 0.6)",
          "line": {
           "color": "rgba(255, 255, 51, 1.0)",
           "width": 1
          }
         },
         "name": "AR@1",
         "orientation": "v",
         "text": "",
         "type": "bar",
         "uid": "6026de46-1aea-49af-a91d-163188c25df6",
         "x": [
          "A to B",
          "A to C",
          "A to A25",
          "A to A50",
          "A50aoab to A25",
          "A50aoab to A50"
         ],
         "y": [
          0.004434225217029131,
          0.006615793222306474,
          -0.005867681429998189,
          -0.004603634415469418,
          -0.0006339082304532284,
          0.0006301387840755429
         ]
        },
        {
         "marker": {
          "color": "rgba(128, 128, 0, 0.6)",
          "line": {
           "color": "rgba(128, 128, 0, 1.0)",
           "width": 1
          }
         },
         "name": "AR@10",
         "orientation": "v",
         "text": "",
         "type": "bar",
         "uid": "5095ed0d-e094-4fda-8cbf-749e214103fc",
         "x": [
          "A to B",
          "A to C",
          "A to A25",
          "A to A50",
          "A50aoab to A25",
          "A50aoab to A50"
         ],
         "y": [
          0.01719213789681262,
          0.023149192668601992,
          -0.013612982335118429,
          -0.018624708420556912,
          0.016450691764900494,
          0.01143896567946201
         ]
        },
        {
         "marker": {
          "color": "rgba(251, 128, 114, 0.6)",
          "line": {
           "color": "rgba(251, 128, 114, 1.0)",
           "width": 1
          }
         },
         "name": "AR",
         "orientation": "v",
         "text": "",
         "type": "bar",
         "uid": "397857f2-6976-4a68-a498-b0f0b98a03a0",
         "x": [
          "A to B",
          "A to C",
          "A to A25",
          "A to A50",
          "A50aoab to A25",
          "A50aoab to A50"
         ],
         "y": [
          0.01831836168671669,
          0.023978291322600598,
          -0.007555174957999233,
          -0.01611265853555005,
          0.022659145478412412,
          0.014101661900861595
         ]
        },
        {
         "marker": {
          "color": "rgba(128, 177, 211, 0.6)",
          "line": {
           "color": "rgba(128, 177, 211, 1.0)",
           "width": 1
          }
         },
         "name": "ARs",
         "orientation": "v",
         "text": "",
         "type": "bar",
         "uid": "b1cc2458-453f-4897-89c8-a242929dc14a",
         "x": [
          "A to B",
          "A to C",
          "A to A25",
          "A to A50",
          "A50aoab to A25",
          "A50aoab to A50"
         ],
         "y": [
          0.013407688790891492,
          0.019731088139482766,
          -0.020725966770780868,
          -0.018659613898627664,
          0.009855915228230594,
          0.011922268100383798
         ]
        },
        {
         "marker": {
          "color": "rgba(128, 177, 211, 0.6)",
          "line": {
           "color": "rgba(128, 177, 211, 0.8999999999999999)",
           "width": 1
          }
         },
         "name": "ARm",
         "orientation": "v",
         "text": "",
         "type": "bar",
         "uid": "43c46a67-e9c9-40a2-8581-e319e1cfb9a6",
         "x": [
          "A to B",
          "A to C",
          "A to A25",
          "A to A50",
          "A50aoab to A25",
          "A50aoab to A50"
         ],
         "y": [
          0.024149509727297624,
          0.03396455716358088,
          0.018919854620785825,
          -0.015095216849705384,
          0.048451598201567025,
          0.014436526731075816
         ]
        },
        {
         "marker": {
          "color": "rgba(255, 153, 51, 0.6)",
          "line": {
           "color": "rgba(255, 153, 51, 0.8999999999999999)",
           "width": 1
          }
         },
         "name": "ARl",
         "orientation": "v",
         "text": "",
         "type": "bar",
         "uid": "a43652e1-0934-44dc-9940-d3b23f67d140",
         "x": [
          "A to B",
          "A to C",
          "A to A25",
          "A to A50",
          "A50aoab to A25",
          "A50aoab to A50"
         ],
         "y": [
          0.0172917901307732,
          0.01853571569673268,
          0.027063381533720565,
          0.012287888665007296,
          0.0819685117142745,
          0.06719301884556123
         ]
        }
       ],
       "layout": {
        "height": 540,
        "title": {
         "text": "Impact of GAN-based augmentation"
        },
        "width": 960,
        "yaxis": {
         "title": {
          "text": "Absolute change in score"
         }
        }
       }
      },
      "text/html": [
       "<div id=\"3c543770-f932-4ce7-9fae-cc680a413f8b\" style=\"height: 540px; width: 960px;\" class=\"plotly-graph-div\"></div><script type=\"text/javascript\">require([\"plotly\"], function(Plotly) { window.PLOTLYENV=window.PLOTLYENV || {};window.PLOTLYENV.BASE_URL=\"https://plot.ly\";\n",
       "if (document.getElementById(\"3c543770-f932-4ce7-9fae-cc680a413f8b\")) {\n",
       "    Plotly.newPlot(\"3c543770-f932-4ce7-9fae-cc680a413f8b\", [{\"marker\": {\"color\": \"rgba(255, 153, 51, 0.6)\", \"line\": {\"color\": \"rgba(255, 153, 51, 1.0)\", \"width\": 1}}, \"name\": \"AP\", \"orientation\": \"v\", \"text\": \"\", \"x\": [\"A to B\", \"A to C\", \"A to A25\", \"A to A50\", \"A50aoab to A25\", \"A50aoab to A50\"], \"y\": [0.01968409257929754, 0.023756377055759864, -0.013863852401077625, -0.017865524654154863, 0.014911656544718044, 0.010909984291640806], \"type\": \"bar\", \"uid\": \"f8c19e1f-3a39-4be4-ba55-ff97aef933ea\"}, {\"marker\": {\"color\": \"rgba(55, 128, 191, 0.6)\", \"line\": {\"color\": \"rgba(55, 128, 191, 1.0)\", \"width\": 1}}, \"name\": \"AP50\", \"orientation\": \"v\", \"text\": \"\", \"x\": [\"A to B\", \"A to C\", \"A to A25\", \"A to A50\", \"A50aoab to A25\", \"A50aoab to A50\"], \"y\": [0.040122420803108017, 0.05257255051705678, -0.04474574742135279, -0.05777374438056598, 0.01622292764007277, 0.0031949306808595757], \"type\": \"bar\", \"uid\": \"027d3fec-07fc-455a-86da-e4861007184b\"}, {\"marker\": {\"color\": \"rgba(50, 171, 96, 0.6)\", \"line\": {\"color\": \"rgba(50, 171, 96, 1.0)\", \"width\": 1}}, \"name\": \"AP75\", \"orientation\": \"v\", \"text\": \"\", \"x\": [\"A to B\", \"A to C\", \"A to A25\", \"A to A50\", \"A50aoab to A25\", \"A50aoab to A50\"], \"y\": [0.016889578909905112, 0.022321072704755723, -0.005675950020122583, -0.005969179096788402, 0.019024515670061415, 0.018731286593395596], \"type\": \"bar\", \"uid\": \"e6bf7c43-4973-4caa-beac-83f99ec2c728\"}, {\"marker\": {\"color\": \"rgba(128, 0, 128, 0.6)\", \"line\": {\"color\": \"rgba(128, 0, 128, 1.0)\", \"width\": 1}}, \"name\": \"APs\", \"orientation\": \"v\", \"text\": \"\", \"x\": [\"A to B\", \"A to C\", \"A to A25\", \"A to A50\", \"A50aoab to A25\", \"A50aoab to A50\"], \"y\": [0.010300939258908126, 0.010653467945845124, -0.02043294373580594, -0.0221185233070621, 0.006572092658632844, 0.004886513087376684], \"type\": \"bar\", \"uid\": \"d022a39d-3252-463e-a28a-15836c887a52\"}, {\"marker\": {\"color\": \"rgba(219, 64, 82, 0.6)\", \"line\": {\"color\": \"rgba(219, 64, 82, 1.0)\", \"width\": 1}}, \"name\": \"APm\", \"orientation\": \"v\", \"text\": \"\", \"x\": [\"A to B\", \"A to C\", \"A to A25\", \"A to A50\", \"A50aoab to A25\", \"A50aoab to A50\"], \"y\": [0.029119986048596835, 0.041406448322992506, 0.003940987715721378, -0.011230091238593198, 0.030365005559298774, 0.015193926604984198], \"type\": \"bar\", \"uid\": \"10162187-cce0-489d-b5e9-b5d92dcbae6d\"}, {\"marker\": {\"color\": \"rgba(0, 128, 128, 0.6)\", \"line\": {\"color\": \"rgba(0, 128, 128, 1.0)\", \"width\": 1}}, \"name\": \"APl\", \"orientation\": \"v\", \"text\": \"\", \"x\": [\"A to B\", \"A to C\", \"A to A25\", \"A to A50\", \"A50aoab to A25\", \"A50aoab to A50\"], \"y\": [0.04700154784117294, 0.03244945699979801, 0.023725276566502418, 0.032663923678519335, 0.06313617430218604, 0.07207482141420296], \"type\": \"bar\", \"uid\": \"a8b60a70-7835-4782-ab2f-b1f7124eb43a\"}, {\"marker\": {\"color\": \"rgba(255, 255, 51, 0.6)\", \"line\": {\"color\": \"rgba(255, 255, 51, 1.0)\", \"width\": 1}}, \"name\": \"AR@1\", \"orientation\": \"v\", \"text\": \"\", \"x\": [\"A to B\", \"A to C\", \"A to A25\", \"A to A50\", \"A50aoab to A25\", \"A50aoab to A50\"], \"y\": [0.004434225217029131, 0.006615793222306474, -0.005867681429998189, -0.004603634415469418, -0.0006339082304532284, 0.0006301387840755429], \"type\": \"bar\", \"uid\": \"6026de46-1aea-49af-a91d-163188c25df6\"}, {\"marker\": {\"color\": \"rgba(128, 128, 0, 0.6)\", \"line\": {\"color\": \"rgba(128, 128, 0, 1.0)\", \"width\": 1}}, \"name\": \"AR@10\", \"orientation\": \"v\", \"text\": \"\", \"x\": [\"A to B\", \"A to C\", \"A to A25\", \"A to A50\", \"A50aoab to A25\", \"A50aoab to A50\"], \"y\": [0.01719213789681262, 0.023149192668601992, -0.013612982335118429, -0.018624708420556912, 0.016450691764900494, 0.01143896567946201], \"type\": \"bar\", \"uid\": \"5095ed0d-e094-4fda-8cbf-749e214103fc\"}, {\"marker\": {\"color\": \"rgba(251, 128, 114, 0.6)\", \"line\": {\"color\": \"rgba(251, 128, 114, 1.0)\", \"width\": 1}}, \"name\": \"AR\", \"orientation\": \"v\", \"text\": \"\", \"x\": [\"A to B\", \"A to C\", \"A to A25\", \"A to A50\", \"A50aoab to A25\", \"A50aoab to A50\"], \"y\": [0.01831836168671669, 0.023978291322600598, -0.007555174957999233, -0.01611265853555005, 0.022659145478412412, 0.014101661900861595], \"type\": \"bar\", \"uid\": \"397857f2-6976-4a68-a498-b0f0b98a03a0\"}, {\"marker\": {\"color\": \"rgba(128, 177, 211, 0.6)\", \"line\": {\"color\": \"rgba(128, 177, 211, 1.0)\", \"width\": 1}}, \"name\": \"ARs\", \"orientation\": \"v\", \"text\": \"\", \"x\": [\"A to B\", \"A to C\", \"A to A25\", \"A to A50\", \"A50aoab to A25\", \"A50aoab to A50\"], \"y\": [0.013407688790891492, 0.019731088139482766, -0.020725966770780868, -0.018659613898627664, 0.009855915228230594, 0.011922268100383798], \"type\": \"bar\", \"uid\": \"b1cc2458-453f-4897-89c8-a242929dc14a\"}, {\"marker\": {\"color\": \"rgba(128, 177, 211, 0.6)\", \"line\": {\"color\": \"rgba(128, 177, 211, 0.8999999999999999)\", \"width\": 1}}, \"name\": \"ARm\", \"orientation\": \"v\", \"text\": \"\", \"x\": [\"A to B\", \"A to C\", \"A to A25\", \"A to A50\", \"A50aoab to A25\", \"A50aoab to A50\"], \"y\": [0.024149509727297624, 0.03396455716358088, 0.018919854620785825, -0.015095216849705384, 0.048451598201567025, 0.014436526731075816], \"type\": \"bar\", \"uid\": \"43c46a67-e9c9-40a2-8581-e319e1cfb9a6\"}, {\"marker\": {\"color\": \"rgba(255, 153, 51, 0.6)\", \"line\": {\"color\": \"rgba(255, 153, 51, 0.8999999999999999)\", \"width\": 1}}, \"name\": \"ARl\", \"orientation\": \"v\", \"text\": \"\", \"x\": [\"A to B\", \"A to C\", \"A to A25\", \"A to A50\", \"A50aoab to A25\", \"A50aoab to A50\"], \"y\": [0.0172917901307732, 0.01853571569673268, 0.027063381533720565, 0.012287888665007296, 0.0819685117142745, 0.06719301884556123], \"type\": \"bar\", \"uid\": \"a43652e1-0934-44dc-9940-d3b23f67d140\"}], {\"height\": 540, \"title\": {\"text\": \"Impact of GAN-based augmentation\"}, \"width\": 960, \"yaxis\": {\"title\": {\"text\": \"Absolute change in score\"}}}, {\"modeBarButtonsToRemove\": [\"sendDataToCloud\"], \"displaylogo\": false, \"showLink\": false, \"linkText\": \"Export to plot.ly\", \"plotlyServerURL\": \"https://plot.ly\"}); \n",
       "}\n",
       "});</script>"
      ],
      "text/vnd.plotly.v1+html": [
       "<div id=\"3c543770-f932-4ce7-9fae-cc680a413f8b\" style=\"height: 540px; width: 960px;\" class=\"plotly-graph-div\"></div><script type=\"text/javascript\">require([\"plotly\"], function(Plotly) { window.PLOTLYENV=window.PLOTLYENV || {};window.PLOTLYENV.BASE_URL=\"https://plot.ly\";\n",
       "if (document.getElementById(\"3c543770-f932-4ce7-9fae-cc680a413f8b\")) {\n",
       "    Plotly.newPlot(\"3c543770-f932-4ce7-9fae-cc680a413f8b\", [{\"marker\": {\"color\": \"rgba(255, 153, 51, 0.6)\", \"line\": {\"color\": \"rgba(255, 153, 51, 1.0)\", \"width\": 1}}, \"name\": \"AP\", \"orientation\": \"v\", \"text\": \"\", \"x\": [\"A to B\", \"A to C\", \"A to A25\", \"A to A50\", \"A50aoab to A25\", \"A50aoab to A50\"], \"y\": [0.01968409257929754, 0.023756377055759864, -0.013863852401077625, -0.017865524654154863, 0.014911656544718044, 0.010909984291640806], \"type\": \"bar\", \"uid\": \"f8c19e1f-3a39-4be4-ba55-ff97aef933ea\"}, {\"marker\": {\"color\": \"rgba(55, 128, 191, 0.6)\", \"line\": {\"color\": \"rgba(55, 128, 191, 1.0)\", \"width\": 1}}, \"name\": \"AP50\", \"orientation\": \"v\", \"text\": \"\", \"x\": [\"A to B\", \"A to C\", \"A to A25\", \"A to A50\", \"A50aoab to A25\", \"A50aoab to A50\"], \"y\": [0.040122420803108017, 0.05257255051705678, -0.04474574742135279, -0.05777374438056598, 0.01622292764007277, 0.0031949306808595757], \"type\": \"bar\", \"uid\": \"027d3fec-07fc-455a-86da-e4861007184b\"}, {\"marker\": {\"color\": \"rgba(50, 171, 96, 0.6)\", \"line\": {\"color\": \"rgba(50, 171, 96, 1.0)\", \"width\": 1}}, \"name\": \"AP75\", \"orientation\": \"v\", \"text\": \"\", \"x\": [\"A to B\", \"A to C\", \"A to A25\", \"A to A50\", \"A50aoab to A25\", \"A50aoab to A50\"], \"y\": [0.016889578909905112, 0.022321072704755723, -0.005675950020122583, -0.005969179096788402, 0.019024515670061415, 0.018731286593395596], \"type\": \"bar\", \"uid\": \"e6bf7c43-4973-4caa-beac-83f99ec2c728\"}, {\"marker\": {\"color\": \"rgba(128, 0, 128, 0.6)\", \"line\": {\"color\": \"rgba(128, 0, 128, 1.0)\", \"width\": 1}}, \"name\": \"APs\", \"orientation\": \"v\", \"text\": \"\", \"x\": [\"A to B\", \"A to C\", \"A to A25\", \"A to A50\", \"A50aoab to A25\", \"A50aoab to A50\"], \"y\": [0.010300939258908126, 0.010653467945845124, -0.02043294373580594, -0.0221185233070621, 0.006572092658632844, 0.004886513087376684], \"type\": \"bar\", \"uid\": \"d022a39d-3252-463e-a28a-15836c887a52\"}, {\"marker\": {\"color\": \"rgba(219, 64, 82, 0.6)\", \"line\": {\"color\": \"rgba(219, 64, 82, 1.0)\", \"width\": 1}}, \"name\": \"APm\", \"orientation\": \"v\", \"text\": \"\", \"x\": [\"A to B\", \"A to C\", \"A to A25\", \"A to A50\", \"A50aoab to A25\", \"A50aoab to A50\"], \"y\": [0.029119986048596835, 0.041406448322992506, 0.003940987715721378, -0.011230091238593198, 0.030365005559298774, 0.015193926604984198], \"type\": \"bar\", \"uid\": \"10162187-cce0-489d-b5e9-b5d92dcbae6d\"}, {\"marker\": {\"color\": \"rgba(0, 128, 128, 0.6)\", \"line\": {\"color\": \"rgba(0, 128, 128, 1.0)\", \"width\": 1}}, \"name\": \"APl\", \"orientation\": \"v\", \"text\": \"\", \"x\": [\"A to B\", \"A to C\", \"A to A25\", \"A to A50\", \"A50aoab to A25\", \"A50aoab to A50\"], \"y\": [0.04700154784117294, 0.03244945699979801, 0.023725276566502418, 0.032663923678519335, 0.06313617430218604, 0.07207482141420296], \"type\": \"bar\", \"uid\": \"a8b60a70-7835-4782-ab2f-b1f7124eb43a\"}, {\"marker\": {\"color\": \"rgba(255, 255, 51, 0.6)\", \"line\": {\"color\": \"rgba(255, 255, 51, 1.0)\", \"width\": 1}}, \"name\": \"AR@1\", \"orientation\": \"v\", \"text\": \"\", \"x\": [\"A to B\", \"A to C\", \"A to A25\", \"A to A50\", \"A50aoab to A25\", \"A50aoab to A50\"], \"y\": [0.004434225217029131, 0.006615793222306474, -0.005867681429998189, -0.004603634415469418, -0.0006339082304532284, 0.0006301387840755429], \"type\": \"bar\", \"uid\": \"6026de46-1aea-49af-a91d-163188c25df6\"}, {\"marker\": {\"color\": \"rgba(128, 128, 0, 0.6)\", \"line\": {\"color\": \"rgba(128, 128, 0, 1.0)\", \"width\": 1}}, \"name\": \"AR@10\", \"orientation\": \"v\", \"text\": \"\", \"x\": [\"A to B\", \"A to C\", \"A to A25\", \"A to A50\", \"A50aoab to A25\", \"A50aoab to A50\"], \"y\": [0.01719213789681262, 0.023149192668601992, -0.013612982335118429, -0.018624708420556912, 0.016450691764900494, 0.01143896567946201], \"type\": \"bar\", \"uid\": \"5095ed0d-e094-4fda-8cbf-749e214103fc\"}, {\"marker\": {\"color\": \"rgba(251, 128, 114, 0.6)\", \"line\": {\"color\": \"rgba(251, 128, 114, 1.0)\", \"width\": 1}}, \"name\": \"AR\", \"orientation\": \"v\", \"text\": \"\", \"x\": [\"A to B\", \"A to C\", \"A to A25\", \"A to A50\", \"A50aoab to A25\", \"A50aoab to A50\"], \"y\": [0.01831836168671669, 0.023978291322600598, -0.007555174957999233, -0.01611265853555005, 0.022659145478412412, 0.014101661900861595], \"type\": \"bar\", \"uid\": \"397857f2-6976-4a68-a498-b0f0b98a03a0\"}, {\"marker\": {\"color\": \"rgba(128, 177, 211, 0.6)\", \"line\": {\"color\": \"rgba(128, 177, 211, 1.0)\", \"width\": 1}}, \"name\": \"ARs\", \"orientation\": \"v\", \"text\": \"\", \"x\": [\"A to B\", \"A to C\", \"A to A25\", \"A to A50\", \"A50aoab to A25\", \"A50aoab to A50\"], \"y\": [0.013407688790891492, 0.019731088139482766, -0.020725966770780868, -0.018659613898627664, 0.009855915228230594, 0.011922268100383798], \"type\": \"bar\", \"uid\": \"b1cc2458-453f-4897-89c8-a242929dc14a\"}, {\"marker\": {\"color\": \"rgba(128, 177, 211, 0.6)\", \"line\": {\"color\": \"rgba(128, 177, 211, 0.8999999999999999)\", \"width\": 1}}, \"name\": \"ARm\", \"orientation\": \"v\", \"text\": \"\", \"x\": [\"A to B\", \"A to C\", \"A to A25\", \"A to A50\", \"A50aoab to A25\", \"A50aoab to A50\"], \"y\": [0.024149509727297624, 0.03396455716358088, 0.018919854620785825, -0.015095216849705384, 0.048451598201567025, 0.014436526731075816], \"type\": \"bar\", \"uid\": \"43c46a67-e9c9-40a2-8581-e319e1cfb9a6\"}, {\"marker\": {\"color\": \"rgba(255, 153, 51, 0.6)\", \"line\": {\"color\": \"rgba(255, 153, 51, 0.8999999999999999)\", \"width\": 1}}, \"name\": \"ARl\", \"orientation\": \"v\", \"text\": \"\", \"x\": [\"A to B\", \"A to C\", \"A to A25\", \"A to A50\", \"A50aoab to A25\", \"A50aoab to A50\"], \"y\": [0.0172917901307732, 0.01853571569673268, 0.027063381533720565, 0.012287888665007296, 0.0819685117142745, 0.06719301884556123], \"type\": \"bar\", \"uid\": \"a43652e1-0934-44dc-9940-d3b23f67d140\"}], {\"height\": 540, \"title\": {\"text\": \"Impact of GAN-based augmentation\"}, \"width\": 960, \"yaxis\": {\"title\": {\"text\": \"Absolute change in score\"}}}, {\"modeBarButtonsToRemove\": [\"sendDataToCloud\"], \"displaylogo\": false, \"showLink\": false, \"linkText\": \"Export to plot.ly\", \"plotlyServerURL\": \"https://plot.ly\"}); \n",
       "}\n",
       "});</script>"
      ]
     },
     "metadata": {},
     "output_type": "display_data"
    }
   ],
   "source": [
    "cf.go_offline(connected = True)\n",
    "config = {\n",
    "    \"modeBarButtonsToRemove\": [\"sendDataToCloud\"],\n",
    "    \"displaylogo\": False\n",
    "}\n",
    "layout = {\n",
    "    \"title\": \"Impact of GAN-based augmentation\",\n",
    "    \"yaxis\": {\n",
    "        \"title\": \"Absolute change in score\"\n",
    "    },\n",
    "    \"width\": 960,\n",
    "    \"height\": 540\n",
    "}\n",
    "fig = df_combined.iplot(kind = \"bar\", y = [\"AP\", \"AP50\", \"AP75\", \"APs\", \"APm\", \"APl\", \"AR@1\", \"AR@10\", \"AR\", \"ARs\", \"ARm\", \"ARl\"], layout = layout, asFigure = True)\n",
    "py.offline.iplot(fig, show_link = False, config = config)"
   ]
  },
  {
   "cell_type": "code",
   "execution_count": 33,
   "metadata": {},
   "outputs": [],
   "source": [
    "df_combined = df_combined * 100"
   ]
  },
  {
   "cell_type": "code",
   "execution_count": 34,
   "metadata": {},
   "outputs": [
    {
     "data": {
      "text/plain": [
       "Text(0, 0.5, 'Absolute change in score (%)')"
      ]
     },
     "execution_count": 34,
     "metadata": {},
     "output_type": "execute_result"
    },
    {
     "data": {
      "image/png": "[encoded data removed]",
      "text/plain": [
       "<Figure size 1152x648 with 1 Axes>"
      ]
     },
     "metadata": {
      "needs_background": "light"
     },
     "output_type": "display_data"
    }
   ],
   "source": [
    "ax = df_combined.plot(kind = \"bar\", figsize = (16, 9))\n",
    "ax.set_xlabel(\"\")\n",
    "ax.set_ylabel(\"Absolute change in score (%)\")"
   ]
  },
  {
   "cell_type": "code",
   "execution_count": 35,
   "metadata": {},
   "outputs": [
    {
     "data": {
      "application/vnd.plotly.v1+json": {
       "config": {
        "displaylogo": false,
        "linkText": "Export to plot.ly",
        "modeBarButtonsToRemove": [
         "sendDataToCloud"
        ],
        "plotlyServerURL": "https://plot.ly",
        "showLink": false
       },
       "data": [
        {
         "marker": {
          "color": "rgba(255, 153, 51, 0.6)",
          "line": {
           "color": "rgba(255, 153, 51, 1.0)",
           "width": 1
          }
         },
         "name": "AP",
         "orientation": "v",
         "text": "",
         "type": "bar",
         "uid": "6d240753-55bc-4cc2-814a-f53ea2cb034d",
         "x": [
          "A to B",
          "A to C",
          "A to A25",
          "A to A50",
          "A50aoab to A25",
          "A50aoab to A50"
         ],
         "y": [
          1.968409257929754,
          2.3756377055759863,
          -1.3863852401077625,
          -1.7865524654154863,
          1.4911656544718044,
          1.0909984291640806
         ]
        },
        {
         "marker": {
          "color": "rgba(55, 128, 191, 0.6)",
          "line": {
           "color": "rgba(55, 128, 191, 1.0)",
           "width": 1
          }
         },
         "name": "AP50",
         "orientation": "v",
         "text": "",
         "type": "bar",
         "uid": "c4e6f0b0-60d1-4cd9-bd11-c49e9ad3b4da",
         "x": [
          "A to B",
          "A to C",
          "A to A25",
          "A to A50",
          "A50aoab to A25",
          "A50aoab to A50"
         ],
         "y": [
          4.012242080310802,
          5.257255051705679,
          -4.474574742135279,
          -5.777374438056598,
          1.622292764007277,
          0.31949306808595757
         ]
        },
        {
         "marker": {
          "color": "rgba(50, 171, 96, 0.6)",
          "line": {
           "color": "rgba(50, 171, 96, 1.0)",
           "width": 1
          }
         },
         "name": "AP75",
         "orientation": "v",
         "text": "",
         "type": "bar",
         "uid": "900fe0ea-1fed-4bb4-85ac-5c85bde256a9",
         "x": [
          "A to B",
          "A to C",
          "A to A25",
          "A to A50",
          "A50aoab to A25",
          "A50aoab to A50"
         ],
         "y": [
          1.6889578909905112,
          2.2321072704755722,
          -0.5675950020122583,
          -0.5969179096788402,
          1.9024515670061415,
          1.8731286593395597
         ]
        },
        {
         "marker": {
          "color": "rgba(128, 0, 128, 0.6)",
          "line": {
           "color": "rgba(128, 0, 128, 1.0)",
           "width": 1
          }
         },
         "name": "APs",
         "orientation": "v",
         "text": "",
         "type": "bar",
         "uid": "5c7ec9bd-1c5a-4af7-87d0-cb82fbab98a6",
         "x": [
          "A to B",
          "A to C",
          "A to A25",
          "A to A50",
          "A50aoab to A25",
          "A50aoab to A50"
         ],
         "y": [
          1.0300939258908126,
          1.0653467945845123,
          -2.043294373580594,
          -2.21185233070621,
          0.6572092658632844,
          0.48865130873766843
         ]
        },
        {
         "marker": {
          "color": "rgba(219, 64, 82, 0.6)",
          "line": {
           "color": "rgba(219, 64, 82, 1.0)",
           "width": 1
          }
         },
         "name": "APm",
         "orientation": "v",
         "text": "",
         "type": "bar",
         "uid": "6ad4272d-ea97-4777-adc6-88c2ed72fdbe",
         "x": [
          "A to B",
          "A to C",
          "A to A25",
          "A to A50",
          "A50aoab to A25",
          "A50aoab to A50"
         ],
         "y": [
          2.9119986048596838,
          4.140644832299251,
          0.3940987715721378,
          -1.1230091238593198,
          3.0365005559298774,
          1.5193926604984198
         ]
        },
        {
         "marker": {
          "color": "rgba(0, 128, 128, 0.6)",
          "line": {
           "color": "rgba(0, 128, 128, 1.0)",
           "width": 1
          }
         },
         "name": "APl",
         "orientation": "v",
         "text": "",
         "type": "bar",
         "uid": "e265044f-280c-4e45-ae02-adc0e8e3fb10",
         "x": [
          "A to B",
          "A to C",
          "A to A25",
          "A to A50",
          "A50aoab to A25",
          "A50aoab to A50"
         ],
         "y": [
          4.700154784117294,
          3.2449456999798008,
          2.3725276566502416,
          3.2663923678519335,
          6.3136174302186046,
          7.2074821414202965
         ]
        },
        {
         "marker": {
          "color": "rgba(255, 255, 51, 0.6)",
          "line": {
           "color": "rgba(255, 255, 51, 1.0)",
           "width": 1
          }
         },
         "name": "AR@1",
         "orientation": "v",
         "text": "",
         "type": "bar",
         "uid": "2f8740af-637f-4caa-bc32-7b6b3c7aa194",
         "x": [
          "A to B",
          "A to C",
          "A to A25",
          "A to A50",
          "A50aoab to A25",
          "A50aoab to A50"
         ],
         "y": [
          0.4434225217029131,
          0.6615793222306474,
          -0.5867681429998189,
          -0.4603634415469418,
          -0.06339082304532284,
          0.06301387840755429
         ]
        },
        {
         "marker": {
          "color": "rgba(128, 128, 0, 0.6)",
          "line": {
           "color": "rgba(128, 128, 0, 1.0)",
           "width": 1
          }
         },
         "name": "AR@10",
         "orientation": "v",
         "text": "",
         "type": "bar",
         "uid": "f38c6558-43d1-4bcc-b2a1-5e72f22c494a",
         "x": [
          "A to B",
          "A to C",
          "A to A25",
          "A to A50",
          "A50aoab to A25",
          "A50aoab to A50"
         ],
         "y": [
          1.719213789681262,
          2.3149192668601994,
          -1.3612982335118429,
          -1.8624708420556912,
          1.6450691764900494,
          1.143896567946201
         ]
        },
        {
         "marker": {
          "color": "rgba(251, 128, 114, 0.6)",
          "line": {
           "color": "rgba(251, 128, 114, 1.0)",
           "width": 1
          }
         },
         "name": "AR",
         "orientation": "v",
         "text": "",
         "type": "bar",
         "uid": "a55db02b-2a9f-48e9-9b2b-f02616cf884d",
         "x": [
          "A to B",
          "A to C",
          "A to A25",
          "A to A50",
          "A50aoab to A25",
          "A50aoab to A50"
         ],
         "y": [
          1.8318361686716689,
          2.3978291322600596,
          -0.7555174957999233,
          -1.611265853555005,
          2.2659145478412412,
          1.4101661900861595
         ]
        },
        {
         "marker": {
          "color": "rgba(128, 177, 211, 0.6)",
          "line": {
           "color": "rgba(128, 177, 211, 1.0)",
           "width": 1
          }
         },
         "name": "ARs",
         "orientation": "v",
         "text": "",
         "type": "bar",
         "uid": "5e0b6e79-efce-47bc-9a47-b80bf7bf7a14",
         "x": [
          "A to B",
          "A to C",
          "A to A25",
          "A to A50",
          "A50aoab to A25",
          "A50aoab to A50"
         ],
         "y": [
          1.3407688790891492,
          1.9731088139482766,
          -2.072596677078087,
          -1.8659613898627665,
          0.9855915228230594,
          1.1922268100383797
         ]
        },
        {
         "marker": {
          "color": "rgba(128, 177, 211, 0.6)",
          "line": {
           "color": "rgba(128, 177, 211, 0.8999999999999999)",
           "width": 1
          }
         },
         "name": "ARm",
         "orientation": "v",
         "text": "",
         "type": "bar",
         "uid": "bbf9f193-2e22-4a37-b31a-3b08a0f1c697",
         "x": [
          "A to B",
          "A to C",
          "A to A25",
          "A to A50",
          "A50aoab to A25",
          "A50aoab to A50"
         ],
         "y": [
          2.4149509727297627,
          3.396455716358088,
          1.8919854620785825,
          -1.5095216849705384,
          4.845159820156702,
          1.4436526731075816
         ]
        },
        {
         "marker": {
          "color": "rgba(255, 153, 51, 0.6)",
          "line": {
           "color": "rgba(255, 153, 51, 0.8999999999999999)",
           "width": 1
          }
         },
         "name": "ARl",
         "orientation": "v",
         "text": "",
         "type": "bar",
         "uid": "13416b05-f4ab-435e-99fb-d83997bfc14f",
         "x": [
          "A to B",
          "A to C",
          "A to A25",
          "A to A50",
          "A50aoab to A25",
          "A50aoab to A50"
         ],
         "y": [
          1.72917901307732,
          1.853571569673268,
          2.7063381533720565,
          1.2287888665007296,
          8.196851171427449,
          6.719301884556122
         ]
        }
       ],
       "layout": {
        "height": 540,
        "title": {
         "text": "Impact of GAN-based augmentation"
        },
        "width": 960,
        "yaxis": {
         "title": {
          "text": "Absolute change in score (%)"
         }
        }
       }
      },
      "text/html": [
       "<div id=\"5faccd94-41b7-43eb-94d5-66e6d8a6a9fe\" style=\"height: 540px; width: 960px;\" class=\"plotly-graph-div\"></div><script type=\"text/javascript\">require([\"plotly\"], function(Plotly) { window.PLOTLYENV=window.PLOTLYENV || {};window.PLOTLYENV.BASE_URL=\"https://plot.ly\";\n",
       "if (document.getElementById(\"5faccd94-41b7-43eb-94d5-66e6d8a6a9fe\")) {\n",
       "    Plotly.newPlot(\"5faccd94-41b7-43eb-94d5-66e6d8a6a9fe\", [{\"marker\": {\"color\": \"rgba(255, 153, 51, 0.6)\", \"line\": {\"color\": \"rgba(255, 153, 51, 1.0)\", \"width\": 1}}, \"name\": \"AP\", \"orientation\": \"v\", \"text\": \"\", \"x\": [\"A to B\", \"A to C\", \"A to A25\", \"A to A50\", \"A50aoab to A25\", \"A50aoab to A50\"], \"y\": [1.968409257929754, 2.3756377055759863, -1.3863852401077625, -1.7865524654154863, 1.4911656544718044, 1.0909984291640806], \"type\": \"bar\", \"uid\": \"6d240753-55bc-4cc2-814a-f53ea2cb034d\"}, {\"marker\": {\"color\": \"rgba(55, 128, 191, 0.6)\", \"line\": {\"color\": \"rgba(55, 128, 191, 1.0)\", \"width\": 1}}, \"name\": \"AP50\", \"orientation\": \"v\", \"text\": \"\", \"x\": [\"A to B\", \"A to C\", \"A to A25\", \"A to A50\", \"A50aoab to A25\", \"A50aoab to A50\"], \"y\": [4.012242080310802, 5.257255051705679, -4.474574742135279, -5.777374438056598, 1.622292764007277, 0.31949306808595757], \"type\": \"bar\", \"uid\": \"c4e6f0b0-60d1-4cd9-bd11-c49e9ad3b4da\"}, {\"marker\": {\"color\": \"rgba(50, 171, 96, 0.6)\", \"line\": {\"color\": \"rgba(50, 171, 96, 1.0)\", \"width\": 1}}, \"name\": \"AP75\", \"orientation\": \"v\", \"text\": \"\", \"x\": [\"A to B\", \"A to C\", \"A to A25\", \"A to A50\", \"A50aoab to A25\", \"A50aoab to A50\"], \"y\": [1.6889578909905112, 2.2321072704755722, -0.5675950020122583, -0.5969179096788402, 1.9024515670061415, 1.8731286593395597], \"type\": \"bar\", \"uid\": \"900fe0ea-1fed-4bb4-85ac-5c85bde256a9\"}, {\"marker\": {\"color\": \"rgba(128, 0, 128, 0.6)\", \"line\": {\"color\": \"rgba(128, 0, 128, 1.0)\", \"width\": 1}}, \"name\": \"APs\", \"orientation\": \"v\", \"text\": \"\", \"x\": [\"A to B\", \"A to C\", \"A to A25\", \"A to A50\", \"A50aoab to A25\", \"A50aoab to A50\"], \"y\": [1.0300939258908126, 1.0653467945845123, -2.043294373580594, -2.21185233070621, 0.6572092658632844, 0.48865130873766843], \"type\": \"bar\", \"uid\": \"5c7ec9bd-1c5a-4af7-87d0-cb82fbab98a6\"}, {\"marker\": {\"color\": \"rgba(219, 64, 82, 0.6)\", \"line\": {\"color\": \"rgba(219, 64, 82, 1.0)\", \"width\": 1}}, \"name\": \"APm\", \"orientation\": \"v\", \"text\": \"\", \"x\": [\"A to B\", \"A to C\", \"A to A25\", \"A to A50\", \"A50aoab to A25\", \"A50aoab to A50\"], \"y\": [2.9119986048596838, 4.140644832299251, 0.3940987715721378, -1.1230091238593198, 3.0365005559298774, 1.5193926604984198], \"type\": \"bar\", \"uid\": \"6ad4272d-ea97-4777-adc6-88c2ed72fdbe\"}, {\"marker\": {\"color\": \"rgba(0, 128, 128, 0.6)\", \"line\": {\"color\": \"rgba(0, 128, 128, 1.0)\", \"width\": 1}}, \"name\": \"APl\", \"orientation\": \"v\", \"text\": \"\", \"x\": [\"A to B\", \"A to C\", \"A to A25\", \"A to A50\", \"A50aoab to A25\", \"A50aoab to A50\"], \"y\": [4.700154784117294, 3.2449456999798008, 2.3725276566502416, 3.2663923678519335, 6.3136174302186046, 7.2074821414202965], \"type\": \"bar\", \"uid\": \"e265044f-280c-4e45-ae02-adc0e8e3fb10\"}, {\"marker\": {\"color\": \"rgba(255, 255, 51, 0.6)\", \"line\": {\"color\": \"rgba(255, 255, 51, 1.0)\", \"width\": 1}}, \"name\": \"AR@1\", \"orientation\": \"v\", \"text\": \"\", \"x\": [\"A to B\", \"A to C\", \"A to A25\", \"A to A50\", \"A50aoab to A25\", \"A50aoab to A50\"], \"y\": [0.4434225217029131, 0.6615793222306474, -0.5867681429998189, -0.4603634415469418, -0.06339082304532284, 0.06301387840755429], \"type\": \"bar\", \"uid\": \"2f8740af-637f-4caa-bc32-7b6b3c7aa194\"}, {\"marker\": {\"color\": \"rgba(128, 128, 0, 0.6)\", \"line\": {\"color\": \"rgba(128, 128, 0, 1.0)\", \"width\": 1}}, \"name\": \"AR@10\", \"orientation\": \"v\", \"text\": \"\", \"x\": [\"A to B\", \"A to C\", \"A to A25\", \"A to A50\", \"A50aoab to A25\", \"A50aoab to A50\"], \"y\": [1.719213789681262, 2.3149192668601994, -1.3612982335118429, -1.8624708420556912, 1.6450691764900494, 1.143896567946201], \"type\": \"bar\", \"uid\": \"f38c6558-43d1-4bcc-b2a1-5e72f22c494a\"}, {\"marker\": {\"color\": \"rgba(251, 128, 114, 0.6)\", \"line\": {\"color\": \"rgba(251, 128, 114, 1.0)\", \"width\": 1}}, \"name\": \"AR\", \"orientation\": \"v\", \"text\": \"\", \"x\": [\"A to B\", \"A to C\", \"A to A25\", \"A to A50\", \"A50aoab to A25\", \"A50aoab to A50\"], \"y\": [1.8318361686716689, 2.3978291322600596, -0.7555174957999233, -1.611265853555005, 2.2659145478412412, 1.4101661900861595], \"type\": \"bar\", \"uid\": \"a55db02b-2a9f-48e9-9b2b-f02616cf884d\"}, {\"marker\": {\"color\": \"rgba(128, 177, 211, 0.6)\", \"line\": {\"color\": \"rgba(128, 177, 211, 1.0)\", \"width\": 1}}, \"name\": \"ARs\", \"orientation\": \"v\", \"text\": \"\", \"x\": [\"A to B\", \"A to C\", \"A to A25\", \"A to A50\", \"A50aoab to A25\", \"A50aoab to A50\"], \"y\": [1.3407688790891492, 1.9731088139482766, -2.072596677078087, -1.8659613898627665, 0.9855915228230594, 1.1922268100383797], \"type\": \"bar\", \"uid\": \"5e0b6e79-efce-47bc-9a47-b80bf7bf7a14\"}, {\"marker\": {\"color\": \"rgba(128, 177, 211, 0.6)\", \"line\": {\"color\": \"rgba(128, 177, 211, 0.8999999999999999)\", \"width\": 1}}, \"name\": \"ARm\", \"orientation\": \"v\", \"text\": \"\", \"x\": [\"A to B\", \"A to C\", \"A to A25\", \"A to A50\", \"A50aoab to A25\", \"A50aoab to A50\"], \"y\": [2.4149509727297627, 3.396455716358088, 1.8919854620785825, -1.5095216849705384, 4.845159820156702, 1.4436526731075816], \"type\": \"bar\", \"uid\": \"bbf9f193-2e22-4a37-b31a-3b08a0f1c697\"}, {\"marker\": {\"color\": \"rgba(255, 153, 51, 0.6)\", \"line\": {\"color\": \"rgba(255, 153, 51, 0.8999999999999999)\", \"width\": 1}}, \"name\": \"ARl\", \"orientation\": \"v\", \"text\": \"\", \"x\": [\"A to B\", \"A to C\", \"A to A25\", \"A to A50\", \"A50aoab to A25\", \"A50aoab to A50\"], \"y\": [1.72917901307732, 1.853571569673268, 2.7063381533720565, 1.2287888665007296, 8.196851171427449, 6.719301884556122], \"type\": \"bar\", \"uid\": \"13416b05-f4ab-435e-99fb-d83997bfc14f\"}], {\"height\": 540, \"title\": {\"text\": \"Impact of GAN-based augmentation\"}, \"width\": 960, \"yaxis\": {\"title\": {\"text\": \"Absolute change in score (%)\"}}}, {\"modeBarButtonsToRemove\": [\"sendDataToCloud\"], \"displaylogo\": false, \"showLink\": false, \"linkText\": \"Export to plot.ly\", \"plotlyServerURL\": \"https://plot.ly\"}); \n",
       "}\n",
       "});</script>"
      ],
      "text/vnd.plotly.v1+html": [
       "<div id=\"5faccd94-41b7-43eb-94d5-66e6d8a6a9fe\" style=\"height: 540px; width: 960px;\" class=\"plotly-graph-div\"></div><script type=\"text/javascript\">require([\"plotly\"], function(Plotly) { window.PLOTLYENV=window.PLOTLYENV || {};window.PLOTLYENV.BASE_URL=\"https://plot.ly\";\n",
       "if (document.getElementById(\"5faccd94-41b7-43eb-94d5-66e6d8a6a9fe\")) {\n",
       "    Plotly.newPlot(\"5faccd94-41b7-43eb-94d5-66e6d8a6a9fe\", [{\"marker\": {\"color\": \"rgba(255, 153, 51, 0.6)\", \"line\": {\"color\": \"rgba(255, 153, 51, 1.0)\", \"width\": 1}}, \"name\": \"AP\", \"orientation\": \"v\", \"text\": \"\", \"x\": [\"A to B\", \"A to C\", \"A to A25\", \"A to A50\", \"A50aoab to A25\", \"A50aoab to A50\"], \"y\": [1.968409257929754, 2.3756377055759863, -1.3863852401077625, -1.7865524654154863, 1.4911656544718044, 1.0909984291640806], \"type\": \"bar\", \"uid\": \"6d240753-55bc-4cc2-814a-f53ea2cb034d\"}, {\"marker\": {\"color\": \"rgba(55, 128, 191, 0.6)\", \"line\": {\"color\": \"rgba(55, 128, 191, 1.0)\", \"width\": 1}}, \"name\": \"AP50\", \"orientation\": \"v\", \"text\": \"\", \"x\": [\"A to B\", \"A to C\", \"A to A25\", \"A to A50\", \"A50aoab to A25\", \"A50aoab to A50\"], \"y\": [4.012242080310802, 5.257255051705679, -4.474574742135279, -5.777374438056598, 1.622292764007277, 0.31949306808595757], \"type\": \"bar\", \"uid\": \"c4e6f0b0-60d1-4cd9-bd11-c49e9ad3b4da\"}, {\"marker\": {\"color\": \"rgba(50, 171, 96, 0.6)\", \"line\": {\"color\": \"rgba(50, 171, 96, 1.0)\", \"width\": 1}}, \"name\": \"AP75\", \"orientation\": \"v\", \"text\": \"\", \"x\": [\"A to B\", \"A to C\", \"A to A25\", \"A to A50\", \"A50aoab to A25\", \"A50aoab to A50\"], \"y\": [1.6889578909905112, 2.2321072704755722, -0.5675950020122583, -0.5969179096788402, 1.9024515670061415, 1.8731286593395597], \"type\": \"bar\", \"uid\": \"900fe0ea-1fed-4bb4-85ac-5c85bde256a9\"}, {\"marker\": {\"color\": \"rgba(128, 0, 128, 0.6)\", \"line\": {\"color\": \"rgba(128, 0, 128, 1.0)\", \"width\": 1}}, \"name\": \"APs\", \"orientation\": \"v\", \"text\": \"\", \"x\": [\"A to B\", \"A to C\", \"A to A25\", \"A to A50\", \"A50aoab to A25\", \"A50aoab to A50\"], \"y\": [1.0300939258908126, 1.0653467945845123, -2.043294373580594, -2.21185233070621, 0.6572092658632844, 0.48865130873766843], \"type\": \"bar\", \"uid\": \"5c7ec9bd-1c5a-4af7-87d0-cb82fbab98a6\"}, {\"marker\": {\"color\": \"rgba(219, 64, 82, 0.6)\", \"line\": {\"color\": \"rgba(219, 64, 82, 1.0)\", \"width\": 1}}, \"name\": \"APm\", \"orientation\": \"v\", \"text\": \"\", \"x\": [\"A to B\", \"A to C\", \"A to A25\", \"A to A50\", \"A50aoab to A25\", \"A50aoab to A50\"], \"y\": [2.9119986048596838, 4.140644832299251, 0.3940987715721378, -1.1230091238593198, 3.0365005559298774, 1.5193926604984198], \"type\": \"bar\", \"uid\": \"6ad4272d-ea97-4777-adc6-88c2ed72fdbe\"}, {\"marker\": {\"color\": \"rgba(0, 128, 128, 0.6)\", \"line\": {\"color\": \"rgba(0, 128, 128, 1.0)\", \"width\": 1}}, \"name\": \"APl\", \"orientation\": \"v\", \"text\": \"\", \"x\": [\"A to B\", \"A to C\", \"A to A25\", \"A to A50\", \"A50aoab to A25\", \"A50aoab to A50\"], \"y\": [4.700154784117294, 3.2449456999798008, 2.3725276566502416, 3.2663923678519335, 6.3136174302186046, 7.2074821414202965], \"type\": \"bar\", \"uid\": \"e265044f-280c-4e45-ae02-adc0e8e3fb10\"}, {\"marker\": {\"color\": \"rgba(255, 255, 51, 0.6)\", \"line\": {\"color\": \"rgba(255, 255, 51, 1.0)\", \"width\": 1}}, \"name\": \"AR@1\", \"orientation\": \"v\", \"text\": \"\", \"x\": [\"A to B\", \"A to C\", \"A to A25\", \"A to A50\", \"A50aoab to A25\", \"A50aoab to A50\"], \"y\": [0.4434225217029131, 0.6615793222306474, -0.5867681429998189, -0.4603634415469418, -0.06339082304532284, 0.06301387840755429], \"type\": \"bar\", \"uid\": \"2f8740af-637f-4caa-bc32-7b6b3c7aa194\"}, {\"marker\": {\"color\": \"rgba(128, 128, 0, 0.6)\", \"line\": {\"color\": \"rgba(128, 128, 0, 1.0)\", \"width\": 1}}, \"name\": \"AR@10\", \"orientation\": \"v\", \"text\": \"\", \"x\": [\"A to B\", \"A to C\", \"A to A25\", \"A to A50\", \"A50aoab to A25\", \"A50aoab to A50\"], \"y\": [1.719213789681262, 2.3149192668601994, -1.3612982335118429, -1.8624708420556912, 1.6450691764900494, 1.143896567946201], \"type\": \"bar\", \"uid\": \"f38c6558-43d1-4bcc-b2a1-5e72f22c494a\"}, {\"marker\": {\"color\": \"rgba(251, 128, 114, 0.6)\", \"line\": {\"color\": \"rgba(251, 128, 114, 1.0)\", \"width\": 1}}, \"name\": \"AR\", \"orientation\": \"v\", \"text\": \"\", \"x\": [\"A to B\", \"A to C\", \"A to A25\", \"A to A50\", \"A50aoab to A25\", \"A50aoab to A50\"], \"y\": [1.8318361686716689, 2.3978291322600596, -0.7555174957999233, -1.611265853555005, 2.2659145478412412, 1.4101661900861595], \"type\": \"bar\", \"uid\": \"a55db02b-2a9f-48e9-9b2b-f02616cf884d\"}, {\"marker\": {\"color\": \"rgba(128, 177, 211, 0.6)\", \"line\": {\"color\": \"rgba(128, 177, 211, 1.0)\", \"width\": 1}}, \"name\": \"ARs\", \"orientation\": \"v\", \"text\": \"\", \"x\": [\"A to B\", \"A to C\", \"A to A25\", \"A to A50\", \"A50aoab to A25\", \"A50aoab to A50\"], \"y\": [1.3407688790891492, 1.9731088139482766, -2.072596677078087, -1.8659613898627665, 0.9855915228230594, 1.1922268100383797], \"type\": \"bar\", \"uid\": \"5e0b6e79-efce-47bc-9a47-b80bf7bf7a14\"}, {\"marker\": {\"color\": \"rgba(128, 177, 211, 0.6)\", \"line\": {\"color\": \"rgba(128, 177, 211, 0.8999999999999999)\", \"width\": 1}}, \"name\": \"ARm\", \"orientation\": \"v\", \"text\": \"\", \"x\": [\"A to B\", \"A to C\", \"A to A25\", \"A to A50\", \"A50aoab to A25\", \"A50aoab to A50\"], \"y\": [2.4149509727297627, 3.396455716358088, 1.8919854620785825, -1.5095216849705384, 4.845159820156702, 1.4436526731075816], \"type\": \"bar\", \"uid\": \"bbf9f193-2e22-4a37-b31a-3b08a0f1c697\"}, {\"marker\": {\"color\": \"rgba(255, 153, 51, 0.6)\", \"line\": {\"color\": \"rgba(255, 153, 51, 0.8999999999999999)\", \"width\": 1}}, \"name\": \"ARl\", \"orientation\": \"v\", \"text\": \"\", \"x\": [\"A to B\", \"A to C\", \"A to A25\", \"A to A50\", \"A50aoab to A25\", \"A50aoab to A50\"], \"y\": [1.72917901307732, 1.853571569673268, 2.7063381533720565, 1.2287888665007296, 8.196851171427449, 6.719301884556122], \"type\": \"bar\", \"uid\": \"13416b05-f4ab-435e-99fb-d83997bfc14f\"}], {\"height\": 540, \"title\": {\"text\": \"Impact of GAN-based augmentation\"}, \"width\": 960, \"yaxis\": {\"title\": {\"text\": \"Absolute change in score (%)\"}}}, {\"modeBarButtonsToRemove\": [\"sendDataToCloud\"], \"displaylogo\": false, \"showLink\": false, \"linkText\": \"Export to plot.ly\", \"plotlyServerURL\": \"https://plot.ly\"}); \n",
       "}\n",
       "});</script>"
      ]
     },
     "metadata": {},
     "output_type": "display_data"
    }
   ],
   "source": [
    "layout = {\n",
    "    \"title\": \"Impact of GAN-based augmentation\",\n",
    "    \"yaxis\": {\n",
    "        \"title\": \"Absolute change in score (%)\"\n",
    "    },\n",
    "    \"width\": 960,\n",
    "    \"height\": 540\n",
    "}\n",
    "fig = df_combined.iplot(kind = \"bar\", y = [\"AP\", \"AP50\", \"AP75\", \"APs\", \"APm\", \"APl\", \"AR@1\", \"AR@10\", \"AR\", \"ARs\", \"ARm\", \"ARl\"], layout = layout, asFigure = True)\n",
    "py.offline.iplot(fig, show_link = False, config = config)"
   ]
  }
 ],
 "metadata": {
  "kernelspec": {
   "display_name": "Python 3",
   "language": "python",
   "name": "python3"
  },
  "language_info": {
   "codemirror_mode": {
    "name": "ipython",
    "version": 3
   },
   "file_extension": ".py",
   "mimetype": "text/x-python",
   "name": "python",
   "nbconvert_exporter": "python",
   "pygments_lexer": "ipython3",
   "version": "3.6.7"
  }
 },
 "nbformat": 4,
 "nbformat_minor": 2
}

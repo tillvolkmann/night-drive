{
 "cells": [
  {
   "cell_type": "code",
   "execution_count": 1,
   "metadata": {},
   "outputs": [],
   "source": [
    "# SETTINGS\n",
    "base_path_data = \"/../../../home/till/SharedFolder/CurrentDatasets/bdd100k_sorted/\"  # path to data dir\n",
    "base_path_project = \"/home/till/projects/night-drive/\"    # path to project fodler\n",
    "save_path = base_path_project+\"analysis/sample_images_by_weather_condition/\"   # results path\n",
    "split = \"train_dev_A\"  # split / data partition to analyze\n",
    "size = 100   # size of image display (html mode)\n",
    "sample = 200   # number of images to display (html mode)"
   ]
  },
  {
   "cell_type": "code",
   "execution_count": 2,
   "metadata": {},
   "outputs": [],
   "source": [
    "import pandas as pd\n",
    "from easyimages import EasyImageList, EasyImage\n",
    "from easyimages.utils import make_notebook_wider\n",
    "import sys\n",
    "sys.path.append(base_path_project)\n",
    "import utils.eval_utils\n",
    "import os"
   ]
  },
  {
   "cell_type": "code",
   "execution_count": 3,
   "metadata": {},
   "outputs": [
    {
     "data": {
      "text/html": [
       "<style>.container { width:100% !important; }</style>"
      ],
      "text/plain": [
       "<IPython.core.display.HTML object>"
      ]
     },
     "metadata": {},
     "output_type": "display_data"
    }
   ],
   "source": [
    "make_notebook_wider()"
   ]
  },
  {
   "cell_type": "code",
   "execution_count": 4,
   "metadata": {},
   "outputs": [],
   "source": [
    "json_path = base_path_data+\"/annotations/bdd100k_sorted_\"+split+\"_over.json\"\n",
    "image_base_path = base_path_data+split+\"/\""
   ]
  },
  {
   "cell_type": "code",
   "execution_count": 5,
   "metadata": {},
   "outputs": [],
   "source": [
    "df = pd.read_json(json_path)\n",
    "df = df.reset_index(drop = True)\n",
    "df[\"weather\"] = pd.DataFrame(df['attributes'].tolist())[\"weather\"]\n",
    "df = df.drop(columns = [\"attributes\", \"labels\", \"timestamp\"]).reset_index(drop = True)\n",
    "df[\"name\"] = image_base_path + df[\"name\"]"
   ]
  },
  {
   "cell_type": "markdown",
   "metadata": {},
   "source": [
    "## Snowy"
   ]
  },
  {
   "cell_type": "code",
   "execution_count": 6,
   "metadata": {},
   "outputs": [
    {
     "name": "stdout",
     "output_type": "stream",
     "text": [
      "8 8\n"
     ]
    },
    {
     "name": "stderr",
     "output_type": "stream",
     "text": [
      "/home/till/anaconda3/lib/python3.6/site-packages/matplotlib/figure.py:445: UserWarning: Matplotlib is currently using agg, which is a non-GUI backend, so cannot show the figure.\n",
      "  % get_backend())\n"
     ]
    },
    {
     "name": "stdout",
     "output_type": "stream",
     "text": [
      "Saving figure file /home/till/projects/night-drive/analysis/train_dev_A_snowy\n"
     ]
    },
    {
     "ename": "ValueError",
     "evalue": "In notebook mode your data has to stored within Jupyter access (has to be relative to  !pwd = /home/till/projects/night-drive/analysis",
     "output_type": "error",
     "traceback": [
      "\u001b[0;31m---------------------------------------------------------------------------\u001b[0m",
      "\u001b[0;31mValueError\u001b[0m                                Traceback (most recent call last)",
      "\u001b[0;32m~/anaconda3/lib/python3.6/site-packages/easyimages/easyimages.py\u001b[0m in \u001b[0;36mvisualize_grid_html\u001b[0;34m(self, images, open_browser, show, size)\u001b[0m\n\u001b[1;32m    377\u001b[0m                 \u001b[0;32mtry\u001b[0m\u001b[0;34m:\u001b[0m\u001b[0;34m\u001b[0m\u001b[0;34m\u001b[0m\u001b[0m\n\u001b[0;32m--> 378\u001b[0;31m                     \u001b[0mp\u001b[0m \u001b[0;34m=\u001b[0m \u001b[0mp\u001b[0m\u001b[0;34m.\u001b[0m\u001b[0mrelative_to\u001b[0m\u001b[0;34m(\u001b[0m\u001b[0mnotebook_path\u001b[0m\u001b[0;34m)\u001b[0m\u001b[0;34m\u001b[0m\u001b[0;34m\u001b[0m\u001b[0m\n\u001b[0m\u001b[1;32m    379\u001b[0m                 \u001b[0;32mexcept\u001b[0m \u001b[0mValueError\u001b[0m\u001b[0;34m:\u001b[0m\u001b[0;34m\u001b[0m\u001b[0;34m\u001b[0m\u001b[0m\n",
      "\u001b[0;32m~/anaconda3/lib/python3.6/pathlib.py\u001b[0m in \u001b[0;36mrelative_to\u001b[0;34m(self, *other)\u001b[0m\n\u001b[1;32m    873\u001b[0m             raise ValueError(\"{!r} does not start with {!r}\"\n\u001b[0;32m--> 874\u001b[0;31m                              .format(str(self), str(formatted)))\n\u001b[0m\u001b[1;32m    875\u001b[0m         return self._from_parsed_parts('', root if n == 1 else '',\n",
      "\u001b[0;31mValueError\u001b[0m: '/../../../home/till/SharedFolder/CurrentDatasets/bdd100k_sorted/train_dev_A/c53986c1-c00f0bdc.jpg' does not start with '/home/till/projects/night-drive/analysis'",
      "\nDuring handling of the above exception, another exception occurred:\n",
      "\u001b[0;31mValueError\u001b[0m                                Traceback (most recent call last)",
      "\u001b[0;32m<ipython-input-6-bc844baae125>\u001b[0m in \u001b[0;36m<module>\u001b[0;34m\u001b[0m\n\u001b[1;32m      4\u001b[0m \u001b[0mimage_list\u001b[0m \u001b[0;34m=\u001b[0m \u001b[0;34m[\u001b[0m\u001b[0mEasyImage\u001b[0m\u001b[0;34m.\u001b[0m\u001b[0mfrom_file\u001b[0m\u001b[0;34m(\u001b[0m\u001b[0mimage\u001b[0m\u001b[0;34m,\u001b[0m \u001b[0mlazy\u001b[0m \u001b[0;34m=\u001b[0m \u001b[0;32mTrue\u001b[0m\u001b[0;34m)\u001b[0m \u001b[0;32mfor\u001b[0m \u001b[0mimage\u001b[0m \u001b[0;32min\u001b[0m \u001b[0mimage_list\u001b[0m\u001b[0;34m]\u001b[0m\u001b[0;34m\u001b[0m\u001b[0;34m\u001b[0m\u001b[0m\n\u001b[1;32m      5\u001b[0m \u001b[0mEL\u001b[0m \u001b[0;34m=\u001b[0m \u001b[0mEasyImageList\u001b[0m\u001b[0;34m(\u001b[0m\u001b[0mimage_list\u001b[0m\u001b[0;34m)\u001b[0m\u001b[0;34m\u001b[0m\u001b[0;34m\u001b[0m\u001b[0m\n\u001b[0;32m----> 6\u001b[0;31m \u001b[0mEL\u001b[0m\u001b[0;34m.\u001b[0m\u001b[0mhtml\u001b[0m\u001b[0;34m(\u001b[0m\u001b[0msize\u001b[0m \u001b[0;34m=\u001b[0m \u001b[0msize\u001b[0m\u001b[0;34m,\u001b[0m \u001b[0msample\u001b[0m \u001b[0;34m=\u001b[0m \u001b[0msample\u001b[0m\u001b[0;34m)\u001b[0m\u001b[0;34m\u001b[0m\u001b[0;34m\u001b[0m\u001b[0m\n\u001b[0m",
      "\u001b[0;32m~/anaconda3/lib/python3.6/site-packages/easyimages/easyimages.py\u001b[0m in \u001b[0;36mhtml\u001b[0;34m(self, by_class, sample, size)\u001b[0m\n\u001b[1;32m    413\u001b[0m             \u001b[0;32melse\u001b[0m\u001b[0;34m:\u001b[0m\u001b[0;34m\u001b[0m\u001b[0;34m\u001b[0m\u001b[0m\n\u001b[1;32m    414\u001b[0m                 \u001b[0mimages\u001b[0m \u001b[0;34m=\u001b[0m \u001b[0mself\u001b[0m\u001b[0;34m.\u001b[0m\u001b[0mimages\u001b[0m\u001b[0;34m\u001b[0m\u001b[0;34m\u001b[0m\u001b[0m\n\u001b[0;32m--> 415\u001b[0;31m             \u001b[0mself\u001b[0m\u001b[0;34m.\u001b[0m\u001b[0mvisualize_grid_html\u001b[0m\u001b[0;34m(\u001b[0m\u001b[0mimages\u001b[0m\u001b[0;34m,\u001b[0m \u001b[0msize\u001b[0m\u001b[0;34m=\u001b[0m\u001b[0msize\u001b[0m\u001b[0;34m)\u001b[0m\u001b[0;34m\u001b[0m\u001b[0;34m\u001b[0m\u001b[0m\n\u001b[0m\u001b[1;32m    416\u001b[0m \u001b[0;34m\u001b[0m\u001b[0m\n\u001b[1;32m    417\u001b[0m     \u001b[0;32mdef\u001b[0m \u001b[0m_popup_one_by_one\u001b[0m\u001b[0;34m(\u001b[0m\u001b[0mself\u001b[0m\u001b[0;34m)\u001b[0m\u001b[0;34m:\u001b[0m\u001b[0;34m\u001b[0m\u001b[0;34m\u001b[0m\u001b[0m\n",
      "\u001b[0;32m~/anaconda3/lib/python3.6/site-packages/easyimages/easyimages.py\u001b[0m in \u001b[0;36mvisualize_grid_html\u001b[0;34m(self, images, open_browser, show, size)\u001b[0m\n\u001b[1;32m    380\u001b[0m                     raise ValueError(\n\u001b[1;32m    381\u001b[0m                         \u001b[0;34m\"In notebook mode your data has to stored within Jupyter access \"\u001b[0m\u001b[0;34m\u001b[0m\u001b[0;34m\u001b[0m\u001b[0m\n\u001b[0;32m--> 382\u001b[0;31m                         \"(has to be relative to  !pwd = {}\".format(os.getcwd()))\n\u001b[0m\u001b[1;32m    383\u001b[0m \u001b[0;34m\u001b[0m\u001b[0m\n\u001b[1;32m    384\u001b[0m             \u001b[0mtemplates\u001b[0m\u001b[0;34m.\u001b[0m\u001b[0mappend\u001b[0m\u001b[0;34m(\u001b[0m\u001b[0mself\u001b[0m\u001b[0;34m.\u001b[0m\u001b[0mGRID_TEMPLATE\u001b[0m\u001b[0;34m.\u001b[0m\u001b[0mformat\u001b[0m\u001b[0;34m(\u001b[0m\u001b[0murl\u001b[0m\u001b[0;34m=\u001b[0m\u001b[0mp\u001b[0m\u001b[0;34m,\u001b[0m \u001b[0mlabel\u001b[0m\u001b[0;34m=\u001b[0m\u001b[0mimage\u001b[0m\u001b[0;34m.\u001b[0m\u001b[0mlabel\u001b[0m\u001b[0;34m,\u001b[0m \u001b[0msize\u001b[0m\u001b[0;34m=\u001b[0m\u001b[0msize\u001b[0m\u001b[0;34m)\u001b[0m\u001b[0;34m)\u001b[0m\u001b[0;34m\u001b[0m\u001b[0;34m\u001b[0m\u001b[0m\n",
      "\u001b[0;31mValueError\u001b[0m: In notebook mode your data has to stored within Jupyter access (has to be relative to  !pwd = /home/till/projects/night-drive/analysis"
     ]
    }
   ],
   "source": [
    "weather = \"snowy\"\n",
    "image_list = df[df[\"weather\"] == weather][\"name\"].tolist()\n",
    "utils.eval_utils.plot_imagegrid(image_list, save_name=save_path+split+\"_\"+weather, fig_title=os.path.basename(split+\"_\"+weather))\n",
    "image_list = [EasyImage.from_file(image, lazy = True) for image in image_list]\n",
    "EL = EasyImageList(image_list)\n",
    "EL.html(size = size, sample = sample)"
   ]
  },
  {
   "cell_type": "markdown",
   "metadata": {},
   "source": [
    "## Rainy"
   ]
  },
  {
   "cell_type": "code",
   "execution_count": null,
   "metadata": {},
   "outputs": [],
   "source": [
    "weather = \"rainy\"\n",
    "image_list = df[df[\"weather\"] == weather][\"name\"].tolist()\n",
    "utils.eval_utils.plot_imagegrid(image_list, save_name=save_path+split+\"_\"+weather, fig_title=os.path.basename(split+\"_\"+weather))\n",
    "image_list = [EasyImage.from_file(image, lazy = True) for image in image_list]\n",
    "EL = EasyImageList(image_list)\n",
    "EL.html(size = size, sample = sample)"
   ]
  },
  {
   "cell_type": "markdown",
   "metadata": {},
   "source": [
    "## Cloudy"
   ]
  },
  {
   "cell_type": "code",
   "execution_count": null,
   "metadata": {},
   "outputs": [],
   "source": [
    "weather = \"cloudy\"\n",
    "image_list = df[df[\"weather\"] == weather][\"name\"].tolist()\n",
    "utils.eval_utils.plot_imagegrid(image_list, save_name=save_path+split+\"_\"+weather, fig_title=os.path.basename(split+\"_\"+weather))\n",
    "image_list = [EasyImage.from_file(image, lazy = True) for image in image_list]\n",
    "EL = EasyImageList(image_list)\n",
    "EL.html(size = size, sample = sample)"
   ]
  },
  {
   "cell_type": "markdown",
   "metadata": {},
   "source": [
    "## Clear"
   ]
  },
  {
   "cell_type": "code",
   "execution_count": null,
   "metadata": {},
   "outputs": [],
   "source": [
    "weather = \"clear\"\n",
    "image_list = df[df[\"weather\"] == weather][\"name\"].tolist()\n",
    "utils.eval_utils.plot_imagegrid(image_list, save_name=save_path+split+\"_\"+weather, fig_title=os.path.basename(split+\"_\"+weather))\n",
    "image_list = [EasyImage.from_file(image, lazy = True) for image in image_list]\n",
    "EL = EasyImageList(image_list)\n",
    "EL.html(size = size, sample = sample)"
   ]
  }
 ],
 "metadata": {
  "kernelspec": {
   "display_name": "Python 3",
   "language": "python",
   "name": "python3"
  },
  "language_info": {
   "codemirror_mode": {
    "name": "ipython",
    "version": 3
   },
   "file_extension": ".py",
   "mimetype": "text/x-python",
   "name": "python",
   "nbconvert_exporter": "python",
   "pygments_lexer": "ipython3",
   "version": "3.6.8"
  }
 },
 "nbformat": 4,
 "nbformat_minor": 2
}

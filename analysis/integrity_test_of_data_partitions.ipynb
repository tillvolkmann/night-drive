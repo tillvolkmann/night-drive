{
 "cells": [
  {
   "cell_type": "code",
   "execution_count": null,
   "metadata": {},
   "outputs": [],
   "source": [
    "import os\n",
    "import numpy as np\n",
    "import pandas as pd\n",
    "import sys\n",
    "base_path_project = \"/home/till/projects/night-drive/\"    # path to project fodler\n",
    "sys.path.append(base_path_project)\n",
    "import utils.eval_utils\n",
    "from utils.eval_dataset import EvalDataset"
   ]
  },
  {
   "cell_type": "code",
   "execution_count": null,
   "metadata": {},
   "outputs": [],
   "source": [
    "root_dir = \"/home/till/SharedFolder/CurrentDatasets/\""
   ]
  },
  {
   "cell_type": "code",
   "execution_count": 9,
   "metadata": {},
   "outputs": [
    {
     "name": "stdout",
     "output_type": "stream",
     "text": [
      ">> Loading bdd_all label data set\n",
      "/images/100k/val/\n"
     ]
    }
   ],
   "source": [
    "# load original BDD data\n",
    "orig = EvalDataset(root_dir, database='bdd_all')"
   ]
  },
  {
   "cell_type": "code",
   "execution_count": null,
   "metadata": {},
   "outputs": [],
   "source": []
  },
  {
   "cell_type": "code",
   "execution_count": 10,
   "metadata": {
    "scrolled": true
   },
   "outputs": [
    {
     "ename": "AttributeError",
     "evalue": "'NoneType' object has no attribute 'head'",
     "output_type": "error",
     "traceback": [
      "\u001b[0;31m---------------------------------------------------------------------------\u001b[0m",
      "\u001b[0;31mAttributeError\u001b[0m                            Traceback (most recent call last)",
      "\u001b[0;32m<ipython-input-10-5bd1c0e80f28>\u001b[0m in \u001b[0;36m<module>\u001b[0;34m\u001b[0m\n\u001b[0;32m----> 1\u001b[0;31m \u001b[0morig\u001b[0m\u001b[0;34m.\u001b[0m\u001b[0mdata\u001b[0m\u001b[0;34m.\u001b[0m\u001b[0mhead\u001b[0m\u001b[0;34m(\u001b[0m\u001b[0;34m)\u001b[0m\u001b[0;34m\u001b[0m\u001b[0;34m\u001b[0m\u001b[0m\n\u001b[0m",
      "\u001b[0;31mAttributeError\u001b[0m: 'NoneType' object has no attribute 'head'"
     ]
    }
   ],
   "source": [
    "orig.data.head()"
   ]
  },
  {
   "cell_type": "code",
   "execution_count": null,
   "metadata": {},
   "outputs": [],
   "source": [
    "# for each data split\n",
    "list_splits = [*orig.list_splits, *orig.list_splits_over]"
   ]
  },
  {
   "cell_type": "code",
   "execution_count": null,
   "metadata": {},
   "outputs": [],
   "source": [
    "# write prints to log file in analysis folder\n",
    "old_stdout = sys.stdout\n",
    "log_file = open(\"datasets_integrity_test_log.log\", \"w\")\n",
    "sys.stdout = log_file\n",
    "for split in list_splits:\n",
    "    print(\"\\n\\n=============================================\")\n",
    "    print(\"TESTING INTEGRITY OF SPLIT {}\".format(split))\n",
    "    # load data\n",
    "    cur = EvalDataset(root_dir, database=split)\n",
    "    # # check whether the same image occurs with different weather calsses in the json to be investigated\n",
    "    # print(\"\\nPerforming check on class agreement within data set\")\n",
    "    # for i in range(cur.data.shape[0]):\n",
    "    #     for j in range(cur.data.shape[0]):\n",
    "    #         if i != j:\n",
    "    #             if cur.data.loc[i,\"name\"] == cur.data.loc[j,\"name\"] and cur.data.loc[i,\"weather\"] != cur.data.loc[j,\"weather\"]:\n",
    "    #                 print(\"weather mismatch error\")\n",
    "    #                 print(cur.data.loc[i, \"name\"], cur.data.loc[i, \"weather\"])\n",
    "    #                 print(cur.data.loc[j, \"name\"], cur.data.loc[j, \"weather\"])\n",
    "    #                 \n",
    "    # check whether the weather and timeofday classes in the json under investigation match those in the original BDD jsons\n",
    "    print(\"\\nPerforming check on class agreement with original data set\")\n",
    "    for j in range(cur.data.shape[0]):\n",
    "        im_name = cur.data.loc[j,\"name\"]\n",
    "        im_weather = cur.data.loc[j,\"weather\"]\n",
    "        inx = np.array(orig.data.query(\"name == @im_name\").index)\n",
    "        orig_weather = orig.data.loc[inx[0], \"weather\"]\n",
    "        orig_timeofday = orig.data.loc[inx[0], \"timeofday\"]\n",
    "        orig_name = orig.data.loc[inx[0], \"name\"]\n",
    "        if im_weather != orig_weather and \\\n",
    "            (set([im_weather]).isdisjoint([\"cloudy\", \"overcast\", \"partly cloudy\"]) and set([orig_weather]).isdisjoint([\"cloudy\", \"overcast\", \"partly cloudy\"])):\n",
    "            print(\"weather mismatch error\")\n",
    "            print(im_name, im_weather)\n",
    "            print(orig_name, orig_weather)\n",
    "        if orig_timeofday != orig_timeofday:\n",
    "            print(\"timeofday mismatch error\")\n",
    "            print(im_name, im_weather)\n",
    "            print(orig_name, orig_weather)\n",
    "            \n",
    "    # check whether over samples are uniformly distributed\n",
    "    if \"over\" in split:\n",
    "        count, division = np.histogram(cur.data.name.value_counts())\n",
    "        print(\"\\nValue counts of images in oversampled data set\")\n",
    "        print(\"divisions:\", division.tolist())\n",
    "        print(\"counts:\", count.tolist())\n",
    "        print(\"\\nFive most frequent images in oversampled data set\")\n",
    "        cur.data.name.value_counts()[:5]\n",
    "    # Check class distribution of timeofday x weather classes\n",
    "    print(\"\\nCrosstab counts of images in oversampled data set\")\n",
    "    print(cur.get_crosstab_timeofdayxweather())\n",
    "\n",
    "# close log file\n",
    "sys.stdout = old_stdout\n",
    "log_file.close()"
   ]
  },
  {
   "cell_type": "code",
   "execution_count": null,
   "metadata": {},
   "outputs": [],
   "source": []
  }
 ],
 "metadata": {
  "kernelspec": {
   "display_name": "py36",
   "language": "python",
   "name": "py36"
  },
  "language_info": {
   "codemirror_mode": {
    "name": "ipython",
    "version": 3
   },
   "file_extension": ".py",
   "mimetype": "text/x-python",
   "name": "python",
   "nbconvert_exporter": "python",
   "pygments_lexer": "ipython3",
   "version": "3.6.8"
  }
 },
 "nbformat": 4,
 "nbformat_minor": 2
}

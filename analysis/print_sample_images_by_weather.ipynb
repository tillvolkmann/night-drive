{
 "cells": [
  {
   "cell_type": "code",
   "execution_count": null,
   "metadata": {},
   "outputs": [],
   "source": [
    "# SETTINGS\n",
    "base_path_project = \"/home/till/projects/night-drive/\"    # path to project fodler\n",
    "save_path = base_path_project+\"analysis/sample_images_by_weather_condition/\"   # results path\n",
    "root_dir = \"/home/till/SharedFolder/CurrentDatasets/\"\n",
    "size = 100   # size of image display (html mode)\n",
    "sample = 200   # number of images to display (html mode)"
   ]
  },
  {
   "cell_type": "code",
   "execution_count": null,
   "metadata": {},
   "outputs": [],
   "source": [
    "import os\n",
    "import numpy as np\n",
    "import pandas as pd\n",
    "import sys\n",
    "sys.path.append(base_path_project)\n",
    "import utils.eval_utils\n",
    "from utils.eval_dataset import EvalDataset"
   ]
  },
  {
   "cell_type": "code",
   "execution_count": 3,
   "metadata": {},
   "outputs": [
    {
     "name": "stdout",
     "output_type": "stream",
     "text": [
      ">> Loading bdd_all label data set\n",
      "/images/100k/val/\n"
     ]
    }
   ],
   "source": [
    "# load original BDD data\n",
    "orig = EvalDataset(root_dir, database='bdd_all')"
   ]
  },
  {
   "cell_type": "code",
   "execution_count": 11,
   "metadata": {},
   "outputs": [
    {
     "data": {
      "text/plain": [
       "'/images/100k/val/'"
      ]
     },
     "execution_count": 11,
     "metadata": {},
     "output_type": "execute_result"
    }
   ],
   "source": [
    "orig.image_base_path"
   ]
  },
  {
   "cell_type": "code",
   "execution_count": 9,
   "metadata": {},
   "outputs": [
    {
     "ename": "AttributeError",
     "evalue": "'NoneType' object has no attribute 'unique'",
     "output_type": "error",
     "traceback": [
      "\u001b[0;31m---------------------------------------------------------------------------\u001b[0m",
      "\u001b[0;31mAttributeError\u001b[0m                            Traceback (most recent call last)",
      "\u001b[0;32m<ipython-input-9-76d2a0da49e7>\u001b[0m in \u001b[0;36m<module>\u001b[0;34m\u001b[0m\n\u001b[1;32m      1\u001b[0m \u001b[0;31m# for each data split\u001b[0m\u001b[0;34m\u001b[0m\u001b[0;34m\u001b[0m\u001b[0;34m\u001b[0m\u001b[0m\n\u001b[1;32m      2\u001b[0m \u001b[0mlist_splits\u001b[0m \u001b[0;34m=\u001b[0m \u001b[0;34m[\u001b[0m\u001b[0;34m*\u001b[0m\u001b[0morig\u001b[0m\u001b[0;34m.\u001b[0m\u001b[0mlist_splits\u001b[0m\u001b[0;34m,\u001b[0m \u001b[0;34m*\u001b[0m\u001b[0morig\u001b[0m\u001b[0;34m.\u001b[0m\u001b[0mlist_splits_over\u001b[0m\u001b[0;34m]\u001b[0m\u001b[0;34m\u001b[0m\u001b[0;34m\u001b[0m\u001b[0m\n\u001b[0;32m----> 3\u001b[0;31m \u001b[0mlist_weather\u001b[0m \u001b[0;34m=\u001b[0m \u001b[0msorted\u001b[0m\u001b[0;34m(\u001b[0m\u001b[0morig\u001b[0m\u001b[0;34m.\u001b[0m\u001b[0mdata\u001b[0m\u001b[0;34m.\u001b[0m\u001b[0munique\u001b[0m\u001b[0;34m(\u001b[0m\u001b[0;34m)\u001b[0m\u001b[0;34m)\u001b[0m\u001b[0;34m.\u001b[0m\u001b[0mtolist\u001b[0m\u001b[0;34m(\u001b[0m\u001b[0;34m)\u001b[0m\u001b[0;34m\u001b[0m\u001b[0;34m\u001b[0m\u001b[0m\n\u001b[0m\u001b[1;32m      4\u001b[0m \u001b[0mlist_weather\u001b[0m\u001b[0;34m\u001b[0m\u001b[0;34m\u001b[0m\u001b[0m\n",
      "\u001b[0;31mAttributeError\u001b[0m: 'NoneType' object has no attribute 'unique'"
     ]
    }
   ],
   "source": [
    "# for each data split\n",
    "list_splits = [*orig.list_splits, *orig.list_splits_over]\n",
    "list_weather = sorted(orig.data.unique()).tolist()\n",
    "list_weather"
   ]
  },
  {
   "cell_type": "code",
   "execution_count": 8,
   "metadata": {},
   "outputs": [
    {
     "data": {
      "text/plain": [
       "<bound method EvalDataset.get_crosstab_timeofdayxweather of <utils.eval_dataset.EvalDataset object at 0x7f22333821d0>>"
      ]
     },
     "execution_count": 8,
     "metadata": {},
     "output_type": "execute_result"
    }
   ],
   "source": [
    "orig.get_crosstab_timeofdayxweather"
   ]
  },
  {
   "cell_type": "code",
   "execution_count": 7,
   "metadata": {},
   "outputs": [
    {
     "name": "stdout",
     "output_type": "stream",
     "text": [
      ">> Loading train_A label data set\n",
      "/bdd100k_sorted/train_A\n"
     ]
    },
    {
     "ename": "NameError",
     "evalue": "name 'sdfs' is not defined",
     "output_type": "error",
     "traceback": [
      "\u001b[0;31m---------------------------------------------------------------------------\u001b[0m",
      "\u001b[0;31mNameError\u001b[0m                                 Traceback (most recent call last)",
      "\u001b[0;32m<ipython-input-7-7e525896fca1>\u001b[0m in \u001b[0;36m<module>\u001b[0;34m\u001b[0m\n\u001b[1;32m      2\u001b[0m     \u001b[0;31m# load data\u001b[0m\u001b[0;34m\u001b[0m\u001b[0;34m\u001b[0m\u001b[0;34m\u001b[0m\u001b[0m\n\u001b[1;32m      3\u001b[0m     \u001b[0mcur\u001b[0m \u001b[0;34m=\u001b[0m \u001b[0mEvalDataset\u001b[0m\u001b[0;34m(\u001b[0m\u001b[0mroot_dir\u001b[0m\u001b[0;34m,\u001b[0m \u001b[0mdatabase\u001b[0m\u001b[0;34m=\u001b[0m\u001b[0msplit\u001b[0m\u001b[0;34m)\u001b[0m\u001b[0;34m\u001b[0m\u001b[0;34m\u001b[0m\u001b[0m\n\u001b[0;32m----> 4\u001b[0;31m     \u001b[0msdfs\u001b[0m\u001b[0;34m\u001b[0m\u001b[0;34m\u001b[0m\u001b[0m\n\u001b[0m",
      "\u001b[0;31mNameError\u001b[0m: name 'sdfs' is not defined"
     ]
    }
   ],
   "source": [
    "for split in list_splits:  # split / data partition to analyze\n",
    "    # load data\n",
    "    cur = EvalDataset(root_dir, database=split)\n",
    "    sdfs"
   ]
  },
  {
   "cell_type": "code",
   "execution_count": null,
   "metadata": {},
   "outputs": [],
   "source": [
    "df = pd.read_json(json_path)\n",
    "df = df.reset_index(drop = True)\n",
    "df[\"weather\"] = pd.DataFrame(df['attributes'].tolist())[\"weather\"]\n",
    "df = df.drop(columns = [\"attributes\", \"labels\", \"timestamp\"]).reset_index(drop = True)\n",
    "df[\"name\"] = image_base_path + df[\"name\"]"
   ]
  },
  {
   "cell_type": "markdown",
   "metadata": {},
   "source": [
    "## Snowy"
   ]
  },
  {
   "cell_type": "code",
   "execution_count": null,
   "metadata": {},
   "outputs": [],
   "source": [
    "weather = \"snowy\"\n",
    "image_list = df[df[\"weather\"] == weather][\"name\"].tolist()\n",
    "utils.eval_utils.plot_imagegrid(image_list, save_name=save_path+split+\"_\"+weather, fig_title=os.path.basename(split+\"_\"+weather))\n",
    "image_list = [EasyImage.from_file(image, lazy = True) for image in image_list]\n",
    "EL = EasyImageList(image_list)\n",
    "EL.html(size = size, sample = sample)"
   ]
  },
  {
   "cell_type": "markdown",
   "metadata": {},
   "source": [
    "## Rainy"
   ]
  },
  {
   "cell_type": "code",
   "execution_count": null,
   "metadata": {},
   "outputs": [],
   "source": [
    "weather = \"rainy\"\n",
    "image_list = df[df[\"weather\"] == weather][\"name\"].tolist()\n",
    "utils.eval_utils.plot_imagegrid(image_list, save_name=save_path+split+\"_\"+weather, fig_title=os.path.basename(split+\"_\"+weather))\n",
    "image_list = [EasyImage.from_file(image, lazy = True) for image in image_list]\n",
    "EL = EasyImageList(image_list)\n",
    "EL.html(size = size, sample = sample)"
   ]
  },
  {
   "cell_type": "markdown",
   "metadata": {},
   "source": [
    "## Cloudy"
   ]
  },
  {
   "cell_type": "code",
   "execution_count": null,
   "metadata": {},
   "outputs": [],
   "source": [
    "weather = \"cloudy\"\n",
    "image_list = df[df[\"weather\"] == weather][\"name\"].tolist()\n",
    "utils.eval_utils.plot_imagegrid(image_list, save_name=save_path+split+\"_\"+weather, fig_title=os.path.basename(split+\"_\"+weather))\n",
    "image_list = [EasyImage.from_file(image, lazy = True) for image in image_list]\n",
    "EL = EasyImageList(image_list)\n",
    "EL.html(size = size, sample = sample)"
   ]
  },
  {
   "cell_type": "markdown",
   "metadata": {},
   "source": [
    "## Clear"
   ]
  },
  {
   "cell_type": "code",
   "execution_count": null,
   "metadata": {},
   "outputs": [],
   "source": [
    "weather = \"clear\"\n",
    "image_list = df[df[\"weather\"] == weather][\"name\"].tolist()\n",
    "utils.eval_utils.plot_imagegrid(image_list, save_name=save_path+split+\"_\"+weather, fig_title=os.path.basename(split+\"_\"+weather))\n",
    "image_list = [EasyImage.from_file(image, lazy = True) for image in image_list]\n",
    "EL = EasyImageList(image_list)\n",
    "EL.html(size = size, sample = sample)"
   ]
  }
 ],
 "metadata": {
  "kernelspec": {
   "display_name": "py36",
   "language": "python",
   "name": "py36"
  },
  "language_info": {
   "codemirror_mode": {
    "name": "ipython",
    "version": 3
   },
   "file_extension": ".py",
   "mimetype": "text/x-python",
   "name": "python",
   "nbconvert_exporter": "python",
   "pygments_lexer": "ipython3",
   "version": "3.6.7"
  }
 },
 "nbformat": 4,
 "nbformat_minor": 2
}

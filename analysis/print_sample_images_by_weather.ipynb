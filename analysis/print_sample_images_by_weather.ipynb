{
 "cells": [
  {
   "cell_type": "code",
   "execution_count": 1,
   "metadata": {},
   "outputs": [],
   "source": [
    "# SETTINGS\n",
    "base_path_project = \"/home/till/projects/night-drive/\"    # path to project fodler\n",
    "save_path = base_path_project+\"analysis/sample_images_by_weather_condition/\"   # results path\n",
    "root_dir = \"/home/till/SharedFolder/CurrentDatasets/\"\n",
    "size = 100   # size of image display (html mode)\n",
    "sample = 200   # number of images to display (html mode)"
   ]
  },
  {
   "cell_type": "code",
   "execution_count": 2,
   "metadata": {},
   "outputs": [],
   "source": [
    "import os\n",
    "import numpy as np\n",
    "import pandas as pd\n",
    "import sys\n",
    "sys.path.append(base_path_project)\n",
    "import utils.eval_utils\n",
    "from utils.eval_dataset import EvalDataset"
   ]
  },
  {
   "cell_type": "code",
   "execution_count": 3,
   "metadata": {},
   "outputs": [
    {
     "name": "stdout",
     "output_type": "stream",
     "text": [
      ">> Loading annotations for data set 'bdd_train' ...\n",
      "A\n",
      ">> Loading annotations for data set 'bdd_valid' ...\n",
      "AA\n"
     ]
    },
    {
     "data": {
      "text/html": [
       "<div>\n",
       "<style scoped>\n",
       "    .dataframe tbody tr th:only-of-type {\n",
       "        vertical-align: middle;\n",
       "    }\n",
       "\n",
       "    .dataframe tbody tr th {\n",
       "        vertical-align: top;\n",
       "    }\n",
       "\n",
       "    .dataframe thead th {\n",
       "        text-align: right;\n",
       "    }\n",
       "</style>\n",
       "<table border=\"1\" class=\"dataframe\">\n",
       "  <thead>\n",
       "    <tr style=\"text-align: right;\">\n",
       "      <th></th>\n",
       "      <th>labels</th>\n",
       "      <th>name</th>\n",
       "      <th>weather</th>\n",
       "      <th>timeofday</th>\n",
       "      <th>scene</th>\n",
       "    </tr>\n",
       "  </thead>\n",
       "  <tbody>\n",
       "    <tr>\n",
       "      <th>0</th>\n",
       "      <td>[{'category': 'traffic light', 'attributes': {...</td>\n",
       "      <td>/home/till/SharedFolder/CurrentDatasets/images...</td>\n",
       "      <td>clear</td>\n",
       "      <td>daytime</td>\n",
       "      <td>city street</td>\n",
       "    </tr>\n",
       "    <tr>\n",
       "      <th>1</th>\n",
       "      <td>[{'category': 'traffic sign', 'attributes': {'...</td>\n",
       "      <td>/home/till/SharedFolder/CurrentDatasets/images...</td>\n",
       "      <td>clear</td>\n",
       "      <td>dawn/dusk</td>\n",
       "      <td>highway</td>\n",
       "    </tr>\n",
       "    <tr>\n",
       "      <th>2</th>\n",
       "      <td>[{'category': 'car', 'attributes': {'occluded'...</td>\n",
       "      <td>/home/till/SharedFolder/CurrentDatasets/images...</td>\n",
       "      <td>clear</td>\n",
       "      <td>dawn/dusk</td>\n",
       "      <td>residential</td>\n",
       "    </tr>\n",
       "    <tr>\n",
       "      <th>3</th>\n",
       "      <td>[{'category': 'traffic sign', 'attributes': {'...</td>\n",
       "      <td>/home/till/SharedFolder/CurrentDatasets/images...</td>\n",
       "      <td>clear</td>\n",
       "      <td>night</td>\n",
       "      <td>city street</td>\n",
       "    </tr>\n",
       "    <tr>\n",
       "      <th>4</th>\n",
       "      <td>[{'category': 'car', 'attributes': {'occluded'...</td>\n",
       "      <td>/home/till/SharedFolder/CurrentDatasets/images...</td>\n",
       "      <td>clear</td>\n",
       "      <td>night</td>\n",
       "      <td>highway</td>\n",
       "    </tr>\n",
       "  </tbody>\n",
       "</table>\n",
       "</div>"
      ],
      "text/plain": [
       "                                              labels  \\\n",
       "0  [{'category': 'traffic light', 'attributes': {...   \n",
       "1  [{'category': 'traffic sign', 'attributes': {'...   \n",
       "2  [{'category': 'car', 'attributes': {'occluded'...   \n",
       "3  [{'category': 'traffic sign', 'attributes': {'...   \n",
       "4  [{'category': 'car', 'attributes': {'occluded'...   \n",
       "\n",
       "                                                name weather  timeofday  \\\n",
       "0  /home/till/SharedFolder/CurrentDatasets/images...   clear    daytime   \n",
       "1  /home/till/SharedFolder/CurrentDatasets/images...   clear  dawn/dusk   \n",
       "2  /home/till/SharedFolder/CurrentDatasets/images...   clear  dawn/dusk   \n",
       "3  /home/till/SharedFolder/CurrentDatasets/images...   clear      night   \n",
       "4  /home/till/SharedFolder/CurrentDatasets/images...   clear      night   \n",
       "\n",
       "         scene  \n",
       "0  city street  \n",
       "1      highway  \n",
       "2  residential  \n",
       "3  city street  \n",
       "4      highway  "
      ]
     },
     "execution_count": 3,
     "metadata": {},
     "output_type": "execute_result"
    }
   ],
   "source": [
    "# load original BDD data\n",
    "orig = EvalDataset(root_dir, database=['bdd_train','bdd_valid'])\n",
    "orig.data.head()"
   ]
  },
  {
   "cell_type": "code",
   "execution_count": 4,
   "metadata": {},
   "outputs": [],
   "source": [
    "# \n",
    "list_splits = [*orig.list_splits, *orig.list_splits_over]\n",
    "list_weather = orig.list_weather"
   ]
  },
  {
   "cell_type": "code",
   "execution_count": null,
   "metadata": {},
   "outputs": [
    {
     "data": {
      "text/html": [
       "<div>\n",
       "<style scoped>\n",
       "    .dataframe tbody tr th:only-of-type {\n",
       "        vertical-align: middle;\n",
       "    }\n",
       "\n",
       "    .dataframe tbody tr th {\n",
       "        vertical-align: top;\n",
       "    }\n",
       "\n",
       "    .dataframe thead th {\n",
       "        text-align: right;\n",
       "    }\n",
       "</style>\n",
       "<table border=\"1\" class=\"dataframe\">\n",
       "  <thead>\n",
       "    <tr style=\"text-align: right;\">\n",
       "      <th>weather</th>\n",
       "      <th>clear</th>\n",
       "      <th>foggy</th>\n",
       "      <th>overcast</th>\n",
       "      <th>partly cloudy</th>\n",
       "      <th>rainy</th>\n",
       "      <th>snowy</th>\n",
       "      <th>undefined</th>\n",
       "    </tr>\n",
       "    <tr>\n",
       "      <th>timeofday</th>\n",
       "      <th></th>\n",
       "      <th></th>\n",
       "      <th></th>\n",
       "      <th></th>\n",
       "      <th></th>\n",
       "      <th></th>\n",
       "      <th></th>\n",
       "    </tr>\n",
       "  </thead>\n",
       "  <tbody>\n",
       "    <tr>\n",
       "      <th>dawn/dusk</th>\n",
       "      <td>2311</td>\n",
       "      <td>16</td>\n",
       "      <td>1329</td>\n",
       "      <td>665</td>\n",
       "      <td>383</td>\n",
       "      <td>510</td>\n",
       "      <td>591</td>\n",
       "    </tr>\n",
       "    <tr>\n",
       "      <th>daytime</th>\n",
       "      <td>14218</td>\n",
       "      <td>53</td>\n",
       "      <td>8590</td>\n",
       "      <td>4900</td>\n",
       "      <td>2918</td>\n",
       "      <td>3284</td>\n",
       "      <td>8023</td>\n",
       "    </tr>\n",
       "    <tr>\n",
       "      <th>night</th>\n",
       "      <td>26158</td>\n",
       "      <td>74</td>\n",
       "      <td>90</td>\n",
       "      <td>54</td>\n",
       "      <td>2494</td>\n",
       "      <td>2522</td>\n",
       "      <td>508</td>\n",
       "    </tr>\n",
       "    <tr>\n",
       "      <th>undefined</th>\n",
       "      <td>3</td>\n",
       "      <td>0</td>\n",
       "      <td>0</td>\n",
       "      <td>0</td>\n",
       "      <td>13</td>\n",
       "      <td>2</td>\n",
       "      <td>154</td>\n",
       "    </tr>\n",
       "  </tbody>\n",
       "</table>\n",
       "</div>"
      ],
      "text/plain": [
       "weather    clear  foggy  overcast  partly cloudy  rainy  snowy  undefined\n",
       "timeofday                                                                \n",
       "dawn/dusk   2311     16      1329            665    383    510        591\n",
       "daytime    14218     53      8590           4900   2918   3284       8023\n",
       "night      26158     74        90             54   2494   2522        508\n",
       "undefined      3      0         0              0     13      2        154"
      ]
     },
     "execution_count": 5,
     "metadata": {},
     "output_type": "execute_result"
    }
   ],
   "source": [
    "orig.get_crosstab_timeofdayxweather()"
   ]
  },
  {
   "cell_type": "code",
   "execution_count": null,
   "metadata": {
    "scrolled": true
   },
   "outputs": [
    {
     "name": "stdout",
     "output_type": "stream",
     "text": [
      ">> Loading annotations for data set 'train_A' ...\n",
      "AA\n"
     ]
    },
    {
     "name": "stderr",
     "output_type": "stream",
     "text": [
      "/home/till/anaconda3/lib/python3.6/site-packages/matplotlib/figure.py:445: UserWarning: Matplotlib is currently using module://ipykernel.pylab.backend_inline, which is a non-GUI backend, so cannot show the figure.\n",
      "  % get_backend())\n"
     ]
    },
    {
     "name": "stdout",
     "output_type": "stream",
     "text": [
      "Saving figure file /home/till/projects/night-drive/analysis/sample_images_by_weather_condition/train_A_clear\n",
      "Saving figure file /home/till/projects/night-drive/analysis/sample_images_by_weather_condition/train_A_foggy\n",
      "Saving figure file /home/till/projects/night-drive/analysis/sample_images_by_weather_condition/train_A_overcast\n",
      "Saving figure file /home/till/projects/night-drive/analysis/sample_images_by_weather_condition/train_A_partly cloudy\n",
      "Saving figure file /home/till/projects/night-drive/analysis/sample_images_by_weather_condition/train_A_rainy\n",
      "Saving figure file /home/till/projects/night-drive/analysis/sample_images_by_weather_condition/train_A_snowy\n"
     ]
    },
    {
     "name": "stderr",
     "output_type": "stream",
     "text": [
      "/home/till/anaconda3/lib/python3.6/site-packages/matplotlib/axis.py:1081: UserWarning: Unable to find pixel distance along axis for interval padding of ticks; assuming no interval padding needed.\n",
      "  warnings.warn(\"Unable to find pixel distance along axis \"\n"
     ]
    },
    {
     "name": "stdout",
     "output_type": "stream",
     "text": [
      "Saving figure file /home/till/projects/night-drive/analysis/sample_images_by_weather_condition/train_A_undefined\n",
      ">> Loading annotations for data set 'train_B' ...\n",
      "AA\n"
     ]
    },
    {
     "name": "stderr",
     "output_type": "stream",
     "text": [
      "/home/till/anaconda3/lib/python3.6/site-packages/matplotlib/figure.py:445: UserWarning: Matplotlib is currently using module://ipykernel.pylab.backend_inline, which is a non-GUI backend, so cannot show the figure.\n",
      "  % get_backend())\n"
     ]
    },
    {
     "name": "stdout",
     "output_type": "stream",
     "text": [
      "Saving figure file /home/till/projects/night-drive/analysis/sample_images_by_weather_condition/train_B_clear\n"
     ]
    }
   ],
   "source": [
    "n_img_sample = 64\n",
    "# for each data split\n",
    "for split in list_splits:  # split / data partition to analyze\n",
    "    # load data\n",
    "    cur = EvalDataset(root_dir, database=split)\n",
    "    cur.data = cur.data.drop(columns = [\"labels\"]).reset_index(drop = True)\n",
    "    for weather in list_weather:  # split / data partition to analyze\n",
    "        samp = cur.data.sample(n_img_sample,axis=0)\n",
    "        image_list = samp.name.tolist()\n",
    "        weather_list = samp.weather.tolist()\n",
    "        utils.eval_utils.plot_imagegrid(image_list, save_name=save_path+split+\"_\"+weather, fig_title=os.path.basename(split+\"_\"+weather), lab)\n"
   ]
  }
 ],
 "metadata": {
  "kernelspec": {
   "display_name": "Python 3",
   "language": "python",
   "name": "python3"
  },
  "language_info": {
   "codemirror_mode": {
    "name": "ipython",
    "version": 3
   },
   "file_extension": ".py",
   "mimetype": "text/x-python",
   "name": "python",
   "nbconvert_exporter": "python",
   "pygments_lexer": "ipython3",
   "version": "3.6.8"
  }
 },
 "nbformat": 4,
 "nbformat_minor": 2
}

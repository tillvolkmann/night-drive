{
 "cells": [
  {
   "cell_type": "code",
   "execution_count": null,
   "metadata": {},
   "outputs": [],
   "source": [
    "import sys\n",
    "sys.path.append('/home/SharedFolder/git/tillvolkmann/night-drive')\n",
    "sys.path.append('/home/SharedFolder/git/tillvolkmann/night-drive/classifier')\n",
    "sys.path.append('/home/SharedFolder/git/tillvolkmann/night-drive/utils')"
   ]
  },
  {
   "cell_type": "code",
   "execution_count": null,
   "metadata": {},
   "outputs": [],
   "source": [
    "import time\n",
    "import pandas as pd\n",
    "import matplotlib.pyplot as plt\n",
    "from eval_utils import *\n",
    "from classification_eval import *\n",
    "from weather_classifier import *\n",
    "from easyimages.utils import make_notebook_wider\n",
    "%matplotlib inline\n",
    "make_notebook_wider()"
   ]
  },
  {
   "cell_type": "code",
   "execution_count": null,
   "metadata": {},
   "outputs": [],
   "source": [
    "############################ MODIFY HERE ############################\n",
    "# set data paths\n",
    "path_valid_images = \"/home/SharedFolder/CurrentDatasets/bdd100k_sorted_coco/train_dev_A\"\n",
    "path_valid_json = \"/home/SharedFolder/CurrentDatasets/bdd100k_sorted_coco/annotations/bdd100k_sorted_train_dev_A_over.json\"\n",
    "path_weights = \"/home/SharedFolder/trained_models/night-drive/weather_classifier/without_cloudy/train_A_over/resnet18_weather_classifierbdd100k_sorted_train_A_over_epoch_32.pth\"\n",
    "\n",
    "# title for charts\n",
    "chart_title = \"train_A_over -> train_dev_A_over\"\n",
    "\n",
    "# cut_off\n",
    "cut_off = None"
   ]
  },
  {
   "cell_type": "code",
   "execution_count": null,
   "metadata": {},
   "outputs": [],
   "source": [
    "# setting device\n",
    "device = torch.device(\"cuda:0\" if torch.cuda.is_available() else \"cpu\")"
   ]
  },
  {
   "cell_type": "code",
   "execution_count": null,
   "metadata": {},
   "outputs": [],
   "source": [
    "# create classifer, datasets and dataloader\n",
    "net, _, dl_valid, class_dict = weather_classifier(path_valid_json = path_valid_json, path_valid_images = path_valid_images)\n",
    "# send model to device\n",
    "net.to(device)\n",
    "# load weights\n",
    "net.load_state_dict(torch.load(path_weights)[\"model_state_dict\"])"
   ]
  },
  {
   "cell_type": "code",
   "execution_count": null,
   "metadata": {},
   "outputs": [],
   "source": [
    "# f1-score\n",
    "class_dict_cm = class_dict.copy()\n",
    "if cut_off is not None:\n",
    "    class_dict_cm[\"unknown\"] = -1 # catching the \"negatives\" when defining a cut-off\n",
    "\n",
    "scores, values = evaluate_weather(net, dl_valid, score_types = [\"f1_score_micro\", \"f1_score_macro\", \"f1_score_weighted\", \"accuracy\", \"roc_auc_micro\", \"roc_auc_macro\", \"pr_micro\", \"pr_macro\"], cut_off = cut_off, class_dict = class_dict)    \n",
    "print(scores)"
   ]
  },
  {
   "cell_type": "code",
   "execution_count": null,
   "metadata": {},
   "outputs": [],
   "source": [
    "plot_confusion_matrix(values[\"targets\"], values[\"predictions\"], classes = sorted(class_dict_cm, key = class_dict_cm.get), title = f\"Confusion Matrix: {chart_title} (Thresh = {cut_off})\", normalize = True)"
   ]
  },
  {
   "cell_type": "markdown",
   "metadata": {},
   "source": [
    "## Warning: ROC not applicable to imbalanced datasets ! ##"
   ]
  },
  {
   "cell_type": "code",
   "execution_count": null,
   "metadata": {},
   "outputs": [],
   "source": [
    "roc_auc, fpr, tpr, n_classes = calculate_roc_auc(values[\"targets\"], values[\"prediction_scores\"], class_dict)\n",
    "fig = plot_roc_curve(roc_auc, fpr, tpr, n_classes, class_dict, title = f\"ROC: {chart_title}\")"
   ]
  },
  {
   "cell_type": "markdown",
   "metadata": {},
   "source": [
    "## Precision-Recall Curve ##"
   ]
  },
  {
   "cell_type": "code",
   "execution_count": null,
   "metadata": {},
   "outputs": [],
   "source": [
    "precision, recall, average_precision, n_classes = calculate_precision_recall(values[\"targets\"], values[\"prediction_scores\"], class_dict)"
   ]
  },
  {
   "cell_type": "code",
   "execution_count": null,
   "metadata": {},
   "outputs": [],
   "source": [
    "fig = plot_pr_curve(precision, recall, average_precision, n_classes, class_dict, title = f\"PR: {chart_title}\")"
   ]
  },
  {
   "cell_type": "code",
   "execution_count": null,
   "metadata": {},
   "outputs": [],
   "source": [
    "df_pred = pd.DataFrame(values)\n",
    "df_pred[\"max_score\"] = df_pred[\"prediction_scores\"].apply(lambda x: np.max(x))\n",
    "df_pred.head()"
   ]
  },
  {
   "cell_type": "code",
   "execution_count": null,
   "metadata": {},
   "outputs": [],
   "source": [
    "print(f\"Number of unique images: {len(df_pred.paths.unique())}\")\n",
    "df_pred.head()"
   ]
  },
  {
   "cell_type": "code",
   "execution_count": null,
   "metadata": {},
   "outputs": [],
   "source": [
    "df_pred_goods = df_pred.loc[df_pred.targets == df_pred.predictions].sort_values(by = \"max_score\", ascending = False).reset_index(drop = True)\n",
    "print(f\"Number of unique correctly classified images: {len(df_pred_goods.paths.unique())}\")\n",
    "df_pred_goods.head()"
   ]
  },
  {
   "cell_type": "code",
   "execution_count": null,
   "metadata": {},
   "outputs": [],
   "source": [
    "df_pred_bads = df_pred.loc[df_pred.targets != df_pred.predictions].sort_values(by = \"max_score\", ascending = False).reset_index(drop = True)\n",
    "print(f\"Number of unique misclassified images: {len(df_pred_bads.paths.unique())}\")\n",
    "df_pred_bads.head()"
   ]
  },
  {
   "cell_type": "markdown",
   "metadata": {},
   "source": [
    "### Clear -> Clear (Best) ###"
   ]
  },
  {
   "cell_type": "code",
   "execution_count": null,
   "metadata": {},
   "outputs": [],
   "source": [
    "df_pred_good_clear = df_pred_goods.loc[df_pred_goods.targets == 0].sort_values(by = \"max_score\", ascending = False).reset_index(drop = True)\n",
    "df_pred_good_clear.head()\n",
    "plot_imagegrid(df_pred_good_clear.paths.tolist(), save_name = None, do_shuffle = False, labels = [f\"Score: {score:.5f}\" for score in df_pred_good_clear.max_score.tolist()])"
   ]
  },
  {
   "cell_type": "markdown",
   "metadata": {},
   "source": [
    "### Clear -> Clear (Worst) ###"
   ]
  },
  {
   "cell_type": "code",
   "execution_count": null,
   "metadata": {},
   "outputs": [],
   "source": [
    "df_pred_good_clear = df_pred_goods.loc[df_pred_goods.targets == 0].sort_values(by = \"max_score\", ascending = True).reset_index(drop = True)\n",
    "df_pred_good_clear.head()\n",
    "plot_imagegrid(df_pred_good_clear.paths.tolist(), save_name = None, do_shuffle = False, labels = [f\"Score: {score:.5f}\" for score in df_pred_good_clear.max_score.tolist()])"
   ]
  },
  {
   "cell_type": "markdown",
   "metadata": {},
   "source": [
    "### Rainy -> Rainy (Best) ###"
   ]
  },
  {
   "cell_type": "code",
   "execution_count": null,
   "metadata": {},
   "outputs": [],
   "source": [
    "df_pred_good_rainy = df_pred_goods.loc[df_pred_goods.targets == 1].sort_values(by = \"max_score\", ascending = False).reset_index(drop = True)\n",
    "df_pred_good_rainy.head()\n",
    "plot_imagegrid(df_pred_good_rainy.paths.tolist(), save_name = None, do_shuffle = False, labels = [f\"Score: {score:.5f}\" for score in df_pred_good_rainy.max_score.tolist()])"
   ]
  },
  {
   "cell_type": "markdown",
   "metadata": {},
   "source": [
    "### Rainy -> Rainy (Worst) ###"
   ]
  },
  {
   "cell_type": "code",
   "execution_count": null,
   "metadata": {},
   "outputs": [],
   "source": [
    "df_pred_good_rainy = df_pred_goods.loc[df_pred_goods.targets == 1].sort_values(by = \"max_score\", ascending = True).reset_index(drop = True)\n",
    "df_pred_good_rainy.head()\n",
    "plot_imagegrid(df_pred_good_rainy.paths.tolist(), save_name = None, do_shuffle = False, labels = [f\"Score: {score:.5f}\" for score in df_pred_good_rainy.max_score.tolist()])"
   ]
  },
  {
   "cell_type": "markdown",
   "metadata": {},
   "source": [
    "### Snowy -> Snowy (Best) ###"
   ]
  },
  {
   "cell_type": "code",
   "execution_count": null,
   "metadata": {},
   "outputs": [],
   "source": [
    "df_pred_good_snowy = df_pred_goods.loc[df_pred_goods.targets == 2].sort_values(by = \"max_score\", ascending = False).reset_index(drop = True)\n",
    "df_pred_good_snowy.head()\n",
    "plot_imagegrid(df_pred_good_snowy.paths.tolist(), save_name = None, do_shuffle = False, labels = [f\"Score: {score:.5f}\" for score in df_pred_good_snowy.max_score.tolist()])"
   ]
  },
  {
   "cell_type": "markdown",
   "metadata": {},
   "source": [
    "### Snowy -> Snowy (Worst) ###"
   ]
  },
  {
   "cell_type": "code",
   "execution_count": null,
   "metadata": {
    "scrolled": true
   },
   "outputs": [],
   "source": [
    "df_pred_good_snowy = df_pred_goods.loc[df_pred_goods.targets == 2].sort_values(by = \"max_score\", ascending = True).reset_index(drop = True)\n",
    "df_pred_good_snowy.head()\n",
    "plot_imagegrid(df_pred_good_snowy.paths.tolist(), save_name = None, do_shuffle = False, labels = [f\"Score: {score:.5f}\" for score in df_pred_good_snowy.max_score.tolist()])"
   ]
  },
  {
   "cell_type": "markdown",
   "metadata": {},
   "source": [
    "### Clear -> Rainy (Worst) ###"
   ]
  },
  {
   "cell_type": "code",
   "execution_count": null,
   "metadata": {},
   "outputs": [],
   "source": [
    "df_pred_bads_clear = df_pred_bads.loc[df_pred_bads.targets == 0].loc[df_pred_bads.predictions == 1].sort_values(by = \"max_score\", ascending = False).reset_index(drop = True)\n",
    "df_pred_bads_clear.head()\n",
    "plot_imagegrid(df_pred_bads_clear.paths.tolist(), save_name = None, do_shuffle = False, labels = [f\"Score: {score:.5f}\" for score in df_pred_bads_clear.max_score.tolist()])"
   ]
  },
  {
   "cell_type": "markdown",
   "metadata": {},
   "source": [
    "### Clear -> Snowy (Worst) ###"
   ]
  },
  {
   "cell_type": "code",
   "execution_count": null,
   "metadata": {},
   "outputs": [],
   "source": [
    "df_pred_bads_clear = df_pred_bads.loc[df_pred_bads.targets == 0].loc[df_pred_bads.predictions == 2].sort_values(by = \"max_score\", ascending = False).reset_index(drop = True)\n",
    "df_pred_bads_clear.head()\n",
    "plot_imagegrid(df_pred_bads_clear.paths.tolist(), save_name = None, do_shuffle = False, labels = [f\"Score: {score:.5f}\" for score in df_pred_bads_clear.max_score.tolist()])"
   ]
  },
  {
   "cell_type": "markdown",
   "metadata": {},
   "source": [
    "### Rainy -> Clear (Worst) ###"
   ]
  },
  {
   "cell_type": "code",
   "execution_count": null,
   "metadata": {},
   "outputs": [],
   "source": [
    "df_pred_bads_rainy = df_pred_bads.loc[df_pred_bads.targets == 1].loc[df_pred_bads.predictions == 0].sort_values(by = \"max_score\", ascending = False).reset_index(drop = True)\n",
    "df_pred_bads_rainy.head()\n",
    "plot_imagegrid(df_pred_bads_rainy.paths.tolist(), save_name = None, do_shuffle = False, labels = [f\"Score: {score:.5f}\" for score in df_pred_bads_rainy.max_score.tolist()])"
   ]
  },
  {
   "cell_type": "markdown",
   "metadata": {},
   "source": [
    "### Rainy -> Snowy (Worst) ###"
   ]
  },
  {
   "cell_type": "code",
   "execution_count": null,
   "metadata": {},
   "outputs": [],
   "source": [
    "df_pred_bads_rainy = df_pred_bads.loc[df_pred_bads.targets == 1].loc[df_pred_bads.predictions == 2].sort_values(by = \"max_score\", ascending = False).reset_index(drop = True)\n",
    "df_pred_bads_rainy.head()\n",
    "plot_imagegrid(df_pred_bads_rainy.paths.tolist(), save_name = None, do_shuffle = False, labels = [f\"Score: {score:.5f}\" for score in df_pred_bads_rainy.max_score.tolist()])"
   ]
  },
  {
   "cell_type": "markdown",
   "metadata": {},
   "source": [
    "### Snowy -> Clear (Worst) ###"
   ]
  },
  {
   "cell_type": "code",
   "execution_count": null,
   "metadata": {},
   "outputs": [],
   "source": [
    "df_pred_bads_snowy = df_pred_bads.loc[df_pred_bads.targets == 2].loc[df_pred_bads.predictions == 0].sort_values(by = \"max_score\", ascending = False).reset_index(drop = True)\n",
    "df_pred_bads_snowy.head()\n",
    "plot_imagegrid(df_pred_bads_snowy.paths.tolist(), save_name = None, do_shuffle = False, labels = [f\"Score: {score:.5f}\" for score in df_pred_bads_snowy.max_score.tolist()])"
   ]
  },
  {
   "cell_type": "markdown",
   "metadata": {},
   "source": [
    "### Snowy -> Rainy (Worst) ###"
   ]
  },
  {
   "cell_type": "code",
   "execution_count": null,
   "metadata": {},
   "outputs": [],
   "source": [
    "df_pred_bads_snowy = df_pred_bads.loc[df_pred_bads.targets == 2].loc[df_pred_bads.predictions == 1].sort_values(by = \"max_score\", ascending = False).reset_index(drop = True)\n",
    "df_pred_bads_snowy.head()\n",
    "plot_imagegrid(df_pred_bads_snowy.paths.tolist(), save_name = None, do_shuffle = False, labels = [f\"Score: {score:.5f}\" for score in df_pred_bads_snowy.max_score.tolist()])"
   ]
  },
  {
   "cell_type": "code",
   "execution_count": null,
   "metadata": {},
   "outputs": [],
   "source": []
  }
 ],
 "metadata": {
  "kernelspec": {
   "display_name": "Python 3",
   "language": "python",
   "name": "python3"
  },
  "language_info": {
   "codemirror_mode": {
    "name": "ipython",
    "version": 3
   },
   "file_extension": ".py",
   "mimetype": "text/x-python",
   "name": "python",
   "nbconvert_exporter": "python",
   "pygments_lexer": "ipython3",
   "version": "3.6.7"
  }
 },
 "nbformat": 4,
 "nbformat_minor": 2
}

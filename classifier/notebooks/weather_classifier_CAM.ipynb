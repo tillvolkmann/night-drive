{
 "cells": [
  {
   "cell_type": "code",
   "execution_count": 1,
   "metadata": {},
   "outputs": [],
   "source": [
    "import sys\n",
    "sys.path.append('/home/SharedFolder/git/tillvolkmann/night-drive')\n",
    "sys.path.append('/home/SharedFolder/git/tillvolkmann/night-drive/classifier')\n",
    "sys.path.append('/home/SharedFolder/git/tillvolkmann/night-drive/utils')"
   ]
  },
  {
   "cell_type": "code",
   "execution_count": 2,
   "metadata": {},
   "outputs": [],
   "source": [
    "import os\n",
    "import cv2\n",
    "import time\n",
    "import glob\n",
    "import shutil\n",
    "import random\n",
    "import subprocess\n",
    "import numpy as np\n",
    "from eval_utils import *"
   ]
  },
  {
   "cell_type": "code",
   "execution_count": 3,
   "metadata": {},
   "outputs": [],
   "source": [
    "# specify device\n",
    "device = \"cuda\"\n",
    "\n",
    "# specify paths\n",
    "path_to_videos = \"/home/SharedFolder/CurrentDatasets/bdd100k_video_samples\"\n",
    "weights_classification = \"/home/SharedFolder/trained_models/night-drive/weather_classifier/without_cloudy/20190323_ResNet18_without_cloudy_train_A_over/resnet18_weather_classifierbdd100k_sorted_train_A_over_epoch_39.pth\"\n",
    "\n",
    "# confidence thresholds, set between 0 and 1 to enable module\n",
    "conf_thresh_classification = 0.7\n",
    "\n",
    "# mapping dict for weather predictions\n",
    "dict_weather = {\n",
    "     0: \"Weather: Clear\",\n",
    "     1: \"Weather: Rainy\",\n",
    "     2: \"Weather: Snowy\",        \n",
    "}\n",
    "\n",
    "# for separating temporary folders when using multiple workers\n",
    "worker_name = \"worker_CAM1\""
   ]
  },
  {
   "cell_type": "code",
   "execution_count": 4,
   "metadata": {},
   "outputs": [
    {
     "name": "stdout",
     "output_type": "stream",
     "text": [
      "_train_A_over_C39\n"
     ]
    }
   ],
   "source": [
    "outfile_suffix = \"_\" + weights_classification.split(os.sep)[-1].split(\"sorted_\")[-1].split(\"_epoch\")[0]\n",
    "outfile_suffix += \"_C\" + weights_classification.split(\"_epoch_\")[-1].split(\".pth\")[0]\n",
    "print(outfile_suffix)"
   ]
  },
  {
   "cell_type": "code",
   "execution_count": null,
   "metadata": {},
   "outputs": [],
   "source": [
    "videos = glob.glob(path_to_videos + \"/*.mov\")\n",
    "random.seed(123)\n",
    "random.shuffle(videos)"
   ]
  },
  {
   "cell_type": "code",
   "execution_count": null,
   "metadata": {},
   "outputs": [],
   "source": [
    "def process_video(video, dict_weather, conf_thresh_classification, device):\n",
    "    # (re-) create directories for extracted frames and target video\n",
    "    file_name = os.path.basename(video)\n",
    "    path_name = os.path.dirname(video)\n",
    "    temp_path = os.path.join(path_name, worker_name, file_name.split(\".\")[0])\n",
    "    temp_pred_path = os.path.join(temp_path, \"prediction\")\n",
    "    target_path = os.path.join(path_name, \"demovideos_CAM\")\n",
    "    target_file = os.path.join(target_path,file_name.split(\".mov\")[0] + outfile_suffix + \".mp4\")\n",
    "    if not os.path.isdir(target_path):\n",
    "        os.makedirs(target_path, exist_ok = True)\n",
    "    elif os.path.exists(target_file):\n",
    "        # do nothing if file already processed\n",
    "        return 0    \n",
    "    if os.path.isdir(temp_path):\n",
    "        shutil.rmtree(temp_path)\n",
    "    os.makedirs(temp_path, exist_ok = True)\n",
    "    os.makedirs(temp_pred_path, exist_ok = True)\n",
    "    # extract frames from video\n",
    "    bash_cmd = [\"ffmpeg\", \"-i\", video, \"-start_number\", \"0\", \"-qscale:v\", \"2\", temp_path + \"/frame-%d.jpg\"]\n",
    "    subprocess.call(bash_cmd)\n",
    "    # process frames\n",
    "    frames = glob.glob(temp_path + \"/*.jpg\")\n",
    "    for frame in frames:\n",
    "        # classify weather and get CAM\n",
    "        pred_weather_class, pred_weather_score, cam_bgr = get_CAM_resnet18(frame, weights_classification, dict_weather, 3, device)\n",
    "        # write weather on image\n",
    "        weather_color = [(255, 255, 255) if pred_weather_score >= conf_thresh_classification else (80, 80, 80)]\n",
    "        cv2.putText(cam_bgr,\n",
    "                    f\"{pred_weather_class} ({pred_weather_score:.2f})\", \n",
    "                    (5, 715), \n",
    "                    cv2.FONT_HERSHEY_SIMPLEX, \n",
    "                    0.8, \n",
    "                    weather_color[0], \n",
    "                    2)\n",
    "        # write bgr (will be transformed to rgb by open cv)\n",
    "        cv2.imwrite(os.path.join(temp_pred_path, os.path.basename(frame)), \n",
    "                    cam_bgr, \n",
    "                    [int(cv2.IMWRITE_JPEG_QUALITY), 95])\n",
    "    # construct video\n",
    "    bash_cmd = [\"ffmpeg\", \"-r\", \"30\", \"-f\", \"image2\", \"-i\", temp_pred_path + \"/frame-%d.jpg\", \"-vcodec\", \"libx264\", \"-crf\", \"18\", target_file]\n",
    "    subprocess.call(bash_cmd)\n",
    "    # clean-up\n",
    "    shutil.rmtree(temp_path)\n",
    "    return len(frames)"
   ]
  },
  {
   "cell_type": "code",
   "execution_count": null,
   "metadata": {},
   "outputs": [
    {
     "name": "stdout",
     "output_type": "stream",
     "text": [
      "Processing video 1 of 1000... skipped. File exists.\n",
      "Processing video 2 of 1000... skipped. File exists.\n",
      "Processing video 3 of 1000... skipped. File exists.\n",
      "Processing video 4 of 1000... skipped. File exists.\n",
      "Processing video 5 of 1000... skipped. File exists.\n",
      "Processing video 6 of 1000... skipped. File exists.\n",
      "Processing video 7 of 1000... skipped. File exists.\n",
      "Processing video 8 of 1000... skipped. File exists.\n",
      "Processing video 9 of 1000... skipped. File exists.\n",
      "Processing video 10 of 1000... skipped. File exists.\n",
      "Processing video 11 of 1000... skipped. File exists.\n",
      "Processing video 12 of 1000... skipped. File exists.\n",
      "Processing video 13 of 1000... skipped. File exists.\n",
      "Processing video 14 of 1000... skipped. File exists.\n",
      "Processing video 15 of 1000... skipped. File exists.\n",
      "Processing video 16 of 1000... skipped. File exists.\n",
      "Processing video 17 of 1000... skipped. File exists.\n",
      "Processing video 18 of 1000... skipped. File exists.\n",
      "Processing video 19 of 1000... skipped. File exists.\n",
      "Processing video 20 of 1000... done in 1144.29s (0.48s / frame)\n",
      "Processing video 21 of 1000... done in 596.88s (0.49s / frame)\n",
      "Processing video 22 of 1000... done in 592.69s (0.49s / frame)\n",
      "Processing video 23 of 1000... done in 597.85s (0.50s / frame)\n",
      "Processing video 24 of 1000... done in 1185.26s (0.49s / frame)\n",
      "Processing video 25 of 1000... done in 603.11s (0.50s / frame)\n",
      "Processing video 26 of 1000... done in 617.55s (0.51s / frame)\n",
      "Processing video 27 of 1000... done in 1036.76s (0.43s / frame)\n",
      "Processing video 28 of 1000... done in 447.47s (0.37s / frame)\n",
      "Processing video 29 of 1000... done in 446.68s (0.37s / frame)\n",
      "Processing video 30 of 1000... done in 451.66s (0.37s / frame)\n",
      "Processing video 31 of 1000... done in 898.01s (0.37s / frame)\n",
      "Processing video 32 of 1000"
     ]
    }
   ],
   "source": [
    "for i in range(len(videos)):\n",
    "    print(f\"Processing video {i + 1} of {len(videos)}\", end = \"\")\n",
    "    tic = time.time()\n",
    "    n_frames = process_video(videos[i], dict_weather, conf_thresh_classification, device)\n",
    "    toc = time.time()\n",
    "    if n_frames > 0:\n",
    "        print(f\"... done in {toc - tic:.2f}s ({((toc - tic) / n_frames):.2f}s / frame)\")\n",
    "    else:\n",
    "        print(f\"... skipped. File exists.\")"
   ]
  }
 ],
 "metadata": {
  "kernelspec": {
   "display_name": "Python 3",
   "language": "python",
   "name": "python3"
  },
  "language_info": {
   "codemirror_mode": {
    "name": "ipython",
    "version": 3
   },
   "file_extension": ".py",
   "mimetype": "text/x-python",
   "name": "python",
   "nbconvert_exporter": "python",
   "pygments_lexer": "ipython3",
   "version": "3.6.7"
  }
 },
 "nbformat": 4,
 "nbformat_minor": 2
}

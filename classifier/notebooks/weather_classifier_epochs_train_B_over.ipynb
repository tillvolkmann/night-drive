{
 "cells": [
  {
   "cell_type": "code",
   "execution_count": 1,
   "metadata": {},
   "outputs": [
    {
     "ename": "ModuleNotFoundError",
     "evalue": "No module named 'cufflinks'",
     "output_type": "error",
     "traceback": [
      "\u001b[0;31m---------------------------------------------------------------------------\u001b[0m",
      "\u001b[0;31mModuleNotFoundError\u001b[0m                       Traceback (most recent call last)",
      "\u001b[0;32m<ipython-input-1-a95f8fd8d0e6>\u001b[0m in \u001b[0;36m<module>\u001b[0;34m\u001b[0m\n\u001b[1;32m      3\u001b[0m \u001b[0;32mimport\u001b[0m \u001b[0mpandas\u001b[0m \u001b[0;32mas\u001b[0m \u001b[0mpd\u001b[0m\u001b[0;34m\u001b[0m\u001b[0;34m\u001b[0m\u001b[0m\n\u001b[1;32m      4\u001b[0m \u001b[0;32mimport\u001b[0m \u001b[0mplotly\u001b[0m \u001b[0;32mas\u001b[0m \u001b[0mpy\u001b[0m\u001b[0;34m\u001b[0m\u001b[0;34m\u001b[0m\u001b[0m\n\u001b[0;32m----> 5\u001b[0;31m \u001b[0;32mimport\u001b[0m \u001b[0mcufflinks\u001b[0m \u001b[0;32mas\u001b[0m \u001b[0mcf\u001b[0m\u001b[0;34m\u001b[0m\u001b[0;34m\u001b[0m\u001b[0m\n\u001b[0m\u001b[1;32m      6\u001b[0m \u001b[0mget_ipython\u001b[0m\u001b[0;34m(\u001b[0m\u001b[0;34m)\u001b[0m\u001b[0;34m.\u001b[0m\u001b[0mrun_line_magic\u001b[0m\u001b[0;34m(\u001b[0m\u001b[0;34m'matplotlib'\u001b[0m\u001b[0;34m,\u001b[0m \u001b[0;34m'inline'\u001b[0m\u001b[0;34m)\u001b[0m\u001b[0;34m\u001b[0m\u001b[0;34m\u001b[0m\u001b[0m\n",
      "\u001b[0;31mModuleNotFoundError\u001b[0m: No module named 'cufflinks'"
     ]
    }
   ],
   "source": [
    "import os\n",
    "import glob\n",
    "import pandas as pd\n",
    "import plotly as py\n",
    "import cufflinks as cf\n",
    "%matplotlib inline"
   ]
  },
  {
   "cell_type": "code",
   "execution_count": null,
   "metadata": {},
   "outputs": [],
   "source": [
    "path_to_csv = \"/home/till/SharedFolder/trained_models/night-drive/weather_classifier/without_cloudy/train_B_over\"\n",
    "plot_title = \"train_B_over\""
   ]
  },
  {
   "cell_type": "code",
   "execution_count": null,
   "metadata": {},
   "outputs": [],
   "source": [
    "csv_files = glob.glob(path_to_csv + \"/*.csv\")"
   ]
  },
  {
   "cell_type": "markdown",
   "metadata": {},
   "source": [
    "### Combine CSVs into one DataFrame ###"
   ]
  },
  {
   "cell_type": "code",
   "execution_count": null,
   "metadata": {},
   "outputs": [],
   "source": [
    "df = pd.DataFrame()\n",
    "for csv_file in csv_files:\n",
    "    df = pd.concat([df, pd.read_csv(csv_file)], axis = 0)\n",
    "df = df.reset_index(drop = True)"
   ]
  },
  {
   "cell_type": "markdown",
   "metadata": {},
   "source": [
    "### Some preprocessing ###"
   ]
  },
  {
   "cell_type": "code",
   "execution_count": null,
   "metadata": {},
   "outputs": [],
   "source": [
    "df = df.drop(columns = [\"weights\"])\n",
    "df.head()"
   ]
  },
  {
   "cell_type": "code",
   "execution_count": null,
   "metadata": {},
   "outputs": [],
   "source": [
    "df.data = df.data.apply(lambda x: x.split(os.sep)[-1].split(\".json\")[0].split(\"bdd100k_sorted_\")[-1])\n",
    "df = df.sort_values(by = [\"data\", \"epoch\"])\n",
    "df = df.reset_index(drop = True)\n",
    "df.head()"
   ]
  },
  {
   "cell_type": "markdown",
   "metadata": {},
   "source": [
    "### Load training log file ###"
   ]
  },
  {
   "cell_type": "code",
   "execution_count": null,
   "metadata": {},
   "outputs": [],
   "source": [
    "train_log_file = glob.glob(path_to_csv + \"/*.txt\")\n",
    "assert(len(train_log_file) == 1)"
   ]
  },
  {
   "cell_type": "code",
   "execution_count": null,
   "metadata": {},
   "outputs": [],
   "source": [
    "df_loss = pd.read_csv(train_log_file[0], sep = \" \", header = None, skiprows = [0, 1])\n",
    "df_loss.head()"
   ]
  },
  {
   "cell_type": "code",
   "execution_count": null,
   "metadata": {},
   "outputs": [],
   "source": [
    "df_loss = df_loss.iloc[:, [1, 3, 7, 11]].rename(columns = {1: \"epoch\", 3: \"batch\", 7: \"train_loss\", 11: \"train_dev_loss\"})\n",
    "df_loss.epoch = df_loss.epoch.apply(lambda x: int(x.split(\"/\")[0]))\n",
    "df_loss.batch = df_loss.batch.apply(lambda x: int(x.split(\"/\")[0]))\n",
    "df_loss[\"global_batch\"] = (df_loss.epoch - 1) * df_loss.batch.max() + df_loss.batch\n",
    "df_loss = df_loss.sort_values(by = [\"epoch\", \"batch\"]).set_index(\"global_batch\", drop = True)\n",
    "df_loss.head()"
   ]
  },
  {
   "cell_type": "code",
   "execution_count": null,
   "metadata": {},
   "outputs": [],
   "source": [
    "df_loss.plot(y = [\"train_loss\", \"train_dev_loss\"], title = plot_title, figsize = (16, 9))"
   ]
  },
  {
   "cell_type": "markdown",
   "metadata": {},
   "source": [
    "### Combine loss, scores  and plot ###"
   ]
  },
  {
   "cell_type": "code",
   "execution_count": null,
   "metadata": {},
   "outputs": [],
   "source": [
    "df_combined = df_loss.groupby(by = [\"epoch\"]).median()\n",
    "df_combined = df_combined.drop(columns = [\"batch\"])\n",
    "df_combined.head()"
   ]
  },
  {
   "cell_type": "code",
   "execution_count": null,
   "metadata": {
    "scrolled": false
   },
   "outputs": [],
   "source": [
    "for data in df.data.unique():\n",
    "    df_data = df.loc[df.data == data]\n",
    "    df_data = df_data.drop(columns = [\"data\"])\n",
    "    df_data = df_data.set_index(\"epoch\", drop = True)\n",
    "    df_data = df_data.add_suffix(\"_\" + data)\n",
    "    df_combined_data = df_combined.merge(df_data, on = \"epoch\")\n",
    "    df_combined_data.plot(title = plot_title, figsize = (16, 9))"
   ]
  },
  {
   "cell_type": "markdown",
   "metadata": {},
   "source": [
    "### Interactive Plotly Plots ##"
   ]
  },
  {
   "cell_type": "code",
   "execution_count": null,
   "metadata": {
    "scrolled": false
   },
   "outputs": [],
   "source": [
    "cf.go_offline(connected = True)\n",
    "config = {\n",
    "    \"modeBarButtonsToRemove\": [\"sendDataToCloud\"],\n",
    "    \"displaylogo\": False\n",
    "}\n",
    "layout = {\n",
    "    \"title\": plot_title,\n",
    "    \"xaxis\": {\n",
    "        \"title\": \"epoch\"\n",
    "    },    \n",
    "    \"width\": 960,\n",
    "    \"height\": 540\n",
    "}\n",
    "for data in df.data.unique():\n",
    "    df_data = df.loc[df.data == data]\n",
    "    df_data = df_data.drop(columns = [\"data\"])\n",
    "    df_data = df_data.set_index(\"epoch\", drop = True)\n",
    "    df_data = df_data.add_suffix(\"_\" + data)\n",
    "    df_combined_data = df_combined.merge(df_data, on = \"epoch\")\n",
    "    fig = df_combined_data.iplot(layout = layout, asFigure = True)\n",
    "    py.offline.iplot(fig, show_link = False, config = config)"
   ]
  },
  {
   "cell_type": "code",
   "execution_count": null,
   "metadata": {},
   "outputs": [],
   "source": []
  }
 ],
 "metadata": {
  "kernelspec": {
   "display_name": "Python 3",
   "language": "python",
   "name": "python3"
  },
  "language_info": {
   "codemirror_mode": {
    "name": "ipython",
    "version": 3
   },
   "file_extension": ".py",
   "mimetype": "text/x-python",
   "name": "python",
   "nbconvert_exporter": "python",
   "pygments_lexer": "ipython3",
   "version": "3.6.8"
  }
 },
 "nbformat": 4,
 "nbformat_minor": 2
}

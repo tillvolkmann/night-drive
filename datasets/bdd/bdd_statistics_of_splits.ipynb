{
 "cells": [
  {
   "cell_type": "code",
   "execution_count": 10,
   "metadata": {},
   "outputs": [],
   "source": [
    "import pandas as pd\n",
    "import numpy as np\n",
    "import matplotlib.pyplot as plt\n",
    "import sys\n",
    "sys.path.insert(0, '/home/till/projects/night-drive/datasets/bdd/BDDDataSets')\n",
    "import BDDDataSets as bdd"
   ]
  },
  {
   "cell_type": "markdown",
   "metadata": {},
   "source": [
    "### Dataset A: 100% Day, 0% Night"
   ]
  },
  {
   "cell_type": "code",
   "execution_count": 13,
   "metadata": {},
   "outputs": [
    {
     "name": "stdout",
     "output_type": "stream",
     "text": [
      ">> Loading BDD training label dataset\n",
      ">> Loading BDD validation label dataset\n",
      "weather    clear  cloudy  rainy  snowy\n",
      "timeofday                             \n",
      "daytime     2879    2194      0      0\n",
      "night      24563      44   2341   2368\n",
      "                     clear  cloudy  rainy  snowy\n",
      "split     timeofday                             \n",
      "test      daytime      419     397     86     96\n",
      "          night        797      50     76     76\n",
      "valid     daytime      419     397     86     96\n",
      "          night        797      50     76     76\n",
      "train_dev daytime      500     500    130    147\n",
      "          night          0       0      0      0\n",
      "train     daytime    10000   10000   2615   2943\n",
      "          night          0       0      0      0\n",
      "\n",
      "Multi-variate distribution of unique original samples for each split:\n",
      "\n",
      "                     clear  cloudy  rainy  snowy  total\n",
      "split     timeofday                                    \n",
      "test      daytime      419     397     86     96    998\n",
      "          night        797      50     76     76    999\n",
      "train     daytime    10000   10000   2615   2943  25558\n",
      "          night          0       0      0      0      0\n",
      "train_dev daytime      500     500    130    147   1277\n",
      "          night          0       0      0      0      0\n",
      "valid     daytime      419     397     86     96    998\n",
      "          night        797      50     76     76    999\n",
      "\n",
      "Unique sample distribution grouped by split:\n",
      "\n",
      "           clear  cloudy  rainy  snowy  total\n",
      "split                                        \n",
      "test        1216     447    162    172   1997\n",
      "train      10000   10000   2615   2943  25558\n",
      "train_dev    500     500    130    147   1277\n",
      "valid       1216     447    162    172   1997\n",
      "\n",
      "Unique samples not used:\n",
      "\n",
      "weather    clear  cloudy  rainy  snowy\n",
      "timeofday                             \n",
      "daytime     2879    2194      0      0\n",
      "night      24563      44   2341   2368\n",
      "\n",
      "Multi-variate distribution of oversampling samples across splits:\n",
      "\n",
      "                     clear  cloudy  rainy  snowy  total\n",
      "split     timeofday                                    \n",
      "test      daytime        0       0      0      0      0\n",
      "          night          0       0      0      0      0\n",
      "train     daytime        0       0   7384   7056  14440\n",
      "          night          0       0      0      0      0\n",
      "train_dev daytime        0       0    369    352    721\n",
      "          night          0       0      0      0      0\n",
      "valid     daytime        0       0      0      0      0\n",
      "          night          0       0      0      0      0\n",
      "\n",
      "Cross tabulation of original samples timeofday x weather:\n",
      "\n",
      "weather    clear  cloudy  rainy  snowy  total\n",
      "timeofday                                    \n",
      "daytime    14218   13490   2918   3284  33910\n",
      "night      26158     144   2494   2522  31318\n"
     ]
    }
   ],
   "source": [
    "# load data\n",
    "cfg_file = '../../config_bdd_setA.json'\n",
    "cfg = bdd.GetConfig(cfg_file)\n",
    "ds_train_A = bdd.NightDriveDataset(cfg, split='train')"
   ]
  },
  {
   "cell_type": "markdown",
   "metadata": {},
   "source": [
    "### Dataset C: 50% Day, 50% Night"
   ]
  },
  {
   "cell_type": "code",
   "execution_count": 15,
   "metadata": {},
   "outputs": [
    {
     "name": "stdout",
     "output_type": "stream",
     "text": [
      ">> Loading BDD training label dataset\n",
      ">> Loading BDD validation label dataset\n",
      "weather    clear  cloudy  rainy  snowy\n",
      "timeofday                             \n",
      "daytime     8129    7444      0      0\n",
      "night      19313       0      0      0\n",
      "                     clear  cloudy  rainy  snowy\n",
      "split     timeofday                             \n",
      "test      daytime      419     397     86     96\n",
      "          night        797      50     76     76\n",
      "valid     daytime      419     397     86     96\n",
      "          night        797      50     76     76\n",
      "train_dev daytime      250     250    130    147\n",
      "          night        250       2    111    112\n",
      "train     daytime     5000    5000   2615   2943\n",
      "          night       5000      41   2230   2255\n",
      "\n",
      "Multi-variate distribution of unique original samples for each split:\n",
      "\n",
      "                     clear  cloudy  rainy  snowy  total\n",
      "split     timeofday                                    \n",
      "test      daytime      419     397     86     96    998\n",
      "          night        797      50     76     76    999\n",
      "train     daytime     5000    5000   2615   2943  15558\n",
      "          night       5000      41   2230   2255   9526\n",
      "train_dev daytime      250     250    130    147    777\n",
      "          night        250       2    111    112    475\n",
      "valid     daytime      419     397     86     96    998\n",
      "          night        797      50     76     76    999\n",
      "\n",
      "Unique sample distribution grouped by split:\n",
      "\n",
      "           clear  cloudy  rainy  snowy  total\n",
      "split                                        \n",
      "test        1216     447    162    172   1997\n",
      "train      10000    5041   4845   5198  25084\n",
      "train_dev    500     252    241    259   1252\n",
      "valid       1216     447    162    172   1997\n",
      "\n",
      "Unique samples not used:\n",
      "\n",
      "weather    clear  cloudy  rainy  snowy\n",
      "timeofday                             \n",
      "daytime     8129    7444      0      0\n",
      "night      19313       0      0      0\n",
      "\n",
      "Multi-variate distribution of oversampling samples across splits:\n",
      "\n",
      "                     clear  cloudy  rainy  snowy  total\n",
      "split     timeofday                                    \n",
      "test      daytime        0       0      0      0      0\n",
      "          night          0       0      0      0      0\n",
      "train     daytime        0       0   2384   2056   4440\n",
      "          night          0    4958   2769   2744  10471\n",
      "train_dev daytime        0       0    119    102    221\n",
      "          night          0     247    138    137    522\n",
      "valid     daytime        0       0      0      0      0\n",
      "          night          0       0      0      0      0\n",
      "\n",
      "Cross tabulation of original samples timeofday x weather:\n",
      "\n",
      "weather    clear  cloudy  rainy  snowy  total\n",
      "timeofday                                    \n",
      "daytime    14218   13490   2918   3284  33910\n",
      "night      26158     144   2494   2522  31318\n"
     ]
    }
   ],
   "source": [
    "# load data\n",
    "cfg_file = '../../config_bdd_setC.json'\n",
    "cfg = bdd.GetConfig(cfg_file)\n",
    "ds_train_C = bdd.NightDriveDataset(cfg, split='train')"
   ]
  },
  {
   "cell_type": "code",
   "execution_count": null,
   "metadata": {},
   "outputs": [],
   "source": []
  }
 ],
 "metadata": {
  "kernelspec": {
   "display_name": "Python 3",
   "language": "python",
   "name": "python3"
  },
  "language_info": {
   "codemirror_mode": {
    "name": "ipython",
    "version": 3
   },
   "file_extension": ".py",
   "mimetype": "text/x-python",
   "name": "python",
   "nbconvert_exporter": "python",
   "pygments_lexer": "ipython3",
   "version": "3.6.8"
  }
 },
 "nbformat": 4,
 "nbformat_minor": 2
}

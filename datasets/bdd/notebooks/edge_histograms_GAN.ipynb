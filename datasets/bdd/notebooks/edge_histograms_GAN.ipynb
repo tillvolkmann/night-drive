{
 "cells": [
  {
   "cell_type": "code",
   "execution_count": 1,
   "metadata": {},
   "outputs": [],
   "source": [
    "path_to_aug_histograms = \"/home/SharedFolder/aug_histograms.csv\"\n",
    "path_to_naug_histograms = \"/home/SharedFolder/naug_histograms.csv\"\n",
    "path_to_night_histograms = \"/home/SharedFolder/night_histograms.csv\""
   ]
  },
  {
   "cell_type": "code",
   "execution_count": 2,
   "metadata": {},
   "outputs": [],
   "source": [
    "import pandas as pd\n",
    "%matplotlib inline"
   ]
  },
  {
   "cell_type": "code",
   "execution_count": 3,
   "metadata": {},
   "outputs": [
    {
     "name": "stdout",
     "output_type": "stream",
     "text": [
      "15353\n"
     ]
    },
    {
     "data": {
      "text/html": [
       "<div>\n",
       "<style scoped>\n",
       "    .dataframe tbody tr th:only-of-type {\n",
       "        vertical-align: middle;\n",
       "    }\n",
       "\n",
       "    .dataframe tbody tr th {\n",
       "        vertical-align: top;\n",
       "    }\n",
       "\n",
       "    .dataframe thead th {\n",
       "        text-align: right;\n",
       "    }\n",
       "</style>\n",
       "<table border=\"1\" class=\"dataframe\">\n",
       "  <thead>\n",
       "    <tr style=\"text-align: right;\">\n",
       "      <th></th>\n",
       "      <th>-2040</th>\n",
       "      <th>-2039</th>\n",
       "      <th>-2038</th>\n",
       "      <th>-2037</th>\n",
       "      <th>-2036</th>\n",
       "      <th>-2035</th>\n",
       "      <th>-2034</th>\n",
       "      <th>-2033</th>\n",
       "      <th>-2032</th>\n",
       "      <th>-2031</th>\n",
       "      <th>...</th>\n",
       "      <th>2030</th>\n",
       "      <th>2031</th>\n",
       "      <th>2032</th>\n",
       "      <th>2033</th>\n",
       "      <th>2034</th>\n",
       "      <th>2035</th>\n",
       "      <th>2036</th>\n",
       "      <th>2037</th>\n",
       "      <th>2038</th>\n",
       "      <th>2039</th>\n",
       "    </tr>\n",
       "  </thead>\n",
       "  <tbody>\n",
       "    <tr>\n",
       "      <th>0</th>\n",
       "      <td>0</td>\n",
       "      <td>0</td>\n",
       "      <td>0</td>\n",
       "      <td>0</td>\n",
       "      <td>0</td>\n",
       "      <td>0</td>\n",
       "      <td>0</td>\n",
       "      <td>0</td>\n",
       "      <td>0</td>\n",
       "      <td>0</td>\n",
       "      <td>...</td>\n",
       "      <td>0</td>\n",
       "      <td>0</td>\n",
       "      <td>0</td>\n",
       "      <td>0</td>\n",
       "      <td>0</td>\n",
       "      <td>0</td>\n",
       "      <td>0</td>\n",
       "      <td>0</td>\n",
       "      <td>0</td>\n",
       "      <td>0</td>\n",
       "    </tr>\n",
       "  </tbody>\n",
       "</table>\n",
       "<p>1 rows × 4080 columns</p>\n",
       "</div>"
      ],
      "text/plain": [
       "   -2040  -2039  -2038  -2037  -2036  -2035  -2034  -2033  -2032  -2031  ...  \\\n",
       "0      0      0      0      0      0      0      0      0      0      0  ...   \n",
       "\n",
       "   2030  2031  2032  2033  2034  2035  2036  2037  2038  2039  \n",
       "0     0     0     0     0     0     0     0     0     0     0  \n",
       "\n",
       "[1 rows x 4080 columns]"
      ]
     },
     "execution_count": 3,
     "metadata": {},
     "output_type": "execute_result"
    }
   ],
   "source": [
    "df_aug_hist = pd.read_csv(path_to_aug_histograms)\n",
    "df_aug_hist = df_aug_hist.drop(columns = [\"Unnamed: 0\"]).reset_index(drop = True)\n",
    "print(len(df_aug_hist))\n",
    "df_aug_hist.head(1)"
   ]
  },
  {
   "cell_type": "code",
   "execution_count": 4,
   "metadata": {},
   "outputs": [
    {
     "name": "stdout",
     "output_type": "stream",
     "text": [
      "15353\n"
     ]
    },
    {
     "data": {
      "text/html": [
       "<div>\n",
       "<style scoped>\n",
       "    .dataframe tbody tr th:only-of-type {\n",
       "        vertical-align: middle;\n",
       "    }\n",
       "\n",
       "    .dataframe tbody tr th {\n",
       "        vertical-align: top;\n",
       "    }\n",
       "\n",
       "    .dataframe thead th {\n",
       "        text-align: right;\n",
       "    }\n",
       "</style>\n",
       "<table border=\"1\" class=\"dataframe\">\n",
       "  <thead>\n",
       "    <tr style=\"text-align: right;\">\n",
       "      <th></th>\n",
       "      <th>-2040</th>\n",
       "      <th>-2039</th>\n",
       "      <th>-2038</th>\n",
       "      <th>-2037</th>\n",
       "      <th>-2036</th>\n",
       "      <th>-2035</th>\n",
       "      <th>-2034</th>\n",
       "      <th>-2033</th>\n",
       "      <th>-2032</th>\n",
       "      <th>-2031</th>\n",
       "      <th>...</th>\n",
       "      <th>2030</th>\n",
       "      <th>2031</th>\n",
       "      <th>2032</th>\n",
       "      <th>2033</th>\n",
       "      <th>2034</th>\n",
       "      <th>2035</th>\n",
       "      <th>2036</th>\n",
       "      <th>2037</th>\n",
       "      <th>2038</th>\n",
       "      <th>2039</th>\n",
       "    </tr>\n",
       "  </thead>\n",
       "  <tbody>\n",
       "    <tr>\n",
       "      <th>0</th>\n",
       "      <td>0</td>\n",
       "      <td>0</td>\n",
       "      <td>0</td>\n",
       "      <td>0</td>\n",
       "      <td>0</td>\n",
       "      <td>0</td>\n",
       "      <td>0</td>\n",
       "      <td>0</td>\n",
       "      <td>0</td>\n",
       "      <td>0</td>\n",
       "      <td>...</td>\n",
       "      <td>0</td>\n",
       "      <td>0</td>\n",
       "      <td>0</td>\n",
       "      <td>0</td>\n",
       "      <td>0</td>\n",
       "      <td>0</td>\n",
       "      <td>0</td>\n",
       "      <td>0</td>\n",
       "      <td>0</td>\n",
       "      <td>0</td>\n",
       "    </tr>\n",
       "  </tbody>\n",
       "</table>\n",
       "<p>1 rows × 4080 columns</p>\n",
       "</div>"
      ],
      "text/plain": [
       "   -2040  -2039  -2038  -2037  -2036  -2035  -2034  -2033  -2032  -2031  ...  \\\n",
       "0      0      0      0      0      0      0      0      0      0      0  ...   \n",
       "\n",
       "   2030  2031  2032  2033  2034  2035  2036  2037  2038  2039  \n",
       "0     0     0     0     0     0     0     0     0     0     0  \n",
       "\n",
       "[1 rows x 4080 columns]"
      ]
     },
     "execution_count": 4,
     "metadata": {},
     "output_type": "execute_result"
    }
   ],
   "source": [
    "df_naug_hist = pd.read_csv(path_to_naug_histograms)\n",
    "df_naug_hist = df_naug_hist.drop(columns = [\"Unnamed: 0\"]).reset_index(drop = True)\n",
    "print(len(df_aug_hist))\n",
    "df_naug_hist.head(1)"
   ]
  },
  {
   "cell_type": "code",
   "execution_count": 5,
   "metadata": {},
   "outputs": [
    {
     "name": "stdout",
     "output_type": "stream",
     "text": [
      "25388\n"
     ]
    },
    {
     "data": {
      "text/html": [
       "<div>\n",
       "<style scoped>\n",
       "    .dataframe tbody tr th:only-of-type {\n",
       "        vertical-align: middle;\n",
       "    }\n",
       "\n",
       "    .dataframe tbody tr th {\n",
       "        vertical-align: top;\n",
       "    }\n",
       "\n",
       "    .dataframe thead th {\n",
       "        text-align: right;\n",
       "    }\n",
       "</style>\n",
       "<table border=\"1\" class=\"dataframe\">\n",
       "  <thead>\n",
       "    <tr style=\"text-align: right;\">\n",
       "      <th></th>\n",
       "      <th>-2040</th>\n",
       "      <th>-2039</th>\n",
       "      <th>-2038</th>\n",
       "      <th>-2037</th>\n",
       "      <th>-2036</th>\n",
       "      <th>-2035</th>\n",
       "      <th>-2034</th>\n",
       "      <th>-2033</th>\n",
       "      <th>-2032</th>\n",
       "      <th>-2031</th>\n",
       "      <th>...</th>\n",
       "      <th>2030</th>\n",
       "      <th>2031</th>\n",
       "      <th>2032</th>\n",
       "      <th>2033</th>\n",
       "      <th>2034</th>\n",
       "      <th>2035</th>\n",
       "      <th>2036</th>\n",
       "      <th>2037</th>\n",
       "      <th>2038</th>\n",
       "      <th>2039</th>\n",
       "    </tr>\n",
       "  </thead>\n",
       "  <tbody>\n",
       "    <tr>\n",
       "      <th>0</th>\n",
       "      <td>0</td>\n",
       "      <td>0</td>\n",
       "      <td>0</td>\n",
       "      <td>0</td>\n",
       "      <td>0</td>\n",
       "      <td>0</td>\n",
       "      <td>0</td>\n",
       "      <td>0</td>\n",
       "      <td>0</td>\n",
       "      <td>0</td>\n",
       "      <td>...</td>\n",
       "      <td>0</td>\n",
       "      <td>0</td>\n",
       "      <td>0</td>\n",
       "      <td>0</td>\n",
       "      <td>0</td>\n",
       "      <td>0</td>\n",
       "      <td>0</td>\n",
       "      <td>0</td>\n",
       "      <td>0</td>\n",
       "      <td>0</td>\n",
       "    </tr>\n",
       "  </tbody>\n",
       "</table>\n",
       "<p>1 rows × 4080 columns</p>\n",
       "</div>"
      ],
      "text/plain": [
       "   -2040  -2039  -2038  -2037  -2036  -2035  -2034  -2033  -2032  -2031  ...  \\\n",
       "0      0      0      0      0      0      0      0      0      0      0  ...   \n",
       "\n",
       "   2030  2031  2032  2033  2034  2035  2036  2037  2038  2039  \n",
       "0     0     0     0     0     0     0     0     0     0     0  \n",
       "\n",
       "[1 rows x 4080 columns]"
      ]
     },
     "execution_count": 5,
     "metadata": {},
     "output_type": "execute_result"
    }
   ],
   "source": [
    "df_night_hist = pd.read_csv(path_to_night_histograms)\n",
    "df_night_hist = df_night_hist.drop(columns = [\"Unnamed: 0\"]).reset_index(drop = True)\n",
    "print(len(df_night_hist))\n",
    "df_night_hist.head(1)"
   ]
  },
  {
   "cell_type": "code",
   "execution_count": 6,
   "metadata": {},
   "outputs": [],
   "source": [
    "num_rows_sample = min(min(len(df_aug_hist), len(df_naug_hist)), len(df_night_hist))\n",
    "df_aug_hist = df_aug_hist.sample(n = num_rows_sample, replace = False, random_state = 123, axis = 0).reset_index(drop = True)\n",
    "df_naug_hist = df_naug_hist.sample(n = num_rows_sample, replace = False, random_state = 123, axis = 0).reset_index(drop = True)\n",
    "df_night_hist = df_night_hist.sample(n = num_rows_sample, replace = False, random_state = 123, axis = 0).reset_index(drop = True)"
   ]
  },
  {
   "cell_type": "code",
   "execution_count": 7,
   "metadata": {},
   "outputs": [],
   "source": [
    "df_aug_hist = df_aug_hist.median(axis = 0)\n",
    "df_naug_hist = df_naug_hist.median(axis = 0)\n",
    "df_night_hist = df_night_hist.median(axis = 0)"
   ]
  },
  {
   "cell_type": "code",
   "execution_count": 8,
   "metadata": {},
   "outputs": [],
   "source": [
    "import numpy as np\n",
    "\n",
    "df_aug_hist = df_aug_hist.apply(lambda x: np.where(x <= 1, 0, x))\n",
    "df_naug_hist = df_naug_hist.apply(lambda x: np.where(x <= 1, 0, x))\n",
    "df_night_hist = df_night_hist.apply(lambda x: np.where(x <= 1, 0, x))"
   ]
  },
  {
   "cell_type": "code",
   "execution_count": 9,
   "metadata": {},
   "outputs": [
    {
     "data": {
      "text/html": [
       "<div>\n",
       "<style scoped>\n",
       "    .dataframe tbody tr th:only-of-type {\n",
       "        vertical-align: middle;\n",
       "    }\n",
       "\n",
       "    .dataframe tbody tr th {\n",
       "        vertical-align: top;\n",
       "    }\n",
       "\n",
       "    .dataframe thead th {\n",
       "        text-align: right;\n",
       "    }\n",
       "</style>\n",
       "<table border=\"1\" class=\"dataframe\">\n",
       "  <thead>\n",
       "    <tr style=\"text-align: right;\">\n",
       "      <th></th>\n",
       "      <th>GAN-output-Night</th>\n",
       "      <th>GAN-input-Day</th>\n",
       "      <th>Real-Night</th>\n",
       "    </tr>\n",
       "  </thead>\n",
       "  <tbody>\n",
       "    <tr>\n",
       "      <th>-2040</th>\n",
       "      <td>0.0</td>\n",
       "      <td>0.0</td>\n",
       "      <td>0.0</td>\n",
       "    </tr>\n",
       "    <tr>\n",
       "      <th>-2039</th>\n",
       "      <td>0.0</td>\n",
       "      <td>0.0</td>\n",
       "      <td>0.0</td>\n",
       "    </tr>\n",
       "    <tr>\n",
       "      <th>-2038</th>\n",
       "      <td>0.0</td>\n",
       "      <td>0.0</td>\n",
       "      <td>0.0</td>\n",
       "    </tr>\n",
       "    <tr>\n",
       "      <th>-2037</th>\n",
       "      <td>0.0</td>\n",
       "      <td>0.0</td>\n",
       "      <td>0.0</td>\n",
       "    </tr>\n",
       "    <tr>\n",
       "      <th>-2036</th>\n",
       "      <td>0.0</td>\n",
       "      <td>0.0</td>\n",
       "      <td>0.0</td>\n",
       "    </tr>\n",
       "  </tbody>\n",
       "</table>\n",
       "</div>"
      ],
      "text/plain": [
       "       GAN-output-Night  GAN-input-Day  Real-Night\n",
       "-2040               0.0            0.0         0.0\n",
       "-2039               0.0            0.0         0.0\n",
       "-2038               0.0            0.0         0.0\n",
       "-2037               0.0            0.0         0.0\n",
       "-2036               0.0            0.0         0.0"
      ]
     },
     "execution_count": 9,
     "metadata": {},
     "output_type": "execute_result"
    }
   ],
   "source": [
    "df_hist = pd.concat([df_aug_hist, df_naug_hist, df_night_hist], axis = 1)\n",
    "df_hist.columns = [\"GAN-output-Night\", \"GAN-input-Day\", \"Real-Night\"]\n",
    "df_hist.head()"
   ]
  },
  {
   "cell_type": "code",
   "execution_count": 10,
   "metadata": {},
   "outputs": [
    {
     "data": {
      "text/html": [
       "<div>\n",
       "<style scoped>\n",
       "    .dataframe tbody tr th:only-of-type {\n",
       "        vertical-align: middle;\n",
       "    }\n",
       "\n",
       "    .dataframe tbody tr th {\n",
       "        vertical-align: top;\n",
       "    }\n",
       "\n",
       "    .dataframe thead th {\n",
       "        text-align: right;\n",
       "    }\n",
       "</style>\n",
       "<table border=\"1\" class=\"dataframe\">\n",
       "  <thead>\n",
       "    <tr style=\"text-align: right;\">\n",
       "      <th></th>\n",
       "      <th>GAN-output-Night</th>\n",
       "      <th>GAN-input-Day</th>\n",
       "      <th>Real-Night</th>\n",
       "    </tr>\n",
       "  </thead>\n",
       "  <tbody>\n",
       "    <tr>\n",
       "      <th>-592</th>\n",
       "      <td>2.0</td>\n",
       "      <td>3.0</td>\n",
       "      <td>2.0</td>\n",
       "    </tr>\n",
       "    <tr>\n",
       "      <th>-588</th>\n",
       "      <td>2.0</td>\n",
       "      <td>3.0</td>\n",
       "      <td>2.0</td>\n",
       "    </tr>\n",
       "    <tr>\n",
       "      <th>-586</th>\n",
       "      <td>2.0</td>\n",
       "      <td>3.0</td>\n",
       "      <td>2.0</td>\n",
       "    </tr>\n",
       "    <tr>\n",
       "      <th>-584</th>\n",
       "      <td>2.0</td>\n",
       "      <td>3.0</td>\n",
       "      <td>2.0</td>\n",
       "    </tr>\n",
       "    <tr>\n",
       "      <th>-582</th>\n",
       "      <td>2.0</td>\n",
       "      <td>3.0</td>\n",
       "      <td>2.0</td>\n",
       "    </tr>\n",
       "  </tbody>\n",
       "</table>\n",
       "</div>"
      ],
      "text/plain": [
       "      GAN-output-Night  GAN-input-Day  Real-Night\n",
       "-592               2.0            3.0         2.0\n",
       "-588               2.0            3.0         2.0\n",
       "-586               2.0            3.0         2.0\n",
       "-584               2.0            3.0         2.0\n",
       "-582               2.0            3.0         2.0"
      ]
     },
     "execution_count": 10,
     "metadata": {},
     "output_type": "execute_result"
    }
   ],
   "source": [
    "df_hist_cleaned = df_hist.loc[df_hist.loc[:, \"GAN-output-Night\"] > 0]\n",
    "df_hist_cleaned = df_hist_cleaned.loc[df_hist_cleaned.loc[:, \"GAN-input-Day\"] > 0]\n",
    "df_hist_cleaned = df_hist_cleaned.loc[df_hist_cleaned.loc[:, \"Real-Night\"] > 0]\n",
    "df_hist_cleaned.head()"
   ]
  },
  {
   "cell_type": "code",
   "execution_count": 11,
   "metadata": {},
   "outputs": [
    {
     "data": {
      "text/plain": [
       "Text(0, 0.5, 'Frequency (Median over ~15353 images)')"
      ]
     },
     "execution_count": 11,
     "metadata": {},
     "output_type": "execute_result"
    },
    {
     "data": {
      "image/png": "[encoded data removed]",
      "text/plain": [
       "<Figure size 1152x648 with 1 Axes>"
      ]
     },
     "metadata": {
      "needs_background": "light"
     },
     "output_type": "display_data"
    }
   ],
   "source": [
    "ax = df_hist_cleaned.plot(logx = False, logy = True, figsize = (16, 9), title = \"Histograms of Laplacians\")\n",
    "ax.set_xlabel(\"Magnitude of Edge\")\n",
    "ax.set_ylabel(\"Frequency (Median over ~15353 images)\")"
   ]
  },
  {
   "cell_type": "code",
   "execution_count": null,
   "metadata": {},
   "outputs": [],
   "source": []
  }
 ],
 "metadata": {
  "kernelspec": {
   "display_name": "Python 3",
   "language": "python",
   "name": "python3"
  },
  "language_info": {
   "codemirror_mode": {
    "name": "ipython",
    "version": 3
   },
   "file_extension": ".py",
   "mimetype": "text/x-python",
   "name": "python",
   "nbconvert_exporter": "python",
   "pygments_lexer": "ipython3",
   "version": "3.6.7"
  }
 },
 "nbformat": 4,
 "nbformat_minor": 2
}

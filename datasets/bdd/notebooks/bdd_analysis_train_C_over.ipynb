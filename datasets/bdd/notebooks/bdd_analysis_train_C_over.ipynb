{
 "cells": [
  {
   "cell_type": "code",
   "execution_count": 1,
   "metadata": {},
   "outputs": [],
   "source": [
    "import pandas as pd\n",
    "import matplotlib.pyplot as plt"
   ]
  },
  {
   "cell_type": "code",
   "execution_count": 2,
   "metadata": {},
   "outputs": [
    {
     "data": {
      "text/html": [
       "<div>\n",
       "<style scoped>\n",
       "    .dataframe tbody tr th:only-of-type {\n",
       "        vertical-align: middle;\n",
       "    }\n",
       "\n",
       "    .dataframe tbody tr th {\n",
       "        vertical-align: top;\n",
       "    }\n",
       "\n",
       "    .dataframe thead th {\n",
       "        text-align: right;\n",
       "    }\n",
       "</style>\n",
       "<table border=\"1\" class=\"dataframe\">\n",
       "  <thead>\n",
       "    <tr style=\"text-align: right;\">\n",
       "      <th></th>\n",
       "      <th>name</th>\n",
       "      <th>timeofday</th>\n",
       "      <th>weather</th>\n",
       "    </tr>\n",
       "  </thead>\n",
       "  <tbody>\n",
       "    <tr>\n",
       "      <th>0</th>\n",
       "      <td>c44a2ecf-b5b2f533.jpg</td>\n",
       "      <td>daytime</td>\n",
       "      <td>cloudy</td>\n",
       "    </tr>\n",
       "    <tr>\n",
       "      <th>1</th>\n",
       "      <td>29959e83-a75b18f8.jpg</td>\n",
       "      <td>daytime</td>\n",
       "      <td>cloudy</td>\n",
       "    </tr>\n",
       "    <tr>\n",
       "      <th>10</th>\n",
       "      <td>ab2f6749-f8d994ff.jpg</td>\n",
       "      <td>daytime</td>\n",
       "      <td>cloudy</td>\n",
       "    </tr>\n",
       "  </tbody>\n",
       "</table>\n",
       "</div>"
      ],
      "text/plain": [
       "                     name timeofday weather\n",
       "0   c44a2ecf-b5b2f533.jpg   daytime  cloudy\n",
       "1   29959e83-a75b18f8.jpg   daytime  cloudy\n",
       "10  ab2f6749-f8d994ff.jpg   daytime  cloudy"
      ]
     },
     "execution_count": 2,
     "metadata": {},
     "output_type": "execute_result"
    }
   ],
   "source": [
    "# Generated file\n",
    "json_file_manual_split = \"/home/SharedFolder/CurrentDatasets/bdd100k_sorted_coco/annotations/bdd100k_sorted_train_C_over.json\"\n",
    "df_bdd_generated = pd.read_json(json_file_manual_split)\n",
    "df_bdd_generated_attributes = pd.DataFrame(df_bdd_generated['attributes'].tolist())\n",
    "df_bdd_generated[\"timeofday\"] = df_bdd_generated_attributes[\"timeofday\"]\n",
    "df_bdd_generated[\"weather\"] = df_bdd_generated_attributes[\"weather\"]\n",
    "df_bdd_generated = df_bdd_generated.drop(columns = [\"labels\", \"timestamp\", \"attributes\"])\n",
    "df_bdd_generated.head(3)"
   ]
  },
  {
   "cell_type": "code",
   "execution_count": 3,
   "metadata": {},
   "outputs": [
    {
     "data": {
      "text/html": [
       "<div>\n",
       "<style scoped>\n",
       "    .dataframe tbody tr th:only-of-type {\n",
       "        vertical-align: middle;\n",
       "    }\n",
       "\n",
       "    .dataframe tbody tr th {\n",
       "        vertical-align: top;\n",
       "    }\n",
       "\n",
       "    .dataframe thead th {\n",
       "        text-align: right;\n",
       "    }\n",
       "</style>\n",
       "<table border=\"1\" class=\"dataframe\">\n",
       "  <thead>\n",
       "    <tr style=\"text-align: right;\">\n",
       "      <th></th>\n",
       "      <th>name</th>\n",
       "      <th>timeofday</th>\n",
       "      <th>weather</th>\n",
       "    </tr>\n",
       "  </thead>\n",
       "  <tbody>\n",
       "    <tr>\n",
       "      <th>0</th>\n",
       "      <td>b1c66a42-6f7d68ca.jpg</td>\n",
       "      <td>daytime</td>\n",
       "      <td>overcast</td>\n",
       "    </tr>\n",
       "    <tr>\n",
       "      <th>1</th>\n",
       "      <td>b1c81faa-3df17267.jpg</td>\n",
       "      <td>night</td>\n",
       "      <td>clear</td>\n",
       "    </tr>\n",
       "    <tr>\n",
       "      <th>2</th>\n",
       "      <td>b1c81faa-c80764c5.jpg</td>\n",
       "      <td>night</td>\n",
       "      <td>clear</td>\n",
       "    </tr>\n",
       "  </tbody>\n",
       "</table>\n",
       "</div>"
      ],
      "text/plain": [
       "                    name timeofday   weather\n",
       "0  b1c66a42-6f7d68ca.jpg   daytime  overcast\n",
       "1  b1c81faa-3df17267.jpg     night     clear\n",
       "2  b1c81faa-c80764c5.jpg     night     clear"
      ]
     },
     "execution_count": 3,
     "metadata": {},
     "output_type": "execute_result"
    }
   ],
   "source": [
    "# Original valid\n",
    "labelfile_valid = \"/home/SharedFolder/CurrentDatasets/bdd100k/labels/bdd100k_labels_images_val.json\"\n",
    "df_bdd_valid = pd.read_json(labelfile_valid)\n",
    "df_bdd_valid_attributes = pd.DataFrame(df_bdd_valid['attributes'].tolist())\n",
    "df_bdd_valid[\"timeofday\"] = df_bdd_valid_attributes[\"timeofday\"]\n",
    "df_bdd_valid[\"weather\"] = df_bdd_valid_attributes[\"weather\"]\n",
    "df_bdd_valid = df_bdd_valid.drop(columns = [\"labels\", \"timestamp\", \"attributes\"])\n",
    "df_bdd_valid.head(3)"
   ]
  },
  {
   "cell_type": "code",
   "execution_count": 4,
   "metadata": {},
   "outputs": [
    {
     "data": {
      "text/html": [
       "<div>\n",
       "<style scoped>\n",
       "    .dataframe tbody tr th:only-of-type {\n",
       "        vertical-align: middle;\n",
       "    }\n",
       "\n",
       "    .dataframe tbody tr th {\n",
       "        vertical-align: top;\n",
       "    }\n",
       "\n",
       "    .dataframe thead th {\n",
       "        text-align: right;\n",
       "    }\n",
       "</style>\n",
       "<table border=\"1\" class=\"dataframe\">\n",
       "  <thead>\n",
       "    <tr style=\"text-align: right;\">\n",
       "      <th></th>\n",
       "      <th>name</th>\n",
       "      <th>timeofday</th>\n",
       "      <th>weather</th>\n",
       "    </tr>\n",
       "  </thead>\n",
       "  <tbody>\n",
       "    <tr>\n",
       "      <th>0</th>\n",
       "      <td>0000f77c-6257be58.jpg</td>\n",
       "      <td>daytime</td>\n",
       "      <td>clear</td>\n",
       "    </tr>\n",
       "    <tr>\n",
       "      <th>1</th>\n",
       "      <td>0000f77c-62c2a288.jpg</td>\n",
       "      <td>dawn/dusk</td>\n",
       "      <td>clear</td>\n",
       "    </tr>\n",
       "    <tr>\n",
       "      <th>2</th>\n",
       "      <td>0000f77c-cb820c98.jpg</td>\n",
       "      <td>dawn/dusk</td>\n",
       "      <td>clear</td>\n",
       "    </tr>\n",
       "  </tbody>\n",
       "</table>\n",
       "</div>"
      ],
      "text/plain": [
       "                    name  timeofday weather\n",
       "0  0000f77c-6257be58.jpg    daytime   clear\n",
       "1  0000f77c-62c2a288.jpg  dawn/dusk   clear\n",
       "2  0000f77c-cb820c98.jpg  dawn/dusk   clear"
      ]
     },
     "execution_count": 4,
     "metadata": {},
     "output_type": "execute_result"
    }
   ],
   "source": [
    "# Original train\n",
    "labelfile_train = \"/home/SharedFolder/CurrentDatasets/bdd100k/labels/bdd100k_labels_images_train.json\"\n",
    "df_bdd_train = pd.read_json(labelfile_train)\n",
    "df_bdd_train_attributes = pd.DataFrame(df_bdd_train['attributes'].tolist())\n",
    "df_bdd_train[\"timeofday\"] = df_bdd_train_attributes[\"timeofday\"]\n",
    "df_bdd_train[\"weather\"] = df_bdd_train_attributes[\"weather\"]\n",
    "df_bdd_train = df_bdd_train.drop(columns = [\"labels\", \"timestamp\", \"attributes\"])\n",
    "df_bdd_train.head(3)"
   ]
  },
  {
   "cell_type": "code",
   "execution_count": null,
   "metadata": {},
   "outputs": [],
   "source": []
  },
  {
   "cell_type": "code",
   "execution_count": 5,
   "metadata": {},
   "outputs": [
    {
     "data": {
      "text/html": [
       "<div>\n",
       "<style scoped>\n",
       "    .dataframe tbody tr th:only-of-type {\n",
       "        vertical-align: middle;\n",
       "    }\n",
       "\n",
       "    .dataframe tbody tr th {\n",
       "        vertical-align: top;\n",
       "    }\n",
       "\n",
       "    .dataframe thead th {\n",
       "        text-align: right;\n",
       "    }\n",
       "</style>\n",
       "<table border=\"1\" class=\"dataframe\">\n",
       "  <thead>\n",
       "    <tr style=\"text-align: right;\">\n",
       "      <th></th>\n",
       "      <th>name</th>\n",
       "      <th>timeofday_x</th>\n",
       "      <th>weather_x</th>\n",
       "      <th>timeofday_y</th>\n",
       "      <th>weather_y</th>\n",
       "    </tr>\n",
       "  </thead>\n",
       "  <tbody>\n",
       "    <tr>\n",
       "      <th>0</th>\n",
       "      <td>c44a2ecf-b5b2f533.jpg</td>\n",
       "      <td>daytime</td>\n",
       "      <td>cloudy</td>\n",
       "      <td>daytime</td>\n",
       "      <td>overcast</td>\n",
       "    </tr>\n",
       "    <tr>\n",
       "      <th>1</th>\n",
       "      <td>b7c5b8ef-b233d513.jpg</td>\n",
       "      <td>night</td>\n",
       "      <td>clear</td>\n",
       "      <td>night</td>\n",
       "      <td>clear</td>\n",
       "    </tr>\n",
       "    <tr>\n",
       "      <th>2</th>\n",
       "      <td>c5f4b6d4-92bcf575.jpg</td>\n",
       "      <td>daytime</td>\n",
       "      <td>clear</td>\n",
       "      <td>daytime</td>\n",
       "      <td>snowy</td>\n",
       "    </tr>\n",
       "  </tbody>\n",
       "</table>\n",
       "</div>"
      ],
      "text/plain": [
       "                    name timeofday_x weather_x timeofday_y weather_y\n",
       "0  c44a2ecf-b5b2f533.jpg     daytime    cloudy     daytime  overcast\n",
       "1  b7c5b8ef-b233d513.jpg       night     clear       night     clear\n",
       "2  c5f4b6d4-92bcf575.jpg     daytime     clear     daytime     snowy"
      ]
     },
     "execution_count": 5,
     "metadata": {},
     "output_type": "execute_result"
    }
   ],
   "source": [
    "# Join generated with original valid\n",
    "df_join_generated_valid = pd.merge(df_bdd_generated, df_bdd_valid, on=['name'], how='inner')\n",
    "df_join_generated_valid.head(3)"
   ]
  },
  {
   "cell_type": "code",
   "execution_count": 6,
   "metadata": {},
   "outputs": [
    {
     "data": {
      "text/html": [
       "<div>\n",
       "<style scoped>\n",
       "    .dataframe tbody tr th:only-of-type {\n",
       "        vertical-align: middle;\n",
       "    }\n",
       "\n",
       "    .dataframe tbody tr th {\n",
       "        vertical-align: top;\n",
       "    }\n",
       "\n",
       "    .dataframe thead th {\n",
       "        text-align: right;\n",
       "    }\n",
       "</style>\n",
       "<table border=\"1\" class=\"dataframe\">\n",
       "  <thead>\n",
       "    <tr style=\"text-align: right;\">\n",
       "      <th></th>\n",
       "      <th>name</th>\n",
       "      <th>timeofday_x</th>\n",
       "      <th>weather_x</th>\n",
       "      <th>timeofday_y</th>\n",
       "      <th>weather_y</th>\n",
       "    </tr>\n",
       "  </thead>\n",
       "  <tbody>\n",
       "    <tr>\n",
       "      <th>0</th>\n",
       "      <td>29959e83-a75b18f8.jpg</td>\n",
       "      <td>daytime</td>\n",
       "      <td>cloudy</td>\n",
       "      <td>daytime</td>\n",
       "      <td>overcast</td>\n",
       "    </tr>\n",
       "    <tr>\n",
       "      <th>1</th>\n",
       "      <td>ab2f6749-f8d994ff.jpg</td>\n",
       "      <td>daytime</td>\n",
       "      <td>cloudy</td>\n",
       "      <td>daytime</td>\n",
       "      <td>overcast</td>\n",
       "    </tr>\n",
       "    <tr>\n",
       "      <th>2</th>\n",
       "      <td>97faae00-c76e5d0e.jpg</td>\n",
       "      <td>daytime</td>\n",
       "      <td>clear</td>\n",
       "      <td>night</td>\n",
       "      <td>clear</td>\n",
       "    </tr>\n",
       "  </tbody>\n",
       "</table>\n",
       "</div>"
      ],
      "text/plain": [
       "                    name timeofday_x weather_x timeofday_y weather_y\n",
       "0  29959e83-a75b18f8.jpg     daytime    cloudy     daytime  overcast\n",
       "1  ab2f6749-f8d994ff.jpg     daytime    cloudy     daytime  overcast\n",
       "2  97faae00-c76e5d0e.jpg     daytime     clear       night     clear"
      ]
     },
     "execution_count": 6,
     "metadata": {},
     "output_type": "execute_result"
    }
   ],
   "source": [
    "# Join generated with original train\n",
    "df_join_generated_train = pd.merge(df_bdd_generated, df_bdd_train, on=['name'], how='inner')\n",
    "df_join_generated_train.head(3)"
   ]
  },
  {
   "cell_type": "code",
   "execution_count": null,
   "metadata": {},
   "outputs": [],
   "source": []
  },
  {
   "cell_type": "code",
   "execution_count": 7,
   "metadata": {},
   "outputs": [],
   "source": [
    "# Confusion matrix time of day: generated vs. valid"
   ]
  },
  {
   "cell_type": "code",
   "execution_count": 8,
   "metadata": {},
   "outputs": [
    {
     "data": {
      "text/html": [
       "<div>\n",
       "<style scoped>\n",
       "    .dataframe tbody tr th:only-of-type {\n",
       "        vertical-align: middle;\n",
       "    }\n",
       "\n",
       "    .dataframe tbody tr th {\n",
       "        vertical-align: top;\n",
       "    }\n",
       "\n",
       "    .dataframe thead th {\n",
       "        text-align: right;\n",
       "    }\n",
       "</style>\n",
       "<table border=\"1\" class=\"dataframe\">\n",
       "  <thead>\n",
       "    <tr style=\"text-align: right;\">\n",
       "      <th>timeofday_y</th>\n",
       "      <th>daytime</th>\n",
       "      <th>night</th>\n",
       "    </tr>\n",
       "    <tr>\n",
       "      <th>timeofday_x</th>\n",
       "      <th></th>\n",
       "      <th></th>\n",
       "    </tr>\n",
       "  </thead>\n",
       "  <tbody>\n",
       "    <tr>\n",
       "      <th>daytime</th>\n",
       "      <td>1788</td>\n",
       "      <td>1420</td>\n",
       "    </tr>\n",
       "    <tr>\n",
       "      <th>night</th>\n",
       "      <td>1689</td>\n",
       "      <td>1426</td>\n",
       "    </tr>\n",
       "  </tbody>\n",
       "</table>\n",
       "</div>"
      ],
      "text/plain": [
       "timeofday_y  daytime  night\n",
       "timeofday_x                \n",
       "daytime         1788   1420\n",
       "night           1689   1426"
      ]
     },
     "execution_count": 8,
     "metadata": {},
     "output_type": "execute_result"
    }
   ],
   "source": [
    "df_confusion_timeofday_generated_valid = pd.crosstab(df_join_generated_valid[\"timeofday_x\"], df_join_generated_valid[\"timeofday_y\"])\n",
    "df_confusion_timeofday_generated_valid"
   ]
  },
  {
   "cell_type": "code",
   "execution_count": 9,
   "metadata": {},
   "outputs": [],
   "source": [
    "# Confusion matrix time of day: generated vs. train"
   ]
  },
  {
   "cell_type": "code",
   "execution_count": 10,
   "metadata": {},
   "outputs": [
    {
     "data": {
      "text/html": [
       "<div>\n",
       "<style scoped>\n",
       "    .dataframe tbody tr th:only-of-type {\n",
       "        vertical-align: middle;\n",
       "    }\n",
       "\n",
       "    .dataframe tbody tr th {\n",
       "        vertical-align: top;\n",
       "    }\n",
       "\n",
       "    .dataframe thead th {\n",
       "        text-align: right;\n",
       "    }\n",
       "</style>\n",
       "<table border=\"1\" class=\"dataframe\">\n",
       "  <thead>\n",
       "    <tr style=\"text-align: right;\">\n",
       "      <th>timeofday_y</th>\n",
       "      <th>daytime</th>\n",
       "      <th>night</th>\n",
       "    </tr>\n",
       "    <tr>\n",
       "      <th>timeofday_x</th>\n",
       "      <th></th>\n",
       "      <th></th>\n",
       "    </tr>\n",
       "  </thead>\n",
       "  <tbody>\n",
       "    <tr>\n",
       "      <th>daytime</th>\n",
       "      <td>11716</td>\n",
       "      <td>10822</td>\n",
       "    </tr>\n",
       "    <tr>\n",
       "      <th>night</th>\n",
       "      <td>10553</td>\n",
       "      <td>11720</td>\n",
       "    </tr>\n",
       "  </tbody>\n",
       "</table>\n",
       "</div>"
      ],
      "text/plain": [
       "timeofday_y  daytime  night\n",
       "timeofday_x                \n",
       "daytime        11716  10822\n",
       "night          10553  11720"
      ]
     },
     "execution_count": 10,
     "metadata": {},
     "output_type": "execute_result"
    }
   ],
   "source": [
    "df_confusion_timeofday_generated_train = pd.crosstab(df_join_generated_train[\"timeofday_x\"], df_join_generated_train[\"timeofday_y\"])\n",
    "df_confusion_timeofday_generated_train"
   ]
  },
  {
   "cell_type": "code",
   "execution_count": 11,
   "metadata": {},
   "outputs": [],
   "source": [
    "# Confusion matrix weather: generated vs. valid"
   ]
  },
  {
   "cell_type": "code",
   "execution_count": 12,
   "metadata": {},
   "outputs": [
    {
     "data": {
      "text/html": [
       "<div>\n",
       "<style scoped>\n",
       "    .dataframe tbody tr th:only-of-type {\n",
       "        vertical-align: middle;\n",
       "    }\n",
       "\n",
       "    .dataframe tbody tr th {\n",
       "        vertical-align: top;\n",
       "    }\n",
       "\n",
       "    .dataframe thead th {\n",
       "        text-align: right;\n",
       "    }\n",
       "</style>\n",
       "<table border=\"1\" class=\"dataframe\">\n",
       "  <thead>\n",
       "    <tr style=\"text-align: right;\">\n",
       "      <th>weather_y</th>\n",
       "      <th>clear</th>\n",
       "      <th>overcast</th>\n",
       "      <th>partly cloudy</th>\n",
       "      <th>rainy</th>\n",
       "      <th>snowy</th>\n",
       "    </tr>\n",
       "    <tr>\n",
       "      <th>weather_x</th>\n",
       "      <th></th>\n",
       "      <th></th>\n",
       "      <th></th>\n",
       "      <th></th>\n",
       "      <th></th>\n",
       "    </tr>\n",
       "  </thead>\n",
       "  <tbody>\n",
       "    <tr>\n",
       "      <th>clear</th>\n",
       "      <td>590</td>\n",
       "      <td>409</td>\n",
       "      <td>174</td>\n",
       "      <td>164</td>\n",
       "      <td>182</td>\n",
       "    </tr>\n",
       "    <tr>\n",
       "      <th>cloudy</th>\n",
       "      <td>364</td>\n",
       "      <td>171</td>\n",
       "      <td>75</td>\n",
       "      <td>517</td>\n",
       "      <td>420</td>\n",
       "    </tr>\n",
       "    <tr>\n",
       "      <th>rainy</th>\n",
       "      <td>334</td>\n",
       "      <td>189</td>\n",
       "      <td>84</td>\n",
       "      <td>502</td>\n",
       "      <td>496</td>\n",
       "    </tr>\n",
       "    <tr>\n",
       "      <th>snowy</th>\n",
       "      <td>308</td>\n",
       "      <td>184</td>\n",
       "      <td>126</td>\n",
       "      <td>556</td>\n",
       "      <td>478</td>\n",
       "    </tr>\n",
       "  </tbody>\n",
       "</table>\n",
       "</div>"
      ],
      "text/plain": [
       "weather_y  clear  overcast  partly cloudy  rainy  snowy\n",
       "weather_x                                              \n",
       "clear        590       409            174    164    182\n",
       "cloudy       364       171             75    517    420\n",
       "rainy        334       189             84    502    496\n",
       "snowy        308       184            126    556    478"
      ]
     },
     "execution_count": 12,
     "metadata": {},
     "output_type": "execute_result"
    }
   ],
   "source": [
    "df_confusion_weather_generated_valid = pd.crosstab(df_join_generated_valid[\"weather_x\"], df_join_generated_valid[\"weather_y\"])\n",
    "df_confusion_weather_generated_valid"
   ]
  },
  {
   "cell_type": "code",
   "execution_count": 13,
   "metadata": {},
   "outputs": [],
   "source": [
    "# Confusion matrix weather: generated vs. train"
   ]
  },
  {
   "cell_type": "code",
   "execution_count": 14,
   "metadata": {},
   "outputs": [
    {
     "data": {
      "text/html": [
       "<div>\n",
       "<style scoped>\n",
       "    .dataframe tbody tr th:only-of-type {\n",
       "        vertical-align: middle;\n",
       "    }\n",
       "\n",
       "    .dataframe tbody tr th {\n",
       "        vertical-align: top;\n",
       "    }\n",
       "\n",
       "    .dataframe thead th {\n",
       "        text-align: right;\n",
       "    }\n",
       "</style>\n",
       "<table border=\"1\" class=\"dataframe\">\n",
       "  <thead>\n",
       "    <tr style=\"text-align: right;\">\n",
       "      <th>weather_y</th>\n",
       "      <th>clear</th>\n",
       "      <th>overcast</th>\n",
       "      <th>partly cloudy</th>\n",
       "      <th>rainy</th>\n",
       "      <th>snowy</th>\n",
       "    </tr>\n",
       "    <tr>\n",
       "      <th>weather_x</th>\n",
       "      <th></th>\n",
       "      <th></th>\n",
       "      <th></th>\n",
       "      <th></th>\n",
       "      <th></th>\n",
       "    </tr>\n",
       "  </thead>\n",
       "  <tbody>\n",
       "    <tr>\n",
       "      <th>clear</th>\n",
       "      <td>4274</td>\n",
       "      <td>2799</td>\n",
       "      <td>1797</td>\n",
       "      <td>1138</td>\n",
       "      <td>1222</td>\n",
       "    </tr>\n",
       "    <tr>\n",
       "      <th>cloudy</th>\n",
       "      <td>2435</td>\n",
       "      <td>1830</td>\n",
       "      <td>1042</td>\n",
       "      <td>2898</td>\n",
       "      <td>3121</td>\n",
       "    </tr>\n",
       "    <tr>\n",
       "      <th>rainy</th>\n",
       "      <td>2154</td>\n",
       "      <td>1288</td>\n",
       "      <td>741</td>\n",
       "      <td>3500</td>\n",
       "      <td>3462</td>\n",
       "    </tr>\n",
       "    <tr>\n",
       "      <th>snowy</th>\n",
       "      <td>2290</td>\n",
       "      <td>1259</td>\n",
       "      <td>705</td>\n",
       "      <td>3475</td>\n",
       "      <td>3381</td>\n",
       "    </tr>\n",
       "  </tbody>\n",
       "</table>\n",
       "</div>"
      ],
      "text/plain": [
       "weather_y  clear  overcast  partly cloudy  rainy  snowy\n",
       "weather_x                                              \n",
       "clear       4274      2799           1797   1138   1222\n",
       "cloudy      2435      1830           1042   2898   3121\n",
       "rainy       2154      1288            741   3500   3462\n",
       "snowy       2290      1259            705   3475   3381"
      ]
     },
     "execution_count": 14,
     "metadata": {},
     "output_type": "execute_result"
    }
   ],
   "source": [
    "df_confusion_weather_generated_train = pd.crosstab(df_join_generated_train[\"weather_x\"], df_join_generated_train[\"weather_y\"])\n",
    "df_confusion_weather_generated_train"
   ]
  },
  {
   "cell_type": "code",
   "execution_count": null,
   "metadata": {},
   "outputs": [],
   "source": []
  }
 ],
 "metadata": {
  "kernelspec": {
   "display_name": "Python 3",
   "language": "python",
   "name": "python3"
  },
  "language_info": {
   "codemirror_mode": {
    "name": "ipython",
    "version": 3
   },
   "file_extension": ".py",
   "mimetype": "text/x-python",
   "name": "python",
   "nbconvert_exporter": "python",
   "pygments_lexer": "ipython3",
   "version": "3.6.7"
  }
 },
 "nbformat": 4,
 "nbformat_minor": 2
}

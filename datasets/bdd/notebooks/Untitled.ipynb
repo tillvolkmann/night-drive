{
 "cells": [
  {
   "cell_type": "code",
   "execution_count": 11,
   "metadata": {},
   "outputs": [
    {
     "ename": "IndentationError",
     "evalue": "unexpected indent (<ipython-input-11-ee6defa5c020>, line 2)",
     "output_type": "error",
     "traceback": [
      "\u001b[0;36m  File \u001b[0;32m\"<ipython-input-11-ee6defa5c020>\"\u001b[0;36m, line \u001b[0;32m2\u001b[0m\n\u001b[0;31m    \"sampler_dict\": {\u001b[0m\n\u001b[0m    ^\u001b[0m\n\u001b[0;31mIndentationError\u001b[0m\u001b[0;31m:\u001b[0m unexpected indent\n"
     ]
    }
   ],
   "source": [
    "{\n",
    "    \"root_dir\": \"/home/till/data/driving/BerkeleyDeepDrive/bdd100k\",\n",
    "    \"dropclass_dict\": {\"weather\": [\"undefined\", \"foggy\"], \"timeofday\": [\"undefined\", \"dawn/dusk\"]},\n",
    "    \"mergeclass_dict\": {\"weather\": {\"cloudy\": [\"overcast\", \"partly cloudy\"]}},\n",
    "    \"sampler_dict\": {\n",
    "        \"train\": {\"n\": 40000, \"class_dist\": {\"daytime\": 0.5, \"dawn/dusk\": 0, \"night\": 0.5}, \"balancing\": \"over\", \"class_min\": 0},\n",
    "        \"train_dev\": {\"n\": 2000, \"class_dist\": {\"daytime\": 0.5, \"dawn/dusk\": 0, \"night\": 0.5}, \"balancing\": \"over\",  \"class_min\": 0},\n",
    "        \"test\": {\"n\": 2000, \"class_dist\": {\"daytime\": 0.5, \"dawn/dusk\": 0, \"night\": 0.5}, \"balancing\": \"none\", \"class_min\": 50},\n",
    "        \"valid\": {\"n\": 2000, \"class_dist\": {\"daytime\": 0.5, \"dawn/dusk\": 0, \"night\": 0.5}, \"balancing\": \"none\", \"class_min\": 50},\n",
    "        }\n",
    "}"
   ]
  },
  {
   "cell_type": "code",
   "execution_count": 21,
   "metadata": {},
   "outputs": [
    {
     "name": "stdout",
     "output_type": "stream",
     "text": [
      "{'root_dir': '/home/till/data/driving/BerkeleyDeepDrive/bdd100k', 'database': 'bdd_all', 'dropclass_dict': {'weather': ['undefined', 'foggy'], 'timeofday': ['undefined', 'dawn/dusk']}, 'mergeclass_dict': {'weather': {'cloudy': ['overcast', 'partly cloudy']}}, 'sampler_dict': {'train': {'n': 40000, 'class_dist': {'daytime': 0.5, 'dawn/dusk': 0, 'night': 0.5}, 'balancing': 'over', 'class_min': 0}, 'train_dev': {'n': 2000, 'class_dist': {'daytime': 0.5, 'dawn/dusk': 0, 'night': 0.5}, 'balancing': 'over', 'class_min': 0}, 'test': {'n': 2000, 'class_dist': {'daytime': 0.5, 'dawn/dusk': 0, 'night': 0.5}, 'balancing': 'none', 'class_min': 50}, 'valid': {'n': 2000, 'class_dist': {'daytime': 0.5, 'dawn/dusk': 0, 'night': 0.5}, 'balancing': 'none', 'class_min': 50}}}\n"
     ]
    },
    {
     "data": {
      "text/plain": [
       "'/home/till/data/driving/BerkeleyDeepDrive/bdd100k'"
      ]
     },
     "execution_count": 21,
     "metadata": {},
     "output_type": "execute_result"
    }
   ],
   "source": [
    "import json\n",
    "with open('config_bdd_setA.json', 'r') as f:\n",
    "    cfg = json.load(f)\n",
    "print(cfg)\n",
    "cfg['root_dir']"
   ]
  },
  {
   "cell_type": "code",
   "execution_count": null,
   "metadata": {},
   "outputs": [],
   "source": [
    "def get_config(filename):\n",
    "    \"\"\"\n",
    "    Loads config file for classifier and detector training.\n",
    "    Available files:\n",
    "        ~ 'config_bdd_setA.json' : 100% day, 0% night\n",
    "        ~ 'config_bdd_setB.json' : 75% day, 25% night\n",
    "        ~ 'config_bdd_setC.json' : 50% day, 50% night\n",
    "    \"\"\"\n",
    "    import json\n",
    "    with open(filename, 'r') as f:\n",
    "        config = json.load(f)\n",
    "    return config"
   ]
  },
  {
   "cell_type": "code",
   "execution_count": 15,
   "metadata": {},
   "outputs": [
    {
     "data": {
      "text/plain": [
       "'/home/till/projects/night-drive/sadas'"
      ]
     },
     "execution_count": 15,
     "metadata": {},
     "output_type": "execute_result"
    }
   ],
   "source": [
    "import os\n",
    "os.curdir\n",
    "os.path.join(os.getcwd(), \"sadas\")"
   ]
  },
  {
   "cell_type": "code",
   "execution_count": 2,
   "metadata": {},
   "outputs": [
    {
     "ename": "NameError",
     "evalue": "name 'get_config' is not defined",
     "output_type": "error",
     "traceback": [
      "\u001b[0;31m---------------------------------------------------------------------------\u001b[0m",
      "\u001b[0;31mNameError\u001b[0m                                 Traceback (most recent call last)",
      "\u001b[0;32m<ipython-input-2-c0564562be5d>\u001b[0m in \u001b[0;36m<module>\u001b[0;34m\u001b[0m\n\u001b[1;32m      3\u001b[0m \u001b[0;34m\u001b[0m\u001b[0m\n\u001b[1;32m      4\u001b[0m \u001b[0mconfig_file\u001b[0m \u001b[0;34m=\u001b[0m \u001b[0;34m'../datasets/config_bdd_setA.json'\u001b[0m\u001b[0;34m\u001b[0m\u001b[0;34m\u001b[0m\u001b[0m\n\u001b[0;32m----> 5\u001b[0;31m \u001b[0mcfg\u001b[0m \u001b[0;34m=\u001b[0m \u001b[0mget_config\u001b[0m\u001b[0;34m(\u001b[0m\u001b[0mconfig_file\u001b[0m\u001b[0;34m)\u001b[0m  \u001b[0;31m# see docstring for info on available config files\u001b[0m\u001b[0;34m\u001b[0m\u001b[0;34m\u001b[0m\u001b[0m\n\u001b[0m",
      "\u001b[0;31mNameError\u001b[0m: name 'get_config' is not defined"
     ]
    }
   ],
   "source": [
    "from datasets.bdd.NightDriveDataset import NightDriveDataset\n",
    "\n",
    "config_file = '../datasets/config_bdd_setA.json'\n",
    "cfg = get_config(config_file)  # see docstring for info on available config files\n"
   ]
  },
  {
   "cell_type": "code",
   "execution_count": 4,
   "metadata": {},
   "outputs": [
    {
     "ename": "FileNotFoundError",
     "evalue": "[Errno 2] No such file or directory: '../datasets/config_bdd_setA.json'",
     "output_type": "error",
     "traceback": [
      "\u001b[0;31m---------------------------------------------------------------------------\u001b[0m",
      "\u001b[0;31mFileNotFoundError\u001b[0m                         Traceback (most recent call last)",
      "\u001b[0;32m<ipython-input-4-bc66efdc1b5a>\u001b[0m in \u001b[0;36m<module>\u001b[0;34m\u001b[0m\n\u001b[1;32m      2\u001b[0m \u001b[0;34m\u001b[0m\u001b[0m\n\u001b[1;32m      3\u001b[0m \u001b[0mconfig_file\u001b[0m \u001b[0;34m=\u001b[0m \u001b[0;34m'../datasets/config_bdd_setA.json'\u001b[0m\u001b[0;34m\u001b[0m\u001b[0;34m\u001b[0m\u001b[0m\n\u001b[0;32m----> 4\u001b[0;31m \u001b[0mcfg\u001b[0m \u001b[0;34m=\u001b[0m \u001b[0mndd\u001b[0m\u001b[0;34m.\u001b[0m\u001b[0mget_config\u001b[0m\u001b[0;34m(\u001b[0m\u001b[0mconfig_file\u001b[0m\u001b[0;34m)\u001b[0m  \u001b[0;31m# see docstring for info on available config files\u001b[0m\u001b[0;34m\u001b[0m\u001b[0;34m\u001b[0m\u001b[0m\n\u001b[0m",
      "\u001b[0;32m~/projects/night-drive/datasets/bdd/NightDriveDataset.py\u001b[0m in \u001b[0;36mget_config\u001b[0;34m(filename)\u001b[0m\n\u001b[1;32m    325\u001b[0m     \"\"\"\n\u001b[1;32m    326\u001b[0m     \u001b[0;32mimport\u001b[0m \u001b[0mjson\u001b[0m\u001b[0;34m\u001b[0m\u001b[0;34m\u001b[0m\u001b[0m\n\u001b[0;32m--> 327\u001b[0;31m     \u001b[0;32mwith\u001b[0m \u001b[0mopen\u001b[0m\u001b[0;34m(\u001b[0m\u001b[0mfilename\u001b[0m\u001b[0;34m,\u001b[0m \u001b[0;34m'r'\u001b[0m\u001b[0;34m)\u001b[0m \u001b[0;32mas\u001b[0m \u001b[0mf\u001b[0m\u001b[0;34m:\u001b[0m\u001b[0;34m\u001b[0m\u001b[0;34m\u001b[0m\u001b[0m\n\u001b[0m\u001b[1;32m    328\u001b[0m         \u001b[0mconfig\u001b[0m \u001b[0;34m=\u001b[0m \u001b[0mjson\u001b[0m\u001b[0;34m.\u001b[0m\u001b[0mload\u001b[0m\u001b[0;34m(\u001b[0m\u001b[0mf\u001b[0m\u001b[0;34m)\u001b[0m\u001b[0;34m\u001b[0m\u001b[0;34m\u001b[0m\u001b[0m\n\u001b[1;32m    329\u001b[0m     \u001b[0;32mreturn\u001b[0m \u001b[0mconfig\u001b[0m\u001b[0;34m\u001b[0m\u001b[0;34m\u001b[0m\u001b[0m\n",
      "\u001b[0;31mFileNotFoundError\u001b[0m: [Errno 2] No such file or directory: '../datasets/config_bdd_setA.json'"
     ]
    }
   ],
   "source": [
    "import datasets.bdd.NightDriveDataset as ndd\n",
    "\n",
    "config_file = '../datasets/config_bdd_setA.json'\n",
    "cfg = ndd.get_config(config_file)  # see docstring for info on available config files"
   ]
  },
  {
   "cell_type": "code",
   "execution_count": 28,
   "metadata": {},
   "outputs": [
    {
     "data": {
      "text/plain": [
       "{'train': {'n': 40000,\n",
       "  'class_dist': {'daytime': 1, 'dawn/dusk': 0, 'night': 0},\n",
       "  'balancing': 'over',\n",
       "  'class_min': 0},\n",
       " 'train_dev': {'n': 2000,\n",
       "  'class_dist': {'daytime': 1, 'dawn/dusk': 0, 'night': 0},\n",
       "  'balancing': 'over',\n",
       "  'class_min': 0},\n",
       " 'test': {'n': 2000,\n",
       "  'class_dist': {'daytime': 0.5, 'dawn/dusk': 0, 'night': 0.5},\n",
       "  'balancing': 'none',\n",
       "  'class_min': 50},\n",
       " 'valid': {'n': 2000,\n",
       "  'class_dist': {'daytime': 0.5, 'dawn/dusk': 0, 'night': 0.5},\n",
       "  'balancing': 'none',\n",
       "  'class_min': 50}}"
      ]
     },
     "execution_count": 28,
     "metadata": {},
     "output_type": "execute_result"
    }
   ],
   "source": [
    "class get_config():\n",
    "    \"\"\"\n",
    "    Loads config file for classifier and detector training.\n",
    "    Available files:\n",
    "        ~ 'config_bdd_setA.json' : 100% day, 0% night\n",
    "        ~ 'config_bdd_setB.json' : 75% day, 25% night\n",
    "        ~ 'config_bdd_setC.json' : 50% day, 50% night\n",
    "    \"\"\"\n",
    "    def __init__(self, filename):\n",
    "        # Load config file\n",
    "        import json\n",
    "        with open(filename, 'r') as f:\n",
    "            content = json.load(f)\n",
    "        # unpack content to be accessible as attributes\n",
    "        self.__dict__ = content\n",
    "        # adjust root dir by user (convenience for Till and Christoph)\n",
    "        if \"home/till/\" in os.getcwd():\n",
    "            self.root_dir = \"/home/till/data/driving/BerkeleyDeepDrive/bdd100k\"\n",
    "        elif \"home/SharedFolder/\" in os.getcwd():\n",
    "            self.root_dir = \"/home/SharedFolder/CurrentDatasets/bdd100k\"\n",
    "\n",
    "cfg = get_config('config_bdd_setA.json')\n",
    "cfg.sampler_dict"
   ]
  }
 ],
 "metadata": {
  "kernelspec": {
   "display_name": "Python 3",
   "language": "python",
   "name": "python3"
  },
  "language_info": {
   "codemirror_mode": {
    "name": "ipython",
    "version": 3
   },
   "file_extension": ".py",
   "mimetype": "text/x-python",
   "name": "python",
   "nbconvert_exporter": "python",
   "pygments_lexer": "ipython3",
   "version": "3.6.8"
  }
 },
 "nbformat": 4,
 "nbformat_minor": 2
}

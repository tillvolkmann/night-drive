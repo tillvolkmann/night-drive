{
 "cells": [
  {
   "cell_type": "markdown",
   "metadata": {},
   "source": [
    "## Time of day split of a BDD json ##"
   ]
  },
  {
   "cell_type": "code",
   "execution_count": 1,
   "metadata": {},
   "outputs": [],
   "source": [
    "import os\n",
    "import json\n",
    "import pandas as pd"
   ]
  },
  {
   "cell_type": "code",
   "execution_count": 2,
   "metadata": {},
   "outputs": [],
   "source": [
    "bdd_json_path = \"/home/SharedFolder/CurrentDatasets/bdd100k_sorted_coco/annotations/bdd100k_sorted_valid.json\""
   ]
  },
  {
   "cell_type": "code",
   "execution_count": 3,
   "metadata": {},
   "outputs": [],
   "source": [
    "df_bdd = pd.read_json(bdd_json_path).reset_index(drop = True)"
   ]
  },
  {
   "cell_type": "code",
   "execution_count": 4,
   "metadata": {},
   "outputs": [
    {
     "data": {
      "text/html": [
       "<div>\n",
       "<style scoped>\n",
       "    .dataframe tbody tr th:only-of-type {\n",
       "        vertical-align: middle;\n",
       "    }\n",
       "\n",
       "    .dataframe tbody tr th {\n",
       "        vertical-align: top;\n",
       "    }\n",
       "\n",
       "    .dataframe thead th {\n",
       "        text-align: right;\n",
       "    }\n",
       "</style>\n",
       "<table border=\"1\" class=\"dataframe\">\n",
       "  <thead>\n",
       "    <tr style=\"text-align: right;\">\n",
       "      <th></th>\n",
       "      <th>attributes</th>\n",
       "      <th>labels</th>\n",
       "      <th>name</th>\n",
       "      <th>timestamp</th>\n",
       "    </tr>\n",
       "  </thead>\n",
       "  <tbody>\n",
       "    <tr>\n",
       "      <th>0</th>\n",
       "      <td>{'weather': 'cloudy', 'scene': 'highway', 'tim...</td>\n",
       "      <td>[{'category': 'car', 'attributes': {'occluded'...</td>\n",
       "      <td>8fd38aa0-1859b602.jpg</td>\n",
       "      <td>1000</td>\n",
       "    </tr>\n",
       "    <tr>\n",
       "      <th>1</th>\n",
       "      <td>{'weather': 'cloudy', 'scene': 'city street', ...</td>\n",
       "      <td>[{'category': 'traffic sign', 'attributes': {'...</td>\n",
       "      <td>7568f72d-520dedbb.jpg</td>\n",
       "      <td>1000</td>\n",
       "    </tr>\n",
       "    <tr>\n",
       "      <th>2</th>\n",
       "      <td>{'weather': 'cloudy', 'scene': 'city street', ...</td>\n",
       "      <td>[{'category': 'car', 'attributes': {'occluded'...</td>\n",
       "      <td>79fbe809-247edeb2.jpg</td>\n",
       "      <td>1000</td>\n",
       "    </tr>\n",
       "    <tr>\n",
       "      <th>3</th>\n",
       "      <td>{'weather': 'cloudy', 'scene': 'highway', 'tim...</td>\n",
       "      <td>[{'category': 'traffic sign', 'attributes': {'...</td>\n",
       "      <td>802c0742-23e399b4.jpg</td>\n",
       "      <td>1000</td>\n",
       "    </tr>\n",
       "    <tr>\n",
       "      <th>4</th>\n",
       "      <td>{'weather': 'clear', 'scene': 'city street', '...</td>\n",
       "      <td>[{'category': 'traffic light', 'attributes': {...</td>\n",
       "      <td>7911c0a3-d2ec41e8.jpg</td>\n",
       "      <td>1000</td>\n",
       "    </tr>\n",
       "  </tbody>\n",
       "</table>\n",
       "</div>"
      ],
      "text/plain": [
       "                                          attributes  \\\n",
       "0  {'weather': 'cloudy', 'scene': 'highway', 'tim...   \n",
       "1  {'weather': 'cloudy', 'scene': 'city street', ...   \n",
       "2  {'weather': 'cloudy', 'scene': 'city street', ...   \n",
       "3  {'weather': 'cloudy', 'scene': 'highway', 'tim...   \n",
       "4  {'weather': 'clear', 'scene': 'city street', '...   \n",
       "\n",
       "                                              labels                   name  \\\n",
       "0  [{'category': 'car', 'attributes': {'occluded'...  8fd38aa0-1859b602.jpg   \n",
       "1  [{'category': 'traffic sign', 'attributes': {'...  7568f72d-520dedbb.jpg   \n",
       "2  [{'category': 'car', 'attributes': {'occluded'...  79fbe809-247edeb2.jpg   \n",
       "3  [{'category': 'traffic sign', 'attributes': {'...  802c0742-23e399b4.jpg   \n",
       "4  [{'category': 'traffic light', 'attributes': {...  7911c0a3-d2ec41e8.jpg   \n",
       "\n",
       "   timestamp  \n",
       "0       1000  \n",
       "1       1000  \n",
       "2       1000  \n",
       "3       1000  \n",
       "4       1000  "
      ]
     },
     "execution_count": 4,
     "metadata": {},
     "output_type": "execute_result"
    }
   ],
   "source": [
    "df_bdd.head()"
   ]
  },
  {
   "cell_type": "code",
   "execution_count": 5,
   "metadata": {},
   "outputs": [
    {
     "data": {
      "text/html": [
       "<div>\n",
       "<style scoped>\n",
       "    .dataframe tbody tr th:only-of-type {\n",
       "        vertical-align: middle;\n",
       "    }\n",
       "\n",
       "    .dataframe tbody tr th {\n",
       "        vertical-align: top;\n",
       "    }\n",
       "\n",
       "    .dataframe thead th {\n",
       "        text-align: right;\n",
       "    }\n",
       "</style>\n",
       "<table border=\"1\" class=\"dataframe\">\n",
       "  <thead>\n",
       "    <tr style=\"text-align: right;\">\n",
       "      <th></th>\n",
       "      <th>attributes</th>\n",
       "      <th>labels</th>\n",
       "      <th>name</th>\n",
       "      <th>timestamp</th>\n",
       "      <th>timeofday</th>\n",
       "    </tr>\n",
       "  </thead>\n",
       "  <tbody>\n",
       "    <tr>\n",
       "      <th>0</th>\n",
       "      <td>{'weather': 'cloudy', 'scene': 'highway', 'tim...</td>\n",
       "      <td>[{'category': 'car', 'attributes': {'occluded'...</td>\n",
       "      <td>8fd38aa0-1859b602.jpg</td>\n",
       "      <td>1000</td>\n",
       "      <td>daytime</td>\n",
       "    </tr>\n",
       "    <tr>\n",
       "      <th>1</th>\n",
       "      <td>{'weather': 'cloudy', 'scene': 'city street', ...</td>\n",
       "      <td>[{'category': 'traffic sign', 'attributes': {'...</td>\n",
       "      <td>7568f72d-520dedbb.jpg</td>\n",
       "      <td>1000</td>\n",
       "      <td>daytime</td>\n",
       "    </tr>\n",
       "    <tr>\n",
       "      <th>2</th>\n",
       "      <td>{'weather': 'cloudy', 'scene': 'city street', ...</td>\n",
       "      <td>[{'category': 'car', 'attributes': {'occluded'...</td>\n",
       "      <td>79fbe809-247edeb2.jpg</td>\n",
       "      <td>1000</td>\n",
       "      <td>daytime</td>\n",
       "    </tr>\n",
       "    <tr>\n",
       "      <th>3</th>\n",
       "      <td>{'weather': 'cloudy', 'scene': 'highway', 'tim...</td>\n",
       "      <td>[{'category': 'traffic sign', 'attributes': {'...</td>\n",
       "      <td>802c0742-23e399b4.jpg</td>\n",
       "      <td>1000</td>\n",
       "      <td>daytime</td>\n",
       "    </tr>\n",
       "    <tr>\n",
       "      <th>4</th>\n",
       "      <td>{'weather': 'clear', 'scene': 'city street', '...</td>\n",
       "      <td>[{'category': 'traffic light', 'attributes': {...</td>\n",
       "      <td>7911c0a3-d2ec41e8.jpg</td>\n",
       "      <td>1000</td>\n",
       "      <td>night</td>\n",
       "    </tr>\n",
       "  </tbody>\n",
       "</table>\n",
       "</div>"
      ],
      "text/plain": [
       "                                          attributes  \\\n",
       "0  {'weather': 'cloudy', 'scene': 'highway', 'tim...   \n",
       "1  {'weather': 'cloudy', 'scene': 'city street', ...   \n",
       "2  {'weather': 'cloudy', 'scene': 'city street', ...   \n",
       "3  {'weather': 'cloudy', 'scene': 'highway', 'tim...   \n",
       "4  {'weather': 'clear', 'scene': 'city street', '...   \n",
       "\n",
       "                                              labels                   name  \\\n",
       "0  [{'category': 'car', 'attributes': {'occluded'...  8fd38aa0-1859b602.jpg   \n",
       "1  [{'category': 'traffic sign', 'attributes': {'...  7568f72d-520dedbb.jpg   \n",
       "2  [{'category': 'car', 'attributes': {'occluded'...  79fbe809-247edeb2.jpg   \n",
       "3  [{'category': 'traffic sign', 'attributes': {'...  802c0742-23e399b4.jpg   \n",
       "4  [{'category': 'traffic light', 'attributes': {...  7911c0a3-d2ec41e8.jpg   \n",
       "\n",
       "   timestamp timeofday  \n",
       "0       1000   daytime  \n",
       "1       1000   daytime  \n",
       "2       1000   daytime  \n",
       "3       1000   daytime  \n",
       "4       1000     night  "
      ]
     },
     "execution_count": 5,
     "metadata": {},
     "output_type": "execute_result"
    }
   ],
   "source": [
    "df_bdd[\"timeofday\"] = df_bdd.attributes.apply(lambda x: x[\"timeofday\"])\n",
    "df_bdd.head()"
   ]
  },
  {
   "cell_type": "code",
   "execution_count": 6,
   "metadata": {},
   "outputs": [
    {
     "name": "stdout",
     "output_type": "stream",
     "text": [
      "['daytime', 'night']\n"
     ]
    }
   ],
   "source": [
    "timeofday = df_bdd.timeofday.unique().tolist()\n",
    "print(timeofday)"
   ]
  },
  {
   "cell_type": "code",
   "execution_count": 7,
   "metadata": {},
   "outputs": [],
   "source": [
    "for t in timeofday:\n",
    "    df_bdd_t = df_bdd.loc[df_bdd.timeofday == t].drop(columns = [\"timeofday\"]).reset_index(drop = True)\n",
    "    bdd_t_json_path = f\"{bdd_json_path.split('.json')[0]}_{t}.json\"\n",
    "    assert bdd_json_path != bdd_t_json_path\n",
    "    if os.path.exists(bdd_t_json_path):\n",
    "        os.remove(bdd_t_json_path)\n",
    "    with open(bdd_t_json_path, \"w\") as f:\n",
    "        f.write(json.dumps(df_bdd_t.to_dict(), indent = 4))"
   ]
  },
  {
   "cell_type": "code",
   "execution_count": null,
   "metadata": {},
   "outputs": [],
   "source": []
  }
 ],
 "metadata": {
  "kernelspec": {
   "display_name": "Python 3",
   "language": "python",
   "name": "python3"
  },
  "language_info": {
   "codemirror_mode": {
    "name": "ipython",
    "version": 3
   },
   "file_extension": ".py",
   "mimetype": "text/x-python",
   "name": "python",
   "nbconvert_exporter": "python",
   "pygments_lexer": "ipython3",
   "version": "3.6.7"
  }
 },
 "nbformat": 4,
 "nbformat_minor": 2
}

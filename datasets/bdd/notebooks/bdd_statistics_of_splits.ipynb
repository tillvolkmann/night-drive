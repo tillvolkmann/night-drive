{
 "cells": [
  {
   "cell_type": "code",
   "execution_count": 1,
   "metadata": {},
   "outputs": [
    {
     "data": {
      "text/html": [
       "<script type=\"text/javascript\">window.PlotlyConfig = {MathJaxConfig: 'local'};</script><script type=\"text/javascript\">if (window.MathJax) {MathJax.Hub.Config({SVG: {font: \"STIX-Web\"}});}</script><script>requirejs.config({paths: { 'plotly': ['https://cdn.plot.ly/plotly-latest.min']},});if(!window._Plotly) {require(['plotly'],function(plotly) {window._Plotly=plotly;});}</script>"
      ],
      "text/vnd.plotly.v1+html": [
       "<script type=\"text/javascript\">window.PlotlyConfig = {MathJaxConfig: 'local'};</script><script type=\"text/javascript\">if (window.MathJax) {MathJax.Hub.Config({SVG: {font: \"STIX-Web\"}});}</script><script>requirejs.config({paths: { 'plotly': ['https://cdn.plot.ly/plotly-latest.min']},});if(!window._Plotly) {require(['plotly'],function(plotly) {window._Plotly=plotly;});}</script>"
      ]
     },
     "metadata": {},
     "output_type": "display_data"
    }
   ],
   "source": [
    "import pandas as pd\n",
    "import numpy as np\n",
    "import matplotlib.pyplot as plt\n",
    "import sys\n",
    "sys.path.insert(0, '/home/till/projects/night-drive/datasets/bdd/BDDDataSets')\n",
    "import BDDDataSets as bdd\n",
    "import pdb\n",
    "\n",
    "import plotly as py\n",
    "py.offline.init_notebook_mode(connected=True)\n",
    "import plotly.graph_objs as go"
   ]
  },
  {
   "cell_type": "markdown",
   "metadata": {},
   "source": [
    "### Load data"
   ]
  },
  {
   "cell_type": "code",
   "execution_count": 2,
   "metadata": {
    "scrolled": true
   },
   "outputs": [
    {
     "name": "stdout",
     "output_type": "stream",
     "text": [
      ">> Loading BDD training label dataset\n",
      ">> Loading BDD validation label dataset\n",
      "weather    clear  cloudy  rainy  snowy\n",
      "timeofday                             \n",
      "daytime     2879    2194      0      0\n",
      "night      24563      44   2341   2368\n",
      "                     clear  cloudy  rainy  snowy\n",
      "split     timeofday                             \n",
      "test      daytime      419     397     86     96\n",
      "          night        797      50     76     76\n",
      "valid     daytime      419     397     86     96\n",
      "          night        797      50     76     76\n",
      "train_dev daytime      500     500    130    147\n",
      "          night          0       0      0      0\n",
      "train     daytime    10000   10000   2615   2943\n",
      "          night          0       0      0      0\n",
      "\n",
      "Multi-variate distribution of unique original samples for each split:\n",
      "\n",
      "                     clear  cloudy  rainy  snowy  total\n",
      "split     timeofday                                    \n",
      "test      daytime      419     397     86     96    998\n",
      "          night        797      50     76     76    999\n",
      "train     daytime    10000   10000   2615   2943  25558\n",
      "          night          0       0      0      0      0\n",
      "train_dev daytime      500     500    130    147   1277\n",
      "          night          0       0      0      0      0\n",
      "valid     daytime      419     397     86     96    998\n",
      "          night        797      50     76     76    999\n",
      "\n",
      "Unique sample distribution grouped by split:\n",
      "\n",
      "           clear  cloudy  rainy  snowy  total\n",
      "split                                        \n",
      "test        1216     447    162    172   1997\n",
      "train      10000   10000   2615   2943  25558\n",
      "train_dev    500     500    130    147   1277\n",
      "valid       1216     447    162    172   1997\n",
      "\n",
      "Unique samples not used:\n",
      "\n",
      "weather    clear  cloudy  rainy  snowy\n",
      "timeofday                             \n",
      "daytime     2879    2194      0      0\n",
      "night      24563      44   2341   2368\n",
      "\n",
      "Multi-variate distribution of oversampling samples across splits:\n",
      "\n",
      "                     clear  cloudy  rainy  snowy  total\n",
      "split     timeofday                                    \n",
      "test      daytime        0       0      0      0      0\n",
      "          night          0       0      0      0      0\n",
      "train     daytime        0       0   7384   7056  14440\n",
      "          night          0       0      0      0      0\n",
      "train_dev daytime        0       0    369    352    721\n",
      "          night          0       0      0      0      0\n",
      "valid     daytime        0       0      0      0      0\n",
      "          night          0       0      0      0      0\n",
      "\n",
      "Cross tabulation of original samples timeofday x weather:\n",
      "\n",
      "weather    clear  cloudy  rainy  snowy  total\n",
      "timeofday                                    \n",
      "daytime    14218   13490   2918   3284  33910\n",
      "night      26158     144   2494   2522  31318\n",
      ">> Loading BDD training label dataset\n",
      ">> Loading BDD validation label dataset\n",
      "weather    clear  cloudy  rainy  snowy\n",
      "timeofday                             \n",
      "daytime     5504    4819      0      0\n",
      "night      21938       0      0      0\n",
      "                     clear  cloudy  rainy  snowy\n",
      "split     timeofday                             \n",
      "test      daytime      419     397     86     96\n",
      "          night        797      50     76     76\n",
      "valid     daytime      419     397     86     96\n",
      "          night        797      50     76     76\n",
      "train_dev daytime      375     375    130    147\n",
      "          night        125       2    111    112\n",
      "train     daytime     7500    7500   2615   2943\n",
      "          night       2500      41   2230   2255\n",
      "\n",
      "Multi-variate distribution of unique original samples for each split:\n",
      "\n",
      "                     clear  cloudy  rainy  snowy  total\n",
      "split     timeofday                                    \n",
      "test      daytime      419     397     86     96    998\n",
      "          night        797      50     76     76    999\n",
      "train     daytime     7500    7500   2615   2943  20558\n",
      "          night       2500      41   2230   2255   7026\n",
      "train_dev daytime      375     375    130    147   1027\n",
      "          night        125       2    111    112    350\n",
      "valid     daytime      419     397     86     96    998\n",
      "          night        797      50     76     76    999\n",
      "\n",
      "Unique sample distribution grouped by split:\n",
      "\n",
      "           clear  cloudy  rainy  snowy  total\n",
      "split                                        \n",
      "test        1216     447    162    172   1997\n",
      "train      10000    7541   4845   5198  27584\n",
      "train_dev    500     377    241    259   1377\n",
      "valid       1216     447    162    172   1997\n",
      "\n",
      "Unique samples not used:\n",
      "\n",
      "weather    clear  cloudy  rainy  snowy\n",
      "timeofday                             \n",
      "daytime     5504    4819      0      0\n",
      "night      21938       0      0      0\n",
      "\n",
      "Multi-variate distribution of oversampling samples across splits:\n",
      "\n",
      "                     clear  cloudy  rainy  snowy  total\n",
      "split     timeofday                                    \n",
      "test      daytime        0       0      0      0      0\n",
      "          night          0       0      0      0      0\n",
      "train     daytime        0       0   4884   4556   9440\n",
      "          night          0    2458    269    244   2971\n",
      "train_dev daytime        0       0    244    227    471\n",
      "          night          0     122     13     12    147\n",
      "valid     daytime        0       0      0      0      0\n",
      "          night          0       0      0      0      0\n",
      "\n",
      "Cross tabulation of original samples timeofday x weather:\n",
      "\n",
      "weather    clear  cloudy  rainy  snowy  total\n",
      "timeofday                                    \n",
      "daytime    14218   13490   2918   3284  33910\n",
      "night      26158     144   2494   2522  31318\n",
      ">> Loading BDD training label dataset\n",
      ">> Loading BDD validation label dataset\n",
      "weather    clear  cloudy  rainy  snowy\n",
      "timeofday                             \n",
      "daytime     8129    7444      0      0\n",
      "night      19313       0      0      0\n",
      "                     clear  cloudy  rainy  snowy\n",
      "split     timeofday                             \n",
      "test      daytime      419     397     86     96\n",
      "          night        797      50     76     76\n",
      "valid     daytime      419     397     86     96\n",
      "          night        797      50     76     76\n",
      "train_dev daytime      250     250    130    147\n",
      "          night        250       2    111    112\n",
      "train     daytime     5000    5000   2615   2943\n",
      "          night       5000      41   2230   2255\n",
      "\n",
      "Multi-variate distribution of unique original samples for each split:\n",
      "\n",
      "                     clear  cloudy  rainy  snowy  total\n",
      "split     timeofday                                    \n",
      "test      daytime      419     397     86     96    998\n",
      "          night        797      50     76     76    999\n",
      "train     daytime     5000    5000   2615   2943  15558\n",
      "          night       5000      41   2230   2255   9526\n",
      "train_dev daytime      250     250    130    147    777\n",
      "          night        250       2    111    112    475\n",
      "valid     daytime      419     397     86     96    998\n",
      "          night        797      50     76     76    999\n",
      "\n",
      "Unique sample distribution grouped by split:\n",
      "\n",
      "           clear  cloudy  rainy  snowy  total\n",
      "split                                        \n",
      "test        1216     447    162    172   1997\n",
      "train      10000    5041   4845   5198  25084\n",
      "train_dev    500     252    241    259   1252\n",
      "valid       1216     447    162    172   1997\n",
      "\n",
      "Unique samples not used:\n",
      "\n",
      "weather    clear  cloudy  rainy  snowy\n",
      "timeofday                             \n",
      "daytime     8129    7444      0      0\n",
      "night      19313       0      0      0\n",
      "\n",
      "Multi-variate distribution of oversampling samples across splits:\n",
      "\n",
      "                     clear  cloudy  rainy  snowy  total\n",
      "split     timeofday                                    \n",
      "test      daytime        0       0      0      0      0\n",
      "          night          0       0      0      0      0\n",
      "train     daytime        0       0   2384   2056   4440\n",
      "          night          0    4958   2769   2744  10471\n",
      "train_dev daytime        0       0    119    102    221\n",
      "          night          0     247    138    137    522\n",
      "valid     daytime        0       0      0      0      0\n",
      "          night          0       0      0      0      0\n",
      "\n",
      "Cross tabulation of original samples timeofday x weather:\n",
      "\n",
      "weather    clear  cloudy  rainy  snowy  total\n",
      "timeofday                                    \n",
      "daytime    14218   13490   2918   3284  33910\n",
      "night      26158     144   2494   2522  31318\n"
     ]
    }
   ],
   "source": [
    "# Actually can use this to load all data with indicated plit\n",
    "cfg_file = '../../config_bdd_setA.json'\n",
    "cfg = bdd.GetConfig(cfg_file)\n",
    "ds_A = bdd.NightDriveDataset(cfg, split='all')\n",
    "cfg_file = '../../config_bdd_setB.json'\n",
    "cfg = bdd.GetConfig(cfg_file)\n",
    "ds_B = bdd.NightDriveDataset(cfg, split='all')\n",
    "cfg_file = '../../config_bdd_setC.json'\n",
    "cfg = bdd.GetConfig(cfg_file)\n",
    "ds_C = bdd.NightDriveDataset(cfg, split='all')"
   ]
  },
  {
   "cell_type": "code",
   "execution_count": 4,
   "metadata": {},
   "outputs": [
    {
     "ename": "AttributeError",
     "evalue": "'DataFrame' object has no attribute 'data'",
     "output_type": "error",
     "traceback": [
      "\u001b[0;31m---------------------------------------------------------------------------\u001b[0m",
      "\u001b[0;31mAttributeError\u001b[0m                            Traceback (most recent call last)",
      "\u001b[0;32m<ipython-input-4-55bfa67826fd>\u001b[0m in \u001b[0;36m<module>\u001b[0;34m\u001b[0m\n\u001b[1;32m      1\u001b[0m \u001b[0;31m# some clean up\u001b[0m\u001b[0;34m\u001b[0m\u001b[0;34m\u001b[0m\u001b[0;34m\u001b[0m\u001b[0m\n\u001b[0;32m----> 2\u001b[0;31m \u001b[0mds_A\u001b[0m \u001b[0;34m=\u001b[0m \u001b[0mds_A\u001b[0m\u001b[0;34m.\u001b[0m\u001b[0mdata\u001b[0m\u001b[0;34m.\u001b[0m\u001b[0mcopy\u001b[0m\u001b[0;34m(\u001b[0m\u001b[0;34m)\u001b[0m\u001b[0;34m.\u001b[0m\u001b[0mdrop\u001b[0m\u001b[0;34m(\u001b[0m\u001b[0mcolumns\u001b[0m\u001b[0;34m=\u001b[0m\u001b[0;34m[\u001b[0m\u001b[0;34m'labels'\u001b[0m\u001b[0;34m]\u001b[0m\u001b[0;34m)\u001b[0m\u001b[0;34m\u001b[0m\u001b[0;34m\u001b[0m\u001b[0m\n\u001b[0m\u001b[1;32m      3\u001b[0m \u001b[0mds_B\u001b[0m \u001b[0;34m=\u001b[0m \u001b[0mds_B\u001b[0m\u001b[0;34m.\u001b[0m\u001b[0mdata\u001b[0m\u001b[0;34m.\u001b[0m\u001b[0mcopy\u001b[0m\u001b[0;34m(\u001b[0m\u001b[0;34m)\u001b[0m\u001b[0;34m.\u001b[0m\u001b[0mdrop\u001b[0m\u001b[0;34m(\u001b[0m\u001b[0mcolumns\u001b[0m\u001b[0;34m=\u001b[0m\u001b[0;34m[\u001b[0m\u001b[0;34m'labels'\u001b[0m\u001b[0;34m]\u001b[0m\u001b[0;34m)\u001b[0m\u001b[0;34m\u001b[0m\u001b[0;34m\u001b[0m\u001b[0m\n\u001b[1;32m      4\u001b[0m \u001b[0mds_C\u001b[0m \u001b[0;34m=\u001b[0m \u001b[0mds_B\u001b[0m\u001b[0;34m.\u001b[0m\u001b[0mdata\u001b[0m\u001b[0;34m.\u001b[0m\u001b[0mcopy\u001b[0m\u001b[0;34m(\u001b[0m\u001b[0;34m)\u001b[0m\u001b[0;34m.\u001b[0m\u001b[0mdrop\u001b[0m\u001b[0;34m(\u001b[0m\u001b[0mcolumns\u001b[0m\u001b[0;34m=\u001b[0m\u001b[0;34m[\u001b[0m\u001b[0;34m'labels'\u001b[0m\u001b[0;34m]\u001b[0m\u001b[0;34m)\u001b[0m\u001b[0;34m\u001b[0m\u001b[0;34m\u001b[0m\u001b[0m\n",
      "\u001b[0;32m~/anaconda3/envs/py36/lib/python3.6/site-packages/pandas/core/generic.py\u001b[0m in \u001b[0;36m__getattr__\u001b[0;34m(self, name)\u001b[0m\n\u001b[1;32m   5065\u001b[0m             \u001b[0;32mif\u001b[0m \u001b[0mself\u001b[0m\u001b[0;34m.\u001b[0m\u001b[0m_info_axis\u001b[0m\u001b[0;34m.\u001b[0m\u001b[0m_can_hold_identifiers_and_holds_name\u001b[0m\u001b[0;34m(\u001b[0m\u001b[0mname\u001b[0m\u001b[0;34m)\u001b[0m\u001b[0;34m:\u001b[0m\u001b[0;34m\u001b[0m\u001b[0;34m\u001b[0m\u001b[0m\n\u001b[1;32m   5066\u001b[0m                 \u001b[0;32mreturn\u001b[0m \u001b[0mself\u001b[0m\u001b[0;34m[\u001b[0m\u001b[0mname\u001b[0m\u001b[0;34m]\u001b[0m\u001b[0;34m\u001b[0m\u001b[0;34m\u001b[0m\u001b[0m\n\u001b[0;32m-> 5067\u001b[0;31m             \u001b[0;32mreturn\u001b[0m \u001b[0mobject\u001b[0m\u001b[0;34m.\u001b[0m\u001b[0m__getattribute__\u001b[0m\u001b[0;34m(\u001b[0m\u001b[0mself\u001b[0m\u001b[0;34m,\u001b[0m \u001b[0mname\u001b[0m\u001b[0;34m)\u001b[0m\u001b[0;34m\u001b[0m\u001b[0;34m\u001b[0m\u001b[0m\n\u001b[0m\u001b[1;32m   5068\u001b[0m \u001b[0;34m\u001b[0m\u001b[0m\n\u001b[1;32m   5069\u001b[0m     \u001b[0;32mdef\u001b[0m \u001b[0m__setattr__\u001b[0m\u001b[0;34m(\u001b[0m\u001b[0mself\u001b[0m\u001b[0;34m,\u001b[0m \u001b[0mname\u001b[0m\u001b[0;34m,\u001b[0m \u001b[0mvalue\u001b[0m\u001b[0;34m)\u001b[0m\u001b[0;34m:\u001b[0m\u001b[0;34m\u001b[0m\u001b[0;34m\u001b[0m\u001b[0m\n",
      "\u001b[0;31mAttributeError\u001b[0m: 'DataFrame' object has no attribute 'data'"
     ]
    }
   ],
   "source": [
    "# some clean up\n",
    "ds_A = ds_A.data.copy().drop(columns=['labels'])\n",
    "ds_B = ds_B.data.copy().drop(columns=['labels'])\n",
    "ds_C = ds_B.data.copy().drop(columns=['labels'])"
   ]
  },
  {
   "cell_type": "code",
   "execution_count": 22,
   "metadata": {},
   "outputs": [
    {
     "data": {
      "text/plain": [
       "unassigned    55228\n",
       "train         10000\n",
       "Name: split, dtype: int64"
      ]
     },
     "execution_count": 22,
     "metadata": {},
     "output_type": "execute_result"
    }
   ],
   "source": [
    "ds_A.query('(split ==\"test\")').weather.unique()\n",
    "ds_A.split.value_counts()"
   ]
  },
  {
   "cell_type": "code",
   "execution_count": 57,
   "metadata": {},
   "outputs": [
    {
     "data": {
      "application/vnd.plotly.v1+json": {
       "config": {
        "linkText": "Export to plot.ly",
        "plotlyServerURL": "https://plot.ly",
        "showLink": false
       },
       "data": [
        {
         "name": "daytime",
         "opacity": 0.6,
         "text": [
          2140,
          2115,
          461,
          442
         ],
         "textposition": "auto",
         "type": "bar",
         "uid": "44895253-76b8-4ab6-b226-b8fbbd760336",
         "x": [
          "clear",
          "rainy",
          "snowy",
          "cloudy"
         ],
         "y": [
          2140,
          2115,
          461,
          442
         ]
        },
        {
         "name": "night",
         "opacity": 0.6,
         "text": [
          4054,
          399,
          366,
          23
         ],
         "textposition": "auto",
         "type": "bar",
         "uid": "9ac94446-3df2-4293-ac6c-86b9a5fc04fe",
         "x": [
          "clear",
          "rainy",
          "snowy",
          "cloudy"
         ],
         "y": [
          4054,
          399,
          366,
          23
         ]
        }
       ],
       "layout": {
        "title": {
         "font": {
          "color": "black",
          "size": 26
         },
         "text": "<b>Train set C class distributions</b>"
        },
        "yaxis": {
         "title": {
          "font": {
           "color": "black",
           "size": 18
          },
          "text": "<b>Image count (-)</b>"
         }
        }
       }
      },
      "text/html": [
       "<div id=\"2d9f3551-992f-4ec6-ade7-f4fba9fe3ded\" style=\"height: 525px; width: 100%;\" class=\"plotly-graph-div\"></div><script type=\"text/javascript\">require([\"plotly\"], function(Plotly) { window.PLOTLYENV=window.PLOTLYENV || {};window.PLOTLYENV.BASE_URL=\"https://plot.ly\";Plotly.newPlot(\"2d9f3551-992f-4ec6-ade7-f4fba9fe3ded\", [{\"name\": \"daytime\", \"opacity\": 0.6, \"text\": [2140.0, 2115.0, 461.0, 442.0], \"textposition\": \"auto\", \"x\": [\"clear\", \"rainy\", \"snowy\", \"cloudy\"], \"y\": [2140, 2115, 461, 442], \"type\": \"bar\", \"uid\": \"44895253-76b8-4ab6-b226-b8fbbd760336\"}, {\"name\": \"night\", \"opacity\": 0.6, \"text\": [4054.0, 399.0, 366.0, 23.0], \"textposition\": \"auto\", \"x\": [\"clear\", \"rainy\", \"snowy\", \"cloudy\"], \"y\": [4054, 399, 366, 23], \"type\": \"bar\", \"uid\": \"9ac94446-3df2-4293-ac6c-86b9a5fc04fe\"}], {\"title\": {\"font\": {\"color\": \"black\", \"size\": 26}, \"text\": \"<b>Train set C class distributions</b>\"}, \"yaxis\": {\"title\": {\"font\": {\"color\": \"black\", \"size\": 18}, \"text\": \"<b>Image count (-)</b>\"}}}, {\"showLink\": false, \"linkText\": \"Export to plot.ly\", \"plotlyServerURL\": \"https://plot.ly\"})});</script><script type=\"text/javascript\">window.addEventListener(\"resize\", function(){window._Plotly.Plots.resize(document.getElementById(\"2d9f3551-992f-4ec6-ade7-f4fba9fe3ded\"));});</script>"
      ],
      "text/vnd.plotly.v1+html": [
       "<div id=\"2d9f3551-992f-4ec6-ade7-f4fba9fe3ded\" style=\"height: 525px; width: 100%;\" class=\"plotly-graph-div\"></div><script type=\"text/javascript\">require([\"plotly\"], function(Plotly) { window.PLOTLYENV=window.PLOTLYENV || {};window.PLOTLYENV.BASE_URL=\"https://plot.ly\";Plotly.newPlot(\"2d9f3551-992f-4ec6-ade7-f4fba9fe3ded\", [{\"name\": \"daytime\", \"opacity\": 0.6, \"text\": [2140.0, 2115.0, 461.0, 442.0], \"textposition\": \"auto\", \"x\": [\"clear\", \"rainy\", \"snowy\", \"cloudy\"], \"y\": [2140, 2115, 461, 442], \"type\": \"bar\", \"uid\": \"44895253-76b8-4ab6-b226-b8fbbd760336\"}, {\"name\": \"night\", \"opacity\": 0.6, \"text\": [4054.0, 399.0, 366.0, 23.0], \"textposition\": \"auto\", \"x\": [\"clear\", \"rainy\", \"snowy\", \"cloudy\"], \"y\": [4054, 399, 366, 23], \"type\": \"bar\", \"uid\": \"9ac94446-3df2-4293-ac6c-86b9a5fc04fe\"}], {\"title\": {\"font\": {\"color\": \"black\", \"size\": 26}, \"text\": \"<b>Train set C class distributions</b>\"}, \"yaxis\": {\"title\": {\"font\": {\"color\": \"black\", \"size\": 18}, \"text\": \"<b>Image count (-)</b>\"}}}, {\"showLink\": false, \"linkText\": \"Export to plot.ly\", \"plotlyServerURL\": \"https://plot.ly\"})});</script><script type=\"text/javascript\">window.addEventListener(\"resize\", function(){window._Plotly.Plots.resize(document.getElementById(\"2d9f3551-992f-4ec6-ade7-f4fba9fe3ded\"));});</script>"
      ]
     },
     "metadata": {},
     "output_type": "display_data"
    },
    {
     "data": {
      "text/plain": [
       "'file:///home/till/projects/night-drive/datasets/bdd/simple_dashboard.html'"
      ]
     },
     "execution_count": 57,
     "metadata": {},
     "output_type": "execute_result"
    }
   ],
   "source": [
    "# plotly plots\n",
    "x = ds_A.query('(timeofday ==\"night\") & (split ==\"train\")').weather.unique()\n",
    "y0 = ds_A.query('(timeofday ==\"daytime\") & (split ==\"train\")').weather.value_counts()\n",
    "y1 = ds_A.query('(timeofday ==\"night\") & (split ==\"train\")').weather.value_counts()\n",
    "\n",
    "trace0 = go.Bar(\n",
    "    name = \"daytime\",\n",
    "    x = x,\n",
    "    y = y0,\n",
    "    text=y0,\n",
    "    textposition = 'auto',\n",
    "    opacity = 0.6,\n",
    ")\n",
    "trace1 = go.Bar(\n",
    "    name = \"night\",\n",
    "    x = x,\n",
    "    y = y1,\n",
    "    text=y1,\n",
    "    textposition = 'auto',\n",
    "    opacity = 0.6,\n",
    ")\n",
    "data = [trace0, trace1]\n",
    "\n",
    "layout = go.Layout(\n",
    "    title= \"<b>Train set C class distributions</b>\",\n",
    "        titlefont = dict(\n",
    "            size=26,\n",
    "            color='black',\n",
    "        ),\n",
    "    yaxis = dict(\n",
    "        title = '<b>Image count (-)</b>',\n",
    "        titlefont = dict(\n",
    "            size=18,\n",
    "            color='black',\n",
    "        )\n",
    "    )\n",
    ")\n",
    "\n",
    "fig = go.Figure(data=data, layout=layout)\n",
    "\n",
    "# display in notebook\n",
    "py.offline.iplot(fig)\n",
    "\n",
    "# create HTML and open in browser, store HTML\n",
    "py.offline.plot(fig, filename='simple_dashboard.html')"
   ]
  },
  {
   "cell_type": "code",
   "execution_count": 58,
   "metadata": {},
   "outputs": [],
   "source": [
    "# Generate the HTML code of the plot in a <div> element:\n",
    "\n",
    "config = dict(\n",
    "    modeBarButtonsToRemove=['sendDataToCloud'],\n",
    "    displaylogo=False,\n",
    "    fillFrame=True,\n",
    ")  \n",
    "\n",
    "div_str = py.offline.plot(\n",
    "    fig,\n",
    "    output_type='div',\n",
    "    include_plotlyjs=False,\n",
    "    show_link=False,\n",
    "    config=config,\n",
    ")"
   ]
  },
  {
   "cell_type": "code",
   "execution_count": 59,
   "metadata": {},
   "outputs": [],
   "source": [
    "# Build a web page to include the <div> element of the plot:\n",
    "html_str = '''<!DOCTYPE html>\n",
    "                <html>\n",
    "                \n",
    "                <head>\n",
    "                  <script src=\"https://d3js.org/d3.v3.min.js\"></script>\n",
    "                  <script src='https://cdn.plot.ly/plotly-latest.min.js'></script>\n",
    "                </head>\n",
    "                \n",
    "                \n",
    "                <body>\n",
    "                  <h1>Simple Dashboard</h1>\n",
    "                  <p>The following plot is static and interactive at the same time ;)</p>\n",
    "                \n",
    "                  {}\n",
    "                \n",
    "                </body>\n",
    "                \n",
    "                </html>\n",
    "                '''.format(div_str)\n",
    "\n",
    "\n",
    "# The resulting string can be saved in a file\n",
    "with open('simple_dashboard.html', 'w') as f:\n",
    "    f.write(html_str)"
   ]
  },
  {
   "cell_type": "markdown",
   "metadata": {},
   "source": [
    "### Plot class distributions"
   ]
  },
  {
   "cell_type": "code",
   "execution_count": 9,
   "metadata": {},
   "outputs": [
    {
     "data": {
      "text/plain": [
       "<BarContainer object of 4 artists>"
      ]
     },
     "execution_count": 9,
     "metadata": {},
     "output_type": "execute_result"
    },
    {
     "data": {
      "image/png": "[encoded data removed]",
      "text/plain": [
       "<Figure size 648x360 with 2 Axes>"
      ]
     },
     "metadata": {
      "needs_background": "light"
     },
     "output_type": "display_data"
    }
   ],
   "source": [
    "fig, ax = plt.subplots(1, 3, figsize=(9,5))\n",
    "ax[0].bar(ds_test_C.data.timeofday.unique(), ds_test_C.data.timeofday.value_counts())\n",
    "ax[1].bar(ds_test_C.data.weather.unique(), ds_test_C.data.weather.value_counts())\n",
    "ax[1].bar2"
   ]
  },
  {
   "cell_type": "code",
   "execution_count": null,
   "metadata": {},
   "outputs": [],
   "source": [
    "# nested pie chart\n",
    "# https://matplotlib.org/gallery/pie_and_polar_charts/nested_pie.html#sphx-glr-gallery-pie-and-polar-charts-nested-pie-py"
   ]
  }
 ],
 "metadata": {
  "kernelspec": {
   "display_name": "Python 3",
   "language": "python",
   "name": "python3"
  },
  "language_info": {
   "codemirror_mode": {
    "name": "ipython",
    "version": 3
   },
   "file_extension": ".py",
   "mimetype": "text/x-python",
   "name": "python",
   "nbconvert_exporter": "python",
   "pygments_lexer": "ipython3",
   "version": "3.6.8"
  }
 },
 "nbformat": 4,
 "nbformat_minor": 2
}

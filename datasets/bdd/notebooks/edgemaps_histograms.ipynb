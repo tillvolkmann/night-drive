{
 "cells": [
  {
   "cell_type": "markdown",
   "metadata": {},
   "source": [
    "### Edge histograms and difference edge images for daytime images and their night-time transformations  ###"
   ]
  },
  {
   "cell_type": "code",
   "execution_count": 1,
   "metadata": {},
   "outputs": [],
   "source": [
    "dirs_images = [\n",
    "    \"/home/SharedFolder/CurrentDatasets/bdd100k_sorted_augmented_v032_e14/train_A_ganaug_050\",\n",
    "    \"/home/SharedFolder/CurrentDatasets/bdd100k_sorted_coco/train_A\",\n",
    "    \"/home/SharedFolder/CurrentDatasets/bdd100k_sorted_coco/train_B\",\n",
    "    \"/home/SharedFolder/CurrentDatasets/bdd100k_sorted_coco/train_C\",\n",
    "    \"/home/SharedFolder/CurrentDatasets/bdd100k_sorted_coco/train_dev_A\",\n",
    "    \"/home/SharedFolder/CurrentDatasets/bdd100k_sorted_coco/train_dev_B\",\n",
    "    \"/home/SharedFolder/CurrentDatasets/bdd100k_sorted_coco/train_dev_C\",\n",
    "]\n",
    "\n",
    "out_dir = \"/home/SharedFolder/CurrentDatasets/bdd_edgemaps\"\n",
    "\n",
    "suffix_augmented_images = \"_transfer_AtoB\""
   ]
  },
  {
   "cell_type": "code",
   "execution_count": null,
   "metadata": {},
   "outputs": [],
   "source": [
    "import os\n",
    "import glob\n",
    "image_paths = [glob.glob(dir_images + \"/*.jpg\") for dir_images in dirs_images]\n",
    "image_paths = [item for sublist in image_paths for item in sublist]\n",
    "image_paths_augmented = [image_path for image_path in image_paths if suffix_augmented_images in image_path]\n",
    "image_uuids_augmented = [image_path.split(os.sep)[-1].split(suffix_augmented_images)[0] for image_path in image_paths_augmented]\n",
    "image_paths_not_augmented = [image_path for image_path in image_paths if suffix_augmented_images not in image_path]\n",
    "image_uuids_not_augmented = [image_path.split(os.sep)[-1].split(\".jpg\")[0] for image_path in image_paths_not_augmented]\n",
    "\n",
    "dict_aug2naug = {}\n",
    "for i in range(len(image_uuids_augmented)):\n",
    "    if image_uuids_augmented[i] not in dict_aug2naug:\n",
    "        if image_uuids_augmented[i] in image_uuids_not_augmented:\n",
    "            idx = image_uuids_not_augmented.index(image_uuids_augmented[i])\n",
    "            dict_aug2naug[image_paths_augmented[i]] = image_paths_not_augmented[idx]"
   ]
  },
  {
   "cell_type": "code",
   "execution_count": null,
   "metadata": {},
   "outputs": [
    {
     "name": "stdout",
     "output_type": "stream",
     "text": [
      "Processed image 100 of 15353.\n",
      "Processed image 200 of 15353.\n",
      "Processed image 300 of 15353.\n",
      "Processed image 400 of 15353.\n",
      "Processed image 500 of 15353.\n",
      "Processed image 600 of 15353.\n",
      "Processed image 700 of 15353.\n",
      "Processed image 800 of 15353.\n",
      "Processed image 900 of 15353.\n",
      "Processed image 1000 of 15353.\n",
      "Processed image 1100 of 15353.\n",
      "Processed image 1200 of 15353.\n",
      "Processed image 1300 of 15353.\n",
      "Processed image 1400 of 15353.\n",
      "Processed image 1500 of 15353.\n",
      "Processed image 1600 of 15353.\n",
      "Processed image 1700 of 15353.\n",
      "Processed image 1800 of 15353.\n",
      "Processed image 1900 of 15353.\n",
      "Processed image 2000 of 15353.\n",
      "Processed image 2100 of 15353.\n",
      "Processed image 2200 of 15353.\n",
      "Processed image 2300 of 15353.\n",
      "Processed image 2400 of 15353.\n",
      "Processed image 2500 of 15353.\n",
      "Processed image 2600 of 15353.\n",
      "Processed image 2700 of 15353.\n",
      "Processed image 2800 of 15353.\n",
      "Processed image 2900 of 15353.\n",
      "Processed image 3000 of 15353.\n",
      "Processed image 3100 of 15353.\n",
      "Processed image 3200 of 15353.\n",
      "Processed image 3300 of 15353.\n",
      "Processed image 3400 of 15353.\n",
      "Processed image 3500 of 15353.\n",
      "Processed image 3600 of 15353.\n",
      "Processed image 3700 of 15353.\n",
      "Processed image 3800 of 15353.\n",
      "Processed image 3900 of 15353.\n",
      "Processed image 4000 of 15353.\n",
      "Processed image 4100 of 15353.\n",
      "Processed image 4200 of 15353.\n",
      "Processed image 4300 of 15353.\n",
      "Processed image 4400 of 15353.\n",
      "Processed image 4500 of 15353.\n"
     ]
    }
   ],
   "source": [
    "import cv2\n",
    "import pandas as pd\n",
    "import numpy as np\n",
    "import shutil\n",
    "\n",
    "if os.path.isdir(out_dir):\n",
    "    shutil.rmtree(out_dir)\n",
    "os.makedirs(out_dir, exist_ok =  True)\n",
    "    \n",
    "df_histograms_aug = pd.DataFrame(columns = list(range(-2040, 2040)))\n",
    "df_histograms_naug = pd.DataFrame(columns = list(range(-2040, 2040)))\n",
    "\n",
    "cntr = 0\n",
    "for img_aug_path, img_naug_path in dict_aug2naug.items():\n",
    "    img_aug = cv2.imread(img_aug_path)\n",
    "    img_aug = cv2.cvtColor(img_aug, cv2.COLOR_BGR2GRAY)\n",
    "    img_naug = cv2.imread(img_naug_path)\n",
    "    img_naug = cv2.cvtColor(img_naug, cv2.COLOR_BGR2GRAY)   \n",
    "\n",
    "    laplacian64f_aug = cv2.Laplacian(img_aug,cv2.CV_64F, ksize = 3)\n",
    "    laplacian64f_naug = cv2.Laplacian(img_naug,cv2.CV_64F, ksize = 3)  \n",
    "   \n",
    "    norm_abs_diff_laplacian_64f_aug_naug = cv2.normalize(np.abs(laplacian64f_aug - laplacian64f_naug), None, 0, 255, cv2.NORM_MINMAX)\n",
    "    norm_abs_diff_laplacian_8u_aug_naug = np.uint8(norm_abs_diff_laplacian_64f_aug_naug)\n",
    "    \n",
    "    cv2.imwrite(os.path.join(out_dir, img_naug_path.split(os.sep)[-1].split(\".jpg\")[0] + \"_AUGminusNAUG.jpg\"), norm_abs_diff_laplacian_8u_aug_naug, [int(cv2.IMWRITE_JPEG_QUALITY), 95]) \n",
    "  \n",
    "    hist_aug, bins_aug = np.histogram(laplacian64f_aug.ravel(), 4080, [-2040, 2040])\n",
    "    hist_naug, bins_naug = np.histogram(laplacian64f_naug.ravel(), 4080, [-2040, 2040])  \n",
    "        \n",
    "    df_histograms_aug.loc[cntr] = hist_aug\n",
    "    df_histograms_naug.loc[cntr] = hist_naug\n",
    "    \n",
    "    cntr += 1\n",
    "    \n",
    "    if cntr % 100 == 0:\n",
    "        print(f\"Processed image {cntr} of {len(dict_aug2naug)}.\")\n",
    "        \n",
    "df_histograms_aug.to_csv(os.path.join(out_dir, \"aug_histograms.csv\"), header = True)\n",
    "df_histograms_naug.to_csv(os.path.join(out_dir, \"naug_histograms.csv\"), header = True)"
   ]
  },
  {
   "cell_type": "markdown",
   "metadata": {},
   "source": [
    "### Histograms for real night images ###"
   ]
  },
  {
   "cell_type": "code",
   "execution_count": null,
   "metadata": {},
   "outputs": [],
   "source": [
    "real_night_time_json = \"/home/SharedFolder/CurrentDatasets/bdd100k_sorted_coco/annotations/bdd100k_sorted_train_C_over.json\"\n",
    "real_night_time_images = \"/home/SharedFolder/CurrentDatasets/bdd100k_sorted_coco/train_C\""
   ]
  },
  {
   "cell_type": "code",
   "execution_count": null,
   "metadata": {},
   "outputs": [],
   "source": [
    "df_bdd = pd.read_json(real_night_time_json)\n",
    "df_bdd = df_bdd.reset_index(drop = True)\n",
    "df_bdd[\"timeofday\"] = df_bdd[\"attributes\"].apply(lambda x: x[\"timeofday\"])\n",
    "df_bdd = df_bdd.loc[df_bdd.timeofday == \"night\"]\n",
    "df_bdd = df_bdd.drop(columns=[\"timeofday\", \"attributes\", \"labels\", \"timestamp\"]).reset_index(drop = True)\n",
    "nighttime_files = df_bdd[\"name\"].tolist()"
   ]
  },
  {
   "cell_type": "code",
   "execution_count": null,
   "metadata": {},
   "outputs": [],
   "source": [
    "df_histograms_night = pd.DataFrame(columns = list(range(-2040, 2040)))\n",
    "\n",
    "cntr = 0\n",
    "\n",
    "for nighttime_file in nighttime_files:\n",
    "    img_night = cv2.imread(real_night_time_images + \"/\" + nighttime_file)\n",
    "    img_night = cv2.cvtColor(img_night, cv2.COLOR_BGR2GRAY)\n",
    "\n",
    "    laplacian64f_night = cv2.Laplacian(img_night,cv2.CV_64F, ksize = 3)\n",
    "\n",
    "    hist_night, bins_night = np.histogram(laplacian64f_night.ravel(), 4080, [-2040, 2040])\n",
    "        \n",
    "    df_histograms_night.loc[cntr] = hist_night\n",
    "    \n",
    "    cntr += 1\n",
    "    \n",
    "    if cntr % 100 == 0:\n",
    "        print(f\"Processed image {cntr} of {len(nighttime_files)}.\")\n",
    "        \n",
    "df_histograms_night.to_csv(os.path.join(out_dir, \"night_histograms.csv\"), header = True)"
   ]
  },
  {
   "cell_type": "code",
   "execution_count": null,
   "metadata": {},
   "outputs": [],
   "source": []
  }
 ],
 "metadata": {
  "kernelspec": {
   "display_name": "Python 3",
   "language": "python",
   "name": "python3"
  },
  "language_info": {
   "codemirror_mode": {
    "name": "ipython",
    "version": 3
   },
   "file_extension": ".py",
   "mimetype": "text/x-python",
   "name": "python",
   "nbconvert_exporter": "python",
   "pygments_lexer": "ipython3",
   "version": "3.6.7"
  }
 },
 "nbformat": 4,
 "nbformat_minor": 2
}

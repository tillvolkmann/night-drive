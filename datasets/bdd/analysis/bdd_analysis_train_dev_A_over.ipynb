{
 "cells": [
  {
   "cell_type": "code",
   "execution_count": 1,
   "metadata": {},
   "outputs": [],
   "source": [
    "import pandas as pd\n",
    "import matplotlib.pyplot as plt"
   ]
  },
  {
   "cell_type": "code",
   "execution_count": 2,
   "metadata": {},
   "outputs": [
    {
     "data": {
      "text/html": [
       "<div>\n",
       "<style scoped>\n",
       "    .dataframe tbody tr th:only-of-type {\n",
       "        vertical-align: middle;\n",
       "    }\n",
       "\n",
       "    .dataframe tbody tr th {\n",
       "        vertical-align: top;\n",
       "    }\n",
       "\n",
       "    .dataframe thead th {\n",
       "        text-align: right;\n",
       "    }\n",
       "</style>\n",
       "<table border=\"1\" class=\"dataframe\">\n",
       "  <thead>\n",
       "    <tr style=\"text-align: right;\">\n",
       "      <th></th>\n",
       "      <th>name</th>\n",
       "      <th>timeofday</th>\n",
       "      <th>weather</th>\n",
       "    </tr>\n",
       "  </thead>\n",
       "  <tbody>\n",
       "    <tr>\n",
       "      <th>0</th>\n",
       "      <td>b4b47b81-90c3dbae.jpg</td>\n",
       "      <td>daytime</td>\n",
       "      <td>snowy</td>\n",
       "    </tr>\n",
       "    <tr>\n",
       "      <th>1</th>\n",
       "      <td>705a2450-9bd22f6a.jpg</td>\n",
       "      <td>daytime</td>\n",
       "      <td>snowy</td>\n",
       "    </tr>\n",
       "    <tr>\n",
       "      <th>10</th>\n",
       "      <td>79ced1aa-ec10c0fa.jpg</td>\n",
       "      <td>daytime</td>\n",
       "      <td>cloudy</td>\n",
       "    </tr>\n",
       "  </tbody>\n",
       "</table>\n",
       "</div>"
      ],
      "text/plain": [
       "                     name timeofday weather\n",
       "0   b4b47b81-90c3dbae.jpg   daytime   snowy\n",
       "1   705a2450-9bd22f6a.jpg   daytime   snowy\n",
       "10  79ced1aa-ec10c0fa.jpg   daytime  cloudy"
      ]
     },
     "execution_count": 2,
     "metadata": {},
     "output_type": "execute_result"
    }
   ],
   "source": [
    "# Generated file\n",
    "json_file_manual_split = \"/home/SharedFolder/CurrentDatasets/bdd100k_sorted_coco/annotations/bdd100k_sorted_train_dev_A_over.json\"\n",
    "df_bdd_generated = pd.read_json(json_file_manual_split)\n",
    "df_bdd_generated_attributes = pd.DataFrame(df_bdd_generated['attributes'].tolist())\n",
    "df_bdd_generated[\"timeofday\"] = df_bdd_generated_attributes[\"timeofday\"]\n",
    "df_bdd_generated[\"weather\"] = df_bdd_generated_attributes[\"weather\"]\n",
    "df_bdd_generated = df_bdd_generated.drop(columns = [\"labels\", \"timestamp\", \"attributes\"])\n",
    "df_bdd_generated.head(3)"
   ]
  },
  {
   "cell_type": "code",
   "execution_count": 3,
   "metadata": {},
   "outputs": [
    {
     "data": {
      "text/html": [
       "<div>\n",
       "<style scoped>\n",
       "    .dataframe tbody tr th:only-of-type {\n",
       "        vertical-align: middle;\n",
       "    }\n",
       "\n",
       "    .dataframe tbody tr th {\n",
       "        vertical-align: top;\n",
       "    }\n",
       "\n",
       "    .dataframe thead th {\n",
       "        text-align: right;\n",
       "    }\n",
       "</style>\n",
       "<table border=\"1\" class=\"dataframe\">\n",
       "  <thead>\n",
       "    <tr style=\"text-align: right;\">\n",
       "      <th></th>\n",
       "      <th>name</th>\n",
       "      <th>timeofday</th>\n",
       "      <th>weather</th>\n",
       "    </tr>\n",
       "  </thead>\n",
       "  <tbody>\n",
       "    <tr>\n",
       "      <th>0</th>\n",
       "      <td>b1c66a42-6f7d68ca.jpg</td>\n",
       "      <td>daytime</td>\n",
       "      <td>overcast</td>\n",
       "    </tr>\n",
       "    <tr>\n",
       "      <th>1</th>\n",
       "      <td>b1c81faa-3df17267.jpg</td>\n",
       "      <td>night</td>\n",
       "      <td>clear</td>\n",
       "    </tr>\n",
       "    <tr>\n",
       "      <th>2</th>\n",
       "      <td>b1c81faa-c80764c5.jpg</td>\n",
       "      <td>night</td>\n",
       "      <td>clear</td>\n",
       "    </tr>\n",
       "  </tbody>\n",
       "</table>\n",
       "</div>"
      ],
      "text/plain": [
       "                    name timeofday   weather\n",
       "0  b1c66a42-6f7d68ca.jpg   daytime  overcast\n",
       "1  b1c81faa-3df17267.jpg     night     clear\n",
       "2  b1c81faa-c80764c5.jpg     night     clear"
      ]
     },
     "execution_count": 3,
     "metadata": {},
     "output_type": "execute_result"
    }
   ],
   "source": [
    "# Original valid\n",
    "labelfile_valid = \"/home/SharedFolder/CurrentDatasets/bdd100k/labels/bdd100k_labels_images_val.json\"\n",
    "df_bdd_valid = pd.read_json(labelfile_valid)\n",
    "df_bdd_valid_attributes = pd.DataFrame(df_bdd_valid['attributes'].tolist())\n",
    "df_bdd_valid[\"timeofday\"] = df_bdd_valid_attributes[\"timeofday\"]\n",
    "df_bdd_valid[\"weather\"] = df_bdd_valid_attributes[\"weather\"]\n",
    "df_bdd_valid = df_bdd_valid.drop(columns = [\"labels\", \"timestamp\", \"attributes\"])\n",
    "df_bdd_valid.head(3)"
   ]
  },
  {
   "cell_type": "code",
   "execution_count": 4,
   "metadata": {},
   "outputs": [
    {
     "data": {
      "text/html": [
       "<div>\n",
       "<style scoped>\n",
       "    .dataframe tbody tr th:only-of-type {\n",
       "        vertical-align: middle;\n",
       "    }\n",
       "\n",
       "    .dataframe tbody tr th {\n",
       "        vertical-align: top;\n",
       "    }\n",
       "\n",
       "    .dataframe thead th {\n",
       "        text-align: right;\n",
       "    }\n",
       "</style>\n",
       "<table border=\"1\" class=\"dataframe\">\n",
       "  <thead>\n",
       "    <tr style=\"text-align: right;\">\n",
       "      <th></th>\n",
       "      <th>name</th>\n",
       "      <th>timeofday</th>\n",
       "      <th>weather</th>\n",
       "    </tr>\n",
       "  </thead>\n",
       "  <tbody>\n",
       "    <tr>\n",
       "      <th>0</th>\n",
       "      <td>0000f77c-6257be58.jpg</td>\n",
       "      <td>daytime</td>\n",
       "      <td>clear</td>\n",
       "    </tr>\n",
       "    <tr>\n",
       "      <th>1</th>\n",
       "      <td>0000f77c-62c2a288.jpg</td>\n",
       "      <td>dawn/dusk</td>\n",
       "      <td>clear</td>\n",
       "    </tr>\n",
       "    <tr>\n",
       "      <th>2</th>\n",
       "      <td>0000f77c-cb820c98.jpg</td>\n",
       "      <td>dawn/dusk</td>\n",
       "      <td>clear</td>\n",
       "    </tr>\n",
       "  </tbody>\n",
       "</table>\n",
       "</div>"
      ],
      "text/plain": [
       "                    name  timeofday weather\n",
       "0  0000f77c-6257be58.jpg    daytime   clear\n",
       "1  0000f77c-62c2a288.jpg  dawn/dusk   clear\n",
       "2  0000f77c-cb820c98.jpg  dawn/dusk   clear"
      ]
     },
     "execution_count": 4,
     "metadata": {},
     "output_type": "execute_result"
    }
   ],
   "source": [
    "# Original train\n",
    "labelfile_train = \"/home/SharedFolder/CurrentDatasets/bdd100k/labels/bdd100k_labels_images_train.json\"\n",
    "df_bdd_train = pd.read_json(labelfile_train)\n",
    "df_bdd_train_attributes = pd.DataFrame(df_bdd_train['attributes'].tolist())\n",
    "df_bdd_train[\"timeofday\"] = df_bdd_train_attributes[\"timeofday\"]\n",
    "df_bdd_train[\"weather\"] = df_bdd_train_attributes[\"weather\"]\n",
    "df_bdd_train = df_bdd_train.drop(columns = [\"labels\", \"timestamp\", \"attributes\"])\n",
    "df_bdd_train.head(3)"
   ]
  },
  {
   "cell_type": "code",
   "execution_count": null,
   "metadata": {},
   "outputs": [],
   "source": []
  },
  {
   "cell_type": "code",
   "execution_count": 5,
   "metadata": {},
   "outputs": [
    {
     "data": {
      "text/html": [
       "<div>\n",
       "<style scoped>\n",
       "    .dataframe tbody tr th:only-of-type {\n",
       "        vertical-align: middle;\n",
       "    }\n",
       "\n",
       "    .dataframe tbody tr th {\n",
       "        vertical-align: top;\n",
       "    }\n",
       "\n",
       "    .dataframe thead th {\n",
       "        text-align: right;\n",
       "    }\n",
       "</style>\n",
       "<table border=\"1\" class=\"dataframe\">\n",
       "  <thead>\n",
       "    <tr style=\"text-align: right;\">\n",
       "      <th></th>\n",
       "      <th>name</th>\n",
       "      <th>timeofday_x</th>\n",
       "      <th>weather_x</th>\n",
       "      <th>timeofday_y</th>\n",
       "      <th>weather_y</th>\n",
       "    </tr>\n",
       "  </thead>\n",
       "  <tbody>\n",
       "    <tr>\n",
       "      <th>0</th>\n",
       "      <td>b4b47b81-90c3dbae.jpg</td>\n",
       "      <td>daytime</td>\n",
       "      <td>snowy</td>\n",
       "      <td>daytime</td>\n",
       "      <td>snowy</td>\n",
       "    </tr>\n",
       "    <tr>\n",
       "      <th>1</th>\n",
       "      <td>b4b47b81-90c3dbae.jpg</td>\n",
       "      <td>daytime</td>\n",
       "      <td>cloudy</td>\n",
       "      <td>daytime</td>\n",
       "      <td>snowy</td>\n",
       "    </tr>\n",
       "    <tr>\n",
       "      <th>2</th>\n",
       "      <td>c4eb5462-657f5921.jpg</td>\n",
       "      <td>daytime</td>\n",
       "      <td>rainy</td>\n",
       "      <td>daytime</td>\n",
       "      <td>clear</td>\n",
       "    </tr>\n",
       "  </tbody>\n",
       "</table>\n",
       "</div>"
      ],
      "text/plain": [
       "                    name timeofday_x weather_x timeofday_y weather_y\n",
       "0  b4b47b81-90c3dbae.jpg     daytime     snowy     daytime     snowy\n",
       "1  b4b47b81-90c3dbae.jpg     daytime    cloudy     daytime     snowy\n",
       "2  c4eb5462-657f5921.jpg     daytime     rainy     daytime     clear"
      ]
     },
     "execution_count": 5,
     "metadata": {},
     "output_type": "execute_result"
    }
   ],
   "source": [
    "# Join generated with original valid\n",
    "df_join_generated_valid = pd.merge(df_bdd_generated, df_bdd_valid, on=['name'], how='inner')\n",
    "df_join_generated_valid.head(3)"
   ]
  },
  {
   "cell_type": "code",
   "execution_count": 6,
   "metadata": {},
   "outputs": [
    {
     "data": {
      "text/html": [
       "<div>\n",
       "<style scoped>\n",
       "    .dataframe tbody tr th:only-of-type {\n",
       "        vertical-align: middle;\n",
       "    }\n",
       "\n",
       "    .dataframe tbody tr th {\n",
       "        vertical-align: top;\n",
       "    }\n",
       "\n",
       "    .dataframe thead th {\n",
       "        text-align: right;\n",
       "    }\n",
       "</style>\n",
       "<table border=\"1\" class=\"dataframe\">\n",
       "  <thead>\n",
       "    <tr style=\"text-align: right;\">\n",
       "      <th></th>\n",
       "      <th>name</th>\n",
       "      <th>timeofday_x</th>\n",
       "      <th>weather_x</th>\n",
       "      <th>timeofday_y</th>\n",
       "      <th>weather_y</th>\n",
       "    </tr>\n",
       "  </thead>\n",
       "  <tbody>\n",
       "    <tr>\n",
       "      <th>0</th>\n",
       "      <td>705a2450-9bd22f6a.jpg</td>\n",
       "      <td>daytime</td>\n",
       "      <td>snowy</td>\n",
       "      <td>daytime</td>\n",
       "      <td>snowy</td>\n",
       "    </tr>\n",
       "    <tr>\n",
       "      <th>1</th>\n",
       "      <td>705a2450-9bd22f6a.jpg</td>\n",
       "      <td>daytime</td>\n",
       "      <td>snowy</td>\n",
       "      <td>daytime</td>\n",
       "      <td>snowy</td>\n",
       "    </tr>\n",
       "    <tr>\n",
       "      <th>2</th>\n",
       "      <td>705a2450-9bd22f6a.jpg</td>\n",
       "      <td>daytime</td>\n",
       "      <td>clear</td>\n",
       "      <td>daytime</td>\n",
       "      <td>snowy</td>\n",
       "    </tr>\n",
       "  </tbody>\n",
       "</table>\n",
       "</div>"
      ],
      "text/plain": [
       "                    name timeofday_x weather_x timeofday_y weather_y\n",
       "0  705a2450-9bd22f6a.jpg     daytime     snowy     daytime     snowy\n",
       "1  705a2450-9bd22f6a.jpg     daytime     snowy     daytime     snowy\n",
       "2  705a2450-9bd22f6a.jpg     daytime     clear     daytime     snowy"
      ]
     },
     "execution_count": 6,
     "metadata": {},
     "output_type": "execute_result"
    }
   ],
   "source": [
    "# Join generated with original train\n",
    "df_join_generated_train = pd.merge(df_bdd_generated, df_bdd_train, on=['name'], how='inner')\n",
    "df_join_generated_train.head(3)"
   ]
  },
  {
   "cell_type": "code",
   "execution_count": null,
   "metadata": {},
   "outputs": [],
   "source": []
  },
  {
   "cell_type": "code",
   "execution_count": 7,
   "metadata": {},
   "outputs": [],
   "source": [
    "# Confusion matrix time of day: generated vs. valid"
   ]
  },
  {
   "cell_type": "code",
   "execution_count": 8,
   "metadata": {},
   "outputs": [
    {
     "data": {
      "text/html": [
       "<div>\n",
       "<style scoped>\n",
       "    .dataframe tbody tr th:only-of-type {\n",
       "        vertical-align: middle;\n",
       "    }\n",
       "\n",
       "    .dataframe tbody tr th {\n",
       "        vertical-align: top;\n",
       "    }\n",
       "\n",
       "    .dataframe thead th {\n",
       "        text-align: right;\n",
       "    }\n",
       "</style>\n",
       "<table border=\"1\" class=\"dataframe\">\n",
       "  <thead>\n",
       "    <tr style=\"text-align: right;\">\n",
       "      <th>timeofday_y</th>\n",
       "      <th>daytime</th>\n",
       "    </tr>\n",
       "    <tr>\n",
       "      <th>timeofday_x</th>\n",
       "      <th></th>\n",
       "    </tr>\n",
       "  </thead>\n",
       "  <tbody>\n",
       "    <tr>\n",
       "      <th>daytime</th>\n",
       "      <td>271</td>\n",
       "    </tr>\n",
       "  </tbody>\n",
       "</table>\n",
       "</div>"
      ],
      "text/plain": [
       "timeofday_y  daytime\n",
       "timeofday_x         \n",
       "daytime          271"
      ]
     },
     "execution_count": 8,
     "metadata": {},
     "output_type": "execute_result"
    }
   ],
   "source": [
    "df_confusion_timeofday_generated_valid = pd.crosstab(df_join_generated_valid[\"timeofday_x\"], df_join_generated_valid[\"timeofday_y\"])\n",
    "df_confusion_timeofday_generated_valid"
   ]
  },
  {
   "cell_type": "code",
   "execution_count": 9,
   "metadata": {},
   "outputs": [],
   "source": [
    "# Confusion matrix time of day: generated vs. train"
   ]
  },
  {
   "cell_type": "code",
   "execution_count": 10,
   "metadata": {},
   "outputs": [
    {
     "data": {
      "text/html": [
       "<div>\n",
       "<style scoped>\n",
       "    .dataframe tbody tr th:only-of-type {\n",
       "        vertical-align: middle;\n",
       "    }\n",
       "\n",
       "    .dataframe tbody tr th {\n",
       "        vertical-align: top;\n",
       "    }\n",
       "\n",
       "    .dataframe thead th {\n",
       "        text-align: right;\n",
       "    }\n",
       "</style>\n",
       "<table border=\"1\" class=\"dataframe\">\n",
       "  <thead>\n",
       "    <tr style=\"text-align: right;\">\n",
       "      <th>timeofday_y</th>\n",
       "      <th>daytime</th>\n",
       "    </tr>\n",
       "    <tr>\n",
       "      <th>timeofday_x</th>\n",
       "      <th></th>\n",
       "    </tr>\n",
       "  </thead>\n",
       "  <tbody>\n",
       "    <tr>\n",
       "      <th>daytime</th>\n",
       "      <td>1726</td>\n",
       "    </tr>\n",
       "  </tbody>\n",
       "</table>\n",
       "</div>"
      ],
      "text/plain": [
       "timeofday_y  daytime\n",
       "timeofday_x         \n",
       "daytime         1726"
      ]
     },
     "execution_count": 10,
     "metadata": {},
     "output_type": "execute_result"
    }
   ],
   "source": [
    "df_confusion_timeofday_generated_train = pd.crosstab(df_join_generated_train[\"timeofday_x\"], df_join_generated_train[\"timeofday_y\"])\n",
    "df_confusion_timeofday_generated_train"
   ]
  },
  {
   "cell_type": "code",
   "execution_count": 11,
   "metadata": {},
   "outputs": [],
   "source": [
    "# Confusion matrix weather: generated vs. valid"
   ]
  },
  {
   "cell_type": "code",
   "execution_count": 12,
   "metadata": {},
   "outputs": [
    {
     "data": {
      "text/html": [
       "<div>\n",
       "<style scoped>\n",
       "    .dataframe tbody tr th:only-of-type {\n",
       "        vertical-align: middle;\n",
       "    }\n",
       "\n",
       "    .dataframe tbody tr th {\n",
       "        vertical-align: top;\n",
       "    }\n",
       "\n",
       "    .dataframe thead th {\n",
       "        text-align: right;\n",
       "    }\n",
       "</style>\n",
       "<table border=\"1\" class=\"dataframe\">\n",
       "  <thead>\n",
       "    <tr style=\"text-align: right;\">\n",
       "      <th>weather_y</th>\n",
       "      <th>clear</th>\n",
       "      <th>overcast</th>\n",
       "      <th>partly cloudy</th>\n",
       "      <th>rainy</th>\n",
       "      <th>snowy</th>\n",
       "    </tr>\n",
       "    <tr>\n",
       "      <th>weather_x</th>\n",
       "      <th></th>\n",
       "      <th></th>\n",
       "      <th></th>\n",
       "      <th></th>\n",
       "      <th></th>\n",
       "    </tr>\n",
       "  </thead>\n",
       "  <tbody>\n",
       "    <tr>\n",
       "      <th>clear</th>\n",
       "      <td>7</td>\n",
       "      <td>8</td>\n",
       "      <td>2</td>\n",
       "      <td>27</td>\n",
       "      <td>24</td>\n",
       "    </tr>\n",
       "    <tr>\n",
       "      <th>cloudy</th>\n",
       "      <td>12</td>\n",
       "      <td>7</td>\n",
       "      <td>1</td>\n",
       "      <td>29</td>\n",
       "      <td>23</td>\n",
       "    </tr>\n",
       "    <tr>\n",
       "      <th>rainy</th>\n",
       "      <td>21</td>\n",
       "      <td>10</td>\n",
       "      <td>11</td>\n",
       "      <td>13</td>\n",
       "      <td>7</td>\n",
       "    </tr>\n",
       "    <tr>\n",
       "      <th>snowy</th>\n",
       "      <td>27</td>\n",
       "      <td>14</td>\n",
       "      <td>5</td>\n",
       "      <td>8</td>\n",
       "      <td>15</td>\n",
       "    </tr>\n",
       "  </tbody>\n",
       "</table>\n",
       "</div>"
      ],
      "text/plain": [
       "weather_y  clear  overcast  partly cloudy  rainy  snowy\n",
       "weather_x                                              \n",
       "clear          7         8              2     27     24\n",
       "cloudy        12         7              1     29     23\n",
       "rainy         21        10             11     13      7\n",
       "snowy         27        14              5      8     15"
      ]
     },
     "execution_count": 12,
     "metadata": {},
     "output_type": "execute_result"
    }
   ],
   "source": [
    "df_confusion_weather_generated_valid = pd.crosstab(df_join_generated_valid[\"weather_x\"], df_join_generated_valid[\"weather_y\"])\n",
    "df_confusion_weather_generated_valid"
   ]
  },
  {
   "cell_type": "code",
   "execution_count": 13,
   "metadata": {},
   "outputs": [],
   "source": [
    "# Confusion matrix weather: generated vs. train"
   ]
  },
  {
   "cell_type": "code",
   "execution_count": 14,
   "metadata": {},
   "outputs": [
    {
     "data": {
      "text/html": [
       "<div>\n",
       "<style scoped>\n",
       "    .dataframe tbody tr th:only-of-type {\n",
       "        vertical-align: middle;\n",
       "    }\n",
       "\n",
       "    .dataframe tbody tr th {\n",
       "        vertical-align: top;\n",
       "    }\n",
       "\n",
       "    .dataframe thead th {\n",
       "        text-align: right;\n",
       "    }\n",
       "</style>\n",
       "<table border=\"1\" class=\"dataframe\">\n",
       "  <thead>\n",
       "    <tr style=\"text-align: right;\">\n",
       "      <th>weather_y</th>\n",
       "      <th>clear</th>\n",
       "      <th>overcast</th>\n",
       "      <th>partly cloudy</th>\n",
       "      <th>rainy</th>\n",
       "      <th>snowy</th>\n",
       "    </tr>\n",
       "    <tr>\n",
       "      <th>weather_x</th>\n",
       "      <th></th>\n",
       "      <th></th>\n",
       "      <th></th>\n",
       "      <th></th>\n",
       "      <th></th>\n",
       "    </tr>\n",
       "  </thead>\n",
       "  <tbody>\n",
       "    <tr>\n",
       "      <th>clear</th>\n",
       "      <td>56</td>\n",
       "      <td>40</td>\n",
       "      <td>32</td>\n",
       "      <td>160</td>\n",
       "      <td>144</td>\n",
       "    </tr>\n",
       "    <tr>\n",
       "      <th>cloudy</th>\n",
       "      <td>47</td>\n",
       "      <td>54</td>\n",
       "      <td>25</td>\n",
       "      <td>141</td>\n",
       "      <td>160</td>\n",
       "    </tr>\n",
       "    <tr>\n",
       "      <th>rainy</th>\n",
       "      <td>162</td>\n",
       "      <td>85</td>\n",
       "      <td>63</td>\n",
       "      <td>64</td>\n",
       "      <td>63</td>\n",
       "    </tr>\n",
       "    <tr>\n",
       "      <th>snowy</th>\n",
       "      <td>168</td>\n",
       "      <td>87</td>\n",
       "      <td>55</td>\n",
       "      <td>57</td>\n",
       "      <td>63</td>\n",
       "    </tr>\n",
       "  </tbody>\n",
       "</table>\n",
       "</div>"
      ],
      "text/plain": [
       "weather_y  clear  overcast  partly cloudy  rainy  snowy\n",
       "weather_x                                              \n",
       "clear         56        40             32    160    144\n",
       "cloudy        47        54             25    141    160\n",
       "rainy        162        85             63     64     63\n",
       "snowy        168        87             55     57     63"
      ]
     },
     "execution_count": 14,
     "metadata": {},
     "output_type": "execute_result"
    }
   ],
   "source": [
    "df_confusion_weather_generated_train = pd.crosstab(df_join_generated_train[\"weather_x\"], df_join_generated_train[\"weather_y\"])\n",
    "df_confusion_weather_generated_train"
   ]
  },
  {
   "cell_type": "code",
   "execution_count": null,
   "metadata": {},
   "outputs": [],
   "source": []
  }
 ],
 "metadata": {
  "kernelspec": {
   "display_name": "Python 3",
   "language": "python",
   "name": "python3"
  },
  "language_info": {
   "codemirror_mode": {
    "name": "ipython",
    "version": 3
   },
   "file_extension": ".py",
   "mimetype": "text/x-python",
   "name": "python",
   "nbconvert_exporter": "python",
   "pygments_lexer": "ipython3",
   "version": "3.6.7"
  }
 },
 "nbformat": 4,
 "nbformat_minor": 2
}

{
 "cells": [
  {
   "cell_type": "code",
   "execution_count": 1,
   "metadata": {},
   "outputs": [],
   "source": [
    "import os\n",
    "import json\n",
    "import pandas as pd"
   ]
  },
  {
   "cell_type": "markdown",
   "metadata": {},
   "source": [
    "### Set input and output paths of annotation file ###"
   ]
  },
  {
   "cell_type": "code",
   "execution_count": 2,
   "metadata": {},
   "outputs": [],
   "source": [
    "path_to_bdd_json = \"/home/SharedFolder/CurrentDatasets/bdd100k_sorted_coco/annotations/bdd100k_sorted_valid.json\"\n",
    "path_to_coco_json = \"/home/SharedFolder/CurrentDatasets/bdd100k_sorted_coco/annotations/bdd100k_sorted_valid_coco.json\""
   ]
  },
  {
   "cell_type": "markdown",
   "metadata": {},
   "source": [
    "### Define mapping between BDD and COCO categories ###"
   ]
  },
  {
   "cell_type": "code",
   "execution_count": 3,
   "metadata": {},
   "outputs": [],
   "source": [
    "dict_bdd2coco = {\n",
    "    \"bike\":\"bicycle\",\n",
    "    \"bus\":\"bus\",\n",
    "    \"car\":\"car\",\n",
    "    \"motor\":\"motorcycle\",\n",
    "    \"person\":\"person\",\n",
    "    \"rider\":\"person\",\n",
    "    \"traffic light\":\"traffic light\",\n",
    "    \"traffic sign\":\"stop sign\",\n",
    "    \"train\":\"train\",\n",
    "    \"truck\":\"truck\",\n",
    "}"
   ]
  },
  {
   "cell_type": "markdown",
   "metadata": {},
   "source": [
    "### Set COCO categories ###"
   ]
  },
  {
   "cell_type": "code",
   "execution_count": 4,
   "metadata": {},
   "outputs": [],
   "source": [
    "coco_categories = [\n",
    "    {\"supercategory\": \"person\", \"id\": 1, \"name\": \"person\"},\n",
    "    {\"supercategory\": \"vehicle\", \"id\": 2, \"name\": \"bicycle\"},\n",
    "    {\"supercategory\": \"vehicle\", \"id\": 3, \"name\": \"car\"},\n",
    "    {\"supercategory\": \"vehicle\", \"id\": 4, \"name\": \"motorcycle\"},\n",
    "    {\"supercategory\": \"vehicle\", \"id\": 5, \"name\": \"airplane\"},\n",
    "    {\"supercategory\": \"vehicle\", \"id\": 6, \"name\": \"bus\"},\n",
    "    {\"supercategory\": \"vehicle\", \"id\": 7, \"name\": \"train\"},\n",
    "    {\"supercategory\": \"vehicle\", \"id\": 8, \"name\": \"truck\"},\n",
    "    {\"supercategory\": \"vehicle\", \"id\": 9, \"name\": \"boat\"},\n",
    "    {\"supercategory\": \"outdoor\", \"id\": 10, \"name\": \"traffic light\"},\n",
    "    {\"supercategory\": \"outdoor\", \"id\": 11, \"name\": \"fire hydrant\"},\n",
    "    {\"supercategory\": \"outdoor\", \"id\": 13, \"name\": \"stop sign\"},\n",
    "    {\"supercategory\": \"outdoor\", \"id\": 14, \"name\": \"parking meter\"},\n",
    "    {\"supercategory\": \"outdoor\", \"id\": 15, \"name\": \"bench\"},\n",
    "    {\"supercategory\": \"animal\", \"id\": 16, \"name\": \"bird\"},\n",
    "    {\"supercategory\": \"animal\", \"id\": 17, \"name\": \"cat\"},\n",
    "    {\"supercategory\": \"animal\", \"id\": 18, \"name\": \"dog\"},\n",
    "    {\"supercategory\": \"animal\", \"id\": 19, \"name\": \"horse\"},\n",
    "    {\"supercategory\": \"animal\", \"id\": 20, \"name\": \"sheep\"},\n",
    "    {\"supercategory\": \"animal\", \"id\": 21, \"name\": \"cow\"},\n",
    "    {\"supercategory\": \"animal\", \"id\": 22, \"name\": \"elephant\"},\n",
    "    {\"supercategory\": \"animal\", \"id\": 23, \"name\": \"bear\"},\n",
    "    {\"supercategory\": \"animal\", \"id\": 24, \"name\": \"zebra\"},\n",
    "    {\"supercategory\": \"animal\", \"id\": 25, \"name\": \"giraffe\"},\n",
    "    {\"supercategory\": \"accessory\", \"id\": 27, \"name\": \"backpack\"},\n",
    "    {\"supercategory\": \"accessory\", \"id\": 28, \"name\": \"umbrella\"},\n",
    "    {\"supercategory\": \"accessory\", \"id\": 31, \"name\": \"handbag\"},\n",
    "    {\"supercategory\": \"accessory\", \"id\": 32, \"name\": \"tie\"},\n",
    "    {\"supercategory\": \"accessory\", \"id\": 33, \"name\": \"suitcase\"},\n",
    "    {\"supercategory\": \"sports\", \"id\": 34, \"name\": \"frisbee\"},\n",
    "    {\"supercategory\": \"sports\", \"id\": 35, \"name\": \"skis\"},\n",
    "    {\"supercategory\": \"sports\", \"id\": 36, \"name\": \"snowboard\"},\n",
    "    {\"supercategory\": \"sports\", \"id\": 37, \"name\": \"sports ball\"},\n",
    "    {\"supercategory\": \"sports\", \"id\": 38, \"name\": \"kite\"},\n",
    "    {\"supercategory\": \"sports\", \"id\": 39, \"name\": \"baseball bat\"},\n",
    "    {\"supercategory\": \"sports\", \"id\": 40, \"name\": \"baseball glove\"},\n",
    "    {\"supercategory\": \"sports\", \"id\": 41, \"name\": \"skateboard\"},\n",
    "    {\"supercategory\": \"sports\", \"id\": 42, \"name\": \"surfboard\"},\n",
    "    {\"supercategory\": \"sports\", \"id\": 43, \"name\": \"tennis racket\"},\n",
    "    {\"supercategory\": \"kitchen\", \"id\": 44, \"name\": \"bottle\"},\n",
    "    {\"supercategory\": \"kitchen\", \"id\": 46, \"name\": \"wine glass\"},\n",
    "    {\"supercategory\": \"kitchen\", \"id\": 47, \"name\": \"cup\"},\n",
    "    {\"supercategory\": \"kitchen\", \"id\": 48, \"name\": \"fork\"},\n",
    "    {\"supercategory\": \"kitchen\", \"id\": 49, \"name\": \"knife\"},\n",
    "    {\"supercategory\": \"kitchen\", \"id\": 50, \"name\": \"spoon\"},\n",
    "    {\"supercategory\": \"kitchen\", \"id\": 51, \"name\": \"bowl\"},\n",
    "    {\"supercategory\": \"food\", \"id\": 52, \"name\": \"banana\"},\n",
    "    {\"supercategory\": \"food\", \"id\": 53, \"name\": \"apple\"},\n",
    "    {\"supercategory\": \"food\", \"id\": 54, \"name\": \"sandwich\"},\n",
    "    {\"supercategory\": \"food\", \"id\": 55, \"name\": \"orange\"},\n",
    "    {\"supercategory\": \"food\", \"id\": 56, \"name\": \"broccoli\"},\n",
    "    {\"supercategory\": \"food\", \"id\": 57, \"name\": \"carrot\"},\n",
    "    {\"supercategory\": \"food\", \"id\": 58, \"name\": \"hot dog\"},\n",
    "    {\"supercategory\": \"food\", \"id\": 59, \"name\": \"pizza\"},\n",
    "    {\"supercategory\": \"food\", \"id\": 60, \"name\": \"donut\"},\n",
    "    {\"supercategory\": \"food\", \"id\": 61, \"name\": \"cake\"},\n",
    "    {\"supercategory\": \"furniture\", \"id\": 62, \"name\": \"chair\"},\n",
    "    {\"supercategory\": \"furniture\", \"id\": 63, \"name\": \"couch\"},\n",
    "    {\"supercategory\": \"furniture\", \"id\": 64, \"name\": \"potted plant\"},\n",
    "    {\"supercategory\": \"furniture\", \"id\": 65, \"name\": \"bed\"},\n",
    "    {\"supercategory\": \"furniture\", \"id\": 67, \"name\": \"dining table\"},\n",
    "    {\"supercategory\": \"furniture\", \"id\": 70, \"name\": \"toilet\"},\n",
    "    {\"supercategory\": \"electronic\", \"id\": 72, \"name\": \"tv\"},\n",
    "    {\"supercategory\": \"electronic\", \"id\": 73, \"name\": \"laptop\"},\n",
    "    {\"supercategory\": \"electronic\", \"id\": 74, \"name\": \"mouse\"},\n",
    "    {\"supercategory\": \"electronic\", \"id\": 75, \"name\": \"remote\"},\n",
    "    {\"supercategory\": \"electronic\", \"id\": 76, \"name\": \"keyboard\"},\n",
    "    {\"supercategory\": \"electronic\", \"id\": 77, \"name\": \"cell phone\"},\n",
    "    {\"supercategory\": \"appliance\", \"id\": 78, \"name\": \"microwave\"},\n",
    "    {\"supercategory\": \"appliance\", \"id\": 79, \"name\": \"oven\"},\n",
    "    {\"supercategory\": \"appliance\", \"id\": 80, \"name\": \"toaster\"},\n",
    "    {\"supercategory\": \"appliance\", \"id\": 81, \"name\": \"sink\"},\n",
    "    {\"supercategory\": \"appliance\", \"id\": 82, \"name\": \"refrigerator\"},\n",
    "    {\"supercategory\": \"indoor\", \"id\": 84, \"name\": \"book\"},\n",
    "    {\"supercategory\": \"indoor\", \"id\": 85, \"name\": \"clock\"},\n",
    "    {\"supercategory\": \"indoor\", \"id\": 86, \"name\": \"vase\"},\n",
    "    {\"supercategory\": \"indoor\", \"id\": 87, \"name\": \"scissors\"},\n",
    "    {\"supercategory\": \"indoor\", \"id\": 88, \"name\": \"teddy bear\"},\n",
    "    {\"supercategory\": \"indoor\", \"id\": 89, \"name\": \"hair drier\"},\n",
    "    {\"supercategory\": \"indoor\", \"id\": 90, \"name\": \"toothbrush\"}\n",
    "]"
   ]
  },
  {
   "cell_type": "markdown",
   "metadata": {},
   "source": [
    "### Set mapping between COCO category names and category ids ###"
   ]
  },
  {
   "cell_type": "code",
   "execution_count": 5,
   "metadata": {},
   "outputs": [],
   "source": [
    "df_coco = pd.DataFrame(coco_categories)\n",
    "dict_coco_catname2coco_catid = pd.Series(df_coco[\"id\"].values, index = df_coco[\"name\"]).to_dict()"
   ]
  },
  {
   "cell_type": "markdown",
   "metadata": {},
   "source": [
    "### Read BDD annotation file ###"
   ]
  },
  {
   "cell_type": "code",
   "execution_count": 6,
   "metadata": {},
   "outputs": [
    {
     "data": {
      "text/html": [
       "<div>\n",
       "<style scoped>\n",
       "    .dataframe tbody tr th:only-of-type {\n",
       "        vertical-align: middle;\n",
       "    }\n",
       "\n",
       "    .dataframe tbody tr th {\n",
       "        vertical-align: top;\n",
       "    }\n",
       "\n",
       "    .dataframe thead th {\n",
       "        text-align: right;\n",
       "    }\n",
       "</style>\n",
       "<table border=\"1\" class=\"dataframe\">\n",
       "  <thead>\n",
       "    <tr style=\"text-align: right;\">\n",
       "      <th></th>\n",
       "      <th>attributes</th>\n",
       "      <th>labels</th>\n",
       "      <th>name</th>\n",
       "      <th>timestamp</th>\n",
       "    </tr>\n",
       "  </thead>\n",
       "  <tbody>\n",
       "    <tr>\n",
       "      <th>0</th>\n",
       "      <td>{'weather': 'cloudy', 'scene': 'highway', 'tim...</td>\n",
       "      <td>[{'category': 'car', 'attributes': {'occluded'...</td>\n",
       "      <td>8fd38aa0-1859b602.jpg</td>\n",
       "      <td>1000</td>\n",
       "    </tr>\n",
       "    <tr>\n",
       "      <th>1</th>\n",
       "      <td>{'weather': 'cloudy', 'scene': 'city street', ...</td>\n",
       "      <td>[{'category': 'traffic sign', 'attributes': {'...</td>\n",
       "      <td>7568f72d-520dedbb.jpg</td>\n",
       "      <td>1000</td>\n",
       "    </tr>\n",
       "    <tr>\n",
       "      <th>10</th>\n",
       "      <td>{'weather': 'cloudy', 'scene': 'city street', ...</td>\n",
       "      <td>[{'category': 'car', 'attributes': {'occluded'...</td>\n",
       "      <td>79fbe809-247edeb2.jpg</td>\n",
       "      <td>1000</td>\n",
       "    </tr>\n",
       "  </tbody>\n",
       "</table>\n",
       "</div>"
      ],
      "text/plain": [
       "                                           attributes  \\\n",
       "0   {'weather': 'cloudy', 'scene': 'highway', 'tim...   \n",
       "1   {'weather': 'cloudy', 'scene': 'city street', ...   \n",
       "10  {'weather': 'cloudy', 'scene': 'city street', ...   \n",
       "\n",
       "                                               labels                   name  \\\n",
       "0   [{'category': 'car', 'attributes': {'occluded'...  8fd38aa0-1859b602.jpg   \n",
       "1   [{'category': 'traffic sign', 'attributes': {'...  7568f72d-520dedbb.jpg   \n",
       "10  [{'category': 'car', 'attributes': {'occluded'...  79fbe809-247edeb2.jpg   \n",
       "\n",
       "    timestamp  \n",
       "0        1000  \n",
       "1        1000  \n",
       "10       1000  "
      ]
     },
     "execution_count": 6,
     "metadata": {},
     "output_type": "execute_result"
    }
   ],
   "source": [
    "df_bdd = pd.read_json(path_to_bdd_json)\n",
    "df_bdd.head(3)"
   ]
  },
  {
   "cell_type": "markdown",
   "metadata": {},
   "source": [
    "### Drop unused columns, add image dimensions, index and rename name column ###"
   ]
  },
  {
   "cell_type": "code",
   "execution_count": 7,
   "metadata": {},
   "outputs": [
    {
     "data": {
      "text/html": [
       "<div>\n",
       "<style scoped>\n",
       "    .dataframe tbody tr th:only-of-type {\n",
       "        vertical-align: middle;\n",
       "    }\n",
       "\n",
       "    .dataframe tbody tr th {\n",
       "        vertical-align: top;\n",
       "    }\n",
       "\n",
       "    .dataframe thead th {\n",
       "        text-align: right;\n",
       "    }\n",
       "</style>\n",
       "<table border=\"1\" class=\"dataframe\">\n",
       "  <thead>\n",
       "    <tr style=\"text-align: right;\">\n",
       "      <th></th>\n",
       "      <th>labels</th>\n",
       "      <th>file_name</th>\n",
       "      <th>id</th>\n",
       "      <th>width</th>\n",
       "      <th>height</th>\n",
       "    </tr>\n",
       "  </thead>\n",
       "  <tbody>\n",
       "    <tr>\n",
       "      <th>0</th>\n",
       "      <td>[{'category': 'car', 'attributes': {'occluded'...</td>\n",
       "      <td>8fd38aa0-1859b602.jpg</td>\n",
       "      <td>0</td>\n",
       "      <td>1280</td>\n",
       "      <td>720</td>\n",
       "    </tr>\n",
       "    <tr>\n",
       "      <th>1</th>\n",
       "      <td>[{'category': 'traffic sign', 'attributes': {'...</td>\n",
       "      <td>7568f72d-520dedbb.jpg</td>\n",
       "      <td>1</td>\n",
       "      <td>1280</td>\n",
       "      <td>720</td>\n",
       "    </tr>\n",
       "    <tr>\n",
       "      <th>2</th>\n",
       "      <td>[{'category': 'car', 'attributes': {'occluded'...</td>\n",
       "      <td>79fbe809-247edeb2.jpg</td>\n",
       "      <td>2</td>\n",
       "      <td>1280</td>\n",
       "      <td>720</td>\n",
       "    </tr>\n",
       "  </tbody>\n",
       "</table>\n",
       "</div>"
      ],
      "text/plain": [
       "                                              labels              file_name  \\\n",
       "0  [{'category': 'car', 'attributes': {'occluded'...  8fd38aa0-1859b602.jpg   \n",
       "1  [{'category': 'traffic sign', 'attributes': {'...  7568f72d-520dedbb.jpg   \n",
       "2  [{'category': 'car', 'attributes': {'occluded'...  79fbe809-247edeb2.jpg   \n",
       "\n",
       "   id  width  height  \n",
       "0   0   1280     720  \n",
       "1   1   1280     720  \n",
       "2   2   1280     720  "
      ]
     },
     "execution_count": 7,
     "metadata": {},
     "output_type": "execute_result"
    }
   ],
   "source": [
    "df_bdd = df_bdd.drop(columns = [\"attributes\", \"timestamp\"])\n",
    "df_bdd = df_bdd.rename(columns = {\"name\": \"file_name\"}).reset_index(drop = True)\n",
    "df_bdd[\"id\"] = df_bdd.index\n",
    "df_bdd[\"width\"] = 1280\n",
    "df_bdd[\"height\"] = 720\n",
    "df_bdd.head(3)"
   ]
  },
  {
   "cell_type": "markdown",
   "metadata": {},
   "source": [
    "### Converting annotations ###"
   ]
  },
  {
   "cell_type": "code",
   "execution_count": 8,
   "metadata": {},
   "outputs": [],
   "source": [
    "def coco_annotations_for_file(df, row_idx):\n",
    "    df_row = df.iloc[row_idx, :]\n",
    "    df_anno = pd.DataFrame(df_row.loc[\"labels\"]).dropna(subset = [\"box2d\"])\n",
    "    if \"attributes\" in df_anno.columns:\n",
    "        df_anno = df_anno.drop(columns = [\"attributes\"], axis = 1)\n",
    "    if \"manualAttributes\" in df_anno.columns:\n",
    "        df_anno = df_anno.drop(columns = [\"manualAttributes\"], axis = 1)\n",
    "    if \"manualShape\" in df_anno.columns:\n",
    "        df_anno = df_anno.drop(columns = [\"manualShape\"], axis = 1)\n",
    "    if \"poly2d\" in df_anno.columns:\n",
    "        df_anno = df_anno.drop(columns = [\"poly2d\"], axis = 1)        \n",
    "    df_anno = pd.concat([df_anno, df_anno.loc[:, \"box2d\"].apply(pd.Series)], axis = 1).drop(columns = \"box2d\")\n",
    "    df_anno[\"image_id\"] = df_row.loc[\"id\"]\n",
    "    df_anno[\"category\"] = df_anno[\"category\"].map(dict_bdd2coco)\n",
    "    df_anno[\"category_id\"] = df_anno[\"category\"].map(dict_coco_catname2coco_catid)\n",
    "    df_anno[\"bboxw\"] = df_anno[\"x2\"] - df_anno[\"x1\"]\n",
    "    df_anno[\"bboxh\"] = df_anno[\"y2\"] - df_anno[\"y1\"]\n",
    "    df_anno[\"bbox\"] = df_anno[[\"x1\", \"y1\", \"bboxw\", \"bboxh\"]].values.tolist()\n",
    "    df_anno[\"iscrowd\"] = 0 # setting default value\n",
    "    df_anno[\"x3\"] = df_anno[\"x2\"] # top right\n",
    "    df_anno[\"y3\"] = df_anno[\"y1\"] # top right\n",
    "    df_anno[\"x4\"] = df_anno[\"x1\"] # bot left\n",
    "    df_anno[\"y4\"] = df_anno[\"y2\"] # bot left\n",
    "    df_anno[\"segmentation\"] = df_anno[[\"x1\", \"y1\", \"x4\", \"y4\", \"x2\", \"y2\", \"x3\", \"y3\"]].values.tolist() # following Pascal VOC 2 Coco template\n",
    "    df_anno[\"segmentation\"] = df_anno[\"segmentation\"].apply(lambda x: [x])\n",
    "    df_anno[\"area\"] = df_anno[\"bboxw\"] * df_anno[\"bboxh\"] # following Pascal VOC 2 Coco template\n",
    "    df_anno = df_anno.drop(columns = [\"x1\", \"y1\", \"x2\", \"y2\", \"x3\", \"y3\", \"x4\", \"y4\", \"bboxw\", \"bboxh\", \"category\"])\n",
    "    return df_anno"
   ]
  },
  {
   "cell_type": "code",
   "execution_count": 9,
   "metadata": {},
   "outputs": [
    {
     "data": {
      "text/html": [
       "<div>\n",
       "<style scoped>\n",
       "    .dataframe tbody tr th:only-of-type {\n",
       "        vertical-align: middle;\n",
       "    }\n",
       "\n",
       "    .dataframe tbody tr th {\n",
       "        vertical-align: top;\n",
       "    }\n",
       "\n",
       "    .dataframe thead th {\n",
       "        text-align: right;\n",
       "    }\n",
       "</style>\n",
       "<table border=\"1\" class=\"dataframe\">\n",
       "  <thead>\n",
       "    <tr style=\"text-align: right;\">\n",
       "      <th></th>\n",
       "      <th>id</th>\n",
       "      <th>image_id</th>\n",
       "      <th>category_id</th>\n",
       "      <th>bbox</th>\n",
       "      <th>iscrowd</th>\n",
       "      <th>segmentation</th>\n",
       "      <th>area</th>\n",
       "    </tr>\n",
       "  </thead>\n",
       "  <tbody>\n",
       "    <tr>\n",
       "      <th>0</th>\n",
       "      <td>0</td>\n",
       "      <td>0</td>\n",
       "      <td>3</td>\n",
       "      <td>[274.451658, 249.365353, 68.893732, 31.4514850...</td>\n",
       "      <td>0</td>\n",
       "      <td>[[274.451658, 249.365353, 274.451658, 280.8168...</td>\n",
       "      <td>2166.810179</td>\n",
       "    </tr>\n",
       "    <tr>\n",
       "      <th>1</th>\n",
       "      <td>1</td>\n",
       "      <td>0</td>\n",
       "      <td>3</td>\n",
       "      <td>[337.35463, 261.346872, 28.45610700000003, 22....</td>\n",
       "      <td>0</td>\n",
       "      <td>[[337.35463, 261.346872, 337.35463, 283.81222,...</td>\n",
       "      <td>639.276346</td>\n",
       "    </tr>\n",
       "    <tr>\n",
       "      <th>2</th>\n",
       "      <td>2</td>\n",
       "      <td>0</td>\n",
       "      <td>3</td>\n",
       "      <td>[452.676746, 264.342253, 64.40066200000001, 25...</td>\n",
       "      <td>0</td>\n",
       "      <td>[[452.676746, 264.342253, 452.676746, 289.8029...</td>\n",
       "      <td>1639.687609</td>\n",
       "    </tr>\n",
       "  </tbody>\n",
       "</table>\n",
       "</div>"
      ],
      "text/plain": [
       "   id  image_id  category_id  \\\n",
       "0   0         0            3   \n",
       "1   1         0            3   \n",
       "2   2         0            3   \n",
       "\n",
       "                                                bbox  iscrowd  \\\n",
       "0  [274.451658, 249.365353, 68.893732, 31.4514850...        0   \n",
       "1  [337.35463, 261.346872, 28.45610700000003, 22....        0   \n",
       "2  [452.676746, 264.342253, 64.40066200000001, 25...        0   \n",
       "\n",
       "                                        segmentation         area  \n",
       "0  [[274.451658, 249.365353, 274.451658, 280.8168...  2166.810179  \n",
       "1  [[337.35463, 261.346872, 337.35463, 283.81222,...   639.276346  \n",
       "2  [[452.676746, 264.342253, 452.676746, 289.8029...  1639.687609  "
      ]
     },
     "execution_count": 9,
     "metadata": {},
     "output_type": "execute_result"
    }
   ],
   "source": [
    "df_coco_annos = pd.concat([coco_annotations_for_file(df_bdd, i) for i in range(df_bdd.shape[0])], ignore_index = True)\n",
    "df_coco_annos = df_coco_annos.reset_index(drop = True)\n",
    "df_coco_annos[\"id\"] = df_coco_annos.index\n",
    "df_coco_annos.head(3)"
   ]
  },
  {
   "cell_type": "markdown",
   "metadata": {},
   "source": [
    "### Building COCO annotation file ###"
   ]
  },
  {
   "cell_type": "code",
   "execution_count": 10,
   "metadata": {},
   "outputs": [
    {
     "data": {
      "text/html": [
       "<div>\n",
       "<style scoped>\n",
       "    .dataframe tbody tr th:only-of-type {\n",
       "        vertical-align: middle;\n",
       "    }\n",
       "\n",
       "    .dataframe tbody tr th {\n",
       "        vertical-align: top;\n",
       "    }\n",
       "\n",
       "    .dataframe thead th {\n",
       "        text-align: right;\n",
       "    }\n",
       "</style>\n",
       "<table border=\"1\" class=\"dataframe\">\n",
       "  <thead>\n",
       "    <tr style=\"text-align: right;\">\n",
       "      <th></th>\n",
       "      <th>file_name</th>\n",
       "      <th>id</th>\n",
       "      <th>width</th>\n",
       "      <th>height</th>\n",
       "    </tr>\n",
       "  </thead>\n",
       "  <tbody>\n",
       "    <tr>\n",
       "      <th>0</th>\n",
       "      <td>8fd38aa0-1859b602.jpg</td>\n",
       "      <td>0</td>\n",
       "      <td>1280</td>\n",
       "      <td>720</td>\n",
       "    </tr>\n",
       "    <tr>\n",
       "      <th>1</th>\n",
       "      <td>7568f72d-520dedbb.jpg</td>\n",
       "      <td>1</td>\n",
       "      <td>1280</td>\n",
       "      <td>720</td>\n",
       "    </tr>\n",
       "    <tr>\n",
       "      <th>2</th>\n",
       "      <td>79fbe809-247edeb2.jpg</td>\n",
       "      <td>2</td>\n",
       "      <td>1280</td>\n",
       "      <td>720</td>\n",
       "    </tr>\n",
       "  </tbody>\n",
       "</table>\n",
       "</div>"
      ],
      "text/plain": [
       "               file_name  id  width  height\n",
       "0  8fd38aa0-1859b602.jpg   0   1280     720\n",
       "1  7568f72d-520dedbb.jpg   1   1280     720\n",
       "2  79fbe809-247edeb2.jpg   2   1280     720"
      ]
     },
     "execution_count": 10,
     "metadata": {},
     "output_type": "execute_result"
    }
   ],
   "source": [
    "df_bdd = df_bdd.drop(columns = [\"labels\"], axis = 1)\n",
    "df_bdd.head(3)"
   ]
  },
  {
   "cell_type": "code",
   "execution_count": 11,
   "metadata": {},
   "outputs": [
    {
     "data": {
      "text/html": [
       "<div>\n",
       "<style scoped>\n",
       "    .dataframe tbody tr th:only-of-type {\n",
       "        vertical-align: middle;\n",
       "    }\n",
       "\n",
       "    .dataframe tbody tr th {\n",
       "        vertical-align: top;\n",
       "    }\n",
       "\n",
       "    .dataframe thead th {\n",
       "        text-align: right;\n",
       "    }\n",
       "</style>\n",
       "<table border=\"1\" class=\"dataframe\">\n",
       "  <thead>\n",
       "    <tr style=\"text-align: right;\">\n",
       "      <th></th>\n",
       "      <th>id</th>\n",
       "      <th>image_id</th>\n",
       "      <th>category_id</th>\n",
       "      <th>bbox</th>\n",
       "      <th>iscrowd</th>\n",
       "      <th>segmentation</th>\n",
       "      <th>area</th>\n",
       "    </tr>\n",
       "  </thead>\n",
       "  <tbody>\n",
       "    <tr>\n",
       "      <th>0</th>\n",
       "      <td>0</td>\n",
       "      <td>0</td>\n",
       "      <td>3</td>\n",
       "      <td>[274.451658, 249.365353, 68.893732, 31.4514850...</td>\n",
       "      <td>0</td>\n",
       "      <td>[[274.451658, 249.365353, 274.451658, 280.8168...</td>\n",
       "      <td>2166.810179</td>\n",
       "    </tr>\n",
       "    <tr>\n",
       "      <th>1</th>\n",
       "      <td>1</td>\n",
       "      <td>0</td>\n",
       "      <td>3</td>\n",
       "      <td>[337.35463, 261.346872, 28.45610700000003, 22....</td>\n",
       "      <td>0</td>\n",
       "      <td>[[337.35463, 261.346872, 337.35463, 283.81222,...</td>\n",
       "      <td>639.276346</td>\n",
       "    </tr>\n",
       "    <tr>\n",
       "      <th>2</th>\n",
       "      <td>2</td>\n",
       "      <td>0</td>\n",
       "      <td>3</td>\n",
       "      <td>[452.676746, 264.342253, 64.40066200000001, 25...</td>\n",
       "      <td>0</td>\n",
       "      <td>[[452.676746, 264.342253, 452.676746, 289.8029...</td>\n",
       "      <td>1639.687609</td>\n",
       "    </tr>\n",
       "  </tbody>\n",
       "</table>\n",
       "</div>"
      ],
      "text/plain": [
       "   id  image_id  category_id  \\\n",
       "0   0         0            3   \n",
       "1   1         0            3   \n",
       "2   2         0            3   \n",
       "\n",
       "                                                bbox  iscrowd  \\\n",
       "0  [274.451658, 249.365353, 68.893732, 31.4514850...        0   \n",
       "1  [337.35463, 261.346872, 28.45610700000003, 22....        0   \n",
       "2  [452.676746, 264.342253, 64.40066200000001, 25...        0   \n",
       "\n",
       "                                        segmentation         area  \n",
       "0  [[274.451658, 249.365353, 274.451658, 280.8168...  2166.810179  \n",
       "1  [[337.35463, 261.346872, 337.35463, 283.81222,...   639.276346  \n",
       "2  [[452.676746, 264.342253, 452.676746, 289.8029...  1639.687609  "
      ]
     },
     "execution_count": 11,
     "metadata": {},
     "output_type": "execute_result"
    }
   ],
   "source": [
    "df_coco_annos.head(3)"
   ]
  },
  {
   "cell_type": "code",
   "execution_count": 12,
   "metadata": {},
   "outputs": [],
   "source": [
    "output = {\n",
    "    \"images\": list(df_bdd.T.to_dict().values()),\n",
    "    \"annotations\": list(df_coco_annos.T.to_dict().values()),\n",
    "    \"categories\": coco_categories\n",
    "}\n",
    "if os.path.exists(path_to_coco_json):\n",
    "    os.remove(path_to_coco_json)\n",
    "with open(path_to_coco_json, \"w\") as f:\n",
    "    f.write(json.dumps(output, indent = 4))"
   ]
  },
  {
   "cell_type": "code",
   "execution_count": null,
   "metadata": {},
   "outputs": [],
   "source": []
  }
 ],
 "metadata": {
  "kernelspec": {
   "display_name": "Python 3",
   "language": "python",
   "name": "python3"
  },
  "language_info": {
   "codemirror_mode": {
    "name": "ipython",
    "version": 3
   },
   "file_extension": ".py",
   "mimetype": "text/x-python",
   "name": "python",
   "nbconvert_exporter": "python",
   "pygments_lexer": "ipython3",
   "version": "3.6.7"
  }
 },
 "nbformat": 4,
 "nbformat_minor": 2
}
